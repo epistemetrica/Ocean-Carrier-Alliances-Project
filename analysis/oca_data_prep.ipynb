{
 "cells": [
  {
   "cell_type": "markdown",
   "metadata": {},
   "source": [
    "# Data Preparation for Ocean Carrier Alliances Project\n",
    "\n",
    "This notebook loads, cleans, and prepares the data used to analyse strategic alliances among containerized maritime freight carriers, which we call Ocean Carrier Alliances (OCAs). The primary data comes from S&P's [PIERS BOL database](https://www.spglobal.com/marketintelligence/en/mi/products/piers.html), which is processed via the seperate PIERS Data Project. To the PIERS data, we add data on alliance start and end dates as well as geographic scope from the [Federal Maritime Commission Agreement Library](https://www2.fmc.gov/FMC.Agreements.Web/Public), as well as [vessel capacity data](https://ndclibrary.sec.usace.army.mil/searchResults?series=Foreign%20Traffic%20Vessel%20Entrances%20Clearances) from the US Army Corp of Engineers. \n",
    "\n",
    "See the github repo and the README for more detail. "
   ]
  },
  {
   "cell_type": "code",
   "execution_count": 1,
   "metadata": {},
   "outputs": [],
   "source": [
    "#preliminaries \n",
    "import numpy as np\n",
    "import pandas as pd #v2.1.3\n",
    "import polars as pl #v1.1.0\n",
    "import plotly_express as px #v0.4.1 \n",
    "import datetime as dt\n",
    "from sklearn.cluster import HDBSCAN\n",
    "import time\n",
    "import os\n",
    "import geopy.distance\n",
    "from geopy.geocoders import Bing\n",
    "from geopy.extra.rate_limiter import RateLimiter\n",
    "\n",
    "#display settings\n",
    "pd.set_option('display.max_columns', None)\n",
    "\n",
    "#enable string cache for polars categoricals\n",
    "pl.enable_string_cache()"
   ]
  },
  {
   "cell_type": "markdown",
   "metadata": {},
   "source": [
    "## PIERS BOL Data\n",
    "\n",
    "Our primary dataset for this study comes from the [PIERS Data Project](https://github.com/epistemetrica/PIERS-Data-Project). The initial codeblock loads the relevant columns from this database into seperate Polars LazyFrames for the import and export data, and subsequent blocks address the various issues in the data. Although the PIERS Data Project includes data from Q12005 through Q12024, we limit the data here to the beginning of 2007 through the end of 2023, as the pre-2007 has outstanding structural issues and we prefer to look at entire years. "
   ]
  },
  {
   "cell_type": "code",
   "execution_count": 2,
   "metadata": {},
   "outputs": [],
   "source": [
    "#load PIERS bol data lazyframes\n",
    "imports_lf = (\n",
    "    pl.scan_parquet('../data/piers_raw/imports/*.parquet', parallel='columns')\n",
    "    #drop unused columns \n",
    "    .select(\n",
    "        #'weight',\n",
    "        #'weight_unit',\n",
    "        #'qty',\n",
    "        #'qty_type',\n",
    "        'teus',\n",
    "        #'value_est',\n",
    "        'date',\n",
    "        #'container_piece_count',\n",
    "        #'commod_short_desc_qty',\n",
    "        'origin_territory',\n",
    "        'origin_region',\n",
    "        'arrival_port_code',\n",
    "        'arrival_port_name',\n",
    "        'departure_port_code',\n",
    "        'departure_port_name',\n",
    "        #'dest_final',\n",
    "        'coast_region',\n",
    "        #'clearing_district',\n",
    "        #'place_receipt',\n",
    "        #'shipper_name',\n",
    "        #'shipper_address',\n",
    "        #'consignee_name',\n",
    "        #'consignee_address',\n",
    "        #'notify_party1_name',\n",
    "        #'notify_party1_address',\n",
    "        #'notify_party2_name',\n",
    "        #'notify_party2_address',\n",
    "        #'commod_desc_raw',\n",
    "        #'container_id_marks',\n",
    "        #'marks_desc',\n",
    "        'hs_code',\n",
    "        #'joc_code',\n",
    "        #'commod_short_desc',\n",
    "        #'container_ids',\n",
    "        'carrier_name',\n",
    "        'carrier_scac',\n",
    "        'vessel_name',\n",
    "        'voyage_number',\n",
    "        #'precarrier',\n",
    "        'vessel_id',\n",
    "        #'inbond_code',\n",
    "        #'transport_mode',\n",
    "        #'bol_number',\n",
    "        'direction',\n",
    "        'bol_id',\n",
    "        'year',\n",
    "        'month',\n",
    "        'lane_id'\n",
    "    )\n",
    "    #filter dates\n",
    "    .filter(pl.col('year').is_in(range(2007, 2024)))\n",
    ")\n",
    "\n",
    "exports_lf = (\n",
    "    pl.scan_parquet('../data/piers_raw/exports/piers_exports_raw.parquet', parallel='columns') \n",
    "    #drop unused columns\n",
    "    .select(\n",
    "        #'shipper',\n",
    "        #'shipper_address',\n",
    "        #'weight',\n",
    "        #'weight_unit',\n",
    "        #'qty',\n",
    "        #'quantity_type',\n",
    "        'teus',\n",
    "        'carrier_name',\n",
    "        'carrier_scac',\n",
    "        'vessel_name',\n",
    "        'voyage_number',\n",
    "        #'bol_number',\n",
    "        'vessel_id',\n",
    "        #'value_est',\n",
    "        'departure_port_code',\n",
    "        'departure_port_name',\n",
    "        #'container_ids',\n",
    "        #'container_piece_count',\n",
    "        'coast_region',\n",
    "        #'commod_desc_raw',\n",
    "        #'commod_short_desc',\n",
    "        'hs_code',\n",
    "        #'joc_code',\n",
    "        #'commod_short_desc_qty',\n",
    "        'date',\n",
    "        #'origin',\n",
    "        'dest_territory',\n",
    "        'dest_region',\n",
    "        'arrival_port_code',\n",
    "        'arrival_port_name',\n",
    "        'direction',\n",
    "        'bol_id',\n",
    "        'year',\n",
    "        'month',\n",
    "        'lane_id'\n",
    "    )\n",
    "    #filter dates\n",
    "    .filter(pl.col('year').is_in(range(2007, 2024)))\n",
    ")\n",
    "\n",
    "#create main lazyframe\n",
    "main_lf = pl.concat([imports_lf, exports_lf], how='diagonal')"
   ]
  },
  {
   "cell_type": "code",
   "execution_count": 3,
   "metadata": {},
   "outputs": [],
   "source": [
    "#notebook functions\n",
    "\n",
    "#fill nulls in volume cols with mean\n",
    "def fill_volume(lf):\n",
    "    '''ad hod function to fill volume columns with their means'''\n",
    "    return (\n",
    "        lf\n",
    "        .with_columns([\n",
    "            pl.col('teus').replace(0,None).fill_null(strategy='mean'),\n",
    "            #pl.col('weight').replace(0,None).fill_null(strategy='mean'),\n",
    "            #pl.col('qty').replace(0,None).fill_null(strategy='mean')\n",
    "            ])\n",
    "        )\n",
    "\n",
    "#plotly graph inspecting nulls over time by group\n",
    "def nulls_over_time_plotly(data_lf, group_var, time_var, value_var, title=False):\n",
    "    '''\n",
    "    Plots proportion of null values over time by group.\n",
    "    INPUTS:\n",
    "        data_lf - polars lazyframe containing the relevant data\n",
    "        group_var - str - the name of the column by which to group\n",
    "        time_var - str - the name of the time column (e.g., year, month) over which values will be counted\n",
    "        value_var - str - the name of the column containing the variable in question\n",
    "        title (default=False) - str - the title of the graph\n",
    "    OUTPUT:\n",
    "        a plotly express figure\n",
    "    DEPENDS ON:\n",
    "        polars\n",
    "        plotly express \n",
    "    '''\n",
    "    df = (\n",
    "        #select relevant columns\n",
    "        data_lf.select([group_var, time_var, value_var])\n",
    "        #group by, creating null count and non-null count cols\n",
    "        .group_by(group_var, time_var)\n",
    "        .agg([pl.col(value_var).null_count().alias('null_count'),\n",
    "                pl.col(value_var).count().alias('count')])\n",
    "        #compute percent null and fill new column\n",
    "        .with_columns((pl.col('null_count')/(pl.col('count')+pl.col('null_count'))).alias('null_percent'))\n",
    "        #cast group col to string to allow sensible ordering of legend\n",
    "        .cast({group_var:pl.Utf8})\n",
    "        #sort by date (to allow proper visualization of lines) and group (for legend ordering) \n",
    "        .sort(time_var, group_var)\n",
    "    ).collect()\n",
    "    #plot\n",
    "    fig = px.line(\n",
    "        data_frame=df,\n",
    "        x=time_var, y='null_percent',\n",
    "        color=group_var,\n",
    "        title= 'Count of nulls over time by source frame.' if not title else title\n",
    "    )\n",
    "    fig.show()\n",
    "    del df\n",
    "\n",
    "#fill nulls over groups given a single unique value per group\n",
    "def fill_nulls_by_group(data_lf, group_vars, val_var):\n",
    "    '''Fills null values by group if and only if the val_var for that group contains exactly one non-null unique value.\n",
    "    INPUTS:\n",
    "        data_lf - polars lazyframe containing the relevant data\n",
    "        group_vars - iterable - the names of the columns by which groups will be created\n",
    "        val_var - string - the name of the column in which nulls will be filled\n",
    "    OUTPUT:\n",
    "        filled_lf - the resultant lazyframe \n",
    "    DEPENDS ON:\n",
    "        polars - current version written in polars 0.20.1\n",
    "    '''\n",
    "    filled_lf = (\n",
    "        data_lf.with_columns(\n",
    "            #if the group contains exactly one unique value: \n",
    "            pl.when(pl.col(val_var).drop_nulls().unique(maintain_order=True).len().over(group_vars)==1)\n",
    "            #then fill the group with that value\n",
    "            .then(pl.col(val_var).fill_null(pl.col(val_var).drop_nulls().unique(maintain_order=True).first().over(group_vars)))\n",
    "            #otherwise do nothing\n",
    "            .otherwise(pl.col(val_var))\n",
    "            )\n",
    "        )\n",
    "    return filled_lf\n",
    "\n",
    "#assign primary carrier\n",
    "def add_primary_carrier(lf):\n",
    "    '''ad hoc function to find primary carrier for each vessel and indicate cargo sharing'''\n",
    "    lf = (\n",
    "        #sum teus over vessel, month, and carrier\n",
    "        lf.with_columns(\n",
    "            pl.col('teus').sum()\n",
    "            .over('vessel_id', 'month', 'unified_carrier_scac')\n",
    "            .alias('sum_teus')\n",
    "            )\n",
    "        #select carrier that moved the most cargo on that vessel during that month\n",
    "        .with_columns(\n",
    "            pl.col('unified_carrier_scac')\n",
    "            .sort_by('sum_teus', descending=True)\n",
    "            .drop_nulls().first()\n",
    "            .over('vessel_id', 'month')\n",
    "            .alias('vessel_owner')\n",
    "            )\n",
    "        #add bool col if bol is from primary carrier\n",
    "        .with_columns(\n",
    "            (pl.col('unified_carrier_scac')==pl.col('vessel_owner'))\n",
    "            .alias('primary_cargo')\n",
    "            )\n",
    "        #set related columns to missing when vessel_id is missing\n",
    "        .with_columns(\n",
    "            pl.when(pl.col('vessel_id').is_null()).then(pl.lit(None)).otherwise(pl.col('vessel_owner')).alias('vessel_owner'),\n",
    "            pl.when(pl.col('vessel_id').is_null()).then(pl.lit(None)).otherwise(pl.col('primary_cargo')).alias('primary_cargo')\n",
    "        )\n",
    "        #add shared teu column for convenience \n",
    "        .with_columns(\n",
    "            (pl.col('teus')*(1-pl.col('primary_cargo')))\n",
    "            .alias('shared_teus')\n",
    "        )\n",
    "        #drop ad hoc sum_teus col\n",
    "        .drop('sum_teus')\n",
    "    )\n",
    "    return lf\n",
    "\n",
    "#plot proportion of shared cargo over time\n",
    "def sharing_over_time_plotly(data_lf, group_var, include_missing_vessels=True, limit=10, title=False):\n",
    "    '''\n",
    "    Plots proportion of shared cargo over time (months) by group_var.\n",
    "    INPUTS:\n",
    "        data_lf - polars lazyframe containing the relevant data\n",
    "        group_var - str - the name of the column by which to group\n",
    "        include_missing_vessels - bool - default=True, when False, drops missing vessel_ids\n",
    "        title (default=False) - str - the title of the graph\n",
    "    OUTPUT:\n",
    "        a plotly express figure\n",
    "    DEPENDS ON:\n",
    "        polars\n",
    "        plotly express \n",
    "    '''\n",
    "    if not include_missing_vessels:\n",
    "        df = data_lf.drop_nulls('vessel_id')\n",
    "    else:\n",
    "        df = data_lf\n",
    "    \n",
    "    df = (\n",
    "        #select relevant columns\n",
    "        df.select([group_var, 'month', 'primary_cargo', 'teus'])\n",
    "        #sum teus over each group-month-shared \n",
    "        .group_by(group_var, 'month')\n",
    "        .agg(\n",
    "            (pl.col('teus')*pl.col('primary_cargo')).sum().alias('total_primary'),\n",
    "            pl.col('teus').sum().alias('total_teus')\n",
    "        )\n",
    "        #create proportion shared\n",
    "        .with_columns((1-(pl.col('total_primary')/pl.col('total_teus'))).alias('prop_shared'))\n",
    "        #cast group col to string to allow sensible ordering of legend\n",
    "        .cast({group_var:pl.Utf8})\n",
    "        #sort by date (to allow proper visualization of lines) and group (for legend ordering) \n",
    "        .sort('month')\n",
    "    ).collect()\n",
    "\n",
    "    #limit categories\n",
    "    top_groups = (\n",
    "        data_lf.group_by(group_var)\n",
    "        .agg(pl.col('teus').sum())\n",
    "        .sort('teus', descending=True)\n",
    "        .select(group_var)\n",
    "        .limit(limit)\n",
    "        .collect()\n",
    "        .to_series()\n",
    "        .cast(pl.Utf8)\n",
    "    )\n",
    "    \n",
    "    #plot\n",
    "    fig = px.line(\n",
    "        data_frame=df.filter(pl.col(group_var).is_in(top_groups)).with_columns(pl.col('month').str.to_datetime('%Y%m')),\n",
    "        x='month', y='prop_shared',\n",
    "        color=group_var,\n",
    "        title= 'Proportion of shared cargo over time.' if not title else title,\n",
    "        labels={\n",
    "            'prop_shared':'Proportion of cargo from non-primary carrier',\n",
    "            'month':'Month'\n",
    "        }\n",
    "    )\n",
    "    fig.show()\n",
    "\n",
    "def cluster_dates(lf, samples=None, save_parquet=None):\n",
    "    '''\n",
    "    Finds arrival/departure date using the following algorithm:\n",
    "        1. Create 1-D dataframe of dates for each vessel-lane pair, \n",
    "            with one date occurance per TEU processed on that date\n",
    "        2. Find clusers of dates using SciKitLearn's HDBSCAN\n",
    "        3. Assign mode date of each cluster as the arrival/departure date\n",
    "        4. Assign any bols with dates occuring between the modes as arriving/departing\n",
    "            on the date of the preceeding mode.\n",
    "        5. Join imputed arrival/departure dates into main lazyframe. \n",
    "    INPUTS\n",
    "        lf - a polars LazyFrame containing the relevant data\n",
    "        samples - int - number of random samples \n",
    "        save_parquet - path - the location where the clustering output will be saved \n",
    "    OUTPUTS\n",
    "        lf - the original lazyframe with imputed dates \n",
    "    '''\n",
    "    #create relevant columns in main lf\n",
    "    lf = (\n",
    "        lf\n",
    "        #create us_port\n",
    "        .with_columns(\n",
    "            pl.when(pl.col('direction')=='import')\n",
    "            .then(pl.col('arrival_port_code'))\n",
    "            .otherwise(pl.col('departure_port_code'))\n",
    "            .alias('us_port')\n",
    "        )\n",
    "        #create vessel_port_pair\n",
    "        .with_columns(\n",
    "            (pl.col('vessel_id').cast(pl.Utf8)+'_'+pl.col('us_port').cast(pl.Utf8))\n",
    "            .cast(pl.Categorical)\n",
    "            .alias('vessel_port_pair')\n",
    "        )\n",
    "    )\n",
    "    #collect relevant columns from lf\n",
    "    begin_collect = time.time()\n",
    "    df = (\n",
    "        lf.group_by('date', 'vessel_port_pair')\n",
    "        #get sum of TEUs on each date \n",
    "        .agg(pl.col('teus').sum().alias('sum_teus'))\n",
    "        #drop missing vessel-port pairs\n",
    "        .drop_nulls(subset=['vessel_port_pair'])\n",
    "        #sort by date\n",
    "        .sort('date')\n",
    "        .collect()\n",
    "    )\n",
    "    print('clustering data collected; time = {:.2f} minutes'.format((time.time() - begin_collect)/60))\n",
    "    #initialize variables\n",
    "    samples=samples \n",
    "    if samples:\n",
    "        pairs = df.select('vessel_port_pair').unique().sample(samples).to_series()\n",
    "    else:\n",
    "        pairs = df.select('vessel_port_pair').unique().to_series()\n",
    "    pairs_df = pl.DataFrame()\n",
    "    #loop through vessel-port pairs\n",
    "    print('Looping through vessel-port pairs')\n",
    "    for i in range(len(pairs)):\n",
    "        if i%1000 == 0:\n",
    "            begin_block = time.time()\n",
    "        pair = pairs[i]\n",
    "        #make single-column dataframe of dates where each date corresponds to a single TEU that arrived on that day \n",
    "        pair_1d = (\n",
    "            df.filter(pl.col('vessel_port_pair')==pair)\n",
    "            .select('date', pl.col('sum_teus').ceil())\n",
    "            #explode dates by each teu \n",
    "            .select(pl.exclude('sum_teus').repeat_by('sum_teus').explode())\n",
    "        )\n",
    "        #find minimum number of occurances of a single date (needed for HDBSCAN param)\n",
    "        min_sample = pair_1d.group_by('date').agg(pl.col('date').count().alias('count')).min().row(0)[1]\n",
    "        #skip empty pairs\n",
    "        if min_sample == 0:\n",
    "            continue\n",
    "        #skip vessel_port pairs with less than 2 dates\n",
    "        if len(pair_1d) < 2:\n",
    "            continue\n",
    "        #instantiate clusterer\n",
    "        clusterer = HDBSCAN(min_cluster_size=50, min_samples=min_sample) #we need to find a dynamic way of seleting these parameters\n",
    "        #get clusters\n",
    "        clusterer.fit(pair_1d)\n",
    "        #add back to pair_1d\n",
    "        pair_df = (\n",
    "            pair_1d\n",
    "            #add cluster column\n",
    "            .with_columns(\n",
    "                pl.Series(name='cluster', values=clusterer.labels_)\n",
    "            )\n",
    "            #add imputed date column\n",
    "            .with_columns(\n",
    "                    #when date matches the mode of each cluster\n",
    "                    pl.when(pl.col('date') == pl.col('date').mode().first().over('cluster'))\n",
    "                    #fill with that date, otherwise fill with null\n",
    "                    .then(pl.col('date'))\n",
    "                    .otherwise(pl.lit(None))\n",
    "                    #forward fill the arrival date to the mode of next cluster\n",
    "                    .forward_fill()\n",
    "                    #backward fill the first part of first cluster\n",
    "                    .backward_fill()\n",
    "                    #name column\n",
    "                    .alias('date_imputed')\n",
    "                )\n",
    "            #groupby date to simplify\n",
    "            .group_by('date')\n",
    "            .agg(pl.col('date_imputed').first())\n",
    "            #add pair label\n",
    "            .with_columns(pl.lit(pair).alias('vessel_port_pair').cast(pl.Categorical))\n",
    "        )\n",
    "        #init or concat pairs_df\n",
    "        if i == 0:\n",
    "            pairs_df = pair_df   \n",
    "        else:\n",
    "            pairs_df = pl.concat([pairs_df,pair_df], how='vertical')\n",
    "        #print status update\n",
    "        if (i != 0) and ((i+1)%1000 == 0):\n",
    "            print('{:,} pairs of {:,} clustered. The previous 1000 pairs took {:.2f} minutes.'.format(i+1, len(pairs), (time.time()-begin_block)/60))\n",
    "    #join imputed dates to main lf\n",
    "    lf = (\n",
    "        lf.join(pairs_df.lazy(), on=['date', 'vessel_port_pair'], how='left')\n",
    "    )\n",
    "    print('Total time to cluster dates: {:.2f} hours'.format((time.time()-begin_collect)/3600))\n",
    "    #rename date columns\n",
    "    lf = lf.rename({'date':'date_raw', 'date_imputed':'date'})\n",
    "    pairs_df = pairs_df.rename({'date':'date_raw', 'date_imputed':'date'})\n",
    "    #save pairs data to parquet if indicated \n",
    "    if save_parquet:\n",
    "        pairs_df.write_parquet(save_parquet)\n",
    "    #return main lf\n",
    "    return lf\n",
    "\n",
    "def add_alliance_data(lf):\n",
    "    '''ad hoc function to add alliance info into main lazyframe'''\n",
    "    lf = (\n",
    "        lf\n",
    "         #join alliance data into main lf\n",
    "        .join(alliances_df.lazy(), on=['unified_carrier_scac', 'date'], how='left')\n",
    "        #create related columns\n",
    "        .with_columns(\n",
    "            #create boolean for alliance membership\n",
    "            pl.col('alliance').is_not_null().alias('alliance_member'),\n",
    "            #set missing alliance_member cells to \"Non-alliance Carriers\"\n",
    "            pl.col('alliance').replace({None:'Non-alliance Carriers'})\n",
    "        )\n",
    "        #get primary carrier alliance\n",
    "        .with_columns(\n",
    "            pl.when(pl.col('unified_carrier_scac')==pl.col('vessel_owner'))\n",
    "            .then(pl.col('alliance'))\n",
    "            .otherwise(pl.lit(None))\n",
    "            .alias('pc_alliance')\n",
    "        )\n",
    "        #fill nulls in primary carrier alliance over month and vessel\n",
    "        .with_columns(\n",
    "            pl.col('pc_alliance')\n",
    "            .fill_null(strategy='forward')\n",
    "            .over('vessel_id', 'month')\n",
    "        )\n",
    "        .with_columns(\n",
    "            pl.col('pc_alliance')\n",
    "            .fill_null(strategy='backward')\n",
    "            .over('vessel_id', 'month')\n",
    "        )\n",
    "        #get cargo source column\n",
    "        .with_columns(\n",
    "            pl.when((pl.col('primary_cargo')==True)&(pl.col('alliance_member')==True))\n",
    "            .then(pl.lit('ally'))\n",
    "            .otherwise(\n",
    "                pl.when((pl.col('alliance_member')==True)&(pl.col('alliance')==pl.col('pc_alliance')))\n",
    "                .then(pl.lit('ally'))\n",
    "                .otherwise(pl.lit('non-ally'))\n",
    "            )\n",
    "            .alias('cargo_source')\n",
    "        )\n",
    "    )\n",
    "    return lf \n",
    "\n",
    "def geocoder_trg(locations, bing_rest_api_key='Am19ZYf8qoO0j2DJGJDu6oZJkhtyvG9v9-8zJ-RDowSZ8QIKLMbjDIq0w7qAzSv1', \n",
    "                 df_export=False):\n",
    "    '''\n",
    "    Converts location inputs to geographic coordinates (decimal degrees format, datum WGS-84) using the Bing REST Services geocoder API \n",
    "    INPUTS:\n",
    "        locations - array-like - the address/es or place name/s to be geocoded.\n",
    "        bing_rest_api_key - an API key issued by Bing Rest Services. Uses Adam Wilson's by default.\n",
    "        df_export - boolean - default=False - when True, returns a pandas dataframe containing the 'locations' inputs in the first column, \n",
    "                    the latitude in the second column, and the longitude in the third column.  \n",
    "    RETURNS:\n",
    "        when df_export = False (default), returns a list of (lat, long) tuples corresponding to the 'locations' input list. Uninterpretable\n",
    "                    inputs are listed as np.NaN.\n",
    "        when df_export = True, returns a pandas dataframe containing the 'locations' inputs in the first column, \n",
    "                    the latitude in the second column, and the longitude in the third column.\n",
    "    RELIES ON:\n",
    "        pandas\n",
    "        numpy\n",
    "        geopy\n",
    "        Bing from geopy.geocoders\n",
    "        RateLimiter from geopy.extras\n",
    "    '''\n",
    "    #define geocoder function\n",
    "    def geocoder_latlong(loc):\n",
    "        '''returns latitute and longitude of given location if interpretable by Bing, else NaN'''\n",
    "        #instantiate Bing client\n",
    "        geocoder_bing = Bing(bing_rest_api_key)\n",
    "        #rate limit\n",
    "        geocoder_bing = RateLimiter(geocoder_bing.geocode, min_delay_seconds=0.5)\n",
    "        #geocode location\n",
    "        geoloc = geocoder_bing(loc)\n",
    "        #return latitude and longitude results \n",
    "        if type(geoloc) == geopy.Location:\n",
    "            return geoloc.latitude, geoloc.longitude\n",
    "        else:\n",
    "            return np.NaN, np.NaN\n",
    "    #coerse locations input to pd.Series\n",
    "    locations = pd.Series(locations)\n",
    "    #init df\n",
    "    df = pd.DataFrame({'locations': locations})\n",
    "    #apply geocoder to each location \n",
    "    df[['lat', 'long']] = df.apply(lambda row: geocoder_latlong(row), axis=1, result_type='expand')\n",
    "    #create coordinate list\n",
    "    coord_list = [coord if ~np.isnan(coord[0]) else np.NaN for coord in list(zip(df.lat, df.long))]\n",
    "    #return results \n",
    "    if df_export:\n",
    "        return df\n",
    "    elif len(df)==1:\n",
    "        return coord_list[0]\n",
    "    else:\n",
    "        return coord_list\n"
   ]
  },
  {
   "cell_type": "markdown",
   "metadata": {},
   "source": [
    "### Drop Duplicate BOLs\n",
    "\n",
    "Conversations with S&P indicate that BOLs are unique, thus as an initial preparation step, we drop duplicate BOLs from the database.  "
   ]
  },
  {
   "cell_type": "code",
   "execution_count": 4,
   "metadata": {},
   "outputs": [],
   "source": [
    "main_lf = main_lf.unique(subset='bol_id')"
   ]
  },
  {
   "cell_type": "markdown",
   "metadata": {},
   "source": [
    "### Unify Port, Region, and Territory Names\n",
    "\n",
    "Like PIERS, we use the US Customs Port Code system to identify ports and lanes. All major container ports in the world are assigned unique codes in this system; however, smaller ports are sometimes assigned generalized codes (e.g. 55900 - \"All other Singapore Ports\"). Since our analysis is concerned, at least for the time being, with the major ports and lanes, we unify the names for ports, regions, and territories across the US Customs Port Codes. \n",
    "\n",
    "The port, region, and territory names occaisionally include typographical errors or inconsistencies in spelling; this unification also eliminated this issue. "
   ]
  },
  {
   "cell_type": "code",
   "execution_count": 5,
   "metadata": {},
   "outputs": [],
   "source": [
    "main_lf = (\n",
    "    main_lf\n",
    "    #unify port, region and territory names \n",
    "    .with_columns(\n",
    "            #find most commonly used departure port name for a given port code\n",
    "            pl.col('departure_port_name').drop_nulls().mode().first().over('departure_port_code').alias('departure_port_name'),\n",
    "            #find most commonly used arrival port name for a given port code\n",
    "            pl.col('arrival_port_name').drop_nulls().mode().first().over('arrival_port_code').alias('arrival_port_name'),\n",
    "            #get best region and territory names\n",
    "            pl.col('origin_territory').drop_nulls().mode().first().over('lane_id').alias('origin_territory'),\n",
    "            pl.col('origin_region').drop_nulls().mode().first().over('lane_id').alias('origin_region'),\n",
    "            pl.col('dest_territory').drop_nulls().mode().first().over('lane_id').alias('dest_territory'),\n",
    "            pl.col('dest_region').drop_nulls().mode().first().over('lane_id').alias('dest_region')\n",
    "        )\n",
    "        #get lane name\n",
    "        .with_columns(\n",
    "            (pl.col('departure_port_name').cast(pl.Utf8)+' — '+pl.col('arrival_port_name').cast(pl.Utf8))\n",
    "            .str.to_titlecase()\n",
    "            .cast(pl.Categorical)\n",
    "            .alias('lane_name')\n",
    "        )\n",
    ")"
   ]
  },
  {
   "cell_type": "markdown",
   "metadata": {},
   "source": [
    "### Carrier names and Standard Carrier Alpha Codes (SCAC)\n",
    "\n",
    "Similar to port names, carrier names are often long strings of inconsistent nature (e.g. \"Maersk\", \"MAERSK LINE\", \"A.P. Moller Maersk\", etc.), and SCAC codes can change over time for the same carrier. To address these issues, we simply carrier names to the most commonly used name string for a given SCAC, and we simplify SCAC codes to the most recent SCAC used for a given carrier name. \n",
    "\n",
    "As carrier alliances apply only to containerized freight, we also drop instances of bulk cargo, which are coded in this data as \"BULK\" under the carrier_scac column."
   ]
  },
  {
   "cell_type": "code",
   "execution_count": 6,
   "metadata": {},
   "outputs": [],
   "source": [
    "#drop bulk carriers\n",
    "main_lf = main_lf.filter(pl.col('carrier_scac')!='BULK')\n"
   ]
  },
  {
   "cell_type": "code",
   "execution_count": 7,
   "metadata": {},
   "outputs": [],
   "source": [
    "#unify carrier names and scacs\n",
    "\n",
    "main_lf = (\n",
    "    main_lf\n",
    "    #get most commonly used form of carrier name\n",
    "    .with_columns(\n",
    "        pl.col('carrier_name').drop_nulls().mode().first().over('carrier_scac')\n",
    "        .alias('unified_carrier_name')\n",
    "    )\n",
    "    #get most commonly used form of SCAC\n",
    "    .with_columns(\n",
    "        pl.col('carrier_scac').drop_nulls().mode().first().over('unified_carrier_name')\n",
    "        .alias('unified_carrier_scac')\n",
    "    )\n",
    ")"
   ]
  },
  {
   "cell_type": "markdown",
   "metadata": {},
   "source": [
    "### Tanker Transfer Ports\n",
    "\n",
    "Some BOLs list offshore tanker transfer ports as their origin or destination. Since these are not relevant to containerized carrier alliances, we drop them from the database. "
   ]
  },
  {
   "cell_type": "code",
   "execution_count": 8,
   "metadata": {},
   "outputs": [],
   "source": [
    "main_lf = (\n",
    "    main_lf\n",
    "    .filter((pl.col('departure_port_code').cast(pl.Utf8).str.starts_with('999') == False))\n",
    "    .filter(pl.col('arrival_port_code').cast(pl.Utf8).str.starts_with('999') == False)\n",
    ")"
   ]
  },
  {
   "cell_type": "markdown",
   "metadata": {},
   "source": [
    "### Missing Data"
   ]
  },
  {
   "cell_type": "code",
   "execution_count": 9,
   "metadata": {},
   "outputs": [
    {
     "data": {
      "application/vnd.plotly.v1+json": {
       "config": {
        "plotlyServerURL": "https://plot.ly"
       },
       "data": [
        {
         "hovertemplate": "direction=export<br>month=%{x}<br>null_percent=%{y}<extra></extra>",
         "legendgroup": "export",
         "line": {
          "color": "#636efa",
          "dash": "solid"
         },
         "marker": {
          "symbol": "circle"
         },
         "mode": "lines",
         "name": "export",
         "orientation": "v",
         "showlegend": true,
         "type": "scatter",
         "x": [
          "200701",
          "200702",
          "200703",
          "200704",
          "200705",
          "200706",
          "200707",
          "200708",
          "200709",
          "200710",
          "200711",
          "200712",
          "200801",
          "200802",
          "200803",
          "200804",
          "200805",
          "200806",
          "200807",
          "200808",
          "200809",
          "200810",
          "200811",
          "200812",
          "200901",
          "200902",
          "200903",
          "200904",
          "200905",
          "200906",
          "200907",
          "200908",
          "200909",
          "200910",
          "200911",
          "200912",
          "201001",
          "201002",
          "201003",
          "201004",
          "201005",
          "201006",
          "201007",
          "201008",
          "201009",
          "201010",
          "201011",
          "201012",
          "201101",
          "201102",
          "201103",
          "201104",
          "201105",
          "201106",
          "201107",
          "201108",
          "201109",
          "201110",
          "201111",
          "201112",
          "201201",
          "201202",
          "201203",
          "201204",
          "201205",
          "201206",
          "201207",
          "201208",
          "201209",
          "201210",
          "201211",
          "201212",
          "201301",
          "201302",
          "201303",
          "201304",
          "201305",
          "201306",
          "201307",
          "201308",
          "201309",
          "201310",
          "201311",
          "201312",
          "201401",
          "201402",
          "201403",
          "201404",
          "201405",
          "201406",
          "201407",
          "201408",
          "201409",
          "201410",
          "201411",
          "201412",
          "201501",
          "201502",
          "201503",
          "201504",
          "201505",
          "201506",
          "201507",
          "201508",
          "201509",
          "201510",
          "201511",
          "201512",
          "201601",
          "201602",
          "201603",
          "201604",
          "201605",
          "201606",
          "201607",
          "201608",
          "201609",
          "201610",
          "201611",
          "201612",
          "201701",
          "201702",
          "201703",
          "201704",
          "201705",
          "201706",
          "201707",
          "201708",
          "201709",
          "201710",
          "201711",
          "201712",
          "201801",
          "201802",
          "201803",
          "201804",
          "201805",
          "201806",
          "201807",
          "201808",
          "201809",
          "201810",
          "201811",
          "201812",
          "201901",
          "201902",
          "201903",
          "201904",
          "201905",
          "201906",
          "201907",
          "201908",
          "201909",
          "201910",
          "201911",
          "201912",
          "202001",
          "202002",
          "202003",
          "202004",
          "202005",
          "202006",
          "202007",
          "202008",
          "202009",
          "202010",
          "202011",
          "202012",
          "202101",
          "202102",
          "202103",
          "202104",
          "202105",
          "202106",
          "202107",
          "202108",
          "202109",
          "202110",
          "202111",
          "202112",
          "202201",
          "202202",
          "202203",
          "202204",
          "202205",
          "202206",
          "202207",
          "202208",
          "202209",
          "202210",
          "202211",
          "202212",
          "202301",
          "202302",
          "202303",
          "202304",
          "202305",
          "202306",
          "202307",
          "202308",
          "202309",
          "202310",
          "202311",
          "202312"
         ],
         "xaxis": "x",
         "y": [
          1,
          1,
          1,
          1,
          1,
          1,
          1,
          1,
          1,
          1,
          1,
          1,
          1,
          1,
          1,
          1,
          1,
          1,
          1,
          1,
          1,
          1,
          1,
          1,
          1,
          1,
          1,
          1,
          1,
          1,
          1,
          1,
          1,
          1,
          1,
          1,
          1,
          1,
          1,
          1,
          1,
          0.9999307762292163,
          1,
          1,
          1,
          1,
          1,
          1,
          1,
          1,
          1,
          1,
          1,
          1,
          1,
          1,
          0.9998164795172478,
          1,
          1,
          1,
          1,
          1,
          1,
          1,
          0.9997977297427847,
          0.9999133885790469,
          1,
          0.9999908788529246,
          0.9987617410049787,
          1,
          0.9999968214816981,
          0.9999750246631451,
          0.9939018641237002,
          0.999378678980904,
          0.9988418431239428,
          0.9922738441791447,
          0.9822300911206073,
          0.8368993380623746,
          0.7761771919763346,
          0.7747342794370881,
          0.7657977598701222,
          0.773570066661056,
          0.7688166892207465,
          0.7533517415749027,
          0.7236116597954505,
          0.7275301491562406,
          0.7332826636654632,
          0.7483254187570986,
          0.7445389563370083,
          0.7161946205263935,
          0.707827096130198,
          0.7092399809285904,
          0.7076942488054067,
          0.6962053729650545,
          0.5556799471008587,
          0.10815022647789649,
          0.0940431784785803,
          0.08815435666656177,
          0.08526886801136468,
          0.07370384023245224,
          0.08831876523830698,
          0.07986575872958117,
          0.07956079979883961,
          0.08260405413180083,
          0.08089273591310252,
          0.07908066095201519,
          0.08740353111585504,
          0.08707996947142146,
          0.07205975133832268,
          0.07961621659809387,
          0.0739763432821637,
          0.07583248462659052,
          0.08753848812869278,
          0.08152868767158587,
          0.08390742241627232,
          0.08141526258522673,
          0.0829731043634787,
          0.06851518699372722,
          0.07974844720496894,
          0.08347783248038322,
          0.07997886231525834,
          0.07385081840000261,
          0.09319836545043457,
          0.09067601766544817,
          0.09094561371949392,
          0.09234033750407462,
          0.10993284861721796,
          0.09445071238771648,
          0.095941397608675,
          0.08834233129913813,
          0.0867739286796884,
          0.08606890010912882,
          0.10089433979342108,
          0.09303710505391262,
          0.08224006480250015,
          0.10621556337916989,
          0.12293726963135175,
          0.09639690282336301,
          0.09639049558894144,
          0.1073734284743459,
          0.08868126767664962,
          0.08807874568364311,
          0.10825604792955808,
          0.11594883067674777,
          0.104383051736505,
          0.1114320823376059,
          0.10565718486054672,
          0.1105983330541613,
          0.12454938663870985,
          0.11276947521424266,
          0.12251187594244142,
          0.12129815135915381,
          0.10646828138532351,
          0.09888746799292374,
          0.10508860298579925,
          0.11912924292509877,
          0.11699086977725098,
          0.09827468863791043,
          0.10498931949954227,
          0.09194781278655216,
          0.08666128551948968,
          0.0995495842315984,
          0.11360043509789702,
          0.09816575482410397,
          0.08698293807707248,
          0.11616037812934085,
          0.09923577158589263,
          0.11321697921422644,
          0.09590680603207533,
          0.12005110744209307,
          0.11380793664359172,
          0.09970149253731343,
          0.126965891418482,
          0.11659405994383873,
          0.11746665029192405,
          0.10486260104283605,
          0.11181798054437019,
          0.08608997390232939,
          0.09566395199314187,
          0.10688454526435338,
          0.08675901217047927,
          0.08335982867563488,
          0.08502455513744499,
          0.08996208999505521,
          0.09104760690435587,
          0.10324740519406647,
          0.07108533853602139,
          0.06780407225953698,
          0.059241976498989816,
          0.06361460940843829,
          0.06539838510443782,
          0.06995133819951338,
          0.05712665756404619,
          0.04697465600310502,
          0.08014767178754317,
          0.06959555775987347,
          0.06707532712483791,
          0.0922297411669118,
          0.07197003982621289,
          0.05709806301522278,
          0.06632869076677822,
          0.06762050819862775,
          0.05358189081225033,
          0.06209708523885613
         ],
         "yaxis": "y"
        },
        {
         "hovertemplate": "direction=import<br>month=%{x}<br>null_percent=%{y}<extra></extra>",
         "legendgroup": "import",
         "line": {
          "color": "#EF553B",
          "dash": "solid"
         },
         "marker": {
          "symbol": "circle"
         },
         "mode": "lines",
         "name": "import",
         "orientation": "v",
         "showlegend": true,
         "type": "scatter",
         "x": [
          "200701",
          "200702",
          "200703",
          "200704",
          "200705",
          "200706",
          "200707",
          "200708",
          "200709",
          "200710",
          "200711",
          "200712",
          "200801",
          "200802",
          "200803",
          "200804",
          "200805",
          "200806",
          "200807",
          "200808",
          "200809",
          "200810",
          "200811",
          "200812",
          "200901",
          "200902",
          "200903",
          "200904",
          "200905",
          "200906",
          "200907",
          "200908",
          "200909",
          "200910",
          "200911",
          "200912",
          "201001",
          "201002",
          "201003",
          "201004",
          "201005",
          "201006",
          "201007",
          "201008",
          "201009",
          "201010",
          "201011",
          "201012",
          "201101",
          "201102",
          "201103",
          "201104",
          "201105",
          "201106",
          "201107",
          "201108",
          "201109",
          "201110",
          "201111",
          "201112",
          "201201",
          "201202",
          "201203",
          "201204",
          "201205",
          "201206",
          "201207",
          "201208",
          "201209",
          "201210",
          "201211",
          "201212",
          "201301",
          "201302",
          "201303",
          "201304",
          "201305",
          "201306",
          "201307",
          "201308",
          "201309",
          "201310",
          "201311",
          "201312",
          "201401",
          "201402",
          "201403",
          "201404",
          "201405",
          "201406",
          "201407",
          "201408",
          "201409",
          "201410",
          "201411",
          "201412",
          "201501",
          "201502",
          "201503",
          "201504",
          "201505",
          "201506",
          "201507",
          "201508",
          "201509",
          "201510",
          "201511",
          "201512",
          "201601",
          "201602",
          "201603",
          "201604",
          "201605",
          "201606",
          "201607",
          "201608",
          "201609",
          "201610",
          "201611",
          "201612",
          "201701",
          "201702",
          "201703",
          "201704",
          "201705",
          "201706",
          "201707",
          "201708",
          "201709",
          "201710",
          "201711",
          "201712",
          "201801",
          "201802",
          "201803",
          "201804",
          "201805",
          "201806",
          "201807",
          "201808",
          "201809",
          "201810",
          "201811",
          "201812",
          "201901",
          "201902",
          "201903",
          "201904",
          "201905",
          "201906",
          "201907",
          "201908",
          "201909",
          "201910",
          "201911",
          "201912",
          "202001",
          "202002",
          "202003",
          "202004",
          "202005",
          "202006",
          "202007",
          "202008",
          "202009",
          "202010",
          "202011",
          "202012",
          "202101",
          "202102",
          "202103",
          "202104",
          "202105",
          "202106",
          "202107",
          "202108",
          "202109",
          "202110",
          "202111",
          "202112",
          "202201",
          "202202",
          "202203",
          "202204",
          "202205",
          "202206",
          "202207",
          "202208",
          "202209",
          "202210",
          "202211",
          "202212",
          "202301",
          "202302",
          "202303",
          "202304",
          "202305",
          "202306",
          "202307",
          "202308",
          "202309",
          "202310",
          "202311",
          "202312"
         ],
         "xaxis": "x",
         "y": [
          1,
          1,
          1,
          1,
          1,
          1,
          1,
          1,
          1,
          1,
          1,
          1,
          1,
          1,
          1,
          1,
          1,
          1,
          1,
          1,
          1,
          1,
          1,
          1,
          1,
          1,
          1,
          1,
          1,
          1,
          1,
          1,
          1,
          1,
          1,
          1,
          1,
          1,
          1,
          0.9988529489256586,
          1,
          1,
          1,
          1,
          1,
          1,
          1,
          1,
          1,
          1,
          1,
          1,
          1,
          1,
          1,
          1,
          1,
          1,
          1,
          1,
          0.9999987162485702,
          1,
          1,
          0.9999881804917703,
          0.999993619527309,
          1,
          1,
          1,
          1,
          1,
          1,
          1,
          1,
          0.999974818861468,
          0.9999909360492958,
          0.9997360087827847,
          0.9985510055283292,
          0.9963490667889072,
          0.8412199688267016,
          0.8084578428936513,
          0.8059224257400945,
          0.7906917291674583,
          0.8106889484876458,
          0.8165500836010733,
          0.7897840853006863,
          0.7884272655576855,
          0.7913135774345565,
          0.8036088968404882,
          0.813526427016952,
          0.8187708041024075,
          0.8082543720608454,
          0.809373557194716,
          0.794479030784012,
          0.7932011269906439,
          0.8075890386879304,
          0.5704739549638167,
          0.04112272152195305,
          0.040512033885992414,
          0.036102333330315185,
          0.03988596089398944,
          0.038764009739678446,
          0.025193029348149303,
          0.026695687803101418,
          0.024840994792506076,
          0.021482287717313742,
          0.022514963200549843,
          0.023194817734416093,
          0.02688198494953247,
          0.021708563892209258,
          0.021003210166210977,
          0.026729599944027415,
          0.023406408589113026,
          0.022567149144646095,
          0.02448942175585046,
          0.0254251055097122,
          0.02439870716506092,
          0.022106316559172043,
          0.0224987191849318,
          0.02161535095133015,
          0.024270559776466877,
          0.02403701918081988,
          0.025560516242326838,
          0.02746120600894697,
          0.025359398848302846,
          0.02472197982177477,
          0.02512434496846967,
          0.027513891378383223,
          0.022800224991105695,
          0.02223504561984191,
          0.0230781489036206,
          0.025990772941534124,
          0.04754639124995706,
          0.025380077785326447,
          0.0238581449024487,
          0.032196499615646905,
          0.06393126400714613,
          0.0570646663280119,
          0.03770615798798678,
          0.02070640797325585,
          0.021420915942765854,
          0.02087938483804566,
          0.01916844237618979,
          0.018819983732543503,
          0.02143671561773207,
          0.019927615574198018,
          0.020181075245626085,
          0.02560966474876054,
          0.022500664932436378,
          0.020481663648946696,
          0.021763465024327678,
          0.01991000807860672,
          0.019638159639613444,
          0.01862772107843289,
          0.017903118413660126,
          0.019224959000355646,
          0.01895591495370365,
          0.018274439291745624,
          0.035524412182817745,
          0.02474825055470217,
          0.2062707069786257,
          0.20799472416657275,
          0.06516359792327596,
          0.02837403701691014,
          0.0923584359426615,
          0.08398369730343906,
          0.04477507174780314,
          0.07112430126414371,
          0.10833235320570919,
          0.0977607488445643,
          0.0843805746687054,
          0.03576913749898957,
          0.03383522246658772,
          0.04736414285956207,
          0.04755742736761331,
          0.05707878004321968,
          0.02904878428034798,
          0.03352888649095339,
          0.08373827816111656,
          0.08217825393903352,
          0.1477000583596004,
          0.1294426954628031,
          0.09232788612256862,
          0.09208383722452879,
          0.08126112558691502,
          0.08362216672316501,
          0.0780310571290672,
          0.06990514025115789,
          0.04689535456774157,
          0.08211373143856736,
          0.06229268235099689,
          0.09934240700710038,
          0.09716570230320372,
          0.15052245303591405,
          0.06517684568265295,
          0.10126207050443442,
          0.10522715517960525,
          0.059094133723117066,
          0.05841965072820981,
          0.0720880511167593,
          0.05420420568586625,
          0.0404182146618301,
          0.07603490985785771,
          0.04355596622512933,
          0.054496526430730156
         ],
         "yaxis": "y"
        }
       ],
       "layout": {
        "legend": {
         "title": {
          "text": "direction"
         },
         "tracegroupgap": 0
        },
        "template": {
         "data": {
          "bar": [
           {
            "error_x": {
             "color": "#2a3f5f"
            },
            "error_y": {
             "color": "#2a3f5f"
            },
            "marker": {
             "line": {
              "color": "#E5ECF6",
              "width": 0.5
             },
             "pattern": {
              "fillmode": "overlay",
              "size": 10,
              "solidity": 0.2
             }
            },
            "type": "bar"
           }
          ],
          "barpolar": [
           {
            "marker": {
             "line": {
              "color": "#E5ECF6",
              "width": 0.5
             },
             "pattern": {
              "fillmode": "overlay",
              "size": 10,
              "solidity": 0.2
             }
            },
            "type": "barpolar"
           }
          ],
          "carpet": [
           {
            "aaxis": {
             "endlinecolor": "#2a3f5f",
             "gridcolor": "white",
             "linecolor": "white",
             "minorgridcolor": "white",
             "startlinecolor": "#2a3f5f"
            },
            "baxis": {
             "endlinecolor": "#2a3f5f",
             "gridcolor": "white",
             "linecolor": "white",
             "minorgridcolor": "white",
             "startlinecolor": "#2a3f5f"
            },
            "type": "carpet"
           }
          ],
          "choropleth": [
           {
            "colorbar": {
             "outlinewidth": 0,
             "ticks": ""
            },
            "type": "choropleth"
           }
          ],
          "contour": [
           {
            "colorbar": {
             "outlinewidth": 0,
             "ticks": ""
            },
            "colorscale": [
             [
              0,
              "#0d0887"
             ],
             [
              0.1111111111111111,
              "#46039f"
             ],
             [
              0.2222222222222222,
              "#7201a8"
             ],
             [
              0.3333333333333333,
              "#9c179e"
             ],
             [
              0.4444444444444444,
              "#bd3786"
             ],
             [
              0.5555555555555556,
              "#d8576b"
             ],
             [
              0.6666666666666666,
              "#ed7953"
             ],
             [
              0.7777777777777778,
              "#fb9f3a"
             ],
             [
              0.8888888888888888,
              "#fdca26"
             ],
             [
              1,
              "#f0f921"
             ]
            ],
            "type": "contour"
           }
          ],
          "contourcarpet": [
           {
            "colorbar": {
             "outlinewidth": 0,
             "ticks": ""
            },
            "type": "contourcarpet"
           }
          ],
          "heatmap": [
           {
            "colorbar": {
             "outlinewidth": 0,
             "ticks": ""
            },
            "colorscale": [
             [
              0,
              "#0d0887"
             ],
             [
              0.1111111111111111,
              "#46039f"
             ],
             [
              0.2222222222222222,
              "#7201a8"
             ],
             [
              0.3333333333333333,
              "#9c179e"
             ],
             [
              0.4444444444444444,
              "#bd3786"
             ],
             [
              0.5555555555555556,
              "#d8576b"
             ],
             [
              0.6666666666666666,
              "#ed7953"
             ],
             [
              0.7777777777777778,
              "#fb9f3a"
             ],
             [
              0.8888888888888888,
              "#fdca26"
             ],
             [
              1,
              "#f0f921"
             ]
            ],
            "type": "heatmap"
           }
          ],
          "heatmapgl": [
           {
            "colorbar": {
             "outlinewidth": 0,
             "ticks": ""
            },
            "colorscale": [
             [
              0,
              "#0d0887"
             ],
             [
              0.1111111111111111,
              "#46039f"
             ],
             [
              0.2222222222222222,
              "#7201a8"
             ],
             [
              0.3333333333333333,
              "#9c179e"
             ],
             [
              0.4444444444444444,
              "#bd3786"
             ],
             [
              0.5555555555555556,
              "#d8576b"
             ],
             [
              0.6666666666666666,
              "#ed7953"
             ],
             [
              0.7777777777777778,
              "#fb9f3a"
             ],
             [
              0.8888888888888888,
              "#fdca26"
             ],
             [
              1,
              "#f0f921"
             ]
            ],
            "type": "heatmapgl"
           }
          ],
          "histogram": [
           {
            "marker": {
             "pattern": {
              "fillmode": "overlay",
              "size": 10,
              "solidity": 0.2
             }
            },
            "type": "histogram"
           }
          ],
          "histogram2d": [
           {
            "colorbar": {
             "outlinewidth": 0,
             "ticks": ""
            },
            "colorscale": [
             [
              0,
              "#0d0887"
             ],
             [
              0.1111111111111111,
              "#46039f"
             ],
             [
              0.2222222222222222,
              "#7201a8"
             ],
             [
              0.3333333333333333,
              "#9c179e"
             ],
             [
              0.4444444444444444,
              "#bd3786"
             ],
             [
              0.5555555555555556,
              "#d8576b"
             ],
             [
              0.6666666666666666,
              "#ed7953"
             ],
             [
              0.7777777777777778,
              "#fb9f3a"
             ],
             [
              0.8888888888888888,
              "#fdca26"
             ],
             [
              1,
              "#f0f921"
             ]
            ],
            "type": "histogram2d"
           }
          ],
          "histogram2dcontour": [
           {
            "colorbar": {
             "outlinewidth": 0,
             "ticks": ""
            },
            "colorscale": [
             [
              0,
              "#0d0887"
             ],
             [
              0.1111111111111111,
              "#46039f"
             ],
             [
              0.2222222222222222,
              "#7201a8"
             ],
             [
              0.3333333333333333,
              "#9c179e"
             ],
             [
              0.4444444444444444,
              "#bd3786"
             ],
             [
              0.5555555555555556,
              "#d8576b"
             ],
             [
              0.6666666666666666,
              "#ed7953"
             ],
             [
              0.7777777777777778,
              "#fb9f3a"
             ],
             [
              0.8888888888888888,
              "#fdca26"
             ],
             [
              1,
              "#f0f921"
             ]
            ],
            "type": "histogram2dcontour"
           }
          ],
          "mesh3d": [
           {
            "colorbar": {
             "outlinewidth": 0,
             "ticks": ""
            },
            "type": "mesh3d"
           }
          ],
          "parcoords": [
           {
            "line": {
             "colorbar": {
              "outlinewidth": 0,
              "ticks": ""
             }
            },
            "type": "parcoords"
           }
          ],
          "pie": [
           {
            "automargin": true,
            "type": "pie"
           }
          ],
          "scatter": [
           {
            "fillpattern": {
             "fillmode": "overlay",
             "size": 10,
             "solidity": 0.2
            },
            "type": "scatter"
           }
          ],
          "scatter3d": [
           {
            "line": {
             "colorbar": {
              "outlinewidth": 0,
              "ticks": ""
             }
            },
            "marker": {
             "colorbar": {
              "outlinewidth": 0,
              "ticks": ""
             }
            },
            "type": "scatter3d"
           }
          ],
          "scattercarpet": [
           {
            "marker": {
             "colorbar": {
              "outlinewidth": 0,
              "ticks": ""
             }
            },
            "type": "scattercarpet"
           }
          ],
          "scattergeo": [
           {
            "marker": {
             "colorbar": {
              "outlinewidth": 0,
              "ticks": ""
             }
            },
            "type": "scattergeo"
           }
          ],
          "scattergl": [
           {
            "marker": {
             "colorbar": {
              "outlinewidth": 0,
              "ticks": ""
             }
            },
            "type": "scattergl"
           }
          ],
          "scattermapbox": [
           {
            "marker": {
             "colorbar": {
              "outlinewidth": 0,
              "ticks": ""
             }
            },
            "type": "scattermapbox"
           }
          ],
          "scatterpolar": [
           {
            "marker": {
             "colorbar": {
              "outlinewidth": 0,
              "ticks": ""
             }
            },
            "type": "scatterpolar"
           }
          ],
          "scatterpolargl": [
           {
            "marker": {
             "colorbar": {
              "outlinewidth": 0,
              "ticks": ""
             }
            },
            "type": "scatterpolargl"
           }
          ],
          "scatterternary": [
           {
            "marker": {
             "colorbar": {
              "outlinewidth": 0,
              "ticks": ""
             }
            },
            "type": "scatterternary"
           }
          ],
          "surface": [
           {
            "colorbar": {
             "outlinewidth": 0,
             "ticks": ""
            },
            "colorscale": [
             [
              0,
              "#0d0887"
             ],
             [
              0.1111111111111111,
              "#46039f"
             ],
             [
              0.2222222222222222,
              "#7201a8"
             ],
             [
              0.3333333333333333,
              "#9c179e"
             ],
             [
              0.4444444444444444,
              "#bd3786"
             ],
             [
              0.5555555555555556,
              "#d8576b"
             ],
             [
              0.6666666666666666,
              "#ed7953"
             ],
             [
              0.7777777777777778,
              "#fb9f3a"
             ],
             [
              0.8888888888888888,
              "#fdca26"
             ],
             [
              1,
              "#f0f921"
             ]
            ],
            "type": "surface"
           }
          ],
          "table": [
           {
            "cells": {
             "fill": {
              "color": "#EBF0F8"
             },
             "line": {
              "color": "white"
             }
            },
            "header": {
             "fill": {
              "color": "#C8D4E3"
             },
             "line": {
              "color": "white"
             }
            },
            "type": "table"
           }
          ]
         },
         "layout": {
          "annotationdefaults": {
           "arrowcolor": "#2a3f5f",
           "arrowhead": 0,
           "arrowwidth": 1
          },
          "autotypenumbers": "strict",
          "coloraxis": {
           "colorbar": {
            "outlinewidth": 0,
            "ticks": ""
           }
          },
          "colorscale": {
           "diverging": [
            [
             0,
             "#8e0152"
            ],
            [
             0.1,
             "#c51b7d"
            ],
            [
             0.2,
             "#de77ae"
            ],
            [
             0.3,
             "#f1b6da"
            ],
            [
             0.4,
             "#fde0ef"
            ],
            [
             0.5,
             "#f7f7f7"
            ],
            [
             0.6,
             "#e6f5d0"
            ],
            [
             0.7,
             "#b8e186"
            ],
            [
             0.8,
             "#7fbc41"
            ],
            [
             0.9,
             "#4d9221"
            ],
            [
             1,
             "#276419"
            ]
           ],
           "sequential": [
            [
             0,
             "#0d0887"
            ],
            [
             0.1111111111111111,
             "#46039f"
            ],
            [
             0.2222222222222222,
             "#7201a8"
            ],
            [
             0.3333333333333333,
             "#9c179e"
            ],
            [
             0.4444444444444444,
             "#bd3786"
            ],
            [
             0.5555555555555556,
             "#d8576b"
            ],
            [
             0.6666666666666666,
             "#ed7953"
            ],
            [
             0.7777777777777778,
             "#fb9f3a"
            ],
            [
             0.8888888888888888,
             "#fdca26"
            ],
            [
             1,
             "#f0f921"
            ]
           ],
           "sequentialminus": [
            [
             0,
             "#0d0887"
            ],
            [
             0.1111111111111111,
             "#46039f"
            ],
            [
             0.2222222222222222,
             "#7201a8"
            ],
            [
             0.3333333333333333,
             "#9c179e"
            ],
            [
             0.4444444444444444,
             "#bd3786"
            ],
            [
             0.5555555555555556,
             "#d8576b"
            ],
            [
             0.6666666666666666,
             "#ed7953"
            ],
            [
             0.7777777777777778,
             "#fb9f3a"
            ],
            [
             0.8888888888888888,
             "#fdca26"
            ],
            [
             1,
             "#f0f921"
            ]
           ]
          },
          "colorway": [
           "#636efa",
           "#EF553B",
           "#00cc96",
           "#ab63fa",
           "#FFA15A",
           "#19d3f3",
           "#FF6692",
           "#B6E880",
           "#FF97FF",
           "#FECB52"
          ],
          "font": {
           "color": "#2a3f5f"
          },
          "geo": {
           "bgcolor": "white",
           "lakecolor": "white",
           "landcolor": "#E5ECF6",
           "showlakes": true,
           "showland": true,
           "subunitcolor": "white"
          },
          "hoverlabel": {
           "align": "left"
          },
          "hovermode": "closest",
          "mapbox": {
           "style": "light"
          },
          "paper_bgcolor": "white",
          "plot_bgcolor": "#E5ECF6",
          "polar": {
           "angularaxis": {
            "gridcolor": "white",
            "linecolor": "white",
            "ticks": ""
           },
           "bgcolor": "#E5ECF6",
           "radialaxis": {
            "gridcolor": "white",
            "linecolor": "white",
            "ticks": ""
           }
          },
          "scene": {
           "xaxis": {
            "backgroundcolor": "#E5ECF6",
            "gridcolor": "white",
            "gridwidth": 2,
            "linecolor": "white",
            "showbackground": true,
            "ticks": "",
            "zerolinecolor": "white"
           },
           "yaxis": {
            "backgroundcolor": "#E5ECF6",
            "gridcolor": "white",
            "gridwidth": 2,
            "linecolor": "white",
            "showbackground": true,
            "ticks": "",
            "zerolinecolor": "white"
           },
           "zaxis": {
            "backgroundcolor": "#E5ECF6",
            "gridcolor": "white",
            "gridwidth": 2,
            "linecolor": "white",
            "showbackground": true,
            "ticks": "",
            "zerolinecolor": "white"
           }
          },
          "shapedefaults": {
           "line": {
            "color": "#2a3f5f"
           }
          },
          "ternary": {
           "aaxis": {
            "gridcolor": "white",
            "linecolor": "white",
            "ticks": ""
           },
           "baxis": {
            "gridcolor": "white",
            "linecolor": "white",
            "ticks": ""
           },
           "bgcolor": "#E5ECF6",
           "caxis": {
            "gridcolor": "white",
            "linecolor": "white",
            "ticks": ""
           }
          },
          "title": {
           "x": 0.05
          },
          "xaxis": {
           "automargin": true,
           "gridcolor": "white",
           "linecolor": "white",
           "ticks": "",
           "title": {
            "standoff": 15
           },
           "zerolinecolor": "white",
           "zerolinewidth": 2
          },
          "yaxis": {
           "automargin": true,
           "gridcolor": "white",
           "linecolor": "white",
           "ticks": "",
           "title": {
            "standoff": 15
           },
           "zerolinecolor": "white",
           "zerolinewidth": 2
          }
         }
        },
        "title": {
         "text": "Missing volume data over time."
        },
        "xaxis": {
         "anchor": "y",
         "domain": [
          0,
          1
         ],
         "title": {
          "text": "month"
         }
        },
        "yaxis": {
         "anchor": "x",
         "domain": [
          0,
          1
         ],
         "title": {
          "text": "null_percent"
         }
        }
       }
      }
     },
     "metadata": {},
     "output_type": "display_data"
    }
   ],
   "source": [
    "nulls_over_time_plotly(main_lf, group_var='direction', time_var='month', value_var='teus', title='Missing volume data over time.')"
   ]
  },
  {
   "cell_type": "markdown",
   "metadata": {},
   "source": [
    "As can be seen above, the PIERS BOL data on TEUs is incomplete prior to 2015. Since each row corresponds to a unique bill of lading, and since we are not concerned with changes in volume at the BOL level, we fill this missing data with the average TEUs. "
   ]
  },
  {
   "cell_type": "code",
   "execution_count": 10,
   "metadata": {},
   "outputs": [],
   "source": [
    "#fill missing volumes with the mean value\n",
    "main_lf = fill_volume(main_lf)"
   ]
  },
  {
   "cell_type": "markdown",
   "metadata": {},
   "source": [
    "#### Missing Vessel info\n",
    "\n",
    "A substantial portion of BOLs do not include vessel names or IDs. Note there is perfect correlation between missing vessels names and missing vessel IDs. "
   ]
  },
  {
   "cell_type": "code",
   "execution_count": 11,
   "metadata": {},
   "outputs": [
    {
     "data": {
      "application/vnd.plotly.v1+json": {
       "config": {
        "plotlyServerURL": "https://plot.ly"
       },
       "data": [
        {
         "hovertemplate": "direction=export<br>month=%{x}<br>null_percent=%{y}<extra></extra>",
         "legendgroup": "export",
         "line": {
          "color": "#636efa",
          "dash": "solid"
         },
         "marker": {
          "symbol": "circle"
         },
         "mode": "lines",
         "name": "export",
         "orientation": "v",
         "showlegend": true,
         "type": "scatter",
         "x": [
          "200701",
          "200702",
          "200703",
          "200704",
          "200705",
          "200706",
          "200707",
          "200708",
          "200709",
          "200710",
          "200711",
          "200712",
          "200801",
          "200802",
          "200803",
          "200804",
          "200805",
          "200806",
          "200807",
          "200808",
          "200809",
          "200810",
          "200811",
          "200812",
          "200901",
          "200902",
          "200903",
          "200904",
          "200905",
          "200906",
          "200907",
          "200908",
          "200909",
          "200910",
          "200911",
          "200912",
          "201001",
          "201002",
          "201003",
          "201004",
          "201005",
          "201006",
          "201007",
          "201008",
          "201009",
          "201010",
          "201011",
          "201012",
          "201101",
          "201102",
          "201103",
          "201104",
          "201105",
          "201106",
          "201107",
          "201108",
          "201109",
          "201110",
          "201111",
          "201112",
          "201201",
          "201202",
          "201203",
          "201204",
          "201205",
          "201206",
          "201207",
          "201208",
          "201209",
          "201210",
          "201211",
          "201212",
          "201301",
          "201302",
          "201303",
          "201304",
          "201305",
          "201306",
          "201307",
          "201308",
          "201309",
          "201310",
          "201311",
          "201312",
          "201401",
          "201402",
          "201403",
          "201404",
          "201405",
          "201406",
          "201407",
          "201408",
          "201409",
          "201410",
          "201411",
          "201412",
          "201501",
          "201502",
          "201503",
          "201504",
          "201505",
          "201506",
          "201507",
          "201508",
          "201509",
          "201510",
          "201511",
          "201512",
          "201601",
          "201602",
          "201603",
          "201604",
          "201605",
          "201606",
          "201607",
          "201608",
          "201609",
          "201610",
          "201611",
          "201612",
          "201701",
          "201702",
          "201703",
          "201704",
          "201705",
          "201706",
          "201707",
          "201708",
          "201709",
          "201710",
          "201711",
          "201712",
          "201801",
          "201802",
          "201803",
          "201804",
          "201805",
          "201806",
          "201807",
          "201808",
          "201809",
          "201810",
          "201811",
          "201812",
          "201901",
          "201902",
          "201903",
          "201904",
          "201905",
          "201906",
          "201907",
          "201908",
          "201909",
          "201910",
          "201911",
          "201912",
          "202001",
          "202002",
          "202003",
          "202004",
          "202005",
          "202006",
          "202007",
          "202008",
          "202009",
          "202010",
          "202011",
          "202012",
          "202101",
          "202102",
          "202103",
          "202104",
          "202105",
          "202106",
          "202107",
          "202108",
          "202109",
          "202110",
          "202111",
          "202112",
          "202201",
          "202202",
          "202203",
          "202204",
          "202205",
          "202206",
          "202207",
          "202208",
          "202209",
          "202210",
          "202211",
          "202212",
          "202301",
          "202302",
          "202303",
          "202304",
          "202305",
          "202306",
          "202307",
          "202308",
          "202309",
          "202310",
          "202311",
          "202312"
         ],
         "xaxis": "x",
         "y": [
          0,
          0,
          0.0000041906055005887804,
          0,
          0,
          0,
          0,
          0,
          0,
          0,
          0,
          0,
          0,
          0,
          0,
          0,
          0,
          0,
          0,
          0,
          0,
          0,
          0,
          0,
          0.000009972724598223857,
          0,
          0,
          0,
          0,
          0,
          0,
          0,
          0,
          0.000039605842653908305,
          0.0009441352298495155,
          0.05128257958174513,
          0.3497960378647409,
          0.288236827406442,
          0.23357161257083978,
          0.2520324419508872,
          0.22763056023629988,
          0.21960087551588192,
          0.24124047450703118,
          0.2417696646604732,
          0.2350390980906515,
          0.22824858757062147,
          0.23500082838128045,
          0.2258573913266303,
          0.2001468373104644,
          0.21929693900350042,
          0.21074531949674602,
          0.22427580579355366,
          0.227906677807057,
          0.23437396013906012,
          0.21774710003880285,
          0.2374327931721623,
          0.2346884817568198,
          0.1869159165711441,
          0.21122238147534575,
          0.18968952454678706,
          0.15984206904539663,
          0.20077783179387457,
          0.17381920087727695,
          0.16379972021738862,
          0.16931228112546795,
          0.18694147233229091,
          0.17690591794193908,
          0.16056563273397262,
          0.17458168659857312,
          0.15971843678218867,
          0.17252361639098318,
          0.14409208406698384,
          0.14422714293410915,
          0.15751782252871183,
          0.13771226933137834,
          0.13529814309875934,
          0.15906092319481394,
          0.02770782470507571,
          0.0006026497147134012,
          0.001294459948934149,
          0.00042550684411393107,
          0.0005659079630505632,
          0.000544890602732836,
          0.0007252403606241059,
          0.0012290529201824671,
          0.0011152842585096883,
          0.0015551690369352647,
          0.0014726179510339626,
          0.002366710525945064,
          0.001007827143516469,
          0.001331926241953572,
          0.0012314514454197904,
          0.0016337701916202148,
          0.0021589915648701653,
          0.003859411366113779,
          0.06431707567240279,
          0.04735691948306394,
          0.00999346124124523,
          0.010619105184676089,
          0.00857756203940908,
          0.007517316088369497,
          0.007897883068446155,
          0.009207434242590747,
          0.008236753114752002,
          0.00911744738628649,
          0.007507956545143753,
          0.006598983096704798,
          0.007800191853910949,
          0.03034412932522847,
          0.027999905803512855,
          0.03231416425390108,
          0.030924080496074462,
          0.03029439817689496,
          0.03223749632463469,
          0.08475711783314596,
          0.0307170311805873,
          0.026751106965010707,
          0.02779760828248792,
          0.027748447204968944,
          0.025079650090588813,
          0.038102381398837426,
          0.037575348789999116,
          0.04015255005733962,
          0.041450948608101626,
          0.0450920429333813,
          0.041335473032271,
          0.033400069610087714,
          0.034256878810858135,
          0.03584273170202082,
          0.0467004689108307,
          0.08426650499866094,
          0.1741106304849393,
          0.18968080180747848,
          0.1759038389242096,
          0.17741052712236396,
          0.16729132789188678,
          0.16954256307208823,
          0.15648781136477657,
          0.13814098439888148,
          0.1548641581349998,
          0.1455904794024249,
          0.1132706411061669,
          0.14868753498645929,
          0.12276772619511842,
          0.12046045584243638,
          0.12278337497284379,
          0.11377057820062965,
          0.1623135082683055,
          0.1284237098035311,
          0.10808337012817497,
          0.12774704950906476,
          0.12822793415208986,
          0.0957088965224189,
          0.11545879024326855,
          0.11873103531982036,
          0.13333870837700557,
          0.12213570346638418,
          0.1789638095477056,
          0.11662496185535551,
          0.14779528427877317,
          0.15794320016300173,
          0.11047890360332614,
          0.10977157360406091,
          0.10753097713689741,
          0.10095386076222539,
          0.11306796397211799,
          0.11245391686840397,
          0.12588440350462074,
          0.1258211654565281,
          0.11263162221598032,
          0.11615246560123066,
          0.1407410707655751,
          0.1577448813741654,
          0.11768740513872242,
          0.13543682391951592,
          0.09460793932122374,
          0.12542377572059168,
          0.10883407767210072,
          0.08576082297471067,
          0.07953390716996922,
          0.08043082571071589,
          0.07820328688425739,
          0.07172013521270489,
          0.09120158233064117,
          0.056458887844062285,
          0.05916054729931159,
          0.05904689645205578,
          0.03625304221949063,
          0.031847438478212066,
          0.03285301098559033,
          0.027269681975839375,
          0.022681474183869958,
          0.018675800143481983,
          0.016917145917381034,
          0.013605245116499135,
          0.007848836201066165,
          0.010744672736476413,
          0.008376998800061689,
          0.035228849867245955,
          0.037444222696839904,
          0.019137241041613743,
          0.014369403419002209,
          0.017846680616321095,
          0.016710877419456406
         ],
         "yaxis": "y"
        },
        {
         "hovertemplate": "direction=import<br>month=%{x}<br>null_percent=%{y}<extra></extra>",
         "legendgroup": "import",
         "line": {
          "color": "#EF553B",
          "dash": "solid"
         },
         "marker": {
          "symbol": "circle"
         },
         "mode": "lines",
         "name": "import",
         "orientation": "v",
         "showlegend": true,
         "type": "scatter",
         "x": [
          "200701",
          "200702",
          "200703",
          "200704",
          "200705",
          "200706",
          "200707",
          "200708",
          "200709",
          "200710",
          "200711",
          "200712",
          "200801",
          "200802",
          "200803",
          "200804",
          "200805",
          "200806",
          "200807",
          "200808",
          "200809",
          "200810",
          "200811",
          "200812",
          "200901",
          "200902",
          "200903",
          "200904",
          "200905",
          "200906",
          "200907",
          "200908",
          "200909",
          "200910",
          "200911",
          "200912",
          "201001",
          "201002",
          "201003",
          "201004",
          "201005",
          "201006",
          "201007",
          "201008",
          "201009",
          "201010",
          "201011",
          "201012",
          "201101",
          "201102",
          "201103",
          "201104",
          "201105",
          "201106",
          "201107",
          "201108",
          "201109",
          "201110",
          "201111",
          "201112",
          "201201",
          "201202",
          "201203",
          "201204",
          "201205",
          "201206",
          "201207",
          "201208",
          "201209",
          "201210",
          "201211",
          "201212",
          "201301",
          "201302",
          "201303",
          "201304",
          "201305",
          "201306",
          "201307",
          "201308",
          "201309",
          "201310",
          "201311",
          "201312",
          "201401",
          "201402",
          "201403",
          "201404",
          "201405",
          "201406",
          "201407",
          "201408",
          "201409",
          "201410",
          "201411",
          "201412",
          "201501",
          "201502",
          "201503",
          "201504",
          "201505",
          "201506",
          "201507",
          "201508",
          "201509",
          "201510",
          "201511",
          "201512",
          "201601",
          "201602",
          "201603",
          "201604",
          "201605",
          "201606",
          "201607",
          "201608",
          "201609",
          "201610",
          "201611",
          "201612",
          "201701",
          "201702",
          "201703",
          "201704",
          "201705",
          "201706",
          "201707",
          "201708",
          "201709",
          "201710",
          "201711",
          "201712",
          "201801",
          "201802",
          "201803",
          "201804",
          "201805",
          "201806",
          "201807",
          "201808",
          "201809",
          "201810",
          "201811",
          "201812",
          "201901",
          "201902",
          "201903",
          "201904",
          "201905",
          "201906",
          "201907",
          "201908",
          "201909",
          "201910",
          "201911",
          "201912",
          "202001",
          "202002",
          "202003",
          "202004",
          "202005",
          "202006",
          "202007",
          "202008",
          "202009",
          "202010",
          "202011",
          "202012",
          "202101",
          "202102",
          "202103",
          "202104",
          "202105",
          "202106",
          "202107",
          "202108",
          "202109",
          "202110",
          "202111",
          "202112",
          "202201",
          "202202",
          "202203",
          "202204",
          "202205",
          "202206",
          "202207",
          "202208",
          "202209",
          "202210",
          "202211",
          "202212",
          "202301",
          "202302",
          "202303",
          "202304",
          "202305",
          "202306",
          "202307",
          "202308",
          "202309",
          "202310",
          "202311",
          "202312"
         ],
         "xaxis": "x",
         "y": [
          0,
          0,
          0,
          0,
          0,
          0,
          0,
          0,
          0,
          0,
          0,
          0,
          0,
          0,
          0,
          0,
          0,
          0,
          0,
          0,
          0,
          0,
          0,
          0,
          0,
          0.0000034212245931308654,
          0,
          0,
          0,
          0,
          0.000023279695191190962,
          0.00003779594222764244,
          0.0001060306316914397,
          0.00009168396831875262,
          0.0002607040221174017,
          0.0015134374904454703,
          0.14912455574727262,
          0.3142437829380098,
          0.24182596727328337,
          0.20356371883274452,
          0.1648387682011517,
          0.18145587776001848,
          0.18708105043923323,
          0.18074181902037229,
          0.19492939070476695,
          0.20001669277588022,
          0.18492850987308135,
          0.19621022004000727,
          0.1777166034153046,
          0.18075492079635433,
          0.18538554163136065,
          0.172608569073085,
          0.17676058691801197,
          0.17855799306366987,
          0.15629703548219773,
          0.16636752592822562,
          0.15185070506798776,
          0.1624674837256856,
          0.1291662332155663,
          0.13544381735681854,
          0.10628691587705255,
          0.13250852860041346,
          0.12059714379216945,
          0.10618383537788938,
          0.10909970254236315,
          0.10838811749386568,
          0.09726125820253706,
          0.10072295077084967,
          0.09367515244904086,
          0.0965154260172708,
          0.09494345868626783,
          0.09545687335553502,
          0.09299457703973774,
          0.09837343098313792,
          0.09615189972853468,
          0.10417499571648867,
          0.11089883803564342,
          0.11084183130308883,
          0.019521382374545388,
          0.002628670497614746,
          0.00018247435221604964,
          0.00018309766705934782,
          0.00011442618482528793,
          0.00019483570765475112,
          0.003126934361600015,
          0.004680005500936001,
          0.003820794856855006,
          0.0025466714126474144,
          0.004057625036280833,
          0.0033709250377189017,
          0.0030967852107434035,
          0.004100575699822104,
          0.004851882559446162,
          0.0028174766097306125,
          0.0022863919447700795,
          0.0049579243817325196,
          0.054799949125425906,
          0.05575206897900566,
          0.001726003458797751,
          0.0023157412541890687,
          0.0006713932753249543,
          0.0008004965792338977,
          0.0020801130783722438,
          0.0020492700009285755,
          0.0008242604399928535,
          0.0009427532289011713,
          0.0008670735427279911,
          0.000934811647753131,
          0.00800037785617486,
          0.00800668855105155,
          0.008304393982409002,
          0.007765060771103658,
          0.00847398453552194,
          0.010237594584011425,
          0.014546471240246083,
          0.20615651375258828,
          0.0067414598020098995,
          0.006644577733729174,
          0.010071341077965772,
          0.006752946646197612,
          0.016122348205832807,
          0.03828300903449745,
          0.016695028633584866,
          0.01905950735456334,
          0.01939048347784221,
          0.017926769695354828,
          0.020669949284607192,
          0.026177079130484903,
          0.024303725801885764,
          0.03143910419853816,
          0.020425139558424118,
          0.0876987701761909,
          0.18605400596544353,
          0.18088914133217932,
          0.15591000113257653,
          0.1550308370847134,
          0.1640922881081982,
          0.13450431792830247,
          0.10941747117817978,
          0.1362541659805618,
          0.15003542228533032,
          0.11194669091036501,
          0.1396413736350554,
          0.12205842472803377,
          0.1406628868565331,
          0.11901641727013361,
          0.09246679556743648,
          0.1408413395523437,
          0.10398891901124092,
          0.07831391712689613,
          0.11210851635448175,
          0.11204713472649797,
          0.08244569709239155,
          0.08785865121955945,
          0.10277169859491905,
          0.08078132649221216,
          0.10551336482688513,
          0.10405716514234674,
          0.08359000617065133,
          0.07546480015421328,
          0.14453550544070323,
          0.06682832015522348,
          0.056834982258734776,
          0.0655600812619023,
          0.051144586652571704,
          0.08735372777595138,
          0.05848830805439093,
          0.13300648959796318,
          0.1331929622797269,
          0.11672360792558614,
          0.10469577959434986,
          0.12599048041443575,
          0.13249733281400822,
          0.11016444867595547,
          0.11972547169887647,
          0.08756782414416774,
          0.07759152041441789,
          0.10181404502285749,
          0.06941759227132482,
          0.05853004498323438,
          0.057792371431043106,
          0.06090709440085638,
          0.05506882447640249,
          0.06215010835354213,
          0.04519176000424314,
          0.051989233615406964,
          0.0399697232585738,
          0.03474735616236255,
          0.05621889583531606,
          0.02302707149660982,
          0.015548648915397313,
          0.03414973518791614,
          0.058976918532401654,
          0.05227414730424932,
          0.02545580237406641,
          0.04103568005665208,
          0.03971794639838881,
          0.023542657158575606,
          0.023985663821507238,
          0.03158704940842124,
          0.014657807746314064,
          0.008622180222654771,
          0.016213680565265055,
          0.010330817022097994
         ],
         "yaxis": "y"
        }
       ],
       "layout": {
        "legend": {
         "title": {
          "text": "direction"
         },
         "tracegroupgap": 0
        },
        "template": {
         "data": {
          "bar": [
           {
            "error_x": {
             "color": "#2a3f5f"
            },
            "error_y": {
             "color": "#2a3f5f"
            },
            "marker": {
             "line": {
              "color": "#E5ECF6",
              "width": 0.5
             },
             "pattern": {
              "fillmode": "overlay",
              "size": 10,
              "solidity": 0.2
             }
            },
            "type": "bar"
           }
          ],
          "barpolar": [
           {
            "marker": {
             "line": {
              "color": "#E5ECF6",
              "width": 0.5
             },
             "pattern": {
              "fillmode": "overlay",
              "size": 10,
              "solidity": 0.2
             }
            },
            "type": "barpolar"
           }
          ],
          "carpet": [
           {
            "aaxis": {
             "endlinecolor": "#2a3f5f",
             "gridcolor": "white",
             "linecolor": "white",
             "minorgridcolor": "white",
             "startlinecolor": "#2a3f5f"
            },
            "baxis": {
             "endlinecolor": "#2a3f5f",
             "gridcolor": "white",
             "linecolor": "white",
             "minorgridcolor": "white",
             "startlinecolor": "#2a3f5f"
            },
            "type": "carpet"
           }
          ],
          "choropleth": [
           {
            "colorbar": {
             "outlinewidth": 0,
             "ticks": ""
            },
            "type": "choropleth"
           }
          ],
          "contour": [
           {
            "colorbar": {
             "outlinewidth": 0,
             "ticks": ""
            },
            "colorscale": [
             [
              0,
              "#0d0887"
             ],
             [
              0.1111111111111111,
              "#46039f"
             ],
             [
              0.2222222222222222,
              "#7201a8"
             ],
             [
              0.3333333333333333,
              "#9c179e"
             ],
             [
              0.4444444444444444,
              "#bd3786"
             ],
             [
              0.5555555555555556,
              "#d8576b"
             ],
             [
              0.6666666666666666,
              "#ed7953"
             ],
             [
              0.7777777777777778,
              "#fb9f3a"
             ],
             [
              0.8888888888888888,
              "#fdca26"
             ],
             [
              1,
              "#f0f921"
             ]
            ],
            "type": "contour"
           }
          ],
          "contourcarpet": [
           {
            "colorbar": {
             "outlinewidth": 0,
             "ticks": ""
            },
            "type": "contourcarpet"
           }
          ],
          "heatmap": [
           {
            "colorbar": {
             "outlinewidth": 0,
             "ticks": ""
            },
            "colorscale": [
             [
              0,
              "#0d0887"
             ],
             [
              0.1111111111111111,
              "#46039f"
             ],
             [
              0.2222222222222222,
              "#7201a8"
             ],
             [
              0.3333333333333333,
              "#9c179e"
             ],
             [
              0.4444444444444444,
              "#bd3786"
             ],
             [
              0.5555555555555556,
              "#d8576b"
             ],
             [
              0.6666666666666666,
              "#ed7953"
             ],
             [
              0.7777777777777778,
              "#fb9f3a"
             ],
             [
              0.8888888888888888,
              "#fdca26"
             ],
             [
              1,
              "#f0f921"
             ]
            ],
            "type": "heatmap"
           }
          ],
          "heatmapgl": [
           {
            "colorbar": {
             "outlinewidth": 0,
             "ticks": ""
            },
            "colorscale": [
             [
              0,
              "#0d0887"
             ],
             [
              0.1111111111111111,
              "#46039f"
             ],
             [
              0.2222222222222222,
              "#7201a8"
             ],
             [
              0.3333333333333333,
              "#9c179e"
             ],
             [
              0.4444444444444444,
              "#bd3786"
             ],
             [
              0.5555555555555556,
              "#d8576b"
             ],
             [
              0.6666666666666666,
              "#ed7953"
             ],
             [
              0.7777777777777778,
              "#fb9f3a"
             ],
             [
              0.8888888888888888,
              "#fdca26"
             ],
             [
              1,
              "#f0f921"
             ]
            ],
            "type": "heatmapgl"
           }
          ],
          "histogram": [
           {
            "marker": {
             "pattern": {
              "fillmode": "overlay",
              "size": 10,
              "solidity": 0.2
             }
            },
            "type": "histogram"
           }
          ],
          "histogram2d": [
           {
            "colorbar": {
             "outlinewidth": 0,
             "ticks": ""
            },
            "colorscale": [
             [
              0,
              "#0d0887"
             ],
             [
              0.1111111111111111,
              "#46039f"
             ],
             [
              0.2222222222222222,
              "#7201a8"
             ],
             [
              0.3333333333333333,
              "#9c179e"
             ],
             [
              0.4444444444444444,
              "#bd3786"
             ],
             [
              0.5555555555555556,
              "#d8576b"
             ],
             [
              0.6666666666666666,
              "#ed7953"
             ],
             [
              0.7777777777777778,
              "#fb9f3a"
             ],
             [
              0.8888888888888888,
              "#fdca26"
             ],
             [
              1,
              "#f0f921"
             ]
            ],
            "type": "histogram2d"
           }
          ],
          "histogram2dcontour": [
           {
            "colorbar": {
             "outlinewidth": 0,
             "ticks": ""
            },
            "colorscale": [
             [
              0,
              "#0d0887"
             ],
             [
              0.1111111111111111,
              "#46039f"
             ],
             [
              0.2222222222222222,
              "#7201a8"
             ],
             [
              0.3333333333333333,
              "#9c179e"
             ],
             [
              0.4444444444444444,
              "#bd3786"
             ],
             [
              0.5555555555555556,
              "#d8576b"
             ],
             [
              0.6666666666666666,
              "#ed7953"
             ],
             [
              0.7777777777777778,
              "#fb9f3a"
             ],
             [
              0.8888888888888888,
              "#fdca26"
             ],
             [
              1,
              "#f0f921"
             ]
            ],
            "type": "histogram2dcontour"
           }
          ],
          "mesh3d": [
           {
            "colorbar": {
             "outlinewidth": 0,
             "ticks": ""
            },
            "type": "mesh3d"
           }
          ],
          "parcoords": [
           {
            "line": {
             "colorbar": {
              "outlinewidth": 0,
              "ticks": ""
             }
            },
            "type": "parcoords"
           }
          ],
          "pie": [
           {
            "automargin": true,
            "type": "pie"
           }
          ],
          "scatter": [
           {
            "fillpattern": {
             "fillmode": "overlay",
             "size": 10,
             "solidity": 0.2
            },
            "type": "scatter"
           }
          ],
          "scatter3d": [
           {
            "line": {
             "colorbar": {
              "outlinewidth": 0,
              "ticks": ""
             }
            },
            "marker": {
             "colorbar": {
              "outlinewidth": 0,
              "ticks": ""
             }
            },
            "type": "scatter3d"
           }
          ],
          "scattercarpet": [
           {
            "marker": {
             "colorbar": {
              "outlinewidth": 0,
              "ticks": ""
             }
            },
            "type": "scattercarpet"
           }
          ],
          "scattergeo": [
           {
            "marker": {
             "colorbar": {
              "outlinewidth": 0,
              "ticks": ""
             }
            },
            "type": "scattergeo"
           }
          ],
          "scattergl": [
           {
            "marker": {
             "colorbar": {
              "outlinewidth": 0,
              "ticks": ""
             }
            },
            "type": "scattergl"
           }
          ],
          "scattermapbox": [
           {
            "marker": {
             "colorbar": {
              "outlinewidth": 0,
              "ticks": ""
             }
            },
            "type": "scattermapbox"
           }
          ],
          "scatterpolar": [
           {
            "marker": {
             "colorbar": {
              "outlinewidth": 0,
              "ticks": ""
             }
            },
            "type": "scatterpolar"
           }
          ],
          "scatterpolargl": [
           {
            "marker": {
             "colorbar": {
              "outlinewidth": 0,
              "ticks": ""
             }
            },
            "type": "scatterpolargl"
           }
          ],
          "scatterternary": [
           {
            "marker": {
             "colorbar": {
              "outlinewidth": 0,
              "ticks": ""
             }
            },
            "type": "scatterternary"
           }
          ],
          "surface": [
           {
            "colorbar": {
             "outlinewidth": 0,
             "ticks": ""
            },
            "colorscale": [
             [
              0,
              "#0d0887"
             ],
             [
              0.1111111111111111,
              "#46039f"
             ],
             [
              0.2222222222222222,
              "#7201a8"
             ],
             [
              0.3333333333333333,
              "#9c179e"
             ],
             [
              0.4444444444444444,
              "#bd3786"
             ],
             [
              0.5555555555555556,
              "#d8576b"
             ],
             [
              0.6666666666666666,
              "#ed7953"
             ],
             [
              0.7777777777777778,
              "#fb9f3a"
             ],
             [
              0.8888888888888888,
              "#fdca26"
             ],
             [
              1,
              "#f0f921"
             ]
            ],
            "type": "surface"
           }
          ],
          "table": [
           {
            "cells": {
             "fill": {
              "color": "#EBF0F8"
             },
             "line": {
              "color": "white"
             }
            },
            "header": {
             "fill": {
              "color": "#C8D4E3"
             },
             "line": {
              "color": "white"
             }
            },
            "type": "table"
           }
          ]
         },
         "layout": {
          "annotationdefaults": {
           "arrowcolor": "#2a3f5f",
           "arrowhead": 0,
           "arrowwidth": 1
          },
          "autotypenumbers": "strict",
          "coloraxis": {
           "colorbar": {
            "outlinewidth": 0,
            "ticks": ""
           }
          },
          "colorscale": {
           "diverging": [
            [
             0,
             "#8e0152"
            ],
            [
             0.1,
             "#c51b7d"
            ],
            [
             0.2,
             "#de77ae"
            ],
            [
             0.3,
             "#f1b6da"
            ],
            [
             0.4,
             "#fde0ef"
            ],
            [
             0.5,
             "#f7f7f7"
            ],
            [
             0.6,
             "#e6f5d0"
            ],
            [
             0.7,
             "#b8e186"
            ],
            [
             0.8,
             "#7fbc41"
            ],
            [
             0.9,
             "#4d9221"
            ],
            [
             1,
             "#276419"
            ]
           ],
           "sequential": [
            [
             0,
             "#0d0887"
            ],
            [
             0.1111111111111111,
             "#46039f"
            ],
            [
             0.2222222222222222,
             "#7201a8"
            ],
            [
             0.3333333333333333,
             "#9c179e"
            ],
            [
             0.4444444444444444,
             "#bd3786"
            ],
            [
             0.5555555555555556,
             "#d8576b"
            ],
            [
             0.6666666666666666,
             "#ed7953"
            ],
            [
             0.7777777777777778,
             "#fb9f3a"
            ],
            [
             0.8888888888888888,
             "#fdca26"
            ],
            [
             1,
             "#f0f921"
            ]
           ],
           "sequentialminus": [
            [
             0,
             "#0d0887"
            ],
            [
             0.1111111111111111,
             "#46039f"
            ],
            [
             0.2222222222222222,
             "#7201a8"
            ],
            [
             0.3333333333333333,
             "#9c179e"
            ],
            [
             0.4444444444444444,
             "#bd3786"
            ],
            [
             0.5555555555555556,
             "#d8576b"
            ],
            [
             0.6666666666666666,
             "#ed7953"
            ],
            [
             0.7777777777777778,
             "#fb9f3a"
            ],
            [
             0.8888888888888888,
             "#fdca26"
            ],
            [
             1,
             "#f0f921"
            ]
           ]
          },
          "colorway": [
           "#636efa",
           "#EF553B",
           "#00cc96",
           "#ab63fa",
           "#FFA15A",
           "#19d3f3",
           "#FF6692",
           "#B6E880",
           "#FF97FF",
           "#FECB52"
          ],
          "font": {
           "color": "#2a3f5f"
          },
          "geo": {
           "bgcolor": "white",
           "lakecolor": "white",
           "landcolor": "#E5ECF6",
           "showlakes": true,
           "showland": true,
           "subunitcolor": "white"
          },
          "hoverlabel": {
           "align": "left"
          },
          "hovermode": "closest",
          "mapbox": {
           "style": "light"
          },
          "paper_bgcolor": "white",
          "plot_bgcolor": "#E5ECF6",
          "polar": {
           "angularaxis": {
            "gridcolor": "white",
            "linecolor": "white",
            "ticks": ""
           },
           "bgcolor": "#E5ECF6",
           "radialaxis": {
            "gridcolor": "white",
            "linecolor": "white",
            "ticks": ""
           }
          },
          "scene": {
           "xaxis": {
            "backgroundcolor": "#E5ECF6",
            "gridcolor": "white",
            "gridwidth": 2,
            "linecolor": "white",
            "showbackground": true,
            "ticks": "",
            "zerolinecolor": "white"
           },
           "yaxis": {
            "backgroundcolor": "#E5ECF6",
            "gridcolor": "white",
            "gridwidth": 2,
            "linecolor": "white",
            "showbackground": true,
            "ticks": "",
            "zerolinecolor": "white"
           },
           "zaxis": {
            "backgroundcolor": "#E5ECF6",
            "gridcolor": "white",
            "gridwidth": 2,
            "linecolor": "white",
            "showbackground": true,
            "ticks": "",
            "zerolinecolor": "white"
           }
          },
          "shapedefaults": {
           "line": {
            "color": "#2a3f5f"
           }
          },
          "ternary": {
           "aaxis": {
            "gridcolor": "white",
            "linecolor": "white",
            "ticks": ""
           },
           "baxis": {
            "gridcolor": "white",
            "linecolor": "white",
            "ticks": ""
           },
           "bgcolor": "#E5ECF6",
           "caxis": {
            "gridcolor": "white",
            "linecolor": "white",
            "ticks": ""
           }
          },
          "title": {
           "x": 0.05
          },
          "xaxis": {
           "automargin": true,
           "gridcolor": "white",
           "linecolor": "white",
           "ticks": "",
           "title": {
            "standoff": 15
           },
           "zerolinecolor": "white",
           "zerolinewidth": 2
          },
          "yaxis": {
           "automargin": true,
           "gridcolor": "white",
           "linecolor": "white",
           "ticks": "",
           "title": {
            "standoff": 15
           },
           "zerolinecolor": "white",
           "zerolinewidth": 2
          }
         }
        },
        "title": {
         "text": "Proportion of Missing Vessel Names over time."
        },
        "xaxis": {
         "anchor": "y",
         "domain": [
          0,
          1
         ],
         "title": {
          "text": "month"
         }
        },
        "yaxis": {
         "anchor": "x",
         "domain": [
          0,
          1
         ],
         "title": {
          "text": "null_percent"
         }
        }
       }
      }
     },
     "metadata": {},
     "output_type": "display_data"
    }
   ],
   "source": [
    "nulls_over_time_plotly(\n",
    "    data_lf=main_lf,\n",
    "    group_var='direction',\n",
    "    time_var='month',\n",
    "    value_var='vessel_name',\n",
    "    title='Proportion of Missing Vessel Names over time.')"
   ]
  },
  {
   "cell_type": "markdown",
   "metadata": {},
   "source": [
    "Since our analysis concerns the practice of carriers sharing cargo with other carriers on a single vessel, we drop missing vessels."
   ]
  },
  {
   "cell_type": "code",
   "execution_count": 12,
   "metadata": {},
   "outputs": [],
   "source": [
    "#drop missing vessels\n",
    "main_lf = main_lf.drop_nulls(subset='vessel_id')"
   ]
  },
  {
   "cell_type": "markdown",
   "metadata": {},
   "source": [
    "We also drop bols with missing port data for the same reason. "
   ]
  },
  {
   "cell_type": "code",
   "execution_count": 13,
   "metadata": {},
   "outputs": [],
   "source": [
    "#drop missing ports\n",
    "main_lf = main_lf.drop_nulls(subset=['arrival_port_code', 'departure_port_code'])"
   ]
  },
  {
   "cell_type": "markdown",
   "metadata": {},
   "source": [
    "## Establish Primary Carrier\n",
    "\n",
    "We define the primary carrier of a vessel as the carrier representing the mode of cargo on that vessel during any given month. Cargoes from the primary carrier are deemed \"primary cargo\" and cargo from other carriers are deemed \"shared cargo.\" "
   ]
  },
  {
   "cell_type": "code",
   "execution_count": 14,
   "metadata": {},
   "outputs": [],
   "source": [
    "#add primary carrier\n",
    "main_lf = add_primary_carrier(main_lf)"
   ]
  },
  {
   "cell_type": "markdown",
   "metadata": {},
   "source": [
    "## Port Visit Identification\n",
    "\n",
    "Unfortunately, the date listed on each BOL does not necessarily correspond to the actual date of the ship's US port visit, with date data spread out over several days to a week for a single vessel and port, even when the associated routes take several weeks to complete. We suspect this is due to US Customs processing delays and inconsistency in whether the PIERS data records the actual port visit date or the date on which Customs processed the BOL (i.e., the date data are noisy). We address this problem by emplying a Hierarchical Density-Based Spatial Clustering of Applications with Noise (HDBSCAN) algorithm to cluster the dates surrounding port visits together into a single date. This allows us to analyse the data with unique combinations of vessel, port, and date, as is the case for the actual activity of ships. \n",
    "\n",
    "The problem of noise in the original date data is most problematic when routes are very short (e.g., between Florida and the Dominican Republic), which is a very small percentage of cargo volumes in the database. In other words, the HDBSCAN clustering successfully solves the problem for the majority of volumes represented in the data. If more accurate date data is required, future analyses may add route distances from the SeaRoute database as a parameter in the clustering algorithm. In recent years, [vessel entrances and clearances data](https://ndclibrary.sec.usace.army.mil/searchResults?series=Foreign%20Traffic%20Vessel%20Entrances%20Clearances) are available from the US Army Corp of Engineers, which could also be used if the need arises. \n",
    "\n",
    "### HDBSCAN Clustering \n",
    "\n"
   ]
  },
  {
   "cell_type": "code",
   "execution_count": 15,
   "metadata": {},
   "outputs": [
    {
     "name": "stdout",
     "output_type": "stream",
     "text": [
      "skipping\n"
     ]
    }
   ],
   "source": [
    "%%script echo skipping\n",
    "\n",
    "#cluser imports\n",
    "main_lf = cluster_dates(\n",
    "    main_lf, \n",
    "    save_parquet='../data/misc/imputed_date_pairings.parquet'\n",
    "    );"
   ]
  },
  {
   "cell_type": "code",
   "execution_count": 16,
   "metadata": {},
   "outputs": [],
   "source": [
    "#%%script echo skipping\n",
    "\n",
    "#load previously clusereed data\n",
    "clusters_df = pl.read_parquet('../data/misc/imputed_date_pairings.parquet')\n",
    "\n",
    "#add vessel_port_pair for join\n",
    "main_lf = (\n",
    "    main_lf.with_columns(\n",
    "        pl.when(pl.col('direction')=='import')\n",
    "        .then(pl.col('vessel_id').cast(pl.Utf8) +'_'+pl.col('arrival_port_code').cast(pl.Utf8))\n",
    "        .otherwise(pl.col('vessel_id').cast(pl.Utf8) +'_'+pl.col('departure_port_code').cast(pl.Utf8))\n",
    "        .alias('vessel_port_pair')\n",
    "        .cast(pl.Categorical)\n",
    "    )\n",
    ")\n",
    "#join to main\n",
    "main_lf = (\n",
    "    main_lf\n",
    "    .join(\n",
    "        clusters_df.lazy().rename({'date':'date_imputed'}),\n",
    "        left_on=['vessel_port_pair', 'date'],\n",
    "        right_on=['vessel_port_pair', 'date_raw'],\n",
    "        how='left'\n",
    "    )\n",
    "    #drop unnecessary columns and rename date\n",
    "    .drop('date', 'vessel_port_pair')\n",
    "    .rename({'date_imputed':'date'})\n",
    ")"
   ]
  },
  {
   "cell_type": "markdown",
   "metadata": {},
   "source": [
    "## Add other data\n",
    "\n",
    "### Alliance Membership\n",
    "\n",
    "Data on which carriers are part of which alliances was collected from alliance agreements filed with the Federal Maritime Commission."
   ]
  },
  {
   "cell_type": "code",
   "execution_count": 17,
   "metadata": {},
   "outputs": [],
   "source": [
    "#load alliance membership data from csv (NOTE polars parsing dates is apparently broken in 1.1.0, hence the use of pandas here)\n",
    "alliances_df = pd.read_csv('../data/misc/masterAlliances.csv')\n",
    "alliances_df.date = pd.to_datetime(alliances_df.date)\n",
    "alliances_df = (\n",
    "    pl.DataFrame(alliances_df)\n",
    "    .cast({'unified_carrier_scac':pl.Categorical, 'date':pl.Datetime})\n",
    "    .select('date', 'unified_carrier_scac', 'alliance')\n",
    ")"
   ]
  },
  {
   "cell_type": "code",
   "execution_count": 18,
   "metadata": {},
   "outputs": [],
   "source": [
    "main_lf = add_alliance_data(main_lf)"
   ]
  },
  {
   "cell_type": "markdown",
   "metadata": {},
   "source": [
    "### Add Drewery Rate Data"
   ]
  },
  {
   "cell_type": "code",
   "execution_count": 19,
   "metadata": {},
   "outputs": [],
   "source": [
    "#load drewery data\n",
    "drewery_df = (\n",
    "    #load CSV\n",
    "    pl.read_csv('../data/rates/tidy_rates.csv')\n",
    "    #filter by US ports\n",
    "    .filter(pl.col('route').str.contains('US '))\n",
    "    #drop lanes containing \"via\" - these are not coast ports\n",
    "    .filter(~pl.col('route').str.contains(' via '))\n",
    ")\n",
    "\n",
    "#get piers_lanes_df (used to merge back into main_lf)\n",
    "piers_lanes_df = (\n",
    "    main_lf\n",
    "    #select columns\n",
    "    .select('lane_id', 'lane_name', 'origin_territory', 'departure_port_name', \n",
    "            'coast_region', 'dest_territory', 'arrival_port_name', 'direction')\n",
    "    #group by to get modes (NOTE: territory data is uncommonly messy/incorrect; this step avoids gets around that issue)\n",
    "    .group_by('direction', 'lane_id')\n",
    "    .agg(\n",
    "        pl.all().mode().first()\n",
    "    )\n",
    "    #construct origin and destination port names for geocoder\n",
    "    .with_columns(\n",
    "        pl.when(pl.col('direction')=='import')\n",
    "        .then(pl.col('origin_territory').cast(pl.Utf8)+' '+pl.col('departure_port_name').cast(pl.Utf8))\n",
    "        .otherwise('US Port of '+pl.col('departure_port_name').cast(pl.Utf8))\n",
    "        .alias('piers_origin'),\n",
    "        pl.when(pl.col('direction')=='import')\n",
    "        .then('US Port of '+pl.col('arrival_port_name').cast(pl.Utf8))\n",
    "        .otherwise(pl.col('dest_territory').cast(pl.Utf8)+' '+pl.col('arrival_port_name').cast(pl.Utf8))\n",
    "        .alias('piers_dest')\n",
    "    )\n",
    "    #drop unnessary cols\n",
    "    .drop('origin_territory', 'departure_port_name', 'coast_region', 'dest_territory', 'arrival_port_name', 'direction')\n",
    "    #recast to categorical data\n",
    "    .cast(pl.Categorical)\n",
    "    #drop duplicates\n",
    "    .unique()\n",
    "    #drop nulls\n",
    "    .drop_nulls()\n",
    "    #collect to memory\n",
    "    .collect()\n",
    ")\n",
    "\n",
    "#get piers_ports_df\n",
    "#convert origin ports to series\n",
    "piers_ports = (\n",
    "    piers_lanes_df\n",
    "    .select('piers_origin')\n",
    "    .rename({'piers_origin':'piers_ports'})\n",
    "    .drop_nulls()\n",
    "    .unique()\n",
    "    .to_series()\n",
    ")\n",
    "#append dest ports\n",
    "piers_ports_df = (\n",
    "    pl.DataFrame(\n",
    "        piers_ports.append(\n",
    "            piers_lanes_df\n",
    "            .select('piers_dest')\n",
    "            .drop_nulls()\n",
    "            .unique()\n",
    "            .to_series()\n",
    "        )\n",
    "    )\n",
    "    #cast to strings\n",
    "    .cast(pl.Utf8)\n",
    "    #convert to pandas\n",
    "    .to_pandas()\n",
    ")\n",
    "\n",
    "#get drewery_lanes_df\n",
    "drewery_lanes_df = (\n",
    "    drewery_df\n",
    "    .select('route')\n",
    "    .unique()\n",
    "    #split route col\n",
    "    .with_columns(\n",
    "        pl.col('route').str.split_exact(by=' to ', n=1)\n",
    "        .alias('split')\n",
    "    )\n",
    "    #unnest into separate cols\n",
    "    .unnest('split')\n",
    "    #rename\n",
    "    .rename({\n",
    "        'field_0':'drewery_origin',\n",
    "        'field_1':'drewery_dest'\n",
    "    })\n",
    "    #drop nulls\n",
    "    .drop_nulls()\n",
    ")\n",
    "\n",
    "#get drewery_ports\n",
    "#convert origin col to series\n",
    "drewery_ports = (\n",
    "    drewery_lanes_df\n",
    "    .select('drewery_origin')\n",
    "    .rename({'drewery_origin':'drewery_port'})\n",
    "    .drop_nulls()\n",
    "    .unique()\n",
    "    .to_series()\n",
    ")\n",
    "#append dest col\n",
    "drewery_ports_df = (\n",
    "    pl.DataFrame(\n",
    "        drewery_ports.append(\n",
    "            drewery_lanes_df\n",
    "            .select('drewery_dest')\n",
    "            .drop_nulls()\n",
    "            .unique()\n",
    "            .to_series()\n",
    "        )\n",
    "    )\n",
    "    #drop non-coast ports\n",
    "    .filter(~pl.col('drewery_port').str.contains(' via '))\n",
    "    #convert to pandas\n",
    "    .to_pandas()\n",
    ")"
   ]
  },
  {
   "cell_type": "markdown",
   "metadata": {},
   "source": [
    "#### Geocode ports"
   ]
  },
  {
   "cell_type": "code",
   "execution_count": 20,
   "metadata": {},
   "outputs": [
    {
     "name": "stdout",
     "output_type": "stream",
     "text": [
      "skipping #api calls are limited; only execute when necessary\n"
     ]
    }
   ],
   "source": [
    "%%script echo skipping #api calls are limited; only execute when necessary\n",
    "\n",
    "#geocode drewery ports\n",
    "drewery_ports_df['drewery_port_loc'] = (\n",
    "    drewery_ports_df.drewery_port\n",
    "    .apply(lambda r: geocoder_trg(r))\n",
    "    .dropna()\n",
    ")\n",
    "\n",
    "#geocode piers ports\n",
    "piers_ports_df['piers_port_loc'] = (\n",
    "    piers_ports_df.piers_ports\n",
    "    .apply(lambda r: geocoder_trg(r))\n",
    "    .dropna()\n",
    ")\n",
    "\n",
    "#save geolocations\n",
    "drewery_ports_df.to_parquet('../data/misc/drewery_port_geolocations.parquet')\n",
    "piers_ports_df.to_parquet('../data/misc/piers_port_geolocations.parquet')"
   ]
  },
  {
   "cell_type": "code",
   "execution_count": 21,
   "metadata": {},
   "outputs": [],
   "source": [
    "#%%script echo skipping\n",
    "#load previously geocoded data\n",
    "drewery_ports_df = pl.read_parquet('../data/misc/drewery_port_geolocations.parquet').to_pandas()\n",
    "piers_ports_df = pl.read_parquet('../data/misc/piers_port_geolocations.parquet').to_pandas()"
   ]
  },
  {
   "cell_type": "code",
   "execution_count": 22,
   "metadata": {},
   "outputs": [],
   "source": [
    "#merge distances back to lanes\n",
    "\n",
    "#merge drewery origin locs\n",
    "drewery_loc_lanes_df = (\n",
    "    drewery_lanes_df\n",
    "    .join(\n",
    "        pl.DataFrame(drewery_ports_df),\n",
    "        left_on='drewery_origin',\n",
    "        right_on='drewery_port',\n",
    "    )\n",
    "    .rename({'drewery_port_loc':'drewery_origin_loc'})\n",
    ")\n",
    "#merge drewery dest locs\n",
    "drewery_loc_lanes_df = (\n",
    "    drewery_loc_lanes_df\n",
    "    .join(\n",
    "        pl.DataFrame(drewery_ports_df),\n",
    "        left_on='drewery_dest',\n",
    "        right_on='drewery_port',\n",
    "    )\n",
    "    .rename({'drewery_port_loc':'drewery_dest_loc'})\n",
    "    .unique()\n",
    ")\n",
    "\n",
    "#merge drewery origin locs\n",
    "piers_loc_lanes_df = (\n",
    "    piers_lanes_df\n",
    "    .join(\n",
    "        pl.DataFrame(piers_ports_df).cast({'piers_ports':pl.Categorical}),\n",
    "        left_on='piers_origin',\n",
    "        right_on='piers_ports',\n",
    "    )\n",
    "    .rename({'piers_port_loc':'piers_origin_loc'})\n",
    ")\n",
    "#merge drewery dest locs\n",
    "piers_loc_lanes_df = (\n",
    "    piers_loc_lanes_df\n",
    "    .join(\n",
    "        pl.DataFrame(piers_ports_df).cast({'piers_ports':pl.Categorical}),\n",
    "        left_on='piers_dest',\n",
    "        right_on='piers_ports',\n",
    "    )\n",
    "    .rename({'piers_port_loc':'piers_dest_loc'})\n",
    "    .unique()\n",
    ")"
   ]
  },
  {
   "cell_type": "markdown",
   "metadata": {},
   "source": [
    "#### Match Ports on sum of origin-origin and destination-destination Haversine distances"
   ]
  },
  {
   "cell_type": "code",
   "execution_count": 23,
   "metadata": {},
   "outputs": [],
   "source": [
    "#create df for matching \n",
    "df = (\n",
    "    #cross join piers and drewery tables\n",
    "    piers_loc_lanes_df.join(drewery_loc_lanes_df, how='cross')\n",
    "    #convert to pandas\n",
    "    .to_pandas()\n",
    ")\n",
    "\n",
    "#get summed haversine distance\n",
    "def haversine(row, col1, col2):\n",
    "    return geopy.distance.great_circle(row[col1], row[col2]).km\n",
    "\n",
    "#get origin pair distances\n",
    "df['origin_dist'] = (\n",
    "    df.apply(lambda r: haversine(row=r, col1='piers_origin_loc', col2='drewery_origin_loc'), axis=1)\n",
    ")\n",
    "#get dest pair distances\n",
    "df['dest_dist'] = (\n",
    "    df.apply(lambda r: haversine(row=r, col1='piers_dest_loc', col2='drewery_dest_loc'), axis=1)\n",
    ")\n",
    "#sum\n",
    "df['dist'] = df.origin_dist + df.dest_dist\n",
    "\n",
    "#match on minimum dist\n",
    "matched_df = (\n",
    "    pl.DataFrame(df)\n",
    "    .sort(by='dist')\n",
    "    .group_by('lane_id')\n",
    "    .agg(\n",
    "        pl.col('route').first(),\n",
    "        pl.col('dist').min()\n",
    "    )\n",
    ")\n",
    "\n",
    "#save matches\n",
    "matched_df.write_csv('../data/misc/matched_lanes_dist.csv')\n",
    "\n",
    "#merge back to main lf\n",
    "main_lf = (\n",
    "    main_lf.join(\n",
    "        matched_df.lazy(),\n",
    "        on='lane_id',\n",
    "        how='left'\n",
    "    )\n",
    "    .rename({'route':'drewery_lane'})\n",
    ")"
   ]
  },
  {
   "cell_type": "markdown",
   "metadata": {},
   "source": [
    "#### Merge Rate info to main lf"
   ]
  },
  {
   "cell_type": "code",
   "execution_count": 24,
   "metadata": {},
   "outputs": [],
   "source": [
    "#prep drewery df for merge\n",
    "df = (\n",
    "    #convert to polars because I apparently live here now\n",
    "    pl.DataFrame(drewery_df)\n",
    "    #choose cols\n",
    "    .select('route', 'container_type', 'date', 'rate')\n",
    "    #drop duplicates on relevant cols\n",
    "    .unique(subset=['route', 'container_type', 'date'])\n",
    "    #pivot container type\n",
    "    .pivot('container_type', values='rate')\n",
    "    #rename\n",
    "    .rename({\n",
    "        '40ft Dry':'rate_40',\n",
    "        '20ft Dry':'rate_20'\n",
    "    })\n",
    "    #convert date to dt\n",
    "    .with_columns(\n",
    "        pl.col('date').str.to_date(format='%Y-%m')\n",
    "    )\n",
    "    #drop rows with missing prices\n",
    "    .drop_nulls(subset='rate_20')\n",
    ")\n",
    "\n",
    "#join asof date with main lf\n",
    "main_lf = (\n",
    "    main_lf\n",
    "    #sort by date and recast to enable join_asof\n",
    "    .sort(by='date')\n",
    "    .cast({'date':pl.Date, 'drewery_lane':pl.Categorical})\n",
    "    #join \n",
    "    .join_asof(\n",
    "        df.lazy().sort(by='date').cast({'route':pl.Categorical}),\n",
    "        on='date',\n",
    "        by_left='drewery_lane',\n",
    "        by_right='route'\n",
    "    )\n",
    ")"
   ]
  },
  {
   "cell_type": "markdown",
   "metadata": {},
   "source": [
    "#### Inspect"
   ]
  },
  {
   "cell_type": "code",
   "execution_count": 25,
   "metadata": {},
   "outputs": [
    {
     "data": {
      "application/vnd.plotly.v1+json": {
       "config": {
        "plotlyServerURL": "https://plot.ly"
       },
       "data": [
        {
         "hovertemplate": "direction=export<br>month=%{x}<br>null_percent=%{y}<extra></extra>",
         "legendgroup": "export",
         "line": {
          "color": "#636efa",
          "dash": "solid"
         },
         "marker": {
          "symbol": "circle"
         },
         "mode": "lines",
         "name": "export",
         "orientation": "v",
         "showlegend": true,
         "type": "scatter",
         "x": [
          "200701",
          "200702",
          "200703",
          "200704",
          "200705",
          "200706",
          "200707",
          "200708",
          "200709",
          "200710",
          "200711",
          "200712",
          "200801",
          "200802",
          "200803",
          "200804",
          "200805",
          "200806",
          "200807",
          "200808",
          "200809",
          "200810",
          "200811",
          "200812",
          "200901",
          "200902",
          "200903",
          "200904",
          "200905",
          "200906",
          "200907",
          "200908",
          "200909",
          "200910",
          "200911",
          "200912",
          "201001",
          "201002",
          "201003",
          "201004",
          "201005",
          "201006",
          "201007",
          "201008",
          "201009",
          "201010",
          "201011",
          "201012",
          "201101",
          "201102",
          "201103",
          "201104",
          "201105",
          "201106",
          "201107",
          "201108",
          "201109",
          "201110",
          "201111",
          "201112",
          "201201",
          "201202",
          "201203",
          "201204",
          "201205",
          "201206",
          "201207",
          "201208",
          "201209",
          "201210",
          "201211",
          "201212",
          "201301",
          "201302",
          "201303",
          "201304",
          "201305",
          "201306",
          "201307",
          "201308",
          "201309",
          "201310",
          "201311",
          "201312",
          "201401",
          "201402",
          "201403",
          "201404",
          "201405",
          "201406",
          "201407",
          "201408",
          "201409",
          "201410",
          "201411",
          "201412",
          "201501",
          "201502",
          "201503",
          "201504",
          "201505",
          "201506",
          "201507",
          "201508",
          "201509",
          "201510",
          "201511",
          "201512",
          "201601",
          "201602",
          "201603",
          "201604",
          "201605",
          "201606",
          "201607",
          "201608",
          "201609",
          "201610",
          "201611",
          "201612",
          "201701",
          "201702",
          "201703",
          "201704",
          "201705",
          "201706",
          "201707",
          "201708",
          "201709",
          "201710",
          "201711",
          "201712",
          "201801",
          "201802",
          "201803",
          "201804",
          "201805",
          "201806",
          "201807",
          "201808",
          "201809",
          "201810",
          "201811",
          "201812",
          "201901",
          "201902",
          "201903",
          "201904",
          "201905",
          "201906",
          "201907",
          "201908",
          "201909",
          "201910",
          "201911",
          "201912",
          "202001",
          "202002",
          "202003",
          "202004",
          "202005",
          "202006",
          "202007",
          "202008",
          "202009",
          "202010",
          "202011",
          "202012",
          "202101",
          "202102",
          "202103",
          "202104",
          "202105",
          "202106",
          "202107",
          "202108",
          "202109",
          "202110",
          "202111",
          "202112",
          "202201",
          "202202",
          "202203",
          "202204",
          "202205",
          "202206",
          "202207",
          "202208",
          "202209",
          "202210",
          "202211",
          "202212",
          "202301",
          "202302",
          "202303",
          "202304",
          "202305",
          "202306",
          "202307",
          "202308",
          "202309",
          "202310",
          "202311",
          "202312"
         ],
         "xaxis": "x",
         "y": [
          0.9998793472687239,
          0.999915130698724,
          0.9999118691298545,
          0.9998996670771195,
          0.999940249586015,
          0.9998820680214805,
          0.9999024956677053,
          0.9998968241685416,
          0.9999126240738152,
          0.9998924427058228,
          0.999846130796921,
          0.9999272506301379,
          0.999949964349599,
          0.9999689921278765,
          0.9999396711322597,
          0.9999407635577408,
          0.999892766377255,
          0.9999583240193831,
          0.9999117259691606,
          0.9999375715326189,
          0.9999457393784833,
          0.9999325228978219,
          0.999938472644938,
          0.9999164954049277,
          0.9999400629339193,
          0.9999555680623232,
          0.9999151456524875,
          0.9999692673782,
          0.9999570393219086,
          0.9998484664807855,
          0.9999216969507144,
          0.9999144933732365,
          0.9999352043439008,
          0.9998565782763896,
          0.9998297384616662,
          0.9998907495455182,
          0.9999159457009228,
          0.999790733687691,
          0.9997731302148541,
          0.9998840051725101,
          0.999743083253661,
          0.9998944011489155,
          0.9998662628668065,
          0.9998667743931788,
          0.9998691133739954,
          0.9999190876165523,
          0.9998488092708521,
          0.9998510457827338,
          0.9998879556649185,
          0.9999176116037551,
          0.9999076307646396,
          0.9998910519869864,
          0.9998771172499633,
          0.9997516463775554,
          0.9999395073478408,
          0.9998438681260888,
          0.9999105836449358,
          0.9999206289213093,
          0.9998938065627544,
          0.9998238092441416,
          0.9998743030917384,
          0.9998800006620653,
          0.99987007833925,
          0.9998704581709434,
          0.9998001141166679,
          0.9997489043097151,
          0.9997760885762708,
          0.9997464640793929,
          0.9997396096476568,
          0.999831259069825,
          0.9998540336644465,
          0.9998030354426778,
          0.9999213044573155,
          0.9997887402388388,
          0.9998312828130117,
          0.9998400793862329,
          0.9997721827828976,
          0.999756144178107,
          0.9996109479253799,
          0.9995332492983875,
          0.9997151053127947,
          0.9996254050851986,
          0.9997034347646351,
          0.9997170100278329,
          0.9996213542670331,
          0.9997669484155971,
          0.9995959536810669,
          0.9996506868332821,
          0.9995763501720019,
          0.9995379871956451,
          0.9996567826079102,
          0.999584111903186,
          0.9994523424512374,
          0.9996507253369169,
          0.5165432114994052,
          0.08656621392190153,
          0.08988279596688382,
          0.08472486673425628,
          0.08430927899102234,
          0.08246538376049914,
          0.08211720614109085,
          0.08390201971154478,
          0.08217128662564219,
          0.08433785421447541,
          0.08659574832553917,
          0.08406534036738067,
          0.08790469945646204,
          0.08284750031838571,
          0.08421179940542607,
          0.08341198023649586,
          0.07546471081747155,
          0.07464341733243196,
          0.07884947368768505,
          0.07914501669409187,
          0.08114323258869909,
          0.029659201493256102,
          0.03188578146854328,
          0.03027250157822604,
          0.030335431245878338,
          0.03005196506405035,
          0.03265401716802163,
          0.031718838871840634,
          0.03135429393297351,
          0.03102863862755949,
          0.03176625672873939,
          0.032732312591947,
          0.03200757325000993,
          0.03166900411796089,
          0.031522994983937326,
          0.03187700618854241,
          0.03289749257309301,
          0.042084405406204714,
          0.043714716655893125,
          0.0432892878593575,
          0.044515442669859365,
          0.0439865372227495,
          0.04269028402396176,
          0.04042395504292077,
          0.04136730761496302,
          0.03812171742316404,
          0.03890074184266672,
          0.0376865148978462,
          0.036537933640638426,
          0.03713536234632281,
          0.03607370454742063,
          0.037965054452025554,
          0.03699171686746988,
          0.03576908191192326,
          0.03606392629388694,
          0.03931527941309664,
          0.04001012823063428,
          0.036362885064358176,
          0.03666757799010015,
          0.037191091257435374,
          0.03677784344015565,
          0.03653872702104717,
          0.03503195295107931,
          0.03790684935704682,
          0.036756251298746274,
          0.028841363524157896,
          0.033257405315583605,
          0.029726655436500354,
          0.030932004330153803,
          0.034823561422392235,
          0.036775835460319345,
          0.037176862042487845,
          0.03595166379291841,
          0.034514446750342695,
          0.02757810682703051,
          0.027533428187066035,
          0.0251823707222981,
          0.0267834541778929,
          0.026125567227330077,
          0.026900105217552765,
          0.02375786630082507,
          0.02542460516978858,
          0.023660127082778655,
          0.028188549835084422,
          0.025505398705516248,
          0.027075723776138063,
          0.027504647191918512,
          0.02369528602770489,
          0.025484024271811224,
          0.02778050778050778,
          0.024446502287937533,
          0.027357690282571814,
          0.028417875001445762,
          0.027288148633943847,
          0.027521537517765357,
          0.029005924242322356,
          0.025440123119408565,
          0.025022892632595276,
          0.025258369105491996,
          0.02453527635971875,
          0.021807598119458885,
          0.02435991298529788,
          0.02377839631129105,
          0.00018307124904173643,
          0.00016478924632461127,
          0.00015415758962438286,
          0.0002372425635753584,
          0.00016279534405316007,
          0.00019814212618156813,
          0.0001567127294937375
         ],
         "yaxis": "y"
        },
        {
         "hovertemplate": "direction=import<br>month=%{x}<br>null_percent=%{y}<extra></extra>",
         "legendgroup": "import",
         "line": {
          "color": "#EF553B",
          "dash": "solid"
         },
         "marker": {
          "symbol": "circle"
         },
         "mode": "lines",
         "name": "import",
         "orientation": "v",
         "showlegend": true,
         "type": "scatter",
         "x": [
          "200701",
          "200702",
          "200703",
          "200704",
          "200705",
          "200706",
          "200707",
          "200708",
          "200709",
          "200710",
          "200711",
          "200712",
          "200801",
          "200802",
          "200803",
          "200804",
          "200805",
          "200806",
          "200807",
          "200808",
          "200809",
          "200810",
          "200811",
          "200812",
          "200901",
          "200902",
          "200903",
          "200904",
          "200905",
          "200906",
          "200907",
          "200908",
          "200909",
          "200910",
          "200911",
          "200912",
          "201001",
          "201002",
          "201003",
          "201004",
          "201005",
          "201006",
          "201007",
          "201008",
          "201009",
          "201010",
          "201011",
          "201012",
          "201101",
          "201102",
          "201103",
          "201104",
          "201105",
          "201106",
          "201107",
          "201108",
          "201109",
          "201110",
          "201111",
          "201112",
          "201201",
          "201202",
          "201203",
          "201204",
          "201205",
          "201206",
          "201207",
          "201208",
          "201209",
          "201210",
          "201211",
          "201212",
          "201301",
          "201302",
          "201303",
          "201304",
          "201305",
          "201306",
          "201307",
          "201308",
          "201309",
          "201310",
          "201311",
          "201312",
          "201401",
          "201402",
          "201403",
          "201404",
          "201405",
          "201406",
          "201407",
          "201408",
          "201409",
          "201410",
          "201411",
          "201412",
          "201501",
          "201502",
          "201503",
          "201504",
          "201505",
          "201506",
          "201507",
          "201508",
          "201509",
          "201510",
          "201511",
          "201512",
          "201601",
          "201602",
          "201603",
          "201604",
          "201605",
          "201606",
          "201607",
          "201608",
          "201609",
          "201610",
          "201611",
          "201612",
          "201701",
          "201702",
          "201703",
          "201704",
          "201705",
          "201706",
          "201707",
          "201708",
          "201709",
          "201710",
          "201711",
          "201712",
          "201801",
          "201802",
          "201803",
          "201804",
          "201805",
          "201806",
          "201807",
          "201808",
          "201809",
          "201810",
          "201811",
          "201812",
          "201901",
          "201902",
          "201903",
          "201904",
          "201905",
          "201906",
          "201907",
          "201908",
          "201909",
          "201910",
          "201911",
          "201912",
          "202001",
          "202002",
          "202003",
          "202004",
          "202005",
          "202006",
          "202007",
          "202008",
          "202009",
          "202010",
          "202011",
          "202012",
          "202101",
          "202102",
          "202103",
          "202104",
          "202105",
          "202106",
          "202107",
          "202108",
          "202109",
          "202110",
          "202111",
          "202112",
          "202201",
          "202202",
          "202203",
          "202204",
          "202205",
          "202206",
          "202207",
          "202208",
          "202209",
          "202210",
          "202211",
          "202212",
          "202301",
          "202302",
          "202303",
          "202304",
          "202305",
          "202306",
          "202307",
          "202308",
          "202309",
          "202310",
          "202311",
          "202312"
         ],
         "xaxis": "x",
         "y": [
          0.9998958873417748,
          0.9997275520010984,
          0.999816030581707,
          0.9998176834611966,
          0.9998171824872617,
          0.9997598853360128,
          0.9998180316115485,
          0.9998395261645294,
          0.999839582609227,
          0.9997129094412331,
          0.9997715888599479,
          0.9997722911444026,
          0.9997892005173797,
          0.9998547925711879,
          0.9998416494163977,
          0.9998109903422897,
          0.9997523187527294,
          0.9997659665354868,
          0.9998109088408712,
          0.9996938008396192,
          0.9997639091096364,
          0.9997980613893377,
          0.9997188948261453,
          0.9996891030623348,
          0.9997616676455316,
          0.9997121246911338,
          0.9996082698585419,
          0.9997517633363008,
          0.9996608502484272,
          0.9996440034356494,
          0.9997048887508252,
          0.9997730419191575,
          0.9996675178953603,
          0.999739388213832,
          0.9995992823511197,
          0.9995094462261085,
          0.999611892267762,
          0.999738089563931,
          0.9996813038304052,
          0.9998154020488544,
          0.9997666769650627,
          0.9996841759316409,
          0.9997510633922483,
          0.9997449114226906,
          0.9997512945857985,
          0.9997496031370232,
          0.999757769779816,
          0.9997556583198343,
          0.9998102854713016,
          0.9997869742073512,
          0.9996550987895609,
          0.9997648737881957,
          0.9997798227026217,
          0.9996553102450534,
          0.9997945647264614,
          0.9998196101251091,
          0.9998035442474044,
          0.9997419466494013,
          0.9997504986247182,
          0.9997171052631579,
          0.9997486257007956,
          0.999712253571007,
          0.9997608814763906,
          0.999779605905974,
          0.9997077975094035,
          0.9996771044863221,
          0.9997722222369365,
          0.9996522675056403,
          0.9997355903868625,
          0.999771664768752,
          0.9997432728101388,
          0.9996390199917019,
          0.9996551675604161,
          0.9997559925151439,
          0.9996891264453113,
          0.9996259696100308,
          0.9995343629744419,
          0.9996985486667822,
          0.9995864657789009,
          0.9993910696988388,
          0.9995656884315626,
          0.9995829060616884,
          0.999291336557259,
          0.9994648849884951,
          0.999483439792236,
          0.9993597870093169,
          0.9992644116547832,
          0.9993542456003579,
          0.9993666692421337,
          0.9994120135413634,
          0.9991509385259721,
          0.9990528440500037,
          0.9992597153942184,
          0.999130554157324,
          0.2507583279551209,
          0.1207043484462582,
          0.10598159552669839,
          0.13039386437522843,
          0.12208159789354558,
          0.1269158164683475,
          0.11400640885636298,
          0.11054015999710248,
          0.11769281917783216,
          0.10542886945358261,
          0.10441208742977529,
          0.11238036041532395,
          0.11451008491356561,
          0.12359564398720732,
          0.10872843656469916,
          0.08121291268865724,
          0.1050200301809773,
          0.08829845825155154,
          0.08522443191987354,
          0.08386192130768051,
          0.08237653614741632,
          0.07896560225252695,
          0.07822675327586918,
          0.07464820146802384,
          0.07761510729935032,
          0.08080920460972195,
          0.0762370315515142,
          0.08714570479861466,
          0.09130201766663197,
          0.08043411144535101,
          0.07999736922874556,
          0.08141141616536252,
          0.07981769248746151,
          0.07656785417902205,
          0.07355060049620037,
          0.07679428225966607,
          0.07765272342898343,
          0.0780873318298468,
          0.07724830349792368,
          0.08018297969552927,
          0.09424912143916904,
          0.0811738118528013,
          0.07367210427517648,
          0.07208678617701307,
          0.07605119431466736,
          0.08187667464621878,
          0.07736458066094302,
          0.07180599623079816,
          0.07785932487879958,
          0.07403641093523064,
          0.07835274264733152,
          0.08402126291490442,
          0.09589587290445123,
          0.09157717220594032,
          0.08072926427561938,
          0.0832050210938417,
          0.08397776486268183,
          0.08239361619686345,
          0.0811049537258432,
          0.08445905879878361,
          0.08554910850852693,
          0.07958109616713625,
          0.07701178587079364,
          0.09496355770136003,
          0.1121897515145086,
          0.059315233038808805,
          0.060079797199408785,
          0.07325216405655853,
          0.07102539482692474,
          0.06586376184890921,
          0.0728538524970854,
          0.06720881989150443,
          0.06451180593719569,
          0.0678471906164914,
          0.023909453489689217,
          0.026021952638963453,
          0.029210762719599544,
          0.02400013400292922,
          0.023841402377987743,
          0.02532368640492133,
          0.023802057805785728,
          0.020788666210160817,
          0.02513125364593461,
          0.023341765631346174,
          0.020735029996105114,
          0.01929232805888947,
          0.011042857565028341,
          0.00923587540842983,
          0.014024620965006132,
          0.010903383927419701,
          0.011043311430886478,
          0.014308413783625932,
          0.011966704351671081,
          0.013944801589787099,
          0.01123080919855053,
          0.013387079980365616,
          0.0013748759612084353,
          0.0015092539494851586,
          0.0013248150955476985,
          0.00145339699187503,
          0.0018011179507679456,
          0.0017560875606918752,
          0.0019615547181492925,
          0.00030071687021641913,
          0.00038769372374897144,
          0.00043917272459422847,
          0.0003934512635446061,
          0.00030657707131673555,
          0.00041929239514857064,
          0.00039112481376147315
         ],
         "yaxis": "y"
        }
       ],
       "layout": {
        "legend": {
         "title": {
          "text": "direction"
         },
         "tracegroupgap": 0
        },
        "template": {
         "data": {
          "bar": [
           {
            "error_x": {
             "color": "#2a3f5f"
            },
            "error_y": {
             "color": "#2a3f5f"
            },
            "marker": {
             "line": {
              "color": "#E5ECF6",
              "width": 0.5
             },
             "pattern": {
              "fillmode": "overlay",
              "size": 10,
              "solidity": 0.2
             }
            },
            "type": "bar"
           }
          ],
          "barpolar": [
           {
            "marker": {
             "line": {
              "color": "#E5ECF6",
              "width": 0.5
             },
             "pattern": {
              "fillmode": "overlay",
              "size": 10,
              "solidity": 0.2
             }
            },
            "type": "barpolar"
           }
          ],
          "carpet": [
           {
            "aaxis": {
             "endlinecolor": "#2a3f5f",
             "gridcolor": "white",
             "linecolor": "white",
             "minorgridcolor": "white",
             "startlinecolor": "#2a3f5f"
            },
            "baxis": {
             "endlinecolor": "#2a3f5f",
             "gridcolor": "white",
             "linecolor": "white",
             "minorgridcolor": "white",
             "startlinecolor": "#2a3f5f"
            },
            "type": "carpet"
           }
          ],
          "choropleth": [
           {
            "colorbar": {
             "outlinewidth": 0,
             "ticks": ""
            },
            "type": "choropleth"
           }
          ],
          "contour": [
           {
            "colorbar": {
             "outlinewidth": 0,
             "ticks": ""
            },
            "colorscale": [
             [
              0,
              "#0d0887"
             ],
             [
              0.1111111111111111,
              "#46039f"
             ],
             [
              0.2222222222222222,
              "#7201a8"
             ],
             [
              0.3333333333333333,
              "#9c179e"
             ],
             [
              0.4444444444444444,
              "#bd3786"
             ],
             [
              0.5555555555555556,
              "#d8576b"
             ],
             [
              0.6666666666666666,
              "#ed7953"
             ],
             [
              0.7777777777777778,
              "#fb9f3a"
             ],
             [
              0.8888888888888888,
              "#fdca26"
             ],
             [
              1,
              "#f0f921"
             ]
            ],
            "type": "contour"
           }
          ],
          "contourcarpet": [
           {
            "colorbar": {
             "outlinewidth": 0,
             "ticks": ""
            },
            "type": "contourcarpet"
           }
          ],
          "heatmap": [
           {
            "colorbar": {
             "outlinewidth": 0,
             "ticks": ""
            },
            "colorscale": [
             [
              0,
              "#0d0887"
             ],
             [
              0.1111111111111111,
              "#46039f"
             ],
             [
              0.2222222222222222,
              "#7201a8"
             ],
             [
              0.3333333333333333,
              "#9c179e"
             ],
             [
              0.4444444444444444,
              "#bd3786"
             ],
             [
              0.5555555555555556,
              "#d8576b"
             ],
             [
              0.6666666666666666,
              "#ed7953"
             ],
             [
              0.7777777777777778,
              "#fb9f3a"
             ],
             [
              0.8888888888888888,
              "#fdca26"
             ],
             [
              1,
              "#f0f921"
             ]
            ],
            "type": "heatmap"
           }
          ],
          "heatmapgl": [
           {
            "colorbar": {
             "outlinewidth": 0,
             "ticks": ""
            },
            "colorscale": [
             [
              0,
              "#0d0887"
             ],
             [
              0.1111111111111111,
              "#46039f"
             ],
             [
              0.2222222222222222,
              "#7201a8"
             ],
             [
              0.3333333333333333,
              "#9c179e"
             ],
             [
              0.4444444444444444,
              "#bd3786"
             ],
             [
              0.5555555555555556,
              "#d8576b"
             ],
             [
              0.6666666666666666,
              "#ed7953"
             ],
             [
              0.7777777777777778,
              "#fb9f3a"
             ],
             [
              0.8888888888888888,
              "#fdca26"
             ],
             [
              1,
              "#f0f921"
             ]
            ],
            "type": "heatmapgl"
           }
          ],
          "histogram": [
           {
            "marker": {
             "pattern": {
              "fillmode": "overlay",
              "size": 10,
              "solidity": 0.2
             }
            },
            "type": "histogram"
           }
          ],
          "histogram2d": [
           {
            "colorbar": {
             "outlinewidth": 0,
             "ticks": ""
            },
            "colorscale": [
             [
              0,
              "#0d0887"
             ],
             [
              0.1111111111111111,
              "#46039f"
             ],
             [
              0.2222222222222222,
              "#7201a8"
             ],
             [
              0.3333333333333333,
              "#9c179e"
             ],
             [
              0.4444444444444444,
              "#bd3786"
             ],
             [
              0.5555555555555556,
              "#d8576b"
             ],
             [
              0.6666666666666666,
              "#ed7953"
             ],
             [
              0.7777777777777778,
              "#fb9f3a"
             ],
             [
              0.8888888888888888,
              "#fdca26"
             ],
             [
              1,
              "#f0f921"
             ]
            ],
            "type": "histogram2d"
           }
          ],
          "histogram2dcontour": [
           {
            "colorbar": {
             "outlinewidth": 0,
             "ticks": ""
            },
            "colorscale": [
             [
              0,
              "#0d0887"
             ],
             [
              0.1111111111111111,
              "#46039f"
             ],
             [
              0.2222222222222222,
              "#7201a8"
             ],
             [
              0.3333333333333333,
              "#9c179e"
             ],
             [
              0.4444444444444444,
              "#bd3786"
             ],
             [
              0.5555555555555556,
              "#d8576b"
             ],
             [
              0.6666666666666666,
              "#ed7953"
             ],
             [
              0.7777777777777778,
              "#fb9f3a"
             ],
             [
              0.8888888888888888,
              "#fdca26"
             ],
             [
              1,
              "#f0f921"
             ]
            ],
            "type": "histogram2dcontour"
           }
          ],
          "mesh3d": [
           {
            "colorbar": {
             "outlinewidth": 0,
             "ticks": ""
            },
            "type": "mesh3d"
           }
          ],
          "parcoords": [
           {
            "line": {
             "colorbar": {
              "outlinewidth": 0,
              "ticks": ""
             }
            },
            "type": "parcoords"
           }
          ],
          "pie": [
           {
            "automargin": true,
            "type": "pie"
           }
          ],
          "scatter": [
           {
            "fillpattern": {
             "fillmode": "overlay",
             "size": 10,
             "solidity": 0.2
            },
            "type": "scatter"
           }
          ],
          "scatter3d": [
           {
            "line": {
             "colorbar": {
              "outlinewidth": 0,
              "ticks": ""
             }
            },
            "marker": {
             "colorbar": {
              "outlinewidth": 0,
              "ticks": ""
             }
            },
            "type": "scatter3d"
           }
          ],
          "scattercarpet": [
           {
            "marker": {
             "colorbar": {
              "outlinewidth": 0,
              "ticks": ""
             }
            },
            "type": "scattercarpet"
           }
          ],
          "scattergeo": [
           {
            "marker": {
             "colorbar": {
              "outlinewidth": 0,
              "ticks": ""
             }
            },
            "type": "scattergeo"
           }
          ],
          "scattergl": [
           {
            "marker": {
             "colorbar": {
              "outlinewidth": 0,
              "ticks": ""
             }
            },
            "type": "scattergl"
           }
          ],
          "scattermapbox": [
           {
            "marker": {
             "colorbar": {
              "outlinewidth": 0,
              "ticks": ""
             }
            },
            "type": "scattermapbox"
           }
          ],
          "scatterpolar": [
           {
            "marker": {
             "colorbar": {
              "outlinewidth": 0,
              "ticks": ""
             }
            },
            "type": "scatterpolar"
           }
          ],
          "scatterpolargl": [
           {
            "marker": {
             "colorbar": {
              "outlinewidth": 0,
              "ticks": ""
             }
            },
            "type": "scatterpolargl"
           }
          ],
          "scatterternary": [
           {
            "marker": {
             "colorbar": {
              "outlinewidth": 0,
              "ticks": ""
             }
            },
            "type": "scatterternary"
           }
          ],
          "surface": [
           {
            "colorbar": {
             "outlinewidth": 0,
             "ticks": ""
            },
            "colorscale": [
             [
              0,
              "#0d0887"
             ],
             [
              0.1111111111111111,
              "#46039f"
             ],
             [
              0.2222222222222222,
              "#7201a8"
             ],
             [
              0.3333333333333333,
              "#9c179e"
             ],
             [
              0.4444444444444444,
              "#bd3786"
             ],
             [
              0.5555555555555556,
              "#d8576b"
             ],
             [
              0.6666666666666666,
              "#ed7953"
             ],
             [
              0.7777777777777778,
              "#fb9f3a"
             ],
             [
              0.8888888888888888,
              "#fdca26"
             ],
             [
              1,
              "#f0f921"
             ]
            ],
            "type": "surface"
           }
          ],
          "table": [
           {
            "cells": {
             "fill": {
              "color": "#EBF0F8"
             },
             "line": {
              "color": "white"
             }
            },
            "header": {
             "fill": {
              "color": "#C8D4E3"
             },
             "line": {
              "color": "white"
             }
            },
            "type": "table"
           }
          ]
         },
         "layout": {
          "annotationdefaults": {
           "arrowcolor": "#2a3f5f",
           "arrowhead": 0,
           "arrowwidth": 1
          },
          "autotypenumbers": "strict",
          "coloraxis": {
           "colorbar": {
            "outlinewidth": 0,
            "ticks": ""
           }
          },
          "colorscale": {
           "diverging": [
            [
             0,
             "#8e0152"
            ],
            [
             0.1,
             "#c51b7d"
            ],
            [
             0.2,
             "#de77ae"
            ],
            [
             0.3,
             "#f1b6da"
            ],
            [
             0.4,
             "#fde0ef"
            ],
            [
             0.5,
             "#f7f7f7"
            ],
            [
             0.6,
             "#e6f5d0"
            ],
            [
             0.7,
             "#b8e186"
            ],
            [
             0.8,
             "#7fbc41"
            ],
            [
             0.9,
             "#4d9221"
            ],
            [
             1,
             "#276419"
            ]
           ],
           "sequential": [
            [
             0,
             "#0d0887"
            ],
            [
             0.1111111111111111,
             "#46039f"
            ],
            [
             0.2222222222222222,
             "#7201a8"
            ],
            [
             0.3333333333333333,
             "#9c179e"
            ],
            [
             0.4444444444444444,
             "#bd3786"
            ],
            [
             0.5555555555555556,
             "#d8576b"
            ],
            [
             0.6666666666666666,
             "#ed7953"
            ],
            [
             0.7777777777777778,
             "#fb9f3a"
            ],
            [
             0.8888888888888888,
             "#fdca26"
            ],
            [
             1,
             "#f0f921"
            ]
           ],
           "sequentialminus": [
            [
             0,
             "#0d0887"
            ],
            [
             0.1111111111111111,
             "#46039f"
            ],
            [
             0.2222222222222222,
             "#7201a8"
            ],
            [
             0.3333333333333333,
             "#9c179e"
            ],
            [
             0.4444444444444444,
             "#bd3786"
            ],
            [
             0.5555555555555556,
             "#d8576b"
            ],
            [
             0.6666666666666666,
             "#ed7953"
            ],
            [
             0.7777777777777778,
             "#fb9f3a"
            ],
            [
             0.8888888888888888,
             "#fdca26"
            ],
            [
             1,
             "#f0f921"
            ]
           ]
          },
          "colorway": [
           "#636efa",
           "#EF553B",
           "#00cc96",
           "#ab63fa",
           "#FFA15A",
           "#19d3f3",
           "#FF6692",
           "#B6E880",
           "#FF97FF",
           "#FECB52"
          ],
          "font": {
           "color": "#2a3f5f"
          },
          "geo": {
           "bgcolor": "white",
           "lakecolor": "white",
           "landcolor": "#E5ECF6",
           "showlakes": true,
           "showland": true,
           "subunitcolor": "white"
          },
          "hoverlabel": {
           "align": "left"
          },
          "hovermode": "closest",
          "mapbox": {
           "style": "light"
          },
          "paper_bgcolor": "white",
          "plot_bgcolor": "#E5ECF6",
          "polar": {
           "angularaxis": {
            "gridcolor": "white",
            "linecolor": "white",
            "ticks": ""
           },
           "bgcolor": "#E5ECF6",
           "radialaxis": {
            "gridcolor": "white",
            "linecolor": "white",
            "ticks": ""
           }
          },
          "scene": {
           "xaxis": {
            "backgroundcolor": "#E5ECF6",
            "gridcolor": "white",
            "gridwidth": 2,
            "linecolor": "white",
            "showbackground": true,
            "ticks": "",
            "zerolinecolor": "white"
           },
           "yaxis": {
            "backgroundcolor": "#E5ECF6",
            "gridcolor": "white",
            "gridwidth": 2,
            "linecolor": "white",
            "showbackground": true,
            "ticks": "",
            "zerolinecolor": "white"
           },
           "zaxis": {
            "backgroundcolor": "#E5ECF6",
            "gridcolor": "white",
            "gridwidth": 2,
            "linecolor": "white",
            "showbackground": true,
            "ticks": "",
            "zerolinecolor": "white"
           }
          },
          "shapedefaults": {
           "line": {
            "color": "#2a3f5f"
           }
          },
          "ternary": {
           "aaxis": {
            "gridcolor": "white",
            "linecolor": "white",
            "ticks": ""
           },
           "baxis": {
            "gridcolor": "white",
            "linecolor": "white",
            "ticks": ""
           },
           "bgcolor": "#E5ECF6",
           "caxis": {
            "gridcolor": "white",
            "linecolor": "white",
            "ticks": ""
           }
          },
          "title": {
           "x": 0.05
          },
          "xaxis": {
           "automargin": true,
           "gridcolor": "white",
           "linecolor": "white",
           "ticks": "",
           "title": {
            "standoff": 15
           },
           "zerolinecolor": "white",
           "zerolinewidth": 2
          },
          "yaxis": {
           "automargin": true,
           "gridcolor": "white",
           "linecolor": "white",
           "ticks": "",
           "title": {
            "standoff": 15
           },
           "zerolinecolor": "white",
           "zerolinewidth": 2
          }
         }
        },
        "title": {
         "text": "Proportion of Missing Rates over time."
        },
        "xaxis": {
         "anchor": "y",
         "domain": [
          0,
          1
         ],
         "title": {
          "text": "month"
         }
        },
        "yaxis": {
         "anchor": "x",
         "domain": [
          0,
          1
         ],
         "title": {
          "text": "null_percent"
         }
        }
       }
      }
     },
     "metadata": {},
     "output_type": "display_data"
    }
   ],
   "source": [
    "nulls_over_time_plotly(\n",
    "    data_lf=main_lf,\n",
    "    group_var='direction',\n",
    "    time_var='month',\n",
    "    value_var='rate_20',\n",
    "    title='Proportion of Missing Rates over time.')"
   ]
  },
  {
   "cell_type": "markdown",
   "metadata": {},
   "source": [
    "### Vessel Capacities\n",
    "\n",
    "Vessel Capacity info comes from the US Army Corp of Engineers in Net Register Tonnage (NRT), which is equal to 100 cubic feet. A standard Twenty-foot Equivalent Unit (TEU) container has an external volume of 1360 cubic feet, thus we divide the NRT capacity by 13.6 in order to obtain the TEU capacity of each vessel in the database. "
   ]
  },
  {
   "cell_type": "code",
   "execution_count": 26,
   "metadata": {},
   "outputs": [],
   "source": [
    "#read in vessel data\n",
    "path = '../data/vessel_e&c/'\n",
    "schema = {'IMO_UPD':pl.Int32, 'NRT':pl.Int32}\n",
    "vessels_df = pl.DataFrame(schema=schema)\n",
    "\n",
    "for file in os.listdir(path):\n",
    "    if file.endswith('.xlsx'):\n",
    "        #load data\n",
    "        file_df = pl.read_excel(path+file, columns=['IMO_UPD', 'NRT'], schema_overrides=schema)\n",
    "        #concat to main df\n",
    "        vessels_df = pl.concat([vessels_df, file_df])\n",
    "\n",
    "#polish df\n",
    "vessels_df = (\n",
    "    #match main_lf column names\n",
    "    vessels_df.rename({'IMO_UPD':'vessel_id'})\n",
    "    #drop missing values\n",
    "    .drop_nulls()\n",
    "    #drop duplicates\n",
    "    .unique()\n",
    "    #convert NRT to TEU capacity\n",
    "    .with_columns(\n",
    "        (pl.col('NRT')/13.6)\n",
    "        .alias('vessel_capacity')\n",
    "    )\n",
    "    #drop nrt\n",
    "    .drop('NRT')\n",
    ")\n",
    "\n",
    "#merge vessel capacity info to main_lf\n",
    "main_lf = main_lf.join(vessels_df.lazy(), on='vessel_id', how='left')"
   ]
  },
  {
   "cell_type": "code",
   "execution_count": 27,
   "metadata": {},
   "outputs": [
    {
     "data": {
      "application/vnd.plotly.v1+json": {
       "config": {
        "plotlyServerURL": "https://plot.ly"
       },
       "data": [
        {
         "hovertemplate": "direction=export<br>month=%{x}<br>null_percent=%{y}<extra></extra>",
         "legendgroup": "export",
         "line": {
          "color": "#636efa",
          "dash": "solid"
         },
         "marker": {
          "symbol": "circle"
         },
         "mode": "lines",
         "name": "export",
         "orientation": "v",
         "showlegend": true,
         "type": "scatter",
         "x": [
          "200701",
          "200702",
          "200703",
          "200704",
          "200705",
          "200706",
          "200707",
          "200708",
          "200709",
          "200710",
          "200711",
          "200712",
          "200801",
          "200802",
          "200803",
          "200804",
          "200805",
          "200806",
          "200807",
          "200808",
          "200809",
          "200810",
          "200811",
          "200812",
          "200901",
          "200902",
          "200903",
          "200904",
          "200905",
          "200906",
          "200907",
          "200908",
          "200909",
          "200910",
          "200911",
          "200912",
          "201001",
          "201002",
          "201003",
          "201004",
          "201005",
          "201006",
          "201007",
          "201008",
          "201009",
          "201010",
          "201011",
          "201012",
          "201101",
          "201102",
          "201103",
          "201104",
          "201105",
          "201106",
          "201107",
          "201108",
          "201109",
          "201110",
          "201111",
          "201112",
          "201201",
          "201202",
          "201203",
          "201204",
          "201205",
          "201206",
          "201207",
          "201208",
          "201209",
          "201210",
          "201211",
          "201212",
          "201301",
          "201302",
          "201303",
          "201304",
          "201305",
          "201306",
          "201307",
          "201308",
          "201309",
          "201310",
          "201311",
          "201312",
          "201401",
          "201402",
          "201403",
          "201404",
          "201405",
          "201406",
          "201407",
          "201408",
          "201409",
          "201410",
          "201411",
          "201412",
          "201501",
          "201502",
          "201503",
          "201504",
          "201505",
          "201506",
          "201507",
          "201508",
          "201509",
          "201510",
          "201511",
          "201512",
          "201601",
          "201602",
          "201603",
          "201604",
          "201605",
          "201606",
          "201607",
          "201608",
          "201609",
          "201610",
          "201611",
          "201612",
          "201701",
          "201702",
          "201703",
          "201704",
          "201705",
          "201706",
          "201707",
          "201708",
          "201709",
          "201710",
          "201711",
          "201712",
          "201801",
          "201802",
          "201803",
          "201804",
          "201805",
          "201806",
          "201807",
          "201808",
          "201809",
          "201810",
          "201811",
          "201812",
          "201901",
          "201902",
          "201903",
          "201904",
          "201905",
          "201906",
          "201907",
          "201908",
          "201909",
          "201910",
          "201911",
          "201912",
          "202001",
          "202002",
          "202003",
          "202004",
          "202005",
          "202006",
          "202007",
          "202008",
          "202009",
          "202010",
          "202011",
          "202012",
          "202101",
          "202102",
          "202103",
          "202104",
          "202105",
          "202106",
          "202107",
          "202108",
          "202109",
          "202110",
          "202111",
          "202112",
          "202201",
          "202202",
          "202203",
          "202204",
          "202205",
          "202206",
          "202207",
          "202208",
          "202209",
          "202210",
          "202211",
          "202212",
          "202301",
          "202302",
          "202303",
          "202304",
          "202305",
          "202306",
          "202307",
          "202308",
          "202309",
          "202310",
          "202311",
          "202312"
         ],
         "xaxis": "x",
         "y": [
          0.3582736083154437,
          0.3667252517575527,
          0.3696345906817796,
          0.3471213597488362,
          0.35843393121874134,
          0.349997398324521,
          0.34030827304183703,
          0.3468220730314419,
          0.3247318231066339,
          0.3294234487739916,
          0.3309631794859898,
          0.3270203143834896,
          0.2988892813689705,
          0.2844365587801136,
          0.3038573533913811,
          0.2968712111361408,
          0.29200294704404084,
          0.29506314580941445,
          0.2842943273042204,
          0.28281259705571776,
          0.2709915343530865,
          0.2783354399741824,
          0.27643496991641103,
          0.2609009152477893,
          0.29111132013356533,
          0.21807936419305005,
          0.20913443510730256,
          0.22060605058277274,
          0.20206601363034474,
          0.19359921666721522,
          0.1931667686397819,
          0.20251313562411966,
          0.19107983314212512,
          0.18353285806094846,
          0.18435470581114274,
          0.16603556377839448,
          0.15091600336687022,
          0.15767384633340953,
          0.15987131967270438,
          0.1479480169642356,
          0.15034159610682643,
          0.13936359319878983,
          0.1365879626479453,
          0.13974757856177367,
          0.12509154767155325,
          0.12918052336621083,
          0.12805912513838563,
          0.12084420186059135,
          0.12523696729161657,
          0.11153283861791356,
          0.10777502390663726,
          0.10871734040036615,
          0.11447611888516249,
          0.10940238092487108,
          0.12228967263789058,
          0.10871484232314624,
          0.12051090807383927,
          0.11332838149528923,
          0.10958127980416868,
          0.09485277590469768,
          0.09642994705717976,
          0.09412582200448755,
          0.09126804980339046,
          0.06497699489118464,
          0.059498502434816865,
          0.05490253004114061,
          0.06217047373566794,
          0.052620046855775225,
          0.04314223551612286,
          0.04401161190045549,
          0.037902785363189515,
          0.03525277790816977,
          0.024896507917965643,
          0.022193179554738634,
          0.020156352734664824,
          0.018584170289311946,
          0.02034419280201314,
          0.025673207540289126,
          0.02517137454201631,
          0.025022941305448257,
          0.0231998468268112,
          0.025037372173936052,
          0.02080653804930332,
          0.020177447052089296,
          0.025542387460575362,
          0.028056676362953926,
          0.0265173327191063,
          0.026736988905132285,
          0.024116295935049742,
          0.018352049331032728,
          0.014921776475911759,
          0.020730157338826313,
          0.018893181311132767,
          0.019877679811974913,
          0.017159554846330798,
          0.022678986579722206,
          0.025126446902700886,
          0.03510963834408841,
          0.019981832269096157,
          0.0478571861550585,
          0.029744257855376946,
          0.029201646925541717,
          0.030995071548432278,
          0.03032442963089157,
          0.03579224927329756,
          0.03301487961184996,
          0.0290605883983997,
          0.026761077150270346,
          0.02121287910699242,
          0.023135050786724655,
          0.0240117658485147,
          0.028337193276594536,
          0.0281639350678031,
          0.0261313289076015,
          0.015682584725637435,
          0.02355091528427816,
          0.022817429285590385,
          0.019228943249116278,
          0.025095517861704268,
          0.018682099126362296,
          0.02241523742339403,
          0.019597667993471308,
          0.02209531704143626,
          0.01986831091357093,
          0.02019280390289578,
          0.016876854599406528,
          0.018459460368348484,
          0.018420650843353484,
          0.011424581248388303,
          0.014631984960788432,
          0.015943082815908484,
          0.015720961281708946,
          0.01575792867389112,
          0.01186319879397381,
          0.015819888097801743,
          0.013774651909145648,
          0.015327149098428406,
          0.015256994621213231,
          0.015982879559622895,
          0.014489367340367635,
          0.010855046622057761,
          0.009891890122837256,
          0.007115442666781663,
          0.009009897086077048,
          0.011733794682131267,
          0.014097718089120935,
          0.010488969537410221,
          0.016659720454589955,
          0.012860425671609126,
          0.015321587572226958,
          0.01670773310378495,
          0.011816482273855997,
          0.010790072080139771,
          0.0170113510100662,
          0.014326261821690207,
          0.013434155805605624,
          0.009973179336007346,
          0.015067236688690245,
          0.012408526885141585,
          0.012400070668256703,
          0.01330733007419164,
          0.017661564196667413,
          0.0157058438172654,
          0.015706806282722512,
          0.019855965219695192,
          0.014242368680983953,
          0.01352503742046288,
          0.01724761038346024,
          0.011671920450811193,
          0.013566384998263688,
          0.015615069881770863,
          0.012606108870153327,
          0.015200202594332987,
          0.01478815213148879,
          0.01675115997934964,
          0.019722084906118646,
          0.020834346677043307,
          0.019314654748310192,
          0.02310813413777891,
          0.01852355854121583,
          0.017739642567018685,
          0.01743656724820728,
          0.019005228394745152,
          0.015782161546265088,
          0.016003167011024885,
          0.013728237284081396,
          0.013367931498056124,
          0.015390205660528514,
          0.015673007427455442,
          0.016829233742449233,
          0.01582730430387484,
          0.022191794746078394,
          0.024530129572025487,
          0.019930849710377035,
          0.035074592472707264,
          0.04071062848140438,
          0.039334993717964395,
          0.04092231663021529,
          0.03863460193220275,
          0.05044573533861588,
          0.04312471047788364,
          0.050861834657969174,
          0.0636165730113247,
          0.05999303881672896
         ],
         "yaxis": "y"
        },
        {
         "hovertemplate": "direction=import<br>month=%{x}<br>null_percent=%{y}<extra></extra>",
         "legendgroup": "import",
         "line": {
          "color": "#EF553B",
          "dash": "solid"
         },
         "marker": {
          "symbol": "circle"
         },
         "mode": "lines",
         "name": "import",
         "orientation": "v",
         "showlegend": true,
         "type": "scatter",
         "x": [
          "200701",
          "200702",
          "200703",
          "200704",
          "200705",
          "200706",
          "200707",
          "200708",
          "200709",
          "200710",
          "200711",
          "200712",
          "200801",
          "200802",
          "200803",
          "200804",
          "200805",
          "200806",
          "200807",
          "200808",
          "200809",
          "200810",
          "200811",
          "200812",
          "200901",
          "200902",
          "200903",
          "200904",
          "200905",
          "200906",
          "200907",
          "200908",
          "200909",
          "200910",
          "200911",
          "200912",
          "201001",
          "201002",
          "201003",
          "201004",
          "201005",
          "201006",
          "201007",
          "201008",
          "201009",
          "201010",
          "201011",
          "201012",
          "201101",
          "201102",
          "201103",
          "201104",
          "201105",
          "201106",
          "201107",
          "201108",
          "201109",
          "201110",
          "201111",
          "201112",
          "201201",
          "201202",
          "201203",
          "201204",
          "201205",
          "201206",
          "201207",
          "201208",
          "201209",
          "201210",
          "201211",
          "201212",
          "201301",
          "201302",
          "201303",
          "201304",
          "201305",
          "201306",
          "201307",
          "201308",
          "201309",
          "201310",
          "201311",
          "201312",
          "201401",
          "201402",
          "201403",
          "201404",
          "201405",
          "201406",
          "201407",
          "201408",
          "201409",
          "201410",
          "201411",
          "201412",
          "201501",
          "201502",
          "201503",
          "201504",
          "201505",
          "201506",
          "201507",
          "201508",
          "201509",
          "201510",
          "201511",
          "201512",
          "201601",
          "201602",
          "201603",
          "201604",
          "201605",
          "201606",
          "201607",
          "201608",
          "201609",
          "201610",
          "201611",
          "201612",
          "201701",
          "201702",
          "201703",
          "201704",
          "201705",
          "201706",
          "201707",
          "201708",
          "201709",
          "201710",
          "201711",
          "201712",
          "201801",
          "201802",
          "201803",
          "201804",
          "201805",
          "201806",
          "201807",
          "201808",
          "201809",
          "201810",
          "201811",
          "201812",
          "201901",
          "201902",
          "201903",
          "201904",
          "201905",
          "201906",
          "201907",
          "201908",
          "201909",
          "201910",
          "201911",
          "201912",
          "202001",
          "202002",
          "202003",
          "202004",
          "202005",
          "202006",
          "202007",
          "202008",
          "202009",
          "202010",
          "202011",
          "202012",
          "202101",
          "202102",
          "202103",
          "202104",
          "202105",
          "202106",
          "202107",
          "202108",
          "202109",
          "202110",
          "202111",
          "202112",
          "202201",
          "202202",
          "202203",
          "202204",
          "202205",
          "202206",
          "202207",
          "202208",
          "202209",
          "202210",
          "202211",
          "202212",
          "202301",
          "202302",
          "202303",
          "202304",
          "202305",
          "202306",
          "202307",
          "202308",
          "202309",
          "202310",
          "202311",
          "202312"
         ],
         "xaxis": "x",
         "y": [
          0.24449170565716716,
          0.2470308355404072,
          0.26657586751358975,
          0.25730087667639,
          0.27372790952697107,
          0.25776529538437953,
          0.2503163368883574,
          0.2679319587450014,
          0.24046736993255863,
          0.25878151007061034,
          0.23402584761390555,
          0.24571173364530308,
          0.23298937017820012,
          0.2242320959666776,
          0.22796324464342957,
          0.2307769045264491,
          0.2138135330241066,
          0.2032721756874014,
          0.19875767614738202,
          0.1853685412141487,
          0.19430817893485436,
          0.19247081571631366,
          0.1913308587122597,
          0.19543745844593485,
          0.18574848832998564,
          0.16221417799836604,
          0.1485980689509026,
          0.143557008308484,
          0.1394470621747982,
          0.1274875376760295,
          0.09485402377275828,
          0.1033125222770285,
          0.11288632925882017,
          0.0941610509835954,
          0.11319500643801292,
          0.09413905192129479,
          0.08419353405506272,
          0.08526931518645706,
          0.10219867358708189,
          0.08358701632129104,
          0.09126051923765108,
          0.07076499433742074,
          0.08313865913191949,
          0.07558456103408144,
          0.08029848983628822,
          0.07923126863014751,
          0.0694207696024108,
          0.08012272214210572,
          0.07131417165781524,
          0.07039747685091585,
          0.07596465897931177,
          0.07363716948028722,
          0.0872667548827028,
          0.07694495926899703,
          0.08138385018134002,
          0.0769034282690799,
          0.07816425185914334,
          0.06453940732748213,
          0.06654422229752627,
          0.0574941742277753,
          0.05147850734584972,
          0.05760541663873433,
          0.057870651093612564,
          0.04103396178373737,
          0.03299169655068507,
          0.0408773745534671,
          0.0318220786568202,
          0.028131191442336133,
          0.02323678549477566,
          0.016940072077628494,
          0.015330213834962726,
          0.009407720122318958,
          0.008667642900169623,
          0.005128560188827695,
          0.00565304703561912,
          0.003277772604525561,
          0.009994059065397182,
          0.0070284755712950835,
          0.007886632158491357,
          0.005507786498167016,
          0.002567039094658667,
          0.004178277143110475,
          0.005308502403083075,
          0.003742334064289569,
          0.004060641860213232,
          0.005923857676489454,
          0.0031156658479433103,
          0.0029266960072795787,
          0.002166934675191826,
          0.004774675473677309,
          0.004295870748344478,
          0.0023284646406412234,
          0.004421834417326722,
          0.0043611676849966054,
          0.004827708580381024,
          0.0015814599996403368,
          0.006377257011140991,
          0.00435239381659913,
          0.0025717998938331716,
          0.00933249590725163,
          0.0029585508278853682,
          0.005191238289802173,
          0.0017662114205828584,
          0.004278175299438431,
          0.0030997858650773434,
          0.0032848386171613225,
          0.00235346867129665,
          0.005063377902678567,
          0.0026068401589888113,
          0.007249620289198234,
          0.0028267503897073352,
          0.006542398998315691,
          0.002754366459850088,
          0.005553624384891969,
          0.001448528234047153,
          0.0023257590806986445,
          0.0014708507045347416,
          0.0016981079951793416,
          0.001506916371757205,
          0.0019298546275529592,
          0.0012478039385764377,
          0.0014272614251492873,
          0.0014165318561367387,
          0.0017354173350368565,
          0.000998400290443721,
          0.0018186145463728542,
          0.0010122524545622073,
          0.0019685972027441915,
          0.0012158290027123016,
          0.0005043781394965826,
          0.0010445767254233557,
          0.0016691469063868894,
          0.0024505412631791244,
          0.002268000292645199,
          0.0019014330172310912,
          0.0012027934516871087,
          0.0008336413096869869,
          0.0012245047324058375,
          0.0013542545878170431,
          0.0008723077648488786,
          0.0010152864297227912,
          0.0007284314848064784,
          0.001077531309445653,
          0.001171977853024955,
          0.0014770070287631453,
          0.001697646104318791,
          0.0019062154524547483,
          0.002013994247423984,
          0.0015191146024145657,
          0.0022816686081020593,
          0.0014300186651638985,
          0.0018752015132300153,
          0.0019517033758301471,
          0.0022104887207158508,
          0.0017821946670090092,
          0.0016027536329240035,
          0.001272795298355033,
          0.0025498220368424156,
          0.0017708863097830921,
          0.0016082014890252945,
          0.002006340425324691,
          0.0012547494750391752,
          0.0016614207369797366,
          0.0014596479320842994,
          0.0013158168802355256,
          0.0013314078731357394,
          0.0008572986696080304,
          0.0009854340060024658,
          0.0013060220840679223,
          0.0017713851097439681,
          0.0011997298758627218,
          0.0010530537734151789,
          0.0017076419380293857,
          0.0016484729509665837,
          0.0017925164031160794,
          0.0027036870228583183,
          0.0023458542920300083,
          0.0023191379326158845,
          0.002319144576681449,
          0.0020519016684009805,
          0.0015564883272955808,
          0.0016452272623628831,
          0.002017050020056614,
          0.0014078992989000744,
          0.0015024881587625157,
          0.00592065999764437,
          0.0015300253304193592,
          0.004705917356355468,
          0.001843086510139104,
          0.005648185709200189,
          0.0009904769684649728,
          0.0037280655272869433,
          0.008401010800668665,
          0.005776793674929515,
          0.01779024577707451,
          0.011858180599502954,
          0.025467292353124612,
          0.029277217298912195,
          0.025623448468807916,
          0.05312739186775773,
          0.03630954827572033,
          0.04279901353034039,
          0.06862555942072297,
          0.054469087515000666
         ],
         "yaxis": "y"
        }
       ],
       "layout": {
        "legend": {
         "title": {
          "text": "direction"
         },
         "tracegroupgap": 0
        },
        "template": {
         "data": {
          "bar": [
           {
            "error_x": {
             "color": "#2a3f5f"
            },
            "error_y": {
             "color": "#2a3f5f"
            },
            "marker": {
             "line": {
              "color": "#E5ECF6",
              "width": 0.5
             },
             "pattern": {
              "fillmode": "overlay",
              "size": 10,
              "solidity": 0.2
             }
            },
            "type": "bar"
           }
          ],
          "barpolar": [
           {
            "marker": {
             "line": {
              "color": "#E5ECF6",
              "width": 0.5
             },
             "pattern": {
              "fillmode": "overlay",
              "size": 10,
              "solidity": 0.2
             }
            },
            "type": "barpolar"
           }
          ],
          "carpet": [
           {
            "aaxis": {
             "endlinecolor": "#2a3f5f",
             "gridcolor": "white",
             "linecolor": "white",
             "minorgridcolor": "white",
             "startlinecolor": "#2a3f5f"
            },
            "baxis": {
             "endlinecolor": "#2a3f5f",
             "gridcolor": "white",
             "linecolor": "white",
             "minorgridcolor": "white",
             "startlinecolor": "#2a3f5f"
            },
            "type": "carpet"
           }
          ],
          "choropleth": [
           {
            "colorbar": {
             "outlinewidth": 0,
             "ticks": ""
            },
            "type": "choropleth"
           }
          ],
          "contour": [
           {
            "colorbar": {
             "outlinewidth": 0,
             "ticks": ""
            },
            "colorscale": [
             [
              0,
              "#0d0887"
             ],
             [
              0.1111111111111111,
              "#46039f"
             ],
             [
              0.2222222222222222,
              "#7201a8"
             ],
             [
              0.3333333333333333,
              "#9c179e"
             ],
             [
              0.4444444444444444,
              "#bd3786"
             ],
             [
              0.5555555555555556,
              "#d8576b"
             ],
             [
              0.6666666666666666,
              "#ed7953"
             ],
             [
              0.7777777777777778,
              "#fb9f3a"
             ],
             [
              0.8888888888888888,
              "#fdca26"
             ],
             [
              1,
              "#f0f921"
             ]
            ],
            "type": "contour"
           }
          ],
          "contourcarpet": [
           {
            "colorbar": {
             "outlinewidth": 0,
             "ticks": ""
            },
            "type": "contourcarpet"
           }
          ],
          "heatmap": [
           {
            "colorbar": {
             "outlinewidth": 0,
             "ticks": ""
            },
            "colorscale": [
             [
              0,
              "#0d0887"
             ],
             [
              0.1111111111111111,
              "#46039f"
             ],
             [
              0.2222222222222222,
              "#7201a8"
             ],
             [
              0.3333333333333333,
              "#9c179e"
             ],
             [
              0.4444444444444444,
              "#bd3786"
             ],
             [
              0.5555555555555556,
              "#d8576b"
             ],
             [
              0.6666666666666666,
              "#ed7953"
             ],
             [
              0.7777777777777778,
              "#fb9f3a"
             ],
             [
              0.8888888888888888,
              "#fdca26"
             ],
             [
              1,
              "#f0f921"
             ]
            ],
            "type": "heatmap"
           }
          ],
          "heatmapgl": [
           {
            "colorbar": {
             "outlinewidth": 0,
             "ticks": ""
            },
            "colorscale": [
             [
              0,
              "#0d0887"
             ],
             [
              0.1111111111111111,
              "#46039f"
             ],
             [
              0.2222222222222222,
              "#7201a8"
             ],
             [
              0.3333333333333333,
              "#9c179e"
             ],
             [
              0.4444444444444444,
              "#bd3786"
             ],
             [
              0.5555555555555556,
              "#d8576b"
             ],
             [
              0.6666666666666666,
              "#ed7953"
             ],
             [
              0.7777777777777778,
              "#fb9f3a"
             ],
             [
              0.8888888888888888,
              "#fdca26"
             ],
             [
              1,
              "#f0f921"
             ]
            ],
            "type": "heatmapgl"
           }
          ],
          "histogram": [
           {
            "marker": {
             "pattern": {
              "fillmode": "overlay",
              "size": 10,
              "solidity": 0.2
             }
            },
            "type": "histogram"
           }
          ],
          "histogram2d": [
           {
            "colorbar": {
             "outlinewidth": 0,
             "ticks": ""
            },
            "colorscale": [
             [
              0,
              "#0d0887"
             ],
             [
              0.1111111111111111,
              "#46039f"
             ],
             [
              0.2222222222222222,
              "#7201a8"
             ],
             [
              0.3333333333333333,
              "#9c179e"
             ],
             [
              0.4444444444444444,
              "#bd3786"
             ],
             [
              0.5555555555555556,
              "#d8576b"
             ],
             [
              0.6666666666666666,
              "#ed7953"
             ],
             [
              0.7777777777777778,
              "#fb9f3a"
             ],
             [
              0.8888888888888888,
              "#fdca26"
             ],
             [
              1,
              "#f0f921"
             ]
            ],
            "type": "histogram2d"
           }
          ],
          "histogram2dcontour": [
           {
            "colorbar": {
             "outlinewidth": 0,
             "ticks": ""
            },
            "colorscale": [
             [
              0,
              "#0d0887"
             ],
             [
              0.1111111111111111,
              "#46039f"
             ],
             [
              0.2222222222222222,
              "#7201a8"
             ],
             [
              0.3333333333333333,
              "#9c179e"
             ],
             [
              0.4444444444444444,
              "#bd3786"
             ],
             [
              0.5555555555555556,
              "#d8576b"
             ],
             [
              0.6666666666666666,
              "#ed7953"
             ],
             [
              0.7777777777777778,
              "#fb9f3a"
             ],
             [
              0.8888888888888888,
              "#fdca26"
             ],
             [
              1,
              "#f0f921"
             ]
            ],
            "type": "histogram2dcontour"
           }
          ],
          "mesh3d": [
           {
            "colorbar": {
             "outlinewidth": 0,
             "ticks": ""
            },
            "type": "mesh3d"
           }
          ],
          "parcoords": [
           {
            "line": {
             "colorbar": {
              "outlinewidth": 0,
              "ticks": ""
             }
            },
            "type": "parcoords"
           }
          ],
          "pie": [
           {
            "automargin": true,
            "type": "pie"
           }
          ],
          "scatter": [
           {
            "fillpattern": {
             "fillmode": "overlay",
             "size": 10,
             "solidity": 0.2
            },
            "type": "scatter"
           }
          ],
          "scatter3d": [
           {
            "line": {
             "colorbar": {
              "outlinewidth": 0,
              "ticks": ""
             }
            },
            "marker": {
             "colorbar": {
              "outlinewidth": 0,
              "ticks": ""
             }
            },
            "type": "scatter3d"
           }
          ],
          "scattercarpet": [
           {
            "marker": {
             "colorbar": {
              "outlinewidth": 0,
              "ticks": ""
             }
            },
            "type": "scattercarpet"
           }
          ],
          "scattergeo": [
           {
            "marker": {
             "colorbar": {
              "outlinewidth": 0,
              "ticks": ""
             }
            },
            "type": "scattergeo"
           }
          ],
          "scattergl": [
           {
            "marker": {
             "colorbar": {
              "outlinewidth": 0,
              "ticks": ""
             }
            },
            "type": "scattergl"
           }
          ],
          "scattermapbox": [
           {
            "marker": {
             "colorbar": {
              "outlinewidth": 0,
              "ticks": ""
             }
            },
            "type": "scattermapbox"
           }
          ],
          "scatterpolar": [
           {
            "marker": {
             "colorbar": {
              "outlinewidth": 0,
              "ticks": ""
             }
            },
            "type": "scatterpolar"
           }
          ],
          "scatterpolargl": [
           {
            "marker": {
             "colorbar": {
              "outlinewidth": 0,
              "ticks": ""
             }
            },
            "type": "scatterpolargl"
           }
          ],
          "scatterternary": [
           {
            "marker": {
             "colorbar": {
              "outlinewidth": 0,
              "ticks": ""
             }
            },
            "type": "scatterternary"
           }
          ],
          "surface": [
           {
            "colorbar": {
             "outlinewidth": 0,
             "ticks": ""
            },
            "colorscale": [
             [
              0,
              "#0d0887"
             ],
             [
              0.1111111111111111,
              "#46039f"
             ],
             [
              0.2222222222222222,
              "#7201a8"
             ],
             [
              0.3333333333333333,
              "#9c179e"
             ],
             [
              0.4444444444444444,
              "#bd3786"
             ],
             [
              0.5555555555555556,
              "#d8576b"
             ],
             [
              0.6666666666666666,
              "#ed7953"
             ],
             [
              0.7777777777777778,
              "#fb9f3a"
             ],
             [
              0.8888888888888888,
              "#fdca26"
             ],
             [
              1,
              "#f0f921"
             ]
            ],
            "type": "surface"
           }
          ],
          "table": [
           {
            "cells": {
             "fill": {
              "color": "#EBF0F8"
             },
             "line": {
              "color": "white"
             }
            },
            "header": {
             "fill": {
              "color": "#C8D4E3"
             },
             "line": {
              "color": "white"
             }
            },
            "type": "table"
           }
          ]
         },
         "layout": {
          "annotationdefaults": {
           "arrowcolor": "#2a3f5f",
           "arrowhead": 0,
           "arrowwidth": 1
          },
          "autotypenumbers": "strict",
          "coloraxis": {
           "colorbar": {
            "outlinewidth": 0,
            "ticks": ""
           }
          },
          "colorscale": {
           "diverging": [
            [
             0,
             "#8e0152"
            ],
            [
             0.1,
             "#c51b7d"
            ],
            [
             0.2,
             "#de77ae"
            ],
            [
             0.3,
             "#f1b6da"
            ],
            [
             0.4,
             "#fde0ef"
            ],
            [
             0.5,
             "#f7f7f7"
            ],
            [
             0.6,
             "#e6f5d0"
            ],
            [
             0.7,
             "#b8e186"
            ],
            [
             0.8,
             "#7fbc41"
            ],
            [
             0.9,
             "#4d9221"
            ],
            [
             1,
             "#276419"
            ]
           ],
           "sequential": [
            [
             0,
             "#0d0887"
            ],
            [
             0.1111111111111111,
             "#46039f"
            ],
            [
             0.2222222222222222,
             "#7201a8"
            ],
            [
             0.3333333333333333,
             "#9c179e"
            ],
            [
             0.4444444444444444,
             "#bd3786"
            ],
            [
             0.5555555555555556,
             "#d8576b"
            ],
            [
             0.6666666666666666,
             "#ed7953"
            ],
            [
             0.7777777777777778,
             "#fb9f3a"
            ],
            [
             0.8888888888888888,
             "#fdca26"
            ],
            [
             1,
             "#f0f921"
            ]
           ],
           "sequentialminus": [
            [
             0,
             "#0d0887"
            ],
            [
             0.1111111111111111,
             "#46039f"
            ],
            [
             0.2222222222222222,
             "#7201a8"
            ],
            [
             0.3333333333333333,
             "#9c179e"
            ],
            [
             0.4444444444444444,
             "#bd3786"
            ],
            [
             0.5555555555555556,
             "#d8576b"
            ],
            [
             0.6666666666666666,
             "#ed7953"
            ],
            [
             0.7777777777777778,
             "#fb9f3a"
            ],
            [
             0.8888888888888888,
             "#fdca26"
            ],
            [
             1,
             "#f0f921"
            ]
           ]
          },
          "colorway": [
           "#636efa",
           "#EF553B",
           "#00cc96",
           "#ab63fa",
           "#FFA15A",
           "#19d3f3",
           "#FF6692",
           "#B6E880",
           "#FF97FF",
           "#FECB52"
          ],
          "font": {
           "color": "#2a3f5f"
          },
          "geo": {
           "bgcolor": "white",
           "lakecolor": "white",
           "landcolor": "#E5ECF6",
           "showlakes": true,
           "showland": true,
           "subunitcolor": "white"
          },
          "hoverlabel": {
           "align": "left"
          },
          "hovermode": "closest",
          "mapbox": {
           "style": "light"
          },
          "paper_bgcolor": "white",
          "plot_bgcolor": "#E5ECF6",
          "polar": {
           "angularaxis": {
            "gridcolor": "white",
            "linecolor": "white",
            "ticks": ""
           },
           "bgcolor": "#E5ECF6",
           "radialaxis": {
            "gridcolor": "white",
            "linecolor": "white",
            "ticks": ""
           }
          },
          "scene": {
           "xaxis": {
            "backgroundcolor": "#E5ECF6",
            "gridcolor": "white",
            "gridwidth": 2,
            "linecolor": "white",
            "showbackground": true,
            "ticks": "",
            "zerolinecolor": "white"
           },
           "yaxis": {
            "backgroundcolor": "#E5ECF6",
            "gridcolor": "white",
            "gridwidth": 2,
            "linecolor": "white",
            "showbackground": true,
            "ticks": "",
            "zerolinecolor": "white"
           },
           "zaxis": {
            "backgroundcolor": "#E5ECF6",
            "gridcolor": "white",
            "gridwidth": 2,
            "linecolor": "white",
            "showbackground": true,
            "ticks": "",
            "zerolinecolor": "white"
           }
          },
          "shapedefaults": {
           "line": {
            "color": "#2a3f5f"
           }
          },
          "ternary": {
           "aaxis": {
            "gridcolor": "white",
            "linecolor": "white",
            "ticks": ""
           },
           "baxis": {
            "gridcolor": "white",
            "linecolor": "white",
            "ticks": ""
           },
           "bgcolor": "#E5ECF6",
           "caxis": {
            "gridcolor": "white",
            "linecolor": "white",
            "ticks": ""
           }
          },
          "title": {
           "x": 0.05
          },
          "xaxis": {
           "automargin": true,
           "gridcolor": "white",
           "linecolor": "white",
           "ticks": "",
           "title": {
            "standoff": 15
           },
           "zerolinecolor": "white",
           "zerolinewidth": 2
          },
          "yaxis": {
           "automargin": true,
           "gridcolor": "white",
           "linecolor": "white",
           "ticks": "",
           "title": {
            "standoff": 15
           },
           "zerolinecolor": "white",
           "zerolinewidth": 2
          }
         }
        },
        "title": {
         "text": "Count of nulls over time by source frame."
        },
        "xaxis": {
         "anchor": "y",
         "domain": [
          0,
          1
         ],
         "title": {
          "text": "month"
         }
        },
        "yaxis": {
         "anchor": "x",
         "domain": [
          0,
          1
         ],
         "title": {
          "text": "null_percent"
         }
        }
       }
      }
     },
     "metadata": {},
     "output_type": "display_data"
    }
   ],
   "source": [
    "nulls_over_time_plotly(main_lf, 'direction', 'month', 'vessel_capacity')"
   ]
  },
  {
   "cell_type": "markdown",
   "metadata": {},
   "source": [
    "As seen above, vessel capacity data is mostly comprehensive during the years available from US Corp of Engineers (2013-2022) and progressively more missing as we move outside that window."
   ]
  },
  {
   "cell_type": "markdown",
   "metadata": {},
   "source": [
    "## Write to Parquet"
   ]
  },
  {
   "cell_type": "code",
   "execution_count": 28,
   "metadata": {},
   "outputs": [
    {
     "name": "stdout",
     "output_type": "stream",
     "text": [
      "Collecting 2007 dataframe...\n",
      "Writing 2007 data to parquet...\n",
      "Collecting 2008 dataframe...\n",
      "Writing 2008 data to parquet...\n",
      "Collecting 2009 dataframe...\n",
      "Writing 2009 data to parquet...\n",
      "Collecting 2010 dataframe...\n",
      "Writing 2010 data to parquet...\n",
      "Collecting 2011 dataframe...\n",
      "Writing 2011 data to parquet...\n",
      "Collecting 2012 dataframe...\n",
      "Writing 2012 data to parquet...\n",
      "Collecting 2013 dataframe...\n",
      "Writing 2013 data to parquet...\n",
      "Collecting 2014 dataframe...\n",
      "Writing 2014 data to parquet...\n",
      "Collecting 2015 dataframe...\n",
      "Writing 2015 data to parquet...\n",
      "Collecting 2016 dataframe...\n",
      "Writing 2016 data to parquet...\n",
      "Collecting 2017 dataframe...\n",
      "Writing 2017 data to parquet...\n",
      "Collecting 2018 dataframe...\n",
      "Writing 2018 data to parquet...\n",
      "Collecting 2019 dataframe...\n",
      "Writing 2019 data to parquet...\n",
      "Collecting 2020 dataframe...\n",
      "Writing 2020 data to parquet...\n",
      "Collecting 2021 dataframe...\n",
      "Writing 2021 data to parquet...\n",
      "Collecting 2022 dataframe...\n",
      "Writing 2022 data to parquet...\n",
      "Collecting 2023 dataframe...\n",
      "Writing 2023 data to parquet...\n",
      "OCA data written to parquet\n",
      "Total time to write data: 1.43 hours\n"
     ]
    }
   ],
   "source": [
    "#%%script echo skipping \n",
    "#write to clean parquet\n",
    "\n",
    "#get years\n",
    "years = pl.arange(2007,2024, eager=True)\n",
    "\n",
    "start = time.time()\n",
    "\n",
    "for year in years:\n",
    "    print('Collecting {} dataframe...'.format(year))\n",
    "    df = (\n",
    "        main_lf\n",
    "        .filter(pl.col('year')==year)\n",
    "        .collect()\n",
    "    )\n",
    "    print('Writing {} data to parquet...'.format(year))\n",
    "    df.write_parquet(file='../data/main/main_'+str(year)+'.parquet')\n",
    "print('OCA data written to parquet')\n",
    "runtime = time.time() - start\n",
    "print('Total time to write data: {:.2f} hours'.format(runtime/3600))"
   ]
  }
 ],
 "metadata": {
  "kernelspec": {
   "display_name": "wsu",
   "language": "python",
   "name": "python3"
  },
  "language_info": {
   "codemirror_mode": {
    "name": "ipython",
    "version": 3
   },
   "file_extension": ".py",
   "mimetype": "text/x-python",
   "name": "python",
   "nbconvert_exporter": "python",
   "pygments_lexer": "ipython3",
   "version": "3.12.0"
  }
 },
 "nbformat": 4,
 "nbformat_minor": 2
}
