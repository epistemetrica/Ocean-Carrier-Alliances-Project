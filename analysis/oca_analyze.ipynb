{
 "cells": [
  {
   "cell_type": "markdown",
   "metadata": {},
   "source": [
    "# Ocean Carrier Alliances: Analysis and Modeling \n",
    "\n",
    "This notebook analyzes the data processed in the \"oca_data_prep\" notebook; see the [repo](https://github.com/epistemetrica/Ocean-Carrier-Alliances-Project/blob/main/analysis/oca_data_prep.ipynb) for full details. "
   ]
  },
  {
   "cell_type": "code",
   "execution_count": 1,
   "metadata": {},
   "outputs": [],
   "source": [
    "#preliminaries\n",
    "\n",
    "#preliminaries \n",
    "import pandas as pd #v2.1.3\n",
    "import numpy as np\n",
    "import polars as pl #v1.1.0\n",
    "import plotly_express as px #v0.4.1 \n",
    "import plotly.graph_objects as go\n",
    "from datetime import datetime\n",
    "import statsmodels.api as sm\n",
    "import scipy\n",
    "import matplotlib.pyplot as plt\n",
    "import seaborn as sns\n",
    "\n",
    "#enable string cache for polars categoricals\n",
    "pl.enable_string_cache()\n",
    "\n",
    "#load data to lazyframe NOTE modify this step once unified data is finished clustering\n",
    "exports_lf = pl.scan_parquet('../data/exports/exports.parquet') \n",
    "imports_lf = pl.scan_parquet('../data/imports/*.parquet')\n",
    "#create main lf\n",
    "main_lf = pl.concat([imports_lf, exports_lf], how='diagonal')"
   ]
  },
  {
   "cell_type": "markdown",
   "metadata": {},
   "source": [
    "## Data Summary "
   ]
  },
  {
   "cell_type": "code",
   "execution_count": 6,
   "metadata": {},
   "outputs": [
    {
     "data": {
      "text/html": [
       "<div><style>\n",
       ".dataframe > thead > tr,\n",
       ".dataframe > tbody > tr {\n",
       "  text-align: right;\n",
       "  white-space: pre-wrap;\n",
       "}\n",
       "</style>\n",
       "<small>shape: (5, 30)</small><table border=\"1\" class=\"dataframe\"><thead><tr><th>teus</th><th>date</th><th>origin_territory</th><th>origin_region</th><th>arrival_port_code</th><th>arrival_port_name</th><th>departure_port_code</th><th>departure_port_name</th><th>coast_region</th><th>hs_code</th><th>carrier_name</th><th>carrier_scac</th><th>vessel_name</th><th>voyage_number</th><th>vessel_id</th><th>direction</th><th>bol_id</th><th>year</th><th>month</th><th>lane_id</th><th>lane_name</th><th>unified_carrier_name</th><th>unified_carrier_scac</th><th>vessel_owner</th><th>primary_cargo</th><th>vessel_lane_pair</th><th>date_arrival</th><th>dest_territory</th><th>dest_region</th><th>date_departure</th></tr><tr><td>f64</td><td>datetime[μs]</td><td>cat</td><td>cat</td><td>cat</td><td>cat</td><td>cat</td><td>cat</td><td>cat</td><td>str</td><td>cat</td><td>cat</td><td>str</td><td>str</td><td>i32</td><td>cat</td><td>str</td><td>i32</td><td>str</td><td>cat</td><td>cat</td><td>cat</td><td>cat</td><td>cat</td><td>bool</td><td>cat</td><td>datetime[μs]</td><td>cat</td><td>cat</td><td>datetime[μs]</td></tr></thead><tbody><tr><td>2.198764</td><td>2005-12-31 00:00:00</td><td>&quot;PHILIPPINES&quot;</td><td>&quot;SOUTH EAST ASIA&quot;</td><td>&quot;2704&quot;</td><td>&quot;LOS ANGELES&quot;</td><td>&quot;58309&quot;</td><td>&quot;KAOHSIUNG&quot;</td><td>&quot;WEST&quot;</td><td>&quot;730721&quot;</td><td>&quot;HYUNDAI&quot;</td><td>&quot;HYMM&quot;</td><td>&quot;APL CHINA&quot;</td><td>&quot;97&quot;</td><td>9074389</td><td>&quot;import&quot;</td><td>&quot;HYMM_62321214L12&quot;</td><td>2005</td><td>&quot;200512&quot;</td><td>&quot;58309_2704&quot;</td><td>&quot;Kaohsiung — Los Angeles&quot;</td><td>&quot;HYUNDAI&quot;</td><td>&quot;HDMU&quot;</td><td>&quot;APLU&quot;</td><td>false</td><td>&quot;9074389_58309_2704&quot;</td><td>2005-12-31 00:00:00</td><td>null</td><td>null</td><td>null</td></tr><tr><td>2.198764</td><td>2005-12-31 00:00:00</td><td>&quot;MALAYSIA&quot;</td><td>&quot;SOUTH EAST ASIA&quot;</td><td>&quot;1601&quot;</td><td>&quot;CHARLESTON&quot;</td><td>&quot;22519&quot;</td><td>&quot;COLON PA&quot;</td><td>&quot;EAST&quot;</td><td>&quot;400121&quot;</td><td>&quot;EVERGREEN LINE&quot;</td><td>&quot;EVER&quot;</td><td>&quot;EVER DAINTY&quot;</td><td>&quot;200&quot;</td><td>9134232</td><td>&quot;import&quot;</td><td>&quot;EVER_090550113466&quot;</td><td>2005</td><td>&quot;200512&quot;</td><td>&quot;22519_1601&quot;</td><td>&quot;Colon Pa — Charleston&quot;</td><td>&quot;EVERGREEN LINE&quot;</td><td>&quot;SLCC&quot;</td><td>&quot;SLCC&quot;</td><td>true</td><td>&quot;9134232_22519_1601&quot;</td><td>2005-12-31 00:00:00</td><td>null</td><td>null</td><td>null</td></tr><tr><td>2.198764</td><td>2005-12-31 00:00:00</td><td>&quot;CHINA (MAINLAND)&quot;</td><td>&quot;NORTH EAST ASIA&quot;</td><td>&quot;2704&quot;</td><td>&quot;LOS ANGELES&quot;</td><td>&quot;57078&quot;</td><td>&quot;YANTIAN&quot;</td><td>&quot;WEST&quot;</td><td>&quot;009669&quot;</td><td>&quot;HATSU MARINE LTD&quot;</td><td>&quot;HTML&quot;</td><td>&quot;HATSU EXCEL&quot;</td><td>&quot;344&quot;</td><td>9241322</td><td>&quot;import&quot;</td><td>&quot;HTML_149502055056&quot;</td><td>2005</td><td>&quot;200512&quot;</td><td>&quot;57078_2704&quot;</td><td>&quot;Yantian — Los Angeles&quot;</td><td>&quot;HATSU MARINE LTD&quot;</td><td>&quot;HTML&quot;</td><td>&quot;SLCC&quot;</td><td>false</td><td>&quot;9241322_57078_2704&quot;</td><td>2005-12-31 00:00:00</td><td>null</td><td>null</td><td>null</td></tr><tr><td>2.198764</td><td>2005-12-31 00:00:00</td><td>&quot;CHINA (MAINLAND)&quot;</td><td>&quot;NORTH EAST ASIA&quot;</td><td>&quot;2704&quot;</td><td>&quot;LOS ANGELES&quot;</td><td>&quot;57069&quot;</td><td>&quot;XIAMEN&quot;</td><td>&quot;WEST&quot;</td><td>&quot;640590&quot;</td><td>&quot;HYUNDAI&quot;</td><td>&quot;HYMM&quot;</td><td>&quot;APL CHINA&quot;</td><td>&quot;97&quot;</td><td>9074389</td><td>&quot;import&quot;</td><td>&quot;HYMM_615737517&quot;</td><td>2005</td><td>&quot;200512&quot;</td><td>&quot;57069_2704&quot;</td><td>&quot;Xiamen — Los Angeles&quot;</td><td>&quot;HYUNDAI&quot;</td><td>&quot;HDMU&quot;</td><td>&quot;APLU&quot;</td><td>false</td><td>&quot;9074389_57069_2704&quot;</td><td>2005-12-31 00:00:00</td><td>null</td><td>null</td><td>null</td></tr><tr><td>2.198764</td><td>2005-12-31 00:00:00</td><td>&quot;CHINA (MAINLAND)&quot;</td><td>&quot;NORTH EAST ASIA&quot;</td><td>&quot;2704&quot;</td><td>&quot;LOS ANGELES&quot;</td><td>&quot;57069&quot;</td><td>&quot;XIAMEN&quot;</td><td>&quot;WEST&quot;</td><td>&quot;732393&quot;</td><td>&quot;ORIENT OVERSEAS CONTAINER LINE&quot;</td><td>&quot;OOCL&quot;</td><td>&quot;NYK ATHENA&quot;</td><td>&quot;26&quot;</td><td>9247766</td><td>&quot;import&quot;</td><td>&quot;OOCL_96352730&quot;</td><td>2005</td><td>&quot;200512&quot;</td><td>&quot;57069_2704&quot;</td><td>&quot;Xiamen — Los Angeles&quot;</td><td>&quot;ORIENT OVERSEAS CONTAINER LINE&quot;</td><td>&quot;SMMB&quot;</td><td>&quot;NYKS&quot;</td><td>false</td><td>&quot;9247766_57069_2704&quot;</td><td>2005-12-31 00:00:00</td><td>null</td><td>null</td><td>null</td></tr></tbody></table></div>"
      ],
      "text/plain": [
       "shape: (5, 30)\n",
       "┌──────────┬───────────┬───────────┬───────────┬───┬───────────┬───────────┬───────────┬───────────┐\n",
       "│ teus     ┆ date      ┆ origin_te ┆ origin_re ┆ … ┆ date_arri ┆ dest_terr ┆ dest_regi ┆ date_depa │\n",
       "│ ---      ┆ ---       ┆ rritory   ┆ gion      ┆   ┆ val       ┆ itory     ┆ on        ┆ rture     │\n",
       "│ f64      ┆ datetime[ ┆ ---       ┆ ---       ┆   ┆ ---       ┆ ---       ┆ ---       ┆ ---       │\n",
       "│          ┆ μs]       ┆ cat       ┆ cat       ┆   ┆ datetime[ ┆ cat       ┆ cat       ┆ datetime[ │\n",
       "│          ┆           ┆           ┆           ┆   ┆ μs]       ┆           ┆           ┆ μs]       │\n",
       "╞══════════╪═══════════╪═══════════╪═══════════╪═══╪═══════════╪═══════════╪═══════════╪═══════════╡\n",
       "│ 2.198764 ┆ 2005-12-3 ┆ PHILIPPIN ┆ SOUTH     ┆ … ┆ 2005-12-3 ┆ null      ┆ null      ┆ null      │\n",
       "│          ┆ 1         ┆ ES        ┆ EAST ASIA ┆   ┆ 1         ┆           ┆           ┆           │\n",
       "│          ┆ 00:00:00  ┆           ┆           ┆   ┆ 00:00:00  ┆           ┆           ┆           │\n",
       "│ 2.198764 ┆ 2005-12-3 ┆ MALAYSIA  ┆ SOUTH     ┆ … ┆ 2005-12-3 ┆ null      ┆ null      ┆ null      │\n",
       "│          ┆ 1         ┆           ┆ EAST ASIA ┆   ┆ 1         ┆           ┆           ┆           │\n",
       "│          ┆ 00:00:00  ┆           ┆           ┆   ┆ 00:00:00  ┆           ┆           ┆           │\n",
       "│ 2.198764 ┆ 2005-12-3 ┆ CHINA (MA ┆ NORTH     ┆ … ┆ 2005-12-3 ┆ null      ┆ null      ┆ null      │\n",
       "│          ┆ 1         ┆ INLAND)   ┆ EAST ASIA ┆   ┆ 1         ┆           ┆           ┆           │\n",
       "│          ┆ 00:00:00  ┆           ┆           ┆   ┆ 00:00:00  ┆           ┆           ┆           │\n",
       "│ 2.198764 ┆ 2005-12-3 ┆ CHINA (MA ┆ NORTH     ┆ … ┆ 2005-12-3 ┆ null      ┆ null      ┆ null      │\n",
       "│          ┆ 1         ┆ INLAND)   ┆ EAST ASIA ┆   ┆ 1         ┆           ┆           ┆           │\n",
       "│          ┆ 00:00:00  ┆           ┆           ┆   ┆ 00:00:00  ┆           ┆           ┆           │\n",
       "│ 2.198764 ┆ 2005-12-3 ┆ CHINA (MA ┆ NORTH     ┆ … ┆ 2005-12-3 ┆ null      ┆ null      ┆ null      │\n",
       "│          ┆ 1         ┆ INLAND)   ┆ EAST ASIA ┆   ┆ 1         ┆           ┆           ┆           │\n",
       "│          ┆ 00:00:00  ┆           ┆           ┆   ┆ 00:00:00  ┆           ┆           ┆           │\n",
       "└──────────┴───────────┴───────────┴───────────┴───┴───────────┴───────────┴───────────┴───────────┘"
      ]
     },
     "metadata": {},
     "output_type": "display_data"
    },
    {
     "data": {
      "text/html": [
       "<div><style>\n",
       ".dataframe > thead > tr,\n",
       ".dataframe > tbody > tr {\n",
       "  text-align: right;\n",
       "  white-space: pre-wrap;\n",
       "}\n",
       "</style>\n",
       "<small>shape: (9, 31)</small><table border=\"1\" class=\"dataframe\"><thead><tr><th>statistic</th><th>teus</th><th>date</th><th>origin_territory</th><th>origin_region</th><th>arrival_port_code</th><th>arrival_port_name</th><th>departure_port_code</th><th>departure_port_name</th><th>coast_region</th><th>hs_code</th><th>carrier_name</th><th>carrier_scac</th><th>vessel_name</th><th>voyage_number</th><th>vessel_id</th><th>direction</th><th>bol_id</th><th>year</th><th>month</th><th>lane_id</th><th>lane_name</th><th>unified_carrier_name</th><th>unified_carrier_scac</th><th>vessel_owner</th><th>primary_cargo</th><th>vessel_lane_pair</th><th>date_arrival</th><th>dest_territory</th><th>dest_region</th><th>date_departure</th></tr><tr><td>str</td><td>f64</td><td>str</td><td>str</td><td>str</td><td>str</td><td>str</td><td>str</td><td>str</td><td>str</td><td>str</td><td>str</td><td>str</td><td>str</td><td>str</td><td>f64</td><td>str</td><td>str</td><td>f64</td><td>str</td><td>str</td><td>str</td><td>str</td><td>str</td><td>str</td><td>f64</td><td>str</td><td>str</td><td>str</td><td>str</td><td>str</td></tr></thead><tbody><tr><td>&quot;count&quot;</td><td>2.37242716e8</td><td>&quot;237242716&quot;</td><td>&quot;170344621&quot;</td><td>&quot;170344621&quot;</td><td>&quot;237242716&quot;</td><td>&quot;237242716&quot;</td><td>&quot;237242716&quot;</td><td>&quot;237242716&quot;</td><td>&quot;237135817&quot;</td><td>&quot;237241270&quot;</td><td>&quot;236978373&quot;</td><td>&quot;237242716&quot;</td><td>&quot;237242716&quot;</td><td>&quot;233594720&quot;</td><td>2.37242716e8</td><td>&quot;237242716&quot;</td><td>&quot;237240807&quot;</td><td>2.37242716e8</td><td>&quot;237242716&quot;</td><td>&quot;237242716&quot;</td><td>&quot;237242716&quot;</td><td>&quot;237200871&quot;</td><td>&quot;237242716&quot;</td><td>&quot;237242716&quot;</td><td>2.37242716e8</td><td>&quot;237242716&quot;</td><td>&quot;170844507&quot;</td><td>&quot;66354759&quot;</td><td>&quot;66354759&quot;</td><td>&quot;66329578&quot;</td></tr><tr><td>&quot;null_count&quot;</td><td>0.0</td><td>&quot;0&quot;</td><td>&quot;66898095&quot;</td><td>&quot;66898095&quot;</td><td>&quot;0&quot;</td><td>&quot;0&quot;</td><td>&quot;0&quot;</td><td>&quot;0&quot;</td><td>&quot;106899&quot;</td><td>&quot;1446&quot;</td><td>&quot;264343&quot;</td><td>&quot;0&quot;</td><td>&quot;0&quot;</td><td>&quot;3647996&quot;</td><td>0.0</td><td>&quot;0&quot;</td><td>&quot;1909&quot;</td><td>0.0</td><td>&quot;0&quot;</td><td>&quot;0&quot;</td><td>&quot;0&quot;</td><td>&quot;41845&quot;</td><td>&quot;0&quot;</td><td>&quot;0&quot;</td><td>0.0</td><td>&quot;0&quot;</td><td>&quot;66398209&quot;</td><td>&quot;170887957&quot;</td><td>&quot;170887957&quot;</td><td>&quot;170913138&quot;</td></tr><tr><td>&quot;mean&quot;</td><td>2.604211</td><td>&quot;2015-11-12 09:32:47.660812&quot;</td><td>null</td><td>null</td><td>null</td><td>null</td><td>null</td><td>null</td><td>null</td><td>null</td><td>null</td><td>null</td><td>null</td><td>null</td><td>9.2912e6</td><td>null</td><td>null</td><td>2015.363832</td><td>null</td><td>null</td><td>null</td><td>null</td><td>null</td><td>null</td><td>0.631104</td><td>null</td><td>&quot;2016-05-03 06:53:29.688093&quot;</td><td>null</td><td>null</td><td>&quot;2014-07-29 18:53:10.259862&quot;</td></tr><tr><td>&quot;std&quot;</td><td>3.791839</td><td>null</td><td>null</td><td>null</td><td>null</td><td>null</td><td>null</td><td>null</td><td>null</td><td>null</td><td>null</td><td>null</td><td>null</td><td>null</td><td>387539.223857</td><td>null</td><td>null</td><td>5.347143</td><td>null</td><td>null</td><td>null</td><td>null</td><td>null</td><td>null</td><td>null</td><td>null</td><td>null</td><td>null</td><td>null</td><td>null</td></tr><tr><td>&quot;min&quot;</td><td>0.01</td><td>&quot;2005-01-01 00:00:00&quot;</td><td>null</td><td>null</td><td>null</td><td>null</td><td>null</td><td>null</td><td>null</td><td>&quot;-1&quot;</td><td>null</td><td>null</td><td>&quot;102 SUNG SHIN&quot;</td><td>&quot;#c&quot;</td><td>196.0</td><td>null</td><td>&quot;-1_CSHSE0009996&quot;</td><td>2005.0</td><td>&quot;200501&quot;</td><td>null</td><td>null</td><td>null</td><td>null</td><td>null</td><td>0.0</td><td>null</td><td>&quot;2005-01-01 00:00:00&quot;</td><td>null</td><td>null</td><td>&quot;2005-01-01 00:00:00&quot;</td></tr><tr><td>&quot;25%&quot;</td><td>2.0</td><td>&quot;2011-09-02 00:00:00&quot;</td><td>null</td><td>null</td><td>null</td><td>null</td><td>null</td><td>null</td><td>null</td><td>null</td><td>null</td><td>null</td><td>null</td><td>null</td><td>9.232759e6</td><td>null</td><td>null</td><td>2011.0</td><td>null</td><td>null</td><td>null</td><td>null</td><td>null</td><td>null</td><td>null</td><td>null</td><td>&quot;2012-06-17 00:00:00&quot;</td><td>null</td><td>null</td><td>&quot;2009-10-02 00:00:00&quot;</td></tr><tr><td>&quot;50%&quot;</td><td>2.198764</td><td>&quot;2016-04-05 00:00:00&quot;</td><td>null</td><td>null</td><td>null</td><td>null</td><td>null</td><td>null</td><td>null</td><td>null</td><td>null</td><td>null</td><td>null</td><td>null</td><td>9.320257e6</td><td>null</td><td>null</td><td>2016.0</td><td>null</td><td>null</td><td>null</td><td>null</td><td>null</td><td>null</td><td>null</td><td>null</td><td>&quot;2016-11-08 00:00:00&quot;</td><td>null</td><td>null</td><td>&quot;2014-07-19 00:00:00&quot;</td></tr><tr><td>&quot;75%&quot;</td><td>2.65</td><td>&quot;2020-08-06 00:00:00&quot;</td><td>null</td><td>null</td><td>null</td><td>null</td><td>null</td><td>null</td><td>null</td><td>null</td><td>null</td><td>null</td><td>null</td><td>null</td><td>9.450648e6</td><td>null</td><td>null</td><td>2020.0</td><td>null</td><td>null</td><td>null</td><td>null</td><td>null</td><td>null</td><td>null</td><td>null</td><td>&quot;2020-12-15 00:00:00&quot;</td><td>null</td><td>null</td><td>&quot;2019-02-15 00:00:00&quot;</td></tr><tr><td>&quot;max&quot;</td><td>3729.25</td><td>&quot;2024-03-31 00:00:00&quot;</td><td>null</td><td>null</td><td>null</td><td>null</td><td>null</td><td>null</td><td>null</td><td>&quot;ddedo&quot;</td><td>null</td><td>null</td><td>&quot;xin yang shan&quot;</td><td>&quot;|SAL5&quot;</td><td>9.993688e6</td><td>null</td><td>&quot;zzzz_ZZZZ&quot;</td><td>2024.0</td><td>&quot;202403&quot;</td><td>null</td><td>null</td><td>null</td><td>null</td><td>null</td><td>1.0</td><td>null</td><td>&quot;2024-03-31 00:00:00&quot;</td><td>null</td><td>null</td><td>&quot;2024-03-31 00:00:00&quot;</td></tr></tbody></table></div>"
      ],
      "text/plain": [
       "shape: (9, 31)\n",
       "┌───────────┬───────────┬───────────┬───────────┬───┬───────────┬───────────┬───────────┬──────────┐\n",
       "│ statistic ┆ teus      ┆ date      ┆ origin_te ┆ … ┆ date_arri ┆ dest_terr ┆ dest_regi ┆ date_dep │\n",
       "│ ---       ┆ ---       ┆ ---       ┆ rritory   ┆   ┆ val       ┆ itory     ┆ on        ┆ arture   │\n",
       "│ str       ┆ f64       ┆ str       ┆ ---       ┆   ┆ ---       ┆ ---       ┆ ---       ┆ ---      │\n",
       "│           ┆           ┆           ┆ str       ┆   ┆ str       ┆ str       ┆ str       ┆ str      │\n",
       "╞═══════════╪═══════════╪═══════════╪═══════════╪═══╪═══════════╪═══════════╪═══════════╪══════════╡\n",
       "│ count     ┆ 2.3724271 ┆ 237242716 ┆ 170344621 ┆ … ┆ 170844507 ┆ 66354759  ┆ 66354759  ┆ 66329578 │\n",
       "│           ┆ 6e8       ┆           ┆           ┆   ┆           ┆           ┆           ┆          │\n",
       "│ null_coun ┆ 0.0       ┆ 0         ┆ 66898095  ┆ … ┆ 66398209  ┆ 170887957 ┆ 170887957 ┆ 17091313 │\n",
       "│ t         ┆           ┆           ┆           ┆   ┆           ┆           ┆           ┆ 8        │\n",
       "│ mean      ┆ 2.604211  ┆ 2015-11-1 ┆ null      ┆ … ┆ 2016-05-0 ┆ null      ┆ null      ┆ 2014-07- │\n",
       "│           ┆           ┆ 2 09:32:4 ┆           ┆   ┆ 3 06:53:2 ┆           ┆           ┆ 29 18:53 │\n",
       "│           ┆           ┆ 7.660812  ┆           ┆   ┆ 9.688093  ┆           ┆           ┆ :10.2598 │\n",
       "│           ┆           ┆           ┆           ┆   ┆           ┆           ┆           ┆ 62       │\n",
       "│ std       ┆ 3.791839  ┆ null      ┆ null      ┆ … ┆ null      ┆ null      ┆ null      ┆ null     │\n",
       "│ min       ┆ 0.01      ┆ 2005-01-0 ┆ null      ┆ … ┆ 2005-01-0 ┆ null      ┆ null      ┆ 2005-01- │\n",
       "│           ┆           ┆ 1         ┆           ┆   ┆ 1         ┆           ┆           ┆ 01       │\n",
       "│           ┆           ┆ 00:00:00  ┆           ┆   ┆ 00:00:00  ┆           ┆           ┆ 00:00:00 │\n",
       "│ 25%       ┆ 2.0       ┆ 2011-09-0 ┆ null      ┆ … ┆ 2012-06-1 ┆ null      ┆ null      ┆ 2009-10- │\n",
       "│           ┆           ┆ 2         ┆           ┆   ┆ 7         ┆           ┆           ┆ 02       │\n",
       "│           ┆           ┆ 00:00:00  ┆           ┆   ┆ 00:00:00  ┆           ┆           ┆ 00:00:00 │\n",
       "│ 50%       ┆ 2.198764  ┆ 2016-04-0 ┆ null      ┆ … ┆ 2016-11-0 ┆ null      ┆ null      ┆ 2014-07- │\n",
       "│           ┆           ┆ 5         ┆           ┆   ┆ 8         ┆           ┆           ┆ 19       │\n",
       "│           ┆           ┆ 00:00:00  ┆           ┆   ┆ 00:00:00  ┆           ┆           ┆ 00:00:00 │\n",
       "│ 75%       ┆ 2.65      ┆ 2020-08-0 ┆ null      ┆ … ┆ 2020-12-1 ┆ null      ┆ null      ┆ 2019-02- │\n",
       "│           ┆           ┆ 6         ┆           ┆   ┆ 5         ┆           ┆           ┆ 15       │\n",
       "│           ┆           ┆ 00:00:00  ┆           ┆   ┆ 00:00:00  ┆           ┆           ┆ 00:00:00 │\n",
       "│ max       ┆ 3729.25   ┆ 2024-03-3 ┆ null      ┆ … ┆ 2024-03-3 ┆ null      ┆ null      ┆ 2024-03- │\n",
       "│           ┆           ┆ 1         ┆           ┆   ┆ 1         ┆           ┆           ┆ 31       │\n",
       "│           ┆           ┆ 00:00:00  ┆           ┆   ┆ 00:00:00  ┆           ┆           ┆ 00:00:00 │\n",
       "└───────────┴───────────┴───────────┴───────────┴───┴───────────┴───────────┴───────────┴──────────┘"
      ]
     },
     "execution_count": 6,
     "metadata": {},
     "output_type": "execute_result"
    }
   ],
   "source": [
    "display(main_lf.limit(5).collect())\n",
    "main_lf.describe()"
   ]
  },
  {
   "cell_type": "code",
   "execution_count": 7,
   "metadata": {},
   "outputs": [],
   "source": [
    "#load sum format\n",
    "sum_df = pl.read_excel('tables/summary_format.xlsx')\n",
    "\n",
    "#force main lf to match new main format (NOTE drop this step after polishing oca_data_prep)\n",
    "main_lf = (\n",
    "    main_lf\n",
    "    #unify date to single column\n",
    "    .drop('date')\n",
    "    .with_columns(\n",
    "        pl.when(pl.col('direction')=='import')\n",
    "        .then(pl.col('date_arrival'))\n",
    "        .otherwise(pl.col('date_departure'))\n",
    "        .alias('date')\n",
    "    )\n",
    "    #add alliance column\n",
    "    .with_columns(pl.lit(None).alias('alliance'))\n",
    "    #add vessel capacity col\n",
    "    .with_columns(pl.lit(None).alias('vessel_cap'))\n",
    "    #add primary carrier alliance col\n",
    "    .with_columns(pl.lit(None).alias('pc_alliance'))\n",
    "    #add rate col\n",
    "    .with_columns(pl.lit(None).alias('rate'))\n",
    "    #add within alliance region col\n",
    "    .with_columns(pl.lit(None).alias('in_alliance_region'))\n",
    ")\n",
    "\n",
    "#create description table from main lf\n",
    "desc_df = (\n",
    "    main_lf\n",
    "    #add cols to match sum_df format\n",
    "    .with_columns(\n",
    "        pl.lit(None).alias('Cargo Data'),\n",
    "        pl.lit(None).alias('Geographic Data'),\n",
    "        pl.lit(None).alias('Carrier Data'),\n",
    "        pl.lit(None).alias('Vessel Data'),\n",
    "    )\n",
    "    #select appropriate columns\n",
    "    .select(\n",
    "        'Cargo Data', 'bol_id', 'teus', 'rate', 'date', 'hs_code', 'primary_cargo',\n",
    "        'Geographic Data', 'departure_port_name', 'departure_port_code', 'origin_region', \n",
    "        'arrival_port_name', 'arrival_port_code', 'dest_region', 'coast_region', 'lane_id', 'in_alliance_region',\n",
    "        'Carrier Data', 'unified_carrier_name', 'unified_carrier_scac', 'alliance',\n",
    "        'Vessel Data', 'vessel_id', 'vessel_cap', 'vessel_owner', 'pc_alliance'\n",
    "    )\n",
    "    .describe()\n",
    ")\n"
   ]
  },
  {
   "cell_type": "code",
   "execution_count": 8,
   "metadata": {},
   "outputs": [
    {
     "data": {
      "text/html": [
       "<div><style>\n",
       ".dataframe > thead > tr,\n",
       ".dataframe > tbody > tr {\n",
       "  text-align: right;\n",
       "  white-space: pre-wrap;\n",
       "}\n",
       "</style>\n",
       "<small>shape: (9, 27)</small><table border=\"1\" class=\"dataframe\"><thead><tr><th>statistic</th><th>Cargo Data</th><th>bol_id</th><th>teus</th><th>rate</th><th>date</th><th>hs_code</th><th>primary_cargo</th><th>Geographic Data</th><th>departure_port_name</th><th>departure_port_code</th><th>origin_region</th><th>arrival_port_name</th><th>arrival_port_code</th><th>dest_region</th><th>coast_region</th><th>lane_id</th><th>in_alliance_region</th><th>Carrier Data</th><th>unified_carrier_name</th><th>unified_carrier_scac</th><th>alliance</th><th>Vessel Data</th><th>vessel_id</th><th>vessel_cap</th><th>vessel_owner</th><th>pc_alliance</th></tr><tr><td>str</td><td>f64</td><td>str</td><td>f64</td><td>f64</td><td>str</td><td>str</td><td>f64</td><td>f64</td><td>str</td><td>str</td><td>str</td><td>str</td><td>str</td><td>str</td><td>str</td><td>str</td><td>f64</td><td>f64</td><td>str</td><td>str</td><td>f64</td><td>f64</td><td>f64</td><td>f64</td><td>str</td><td>f64</td></tr></thead><tbody><tr><td>&quot;count&quot;</td><td>0.0</td><td>&quot;237240807&quot;</td><td>2.37242716e8</td><td>0.0</td><td>&quot;237174085&quot;</td><td>&quot;237241270&quot;</td><td>2.37242716e8</td><td>0.0</td><td>&quot;237242716&quot;</td><td>&quot;237242716&quot;</td><td>&quot;170344621&quot;</td><td>&quot;237242716&quot;</td><td>&quot;237242716&quot;</td><td>&quot;66354759&quot;</td><td>&quot;237135817&quot;</td><td>&quot;237242716&quot;</td><td>0.0</td><td>0.0</td><td>&quot;237200871&quot;</td><td>&quot;237242716&quot;</td><td>0.0</td><td>0.0</td><td>2.37242716e8</td><td>0.0</td><td>&quot;237242716&quot;</td><td>0.0</td></tr><tr><td>&quot;null_count&quot;</td><td>2.37242716e8</td><td>&quot;1909&quot;</td><td>0.0</td><td>2.37242716e8</td><td>&quot;68631&quot;</td><td>&quot;1446&quot;</td><td>0.0</td><td>2.37242716e8</td><td>&quot;0&quot;</td><td>&quot;0&quot;</td><td>&quot;66898095&quot;</td><td>&quot;0&quot;</td><td>&quot;0&quot;</td><td>&quot;170887957&quot;</td><td>&quot;106899&quot;</td><td>&quot;0&quot;</td><td>2.37242716e8</td><td>2.37242716e8</td><td>&quot;41845&quot;</td><td>&quot;0&quot;</td><td>2.37242716e8</td><td>2.37242716e8</td><td>0.0</td><td>2.37242716e8</td><td>&quot;0&quot;</td><td>2.37242716e8</td></tr><tr><td>&quot;mean&quot;</td><td>null</td><td>null</td><td>2.604211</td><td>null</td><td>&quot;2015-11-05 07:43:30.318531&quot;</td><td>null</td><td>0.631104</td><td>null</td><td>null</td><td>null</td><td>null</td><td>null</td><td>null</td><td>null</td><td>null</td><td>null</td><td>null</td><td>null</td><td>null</td><td>null</td><td>null</td><td>null</td><td>9.2912e6</td><td>null</td><td>null</td><td>null</td></tr><tr><td>&quot;std&quot;</td><td>null</td><td>null</td><td>3.791839</td><td>null</td><td>null</td><td>null</td><td>null</td><td>null</td><td>null</td><td>null</td><td>null</td><td>null</td><td>null</td><td>null</td><td>null</td><td>null</td><td>null</td><td>null</td><td>null</td><td>null</td><td>null</td><td>null</td><td>387539.223857</td><td>null</td><td>null</td><td>null</td></tr><tr><td>&quot;min&quot;</td><td>null</td><td>&quot;-1_CSHSE0009996&quot;</td><td>0.01</td><td>null</td><td>&quot;2005-01-01 00:00:00&quot;</td><td>&quot;-1&quot;</td><td>0.0</td><td>null</td><td>null</td><td>null</td><td>null</td><td>null</td><td>null</td><td>null</td><td>null</td><td>null</td><td>null</td><td>null</td><td>null</td><td>null</td><td>null</td><td>null</td><td>196.0</td><td>null</td><td>null</td><td>null</td></tr><tr><td>&quot;25%&quot;</td><td>null</td><td>null</td><td>2.0</td><td>null</td><td>&quot;2011-08-24 00:00:00&quot;</td><td>null</td><td>null</td><td>null</td><td>null</td><td>null</td><td>null</td><td>null</td><td>null</td><td>null</td><td>null</td><td>null</td><td>null</td><td>null</td><td>null</td><td>null</td><td>null</td><td>null</td><td>9.232759e6</td><td>null</td><td>null</td><td>null</td></tr><tr><td>&quot;50%&quot;</td><td>null</td><td>null</td><td>2.198764</td><td>null</td><td>&quot;2016-03-28 00:00:00&quot;</td><td>null</td><td>null</td><td>null</td><td>null</td><td>null</td><td>null</td><td>null</td><td>null</td><td>null</td><td>null</td><td>null</td><td>null</td><td>null</td><td>null</td><td>null</td><td>null</td><td>null</td><td>9.320257e6</td><td>null</td><td>null</td><td>null</td></tr><tr><td>&quot;75%&quot;</td><td>null</td><td>null</td><td>2.65</td><td>null</td><td>&quot;2020-07-29 00:00:00&quot;</td><td>null</td><td>null</td><td>null</td><td>null</td><td>null</td><td>null</td><td>null</td><td>null</td><td>null</td><td>null</td><td>null</td><td>null</td><td>null</td><td>null</td><td>null</td><td>null</td><td>null</td><td>9.450648e6</td><td>null</td><td>null</td><td>null</td></tr><tr><td>&quot;max&quot;</td><td>null</td><td>&quot;zzzz_ZZZZ&quot;</td><td>3729.25</td><td>null</td><td>&quot;2024-03-31 00:00:00&quot;</td><td>&quot;ddedo&quot;</td><td>1.0</td><td>null</td><td>null</td><td>null</td><td>null</td><td>null</td><td>null</td><td>null</td><td>null</td><td>null</td><td>null</td><td>null</td><td>null</td><td>null</td><td>null</td><td>null</td><td>9.993688e6</td><td>null</td><td>null</td><td>null</td></tr></tbody></table></div>"
      ],
      "text/plain": [
       "shape: (9, 27)\n",
       "┌───────────┬───────────┬───────────┬───────────┬───┬───────────┬───────────┬───────────┬──────────┐\n",
       "│ statistic ┆ Cargo     ┆ bol_id    ┆ teus      ┆ … ┆ vessel_id ┆ vessel_ca ┆ vessel_ow ┆ pc_allia │\n",
       "│ ---       ┆ Data      ┆ ---       ┆ ---       ┆   ┆ ---       ┆ p         ┆ ner       ┆ nce      │\n",
       "│ str       ┆ ---       ┆ str       ┆ f64       ┆   ┆ f64       ┆ ---       ┆ ---       ┆ ---      │\n",
       "│           ┆ f64       ┆           ┆           ┆   ┆           ┆ f64       ┆ str       ┆ f64      │\n",
       "╞═══════════╪═══════════╪═══════════╪═══════════╪═══╪═══════════╪═══════════╪═══════════╪══════════╡\n",
       "│ count     ┆ 0.0       ┆ 237240807 ┆ 2.3724271 ┆ … ┆ 2.3724271 ┆ 0.0       ┆ 237242716 ┆ 0.0      │\n",
       "│           ┆           ┆           ┆ 6e8       ┆   ┆ 6e8       ┆           ┆           ┆          │\n",
       "│ null_coun ┆ 2.3724271 ┆ 1909      ┆ 0.0       ┆ … ┆ 0.0       ┆ 2.3724271 ┆ 0         ┆ 2.372427 │\n",
       "│ t         ┆ 6e8       ┆           ┆           ┆   ┆           ┆ 6e8       ┆           ┆ 16e8     │\n",
       "│ mean      ┆ null      ┆ null      ┆ 2.604211  ┆ … ┆ 9.2912e6  ┆ null      ┆ null      ┆ null     │\n",
       "│ std       ┆ null      ┆ null      ┆ 3.791839  ┆ … ┆ 387539.22 ┆ null      ┆ null      ┆ null     │\n",
       "│           ┆           ┆           ┆           ┆   ┆ 3857      ┆           ┆           ┆          │\n",
       "│ min       ┆ null      ┆ -1_CSHSE0 ┆ 0.01      ┆ … ┆ 196.0     ┆ null      ┆ null      ┆ null     │\n",
       "│           ┆           ┆ 009996    ┆           ┆   ┆           ┆           ┆           ┆          │\n",
       "│ 25%       ┆ null      ┆ null      ┆ 2.0       ┆ … ┆ 9.232759e ┆ null      ┆ null      ┆ null     │\n",
       "│           ┆           ┆           ┆           ┆   ┆ 6         ┆           ┆           ┆          │\n",
       "│ 50%       ┆ null      ┆ null      ┆ 2.198764  ┆ … ┆ 9.320257e ┆ null      ┆ null      ┆ null     │\n",
       "│           ┆           ┆           ┆           ┆   ┆ 6         ┆           ┆           ┆          │\n",
       "│ 75%       ┆ null      ┆ null      ┆ 2.65      ┆ … ┆ 9.450648e ┆ null      ┆ null      ┆ null     │\n",
       "│           ┆           ┆           ┆           ┆   ┆ 6         ┆           ┆           ┆          │\n",
       "│ max       ┆ null      ┆ zzzz_ZZZZ ┆ 3729.25   ┆ … ┆ 9.993688e ┆ null      ┆ null      ┆ null     │\n",
       "│           ┆           ┆           ┆           ┆   ┆ 6         ┆           ┆           ┆          │\n",
       "└───────────┴───────────┴───────────┴───────────┴───┴───────────┴───────────┴───────────┴──────────┘"
      ]
     },
     "execution_count": 8,
     "metadata": {},
     "output_type": "execute_result"
    }
   ],
   "source": [
    "desc_df"
   ]
  },
  {
   "cell_type": "code",
   "execution_count": 9,
   "metadata": {},
   "outputs": [],
   "source": [
    "\n",
    "#transpose desc df\n",
    "desc_df = (\n",
    "    desc_df\n",
    "    .transpose(include_header=True, column_names='statistic')\n",
    "    #select desired cols in order\n",
    "    .select('count', 'mean', 'std', 'min', 'max')\n",
    ")\n",
    "\n",
    "#add desc_df data to sum_df\n",
    "sum_df = (\n",
    "    sum_df\n",
    "    .with_columns(\n",
    "        Obs = desc_df.select('count').to_series(),\n",
    "        Mean = desc_df.select('mean').to_series(),\n",
    "        Std = desc_df.select('std').to_series(),\n",
    "        Min = desc_df.select('min').to_series(),\n",
    "        Max = desc_df.select('max').to_series()\n",
    "    )\n",
    "    #drop polars weirdness\n",
    "\n",
    ")"
   ]
  },
  {
   "cell_type": "code",
   "execution_count": 10,
   "metadata": {},
   "outputs": [
    {
     "data": {
      "text/html": [
       "<div><style>\n",
       ".dataframe > thead > tr,\n",
       ".dataframe > tbody > tr {\n",
       "  text-align: right;\n",
       "  white-space: pre-wrap;\n",
       "}\n",
       "</style>\n",
       "<small>shape: (26, 9)</small><table border=\"1\" class=\"dataframe\"><thead><tr><th>Variable </th><th>Type</th><th>Source</th><th>Obs</th><th>Mean</th><th>Std</th><th>Min</th><th>Max</th><th>Description</th></tr><tr><td>str</td><td>str</td><td>str</td><td>str</td><td>str</td><td>str</td><td>str</td><td>str</td><td>str</td></tr></thead><tbody><tr><td>&quot;Cargo Data&quot;</td><td>null</td><td>null</td><td>&quot;0.0&quot;</td><td>null</td><td>null</td><td>null</td><td>null</td><td>null</td></tr><tr><td>&quot;BOL ID&quot;</td><td>&quot;categorical&quot;</td><td>&quot;PIERS&quot;</td><td>&quot;237240807&quot;</td><td>null</td><td>null</td><td>&quot;-1_CSHSE0009996&quot;</td><td>&quot;zzzz_ZZZZ&quot;</td><td>&quot;Alphanumeric code uniquely ide…</td></tr><tr><td>&quot;Volume (TEU)&quot;</td><td>&quot;continuous&quot;</td><td>&quot;PIERS&quot;</td><td>&quot;237242716.0&quot;</td><td>&quot;2.6042111641170265&quot;</td><td>&quot;3.7918386507790065&quot;</td><td>&quot;0.01&quot;</td><td>&quot;3729.25&quot;</td><td>&quot;The Twenty-foot Equivalent Uni…</td></tr><tr><td>&quot;Rate (USD)&quot;</td><td>&quot;continuous&quot;</td><td>&quot;Drewery&quot;</td><td>&quot;0.0&quot;</td><td>null</td><td>null</td><td>null</td><td>null</td><td>&quot;Drewery monthly rate index for…</td></tr><tr><td>&quot;Date&quot;</td><td>&quot;categorical&quot;</td><td>&quot;PIERS&quot;</td><td>&quot;237174085&quot;</td><td>&quot;2015-11-05 07:43:30.318531&quot;</td><td>null</td><td>&quot;2005-01-01 00:00:00&quot;</td><td>&quot;2024-03-31 00:00:00&quot;</td><td>&quot;Arrival (imports) or departure…</td></tr><tr><td>&hellip;</td><td>&hellip;</td><td>&hellip;</td><td>&hellip;</td><td>&hellip;</td><td>&hellip;</td><td>&hellip;</td><td>&hellip;</td><td>&hellip;</td></tr><tr><td>&quot;Vessel Data&quot;</td><td>null</td><td>null</td><td>&quot;0.0&quot;</td><td>null</td><td>null</td><td>null</td><td>null</td><td>null</td></tr><tr><td>&quot;Vessel ID&quot;</td><td>&quot;categorical&quot;</td><td>&quot;PIERS&quot;</td><td>&quot;237242716.0&quot;</td><td>&quot;9291202.401805988&quot;</td><td>&quot;387539.22385705466&quot;</td><td>&quot;196.0&quot;</td><td>&quot;9993688.0&quot;</td><td>&quot;IMO code uniquely identifying …</td></tr><tr><td>&quot;Vessel Capacity&quot;</td><td>&quot;continuous&quot;</td><td>&quot;US Corp of Eng.&quot;</td><td>&quot;0.0&quot;</td><td>null</td><td>null</td><td>null</td><td>null</td><td>&quot;Total TEUs able to be carried …</td></tr><tr><td>&quot;Primary Carrier&quot;</td><td>&quot;categorical&quot;</td><td>&quot;PIERS&quot;</td><td>&quot;237242716&quot;</td><td>null</td><td>null</td><td>null</td><td>null</td><td>&quot;The carrier representing the m…</td></tr><tr><td>&quot;Primary Carrier Alliance&quot;</td><td>&quot;categorical&quot;</td><td>&quot;FMC&quot;</td><td>&quot;0.0&quot;</td><td>null</td><td>null</td><td>null</td><td>null</td><td>&quot;The Ocean Carrier Alliance to …</td></tr></tbody></table></div>"
      ],
      "text/plain": [
       "shape: (26, 9)\n",
       "┌───────────┬───────────┬───────────┬───────────┬───┬───────────┬───────────┬───────────┬──────────┐\n",
       "│ Variable  ┆ Type      ┆ Source    ┆ Obs       ┆ … ┆ Std       ┆ Min       ┆ Max       ┆ Descript │\n",
       "│ ---       ┆ ---       ┆ ---       ┆ ---       ┆   ┆ ---       ┆ ---       ┆ ---       ┆ ion      │\n",
       "│ str       ┆ str       ┆ str       ┆ str       ┆   ┆ str       ┆ str       ┆ str       ┆ ---      │\n",
       "│           ┆           ┆           ┆           ┆   ┆           ┆           ┆           ┆ str      │\n",
       "╞═══════════╪═══════════╪═══════════╪═══════════╪═══╪═══════════╪═══════════╪═══════════╪══════════╡\n",
       "│ Cargo     ┆ null      ┆ null      ┆ 0.0       ┆ … ┆ null      ┆ null      ┆ null      ┆ null     │\n",
       "│ Data      ┆           ┆           ┆           ┆   ┆           ┆           ┆           ┆          │\n",
       "│ BOL ID    ┆ categoric ┆ PIERS     ┆ 237240807 ┆ … ┆ null      ┆ -1_CSHSE0 ┆ zzzz_ZZZZ ┆ Alphanum │\n",
       "│           ┆ al        ┆           ┆           ┆   ┆           ┆ 009996    ┆           ┆ eric     │\n",
       "│           ┆           ┆           ┆           ┆   ┆           ┆           ┆           ┆ code     │\n",
       "│           ┆           ┆           ┆           ┆   ┆           ┆           ┆           ┆ uniquely │\n",
       "│           ┆           ┆           ┆           ┆   ┆           ┆           ┆           ┆ ide…     │\n",
       "│ Volume    ┆ continuou ┆ PIERS     ┆ 237242716 ┆ … ┆ 3.7918386 ┆ 0.01      ┆ 3729.25   ┆ The Twen │\n",
       "│ (TEU)     ┆ s         ┆           ┆ .0        ┆   ┆ 507790065 ┆           ┆           ┆ ty-foot  │\n",
       "│           ┆           ┆           ┆           ┆   ┆           ┆           ┆           ┆ Equivale │\n",
       "│           ┆           ┆           ┆           ┆   ┆           ┆           ┆           ┆ nt Uni…  │\n",
       "│ Rate      ┆ continuou ┆ Drewery   ┆ 0.0       ┆ … ┆ null      ┆ null      ┆ null      ┆ Drewery  │\n",
       "│ (USD)     ┆ s         ┆           ┆           ┆   ┆           ┆           ┆           ┆ monthly  │\n",
       "│           ┆           ┆           ┆           ┆   ┆           ┆           ┆           ┆ rate     │\n",
       "│           ┆           ┆           ┆           ┆   ┆           ┆           ┆           ┆ index    │\n",
       "│           ┆           ┆           ┆           ┆   ┆           ┆           ┆           ┆ for…     │\n",
       "│ Date      ┆ categoric ┆ PIERS     ┆ 237174085 ┆ … ┆ null      ┆ 2005-01-0 ┆ 2024-03-3 ┆ Arrival  │\n",
       "│           ┆ al        ┆           ┆           ┆   ┆           ┆ 1         ┆ 1         ┆ (imports │\n",
       "│           ┆           ┆           ┆           ┆   ┆           ┆ 00:00:00  ┆ 00:00:00  ┆ ) or dep │\n",
       "│           ┆           ┆           ┆           ┆   ┆           ┆           ┆           ┆ arture…  │\n",
       "│ …         ┆ …         ┆ …         ┆ …         ┆ … ┆ …         ┆ …         ┆ …         ┆ …        │\n",
       "│ Vessel    ┆ null      ┆ null      ┆ 0.0       ┆ … ┆ null      ┆ null      ┆ null      ┆ null     │\n",
       "│ Data      ┆           ┆           ┆           ┆   ┆           ┆           ┆           ┆          │\n",
       "│ Vessel ID ┆ categoric ┆ PIERS     ┆ 237242716 ┆ … ┆ 387539.22 ┆ 196.0     ┆ 9993688.0 ┆ IMO code │\n",
       "│           ┆ al        ┆           ┆ .0        ┆   ┆ 385705466 ┆           ┆           ┆ uniquely │\n",
       "│           ┆           ┆           ┆           ┆   ┆           ┆           ┆           ┆ identify │\n",
       "│           ┆           ┆           ┆           ┆   ┆           ┆           ┆           ┆ ing …    │\n",
       "│ Vessel    ┆ continuou ┆ US Corp   ┆ 0.0       ┆ … ┆ null      ┆ null      ┆ null      ┆ Total    │\n",
       "│ Capacity  ┆ s         ┆ of Eng.   ┆           ┆   ┆           ┆           ┆           ┆ TEUs     │\n",
       "│           ┆           ┆           ┆           ┆   ┆           ┆           ┆           ┆ able to  │\n",
       "│           ┆           ┆           ┆           ┆   ┆           ┆           ┆           ┆ be       │\n",
       "│           ┆           ┆           ┆           ┆   ┆           ┆           ┆           ┆ carried  │\n",
       "│           ┆           ┆           ┆           ┆   ┆           ┆           ┆           ┆ …        │\n",
       "│ Primary   ┆ categoric ┆ PIERS     ┆ 237242716 ┆ … ┆ null      ┆ null      ┆ null      ┆ The      │\n",
       "│ Carrier   ┆ al        ┆           ┆           ┆   ┆           ┆           ┆           ┆ carrier  │\n",
       "│           ┆           ┆           ┆           ┆   ┆           ┆           ┆           ┆ represen │\n",
       "│           ┆           ┆           ┆           ┆   ┆           ┆           ┆           ┆ ting the │\n",
       "│           ┆           ┆           ┆           ┆   ┆           ┆           ┆           ┆ m…       │\n",
       "│ Primary   ┆ categoric ┆ FMC       ┆ 0.0       ┆ … ┆ null      ┆ null      ┆ null      ┆ The      │\n",
       "│ Carrier   ┆ al        ┆           ┆           ┆   ┆           ┆           ┆           ┆ Ocean    │\n",
       "│ Alliance  ┆           ┆           ┆           ┆   ┆           ┆           ┆           ┆ Carrier  │\n",
       "│           ┆           ┆           ┆           ┆   ┆           ┆           ┆           ┆ Alliance │\n",
       "│           ┆           ┆           ┆           ┆   ┆           ┆           ┆           ┆ to …     │\n",
       "└───────────┴───────────┴───────────┴───────────┴───┴───────────┴───────────┴───────────┴──────────┘"
      ]
     },
     "execution_count": 10,
     "metadata": {},
     "output_type": "execute_result"
    }
   ],
   "source": [
    "sum_df"
   ]
  },
  {
   "cell_type": "code",
   "execution_count": 4,
   "metadata": {},
   "outputs": [],
   "source": [
    "#save to csv\n",
    "sum_df.write_csv('tables/table1_summary.csv')"
   ]
  },
  {
   "cell_type": "code",
   "execution_count": null,
   "metadata": {},
   "outputs": [],
   "source": []
  }
 ],
 "metadata": {
  "kernelspec": {
   "display_name": "wsu",
   "language": "python",
   "name": "python3"
  },
  "language_info": {
   "codemirror_mode": {
    "name": "ipython",
    "version": 3
   },
   "file_extension": ".py",
   "mimetype": "text/x-python",
   "name": "python",
   "nbconvert_exporter": "python",
   "pygments_lexer": "ipython3",
   "version": "3.12.0"
  }
 },
 "nbformat": 4,
 "nbformat_minor": 2
}
