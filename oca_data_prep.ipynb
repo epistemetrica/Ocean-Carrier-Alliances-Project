{
 "cells": [
  {
   "cell_type": "markdown",
   "metadata": {},
   "source": [
    "# Data Preparation for Ocean Carrier Alliances Project\n",
    "\n",
    "This notebook loads, cleans, and prepares the data used to analyse containerized maritime freight carrier alliances. The primary data comes from S&P's PIERS BOL database, which is processed via the seperate PIERS Data Project. \n",
    "\n",
    "See the github repo and the README for more detail. "
   ]
  },
  {
   "cell_type": "code",
   "execution_count": 1,
   "metadata": {},
   "outputs": [],
   "source": [
    "#preliminaries \n",
    "import pandas as pd #v2.1.3\n",
    "import polars as pl #v0.20.18\n",
    "import plotly_express as px #v0.4.1 \n",
    "import datetime as dt\n",
    "from sklearn.cluster import HDBSCAN\n",
    "import time\n",
    "\n",
    "\n",
    "#display settings\n",
    "pd.set_option('display.max_columns', None)\n",
    "\n",
    "#enable string cache for polars categoricals\n",
    "pl.enable_string_cache()"
   ]
  },
  {
   "cell_type": "markdown",
   "metadata": {},
   "source": [
    "## PIERS BOL Data\n",
    "\n",
    "This project uses data from the PIERS Data Project's bill of lading database. The initial codeblock loads the relevant columns from this database into seperate Polars LazyFrames for the import and export data, and subsequent blocks address the various issues in the data. \n",
    "\n",
    "Note: Since the first phase of our project is focused on PNW producers, we limit the data to only west coast ports. "
   ]
  },
  {
   "cell_type": "code",
   "execution_count": 2,
   "metadata": {},
   "outputs": [],
   "source": [
    "#load PIERS bol data lazyframes\n",
    "imports_lf = (\n",
    "    pl.scan_parquet('data/piers_raw/imports/*.parquet', parallel='columns')\n",
    "    #drop unused columns \n",
    "    .select(\n",
    "        #'weight',\n",
    "        #'weight_unit',\n",
    "        #'qty',\n",
    "        #'qty_type',\n",
    "        'teus',\n",
    "        #'value_est',\n",
    "        'date',\n",
    "        #'container_piece_count',\n",
    "        #'commod_short_desc_qty',\n",
    "        'origin_territory',\n",
    "        'origin_region',\n",
    "        'arrival_port_code',\n",
    "        'arrival_port_name',\n",
    "        'departure_port_code',\n",
    "        'departure_port_name',\n",
    "        #'dest_final',\n",
    "        'coast_region',\n",
    "        #'clearing_district',\n",
    "        #'place_receipt',\n",
    "        #'shipper_name',\n",
    "        #'shipper_address',\n",
    "        #'consignee_name',\n",
    "        #'consignee_address',\n",
    "        #'notify_party1_name',\n",
    "        #'notify_party1_address',\n",
    "        #'notify_party2_name',\n",
    "        #'notify_party2_address',\n",
    "        #'commod_desc_raw',\n",
    "        #'container_id_marks',\n",
    "        #'marks_desc',\n",
    "        'hs_code',\n",
    "        #'joc_code',\n",
    "        #'commod_short_desc',\n",
    "        #'container_ids',\n",
    "        'carrier_name',\n",
    "        'carrier_scac',\n",
    "        'vessel_name',\n",
    "        'voyage_number',\n",
    "        #'precarrier',\n",
    "        'vessel_id',\n",
    "        #'inbond_code',\n",
    "        #'transport_mode',\n",
    "        #'bol_number',\n",
    "        'direction',\n",
    "        'bol_id',\n",
    "        'year',\n",
    "        'month',\n",
    "        'lane_id'\n",
    "    )\n",
    "    #filter for west coast\n",
    "    .filter(pl.col('coast_region')=='WEST')\n",
    "    #get lane name \n",
    "    .with_columns(\n",
    "            #find most commonly used departure port name for a given lane_id\n",
    "            pl.col('departure_port_name').drop_nulls().mode().first().over('lane_id').alias('best_departure_port_name'),\n",
    "            #find most commonly used arrival port name for a given lane_id\n",
    "            pl.col('arrival_port_name').drop_nulls().mode().first().over('lane_id').alias('best_arrival_port_name')\n",
    "        )\n",
    "        .with_columns(\n",
    "            (pl.col('best_departure_port_name').cast(pl.Utf8)+' — '+pl.col('best_arrival_port_name').cast(pl.Utf8))\n",
    "            .str.to_titlecase()\n",
    "            .cast(pl.Categorical)\n",
    "            .alias('lane_name')\n",
    "        )\n",
    "        .drop('best_departure_port_name', 'best_arrival_port_name')\n",
    ")\n",
    "\n",
    "exports_lf = (\n",
    "    pl.scan_parquet('data/piers_raw/exports/piers_exports_raw.parquet', parallel='columns') \n",
    "    #drop unused columns\n",
    "    .select(\n",
    "        #'shipper',\n",
    "        #'shipper_address',\n",
    "        #'weight',\n",
    "        #'weight_unit',\n",
    "        #'qty',\n",
    "        #'quantity_type',\n",
    "        'teus',\n",
    "        'carrier_name',\n",
    "        'carrier_scac',\n",
    "        'vessel_name',\n",
    "        'voyage_number',\n",
    "        #'bol_number',\n",
    "        'vessel_id',\n",
    "        #'value_est',\n",
    "        'departure_port_code',\n",
    "        'departure_port_name',\n",
    "        #'container_ids',\n",
    "        #'container_piece_count',\n",
    "        'coast_region',\n",
    "        #'commod_desc_raw',\n",
    "        #'commod_short_desc',\n",
    "        'hs_code',\n",
    "        #'joc_code',\n",
    "        #'commod_short_desc_qty',\n",
    "        'date',\n",
    "        #'origin',\n",
    "        'dest_territory',\n",
    "        'dest_region',\n",
    "        'arrival_port_code',\n",
    "        'arrival_port_name',\n",
    "        'direction',\n",
    "        'bol_id',\n",
    "        'year',\n",
    "        'month',\n",
    "        'lane_id'\n",
    "    )\n",
    "    #filter for west coast\n",
    "    .filter(pl.col('coast_region')=='WEST')\n",
    "    #get lane name \n",
    "    .with_columns(\n",
    "            #find most commonly used departure port name for a given lane_id\n",
    "            pl.col('departure_port_name').drop_nulls().mode().first().over('lane_id').alias('best_departure_port_name'),\n",
    "            #find most commonly used arrival port name for a given lane_id\n",
    "            pl.col('arrival_port_name').drop_nulls().mode().first().over('lane_id').alias('best_arrival_port_name')\n",
    "        )\n",
    "        .with_columns(\n",
    "            (pl.col('best_departure_port_name').cast(pl.Utf8)+' — '+pl.col('best_arrival_port_name').cast(pl.Utf8))\n",
    "            .str.to_titlecase()\n",
    "            .cast(pl.Categorical)\n",
    "            .alias('lane_name')\n",
    "        )\n",
    "        .drop('best_departure_port_name', 'best_arrival_port_name')\n",
    ")"
   ]
  },
  {
   "cell_type": "code",
   "execution_count": 3,
   "metadata": {},
   "outputs": [],
   "source": [
    "#project functions\n",
    "\n",
    "#fill nulls in volume cols with mean\n",
    "def fill_volume(lf):\n",
    "    '''ad hod function to fill volume columns with their means'''\n",
    "    return (\n",
    "        lf\n",
    "        .with_columns([\n",
    "            pl.col('teus').replace(0,None).fill_null(strategy='mean'),\n",
    "            #pl.col('weight').replace(0,None).fill_null(strategy='mean'),\n",
    "            #pl.col('qty').replace(0,None).fill_null(strategy='mean')\n",
    "            ])\n",
    "        )\n",
    "\n",
    "#plotly graph inspecting nulls over time by group\n",
    "def nulls_over_time_plotly(data_lf, group_var, time_var, value_var, title=False):\n",
    "    '''\n",
    "    Plots proportion of null values over time by group.\n",
    "    INPUTS:\n",
    "        data_lf - polars lazyframe containing the relevant data\n",
    "        group_var - str - the name of the column by which to group\n",
    "        time_var - str - the name of the time column (e.g., year, month) over which values will be counted\n",
    "        value_var - str - the name of the column containing the variable in question\n",
    "        title (default=False) - str - the title of the graph\n",
    "    OUTPUT:\n",
    "        a plotly express figure\n",
    "    DEPENDS ON:\n",
    "        polars\n",
    "        plotly express \n",
    "    '''\n",
    "    df = (\n",
    "        #select relevant columns\n",
    "        data_lf.select([group_var, time_var, value_var])\n",
    "        #group by, creating null count and non-null count cols\n",
    "        .group_by(group_var, time_var)\n",
    "        .agg([pl.col(value_var).null_count().alias('null_count'),\n",
    "                pl.col(value_var).count().alias('count')])\n",
    "        #compute percent null and fill new column\n",
    "        .with_columns((pl.col('null_count')/(pl.col('count')+pl.col('null_count'))).alias('null_percent'))\n",
    "        #cast group col to string to allow sensible ordering of legend\n",
    "        .cast({group_var:pl.Utf8})\n",
    "        #sort by date (to allow proper visualization of lines) and group (for legend ordering) \n",
    "        .sort(time_var, group_var)\n",
    "    ).collect()\n",
    "    #plot\n",
    "    fig = px.line(\n",
    "        data_frame=df,\n",
    "        x=time_var, y='null_percent',\n",
    "        color=group_var,\n",
    "        title= 'Count of nulls over time by source frame.' if not title else title\n",
    "    )\n",
    "    fig.show()\n",
    "    del df\n",
    "\n",
    "#fill nulls over groups given a single unique value per group\n",
    "def fill_nulls_by_group(data_lf, group_vars, val_var):\n",
    "    '''Fills null values by group if and only if the val_var for that group contains exactly one non-null unique value.\n",
    "    INPUTS:\n",
    "        data_lf - polars lazyframe containing the relevant data\n",
    "        group_vars - iterable - the names of the columns by which groups will be created\n",
    "        val_var - string - the name of the column in which nulls will be filled\n",
    "    OUTPUT:\n",
    "        filled_lf - the resultant lazyframe \n",
    "    DEPENDS ON:\n",
    "        polars - current version written in polars 0.20.1\n",
    "    '''\n",
    "    filled_lf = (\n",
    "        data_lf.with_columns(\n",
    "            #if the group contains exactly one unique value: \n",
    "            pl.when(pl.col(val_var).drop_nulls().unique(maintain_order=True).len().over(group_vars)==1)\n",
    "            #then fill the group with that value\n",
    "            .then(pl.col(val_var).fill_null(pl.col(val_var).drop_nulls().unique(maintain_order=True).first().over(group_vars)))\n",
    "            #otherwise do nothing\n",
    "            .otherwise(pl.col(val_var))\n",
    "            )\n",
    "        )\n",
    "    return filled_lf\n",
    "\n",
    "#assign primary carrier\n",
    "def add_primary_carrier(lf):\n",
    "    '''ad hoc function to find primary carrier for each vessel and indicate cargo sharing'''\n",
    "    lf = (\n",
    "        #sum teus over vessel, month, and carrier\n",
    "        lf.with_columns(\n",
    "            pl.col('teus').sum()\n",
    "            .over('vessel_id', 'month', 'unified_carrier_scac')\n",
    "            .alias('sum_teus')\n",
    "            )\n",
    "        #select carrier that moved the most cargo on that vessel during that month\n",
    "        .with_columns(\n",
    "            pl.col('unified_carrier_scac')\n",
    "            .sort_by('sum_teus', descending=True)\n",
    "            .drop_nulls().first()\n",
    "            .over('vessel_id', 'month')\n",
    "            .alias('vessel_owner')\n",
    "            )\n",
    "        #add bool col if bol is from primary carrier\n",
    "        .with_columns(\n",
    "            (pl.col('unified_carrier_scac')==pl.col('vessel_owner'))\n",
    "            .alias('primary_cargo')\n",
    "            )\n",
    "        #set related columns to missing when vessel_id is missing\n",
    "        .with_columns(\n",
    "            pl.when(pl.col('vessel_id').is_null()).then(pl.lit(None)).otherwise(pl.col('vessel_owner')).alias('vessel_owner'),\n",
    "            pl.when(pl.col('vessel_id').is_null()).then(pl.lit(None)).otherwise(pl.col('primary_cargo')).alias('primary_cargo')\n",
    "        )\n",
    "        #drop ad hoc sum_teus col\n",
    "        .drop('sum_teus')\n",
    "    )\n",
    "    return lf\n",
    "\n",
    "#plot proportion of shared cargo over time\n",
    "def sharing_over_time_plotly(data_lf, group_var, include_missing_vessels=True, limit=10, title=False):\n",
    "    '''\n",
    "    Plots proportion of shared cargo over time (months) by group_var.\n",
    "    INPUTS:\n",
    "        data_lf - polars lazyframe containing the relevant data\n",
    "        group_var - str - the name of the column by which to group\n",
    "        include_missing_vessels - bool - default=True, when False, drops missing vessel_ids\n",
    "        title (default=False) - str - the title of the graph\n",
    "    OUTPUT:\n",
    "        a plotly express figure\n",
    "    DEPENDS ON:\n",
    "        polars\n",
    "        plotly express \n",
    "    '''\n",
    "    if not include_missing_vessels:\n",
    "        df = data_lf.drop_nulls('vessel_id')\n",
    "    else:\n",
    "        df = data_lf\n",
    "    \n",
    "    df = (\n",
    "        #select relevant columns\n",
    "        df.select([group_var, 'month', 'primary_cargo', 'teus'])\n",
    "        #sum teus over each group-month-shared \n",
    "        .group_by(group_var, 'month')\n",
    "        .agg(\n",
    "            (pl.col('teus')*pl.col('primary_cargo')).sum().alias('total_primary'),\n",
    "            pl.col('teus').sum().alias('total_teus')\n",
    "        )\n",
    "        #create proportion shared\n",
    "        .with_columns((1-(pl.col('total_primary')/pl.col('total_teus'))).alias('prop_shared'))\n",
    "        #cast group col to string to allow sensible ordering of legend\n",
    "        .cast({group_var:pl.Utf8})\n",
    "        #sort by date (to allow proper visualization of lines) and group (for legend ordering) \n",
    "        .sort('month')\n",
    "    ).collect()\n",
    "\n",
    "    #limit categories\n",
    "    top_groups = (\n",
    "        data_lf.group_by(group_var)\n",
    "        .agg(pl.col('teus').sum())\n",
    "        .sort('teus', descending=True)\n",
    "        .select(group_var)\n",
    "        .limit(limit)\n",
    "        .collect()\n",
    "        .to_series()\n",
    "        .cast(pl.Utf8)\n",
    "    )\n",
    "    \n",
    "    #plot\n",
    "    fig = px.line(\n",
    "        data_frame=df.filter(pl.col(group_var).is_in(top_groups)).with_columns(pl.col('month').str.to_datetime('%Y%m')),\n",
    "        x='month', y='prop_shared',\n",
    "        color=group_var,\n",
    "        title= 'Proportion of shared cargo over time.' if not title else title,\n",
    "        labels={\n",
    "            'prop_shared':'Proportion of cargo from non-primary carrier',\n",
    "            'month':'Month'\n",
    "        }\n",
    "    )\n",
    "    fig.show()\n",
    "\n",
    "def cluster_dates(lf, direction, samples=None):\n",
    "    '''\n",
    "    Finds arrival/departure date using the following algorithm:\n",
    "        1. Create 1-D dataframe of dates for each vessel-lane pair, \n",
    "            with one date occurance per TEU processed on that date\n",
    "        2. Find clusers of dates using SciKitLearn's HDBSCAN\n",
    "        3. Assign mode date of each cluster as the arrival/departure date\n",
    "        4. Assign any bols with dates occuring between the modes as arriving/departing\n",
    "            on the date of the preceeding mode.\n",
    "        5. Join imputed arrival/departure dates into main lazyframe. \n",
    "    INPUTS\n",
    "        lf - a polars LazyFrame containing the relevant data\n",
    "        direction - 'imports' or 'exports' - indicating the source data\n",
    "        samples - int - number of random samples \n",
    "    OUTPUTS\n",
    "        lf - the original lazyframe with imputed dates \n",
    "    '''\n",
    "    #create vessel_port_pair columns in main lf\n",
    "    lf = (\n",
    "        lf.with_columns(\n",
    "            (pl.col('vessel_id').cast(pl.Utf8)+'_'+pl.col('lane_id').cast(pl.Utf8))\n",
    "            .cast(pl.Categorical)\n",
    "            .alias('vessel_lane_pair')\n",
    "        )\n",
    "    )\n",
    "    #collect relevant columns from lf\n",
    "    begin_collect = time.time()\n",
    "    df = (\n",
    "        lf.group_by('date', 'vessel_lane_pair')\n",
    "        #get sum of TEUs on each date \n",
    "        .agg(pl.col('teus').sum().alias('sum_teus'))\n",
    "        #drop missing vessel-port pairs\n",
    "        .drop_nulls(subset='vessel_lane_pair')\n",
    "        #sort by date\n",
    "        .sort('date')\n",
    "        .collect()\n",
    "    )\n",
    "    print('clustering data collected; time = {:.2f} minutes'.format((time.time() - begin_collect)/60))\n",
    "    #initialize variables\n",
    "    samples=samples \n",
    "    if samples:\n",
    "        pairs = df.select('vessel_lane_pair').unique().sample(samples).to_series()\n",
    "    else:\n",
    "        pairs = df.select('vessel_lane_pair').unique().to_series()\n",
    "    pairs_df = pl.DataFrame()\n",
    "    #loop through vessel-port pairs\n",
    "    print('Looping through vessel-lane pairs')\n",
    "    for i in range(len(pairs)):\n",
    "        if i%1000 == 0:\n",
    "            begin_block = time.time()\n",
    "        pair = pairs[i]\n",
    "        #make single-column dataframe of dates where each date corresponds to a single TEU that arrived on that day \n",
    "        pair_1d = (\n",
    "            df.filter(pl.col('vessel_lane_pair')==pair)\n",
    "            .select('date', pl.col('sum_teus').ceil())\n",
    "            #explode dates by each teu \n",
    "            .select(pl.exclude('sum_teus').repeat_by('sum_teus').explode())\n",
    "        )\n",
    "        #find minimum number of occurances of a single date (needed for HDBSCAN param)\n",
    "        min_sample = pair_1d.group_by('date').agg(pl.col('date').count().alias('count')).min().row(0)[1]\n",
    "        #skip empty pairs\n",
    "        if min_sample == 0:\n",
    "            continue\n",
    "        #skip vessel_port pairs with less than 2 dates\n",
    "        if len(pair_1d) < 2:\n",
    "            continue\n",
    "        #instantiate clusterer\n",
    "        clusterer = HDBSCAN(min_cluster_size=50, min_samples=min_sample) #we need to find a dynamic way of seleting these parameters\n",
    "        #get clusters\n",
    "        clusterer.fit(pair_1d)\n",
    "        #add back to pair_1d\n",
    "        pair_df = (\n",
    "            pair_1d\n",
    "            #add cluster column\n",
    "            .with_columns(\n",
    "                pl.Series(name='cluster', values=clusterer.labels_)\n",
    "            )\n",
    "            #add imputed date column\n",
    "            .with_columns(\n",
    "                    #when date matches the mode of each cluster\n",
    "                    pl.when(pl.col('date') == pl.col('date').mode().first().over('cluster'))\n",
    "                    #fill with that date, otherwise fill with null\n",
    "                    .then(pl.col('date'))\n",
    "                    .otherwise(pl.lit(None))\n",
    "                    #forward fill the arrival date to the mode of next cluster\n",
    "                    .forward_fill()\n",
    "                    #backward fill the first part of first cluster\n",
    "                    .backward_fill()\n",
    "                    #name column\n",
    "                    .alias('date_imputed')\n",
    "                )\n",
    "            #groupby date to simplify\n",
    "            .group_by('date')\n",
    "            .agg(pl.col('date_imputed').first())\n",
    "            #add pair label\n",
    "            .with_columns(pl.lit(pair).alias('vessel_lane_pair').cast(pl.Categorical))\n",
    "        )\n",
    "        #init or concat pairs_df\n",
    "        if i == 0:\n",
    "            pairs_df = pair_df   \n",
    "        else:\n",
    "            pairs_df = pl.concat([pairs_df,pair_df], how='vertical')\n",
    "        #print status update\n",
    "        if (i != 0) and ((i+1)%1000 == 0):\n",
    "            print('{:,} pairs clustered. The previous 1000 pairs took {:.2f} minutes.'.format(i+1, (time.time()-begin_block)/60))\n",
    "    #rename imputed dates based on direction\n",
    "    if direction=='import':\n",
    "        pairs_df = pairs_df.rename({'date_imputed': 'date_arrival'})\n",
    "    elif direction=='export':\n",
    "        pairs_df = pairs_df.rename({'date_imputed': 'date_departure'})\n",
    "    else:\n",
    "        raise Exception('direction must equal \"import\" or \"export\"')\n",
    "    #join imputed dates to main lf\n",
    "    pairs_lf = pairs_df.lazy()\n",
    "    lf = (\n",
    "        lf.join(pairs_lf, on=['date', 'vessel_lane_pair'], how='left')\n",
    "    )\n",
    "    print('Total time to cluster dates: {:.2f} hours'.format((time.time()-begin_collect)/3600))\n",
    "    return lf"
   ]
  },
  {
   "cell_type": "markdown",
   "metadata": {},
   "source": [
    "### Carrier names and Standard Carrier Alpha Codes (SCAC)\n",
    "\n",
    "Carrier names are often long strings of inconsistent nature (e.g. \"Maersk\", \"MAERSK LINE\", \"A.P. Moller Maersk\", etc.), and SCAC codes can change over time for the same carrier. To address these issues, we simply carrier names to the most commonly used name string for a given SCAC, and we simplify SCAC codes to the most recent SCAC used for a given carrier name. \n",
    "\n",
    "As carrier alliances apply only to containerized freight, we also drop instances of bulk cargo, which are coded in this data as SCAC = \"BULK\""
   ]
  },
  {
   "cell_type": "code",
   "execution_count": 4,
   "metadata": {},
   "outputs": [],
   "source": [
    "#clean carrier names and scac codes\n",
    "\n",
    "imports_lf = (\n",
    "    imports_lf\n",
    "    #drop bulk carriers\n",
    "    .filter(pl.col('carrier_scac')!='BULK')\n",
    "    #sort by date\n",
    "    .sort('date', descending=True)\n",
    "    #get most commonly used carrier name and scac \n",
    "    .with_columns(\n",
    "        pl.col('carrier_name').drop_nulls().mode().first().over('carrier_scac')\n",
    "        .alias('unified_carrier_name')\n",
    "    )\n",
    "    .with_columns(\n",
    "        pl.col('carrier_scac').drop_nulls().first().over('unified_carrier_name')\n",
    "        .alias('unified_carrier_scac')\n",
    "    )\n",
    ")\n",
    "\n",
    "exports_lf = (\n",
    "    exports_lf\n",
    "    #drop bulk carriers\n",
    "    .filter(pl.col('carrier_scac')!='BULK')\n",
    "    #sort by date\n",
    "    .sort('date', descending=True)\n",
    "    #get most commonly used carrier name and scac \n",
    "    .with_columns(\n",
    "        pl.col('carrier_name').drop_nulls().mode().first().over('carrier_scac')\n",
    "        .alias('unified_carrier_name')\n",
    "    )\n",
    "    .with_columns(\n",
    "        pl.col('carrier_scac').drop_nulls().first().over('unified_carrier_name')\n",
    "        .alias('unified_carrier_scac')\n",
    "    )\n",
    ")"
   ]
  },
  {
   "cell_type": "markdown",
   "metadata": {},
   "source": [
    "### Tanker Transfer Ports\n",
    "\n",
    "Some BOLs in the imports data list offshore tanker transfer ports as their origin. Since these are not relevant to containerized carrier alliances, we drop them from the database. "
   ]
  },
  {
   "cell_type": "code",
   "execution_count": 5,
   "metadata": {},
   "outputs": [],
   "source": [
    "imports_lf = imports_lf.filter(pl.col('departure_port_code').cast(pl.Utf8).str.starts_with('999') == False)\n",
    "exports_lf = exports_lf.filter(pl.col('arrival_port_code').cast(pl.Utf8).str.starts_with('999') == False)"
   ]
  },
  {
   "cell_type": "markdown",
   "metadata": {},
   "source": [
    "### Missing Data\n",
    "\n",
    "The PIERS BOL data contains many missing values. Some of these, e.g. TEUs, are missing systematically related to date. The issues of missing volume data is a open question to S&P, although it has been many weeks with no response from them. In the meantime, we fill missing volume data with the mean from the rest of the dataset. (Note: if no help is to come from S&P, a nearest neighbor imputation may yield better results.)"
   ]
  },
  {
   "cell_type": "code",
   "execution_count": 6,
   "metadata": {},
   "outputs": [
    {
     "data": {
      "application/vnd.plotly.v1+json": {
       "config": {
        "plotlyServerURL": "https://plot.ly"
       },
       "data": [
        {
         "hovertemplate": "direction=export<br>month=%{x}<br>null_percent=%{y}<extra></extra>",
         "legendgroup": "export",
         "line": {
          "color": "#636efa",
          "dash": "solid"
         },
         "marker": {
          "symbol": "circle"
         },
         "mode": "lines",
         "name": "export",
         "orientation": "v",
         "showlegend": true,
         "type": "scatter",
         "x": [
          "200501",
          "200502",
          "200503",
          "200504",
          "200505",
          "200506",
          "200507",
          "200508",
          "200509",
          "200510",
          "200511",
          "200512",
          "200601",
          "200602",
          "200603",
          "200604",
          "200605",
          "200606",
          "200607",
          "200608",
          "200609",
          "200610",
          "200611",
          "200612",
          "200701",
          "200702",
          "200703",
          "200704",
          "200705",
          "200706",
          "200707",
          "200708",
          "200709",
          "200710",
          "200711",
          "200712",
          "200801",
          "200802",
          "200803",
          "200804",
          "200805",
          "200806",
          "200807",
          "200808",
          "200809",
          "200810",
          "200811",
          "200812",
          "200901",
          "200902",
          "200903",
          "200904",
          "200905",
          "200906",
          "200907",
          "200908",
          "200909",
          "200910",
          "200911",
          "200912",
          "201001",
          "201002",
          "201003",
          "201004",
          "201005",
          "201006",
          "201007",
          "201008",
          "201009",
          "201010",
          "201011",
          "201012",
          "201101",
          "201102",
          "201103",
          "201104",
          "201105",
          "201106",
          "201107",
          "201108",
          "201109",
          "201110",
          "201111",
          "201112",
          "201201",
          "201202",
          "201203",
          "201204",
          "201205",
          "201206",
          "201207",
          "201208",
          "201209",
          "201210",
          "201211",
          "201212",
          "201301",
          "201302",
          "201303",
          "201304",
          "201305",
          "201306",
          "201307",
          "201308",
          "201309",
          "201310",
          "201311",
          "201312",
          "201401",
          "201402",
          "201403",
          "201404",
          "201405",
          "201406",
          "201407",
          "201408",
          "201409",
          "201410",
          "201411",
          "201412",
          "201501",
          "201502",
          "201503",
          "201504",
          "201505",
          "201506",
          "201507",
          "201508",
          "201509",
          "201510",
          "201511",
          "201512",
          "201601",
          "201602",
          "201603",
          "201604",
          "201605",
          "201606",
          "201607",
          "201608",
          "201609",
          "201610",
          "201611",
          "201612",
          "201701",
          "201702",
          "201703",
          "201704",
          "201705",
          "201706",
          "201707",
          "201708",
          "201709",
          "201710",
          "201711",
          "201712",
          "201801",
          "201802",
          "201803",
          "201804",
          "201805",
          "201806",
          "201807",
          "201808",
          "201809",
          "201810",
          "201811",
          "201812",
          "201901",
          "201902",
          "201903",
          "201904",
          "201905",
          "201906",
          "201907",
          "201908",
          "201909",
          "201910",
          "201911",
          "201912",
          "202001",
          "202002",
          "202003",
          "202004",
          "202005",
          "202006",
          "202007",
          "202008",
          "202009",
          "202010",
          "202011",
          "202012",
          "202101",
          "202102",
          "202103",
          "202104",
          "202105",
          "202106",
          "202107",
          "202108",
          "202109",
          "202110",
          "202111",
          "202112",
          "202201",
          "202202",
          "202203",
          "202204",
          "202205",
          "202206",
          "202207",
          "202208",
          "202209",
          "202210",
          "202211",
          "202212",
          "202301",
          "202302",
          "202303",
          "202304",
          "202305",
          "202306",
          "202307",
          "202308",
          "202309",
          "202310",
          "202311"
         ],
         "xaxis": "x",
         "y": [
          1,
          1,
          1,
          1,
          1,
          1,
          1,
          1,
          1,
          1,
          1,
          1,
          1,
          1,
          1,
          1,
          1,
          1,
          1,
          1,
          1,
          1,
          1,
          1,
          1,
          1,
          1,
          1,
          1,
          1,
          1,
          1,
          1,
          1,
          1,
          1,
          1,
          1,
          1,
          1,
          1,
          1,
          1,
          1,
          1,
          1,
          1,
          1,
          1,
          1,
          1,
          1,
          1,
          1,
          1,
          1,
          1,
          1,
          1,
          1,
          1,
          1,
          1,
          1,
          1,
          1,
          1,
          1,
          1,
          1,
          1,
          1,
          1,
          1,
          1,
          1,
          1,
          1,
          1,
          1,
          1,
          1,
          1,
          1,
          1,
          1,
          1,
          1,
          1,
          1,
          1,
          1,
          0.9943917598613395,
          1,
          1,
          1,
          0.9910269720533085,
          0.9997028384055744,
          0.9989083173157669,
          0.9998202327985259,
          0.9970814921385264,
          0.8310276459711733,
          0.7561278278058423,
          0.7465806348027656,
          0.7385086390457324,
          0.7518241892757753,
          0.7392028316697907,
          0.7217264422263576,
          0.6911799710038301,
          0.6964216279870685,
          0.7054440767450313,
          0.7160006625936645,
          0.7100880697375863,
          0.6678282397486841,
          0.6632987298360185,
          0.6727455976875975,
          0.6646991328140515,
          0.6529575553138193,
          0.5526075022872827,
          0.05600122329914369,
          0.033894836272040305,
          0.029104631927212573,
          0.03313988835461228,
          0.028116573208019767,
          0.036464857341684066,
          0.028351463243929346,
          0.028263069882063018,
          0.029808080477453,
          0.02954166025314657,
          0.02865547117338753,
          0.027502787829134522,
          0.037318097714657196,
          0.026105598912375648,
          0.026191008459719264,
          0.02673658872077029,
          0.023861766319253977,
          0.02663207671088927,
          0.027989312743494074,
          0.029731934098200206,
          0.02834722576778361,
          0.02481906246520432,
          0.026157847354206263,
          0.025183276586607774,
          0.022789918190037266,
          0.026998653772524608,
          0.023895007788248032,
          0.04416200121414186,
          0.024784692278659086,
          0.024728106527546964,
          0.030430753932381125,
          0.03814697700958132,
          0.0255602507142314,
          0.023285615331332256,
          0.023124251558822313,
          0.020954216472228487,
          0.023607504861646766,
          0.026376753204240426,
          0.024589119633074277,
          0.022027406751607068,
          0.028456879429145925,
          0.050017732973658476,
          0.027142585317260447,
          0.030084466542862277,
          0.02724143767985104,
          0.027338822504071006,
          0.04233616270450298,
          0.03712125109316323,
          0.03718645405143999,
          0.03615596864797124,
          0.048573900088905976,
          0.02350425234894013,
          0.018444691946581174,
          0.01994603640834728,
          0.037330698414228564,
          0.04645733072854624,
          0.02539087363584812,
          0.027227496804820155,
          0.019386301369863013,
          0.015061103159748982,
          0.029715762273901807,
          0.02320564696271524,
          0.01924512456844266,
          0.02609809165495671,
          0.01756648256733413,
          0.018384151312571335,
          0.01823180239078699,
          0.019332067702344982,
          0.01948009895475799,
          0.017205269951050824,
          0.018984969225002115,
          0.016112835493883513,
          0.02076729253027717,
          0.01672667069613434,
          0.020764000365425524,
          0.02628767971971202,
          0.02826115244933931,
          0.028261706530631887,
          0.03607610575735112,
          0.03905320291411488,
          0.02795753898314206,
          0.024098819142324424,
          0.02389603727610824,
          0.024054238127670113,
          0.028104934874334984,
          0.02598954953724258,
          0.026828803191879483,
          0.02317762867359004,
          0.026475200639586728,
          0.02122030022204199,
          0.02340154563084315,
          0.02182781195512715,
          0.019361387690516353,
          0.025676259881422924,
          0.019321654863958256,
          0.019158695935288756,
          0.01843886499283118,
          0.022974769831518353,
          0.018259009799853163,
          0.017275694610301727,
          0.01823335631655558,
          0.02149718837863168,
          0.022458798606872284,
          0.02018866989376993,
          0.02032036007413291,
          0.017130105317236063,
          0.0207180058305218,
          0.01179245283018868
         ],
         "yaxis": "y"
        },
        {
         "hovertemplate": "direction=import<br>month=%{x}<br>null_percent=%{y}<extra></extra>",
         "legendgroup": "import",
         "line": {
          "color": "#EF553B",
          "dash": "solid"
         },
         "marker": {
          "symbol": "circle"
         },
         "mode": "lines",
         "name": "import",
         "orientation": "v",
         "showlegend": true,
         "type": "scatter",
         "x": [
          "200501",
          "200502",
          "200503",
          "200504",
          "200505",
          "200506",
          "200507",
          "200508",
          "200509",
          "200510",
          "200511",
          "200512",
          "200601",
          "200602",
          "200603",
          "200604",
          "200605",
          "200606",
          "200607",
          "200608",
          "200609",
          "200610",
          "200611",
          "200612",
          "200701",
          "200702",
          "200703",
          "200704",
          "200705",
          "200706",
          "200707",
          "200708",
          "200709",
          "200710",
          "200711",
          "200712",
          "200801",
          "200802",
          "200803",
          "200804",
          "200805",
          "200806",
          "200807",
          "200808",
          "200809",
          "200810",
          "200811",
          "200812",
          "200901",
          "200902",
          "200903",
          "200904",
          "200905",
          "200906",
          "200907",
          "200908",
          "200909",
          "200910",
          "200911",
          "200912",
          "201001",
          "201002",
          "201003",
          "201004",
          "201005",
          "201006",
          "201007",
          "201008",
          "201009",
          "201010",
          "201011",
          "201012",
          "201101",
          "201102",
          "201103",
          "201104",
          "201105",
          "201106",
          "201107",
          "201108",
          "201109",
          "201110",
          "201111",
          "201112",
          "201201",
          "201202",
          "201203",
          "201204",
          "201205",
          "201206",
          "201207",
          "201208",
          "201209",
          "201210",
          "201211",
          "201212",
          "201301",
          "201302",
          "201303",
          "201304",
          "201305",
          "201306",
          "201307",
          "201308",
          "201309",
          "201310",
          "201311",
          "201312",
          "201401",
          "201402",
          "201403",
          "201404",
          "201405",
          "201406",
          "201407",
          "201408",
          "201409",
          "201410",
          "201411",
          "201412",
          "201501",
          "201502",
          "201503",
          "201504",
          "201505",
          "201506",
          "201507",
          "201508",
          "201509",
          "201510",
          "201511",
          "201512",
          "201601",
          "201602",
          "201603",
          "201604",
          "201605",
          "201606",
          "201607",
          "201608",
          "201609",
          "201610",
          "201611",
          "201612",
          "201701",
          "201702",
          "201703",
          "201704",
          "201705",
          "201706",
          "201707",
          "201708",
          "201709",
          "201710",
          "201711",
          "201712",
          "201801",
          "201802",
          "201803",
          "201804",
          "201805",
          "201806",
          "201807",
          "201808",
          "201809",
          "201810",
          "201811",
          "201812",
          "201901",
          "201902",
          "201903",
          "201904",
          "201905",
          "201906",
          "201907",
          "201908",
          "201909",
          "201910",
          "201911",
          "201912",
          "202001",
          "202002",
          "202003",
          "202004",
          "202005",
          "202006",
          "202007",
          "202008",
          "202009",
          "202010",
          "202011",
          "202012",
          "202101",
          "202102",
          "202103",
          "202104",
          "202105",
          "202106",
          "202107",
          "202108",
          "202109",
          "202110",
          "202111",
          "202112",
          "202201",
          "202202",
          "202203",
          "202204",
          "202205",
          "202206",
          "202207",
          "202208",
          "202209",
          "202210",
          "202211",
          "202212",
          "202301",
          "202302",
          "202303",
          "202304",
          "202305",
          "202306",
          "202307",
          "202308",
          "202309",
          "202310",
          "202311"
         ],
         "xaxis": "x",
         "y": [
          0.9999782348460116,
          1,
          1,
          1,
          1,
          1,
          1,
          1,
          1,
          1,
          1,
          1,
          1,
          1,
          1,
          1,
          1,
          1,
          1,
          1,
          1,
          1,
          1,
          1,
          1,
          1,
          1,
          1,
          1,
          1,
          1,
          1,
          1,
          1,
          1,
          1,
          1,
          1,
          1,
          1,
          1,
          1,
          1,
          1,
          1,
          1,
          1,
          1,
          1,
          1,
          1,
          1,
          1,
          1,
          1,
          1,
          1,
          1,
          1,
          1,
          1,
          1,
          1,
          0.9979612481921601,
          1,
          1,
          1,
          1,
          1,
          1,
          1,
          1,
          1,
          1,
          1,
          1,
          1,
          1,
          1,
          1,
          1,
          1,
          1,
          1,
          1,
          1,
          1,
          1,
          1,
          1,
          1,
          1,
          1,
          1,
          1,
          1,
          1,
          0.9999622462168488,
          0.9999908694143642,
          0.9999716450660233,
          0.9990689300533703,
          0.9975185885095635,
          0.8444279839388641,
          0.8120155079395367,
          0.8119330544289017,
          0.7911167931375783,
          0.8151553280413805,
          0.8180032834031787,
          0.786328238501596,
          0.7889572808602243,
          0.7814331056248514,
          0.8009846132734103,
          0.8146026859750479,
          0.8252805349671952,
          0.8164719745768555,
          0.820760395297254,
          0.8040308318595882,
          0.7942694179522417,
          0.8062221421818018,
          0.5389173618110208,
          0.023363997491114362,
          0.023684819090357943,
          0.01996369000340406,
          0.021434910753565916,
          0.023233793089043147,
          0.008697952465361937,
          0.011059790099302797,
          0.008439852772364998,
          0.00786950646676533,
          0.008192918993889868,
          0.010149021856230667,
          0.013892153927243123,
          0.00967473584064492,
          0.0073578117181729375,
          0.010816539690341607,
          0.007650553803271474,
          0.008057118497671024,
          0.0085401090561583,
          0.011291058643195124,
          0.010008131350050513,
          0.008292827557703884,
          0.010390979974196444,
          0.008966777086057125,
          0.011535962117872675,
          0.008597916450288779,
          0.011597426985584351,
          0.0113511837072263,
          0.011955043959031995,
          0.009265137024631859,
          0.010185800952755798,
          0.009526598422907656,
          0.008954017610276916,
          0.006781227145928855,
          0.008161783907476176,
          0.01117313587617996,
          0.028974039909468806,
          0.011435256269649778,
          0.009722994422225012,
          0.014493212604546044,
          0.047351055850317285,
          0.04521478056401597,
          0.027233243092836132,
          0.00621654188807459,
          0.007243457522237979,
          0.009333170086487376,
          0.005342998406835444,
          0.0062019376292511315,
          0.00951773286746929,
          0.006412225464598372,
          0.007298931637488836,
          0.011333534892364704,
          0.0073074696536705045,
          0.007367359689222376,
          0.006597663308940616,
          0.005766766339171294,
          0.0069672295451044764,
          0.007847813427248274,
          0.005394052744769105,
          0.006393315467039475,
          0.006074916869558627,
          0.006052775047112912,
          0.020879903706797022,
          0.010214132762312634,
          0.33007200420858307,
          0.332015453686702,
          0.09716651244748994,
          0.029318573777724302,
          0.15492371463570026,
          0.1353263936049085,
          0.06819893680200473,
          0.11671616109331746,
          0.18222615059158426,
          0.16309483933281083,
          0.13817693182772547,
          0.04211495351403012,
          0.04039263785243774,
          0.06628229567632714,
          0.0668660193886599,
          0.08481195025781013,
          0.028516247089213666,
          0.03990532911711642,
          0.1383837200156032,
          0.14076920238867016,
          0.26538373187071845,
          0.22382980817524037,
          0.16042881131483025,
          0.1592026538244949,
          0.14180409560164728,
          0.1411027024322985,
          0.1280566552866363,
          0.11611434228437074,
          0.07008403600830741,
          0.14960299608405891,
          0.10531239962317597,
          0.18392926210838453,
          0.17350186296832953,
          0.27452830695457386,
          0.10951211614226349,
          0.17959768786127167,
          0.18185247497114232,
          0.09163318417024409,
          0.08485756302684906,
          0.10777183155427023,
          0.08190255840501526,
          0.05508757151381138,
          0.13211320071869992,
          0.060430552627162765
         ],
         "yaxis": "y"
        }
       ],
       "layout": {
        "legend": {
         "title": {
          "text": "direction"
         },
         "tracegroupgap": 0
        },
        "template": {
         "data": {
          "bar": [
           {
            "error_x": {
             "color": "#2a3f5f"
            },
            "error_y": {
             "color": "#2a3f5f"
            },
            "marker": {
             "line": {
              "color": "#E5ECF6",
              "width": 0.5
             },
             "pattern": {
              "fillmode": "overlay",
              "size": 10,
              "solidity": 0.2
             }
            },
            "type": "bar"
           }
          ],
          "barpolar": [
           {
            "marker": {
             "line": {
              "color": "#E5ECF6",
              "width": 0.5
             },
             "pattern": {
              "fillmode": "overlay",
              "size": 10,
              "solidity": 0.2
             }
            },
            "type": "barpolar"
           }
          ],
          "carpet": [
           {
            "aaxis": {
             "endlinecolor": "#2a3f5f",
             "gridcolor": "white",
             "linecolor": "white",
             "minorgridcolor": "white",
             "startlinecolor": "#2a3f5f"
            },
            "baxis": {
             "endlinecolor": "#2a3f5f",
             "gridcolor": "white",
             "linecolor": "white",
             "minorgridcolor": "white",
             "startlinecolor": "#2a3f5f"
            },
            "type": "carpet"
           }
          ],
          "choropleth": [
           {
            "colorbar": {
             "outlinewidth": 0,
             "ticks": ""
            },
            "type": "choropleth"
           }
          ],
          "contour": [
           {
            "colorbar": {
             "outlinewidth": 0,
             "ticks": ""
            },
            "colorscale": [
             [
              0,
              "#0d0887"
             ],
             [
              0.1111111111111111,
              "#46039f"
             ],
             [
              0.2222222222222222,
              "#7201a8"
             ],
             [
              0.3333333333333333,
              "#9c179e"
             ],
             [
              0.4444444444444444,
              "#bd3786"
             ],
             [
              0.5555555555555556,
              "#d8576b"
             ],
             [
              0.6666666666666666,
              "#ed7953"
             ],
             [
              0.7777777777777778,
              "#fb9f3a"
             ],
             [
              0.8888888888888888,
              "#fdca26"
             ],
             [
              1,
              "#f0f921"
             ]
            ],
            "type": "contour"
           }
          ],
          "contourcarpet": [
           {
            "colorbar": {
             "outlinewidth": 0,
             "ticks": ""
            },
            "type": "contourcarpet"
           }
          ],
          "heatmap": [
           {
            "colorbar": {
             "outlinewidth": 0,
             "ticks": ""
            },
            "colorscale": [
             [
              0,
              "#0d0887"
             ],
             [
              0.1111111111111111,
              "#46039f"
             ],
             [
              0.2222222222222222,
              "#7201a8"
             ],
             [
              0.3333333333333333,
              "#9c179e"
             ],
             [
              0.4444444444444444,
              "#bd3786"
             ],
             [
              0.5555555555555556,
              "#d8576b"
             ],
             [
              0.6666666666666666,
              "#ed7953"
             ],
             [
              0.7777777777777778,
              "#fb9f3a"
             ],
             [
              0.8888888888888888,
              "#fdca26"
             ],
             [
              1,
              "#f0f921"
             ]
            ],
            "type": "heatmap"
           }
          ],
          "heatmapgl": [
           {
            "colorbar": {
             "outlinewidth": 0,
             "ticks": ""
            },
            "colorscale": [
             [
              0,
              "#0d0887"
             ],
             [
              0.1111111111111111,
              "#46039f"
             ],
             [
              0.2222222222222222,
              "#7201a8"
             ],
             [
              0.3333333333333333,
              "#9c179e"
             ],
             [
              0.4444444444444444,
              "#bd3786"
             ],
             [
              0.5555555555555556,
              "#d8576b"
             ],
             [
              0.6666666666666666,
              "#ed7953"
             ],
             [
              0.7777777777777778,
              "#fb9f3a"
             ],
             [
              0.8888888888888888,
              "#fdca26"
             ],
             [
              1,
              "#f0f921"
             ]
            ],
            "type": "heatmapgl"
           }
          ],
          "histogram": [
           {
            "marker": {
             "pattern": {
              "fillmode": "overlay",
              "size": 10,
              "solidity": 0.2
             }
            },
            "type": "histogram"
           }
          ],
          "histogram2d": [
           {
            "colorbar": {
             "outlinewidth": 0,
             "ticks": ""
            },
            "colorscale": [
             [
              0,
              "#0d0887"
             ],
             [
              0.1111111111111111,
              "#46039f"
             ],
             [
              0.2222222222222222,
              "#7201a8"
             ],
             [
              0.3333333333333333,
              "#9c179e"
             ],
             [
              0.4444444444444444,
              "#bd3786"
             ],
             [
              0.5555555555555556,
              "#d8576b"
             ],
             [
              0.6666666666666666,
              "#ed7953"
             ],
             [
              0.7777777777777778,
              "#fb9f3a"
             ],
             [
              0.8888888888888888,
              "#fdca26"
             ],
             [
              1,
              "#f0f921"
             ]
            ],
            "type": "histogram2d"
           }
          ],
          "histogram2dcontour": [
           {
            "colorbar": {
             "outlinewidth": 0,
             "ticks": ""
            },
            "colorscale": [
             [
              0,
              "#0d0887"
             ],
             [
              0.1111111111111111,
              "#46039f"
             ],
             [
              0.2222222222222222,
              "#7201a8"
             ],
             [
              0.3333333333333333,
              "#9c179e"
             ],
             [
              0.4444444444444444,
              "#bd3786"
             ],
             [
              0.5555555555555556,
              "#d8576b"
             ],
             [
              0.6666666666666666,
              "#ed7953"
             ],
             [
              0.7777777777777778,
              "#fb9f3a"
             ],
             [
              0.8888888888888888,
              "#fdca26"
             ],
             [
              1,
              "#f0f921"
             ]
            ],
            "type": "histogram2dcontour"
           }
          ],
          "mesh3d": [
           {
            "colorbar": {
             "outlinewidth": 0,
             "ticks": ""
            },
            "type": "mesh3d"
           }
          ],
          "parcoords": [
           {
            "line": {
             "colorbar": {
              "outlinewidth": 0,
              "ticks": ""
             }
            },
            "type": "parcoords"
           }
          ],
          "pie": [
           {
            "automargin": true,
            "type": "pie"
           }
          ],
          "scatter": [
           {
            "fillpattern": {
             "fillmode": "overlay",
             "size": 10,
             "solidity": 0.2
            },
            "type": "scatter"
           }
          ],
          "scatter3d": [
           {
            "line": {
             "colorbar": {
              "outlinewidth": 0,
              "ticks": ""
             }
            },
            "marker": {
             "colorbar": {
              "outlinewidth": 0,
              "ticks": ""
             }
            },
            "type": "scatter3d"
           }
          ],
          "scattercarpet": [
           {
            "marker": {
             "colorbar": {
              "outlinewidth": 0,
              "ticks": ""
             }
            },
            "type": "scattercarpet"
           }
          ],
          "scattergeo": [
           {
            "marker": {
             "colorbar": {
              "outlinewidth": 0,
              "ticks": ""
             }
            },
            "type": "scattergeo"
           }
          ],
          "scattergl": [
           {
            "marker": {
             "colorbar": {
              "outlinewidth": 0,
              "ticks": ""
             }
            },
            "type": "scattergl"
           }
          ],
          "scattermapbox": [
           {
            "marker": {
             "colorbar": {
              "outlinewidth": 0,
              "ticks": ""
             }
            },
            "type": "scattermapbox"
           }
          ],
          "scatterpolar": [
           {
            "marker": {
             "colorbar": {
              "outlinewidth": 0,
              "ticks": ""
             }
            },
            "type": "scatterpolar"
           }
          ],
          "scatterpolargl": [
           {
            "marker": {
             "colorbar": {
              "outlinewidth": 0,
              "ticks": ""
             }
            },
            "type": "scatterpolargl"
           }
          ],
          "scatterternary": [
           {
            "marker": {
             "colorbar": {
              "outlinewidth": 0,
              "ticks": ""
             }
            },
            "type": "scatterternary"
           }
          ],
          "surface": [
           {
            "colorbar": {
             "outlinewidth": 0,
             "ticks": ""
            },
            "colorscale": [
             [
              0,
              "#0d0887"
             ],
             [
              0.1111111111111111,
              "#46039f"
             ],
             [
              0.2222222222222222,
              "#7201a8"
             ],
             [
              0.3333333333333333,
              "#9c179e"
             ],
             [
              0.4444444444444444,
              "#bd3786"
             ],
             [
              0.5555555555555556,
              "#d8576b"
             ],
             [
              0.6666666666666666,
              "#ed7953"
             ],
             [
              0.7777777777777778,
              "#fb9f3a"
             ],
             [
              0.8888888888888888,
              "#fdca26"
             ],
             [
              1,
              "#f0f921"
             ]
            ],
            "type": "surface"
           }
          ],
          "table": [
           {
            "cells": {
             "fill": {
              "color": "#EBF0F8"
             },
             "line": {
              "color": "white"
             }
            },
            "header": {
             "fill": {
              "color": "#C8D4E3"
             },
             "line": {
              "color": "white"
             }
            },
            "type": "table"
           }
          ]
         },
         "layout": {
          "annotationdefaults": {
           "arrowcolor": "#2a3f5f",
           "arrowhead": 0,
           "arrowwidth": 1
          },
          "autotypenumbers": "strict",
          "coloraxis": {
           "colorbar": {
            "outlinewidth": 0,
            "ticks": ""
           }
          },
          "colorscale": {
           "diverging": [
            [
             0,
             "#8e0152"
            ],
            [
             0.1,
             "#c51b7d"
            ],
            [
             0.2,
             "#de77ae"
            ],
            [
             0.3,
             "#f1b6da"
            ],
            [
             0.4,
             "#fde0ef"
            ],
            [
             0.5,
             "#f7f7f7"
            ],
            [
             0.6,
             "#e6f5d0"
            ],
            [
             0.7,
             "#b8e186"
            ],
            [
             0.8,
             "#7fbc41"
            ],
            [
             0.9,
             "#4d9221"
            ],
            [
             1,
             "#276419"
            ]
           ],
           "sequential": [
            [
             0,
             "#0d0887"
            ],
            [
             0.1111111111111111,
             "#46039f"
            ],
            [
             0.2222222222222222,
             "#7201a8"
            ],
            [
             0.3333333333333333,
             "#9c179e"
            ],
            [
             0.4444444444444444,
             "#bd3786"
            ],
            [
             0.5555555555555556,
             "#d8576b"
            ],
            [
             0.6666666666666666,
             "#ed7953"
            ],
            [
             0.7777777777777778,
             "#fb9f3a"
            ],
            [
             0.8888888888888888,
             "#fdca26"
            ],
            [
             1,
             "#f0f921"
            ]
           ],
           "sequentialminus": [
            [
             0,
             "#0d0887"
            ],
            [
             0.1111111111111111,
             "#46039f"
            ],
            [
             0.2222222222222222,
             "#7201a8"
            ],
            [
             0.3333333333333333,
             "#9c179e"
            ],
            [
             0.4444444444444444,
             "#bd3786"
            ],
            [
             0.5555555555555556,
             "#d8576b"
            ],
            [
             0.6666666666666666,
             "#ed7953"
            ],
            [
             0.7777777777777778,
             "#fb9f3a"
            ],
            [
             0.8888888888888888,
             "#fdca26"
            ],
            [
             1,
             "#f0f921"
            ]
           ]
          },
          "colorway": [
           "#636efa",
           "#EF553B",
           "#00cc96",
           "#ab63fa",
           "#FFA15A",
           "#19d3f3",
           "#FF6692",
           "#B6E880",
           "#FF97FF",
           "#FECB52"
          ],
          "font": {
           "color": "#2a3f5f"
          },
          "geo": {
           "bgcolor": "white",
           "lakecolor": "white",
           "landcolor": "#E5ECF6",
           "showlakes": true,
           "showland": true,
           "subunitcolor": "white"
          },
          "hoverlabel": {
           "align": "left"
          },
          "hovermode": "closest",
          "mapbox": {
           "style": "light"
          },
          "paper_bgcolor": "white",
          "plot_bgcolor": "#E5ECF6",
          "polar": {
           "angularaxis": {
            "gridcolor": "white",
            "linecolor": "white",
            "ticks": ""
           },
           "bgcolor": "#E5ECF6",
           "radialaxis": {
            "gridcolor": "white",
            "linecolor": "white",
            "ticks": ""
           }
          },
          "scene": {
           "xaxis": {
            "backgroundcolor": "#E5ECF6",
            "gridcolor": "white",
            "gridwidth": 2,
            "linecolor": "white",
            "showbackground": true,
            "ticks": "",
            "zerolinecolor": "white"
           },
           "yaxis": {
            "backgroundcolor": "#E5ECF6",
            "gridcolor": "white",
            "gridwidth": 2,
            "linecolor": "white",
            "showbackground": true,
            "ticks": "",
            "zerolinecolor": "white"
           },
           "zaxis": {
            "backgroundcolor": "#E5ECF6",
            "gridcolor": "white",
            "gridwidth": 2,
            "linecolor": "white",
            "showbackground": true,
            "ticks": "",
            "zerolinecolor": "white"
           }
          },
          "shapedefaults": {
           "line": {
            "color": "#2a3f5f"
           }
          },
          "ternary": {
           "aaxis": {
            "gridcolor": "white",
            "linecolor": "white",
            "ticks": ""
           },
           "baxis": {
            "gridcolor": "white",
            "linecolor": "white",
            "ticks": ""
           },
           "bgcolor": "#E5ECF6",
           "caxis": {
            "gridcolor": "white",
            "linecolor": "white",
            "ticks": ""
           }
          },
          "title": {
           "x": 0.05
          },
          "xaxis": {
           "automargin": true,
           "gridcolor": "white",
           "linecolor": "white",
           "ticks": "",
           "title": {
            "standoff": 15
           },
           "zerolinecolor": "white",
           "zerolinewidth": 2
          },
          "yaxis": {
           "automargin": true,
           "gridcolor": "white",
           "linecolor": "white",
           "ticks": "",
           "title": {
            "standoff": 15
           },
           "zerolinecolor": "white",
           "zerolinewidth": 2
          }
         }
        },
        "title": {
         "text": "Missing volume data over time."
        },
        "xaxis": {
         "anchor": "y",
         "domain": [
          0,
          1
         ],
         "title": {
          "text": "month"
         }
        },
        "yaxis": {
         "anchor": "x",
         "domain": [
          0,
          1
         ],
         "title": {
          "text": "null_percent"
         }
        }
       }
      }
     },
     "metadata": {},
     "output_type": "display_data"
    }
   ],
   "source": [
    "lf = pl.concat(\n",
    "    [imports_lf.select('direction', 'month', 'teus'),\n",
    "    exports_lf.select('direction', 'month', 'teus')]\n",
    ")\n",
    "nulls_over_time_plotly(lf, group_var='direction', time_var='month', value_var='teus', title='Missing volume data over time.')"
   ]
  },
  {
   "cell_type": "code",
   "execution_count": 7,
   "metadata": {},
   "outputs": [],
   "source": [
    "#fill missing volumes with the mean value\n",
    "imports_lf = fill_volume(imports_lf)\n",
    "exports_lf = fill_volume(exports_lf)"
   ]
  },
  {
   "cell_type": "markdown",
   "metadata": {},
   "source": [
    "#### Missing Vessel info\n",
    "\n",
    "A substantial portion of BOLs do not include vessel names or IDs. Note there is perfect correlation between missing vessels names and missing vessel IDs. "
   ]
  },
  {
   "cell_type": "code",
   "execution_count": 8,
   "metadata": {},
   "outputs": [
    {
     "data": {
      "application/vnd.plotly.v1+json": {
       "config": {
        "plotlyServerURL": "https://plot.ly"
       },
       "data": [
        {
         "hovertemplate": "direction=export<br>month=%{x}<br>null_percent=%{y}<extra></extra>",
         "legendgroup": "export",
         "line": {
          "color": "#636efa",
          "dash": "solid"
         },
         "marker": {
          "symbol": "circle"
         },
         "mode": "lines",
         "name": "export",
         "orientation": "v",
         "showlegend": true,
         "type": "scatter",
         "x": [
          "200501",
          "200502",
          "200503",
          "200504",
          "200505",
          "200506",
          "200507",
          "200508",
          "200509",
          "200510",
          "200511",
          "200512",
          "200601",
          "200602",
          "200603",
          "200604",
          "200605",
          "200606",
          "200607",
          "200608",
          "200609",
          "200610",
          "200611",
          "200612",
          "200701",
          "200702",
          "200703",
          "200704",
          "200705",
          "200706",
          "200707",
          "200708",
          "200709",
          "200710",
          "200711",
          "200712",
          "200801",
          "200802",
          "200803",
          "200804",
          "200805",
          "200806",
          "200807",
          "200808",
          "200809",
          "200810",
          "200811",
          "200812",
          "200901",
          "200902",
          "200903",
          "200904",
          "200905",
          "200906",
          "200907",
          "200908",
          "200909",
          "200910",
          "200911",
          "200912",
          "201001",
          "201002",
          "201003",
          "201004",
          "201005",
          "201006",
          "201007",
          "201008",
          "201009",
          "201010",
          "201011",
          "201012",
          "201101",
          "201102",
          "201103",
          "201104",
          "201105",
          "201106",
          "201107",
          "201108",
          "201109",
          "201110",
          "201111",
          "201112",
          "201201",
          "201202",
          "201203",
          "201204",
          "201205",
          "201206",
          "201207",
          "201208",
          "201209",
          "201210",
          "201211",
          "201212",
          "201301",
          "201302",
          "201303",
          "201304",
          "201305",
          "201306",
          "201307",
          "201308",
          "201309",
          "201310",
          "201311",
          "201312",
          "201401",
          "201402",
          "201403",
          "201404",
          "201405",
          "201406",
          "201407",
          "201408",
          "201409",
          "201410",
          "201411",
          "201412",
          "201501",
          "201502",
          "201503",
          "201504",
          "201505",
          "201506",
          "201507",
          "201508",
          "201509",
          "201510",
          "201511",
          "201512",
          "201601",
          "201602",
          "201603",
          "201604",
          "201605",
          "201606",
          "201607",
          "201608",
          "201609",
          "201610",
          "201611",
          "201612",
          "201701",
          "201702",
          "201703",
          "201704",
          "201705",
          "201706",
          "201707",
          "201708",
          "201709",
          "201710",
          "201711",
          "201712",
          "201801",
          "201802",
          "201803",
          "201804",
          "201805",
          "201806",
          "201807",
          "201808",
          "201809",
          "201810",
          "201811",
          "201812",
          "201901",
          "201902",
          "201903",
          "201904",
          "201905",
          "201906",
          "201907",
          "201908",
          "201909",
          "201910",
          "201911",
          "201912",
          "202001",
          "202002",
          "202003",
          "202004",
          "202005",
          "202006",
          "202007",
          "202008",
          "202009",
          "202010",
          "202011",
          "202012",
          "202101",
          "202102",
          "202103",
          "202104",
          "202105",
          "202106",
          "202107",
          "202108",
          "202109",
          "202110",
          "202111",
          "202112",
          "202201",
          "202202",
          "202203",
          "202204",
          "202205",
          "202206",
          "202207",
          "202208",
          "202209",
          "202210",
          "202211",
          "202212",
          "202301",
          "202302",
          "202303",
          "202304",
          "202305",
          "202306",
          "202307",
          "202308",
          "202309",
          "202310",
          "202311"
         ],
         "xaxis": "x",
         "y": [
          0,
          0,
          0,
          0,
          0,
          0,
          0,
          0,
          0,
          0,
          0,
          0,
          0,
          0,
          0,
          0,
          0,
          0,
          0,
          0,
          0,
          0,
          0,
          0,
          0,
          0,
          0,
          0,
          0,
          0,
          0,
          0,
          0,
          0,
          0,
          0,
          0,
          0,
          0,
          0,
          0,
          0,
          0,
          0,
          0,
          0,
          0,
          0,
          0,
          0,
          0,
          0,
          0,
          0,
          0,
          0,
          0.00001479574474381168,
          0,
          0,
          0.05052508913336015,
          0.3678714009993919,
          0.28870932781002384,
          0.21512979148253625,
          0.21118799742326955,
          0.21523086990760767,
          0.20596056338028168,
          0.23532115233718193,
          0.23413127941025672,
          0.24300544084503836,
          0.23101108884965582,
          0.19878198567041966,
          0.19922232387923147,
          0.20197185685099742,
          0.17633518514419777,
          0.19070439178100176,
          0.19306806565471482,
          0.17195967233774417,
          0.2130355111841274,
          0.19731904041137074,
          0.17994294937518399,
          0.20076261953758626,
          0.133041038584918,
          0.1665473393366745,
          0.1310243289713468,
          0.11569554519995011,
          0.12184499865915795,
          0.11419425750592954,
          0.07946801823823445,
          0.1158744449052672,
          0.11749192119253622,
          0.11053768602976476,
          0.09076754167082543,
          0.09410361996445171,
          0.08799545222879994,
          0.09342564338134768,
          0.06532725382628117,
          0.08341631883382418,
          0.10033814940055334,
          0.07587661186481796,
          0.1081412071367579,
          0.11576405302641044,
          0.025986321816035107,
          0.000010981770261366133,
          0.00001003482082827411,
          0.00003178067099590029,
          0.000047816232654661606,
          0.000019030038916429584,
          0.00003172052106242598,
          0.0008547378443295177,
          0.0005999133458500439,
          0.0016929051016699504,
          0.000701569762343243,
          0.002531668297587733,
          0.0007489545842261843,
          0.0012527082113996447,
          0.0009127904765526947,
          0.0012467177122178336,
          0.0011277332561551283,
          0.004246135078705984,
          0.09701703208807753,
          0.06128778337531486,
          0.000581575682382134,
          0.0009285358978610512,
          0.0017939547111055951,
          0.0004924789893474654,
          0.002170844256752749,
          0.003179457841929238,
          0.0013856611349328445,
          0.0020365393040245334,
          0.0005027275644453953,
          0.001251678386927926,
          0.008538780817122569,
          0.033935971345281514,
          0.034403642738642916,
          0.03631146836313617,
          0.032594624245748764,
          0.034874556679364246,
          0.036322547992608374,
          0.06742428361698657,
          0.03696016515533258,
          0.02989644805700924,
          0.029418825647694307,
          0.02988660879523123,
          0.028798870978411873,
          0.05220645448145541,
          0.048397609394505145,
          0.05130231168756083,
          0.06072078048334153,
          0.07011380608788943,
          0.05656752847586331,
          0.05182948574689142,
          0.04844824402272505,
          0.0511082890787347,
          0.052267002518891686,
          0.08121296619031021,
          0.2031027627190457,
          0.22427164908216454,
          0.2778929568329492,
          0.17557450248277454,
          0.1946985115617567,
          0.19394499553988845,
          0.18852064515406916,
          0.16502725693404421,
          0.17366134401625008,
          0.1841356849613541,
          0.14198014219939237,
          0.19235557384639126,
          0.1386792572890286,
          0.16817087515252785,
          0.16176081889612418,
          0.13016445056087442,
          0.2124574533417993,
          0.11979006568985735,
          0.09700197618932858,
          0.1296397770048125,
          0.14221898181902348,
          0.09640314040533139,
          0.10812054794520548,
          0.15481669052075306,
          0.14357380636450404,
          0.13569814788813295,
          0.19451572268358683,
          0.13679116993789947,
          0.12607965742925964,
          0.15366324256753083,
          0.08939464398063299,
          0.08731516885478222,
          0.06110844871579002,
          0.10440055524438059,
          0.07964013204832097,
          0.051442395471973705,
          0.08157901866753367,
          0.0721099519091793,
          0.07646529110058338,
          0.04464953320942554,
          0.0787266511303278,
          0.1060205014678281,
          0.04225352112676056,
          0.05475575421588831,
          0.03270682255438804,
          0.06769732753262896,
          0.024209521366790634,
          0.022351557179122034,
          0.013392038158136122,
          0.04337283562719853,
          0.01251228492218327,
          0.017351168853369802,
          0.031225977060975983,
          0.016234327425509565,
          0.014066977336536514,
          0.02186070993848077,
          0.004433563719416621,
          0.005079668972332016,
          0.00952664927320164,
          0.00833490095069964,
          0.011286719349138075,
          0.008112702607173514,
          0.0030484885242761835,
          0.0015126184221001514,
          0.0022830000766107406,
          0,
          0.000017952676744102546,
          0.00009912603875828116,
          0.0022008207572147206,
          0,
          0,
          0
         ],
         "yaxis": "y"
        },
        {
         "hovertemplate": "direction=import<br>month=%{x}<br>null_percent=%{y}<extra></extra>",
         "legendgroup": "import",
         "line": {
          "color": "#EF553B",
          "dash": "solid"
         },
         "marker": {
          "symbol": "circle"
         },
         "mode": "lines",
         "name": "import",
         "orientation": "v",
         "showlegend": true,
         "type": "scatter",
         "x": [
          "200501",
          "200502",
          "200503",
          "200504",
          "200505",
          "200506",
          "200507",
          "200508",
          "200509",
          "200510",
          "200511",
          "200512",
          "200601",
          "200602",
          "200603",
          "200604",
          "200605",
          "200606",
          "200607",
          "200608",
          "200609",
          "200610",
          "200611",
          "200612",
          "200701",
          "200702",
          "200703",
          "200704",
          "200705",
          "200706",
          "200707",
          "200708",
          "200709",
          "200710",
          "200711",
          "200712",
          "200801",
          "200802",
          "200803",
          "200804",
          "200805",
          "200806",
          "200807",
          "200808",
          "200809",
          "200810",
          "200811",
          "200812",
          "200901",
          "200902",
          "200903",
          "200904",
          "200905",
          "200906",
          "200907",
          "200908",
          "200909",
          "200910",
          "200911",
          "200912",
          "201001",
          "201002",
          "201003",
          "201004",
          "201005",
          "201006",
          "201007",
          "201008",
          "201009",
          "201010",
          "201011",
          "201012",
          "201101",
          "201102",
          "201103",
          "201104",
          "201105",
          "201106",
          "201107",
          "201108",
          "201109",
          "201110",
          "201111",
          "201112",
          "201201",
          "201202",
          "201203",
          "201204",
          "201205",
          "201206",
          "201207",
          "201208",
          "201209",
          "201210",
          "201211",
          "201212",
          "201301",
          "201302",
          "201303",
          "201304",
          "201305",
          "201306",
          "201307",
          "201308",
          "201309",
          "201310",
          "201311",
          "201312",
          "201401",
          "201402",
          "201403",
          "201404",
          "201405",
          "201406",
          "201407",
          "201408",
          "201409",
          "201410",
          "201411",
          "201412",
          "201501",
          "201502",
          "201503",
          "201504",
          "201505",
          "201506",
          "201507",
          "201508",
          "201509",
          "201510",
          "201511",
          "201512",
          "201601",
          "201602",
          "201603",
          "201604",
          "201605",
          "201606",
          "201607",
          "201608",
          "201609",
          "201610",
          "201611",
          "201612",
          "201701",
          "201702",
          "201703",
          "201704",
          "201705",
          "201706",
          "201707",
          "201708",
          "201709",
          "201710",
          "201711",
          "201712",
          "201801",
          "201802",
          "201803",
          "201804",
          "201805",
          "201806",
          "201807",
          "201808",
          "201809",
          "201810",
          "201811",
          "201812",
          "201901",
          "201902",
          "201903",
          "201904",
          "201905",
          "201906",
          "201907",
          "201908",
          "201909",
          "201910",
          "201911",
          "201912",
          "202001",
          "202002",
          "202003",
          "202004",
          "202005",
          "202006",
          "202007",
          "202008",
          "202009",
          "202010",
          "202011",
          "202012",
          "202101",
          "202102",
          "202103",
          "202104",
          "202105",
          "202106",
          "202107",
          "202108",
          "202109",
          "202110",
          "202111",
          "202112",
          "202201",
          "202202",
          "202203",
          "202204",
          "202205",
          "202206",
          "202207",
          "202208",
          "202209",
          "202210",
          "202211",
          "202212",
          "202301",
          "202302",
          "202303",
          "202304",
          "202305",
          "202306",
          "202307",
          "202308",
          "202309",
          "202310",
          "202311"
         ],
         "xaxis": "x",
         "y": [
          0,
          0,
          0,
          0,
          0,
          0,
          0,
          0,
          0,
          0,
          0,
          0,
          0,
          0,
          0,
          0,
          0,
          0,
          0,
          0,
          0,
          0,
          0,
          0,
          0,
          0,
          0,
          0,
          0,
          0,
          0,
          0,
          0,
          0,
          0,
          0,
          0,
          0,
          0,
          0,
          0,
          0,
          0,
          0,
          0,
          0,
          0,
          0,
          0,
          0.000006926454901852134,
          0,
          0,
          0,
          0,
          0.00002292652507244782,
          0.0000395875853332395,
          0.00004348876540227108,
          0.000041998278070599106,
          0.00014726533531790904,
          0.0011723889148240886,
          0.1037043292968141,
          0.2948594101889045,
          0.24713369127048299,
          0.18670619982354966,
          0.13033805816039004,
          0.15705860099635824,
          0.1804374883245669,
          0.16290522526194237,
          0.1906073227542368,
          0.2118956970105017,
          0.15313897065235066,
          0.17822089439190397,
          0.1693734600322395,
          0.1607725586791407,
          0.169570220239417,
          0.16268468364497587,
          0.15726549251029634,
          0.16673978455654795,
          0.14204833530505323,
          0.15171468652206754,
          0.14542493545085192,
          0.15299738288034603,
          0.1208125310555332,
          0.11132549268087472,
          0.08963099915260765,
          0.11513959889893827,
          0.11327715016932503,
          0.08779248581391218,
          0.10014991944452864,
          0.09855926185403888,
          0.07605917823525946,
          0.09280320052358797,
          0.07985128537838945,
          0.08778196880588608,
          0.06865893054078058,
          0.07819036165490906,
          0.08145051365093002,
          0.08944981633894902,
          0.05554439595088962,
          0.10638553113153636,
          0.10573106804648699,
          0.0873417106727186,
          0.01843509163914254,
          0.0005158130240691777,
          0.00010421695843870235,
          0.0001172098838319818,
          0.00009070590123290252,
          0.00017767333218043083,
          0.003950435124870431,
          0.004278404604017697,
          0.003861922214236938,
          0.0029203904146010945,
          0.0049383786596139045,
          0.002975840535993347,
          0.002636752824271498,
          0.0032261087796394837,
          0.0021960192198605226,
          0.0018950392130524184,
          0.0017084943686035132,
          0.004653357064739562,
          0.04633598160150533,
          0.0365538103839447,
          0.0015045954839441734,
          0.00207762748673192,
          0.000545394203968149,
          0.0005064573309698658,
          0.0010353846050411128,
          0.0006760869476410489,
          0.0007120948887887952,
          0.0007989091726955805,
          0.0008022119781576404,
          0.0008685689398757278,
          0.006889514976307238,
          0.007619909933522362,
          0.007550995330548046,
          0.0069952810582165825,
          0.007715639514251726,
          0.01010287256169543,
          0.010808497444172473,
          0.21840477696281754,
          0.006136512699796049,
          0.006473326975935379,
          0.008411293035900979,
          0.005710039945285411,
          0.016096256925973926,
          0.044805845036628565,
          0.014568903132430477,
          0.021025559684582616,
          0.021036058234424462,
          0.017498857688323086,
          0.024463259815746066,
          0.024557326207757958,
          0.023172659633634185,
          0.03486241374578965,
          0.02223128608217787,
          0.10530563295191206,
          0.19936911812323085,
          0.23991606435066448,
          0.15688600342608722,
          0.16608762476243943,
          0.19801118878911736,
          0.14391546125167892,
          0.14482744997333227,
          0.16733877465515018,
          0.18629810345969575,
          0.14843950374140935,
          0.1646921362394244,
          0.16058651576368135,
          0.1946341818299396,
          0.13555367923745565,
          0.106009880090868,
          0.1960772602387275,
          0.10370182503500167,
          0.08857642554257394,
          0.13178129004698846,
          0.1330821023224802,
          0.10451734560882948,
          0.08682607191194312,
          0.16707152245904608,
          0.08578540504182575,
          0.11226609887916343,
          0.13855044339089637,
          0.10717344753747324,
          0.05711602327630445,
          0.15505340508259302,
          0.07056423140886069,
          0.040453176417560965,
          0.04263814061673337,
          0.04515891437510347,
          0.07747475991135189,
          0.03528796569956736,
          0.16002021232691976,
          0.10281334248241458,
          0.11481023385785291,
          0.07600965558920879,
          0.08219023702148201,
          0.10338121834698218,
          0.09099981820812572,
          0.10252533869173996,
          0.06047728296798737,
          0.05962431461490573,
          0.06765722394610153,
          0.033235123079058376,
          0.03328644658214464,
          0.025173290721691267,
          0.024432074158008982,
          0.024419791372546545,
          0.04530667437077862,
          0.018585768263342937,
          0.020819192926213734,
          0.030656271913542053,
          0.016055544274757493,
          0.05276175399234275,
          0.00907137021236233,
          0.0035970604667153725,
          0.01642387704409025,
          0.004053954844243259,
          0.00532948351233202,
          0.0004138728323699422,
          0.002329362414841528,
          0.00004853024141773012,
          0.000013652729180563194,
          0.000011529481845870044,
          0.000053451231478193805,
          0.00030418962713371476,
          0.0007219899871869625,
          0.00000215147225246236
         ],
         "yaxis": "y"
        }
       ],
       "layout": {
        "legend": {
         "title": {
          "text": "direction"
         },
         "tracegroupgap": 0
        },
        "template": {
         "data": {
          "bar": [
           {
            "error_x": {
             "color": "#2a3f5f"
            },
            "error_y": {
             "color": "#2a3f5f"
            },
            "marker": {
             "line": {
              "color": "#E5ECF6",
              "width": 0.5
             },
             "pattern": {
              "fillmode": "overlay",
              "size": 10,
              "solidity": 0.2
             }
            },
            "type": "bar"
           }
          ],
          "barpolar": [
           {
            "marker": {
             "line": {
              "color": "#E5ECF6",
              "width": 0.5
             },
             "pattern": {
              "fillmode": "overlay",
              "size": 10,
              "solidity": 0.2
             }
            },
            "type": "barpolar"
           }
          ],
          "carpet": [
           {
            "aaxis": {
             "endlinecolor": "#2a3f5f",
             "gridcolor": "white",
             "linecolor": "white",
             "minorgridcolor": "white",
             "startlinecolor": "#2a3f5f"
            },
            "baxis": {
             "endlinecolor": "#2a3f5f",
             "gridcolor": "white",
             "linecolor": "white",
             "minorgridcolor": "white",
             "startlinecolor": "#2a3f5f"
            },
            "type": "carpet"
           }
          ],
          "choropleth": [
           {
            "colorbar": {
             "outlinewidth": 0,
             "ticks": ""
            },
            "type": "choropleth"
           }
          ],
          "contour": [
           {
            "colorbar": {
             "outlinewidth": 0,
             "ticks": ""
            },
            "colorscale": [
             [
              0,
              "#0d0887"
             ],
             [
              0.1111111111111111,
              "#46039f"
             ],
             [
              0.2222222222222222,
              "#7201a8"
             ],
             [
              0.3333333333333333,
              "#9c179e"
             ],
             [
              0.4444444444444444,
              "#bd3786"
             ],
             [
              0.5555555555555556,
              "#d8576b"
             ],
             [
              0.6666666666666666,
              "#ed7953"
             ],
             [
              0.7777777777777778,
              "#fb9f3a"
             ],
             [
              0.8888888888888888,
              "#fdca26"
             ],
             [
              1,
              "#f0f921"
             ]
            ],
            "type": "contour"
           }
          ],
          "contourcarpet": [
           {
            "colorbar": {
             "outlinewidth": 0,
             "ticks": ""
            },
            "type": "contourcarpet"
           }
          ],
          "heatmap": [
           {
            "colorbar": {
             "outlinewidth": 0,
             "ticks": ""
            },
            "colorscale": [
             [
              0,
              "#0d0887"
             ],
             [
              0.1111111111111111,
              "#46039f"
             ],
             [
              0.2222222222222222,
              "#7201a8"
             ],
             [
              0.3333333333333333,
              "#9c179e"
             ],
             [
              0.4444444444444444,
              "#bd3786"
             ],
             [
              0.5555555555555556,
              "#d8576b"
             ],
             [
              0.6666666666666666,
              "#ed7953"
             ],
             [
              0.7777777777777778,
              "#fb9f3a"
             ],
             [
              0.8888888888888888,
              "#fdca26"
             ],
             [
              1,
              "#f0f921"
             ]
            ],
            "type": "heatmap"
           }
          ],
          "heatmapgl": [
           {
            "colorbar": {
             "outlinewidth": 0,
             "ticks": ""
            },
            "colorscale": [
             [
              0,
              "#0d0887"
             ],
             [
              0.1111111111111111,
              "#46039f"
             ],
             [
              0.2222222222222222,
              "#7201a8"
             ],
             [
              0.3333333333333333,
              "#9c179e"
             ],
             [
              0.4444444444444444,
              "#bd3786"
             ],
             [
              0.5555555555555556,
              "#d8576b"
             ],
             [
              0.6666666666666666,
              "#ed7953"
             ],
             [
              0.7777777777777778,
              "#fb9f3a"
             ],
             [
              0.8888888888888888,
              "#fdca26"
             ],
             [
              1,
              "#f0f921"
             ]
            ],
            "type": "heatmapgl"
           }
          ],
          "histogram": [
           {
            "marker": {
             "pattern": {
              "fillmode": "overlay",
              "size": 10,
              "solidity": 0.2
             }
            },
            "type": "histogram"
           }
          ],
          "histogram2d": [
           {
            "colorbar": {
             "outlinewidth": 0,
             "ticks": ""
            },
            "colorscale": [
             [
              0,
              "#0d0887"
             ],
             [
              0.1111111111111111,
              "#46039f"
             ],
             [
              0.2222222222222222,
              "#7201a8"
             ],
             [
              0.3333333333333333,
              "#9c179e"
             ],
             [
              0.4444444444444444,
              "#bd3786"
             ],
             [
              0.5555555555555556,
              "#d8576b"
             ],
             [
              0.6666666666666666,
              "#ed7953"
             ],
             [
              0.7777777777777778,
              "#fb9f3a"
             ],
             [
              0.8888888888888888,
              "#fdca26"
             ],
             [
              1,
              "#f0f921"
             ]
            ],
            "type": "histogram2d"
           }
          ],
          "histogram2dcontour": [
           {
            "colorbar": {
             "outlinewidth": 0,
             "ticks": ""
            },
            "colorscale": [
             [
              0,
              "#0d0887"
             ],
             [
              0.1111111111111111,
              "#46039f"
             ],
             [
              0.2222222222222222,
              "#7201a8"
             ],
             [
              0.3333333333333333,
              "#9c179e"
             ],
             [
              0.4444444444444444,
              "#bd3786"
             ],
             [
              0.5555555555555556,
              "#d8576b"
             ],
             [
              0.6666666666666666,
              "#ed7953"
             ],
             [
              0.7777777777777778,
              "#fb9f3a"
             ],
             [
              0.8888888888888888,
              "#fdca26"
             ],
             [
              1,
              "#f0f921"
             ]
            ],
            "type": "histogram2dcontour"
           }
          ],
          "mesh3d": [
           {
            "colorbar": {
             "outlinewidth": 0,
             "ticks": ""
            },
            "type": "mesh3d"
           }
          ],
          "parcoords": [
           {
            "line": {
             "colorbar": {
              "outlinewidth": 0,
              "ticks": ""
             }
            },
            "type": "parcoords"
           }
          ],
          "pie": [
           {
            "automargin": true,
            "type": "pie"
           }
          ],
          "scatter": [
           {
            "fillpattern": {
             "fillmode": "overlay",
             "size": 10,
             "solidity": 0.2
            },
            "type": "scatter"
           }
          ],
          "scatter3d": [
           {
            "line": {
             "colorbar": {
              "outlinewidth": 0,
              "ticks": ""
             }
            },
            "marker": {
             "colorbar": {
              "outlinewidth": 0,
              "ticks": ""
             }
            },
            "type": "scatter3d"
           }
          ],
          "scattercarpet": [
           {
            "marker": {
             "colorbar": {
              "outlinewidth": 0,
              "ticks": ""
             }
            },
            "type": "scattercarpet"
           }
          ],
          "scattergeo": [
           {
            "marker": {
             "colorbar": {
              "outlinewidth": 0,
              "ticks": ""
             }
            },
            "type": "scattergeo"
           }
          ],
          "scattergl": [
           {
            "marker": {
             "colorbar": {
              "outlinewidth": 0,
              "ticks": ""
             }
            },
            "type": "scattergl"
           }
          ],
          "scattermapbox": [
           {
            "marker": {
             "colorbar": {
              "outlinewidth": 0,
              "ticks": ""
             }
            },
            "type": "scattermapbox"
           }
          ],
          "scatterpolar": [
           {
            "marker": {
             "colorbar": {
              "outlinewidth": 0,
              "ticks": ""
             }
            },
            "type": "scatterpolar"
           }
          ],
          "scatterpolargl": [
           {
            "marker": {
             "colorbar": {
              "outlinewidth": 0,
              "ticks": ""
             }
            },
            "type": "scatterpolargl"
           }
          ],
          "scatterternary": [
           {
            "marker": {
             "colorbar": {
              "outlinewidth": 0,
              "ticks": ""
             }
            },
            "type": "scatterternary"
           }
          ],
          "surface": [
           {
            "colorbar": {
             "outlinewidth": 0,
             "ticks": ""
            },
            "colorscale": [
             [
              0,
              "#0d0887"
             ],
             [
              0.1111111111111111,
              "#46039f"
             ],
             [
              0.2222222222222222,
              "#7201a8"
             ],
             [
              0.3333333333333333,
              "#9c179e"
             ],
             [
              0.4444444444444444,
              "#bd3786"
             ],
             [
              0.5555555555555556,
              "#d8576b"
             ],
             [
              0.6666666666666666,
              "#ed7953"
             ],
             [
              0.7777777777777778,
              "#fb9f3a"
             ],
             [
              0.8888888888888888,
              "#fdca26"
             ],
             [
              1,
              "#f0f921"
             ]
            ],
            "type": "surface"
           }
          ],
          "table": [
           {
            "cells": {
             "fill": {
              "color": "#EBF0F8"
             },
             "line": {
              "color": "white"
             }
            },
            "header": {
             "fill": {
              "color": "#C8D4E3"
             },
             "line": {
              "color": "white"
             }
            },
            "type": "table"
           }
          ]
         },
         "layout": {
          "annotationdefaults": {
           "arrowcolor": "#2a3f5f",
           "arrowhead": 0,
           "arrowwidth": 1
          },
          "autotypenumbers": "strict",
          "coloraxis": {
           "colorbar": {
            "outlinewidth": 0,
            "ticks": ""
           }
          },
          "colorscale": {
           "diverging": [
            [
             0,
             "#8e0152"
            ],
            [
             0.1,
             "#c51b7d"
            ],
            [
             0.2,
             "#de77ae"
            ],
            [
             0.3,
             "#f1b6da"
            ],
            [
             0.4,
             "#fde0ef"
            ],
            [
             0.5,
             "#f7f7f7"
            ],
            [
             0.6,
             "#e6f5d0"
            ],
            [
             0.7,
             "#b8e186"
            ],
            [
             0.8,
             "#7fbc41"
            ],
            [
             0.9,
             "#4d9221"
            ],
            [
             1,
             "#276419"
            ]
           ],
           "sequential": [
            [
             0,
             "#0d0887"
            ],
            [
             0.1111111111111111,
             "#46039f"
            ],
            [
             0.2222222222222222,
             "#7201a8"
            ],
            [
             0.3333333333333333,
             "#9c179e"
            ],
            [
             0.4444444444444444,
             "#bd3786"
            ],
            [
             0.5555555555555556,
             "#d8576b"
            ],
            [
             0.6666666666666666,
             "#ed7953"
            ],
            [
             0.7777777777777778,
             "#fb9f3a"
            ],
            [
             0.8888888888888888,
             "#fdca26"
            ],
            [
             1,
             "#f0f921"
            ]
           ],
           "sequentialminus": [
            [
             0,
             "#0d0887"
            ],
            [
             0.1111111111111111,
             "#46039f"
            ],
            [
             0.2222222222222222,
             "#7201a8"
            ],
            [
             0.3333333333333333,
             "#9c179e"
            ],
            [
             0.4444444444444444,
             "#bd3786"
            ],
            [
             0.5555555555555556,
             "#d8576b"
            ],
            [
             0.6666666666666666,
             "#ed7953"
            ],
            [
             0.7777777777777778,
             "#fb9f3a"
            ],
            [
             0.8888888888888888,
             "#fdca26"
            ],
            [
             1,
             "#f0f921"
            ]
           ]
          },
          "colorway": [
           "#636efa",
           "#EF553B",
           "#00cc96",
           "#ab63fa",
           "#FFA15A",
           "#19d3f3",
           "#FF6692",
           "#B6E880",
           "#FF97FF",
           "#FECB52"
          ],
          "font": {
           "color": "#2a3f5f"
          },
          "geo": {
           "bgcolor": "white",
           "lakecolor": "white",
           "landcolor": "#E5ECF6",
           "showlakes": true,
           "showland": true,
           "subunitcolor": "white"
          },
          "hoverlabel": {
           "align": "left"
          },
          "hovermode": "closest",
          "mapbox": {
           "style": "light"
          },
          "paper_bgcolor": "white",
          "plot_bgcolor": "#E5ECF6",
          "polar": {
           "angularaxis": {
            "gridcolor": "white",
            "linecolor": "white",
            "ticks": ""
           },
           "bgcolor": "#E5ECF6",
           "radialaxis": {
            "gridcolor": "white",
            "linecolor": "white",
            "ticks": ""
           }
          },
          "scene": {
           "xaxis": {
            "backgroundcolor": "#E5ECF6",
            "gridcolor": "white",
            "gridwidth": 2,
            "linecolor": "white",
            "showbackground": true,
            "ticks": "",
            "zerolinecolor": "white"
           },
           "yaxis": {
            "backgroundcolor": "#E5ECF6",
            "gridcolor": "white",
            "gridwidth": 2,
            "linecolor": "white",
            "showbackground": true,
            "ticks": "",
            "zerolinecolor": "white"
           },
           "zaxis": {
            "backgroundcolor": "#E5ECF6",
            "gridcolor": "white",
            "gridwidth": 2,
            "linecolor": "white",
            "showbackground": true,
            "ticks": "",
            "zerolinecolor": "white"
           }
          },
          "shapedefaults": {
           "line": {
            "color": "#2a3f5f"
           }
          },
          "ternary": {
           "aaxis": {
            "gridcolor": "white",
            "linecolor": "white",
            "ticks": ""
           },
           "baxis": {
            "gridcolor": "white",
            "linecolor": "white",
            "ticks": ""
           },
           "bgcolor": "#E5ECF6",
           "caxis": {
            "gridcolor": "white",
            "linecolor": "white",
            "ticks": ""
           }
          },
          "title": {
           "x": 0.05
          },
          "xaxis": {
           "automargin": true,
           "gridcolor": "white",
           "linecolor": "white",
           "ticks": "",
           "title": {
            "standoff": 15
           },
           "zerolinecolor": "white",
           "zerolinewidth": 2
          },
          "yaxis": {
           "automargin": true,
           "gridcolor": "white",
           "linecolor": "white",
           "ticks": "",
           "title": {
            "standoff": 15
           },
           "zerolinecolor": "white",
           "zerolinewidth": 2
          }
         }
        },
        "title": {
         "text": "Proportion of Missing Vessel Names over time."
        },
        "xaxis": {
         "anchor": "y",
         "domain": [
          0,
          1
         ],
         "title": {
          "text": "month"
         }
        },
        "yaxis": {
         "anchor": "x",
         "domain": [
          0,
          1
         ],
         "title": {
          "text": "null_percent"
         }
        }
       }
      }
     },
     "metadata": {},
     "output_type": "display_data"
    }
   ],
   "source": [
    "lf = pl.concat(\n",
    "    [imports_lf.select('direction', 'month', 'vessel_name'),\n",
    "    exports_lf.select('direction', 'month', 'vessel_name')]\n",
    ")\n",
    "\n",
    "nulls_over_time_plotly(\n",
    "    data_lf=lf,\n",
    "    group_var='direction',\n",
    "    time_var='month',\n",
    "    value_var='vessel_name',\n",
    "    title='Proportion of Missing Vessel Names over time.')"
   ]
  },
  {
   "cell_type": "markdown",
   "metadata": {},
   "source": [
    "Since our analysis concerns the practice of carriers sharing cargo with other carriers on a single vessel, we drop missing vessels."
   ]
  },
  {
   "cell_type": "code",
   "execution_count": 9,
   "metadata": {},
   "outputs": [],
   "source": [
    "#drop missing vessels\n",
    "imports_lf = imports_lf.drop_nulls(subset='vessel_id')\n",
    "exports_lf = exports_lf.drop_nulls(subset='vessel_id')"
   ]
  },
  {
   "cell_type": "markdown",
   "metadata": {},
   "source": [
    "We also drop bols with missing port data for the same reason. "
   ]
  },
  {
   "cell_type": "code",
   "execution_count": 10,
   "metadata": {},
   "outputs": [],
   "source": [
    "#drop missing ports\n",
    "imports_lf = imports_lf.drop_nulls(subset=['arrival_port_code', 'departure_port_code'])\n",
    "exports_lf = exports_lf.drop_nulls(subset=['arrival_port_code', 'departure_port_code'])"
   ]
  },
  {
   "cell_type": "markdown",
   "metadata": {},
   "source": [
    "## Voyage Identification\n",
    "\n",
    "We define a 'voyage' as a single vessel's trip from the port of departure to the port of arrival, i.e., a single vessel on a single *lane*. Sadly, the voyage IDs listed on BOLs are not consistent with this conception of a voyage (for a given vessel, lane, and date, the \"voyage id\" is far from unique), and the date listed on each BOL does not necessarily correspond to the actual arrival date of the ship (i.e., the date data are noisy). We address this problem in two steps. \n",
    "\n",
    "First, we compute route distances between each foreign/domestic port pair using [SeaRoute](https://github.com/eurostat/searoute). Using this distance we determine an estimated minimum number of days required to sail from one port to the other. This gives us a means of differentiating between multiple dates that correspond to the same port visit on the one hand, and two seperate port visits on the other. For example, if a BOL dated July 15 shows a vessel delivering a set of containers from Hong Kong to San Francisco, and a different BOL shows the same vessel delivering a different set of containers from Hong Kong to San Francisco on July 20th, we know that the vessel could not have visited Hong Kong between those port visits. Thus, we can cluster dates corresponding to a single port visit whenever the dates are close enough to preclude a visit to the other port. \n",
    "\n",
    "Second, we employ this minimum \"turn\" (from one domestic port to a foreign port and back) time as one of the parameters of a Hierarchical Density-Based Spatial Clustering of Applications with Noise (HDBSCAN) algorithm to group port visits together into a single voyage. "
   ]
  },
  {
   "cell_type": "code",
   "execution_count": 11,
   "metadata": {},
   "outputs": [
    {
     "name": "stdout",
     "output_type": "stream",
     "text": [
      "skipping\n"
     ]
    }
   ],
   "source": [
    "%%script echo skipping\n",
    "#load searoute data \n",
    "route_distances_df = pl.read_csv('data/route_distances.csv')\n",
    "#add relevant columns\n",
    "route_distances_df = (\n",
    "    route_distances_df.with_columns(\n",
    "        #add minimum round trip time in days, assuming speed of 25kt (46km/h)\n",
    "        ((pl.col('distKM')/46/24)*2).alias('route_min_days'),\n",
    "        #create key for joining to exports lf\n",
    "        (pl.col('us_port_name').cast(pl.Utf8)+' — '+pl.col('foreign_port_name').cast(pl.Utf8))\n",
    "        .str.to_titlecase().cast(pl.Categorical)\n",
    "        .alias('exports_lane_name'),\n",
    "        #create key for joinign to imports lf\n",
    "        (pl.col('foreign_port_name').cast(pl.Utf8)+' — '+pl.col('us_port_name').cast(pl.Utf8))\n",
    "        .str.to_titlecase().cast(pl.Categorical)\n",
    "        .alias('imports_lane_name')\n",
    "        )\n",
    ")"
   ]
  },
  {
   "cell_type": "markdown",
   "metadata": {},
   "source": [
    "Due to the large imports dataset, merging route distances directly is beyond the scope of available resources. As a work-around, the data is merged on a year-by-year basis and saved to parquet, then re-loaded. "
   ]
  },
  {
   "cell_type": "code",
   "execution_count": 12,
   "metadata": {},
   "outputs": [
    {
     "name": "stdout",
     "output_type": "stream",
     "text": [
      "skipping\n"
     ]
    }
   ],
   "source": [
    "%%script echo skipping\n",
    "\n",
    "#merge route distances to imports year by year and write to parquet\n",
    "years = pl.arange(2005,2024, eager=True)\n",
    "for year in years:\n",
    "    print('Collecting {} dataframe and joining distances...'.format(year))\n",
    "    df = (\n",
    "        imports_lf\n",
    "        .filter(pl.col('year')==year)\n",
    "        .collect()\n",
    "    )\n",
    "    df = df.join(route_distances_df.select('route_min_days', 'imports_lane_name'), how='left', left_on='lane_name', right_on='imports_lane_name')\n",
    "    print('Writing {} data to parquet...'.format(year))\n",
    "    df.write_parquet(file='data/imports/imports_'+str(year)+'.parquet')\n",
    "print('Imports data written to parquet')"
   ]
  },
  {
   "cell_type": "code",
   "execution_count": 13,
   "metadata": {},
   "outputs": [
    {
     "name": "stdout",
     "output_type": "stream",
     "text": [
      "skipping\n"
     ]
    }
   ],
   "source": [
    "%%script echo skipping\n",
    "#join route distances to exports lf\n",
    "exports_lf = exports_lf.join(route_distances_df.select('route_min_days', 'exports_lane_name').lazy(), \n",
    "                             how='left', left_on='lane_name', right_on='exports_lane_name')"
   ]
  },
  {
   "cell_type": "code",
   "execution_count": 14,
   "metadata": {},
   "outputs": [
    {
     "name": "stdout",
     "output_type": "stream",
     "text": [
      "skipping\n"
     ]
    }
   ],
   "source": [
    "%%script echo skipping\n",
    "#re-load imports lazyframe from parquet\n",
    "imports_lf = pl.scan_parquet('data/imports/*.parquet')\n",
    "imports_lf.select('route_min_days').collect().describe()"
   ]
  },
  {
   "cell_type": "markdown",
   "metadata": {},
   "source": [
    "#### Route minimum days column glitch\n",
    "\n",
    "The script to join the route distances/days to the imports data seems to work, but as of 4/5 attempting to load the column as above throws Panic Exception ComputeError(ErrString(\"validity mask length must match the number of values\"). This merits further investigation, but for now we will move on without utilizing this parameter in the clustering algorithm. \n",
    "\n",
    "Another note: after joining the route distances to the dataframe, the clustering algorithm quickly maxes out memory, even with a 10 bol sample and even without attempting to incorporate the distances into hdbscan. The reason for this is unknown, but clustering the data *before* joining in the route distances works as expected.  \n",
    "\n",
    "### HDBSCAN Clustering \n",
    "\n"
   ]
  },
  {
   "cell_type": "code",
   "execution_count": 15,
   "metadata": {},
   "outputs": [
    {
     "name": "stdout",
     "output_type": "stream",
     "text": [
      "clustering data collected; time = 0.14 minutes\n",
      "Looping through vessel-lane pairs\n",
      "1,000 pairs clustered. The previous 1000 pairs took 0.78 minutes.\n",
      "2,000 pairs clustered. The previous 1000 pairs took 1.30 minutes.\n",
      "3,000 pairs clustered. The previous 1000 pairs took 0.64 minutes.\n",
      "4,000 pairs clustered. The previous 1000 pairs took 1.91 minutes.\n",
      "5,000 pairs clustered. The previous 1000 pairs took 1.34 minutes.\n",
      "6,000 pairs clustered. The previous 1000 pairs took 6.71 minutes.\n",
      "7,000 pairs clustered. The previous 1000 pairs took 0.94 minutes.\n",
      "8,000 pairs clustered. The previous 1000 pairs took 5.43 minutes.\n",
      "9,000 pairs clustered. The previous 1000 pairs took 1.19 minutes.\n",
      "10,000 pairs clustered. The previous 1000 pairs took 1.57 minutes.\n",
      "11,000 pairs clustered. The previous 1000 pairs took 0.80 minutes.\n",
      "12,000 pairs clustered. The previous 1000 pairs took 2.14 minutes.\n",
      "13,000 pairs clustered. The previous 1000 pairs took 0.87 minutes.\n",
      "14,000 pairs clustered. The previous 1000 pairs took 0.48 minutes.\n",
      "15,000 pairs clustered. The previous 1000 pairs took 0.40 minutes.\n",
      "16,000 pairs clustered. The previous 1000 pairs took 0.57 minutes.\n",
      "17,000 pairs clustered. The previous 1000 pairs took 0.40 minutes.\n",
      "18,000 pairs clustered. The previous 1000 pairs took 1.78 minutes.\n",
      "19,000 pairs clustered. The previous 1000 pairs took 0.67 minutes.\n",
      "20,000 pairs clustered. The previous 1000 pairs took 0.49 minutes.\n",
      "21,000 pairs clustered. The previous 1000 pairs took 0.36 minutes.\n",
      "22,000 pairs clustered. The previous 1000 pairs took 0.55 minutes.\n",
      "23,000 pairs clustered. The previous 1000 pairs took 0.46 minutes.\n",
      "24,000 pairs clustered. The previous 1000 pairs took 0.89 minutes.\n",
      "25,000 pairs clustered. The previous 1000 pairs took 0.60 minutes.\n",
      "26,000 pairs clustered. The previous 1000 pairs took 0.90 minutes.\n",
      "27,000 pairs clustered. The previous 1000 pairs took 6.07 minutes.\n",
      "28,000 pairs clustered. The previous 1000 pairs took 0.68 minutes.\n",
      "29,000 pairs clustered. The previous 1000 pairs took 2.03 minutes.\n",
      "30,000 pairs clustered. The previous 1000 pairs took 0.60 minutes.\n",
      "31,000 pairs clustered. The previous 1000 pairs took 2.20 minutes.\n",
      "32,000 pairs clustered. The previous 1000 pairs took 0.70 minutes.\n",
      "33,000 pairs clustered. The previous 1000 pairs took 1.72 minutes.\n",
      "34,000 pairs clustered. The previous 1000 pairs took 0.81 minutes.\n",
      "35,000 pairs clustered. The previous 1000 pairs took 0.72 minutes.\n",
      "36,000 pairs clustered. The previous 1000 pairs took 0.57 minutes.\n",
      "37,000 pairs clustered. The previous 1000 pairs took 0.79 minutes.\n",
      "38,000 pairs clustered. The previous 1000 pairs took 0.91 minutes.\n",
      "39,000 pairs clustered. The previous 1000 pairs took 0.55 minutes.\n",
      "40,000 pairs clustered. The previous 1000 pairs took 0.38 minutes.\n",
      "41,000 pairs clustered. The previous 1000 pairs took 1.18 minutes.\n",
      "42,000 pairs clustered. The previous 1000 pairs took 1.09 minutes.\n",
      "43,000 pairs clustered. The previous 1000 pairs took 0.88 minutes.\n",
      "44,000 pairs clustered. The previous 1000 pairs took 0.88 minutes.\n",
      "45,000 pairs clustered. The previous 1000 pairs took 0.68 minutes.\n",
      "46,000 pairs clustered. The previous 1000 pairs took 0.37 minutes.\n",
      "47,000 pairs clustered. The previous 1000 pairs took 1.51 minutes.\n",
      "48,000 pairs clustered. The previous 1000 pairs took 0.67 minutes.\n",
      "51,000 pairs clustered. The previous 1000 pairs took 0.65 minutes.\n",
      "52,000 pairs clustered. The previous 1000 pairs took 0.69 minutes.\n",
      "53,000 pairs clustered. The previous 1000 pairs took 0.57 minutes.\n",
      "54,000 pairs clustered. The previous 1000 pairs took 0.77 minutes.\n",
      "55,000 pairs clustered. The previous 1000 pairs took 0.63 minutes.\n",
      "57,000 pairs clustered. The previous 1000 pairs took 1.03 minutes.\n",
      "58,000 pairs clustered. The previous 1000 pairs took 0.49 minutes.\n",
      "59,000 pairs clustered. The previous 1000 pairs took 1.04 minutes.\n",
      "60,000 pairs clustered. The previous 1000 pairs took 0.67 minutes.\n",
      "61,000 pairs clustered. The previous 1000 pairs took 1.75 minutes.\n",
      "62,000 pairs clustered. The previous 1000 pairs took 1.44 minutes.\n",
      "63,000 pairs clustered. The previous 1000 pairs took 1.33 minutes.\n",
      "64,000 pairs clustered. The previous 1000 pairs took 1.44 minutes.\n",
      "65,000 pairs clustered. The previous 1000 pairs took 1.03 minutes.\n",
      "66,000 pairs clustered. The previous 1000 pairs took 1.10 minutes.\n",
      "67,000 pairs clustered. The previous 1000 pairs took 1.49 minutes.\n",
      "68,000 pairs clustered. The previous 1000 pairs took 1.36 minutes.\n",
      "69,000 pairs clustered. The previous 1000 pairs took 0.81 minutes.\n",
      "70,000 pairs clustered. The previous 1000 pairs took 1.15 minutes.\n",
      "71,000 pairs clustered. The previous 1000 pairs took 0.81 minutes.\n",
      "72,000 pairs clustered. The previous 1000 pairs took 0.33 minutes.\n",
      "73,000 pairs clustered. The previous 1000 pairs took 1.39 minutes.\n",
      "74,000 pairs clustered. The previous 1000 pairs took 0.94 minutes.\n",
      "75,000 pairs clustered. The previous 1000 pairs took 1.02 minutes.\n",
      "76,000 pairs clustered. The previous 1000 pairs took 1.39 minutes.\n",
      "77,000 pairs clustered. The previous 1000 pairs took 0.46 minutes.\n",
      "78,000 pairs clustered. The previous 1000 pairs took 0.74 minutes.\n",
      "79,000 pairs clustered. The previous 1000 pairs took 0.44 minutes.\n",
      "80,000 pairs clustered. The previous 1000 pairs took 0.64 minutes.\n",
      "81,000 pairs clustered. The previous 1000 pairs took 0.74 minutes.\n",
      "82,000 pairs clustered. The previous 1000 pairs took 0.98 minutes.\n",
      "83,000 pairs clustered. The previous 1000 pairs took 0.50 minutes.\n",
      "84,000 pairs clustered. The previous 1000 pairs took 1.88 minutes.\n",
      "85,000 pairs clustered. The previous 1000 pairs took 0.54 minutes.\n",
      "86,000 pairs clustered. The previous 1000 pairs took 0.57 minutes.\n",
      "87,000 pairs clustered. The previous 1000 pairs took 0.56 minutes.\n",
      "88,000 pairs clustered. The previous 1000 pairs took 0.54 minutes.\n",
      "89,000 pairs clustered. The previous 1000 pairs took 0.81 minutes.\n",
      "90,000 pairs clustered. The previous 1000 pairs took 2.03 minutes.\n",
      "91,000 pairs clustered. The previous 1000 pairs took 0.68 minutes.\n",
      "92,000 pairs clustered. The previous 1000 pairs took 0.72 minutes.\n",
      "93,000 pairs clustered. The previous 1000 pairs took 1.51 minutes.\n",
      "94,000 pairs clustered. The previous 1000 pairs took 0.72 minutes.\n",
      "95,000 pairs clustered. The previous 1000 pairs took 1.31 minutes.\n",
      "96,000 pairs clustered. The previous 1000 pairs took 0.97 minutes.\n",
      "97,000 pairs clustered. The previous 1000 pairs took 2.31 minutes.\n",
      "98,000 pairs clustered. The previous 1000 pairs took 1.24 minutes.\n",
      "99,000 pairs clustered. The previous 1000 pairs took 0.40 minutes.\n",
      "100,000 pairs clustered. The previous 1000 pairs took 1.19 minutes.\n",
      "101,000 pairs clustered. The previous 1000 pairs took 0.79 minutes.\n",
      "102,000 pairs clustered. The previous 1000 pairs took 0.68 minutes.\n",
      "103,000 pairs clustered. The previous 1000 pairs took 1.14 minutes.\n",
      "104,000 pairs clustered. The previous 1000 pairs took 0.86 minutes.\n",
      "105,000 pairs clustered. The previous 1000 pairs took 0.97 minutes.\n",
      "106,000 pairs clustered. The previous 1000 pairs took 0.91 minutes.\n",
      "107,000 pairs clustered. The previous 1000 pairs took 0.50 minutes.\n",
      "108,000 pairs clustered. The previous 1000 pairs took 0.73 minutes.\n",
      "109,000 pairs clustered. The previous 1000 pairs took 1.10 minutes.\n",
      "110,000 pairs clustered. The previous 1000 pairs took 0.48 minutes.\n",
      "111,000 pairs clustered. The previous 1000 pairs took 0.76 minutes.\n",
      "112,000 pairs clustered. The previous 1000 pairs took 3.56 minutes.\n",
      "113,000 pairs clustered. The previous 1000 pairs took 0.90 minutes.\n",
      "114,000 pairs clustered. The previous 1000 pairs took 1.21 minutes.\n",
      "115,000 pairs clustered. The previous 1000 pairs took 0.33 minutes.\n",
      "116,000 pairs clustered. The previous 1000 pairs took 0.55 minutes.\n",
      "117,000 pairs clustered. The previous 1000 pairs took 1.66 minutes.\n",
      "118,000 pairs clustered. The previous 1000 pairs took 0.75 minutes.\n",
      "119,000 pairs clustered. The previous 1000 pairs took 0.78 minutes.\n",
      "120,000 pairs clustered. The previous 1000 pairs took 1.74 minutes.\n",
      "121,000 pairs clustered. The previous 1000 pairs took 2.48 minutes.\n",
      "122,000 pairs clustered. The previous 1000 pairs took 0.82 minutes.\n",
      "123,000 pairs clustered. The previous 1000 pairs took 0.63 minutes.\n",
      "124,000 pairs clustered. The previous 1000 pairs took 0.74 minutes.\n",
      "125,000 pairs clustered. The previous 1000 pairs took 0.71 minutes.\n",
      "126,000 pairs clustered. The previous 1000 pairs took 0.72 minutes.\n",
      "127,000 pairs clustered. The previous 1000 pairs took 1.45 minutes.\n",
      "128,000 pairs clustered. The previous 1000 pairs took 0.93 minutes.\n",
      "129,000 pairs clustered. The previous 1000 pairs took 1.14 minutes.\n",
      "130,000 pairs clustered. The previous 1000 pairs took 2.07 minutes.\n",
      "131,000 pairs clustered. The previous 1000 pairs took 0.61 minutes.\n",
      "132,000 pairs clustered. The previous 1000 pairs took 0.46 minutes.\n",
      "133,000 pairs clustered. The previous 1000 pairs took 0.55 minutes.\n",
      "134,000 pairs clustered. The previous 1000 pairs took 0.85 minutes.\n",
      "135,000 pairs clustered. The previous 1000 pairs took 0.81 minutes.\n",
      "136,000 pairs clustered. The previous 1000 pairs took 0.88 minutes.\n",
      "137,000 pairs clustered. The previous 1000 pairs took 0.70 minutes.\n",
      "138,000 pairs clustered. The previous 1000 pairs took 1.25 minutes.\n",
      "139,000 pairs clustered. The previous 1000 pairs took 0.47 minutes.\n",
      "140,000 pairs clustered. The previous 1000 pairs took 0.52 minutes.\n",
      "141,000 pairs clustered. The previous 1000 pairs took 0.45 minutes.\n",
      "142,000 pairs clustered. The previous 1000 pairs took 0.69 minutes.\n",
      "143,000 pairs clustered. The previous 1000 pairs took 2.07 minutes.\n",
      "144,000 pairs clustered. The previous 1000 pairs took 0.67 minutes.\n",
      "145,000 pairs clustered. The previous 1000 pairs took 0.86 minutes.\n",
      "146,000 pairs clustered. The previous 1000 pairs took 1.72 minutes.\n",
      "147,000 pairs clustered. The previous 1000 pairs took 0.62 minutes.\n",
      "148,000 pairs clustered. The previous 1000 pairs took 0.34 minutes.\n",
      "149,000 pairs clustered. The previous 1000 pairs took 1.15 minutes.\n",
      "150,000 pairs clustered. The previous 1000 pairs took 1.43 minutes.\n",
      "151,000 pairs clustered. The previous 1000 pairs took 1.03 minutes.\n",
      "152,000 pairs clustered. The previous 1000 pairs took 0.77 minutes.\n",
      "153,000 pairs clustered. The previous 1000 pairs took 1.47 minutes.\n",
      "154,000 pairs clustered. The previous 1000 pairs took 0.98 minutes.\n",
      "155,000 pairs clustered. The previous 1000 pairs took 1.31 minutes.\n",
      "156,000 pairs clustered. The previous 1000 pairs took 0.81 minutes.\n",
      "157,000 pairs clustered. The previous 1000 pairs took 0.59 minutes.\n",
      "158,000 pairs clustered. The previous 1000 pairs took 1.09 minutes.\n",
      "159,000 pairs clustered. The previous 1000 pairs took 1.65 minutes.\n",
      "160,000 pairs clustered. The previous 1000 pairs took 0.87 minutes.\n",
      "161,000 pairs clustered. The previous 1000 pairs took 1.38 minutes.\n",
      "162,000 pairs clustered. The previous 1000 pairs took 0.74 minutes.\n",
      "163,000 pairs clustered. The previous 1000 pairs took 1.17 minutes.\n",
      "164,000 pairs clustered. The previous 1000 pairs took 0.73 minutes.\n",
      "165,000 pairs clustered. The previous 1000 pairs took 0.98 minutes.\n",
      "166,000 pairs clustered. The previous 1000 pairs took 1.09 minutes.\n",
      "167,000 pairs clustered. The previous 1000 pairs took 0.93 minutes.\n",
      "168,000 pairs clustered. The previous 1000 pairs took 1.91 minutes.\n",
      "169,000 pairs clustered. The previous 1000 pairs took 0.74 minutes.\n",
      "170,000 pairs clustered. The previous 1000 pairs took 0.74 minutes.\n",
      "171,000 pairs clustered. The previous 1000 pairs took 1.82 minutes.\n",
      "172,000 pairs clustered. The previous 1000 pairs took 0.56 minutes.\n",
      "173,000 pairs clustered. The previous 1000 pairs took 0.76 minutes.\n",
      "174,000 pairs clustered. The previous 1000 pairs took 2.07 minutes.\n",
      "175,000 pairs clustered. The previous 1000 pairs took 0.72 minutes.\n",
      "176,000 pairs clustered. The previous 1000 pairs took 0.40 minutes.\n",
      "177,000 pairs clustered. The previous 1000 pairs took 0.57 minutes.\n",
      "178,000 pairs clustered. The previous 1000 pairs took 0.52 minutes.\n",
      "179,000 pairs clustered. The previous 1000 pairs took 1.12 minutes.\n",
      "180,000 pairs clustered. The previous 1000 pairs took 1.37 minutes.\n",
      "181,000 pairs clustered. The previous 1000 pairs took 1.39 minutes.\n",
      "182,000 pairs clustered. The previous 1000 pairs took 1.13 minutes.\n",
      "183,000 pairs clustered. The previous 1000 pairs took 0.83 minutes.\n",
      "184,000 pairs clustered. The previous 1000 pairs took 0.62 minutes.\n",
      "185,000 pairs clustered. The previous 1000 pairs took 1.07 minutes.\n",
      "186,000 pairs clustered. The previous 1000 pairs took 0.50 minutes.\n",
      "187,000 pairs clustered. The previous 1000 pairs took 0.72 minutes.\n",
      "188,000 pairs clustered. The previous 1000 pairs took 0.55 minutes.\n",
      "189,000 pairs clustered. The previous 1000 pairs took 0.87 minutes.\n",
      "190,000 pairs clustered. The previous 1000 pairs took 1.20 minutes.\n",
      "191,000 pairs clustered. The previous 1000 pairs took 2.06 minutes.\n",
      "192,000 pairs clustered. The previous 1000 pairs took 0.94 minutes.\n",
      "193,000 pairs clustered. The previous 1000 pairs took 2.06 minutes.\n",
      "194,000 pairs clustered. The previous 1000 pairs took 0.83 minutes.\n",
      "195,000 pairs clustered. The previous 1000 pairs took 1.26 minutes.\n",
      "196,000 pairs clustered. The previous 1000 pairs took 0.45 minutes.\n",
      "197,000 pairs clustered. The previous 1000 pairs took 0.45 minutes.\n",
      "198,000 pairs clustered. The previous 1000 pairs took 0.53 minutes.\n",
      "199,000 pairs clustered. The previous 1000 pairs took 0.54 minutes.\n",
      "200,000 pairs clustered. The previous 1000 pairs took 1.69 minutes.\n",
      "201,000 pairs clustered. The previous 1000 pairs took 0.67 minutes.\n",
      "203,000 pairs clustered. The previous 1000 pairs took 0.61 minutes.\n",
      "205,000 pairs clustered. The previous 1000 pairs took 0.94 minutes.\n",
      "206,000 pairs clustered. The previous 1000 pairs took 0.40 minutes.\n",
      "207,000 pairs clustered. The previous 1000 pairs took 0.76 minutes.\n",
      "208,000 pairs clustered. The previous 1000 pairs took 0.61 minutes.\n",
      "209,000 pairs clustered. The previous 1000 pairs took 6.01 minutes.\n",
      "210,000 pairs clustered. The previous 1000 pairs took 1.77 minutes.\n",
      "211,000 pairs clustered. The previous 1000 pairs took 0.77 minutes.\n",
      "212,000 pairs clustered. The previous 1000 pairs took 1.48 minutes.\n",
      "213,000 pairs clustered. The previous 1000 pairs took 0.96 minutes.\n",
      "214,000 pairs clustered. The previous 1000 pairs took 1.44 minutes.\n",
      "215,000 pairs clustered. The previous 1000 pairs took 1.23 minutes.\n",
      "216,000 pairs clustered. The previous 1000 pairs took 0.76 minutes.\n",
      "217,000 pairs clustered. The previous 1000 pairs took 1.33 minutes.\n",
      "218,000 pairs clustered. The previous 1000 pairs took 0.80 minutes.\n",
      "219,000 pairs clustered. The previous 1000 pairs took 0.73 minutes.\n",
      "220,000 pairs clustered. The previous 1000 pairs took 1.01 minutes.\n",
      "221,000 pairs clustered. The previous 1000 pairs took 0.88 minutes.\n",
      "222,000 pairs clustered. The previous 1000 pairs took 0.64 minutes.\n",
      "223,000 pairs clustered. The previous 1000 pairs took 0.68 minutes.\n",
      "224,000 pairs clustered. The previous 1000 pairs took 0.61 minutes.\n",
      "225,000 pairs clustered. The previous 1000 pairs took 0.72 minutes.\n",
      "226,000 pairs clustered. The previous 1000 pairs took 0.91 minutes.\n",
      "227,000 pairs clustered. The previous 1000 pairs took 0.88 minutes.\n",
      "228,000 pairs clustered. The previous 1000 pairs took 0.57 minutes.\n",
      "229,000 pairs clustered. The previous 1000 pairs took 0.86 minutes.\n",
      "Total time to cluster dates: 4.02 hours\n"
     ]
    }
   ],
   "source": [
    "imports_lf = cluster_dates(imports_lf, direction='import');"
   ]
  },
  {
   "cell_type": "code",
   "execution_count": 16,
   "metadata": {},
   "outputs": [
    {
     "name": "stdout",
     "output_type": "stream",
     "text": [
      "clustering data collected; time = 0.07 minutes\n",
      "Looping through vessel-lane pairs\n",
      "1,000 pairs clustered. The previous 1000 pairs took 0.06 minutes.\n",
      "2,000 pairs clustered. The previous 1000 pairs took 0.37 minutes.\n",
      "3,000 pairs clustered. The previous 1000 pairs took 0.06 minutes.\n",
      "4,000 pairs clustered. The previous 1000 pairs took 0.10 minutes.\n",
      "5,000 pairs clustered. The previous 1000 pairs took 0.11 minutes.\n",
      "6,000 pairs clustered. The previous 1000 pairs took 0.09 minutes.\n",
      "7,000 pairs clustered. The previous 1000 pairs took 0.05 minutes.\n",
      "8,000 pairs clustered. The previous 1000 pairs took 0.05 minutes.\n",
      "9,000 pairs clustered. The previous 1000 pairs took 0.05 minutes.\n",
      "10,000 pairs clustered. The previous 1000 pairs took 0.07 minutes.\n",
      "11,000 pairs clustered. The previous 1000 pairs took 0.09 minutes.\n",
      "12,000 pairs clustered. The previous 1000 pairs took 0.09 minutes.\n",
      "13,000 pairs clustered. The previous 1000 pairs took 0.05 minutes.\n",
      "14,000 pairs clustered. The previous 1000 pairs took 0.07 minutes.\n",
      "15,000 pairs clustered. The previous 1000 pairs took 0.12 minutes.\n",
      "16,000 pairs clustered. The previous 1000 pairs took 0.04 minutes.\n",
      "17,000 pairs clustered. The previous 1000 pairs took 0.06 minutes.\n",
      "18,000 pairs clustered. The previous 1000 pairs took 0.07 minutes.\n",
      "19,000 pairs clustered. The previous 1000 pairs took 0.11 minutes.\n",
      "20,000 pairs clustered. The previous 1000 pairs took 0.07 minutes.\n",
      "21,000 pairs clustered. The previous 1000 pairs took 0.10 minutes.\n",
      "22,000 pairs clustered. The previous 1000 pairs took 0.07 minutes.\n",
      "23,000 pairs clustered. The previous 1000 pairs took 0.07 minutes.\n",
      "24,000 pairs clustered. The previous 1000 pairs took 0.08 minutes.\n",
      "25,000 pairs clustered. The previous 1000 pairs took 0.07 minutes.\n",
      "26,000 pairs clustered. The previous 1000 pairs took 0.05 minutes.\n",
      "27,000 pairs clustered. The previous 1000 pairs took 0.10 minutes.\n",
      "29,000 pairs clustered. The previous 1000 pairs took 0.08 minutes.\n",
      "30,000 pairs clustered. The previous 1000 pairs took 0.08 minutes.\n",
      "31,000 pairs clustered. The previous 1000 pairs took 0.46 minutes.\n",
      "32,000 pairs clustered. The previous 1000 pairs took 0.07 minutes.\n",
      "33,000 pairs clustered. The previous 1000 pairs took 0.17 minutes.\n",
      "34,000 pairs clustered. The previous 1000 pairs took 0.10 minutes.\n",
      "35,000 pairs clustered. The previous 1000 pairs took 0.07 minutes.\n",
      "36,000 pairs clustered. The previous 1000 pairs took 0.10 minutes.\n",
      "37,000 pairs clustered. The previous 1000 pairs took 0.07 minutes.\n",
      "38,000 pairs clustered. The previous 1000 pairs took 0.09 minutes.\n",
      "39,000 pairs clustered. The previous 1000 pairs took 0.17 minutes.\n",
      "40,000 pairs clustered. The previous 1000 pairs took 0.08 minutes.\n",
      "41,000 pairs clustered. The previous 1000 pairs took 0.06 minutes.\n",
      "42,000 pairs clustered. The previous 1000 pairs took 0.23 minutes.\n",
      "43,000 pairs clustered. The previous 1000 pairs took 0.17 minutes.\n",
      "44,000 pairs clustered. The previous 1000 pairs took 0.07 minutes.\n",
      "45,000 pairs clustered. The previous 1000 pairs took 0.09 minutes.\n",
      "46,000 pairs clustered. The previous 1000 pairs took 0.13 minutes.\n",
      "47,000 pairs clustered. The previous 1000 pairs took 0.13 minutes.\n",
      "48,000 pairs clustered. The previous 1000 pairs took 0.21 minutes.\n",
      "49,000 pairs clustered. The previous 1000 pairs took 0.17 minutes.\n",
      "50,000 pairs clustered. The previous 1000 pairs took 0.14 minutes.\n",
      "51,000 pairs clustered. The previous 1000 pairs took 0.11 minutes.\n",
      "52,000 pairs clustered. The previous 1000 pairs took 0.08 minutes.\n",
      "53,000 pairs clustered. The previous 1000 pairs took 0.18 minutes.\n",
      "54,000 pairs clustered. The previous 1000 pairs took 0.08 minutes.\n",
      "55,000 pairs clustered. The previous 1000 pairs took 0.08 minutes.\n",
      "56,000 pairs clustered. The previous 1000 pairs took 0.08 minutes.\n",
      "57,000 pairs clustered. The previous 1000 pairs took 0.12 minutes.\n",
      "58,000 pairs clustered. The previous 1000 pairs took 0.25 minutes.\n",
      "59,000 pairs clustered. The previous 1000 pairs took 0.08 minutes.\n",
      "60,000 pairs clustered. The previous 1000 pairs took 0.10 minutes.\n",
      "61,000 pairs clustered. The previous 1000 pairs took 0.11 minutes.\n",
      "62,000 pairs clustered. The previous 1000 pairs took 0.10 minutes.\n",
      "63,000 pairs clustered. The previous 1000 pairs took 0.08 minutes.\n",
      "64,000 pairs clustered. The previous 1000 pairs took 0.19 minutes.\n",
      "65,000 pairs clustered. The previous 1000 pairs took 0.15 minutes.\n",
      "67,000 pairs clustered. The previous 1000 pairs took 0.12 minutes.\n",
      "68,000 pairs clustered. The previous 1000 pairs took 0.11 minutes.\n",
      "69,000 pairs clustered. The previous 1000 pairs took 0.13 minutes.\n",
      "70,000 pairs clustered. The previous 1000 pairs took 0.12 minutes.\n",
      "71,000 pairs clustered. The previous 1000 pairs took 0.10 minutes.\n",
      "72,000 pairs clustered. The previous 1000 pairs took 0.17 minutes.\n",
      "73,000 pairs clustered. The previous 1000 pairs took 0.10 minutes.\n",
      "74,000 pairs clustered. The previous 1000 pairs took 0.11 minutes.\n",
      "75,000 pairs clustered. The previous 1000 pairs took 0.10 minutes.\n",
      "76,000 pairs clustered. The previous 1000 pairs took 0.17 minutes.\n",
      "77,000 pairs clustered. The previous 1000 pairs took 0.11 minutes.\n",
      "78,000 pairs clustered. The previous 1000 pairs took 0.12 minutes.\n",
      "79,000 pairs clustered. The previous 1000 pairs took 0.14 minutes.\n",
      "80,000 pairs clustered. The previous 1000 pairs took 0.10 minutes.\n",
      "81,000 pairs clustered. The previous 1000 pairs took 0.11 minutes.\n",
      "82,000 pairs clustered. The previous 1000 pairs took 0.16 minutes.\n",
      "83,000 pairs clustered. The previous 1000 pairs took 0.13 minutes.\n",
      "84,000 pairs clustered. The previous 1000 pairs took 0.11 minutes.\n",
      "85,000 pairs clustered. The previous 1000 pairs took 0.35 minutes.\n",
      "86,000 pairs clustered. The previous 1000 pairs took 0.09 minutes.\n",
      "87,000 pairs clustered. The previous 1000 pairs took 0.29 minutes.\n",
      "88,000 pairs clustered. The previous 1000 pairs took 0.11 minutes.\n",
      "89,000 pairs clustered. The previous 1000 pairs took 0.13 minutes.\n",
      "90,000 pairs clustered. The previous 1000 pairs took 0.16 minutes.\n",
      "91,000 pairs clustered. The previous 1000 pairs took 0.17 minutes.\n",
      "92,000 pairs clustered. The previous 1000 pairs took 0.12 minutes.\n",
      "93,000 pairs clustered. The previous 1000 pairs took 0.13 minutes.\n",
      "94,000 pairs clustered. The previous 1000 pairs took 0.10 minutes.\n",
      "95,000 pairs clustered. The previous 1000 pairs took 0.11 minutes.\n",
      "96,000 pairs clustered. The previous 1000 pairs took 0.19 minutes.\n",
      "97,000 pairs clustered. The previous 1000 pairs took 0.11 minutes.\n",
      "98,000 pairs clustered. The previous 1000 pairs took 0.13 minutes.\n",
      "99,000 pairs clustered. The previous 1000 pairs took 0.10 minutes.\n",
      "100,000 pairs clustered. The previous 1000 pairs took 0.13 minutes.\n",
      "101,000 pairs clustered. The previous 1000 pairs took 0.16 minutes.\n",
      "102,000 pairs clustered. The previous 1000 pairs took 0.11 minutes.\n",
      "103,000 pairs clustered. The previous 1000 pairs took 0.28 minutes.\n",
      "104,000 pairs clustered. The previous 1000 pairs took 0.11 minutes.\n",
      "105,000 pairs clustered. The previous 1000 pairs took 0.17 minutes.\n",
      "106,000 pairs clustered. The previous 1000 pairs took 0.17 minutes.\n",
      "107,000 pairs clustered. The previous 1000 pairs took 0.11 minutes.\n",
      "108,000 pairs clustered. The previous 1000 pairs took 0.16 minutes.\n",
      "109,000 pairs clustered. The previous 1000 pairs took 0.15 minutes.\n",
      "110,000 pairs clustered. The previous 1000 pairs took 0.13 minutes.\n",
      "111,000 pairs clustered. The previous 1000 pairs took 0.17 minutes.\n",
      "112,000 pairs clustered. The previous 1000 pairs took 0.17 minutes.\n",
      "113,000 pairs clustered. The previous 1000 pairs took 0.20 minutes.\n",
      "114,000 pairs clustered. The previous 1000 pairs took 0.20 minutes.\n",
      "115,000 pairs clustered. The previous 1000 pairs took 0.24 minutes.\n",
      "116,000 pairs clustered. The previous 1000 pairs took 0.16 minutes.\n",
      "117,000 pairs clustered. The previous 1000 pairs took 0.13 minutes.\n",
      "118,000 pairs clustered. The previous 1000 pairs took 0.27 minutes.\n",
      "119,000 pairs clustered. The previous 1000 pairs took 0.50 minutes.\n",
      "120,000 pairs clustered. The previous 1000 pairs took 0.12 minutes.\n",
      "121,000 pairs clustered. The previous 1000 pairs took 0.12 minutes.\n",
      "122,000 pairs clustered. The previous 1000 pairs took 0.14 minutes.\n",
      "123,000 pairs clustered. The previous 1000 pairs took 0.13 minutes.\n",
      "124,000 pairs clustered. The previous 1000 pairs took 0.12 minutes.\n",
      "125,000 pairs clustered. The previous 1000 pairs took 0.17 minutes.\n",
      "126,000 pairs clustered. The previous 1000 pairs took 0.14 minutes.\n",
      "127,000 pairs clustered. The previous 1000 pairs took 0.21 minutes.\n",
      "128,000 pairs clustered. The previous 1000 pairs took 0.12 minutes.\n",
      "129,000 pairs clustered. The previous 1000 pairs took 0.13 minutes.\n",
      "130,000 pairs clustered. The previous 1000 pairs took 0.18 minutes.\n",
      "131,000 pairs clustered. The previous 1000 pairs took 0.33 minutes.\n",
      "132,000 pairs clustered. The previous 1000 pairs took 0.17 minutes.\n",
      "133,000 pairs clustered. The previous 1000 pairs took 0.14 minutes.\n",
      "134,000 pairs clustered. The previous 1000 pairs took 0.27 minutes.\n",
      "135,000 pairs clustered. The previous 1000 pairs took 0.21 minutes.\n",
      "136,000 pairs clustered. The previous 1000 pairs took 0.17 minutes.\n",
      "137,000 pairs clustered. The previous 1000 pairs took 0.15 minutes.\n",
      "138,000 pairs clustered. The previous 1000 pairs took 0.16 minutes.\n",
      "139,000 pairs clustered. The previous 1000 pairs took 0.13 minutes.\n",
      "140,000 pairs clustered. The previous 1000 pairs took 0.13 minutes.\n",
      "141,000 pairs clustered. The previous 1000 pairs took 0.15 minutes.\n",
      "142,000 pairs clustered. The previous 1000 pairs took 0.14 minutes.\n",
      "143,000 pairs clustered. The previous 1000 pairs took 0.15 minutes.\n",
      "144,000 pairs clustered. The previous 1000 pairs took 0.20 minutes.\n",
      "145,000 pairs clustered. The previous 1000 pairs took 0.17 minutes.\n",
      "146,000 pairs clustered. The previous 1000 pairs took 0.16 minutes.\n",
      "147,000 pairs clustered. The previous 1000 pairs took 0.18 minutes.\n",
      "148,000 pairs clustered. The previous 1000 pairs took 0.18 minutes.\n",
      "149,000 pairs clustered. The previous 1000 pairs took 0.17 minutes.\n",
      "151,000 pairs clustered. The previous 1000 pairs took 0.17 minutes.\n",
      "152,000 pairs clustered. The previous 1000 pairs took 0.17 minutes.\n",
      "153,000 pairs clustered. The previous 1000 pairs took 0.34 minutes.\n",
      "154,000 pairs clustered. The previous 1000 pairs took 0.15 minutes.\n",
      "155,000 pairs clustered. The previous 1000 pairs took 0.15 minutes.\n",
      "156,000 pairs clustered. The previous 1000 pairs took 0.17 minutes.\n",
      "157,000 pairs clustered. The previous 1000 pairs took 0.16 minutes.\n",
      "158,000 pairs clustered. The previous 1000 pairs took 0.21 minutes.\n",
      "159,000 pairs clustered. The previous 1000 pairs took 0.19 minutes.\n",
      "160,000 pairs clustered. The previous 1000 pairs took 0.17 minutes.\n",
      "161,000 pairs clustered. The previous 1000 pairs took 0.20 minutes.\n",
      "163,000 pairs clustered. The previous 1000 pairs took 0.15 minutes.\n",
      "164,000 pairs clustered. The previous 1000 pairs took 0.17 minutes.\n",
      "165,000 pairs clustered. The previous 1000 pairs took 0.20 minutes.\n",
      "166,000 pairs clustered. The previous 1000 pairs took 0.20 minutes.\n",
      "167,000 pairs clustered. The previous 1000 pairs took 0.19 minutes.\n",
      "168,000 pairs clustered. The previous 1000 pairs took 0.18 minutes.\n",
      "169,000 pairs clustered. The previous 1000 pairs took 0.33 minutes.\n",
      "170,000 pairs clustered. The previous 1000 pairs took 0.45 minutes.\n",
      "171,000 pairs clustered. The previous 1000 pairs took 0.18 minutes.\n",
      "172,000 pairs clustered. The previous 1000 pairs took 0.21 minutes.\n",
      "173,000 pairs clustered. The previous 1000 pairs took 0.18 minutes.\n",
      "174,000 pairs clustered. The previous 1000 pairs took 0.20 minutes.\n",
      "175,000 pairs clustered. The previous 1000 pairs took 0.22 minutes.\n",
      "176,000 pairs clustered. The previous 1000 pairs took 0.25 minutes.\n",
      "177,000 pairs clustered. The previous 1000 pairs took 0.20 minutes.\n",
      "178,000 pairs clustered. The previous 1000 pairs took 0.19 minutes.\n",
      "179,000 pairs clustered. The previous 1000 pairs took 0.32 minutes.\n",
      "180,000 pairs clustered. The previous 1000 pairs took 0.18 minutes.\n",
      "182,000 pairs clustered. The previous 1000 pairs took 0.19 minutes.\n",
      "183,000 pairs clustered. The previous 1000 pairs took 0.21 minutes.\n",
      "184,000 pairs clustered. The previous 1000 pairs took 0.18 minutes.\n",
      "185,000 pairs clustered. The previous 1000 pairs took 0.25 minutes.\n",
      "186,000 pairs clustered. The previous 1000 pairs took 0.25 minutes.\n",
      "187,000 pairs clustered. The previous 1000 pairs took 0.18 minutes.\n",
      "188,000 pairs clustered. The previous 1000 pairs took 0.25 minutes.\n",
      "189,000 pairs clustered. The previous 1000 pairs took 0.22 minutes.\n",
      "190,000 pairs clustered. The previous 1000 pairs took 0.21 minutes.\n",
      "191,000 pairs clustered. The previous 1000 pairs took 0.32 minutes.\n",
      "192,000 pairs clustered. The previous 1000 pairs took 0.19 minutes.\n",
      "193,000 pairs clustered. The previous 1000 pairs took 0.23 minutes.\n",
      "194,000 pairs clustered. The previous 1000 pairs took 0.43 minutes.\n",
      "195,000 pairs clustered. The previous 1000 pairs took 0.25 minutes.\n",
      "196,000 pairs clustered. The previous 1000 pairs took 0.20 minutes.\n",
      "197,000 pairs clustered. The previous 1000 pairs took 0.21 minutes.\n",
      "198,000 pairs clustered. The previous 1000 pairs took 0.25 minutes.\n",
      "199,000 pairs clustered. The previous 1000 pairs took 0.20 minutes.\n",
      "200,000 pairs clustered. The previous 1000 pairs took 0.20 minutes.\n",
      "201,000 pairs clustered. The previous 1000 pairs took 0.19 minutes.\n",
      "202,000 pairs clustered. The previous 1000 pairs took 0.22 minutes.\n",
      "203,000 pairs clustered. The previous 1000 pairs took 0.39 minutes.\n",
      "205,000 pairs clustered. The previous 1000 pairs took 0.25 minutes.\n",
      "206,000 pairs clustered. The previous 1000 pairs took 0.25 minutes.\n",
      "207,000 pairs clustered. The previous 1000 pairs took 0.21 minutes.\n",
      "208,000 pairs clustered. The previous 1000 pairs took 0.19 minutes.\n",
      "209,000 pairs clustered. The previous 1000 pairs took 0.21 minutes.\n",
      "210,000 pairs clustered. The previous 1000 pairs took 0.32 minutes.\n",
      "212,000 pairs clustered. The previous 1000 pairs took 0.20 minutes.\n",
      "213,000 pairs clustered. The previous 1000 pairs took 0.21 minutes.\n",
      "214,000 pairs clustered. The previous 1000 pairs took 0.21 minutes.\n",
      "215,000 pairs clustered. The previous 1000 pairs took 0.30 minutes.\n",
      "216,000 pairs clustered. The previous 1000 pairs took 0.21 minutes.\n",
      "217,000 pairs clustered. The previous 1000 pairs took 0.20 minutes.\n",
      "218,000 pairs clustered. The previous 1000 pairs took 0.27 minutes.\n",
      "219,000 pairs clustered. The previous 1000 pairs took 0.24 minutes.\n",
      "220,000 pairs clustered. The previous 1000 pairs took 0.23 minutes.\n",
      "221,000 pairs clustered. The previous 1000 pairs took 0.21 minutes.\n",
      "222,000 pairs clustered. The previous 1000 pairs took 0.27 minutes.\n",
      "223,000 pairs clustered. The previous 1000 pairs took 0.22 minutes.\n",
      "224,000 pairs clustered. The previous 1000 pairs took 0.26 minutes.\n",
      "225,000 pairs clustered. The previous 1000 pairs took 0.25 minutes.\n",
      "226,000 pairs clustered. The previous 1000 pairs took 0.25 minutes.\n",
      "227,000 pairs clustered. The previous 1000 pairs took 0.24 minutes.\n",
      "228,000 pairs clustered. The previous 1000 pairs took 0.29 minutes.\n",
      "229,000 pairs clustered. The previous 1000 pairs took 0.45 minutes.\n",
      "230,000 pairs clustered. The previous 1000 pairs took 0.38 minutes.\n",
      "231,000 pairs clustered. The previous 1000 pairs took 0.29 minutes.\n",
      "232,000 pairs clustered. The previous 1000 pairs took 0.26 minutes.\n",
      "233,000 pairs clustered. The previous 1000 pairs took 0.33 minutes.\n",
      "234,000 pairs clustered. The previous 1000 pairs took 0.28 minutes.\n",
      "235,000 pairs clustered. The previous 1000 pairs took 0.24 minutes.\n",
      "236,000 pairs clustered. The previous 1000 pairs took 0.27 minutes.\n",
      "237,000 pairs clustered. The previous 1000 pairs took 0.27 minutes.\n",
      "238,000 pairs clustered. The previous 1000 pairs took 0.34 minutes.\n",
      "239,000 pairs clustered. The previous 1000 pairs took 0.29 minutes.\n",
      "240,000 pairs clustered. The previous 1000 pairs took 0.28 minutes.\n",
      "241,000 pairs clustered. The previous 1000 pairs took 0.29 minutes.\n",
      "242,000 pairs clustered. The previous 1000 pairs took 0.31 minutes.\n",
      "243,000 pairs clustered. The previous 1000 pairs took 0.31 minutes.\n",
      "244,000 pairs clustered. The previous 1000 pairs took 0.29 minutes.\n",
      "245,000 pairs clustered. The previous 1000 pairs took 0.28 minutes.\n",
      "246,000 pairs clustered. The previous 1000 pairs took 0.49 minutes.\n",
      "247,000 pairs clustered. The previous 1000 pairs took 0.31 minutes.\n",
      "248,000 pairs clustered. The previous 1000 pairs took 0.33 minutes.\n",
      "249,000 pairs clustered. The previous 1000 pairs took 0.41 minutes.\n",
      "250,000 pairs clustered. The previous 1000 pairs took 0.29 minutes.\n",
      "251,000 pairs clustered. The previous 1000 pairs took 0.32 minutes.\n",
      "252,000 pairs clustered. The previous 1000 pairs took 0.30 minutes.\n",
      "253,000 pairs clustered. The previous 1000 pairs took 0.34 minutes.\n",
      "254,000 pairs clustered. The previous 1000 pairs took 0.28 minutes.\n",
      "255,000 pairs clustered. The previous 1000 pairs took 0.31 minutes.\n",
      "256,000 pairs clustered. The previous 1000 pairs took 0.30 minutes.\n",
      "257,000 pairs clustered. The previous 1000 pairs took 0.79 minutes.\n",
      "258,000 pairs clustered. The previous 1000 pairs took 0.28 minutes.\n",
      "259,000 pairs clustered. The previous 1000 pairs took 0.31 minutes.\n",
      "260,000 pairs clustered. The previous 1000 pairs took 0.28 minutes.\n",
      "261,000 pairs clustered. The previous 1000 pairs took 0.30 minutes.\n",
      "262,000 pairs clustered. The previous 1000 pairs took 0.32 minutes.\n",
      "263,000 pairs clustered. The previous 1000 pairs took 0.33 minutes.\n",
      "264,000 pairs clustered. The previous 1000 pairs took 0.30 minutes.\n",
      "265,000 pairs clustered. The previous 1000 pairs took 0.30 minutes.\n",
      "266,000 pairs clustered. The previous 1000 pairs took 0.33 minutes.\n",
      "267,000 pairs clustered. The previous 1000 pairs took 0.29 minutes.\n",
      "268,000 pairs clustered. The previous 1000 pairs took 0.33 minutes.\n",
      "269,000 pairs clustered. The previous 1000 pairs took 0.35 minutes.\n",
      "270,000 pairs clustered. The previous 1000 pairs took 0.32 minutes.\n",
      "271,000 pairs clustered. The previous 1000 pairs took 0.30 minutes.\n",
      "273,000 pairs clustered. The previous 1000 pairs took 0.33 minutes.\n",
      "275,000 pairs clustered. The previous 1000 pairs took 0.33 minutes.\n",
      "276,000 pairs clustered. The previous 1000 pairs took 0.46 minutes.\n",
      "277,000 pairs clustered. The previous 1000 pairs took 0.52 minutes.\n",
      "278,000 pairs clustered. The previous 1000 pairs took 0.33 minutes.\n",
      "279,000 pairs clustered. The previous 1000 pairs took 0.34 minutes.\n",
      "280,000 pairs clustered. The previous 1000 pairs took 0.43 minutes.\n",
      "281,000 pairs clustered. The previous 1000 pairs took 0.33 minutes.\n",
      "282,000 pairs clustered. The previous 1000 pairs took 0.34 minutes.\n",
      "283,000 pairs clustered. The previous 1000 pairs took 0.31 minutes.\n",
      "284,000 pairs clustered. The previous 1000 pairs took 0.32 minutes.\n",
      "285,000 pairs clustered. The previous 1000 pairs took 0.33 minutes.\n",
      "286,000 pairs clustered. The previous 1000 pairs took 0.34 minutes.\n",
      "288,000 pairs clustered. The previous 1000 pairs took 0.36 minutes.\n",
      "289,000 pairs clustered. The previous 1000 pairs took 0.34 minutes.\n",
      "290,000 pairs clustered. The previous 1000 pairs took 0.31 minutes.\n",
      "291,000 pairs clustered. The previous 1000 pairs took 0.33 minutes.\n",
      "292,000 pairs clustered. The previous 1000 pairs took 0.34 minutes.\n",
      "293,000 pairs clustered. The previous 1000 pairs took 0.51 minutes.\n",
      "294,000 pairs clustered. The previous 1000 pairs took 0.33 minutes.\n",
      "295,000 pairs clustered. The previous 1000 pairs took 0.38 minutes.\n",
      "296,000 pairs clustered. The previous 1000 pairs took 0.32 minutes.\n",
      "297,000 pairs clustered. The previous 1000 pairs took 0.33 minutes.\n",
      "298,000 pairs clustered. The previous 1000 pairs took 0.34 minutes.\n",
      "299,000 pairs clustered. The previous 1000 pairs took 0.39 minutes.\n",
      "300,000 pairs clustered. The previous 1000 pairs took 0.39 minutes.\n",
      "301,000 pairs clustered. The previous 1000 pairs took 0.36 minutes.\n",
      "302,000 pairs clustered. The previous 1000 pairs took 0.35 minutes.\n",
      "303,000 pairs clustered. The previous 1000 pairs took 0.33 minutes.\n",
      "304,000 pairs clustered. The previous 1000 pairs took 0.34 minutes.\n",
      "305,000 pairs clustered. The previous 1000 pairs took 0.39 minutes.\n",
      "306,000 pairs clustered. The previous 1000 pairs took 0.33 minutes.\n",
      "307,000 pairs clustered. The previous 1000 pairs took 0.35 minutes.\n",
      "308,000 pairs clustered. The previous 1000 pairs took 0.44 minutes.\n",
      "309,000 pairs clustered. The previous 1000 pairs took 0.33 minutes.\n",
      "310,000 pairs clustered. The previous 1000 pairs took 0.35 minutes.\n",
      "311,000 pairs clustered. The previous 1000 pairs took 0.35 minutes.\n",
      "312,000 pairs clustered. The previous 1000 pairs took 0.32 minutes.\n",
      "313,000 pairs clustered. The previous 1000 pairs took 0.35 minutes.\n",
      "315,000 pairs clustered. The previous 1000 pairs took 0.55 minutes.\n",
      "316,000 pairs clustered. The previous 1000 pairs took 0.36 minutes.\n",
      "317,000 pairs clustered. The previous 1000 pairs took 0.38 minutes.\n",
      "318,000 pairs clustered. The previous 1000 pairs took 0.47 minutes.\n",
      "319,000 pairs clustered. The previous 1000 pairs took 0.67 minutes.\n",
      "320,000 pairs clustered. The previous 1000 pairs took 0.43 minutes.\n",
      "321,000 pairs clustered. The previous 1000 pairs took 0.45 minutes.\n",
      "322,000 pairs clustered. The previous 1000 pairs took 0.47 minutes.\n",
      "323,000 pairs clustered. The previous 1000 pairs took 0.45 minutes.\n",
      "324,000 pairs clustered. The previous 1000 pairs took 0.47 minutes.\n",
      "325,000 pairs clustered. The previous 1000 pairs took 0.47 minutes.\n",
      "326,000 pairs clustered. The previous 1000 pairs took 0.53 minutes.\n",
      "327,000 pairs clustered. The previous 1000 pairs took 0.49 minutes.\n",
      "328,000 pairs clustered. The previous 1000 pairs took 0.47 minutes.\n",
      "329,000 pairs clustered. The previous 1000 pairs took 0.47 minutes.\n",
      "330,000 pairs clustered. The previous 1000 pairs took 0.47 minutes.\n",
      "331,000 pairs clustered. The previous 1000 pairs took 0.46 minutes.\n",
      "333,000 pairs clustered. The previous 1000 pairs took 0.47 minutes.\n",
      "334,000 pairs clustered. The previous 1000 pairs took 0.48 minutes.\n",
      "335,000 pairs clustered. The previous 1000 pairs took 0.67 minutes.\n",
      "336,000 pairs clustered. The previous 1000 pairs took 0.48 minutes.\n",
      "337,000 pairs clustered. The previous 1000 pairs took 0.45 minutes.\n",
      "338,000 pairs clustered. The previous 1000 pairs took 0.45 minutes.\n",
      "339,000 pairs clustered. The previous 1000 pairs took 0.48 minutes.\n",
      "340,000 pairs clustered. The previous 1000 pairs took 0.50 minutes.\n",
      "341,000 pairs clustered. The previous 1000 pairs took 0.47 minutes.\n",
      "342,000 pairs clustered. The previous 1000 pairs took 0.50 minutes.\n",
      "Total time to cluster dates: 1.35 hours\n"
     ]
    }
   ],
   "source": [
    "exports_lf = cluster_dates(exports_lf, direction='export');"
   ]
  },
  {
   "cell_type": "code",
   "execution_count": 17,
   "metadata": {},
   "outputs": [
    {
     "data": {
      "text/html": [
       "<div><style>\n",
       ".dataframe > thead > tr,\n",
       ".dataframe > tbody > tr {\n",
       "  text-align: right;\n",
       "  white-space: pre-wrap;\n",
       "}\n",
       "</style>\n",
       "<small>shape: (9, 26)</small><table border=\"1\" class=\"dataframe\"><thead><tr><th>statistic</th><th>teus</th><th>date</th><th>origin_territory</th><th>origin_region</th><th>arrival_port_code</th><th>arrival_port_name</th><th>departure_port_code</th><th>departure_port_name</th><th>coast_region</th><th>hs_code</th><th>carrier_name</th><th>carrier_scac</th><th>vessel_name</th><th>voyage_number</th><th>vessel_id</th><th>direction</th><th>bol_id</th><th>year</th><th>month</th><th>lane_id</th><th>lane_name</th><th>unified_carrier_name</th><th>unified_carrier_scac</th><th>vessel_lane_pair</th><th>date_arrival</th></tr><tr><td>str</td><td>f64</td><td>str</td><td>str</td><td>str</td><td>str</td><td>str</td><td>str</td><td>str</td><td>str</td><td>str</td><td>str</td><td>str</td><td>str</td><td>str</td><td>f64</td><td>str</td><td>str</td><td>f64</td><td>str</td><td>str</td><td>str</td><td>str</td><td>str</td><td>str</td><td>str</td></tr></thead><tbody><tr><td>&quot;count&quot;</td><td>8.6113326e7</td><td>&quot;86113326&quot;</td><td>&quot;85785875&quot;</td><td>&quot;85785875&quot;</td><td>&quot;86113326&quot;</td><td>&quot;86113326&quot;</td><td>&quot;86113326&quot;</td><td>&quot;86113326&quot;</td><td>&quot;86113326&quot;</td><td>&quot;86113203&quot;</td><td>&quot;86040127&quot;</td><td>&quot;86113326&quot;</td><td>&quot;86113326&quot;</td><td>&quot;86005420&quot;</td><td>8.6113326e7</td><td>&quot;86113326&quot;</td><td>&quot;86113326&quot;</td><td>8.6113326e7</td><td>&quot;86113326&quot;</td><td>&quot;86113326&quot;</td><td>&quot;86113326&quot;</td><td>&quot;86112656&quot;</td><td>&quot;86113326&quot;</td><td>&quot;86113326&quot;</td><td>&quot;86103685&quot;</td></tr><tr><td>&quot;null_count&quot;</td><td>0.0</td><td>&quot;0&quot;</td><td>&quot;327451&quot;</td><td>&quot;327451&quot;</td><td>&quot;0&quot;</td><td>&quot;0&quot;</td><td>&quot;0&quot;</td><td>&quot;0&quot;</td><td>&quot;0&quot;</td><td>&quot;123&quot;</td><td>&quot;73199&quot;</td><td>&quot;0&quot;</td><td>&quot;0&quot;</td><td>&quot;107906&quot;</td><td>0.0</td><td>&quot;0&quot;</td><td>&quot;0&quot;</td><td>0.0</td><td>&quot;0&quot;</td><td>&quot;0&quot;</td><td>&quot;0&quot;</td><td>&quot;670&quot;</td><td>&quot;0&quot;</td><td>&quot;0&quot;</td><td>&quot;9641&quot;</td></tr><tr><td>&quot;mean&quot;</td><td>2.176424</td><td>&quot;2015-10-30 00:…</td><td>null</td><td>null</td><td>null</td><td>null</td><td>null</td><td>null</td><td>null</td><td>null</td><td>null</td><td>null</td><td>null</td><td>null</td><td>9.3702e6</td><td>null</td><td>null</td><td>2015.321737</td><td>null</td><td>null</td><td>null</td><td>null</td><td>null</td><td>null</td><td>&quot;2015-10-27 16:…</td></tr><tr><td>&quot;std&quot;</td><td>2.729244</td><td>null</td><td>null</td><td>null</td><td>null</td><td>null</td><td>null</td><td>null</td><td>null</td><td>null</td><td>null</td><td>null</td><td>null</td><td>null</td><td>227908.681253</td><td>null</td><td>null</td><td>5.219697</td><td>null</td><td>null</td><td>null</td><td>null</td><td>null</td><td>null</td><td>null</td></tr><tr><td>&quot;min&quot;</td><td>0.01</td><td>&quot;2005-01-01 00:…</td><td>null</td><td>null</td><td>null</td><td>null</td><td>null</td><td>null</td><td>null</td><td>&quot;-1&quot;</td><td>null</td><td>null</td><td>&quot;102 SUNG SHIN&quot;</td><td>&quot;0&quot;</td><td>517734.0</td><td>null</td><td>&quot;-1_CSHSE000999…</td><td>2005.0</td><td>&quot;200501&quot;</td><td>null</td><td>null</td><td>null</td><td>null</td><td>null</td><td>&quot;2005-01-01 00:…</td></tr><tr><td>&quot;25%&quot;</td><td>1.75</td><td>&quot;2011-11-10 00:…</td><td>null</td><td>null</td><td>null</td><td>null</td><td>null</td><td>null</td><td>null</td><td>null</td><td>null</td><td>null</td><td>null</td><td>null</td><td>9.262728e6</td><td>null</td><td>null</td><td>2011.0</td><td>null</td><td>null</td><td>null</td><td>null</td><td>null</td><td>null</td><td>&quot;2011-11-07 00:…</td></tr><tr><td>&quot;50%&quot;</td><td>2.176144</td><td>&quot;2016-03-07 00:…</td><td>null</td><td>null</td><td>null</td><td>null</td><td>null</td><td>null</td><td>null</td><td>null</td><td>null</td><td>null</td><td>null</td><td>null</td><td>9.337925e6</td><td>null</td><td>null</td><td>2016.0</td><td>null</td><td>null</td><td>null</td><td>null</td><td>null</td><td>null</td><td>&quot;2016-03-02 00:…</td></tr><tr><td>&quot;75%&quot;</td><td>2.176144</td><td>&quot;2020-07-17 00:…</td><td>null</td><td>null</td><td>null</td><td>null</td><td>null</td><td>null</td><td>null</td><td>null</td><td>null</td><td>null</td><td>null</td><td>null</td><td>9.46831e6</td><td>null</td><td>null</td><td>2020.0</td><td>null</td><td>null</td><td>null</td><td>null</td><td>null</td><td>null</td><td>&quot;2020-07-15 00:…</td></tr><tr><td>&quot;max&quot;</td><td>1730.75</td><td>&quot;2023-11-30 00:…</td><td>null</td><td>null</td><td>null</td><td>null</td><td>null</td><td>null</td><td>null</td><td>&quot;ddedo&quot;</td><td>null</td><td>null</td><td>&quot;ZUMA&quot;</td><td>&quot;ZZC2&quot;</td><td>9.970442e6</td><td>null</td><td>&quot;zimu_ZIMUSNT90…</td><td>2023.0</td><td>&quot;202311&quot;</td><td>null</td><td>null</td><td>null</td><td>null</td><td>null</td><td>&quot;2023-11-30 00:…</td></tr></tbody></table></div>"
      ],
      "text/plain": [
       "shape: (9, 26)\n",
       "┌───────────┬───────────┬───────────┬───────────┬───┬───────────┬───────────┬───────────┬──────────┐\n",
       "│ statistic ┆ teus      ┆ date      ┆ origin_te ┆ … ┆ unified_c ┆ unified_c ┆ vessel_la ┆ date_arr │\n",
       "│ ---       ┆ ---       ┆ ---       ┆ rritory   ┆   ┆ arrier_na ┆ arrier_sc ┆ ne_pair   ┆ ival     │\n",
       "│ str       ┆ f64       ┆ str       ┆ ---       ┆   ┆ me        ┆ ac        ┆ ---       ┆ ---      │\n",
       "│           ┆           ┆           ┆ str       ┆   ┆ ---       ┆ ---       ┆ str       ┆ str      │\n",
       "│           ┆           ┆           ┆           ┆   ┆ str       ┆ str       ┆           ┆          │\n",
       "╞═══════════╪═══════════╪═══════════╪═══════════╪═══╪═══════════╪═══════════╪═══════════╪══════════╡\n",
       "│ count     ┆ 8.6113326 ┆ 86113326  ┆ 85785875  ┆ … ┆ 86112656  ┆ 86113326  ┆ 86113326  ┆ 86103685 │\n",
       "│           ┆ e7        ┆           ┆           ┆   ┆           ┆           ┆           ┆          │\n",
       "│ null_coun ┆ 0.0       ┆ 0         ┆ 327451    ┆ … ┆ 670       ┆ 0         ┆ 0         ┆ 9641     │\n",
       "│ t         ┆           ┆           ┆           ┆   ┆           ┆           ┆           ┆          │\n",
       "│ mean      ┆ 2.176424  ┆ 2015-10-3 ┆ null      ┆ … ┆ null      ┆ null      ┆ null      ┆ 2015-10- │\n",
       "│           ┆           ┆ 0 00:53:5 ┆           ┆   ┆           ┆           ┆           ┆ 27 16:43 │\n",
       "│           ┆           ┆ 6.863869  ┆           ┆   ┆           ┆           ┆           ┆ :07.5334 │\n",
       "│           ┆           ┆           ┆           ┆   ┆           ┆           ┆           ┆ 65       │\n",
       "│ std       ┆ 2.729244  ┆ null      ┆ null      ┆ … ┆ null      ┆ null      ┆ null      ┆ null     │\n",
       "│ min       ┆ 0.01      ┆ 2005-01-0 ┆ null      ┆ … ┆ null      ┆ null      ┆ null      ┆ 2005-01- │\n",
       "│           ┆           ┆ 1         ┆           ┆   ┆           ┆           ┆           ┆ 01       │\n",
       "│           ┆           ┆ 00:00:00  ┆           ┆   ┆           ┆           ┆           ┆ 00:00:00 │\n",
       "│ 25%       ┆ 1.75      ┆ 2011-11-1 ┆ null      ┆ … ┆ null      ┆ null      ┆ null      ┆ 2011-11- │\n",
       "│           ┆           ┆ 0         ┆           ┆   ┆           ┆           ┆           ┆ 07       │\n",
       "│           ┆           ┆ 00:00:00  ┆           ┆   ┆           ┆           ┆           ┆ 00:00:00 │\n",
       "│ 50%       ┆ 2.176144  ┆ 2016-03-0 ┆ null      ┆ … ┆ null      ┆ null      ┆ null      ┆ 2016-03- │\n",
       "│           ┆           ┆ 7         ┆           ┆   ┆           ┆           ┆           ┆ 02       │\n",
       "│           ┆           ┆ 00:00:00  ┆           ┆   ┆           ┆           ┆           ┆ 00:00:00 │\n",
       "│ 75%       ┆ 2.176144  ┆ 2020-07-1 ┆ null      ┆ … ┆ null      ┆ null      ┆ null      ┆ 2020-07- │\n",
       "│           ┆           ┆ 7         ┆           ┆   ┆           ┆           ┆           ┆ 15       │\n",
       "│           ┆           ┆ 00:00:00  ┆           ┆   ┆           ┆           ┆           ┆ 00:00:00 │\n",
       "│ max       ┆ 1730.75   ┆ 2023-11-3 ┆ null      ┆ … ┆ null      ┆ null      ┆ null      ┆ 2023-11- │\n",
       "│           ┆           ┆ 0         ┆           ┆   ┆           ┆           ┆           ┆ 30       │\n",
       "│           ┆           ┆ 00:00:00  ┆           ┆   ┆           ┆           ┆           ┆ 00:00:00 │\n",
       "└───────────┴───────────┴───────────┴───────────┴───┴───────────┴───────────┴───────────┴──────────┘"
      ]
     },
     "execution_count": 17,
     "metadata": {},
     "output_type": "execute_result"
    }
   ],
   "source": [
    "imports_lf.describe()"
   ]
  },
  {
   "cell_type": "markdown",
   "metadata": {},
   "source": [
    "## Write to Parquet"
   ]
  },
  {
   "cell_type": "code",
   "execution_count": 18,
   "metadata": {},
   "outputs": [
    {
     "name": "stdout",
     "output_type": "stream",
     "text": [
      "Collecting 2005 dataframe...\n",
      "Writing 2005 data to parquet...\n",
      "Collecting 2006 dataframe...\n",
      "Writing 2006 data to parquet...\n",
      "Collecting 2007 dataframe...\n",
      "Writing 2007 data to parquet...\n",
      "Collecting 2008 dataframe...\n",
      "Writing 2008 data to parquet...\n",
      "Collecting 2009 dataframe...\n",
      "Writing 2009 data to parquet...\n",
      "Collecting 2010 dataframe...\n",
      "Writing 2010 data to parquet...\n",
      "Collecting 2011 dataframe...\n",
      "Writing 2011 data to parquet...\n",
      "Collecting 2012 dataframe...\n",
      "Writing 2012 data to parquet...\n",
      "Collecting 2013 dataframe...\n",
      "Writing 2013 data to parquet...\n",
      "Collecting 2014 dataframe...\n",
      "Writing 2014 data to parquet...\n",
      "Collecting 2015 dataframe...\n",
      "Writing 2015 data to parquet...\n",
      "Collecting 2016 dataframe...\n",
      "Writing 2016 data to parquet...\n",
      "Collecting 2017 dataframe...\n",
      "Writing 2017 data to parquet...\n",
      "Collecting 2018 dataframe...\n",
      "Writing 2018 data to parquet...\n",
      "Collecting 2019 dataframe...\n",
      "Writing 2019 data to parquet...\n",
      "Collecting 2020 dataframe...\n",
      "Writing 2020 data to parquet...\n",
      "Collecting 2021 dataframe...\n",
      "Writing 2021 data to parquet...\n",
      "Collecting 2022 dataframe...\n",
      "Writing 2022 data to parquet...\n",
      "Collecting 2023 dataframe...\n",
      "Writing 2023 data to parquet...\n",
      "Imports data written to parquet\n",
      "Total time to write imports: 0.22 hours\n"
     ]
    }
   ],
   "source": [
    "#get years\n",
    "years = pl.arange(2005,2024, eager=True)\n",
    "\n",
    "start = time.time()\n",
    "\n",
    "for year in years:\n",
    "    print('Collecting {} dataframe...'.format(year))\n",
    "    df = (\n",
    "        imports_lf\n",
    "        .filter(pl.col('year')==year)\n",
    "        .collect()\n",
    "    )\n",
    "    print('Writing {} data to parquet...'.format(year))\n",
    "    df.write_parquet(file='data/imports/imports_'+str(year)+'.parquet')\n",
    "print('Imports data written to parquet')\n",
    "runtime = time.time() - start\n",
    "print('Total time to write imports: {:.2f} hours'.format(runtime/3600))"
   ]
  },
  {
   "cell_type": "code",
   "execution_count": 19,
   "metadata": {},
   "outputs": [
    {
     "name": "stdout",
     "output_type": "stream",
     "text": [
      "Collecting exports data...\n",
      "Writing exports data to parquet...\n",
      "Exports data written to parquet.\n",
      "Total time to write exports: 0.01 hours\n"
     ]
    }
   ],
   "source": [
    "start = time.time()\n",
    "print('Collecting exports data...')\n",
    "df = exports_lf.collect()\n",
    "print('Writing exports data to parquet...')\n",
    "df.write_parquet('data/exports/exports.parquet')\n",
    "del df\n",
    "print('Exports data written to parquet.')\n",
    "runtime = time.time() - start\n",
    "print('Total time to write exports: {:.2f} hours'.format(runtime/3600))"
   ]
  },
  {
   "cell_type": "markdown",
   "metadata": {},
   "source": [
    "## Limitations\n",
    "\n",
    "- voyage identification\n",
    "    - Ideally, a voyage would be defined by a vessel visiting a set of departure ports (e.g. Hong Kong, Beijing, and Tokyo) to pick up cargo and then delivering them to a set of arrival ports (e.g. Seattle, San Francisco, and Los Angeles). This way, we could measure the relative volumnes from each carrier actually on the ship during the main transit rather than only the relative volumes related to the specific lane. \n",
    "- missing data\n",
    "    - volume data missing from the first half of the dataset is problematic, and our current method of filling with the mean links volumnes to the number of BOLs. "
   ]
  }
 ],
 "metadata": {
  "kernelspec": {
   "display_name": "wsu",
   "language": "python",
   "name": "python3"
  },
  "language_info": {
   "codemirror_mode": {
    "name": "ipython",
    "version": 3
   },
   "file_extension": ".py",
   "mimetype": "text/x-python",
   "name": "python",
   "nbconvert_exporter": "python",
   "pygments_lexer": "ipython3",
   "version": "3.12.0"
  }
 },
 "nbformat": 4,
 "nbformat_minor": 2
}
