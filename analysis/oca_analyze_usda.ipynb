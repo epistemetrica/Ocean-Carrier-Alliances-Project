{
 "cells": [
  {
   "cell_type": "markdown",
   "metadata": {},
   "source": [
    "# Ocean Carrier Alliances - Data Analysis for USDA Report\n",
    "\n",
    "This notebook analyses data on maritime container shipping to inspect the impacts of strategic alliances between ocean freight carriers (Ocean Carrier Alliances, OCAs) on the containerized agricultural export market in the US. Data are pre-processed in the oca_data_prep notebook; see the [project repo](https://github.com/epistemetrica/Ocean-Carrier-Alliances-Project) for full details. "
   ]
  },
  {
   "cell_type": "code",
   "execution_count": 1,
   "metadata": {},
   "outputs": [],
   "source": [
    "#preliminaries\n",
    "import numpy as np\n",
    "import pandas as pd\n",
    "import polars as pl\n",
    "import plotly_express as px\n",
    "import statsmodels.api as sm\n",
    "\n",
    "#enable string cache for polars categoricals\n",
    "pl.enable_string_cache()\n",
    "#display settings\n",
    "pd.set_option('display.max_columns', None)"
   ]
  },
  {
   "cell_type": "code",
   "execution_count": 2,
   "metadata": {},
   "outputs": [],
   "source": [
    "#load data\n",
    "main_lf = (\n",
    "    #load parquet files to polars lazyframe \n",
    "    pl.scan_parquet('../data/main/*.parquet')\n",
    "    #choose only exports\n",
    "    .filter(pl.col('direction')=='export')\n",
    "    #drop unneeded columns\n",
    "    .drop('origin_territory', 'origin_region', 'direction', 'carrier_name', \n",
    "          'carrier_scac', 'vessel_name', 'voyage_number')\n",
    "    #rename cols for consistency/sanity\n",
    "    .rename({'unified_carrier_name':'carrier_name',\n",
    "             'unified_carrier_scac':'scac',\n",
    "             'arrival_port_name':'dest_port_name',\n",
    "             'arrival_port_code':'dest_port_code',\n",
    "             'departure_port_name':'origin_port_name',\n",
    "             'departure_port_code':'origin_port_code',\n",
    "             'pc_alliance':'owner_alliance'})\n",
    "    #reorder columns for sanity\n",
    "    .select('bol_id', 'date', 'month', 'year', 'teus', 'hs_code', 'lane_id', \n",
    "            'lane_name', 'origin_port_name', 'origin_port_code', 'coast_region', \n",
    "            'dest_port_name', 'dest_port_code', 'dest_territory', 'dest_region',  \n",
    "            'drewery_lane', 'dist', 'rate_40', 'rate_20', 'scac', 'carrier_name', \n",
    "            'alliance', 'alliance_member', 'vessel_id', 'vessel_capacity', \n",
    "            'vessel_owner', 'owner_alliance', 'primary_cargo', 'shared_teus', \n",
    "            'cargo_source')\n",
    ")"
   ]
  },
  {
   "cell_type": "markdown",
   "metadata": {},
   "source": [
    "## Data Summary\n",
    "\n",
    "The main dataset holds a unique bill of lading (BOL) on each row and includes data from various sources in the columns described below.  \n",
    "\n",
    "### Column Definitions\n",
    "\n",
    "- bol_id - unique identifier of each BOL\n",
    "- date, month, year - departure date of the export\n",
    "- teus - volume of the shipment in twenty-foot-equivalent (TEU) units\n",
    "- hs_code - list of commodity codes included in the shipment\n",
    "- lane_id - unique identifier of the lane (a combination of origin and destination port codes)\n",
    "- lane_name - name of the lane\n",
    "- origin_port_name - name of the US port of origin\n",
    "- origin_port_code - CBP code for the port of origin\n",
    "- coast_region - US coastal region of origin\n",
    "- dest_port_name - name of the foreign destination port\n",
    "- dest_port_code - CBP code for the foreign destination port\n",
    "- dest_territory - name of country or territory of destination\n",
    "- dest_region - global region of destination\n",
    "- drewery_lane - Drewery lane matched to the lane_id using summed haversine distances between the origin/destination port pairs\n",
    "- dist - summed haversine distance between the origin/destination port pairs \n",
    "- rate_40 - Drewery CFRI rate index for 40-ft equivalent containers when the cargo was carried\n",
    "- rate_20 - Drewery CFRI rate index for 20-ft equivalent containers (TEU) when the cargo was carried\n",
    "- scac - Standard Carrier Alpha Code (SCAC) for the firm who carried the cargo\n",
    "- carrier_name - name of the carrier\n",
    "- alliance - the alliance to which the carrier belonged when the cargo was sold (NOTE this needs to be updated when we input regional alliance data)\n",
    "- alliance_member - boolean for whether or not the carrier was a member of any alliance when that cargo was carried\n",
    "- vessel_id - International Maritime Organization (IMO) code uniquely identifying the vessel\n",
    "- vessel_capacity - metric of how many TEU can be carried by the vessel at any given time (computed from Net Register Tonnage)\n",
    "- vessel_owner - the carrier representing the most TEUs carried by that vessel during the month on which the BOL was carried\n",
    "- owner_alliance - the OCA to which the vessel_owner belonged at the time\n",
    "- primary_cargo - boolean indicating whether the cargo came from the vessel_owner or not\n",
    "- shared_teus - number of TEUs if the cargo did not come from the vessel_owner (identical to 'teus' when primary_cargo is 0). \n",
    "- cargo_source - indicator for whether the cargo came from a member of the vessel_owner's alliance or not. \n",
    "\n",
    "\n",
    "### Summary stats and head"
   ]
  },
  {
   "cell_type": "code",
   "execution_count": 3,
   "metadata": {},
   "outputs": [
    {
     "data": {
      "text/html": [
       "<div><style>\n",
       ".dataframe > thead > tr,\n",
       ".dataframe > tbody > tr {\n",
       "  text-align: right;\n",
       "  white-space: pre-wrap;\n",
       "}\n",
       "</style>\n",
       "<small>shape: (9, 31)</small><table border=\"1\" class=\"dataframe\"><thead><tr><th>statistic</th><th>bol_id</th><th>date</th><th>month</th><th>year</th><th>teus</th><th>hs_code</th><th>lane_id</th><th>lane_name</th><th>origin_port_name</th><th>origin_port_code</th><th>coast_region</th><th>dest_port_name</th><th>dest_port_code</th><th>dest_territory</th><th>dest_region</th><th>drewery_lane</th><th>dist</th><th>rate_40</th><th>rate_20</th><th>scac</th><th>carrier_name</th><th>alliance</th><th>alliance_member</th><th>vessel_id</th><th>vessel_capacity</th><th>vessel_owner</th><th>owner_alliance</th><th>primary_cargo</th><th>shared_teus</th><th>cargo_source</th></tr><tr><td>str</td><td>str</td><td>str</td><td>str</td><td>f64</td><td>f64</td><td>str</td><td>str</td><td>str</td><td>str</td><td>str</td><td>str</td><td>str</td><td>str</td><td>str</td><td>str</td><td>str</td><td>f64</td><td>f64</td><td>f64</td><td>str</td><td>str</td><td>str</td><td>f64</td><td>f64</td><td>f64</td><td>str</td><td>str</td><td>f64</td><td>f64</td><td>str</td></tr></thead><tbody><tr><td>&quot;count&quot;</td><td>&quot;63737316&quot;</td><td>&quot;63737242&quot;</td><td>&quot;63737317&quot;</td><td>6.3737317e7</td><td>6.3737317e7</td><td>&quot;63735980&quot;</td><td>&quot;63737317&quot;</td><td>&quot;63737317&quot;</td><td>&quot;63737317&quot;</td><td>&quot;63737317&quot;</td><td>&quot;63737173&quot;</td><td>&quot;63737317&quot;</td><td>&quot;63737317&quot;</td><td>&quot;63734881&quot;</td><td>&quot;63734881&quot;</td><td>&quot;63734875&quot;</td><td>6.3734875e7</td><td>3.5720688e7</td><td>3.5720688e7</td><td>&quot;63737317&quot;</td><td>&quot;63696714&quot;</td><td>&quot;63737317&quot;</td><td>6.3737317e7</td><td>6.3737317e7</td><td>5.9237959e7</td><td>&quot;63737317&quot;</td><td>&quot;63737317&quot;</td><td>6.3737317e7</td><td>6.3737317e7</td><td>&quot;63737317&quot;</td></tr><tr><td>&quot;null_count&quot;</td><td>&quot;1&quot;</td><td>&quot;75&quot;</td><td>&quot;0&quot;</td><td>0.0</td><td>0.0</td><td>&quot;1337&quot;</td><td>&quot;0&quot;</td><td>&quot;0&quot;</td><td>&quot;0&quot;</td><td>&quot;0&quot;</td><td>&quot;144&quot;</td><td>&quot;0&quot;</td><td>&quot;0&quot;</td><td>&quot;2436&quot;</td><td>&quot;2436&quot;</td><td>&quot;2442&quot;</td><td>2442.0</td><td>2.8016629e7</td><td>2.8016629e7</td><td>&quot;0&quot;</td><td>&quot;40603&quot;</td><td>&quot;0&quot;</td><td>0.0</td><td>0.0</td><td>4.499358e6</td><td>&quot;0&quot;</td><td>&quot;0&quot;</td><td>0.0</td><td>0.0</td><td>&quot;0&quot;</td></tr><tr><td>&quot;mean&quot;</td><td>null</td><td>&quot;2015-12-20 00:00:26.571000&quot;</td><td>null</td><td>2015.465141</td><td>3.220729</td><td>null</td><td>null</td><td>null</td><td>null</td><td>null</td><td>null</td><td>null</td><td>null</td><td>null</td><td>null</td><td>null</td><td>1436.760648</td><td>1671.20566</td><td>1279.975398</td><td>null</td><td>null</td><td>null</td><td>0.301567</td><td>9.2319e6</td><td>2160.482837</td><td>null</td><td>null</td><td>0.702031</td><td>1.040772</td><td>null</td></tr><tr><td>&quot;std&quot;</td><td>null</td><td>null</td><td>null</td><td>4.741281</td><td>5.982663</td><td>null</td><td>null</td><td>null</td><td>null</td><td>null</td><td>null</td><td>null</td><td>null</td><td>null</td><td>null</td><td>null</td><td>1194.145132</td><td>793.815448</td><td>541.86681</td><td>null</td><td>null</td><td>null</td><td>null</td><td>474503.072275</td><td>1499.188461</td><td>null</td><td>null</td><td>null</td><td>3.692474</td><td>null</td></tr><tr><td>&quot;min&quot;</td><td>&quot;079A_26004878070&quot;</td><td>&quot;2007-01-01&quot;</td><td>&quot;200701&quot;</td><td>2007.0</td><td>0.01</td><td>&quot;-1&quot;</td><td>null</td><td>null</td><td>null</td><td>null</td><td>null</td><td>null</td><td>null</td><td>null</td><td>null</td><td>null</td><td>5.93014</td><td>400.0</td><td>310.0</td><td>null</td><td>null</td><td>&quot;2M Alliance&quot;</td><td>0.0</td><td>196.0</td><td>0.0</td><td>null</td><td>&quot;2M Alliance&quot;</td><td>0.0</td><td>0.0</td><td>&quot;ally&quot;</td></tr><tr><td>&quot;25%&quot;</td><td>null</td><td>&quot;2012-02-27&quot;</td><td>null</td><td>2012.0</td><td>2.0</td><td>null</td><td>null</td><td>null</td><td>null</td><td>null</td><td>null</td><td>null</td><td>null</td><td>null</td><td>null</td><td>null</td><td>425.931559</td><td>1100.0</td><td>880.0</td><td>null</td><td>null</td><td>null</td><td>null</td><td>9.218686e6</td><td>905.147059</td><td>null</td><td>null</td><td>null</td><td>0.0</td><td>null</td></tr><tr><td>&quot;50%&quot;</td><td>null</td><td>&quot;2016-02-20&quot;</td><td>null</td><td>2016.0</td><td>2.533158</td><td>null</td><td>null</td><td>null</td><td>null</td><td>null</td><td>null</td><td>null</td><td>null</td><td>null</td><td>null</td><td>null</td><td>1261.373246</td><td>1590.0</td><td>1230.0</td><td>null</td><td>null</td><td>null</td><td>null</td><td>9.315202e6</td><td>2036.911765</td><td>null</td><td>null</td><td>null</td><td>0.0</td><td>null</td></tr><tr><td>&quot;75%&quot;</td><td>null</td><td>&quot;2019-12-13&quot;</td><td>null</td><td>2019.0</td><td>2.533158</td><td>null</td><td>null</td><td>null</td><td>null</td><td>null</td><td>null</td><td>null</td><td>null</td><td>null</td><td>null</td><td>null</td><td>2377.521062</td><td>2020.0</td><td>1530.0</td><td>null</td><td>null</td><td>null</td><td>null</td><td>9.430868e6</td><td>3253.161765</td><td>null</td><td>null</td><td>null</td><td>2.0</td><td>null</td></tr><tr><td>&quot;max&quot;</td><td>&quot;zzzz_ZZZZ&quot;</td><td>&quot;2023-12-31&quot;</td><td>&quot;202312&quot;</td><td>2023.0</td><td>3729.25</td><td>&quot;ddedo&quot;</td><td>null</td><td>null</td><td>null</td><td>null</td><td>null</td><td>null</td><td>null</td><td>null</td><td>null</td><td>null</td><td>8769.910108</td><td>15900.0</td><td>12070.0</td><td>null</td><td>null</td><td>&quot;The Alliance&quot;</td><td>1.0</td><td>9.979125e6</td><td>17889.705882</td><td>null</td><td>&quot;The Alliance&quot;</td><td>1.0</td><td>1123.25</td><td>&quot;non-ally&quot;</td></tr></tbody></table></div>"
      ],
      "text/plain": [
       "shape: (9, 31)\n",
       "┌───────────┬───────────┬───────────┬──────────┬───┬───────────┬───────────┬───────────┬───────────┐\n",
       "│ statistic ┆ bol_id    ┆ date      ┆ month    ┆ … ┆ owner_all ┆ primary_c ┆ shared_te ┆ cargo_sou │\n",
       "│ ---       ┆ ---       ┆ ---       ┆ ---      ┆   ┆ iance     ┆ argo      ┆ us        ┆ rce       │\n",
       "│ str       ┆ str       ┆ str       ┆ str      ┆   ┆ ---       ┆ ---       ┆ ---       ┆ ---       │\n",
       "│           ┆           ┆           ┆          ┆   ┆ str       ┆ f64       ┆ f64       ┆ str       │\n",
       "╞═══════════╪═══════════╪═══════════╪══════════╪═══╪═══════════╪═══════════╪═══════════╪═══════════╡\n",
       "│ count     ┆ 63737316  ┆ 63737242  ┆ 63737317 ┆ … ┆ 63737317  ┆ 6.3737317 ┆ 6.3737317 ┆ 63737317  │\n",
       "│           ┆           ┆           ┆          ┆   ┆           ┆ e7        ┆ e7        ┆           │\n",
       "│ null_coun ┆ 1         ┆ 75        ┆ 0        ┆ … ┆ 0         ┆ 0.0       ┆ 0.0       ┆ 0         │\n",
       "│ t         ┆           ┆           ┆          ┆   ┆           ┆           ┆           ┆           │\n",
       "│ mean      ┆ null      ┆ 2015-12-2 ┆ null     ┆ … ┆ null      ┆ 0.702031  ┆ 1.040772  ┆ null      │\n",
       "│           ┆           ┆ 0 00:00:2 ┆          ┆   ┆           ┆           ┆           ┆           │\n",
       "│           ┆           ┆ 6.571000  ┆          ┆   ┆           ┆           ┆           ┆           │\n",
       "│ std       ┆ null      ┆ null      ┆ null     ┆ … ┆ null      ┆ null      ┆ 3.692474  ┆ null      │\n",
       "│ min       ┆ 079A_2600 ┆ 2007-01-0 ┆ 200701   ┆ … ┆ 2M        ┆ 0.0       ┆ 0.0       ┆ ally      │\n",
       "│           ┆ 4878070   ┆ 1         ┆          ┆   ┆ Alliance  ┆           ┆           ┆           │\n",
       "│ 25%       ┆ null      ┆ 2012-02-2 ┆ null     ┆ … ┆ null      ┆ null      ┆ 0.0       ┆ null      │\n",
       "│           ┆           ┆ 7         ┆          ┆   ┆           ┆           ┆           ┆           │\n",
       "│ 50%       ┆ null      ┆ 2016-02-2 ┆ null     ┆ … ┆ null      ┆ null      ┆ 0.0       ┆ null      │\n",
       "│           ┆           ┆ 0         ┆          ┆   ┆           ┆           ┆           ┆           │\n",
       "│ 75%       ┆ null      ┆ 2019-12-1 ┆ null     ┆ … ┆ null      ┆ null      ┆ 2.0       ┆ null      │\n",
       "│           ┆           ┆ 3         ┆          ┆   ┆           ┆           ┆           ┆           │\n",
       "│ max       ┆ zzzz_ZZZZ ┆ 2023-12-3 ┆ 202312   ┆ … ┆ The       ┆ 1.0       ┆ 1123.25   ┆ non-ally  │\n",
       "│           ┆           ┆ 1         ┆          ┆   ┆ Alliance  ┆           ┆           ┆           │\n",
       "└───────────┴───────────┴───────────┴──────────┴───┴───────────┴───────────┴───────────┴───────────┘"
      ]
     },
     "metadata": {},
     "output_type": "display_data"
    },
    {
     "data": {
      "text/html": [
       "<div><style>\n",
       ".dataframe > thead > tr,\n",
       ".dataframe > tbody > tr {\n",
       "  text-align: right;\n",
       "  white-space: pre-wrap;\n",
       "}\n",
       "</style>\n",
       "<small>shape: (5, 30)</small><table border=\"1\" class=\"dataframe\"><thead><tr><th>bol_id</th><th>date</th><th>month</th><th>year</th><th>teus</th><th>hs_code</th><th>lane_id</th><th>lane_name</th><th>origin_port_name</th><th>origin_port_code</th><th>coast_region</th><th>dest_port_name</th><th>dest_port_code</th><th>dest_territory</th><th>dest_region</th><th>drewery_lane</th><th>dist</th><th>rate_40</th><th>rate_20</th><th>scac</th><th>carrier_name</th><th>alliance</th><th>alliance_member</th><th>vessel_id</th><th>vessel_capacity</th><th>vessel_owner</th><th>owner_alliance</th><th>primary_cargo</th><th>shared_teus</th><th>cargo_source</th></tr><tr><td>str</td><td>date</td><td>str</td><td>i32</td><td>f64</td><td>str</td><td>cat</td><td>cat</td><td>cat</td><td>cat</td><td>cat</td><td>cat</td><td>cat</td><td>cat</td><td>cat</td><td>cat</td><td>f64</td><td>f64</td><td>f64</td><td>cat</td><td>cat</td><td>str</td><td>bool</td><td>i32</td><td>f64</td><td>cat</td><td>str</td><td>bool</td><td>f64</td><td>str</td></tr></thead><tbody><tr><td>&quot;ZIML_IMUORF177673&quot;</td><td>2007-01-01</td><td>&quot;200701&quot;</td><td>2007</td><td>2.533158</td><td>&quot;390120&quot;</td><td>&quot;5301_24128&quot;</td><td>&quot;Houston — Kingston&quot;</td><td>&quot;HOUSTON&quot;</td><td>&quot;5301&quot;</td><td>&quot;GULF&quot;</td><td>&quot;KINGSTON&quot;</td><td>&quot;24128&quot;</td><td>&quot;JAMAICA&quot;</td><td>&quot;CARIBBEAN&quot;</td><td>&quot;US Gulf Coast (Houston) to Col…</td><td>860.905655</td><td>null</td><td>null</td><td>&quot;ZIMU&quot;</td><td>&quot;ZIM CONTAINER&quot;</td><td>&quot;Non-alliance Carriers&quot;</td><td>false</td><td>9008562</td><td>null</td><td>&quot;ZIMU&quot;</td><td>&quot;Non-alliance Carriers&quot;</td><td>true</td><td>0.0</td><td>&quot;non-ally&quot;</td></tr><tr><td>&quot;MLSL_800184208&quot;</td><td>2007-01-01</td><td>&quot;200701&quot;</td><td>2007</td><td>2.533158</td><td>&quot;901890&quot;</td><td>&quot;5301_47563&quot;</td><td>&quot;Houston — Cagliari&quot;</td><td>&quot;HOUSTON&quot;</td><td>&quot;5301&quot;</td><td>&quot;GULF&quot;</td><td>&quot;CAGLIARI&quot;</td><td>&quot;47563&quot;</td><td>&quot;ITALY&quot;</td><td>&quot;MEDITERRANEAN&quot;</td><td>&quot;US Gulf Coast (Houston) to Wes…</td><td>585.05394</td><td>null</td><td>null</td><td>&quot;MAEU&quot;</td><td>&quot;MAERSK LINE&quot;</td><td>&quot;Non-alliance Carriers&quot;</td><td>false</td><td>8212702</td><td>null</td><td>&quot;MAEU&quot;</td><td>&quot;Non-alliance Carriers&quot;</td><td>true</td><td>0.0</td><td>&quot;non-ally&quot;</td></tr><tr><td>&quot;MLSL_511755218&quot;</td><td>2007-01-01</td><td>&quot;200701&quot;</td><td>2007</td><td>2.533158</td><td>&quot;080290&quot;</td><td>&quot;5301_47563&quot;</td><td>&quot;Houston — Cagliari&quot;</td><td>&quot;HOUSTON&quot;</td><td>&quot;5301&quot;</td><td>&quot;GULF&quot;</td><td>&quot;CAGLIARI&quot;</td><td>&quot;47563&quot;</td><td>&quot;ITALY&quot;</td><td>&quot;MEDITERRANEAN&quot;</td><td>&quot;US Gulf Coast (Houston) to Wes…</td><td>585.05394</td><td>null</td><td>null</td><td>&quot;MAEU&quot;</td><td>&quot;MAERSK LINE&quot;</td><td>&quot;Non-alliance Carriers&quot;</td><td>false</td><td>8212702</td><td>null</td><td>&quot;MAEU&quot;</td><td>&quot;Non-alliance Carriers&quot;</td><td>true</td><td>0.0</td><td>&quot;non-ally&quot;</td></tr><tr><td>&quot;MLSL_851964547&quot;</td><td>2007-01-01</td><td>&quot;200701&quot;</td><td>2007</td><td>2.533158</td><td>&quot;732690&quot;</td><td>&quot;5301_47536&quot;</td><td>&quot;Houston — Gioia Tauro&quot;</td><td>&quot;HOUSTON&quot;</td><td>&quot;5301&quot;</td><td>&quot;GULF&quot;</td><td>&quot;GIOIA TAURO&quot;</td><td>&quot;47536&quot;</td><td>&quot;ITALY&quot;</td><td>&quot;MEDITERRANEAN&quot;</td><td>&quot;US Gulf Coast (Houston) to Wes…</td><td>890.01468</td><td>null</td><td>null</td><td>&quot;MAEU&quot;</td><td>&quot;MAERSK LINE&quot;</td><td>&quot;Non-alliance Carriers&quot;</td><td>false</td><td>8212702</td><td>null</td><td>&quot;MAEU&quot;</td><td>&quot;Non-alliance Carriers&quot;</td><td>true</td><td>0.0</td><td>&quot;non-ally&quot;</td></tr><tr><td>&quot;MLSL_HOUM30858&quot;</td><td>2007-01-01</td><td>&quot;200701&quot;</td><td>2007</td><td>2.533158</td><td>&quot;401199&quot;</td><td>&quot;5301_47536&quot;</td><td>&quot;Houston — Gioia Tauro&quot;</td><td>&quot;HOUSTON&quot;</td><td>&quot;5301&quot;</td><td>&quot;GULF&quot;</td><td>&quot;GIOIA TAURO&quot;</td><td>&quot;47536&quot;</td><td>&quot;ITALY&quot;</td><td>&quot;MEDITERRANEAN&quot;</td><td>&quot;US Gulf Coast (Houston) to Wes…</td><td>890.01468</td><td>null</td><td>null</td><td>&quot;MAEU&quot;</td><td>&quot;MAERSK LINE&quot;</td><td>&quot;Non-alliance Carriers&quot;</td><td>false</td><td>8212702</td><td>null</td><td>&quot;MAEU&quot;</td><td>&quot;Non-alliance Carriers&quot;</td><td>true</td><td>0.0</td><td>&quot;non-ally&quot;</td></tr></tbody></table></div>"
      ],
      "text/plain": [
       "shape: (5, 30)\n",
       "┌─────────────┬────────────┬────────┬──────┬───┬────────────┬────────────┬────────────┬────────────┐\n",
       "│ bol_id      ┆ date       ┆ month  ┆ year ┆ … ┆ owner_alli ┆ primary_ca ┆ shared_teu ┆ cargo_sour │\n",
       "│ ---         ┆ ---        ┆ ---    ┆ ---  ┆   ┆ ance       ┆ rgo        ┆ s          ┆ ce         │\n",
       "│ str         ┆ date       ┆ str    ┆ i32  ┆   ┆ ---        ┆ ---        ┆ ---        ┆ ---        │\n",
       "│             ┆            ┆        ┆      ┆   ┆ str        ┆ bool       ┆ f64        ┆ str        │\n",
       "╞═════════════╪════════════╪════════╪══════╪═══╪════════════╪════════════╪════════════╪════════════╡\n",
       "│ ZIML_IMUORF ┆ 2007-01-01 ┆ 200701 ┆ 2007 ┆ … ┆ Non-allian ┆ true       ┆ 0.0        ┆ non-ally   │\n",
       "│ 177673      ┆            ┆        ┆      ┆   ┆ ce         ┆            ┆            ┆            │\n",
       "│             ┆            ┆        ┆      ┆   ┆ Carriers   ┆            ┆            ┆            │\n",
       "│ MLSL_800184 ┆ 2007-01-01 ┆ 200701 ┆ 2007 ┆ … ┆ Non-allian ┆ true       ┆ 0.0        ┆ non-ally   │\n",
       "│ 208         ┆            ┆        ┆      ┆   ┆ ce         ┆            ┆            ┆            │\n",
       "│             ┆            ┆        ┆      ┆   ┆ Carriers   ┆            ┆            ┆            │\n",
       "│ MLSL_511755 ┆ 2007-01-01 ┆ 200701 ┆ 2007 ┆ … ┆ Non-allian ┆ true       ┆ 0.0        ┆ non-ally   │\n",
       "│ 218         ┆            ┆        ┆      ┆   ┆ ce         ┆            ┆            ┆            │\n",
       "│             ┆            ┆        ┆      ┆   ┆ Carriers   ┆            ┆            ┆            │\n",
       "│ MLSL_851964 ┆ 2007-01-01 ┆ 200701 ┆ 2007 ┆ … ┆ Non-allian ┆ true       ┆ 0.0        ┆ non-ally   │\n",
       "│ 547         ┆            ┆        ┆      ┆   ┆ ce         ┆            ┆            ┆            │\n",
       "│             ┆            ┆        ┆      ┆   ┆ Carriers   ┆            ┆            ┆            │\n",
       "│ MLSL_HOUM30 ┆ 2007-01-01 ┆ 200701 ┆ 2007 ┆ … ┆ Non-allian ┆ true       ┆ 0.0        ┆ non-ally   │\n",
       "│ 858         ┆            ┆        ┆      ┆   ┆ ce         ┆            ┆            ┆            │\n",
       "│             ┆            ┆        ┆      ┆   ┆ Carriers   ┆            ┆            ┆            │\n",
       "└─────────────┴────────────┴────────┴──────┴───┴────────────┴────────────┴────────────┴────────────┘"
      ]
     },
     "execution_count": 3,
     "metadata": {},
     "output_type": "execute_result"
    }
   ],
   "source": [
    "desc = main_lf.describe()\n",
    "desc.write_csv('../data/misc/usda_maindata_summarystat.csv')\n",
    "display(desc)\n",
    "main_lf.limit(5).collect()"
   ]
  }
 ],
 "metadata": {
  "kernelspec": {
   "display_name": "wsu",
   "language": "python",
   "name": "python3"
  },
  "language_info": {
   "codemirror_mode": {
    "name": "ipython",
    "version": 3
   },
   "file_extension": ".py",
   "mimetype": "text/x-python",
   "name": "python",
   "nbconvert_exporter": "python",
   "pygments_lexer": "ipython3",
   "version": "3.12.0"
  }
 },
 "nbformat": 4,
 "nbformat_minor": 2
}
