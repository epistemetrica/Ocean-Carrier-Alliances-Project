{
 "cells": [
  {
   "cell_type": "markdown",
   "metadata": {},
   "source": [
    "# Ocean Carrier Alliances - Data Analysis for USDA Report\n",
    "\n",
    "This notebook analyses data on maritime container shipping to inspect the impacts of strategic alliances between ocean freight carriers (Ocean Carrier Alliances, OCAs) on the containerized agricultural export market in the US. Data are pre-processed in the oca_data_prep notebook; see the [project repo](https://github.com/epistemetrica/Ocean-Carrier-Alliances-Project) for full details. "
   ]
  },
  {
   "cell_type": "code",
   "execution_count": 1,
   "metadata": {},
   "outputs": [],
   "source": [
    "#preliminaries\n",
    "import numpy as np\n",
    "import pandas as pd\n",
    "import polars as pl\n",
    "import plotly_express as px\n",
    "import statsmodels.api as sm\n",
    "\n",
    "#enable string cache for polars categoricals\n",
    "pl.enable_string_cache()\n",
    "#display settings\n",
    "pd.set_option('display.max_columns', None)"
   ]
  },
  {
   "cell_type": "code",
   "execution_count": 4,
   "metadata": {},
   "outputs": [],
   "source": [
    "#load data\n",
    "main_lf = (\n",
    "    #load parquets \n",
    "    pl.scan_parquet('../data/main/*.parquet')\n",
    "    #choose only exports\n",
    "    .filter(pl.col('direction')=='export')\n",
    "    #drop unneeded columns\n",
    "    .drop('origin_territory', 'origin_region', 'direction', \n",
    "          'carrier_name', 'carrier_scac')\n",
    "    #rename carrier cols\n",
    "    .rename({'unified_carrier_name':'carrier_name',\n",
    "             'unified_carrier_scac':'scac'})\n",
    ")"
   ]
  },
  {
   "cell_type": "code",
   "execution_count": 5,
   "metadata": {},
   "outputs": [
    {
     "data": {
      "text/html": [
       "<div><style>\n",
       ".dataframe > thead > tr,\n",
       ".dataframe > tbody > tr {\n",
       "  text-align: right;\n",
       "  white-space: pre-wrap;\n",
       "}\n",
       "</style>\n",
       "<small>shape: (9, 33)</small><table border=\"1\" class=\"dataframe\"><thead><tr><th>statistic</th><th>teus</th><th>arrival_port_code</th><th>arrival_port_name</th><th>departure_port_code</th><th>departure_port_name</th><th>coast_region</th><th>hs_code</th><th>vessel_name</th><th>voyage_number</th><th>vessel_id</th><th>bol_id</th><th>year</th><th>month</th><th>lane_id</th><th>dest_territory</th><th>dest_region</th><th>lane_name</th><th>carrier_name</th><th>scac</th><th>vessel_owner</th><th>primary_cargo</th><th>shared_teus</th><th>date</th><th>alliance</th><th>alliance_member</th><th>pc_alliance</th><th>cargo_source</th><th>drewery_lane</th><th>dist</th><th>rate_40</th><th>rate_20</th><th>vessel_capacity</th></tr><tr><td>str</td><td>f64</td><td>str</td><td>str</td><td>str</td><td>str</td><td>str</td><td>str</td><td>str</td><td>str</td><td>f64</td><td>str</td><td>f64</td><td>str</td><td>str</td><td>str</td><td>str</td><td>str</td><td>str</td><td>str</td><td>str</td><td>f64</td><td>f64</td><td>str</td><td>str</td><td>f64</td><td>str</td><td>str</td><td>str</td><td>f64</td><td>f64</td><td>f64</td><td>f64</td></tr></thead><tbody><tr><td>&quot;count&quot;</td><td>6.3737317e7</td><td>&quot;63737317&quot;</td><td>&quot;63737317&quot;</td><td>&quot;63737317&quot;</td><td>&quot;63737317&quot;</td><td>&quot;63737173&quot;</td><td>&quot;63735980&quot;</td><td>&quot;63737317&quot;</td><td>&quot;59354831&quot;</td><td>6.3737317e7</td><td>&quot;63737316&quot;</td><td>6.3737317e7</td><td>&quot;63737317&quot;</td><td>&quot;63737317&quot;</td><td>&quot;63734881&quot;</td><td>&quot;63734881&quot;</td><td>&quot;63737317&quot;</td><td>&quot;63696714&quot;</td><td>&quot;63737317&quot;</td><td>&quot;63737317&quot;</td><td>6.3737317e7</td><td>6.3737317e7</td><td>&quot;63737242&quot;</td><td>&quot;63737317&quot;</td><td>6.3737317e7</td><td>&quot;63737317&quot;</td><td>&quot;63737317&quot;</td><td>&quot;63734875&quot;</td><td>6.3734875e7</td><td>3.5720688e7</td><td>3.5720688e7</td><td>5.9237959e7</td></tr><tr><td>&quot;null_count&quot;</td><td>0.0</td><td>&quot;0&quot;</td><td>&quot;0&quot;</td><td>&quot;0&quot;</td><td>&quot;0&quot;</td><td>&quot;144&quot;</td><td>&quot;1337&quot;</td><td>&quot;0&quot;</td><td>&quot;4382486&quot;</td><td>0.0</td><td>&quot;1&quot;</td><td>0.0</td><td>&quot;0&quot;</td><td>&quot;0&quot;</td><td>&quot;2436&quot;</td><td>&quot;2436&quot;</td><td>&quot;0&quot;</td><td>&quot;40603&quot;</td><td>&quot;0&quot;</td><td>&quot;0&quot;</td><td>0.0</td><td>0.0</td><td>&quot;75&quot;</td><td>&quot;0&quot;</td><td>0.0</td><td>&quot;0&quot;</td><td>&quot;0&quot;</td><td>&quot;2442&quot;</td><td>2442.0</td><td>2.8016629e7</td><td>2.8016629e7</td><td>4.499358e6</td></tr><tr><td>&quot;mean&quot;</td><td>3.220729</td><td>null</td><td>null</td><td>null</td><td>null</td><td>null</td><td>null</td><td>null</td><td>null</td><td>9.2319e6</td><td>null</td><td>2015.465141</td><td>null</td><td>null</td><td>null</td><td>null</td><td>null</td><td>null</td><td>null</td><td>null</td><td>0.702031</td><td>1.040772</td><td>&quot;2015-12-20 00:00:26.571000&quot;</td><td>null</td><td>0.301567</td><td>null</td><td>null</td><td>null</td><td>1436.760648</td><td>1671.20566</td><td>1279.975398</td><td>2160.482837</td></tr><tr><td>&quot;std&quot;</td><td>5.982663</td><td>null</td><td>null</td><td>null</td><td>null</td><td>null</td><td>null</td><td>null</td><td>null</td><td>474503.072275</td><td>null</td><td>4.741281</td><td>null</td><td>null</td><td>null</td><td>null</td><td>null</td><td>null</td><td>null</td><td>null</td><td>null</td><td>3.692474</td><td>null</td><td>null</td><td>null</td><td>null</td><td>null</td><td>null</td><td>1194.145132</td><td>793.815448</td><td>541.86681</td><td>1499.188461</td></tr><tr><td>&quot;min&quot;</td><td>0.01</td><td>null</td><td>null</td><td>null</td><td>null</td><td>null</td><td>&quot;-1&quot;</td><td>&quot;26 AGUSTOS&quot;</td><td>&quot;&#x27;44S&quot;</td><td>196.0</td><td>&quot;079A_26004878070&quot;</td><td>2007.0</td><td>&quot;200701&quot;</td><td>null</td><td>null</td><td>null</td><td>null</td><td>null</td><td>null</td><td>null</td><td>0.0</td><td>0.0</td><td>&quot;2007-01-01&quot;</td><td>&quot;2M Alliance&quot;</td><td>0.0</td><td>&quot;2M Alliance&quot;</td><td>&quot;ally&quot;</td><td>null</td><td>5.93014</td><td>400.0</td><td>310.0</td><td>0.0</td></tr><tr><td>&quot;25%&quot;</td><td>2.0</td><td>null</td><td>null</td><td>null</td><td>null</td><td>null</td><td>null</td><td>null</td><td>null</td><td>9.218686e6</td><td>null</td><td>2012.0</td><td>null</td><td>null</td><td>null</td><td>null</td><td>null</td><td>null</td><td>null</td><td>null</td><td>null</td><td>0.0</td><td>&quot;2012-02-27&quot;</td><td>null</td><td>null</td><td>null</td><td>null</td><td>null</td><td>425.931559</td><td>1100.0</td><td>880.0</td><td>905.147059</td></tr><tr><td>&quot;50%&quot;</td><td>2.533158</td><td>null</td><td>null</td><td>null</td><td>null</td><td>null</td><td>null</td><td>null</td><td>null</td><td>9.315202e6</td><td>null</td><td>2016.0</td><td>null</td><td>null</td><td>null</td><td>null</td><td>null</td><td>null</td><td>null</td><td>null</td><td>null</td><td>0.0</td><td>&quot;2016-02-20&quot;</td><td>null</td><td>null</td><td>null</td><td>null</td><td>null</td><td>1261.373246</td><td>1590.0</td><td>1230.0</td><td>2036.911765</td></tr><tr><td>&quot;75%&quot;</td><td>2.533158</td><td>null</td><td>null</td><td>null</td><td>null</td><td>null</td><td>null</td><td>null</td><td>null</td><td>9.430868e6</td><td>null</td><td>2019.0</td><td>null</td><td>null</td><td>null</td><td>null</td><td>null</td><td>null</td><td>null</td><td>null</td><td>null</td><td>2.0</td><td>&quot;2019-12-13&quot;</td><td>null</td><td>null</td><td>null</td><td>null</td><td>null</td><td>2377.521062</td><td>2020.0</td><td>1530.0</td><td>3253.161765</td></tr><tr><td>&quot;max&quot;</td><td>3729.25</td><td>null</td><td>null</td><td>null</td><td>null</td><td>null</td><td>&quot;ddedo&quot;</td><td>&quot;ZUMA&quot;</td><td>&quot;|SAL5&quot;</td><td>9.979125e6</td><td>&quot;zzzz_ZZZZ&quot;</td><td>2023.0</td><td>&quot;202312&quot;</td><td>null</td><td>null</td><td>null</td><td>null</td><td>null</td><td>null</td><td>null</td><td>1.0</td><td>1123.25</td><td>&quot;2023-12-31&quot;</td><td>&quot;The Alliance&quot;</td><td>1.0</td><td>&quot;The Alliance&quot;</td><td>&quot;non-ally&quot;</td><td>null</td><td>8769.910108</td><td>15900.0</td><td>12070.0</td><td>17889.705882</td></tr></tbody></table></div>"
      ],
      "text/plain": [
       "shape: (9, 33)\n",
       "┌───────────┬───────────┬───────────┬───────────┬───┬───────────┬───────────┬───────────┬──────────┐\n",
       "│ statistic ┆ teus      ┆ arrival_p ┆ arrival_p ┆ … ┆ dist      ┆ rate_40   ┆ rate_20   ┆ vessel_c │\n",
       "│ ---       ┆ ---       ┆ ort_code  ┆ ort_name  ┆   ┆ ---       ┆ ---       ┆ ---       ┆ apacity  │\n",
       "│ str       ┆ f64       ┆ ---       ┆ ---       ┆   ┆ f64       ┆ f64       ┆ f64       ┆ ---      │\n",
       "│           ┆           ┆ str       ┆ str       ┆   ┆           ┆           ┆           ┆ f64      │\n",
       "╞═══════════╪═══════════╪═══════════╪═══════════╪═══╪═══════════╪═══════════╪═══════════╪══════════╡\n",
       "│ count     ┆ 6.3737317 ┆ 63737317  ┆ 63737317  ┆ … ┆ 6.3734875 ┆ 3.5720688 ┆ 3.5720688 ┆ 5.923795 │\n",
       "│           ┆ e7        ┆           ┆           ┆   ┆ e7        ┆ e7        ┆ e7        ┆ 9e7      │\n",
       "│ null_coun ┆ 0.0       ┆ 0         ┆ 0         ┆ … ┆ 2442.0    ┆ 2.8016629 ┆ 2.8016629 ┆ 4.499358 │\n",
       "│ t         ┆           ┆           ┆           ┆   ┆           ┆ e7        ┆ e7        ┆ e6       │\n",
       "│ mean      ┆ 3.220729  ┆ null      ┆ null      ┆ … ┆ 1436.7606 ┆ 1671.2056 ┆ 1279.9753 ┆ 2160.482 │\n",
       "│           ┆           ┆           ┆           ┆   ┆ 48        ┆ 6         ┆ 98        ┆ 837      │\n",
       "│ std       ┆ 5.982663  ┆ null      ┆ null      ┆ … ┆ 1194.1451 ┆ 793.81544 ┆ 541.86681 ┆ 1499.188 │\n",
       "│           ┆           ┆           ┆           ┆   ┆ 32        ┆ 8         ┆           ┆ 461      │\n",
       "│ min       ┆ 0.01      ┆ null      ┆ null      ┆ … ┆ 5.93014   ┆ 400.0     ┆ 310.0     ┆ 0.0      │\n",
       "│ 25%       ┆ 2.0       ┆ null      ┆ null      ┆ … ┆ 425.93155 ┆ 1100.0    ┆ 880.0     ┆ 905.1470 │\n",
       "│           ┆           ┆           ┆           ┆   ┆ 9         ┆           ┆           ┆ 59       │\n",
       "│ 50%       ┆ 2.533158  ┆ null      ┆ null      ┆ … ┆ 1261.3732 ┆ 1590.0    ┆ 1230.0    ┆ 2036.911 │\n",
       "│           ┆           ┆           ┆           ┆   ┆ 46        ┆           ┆           ┆ 765      │\n",
       "│ 75%       ┆ 2.533158  ┆ null      ┆ null      ┆ … ┆ 2377.5210 ┆ 2020.0    ┆ 1530.0    ┆ 3253.161 │\n",
       "│           ┆           ┆           ┆           ┆   ┆ 62        ┆           ┆           ┆ 765      │\n",
       "│ max       ┆ 3729.25   ┆ null      ┆ null      ┆ … ┆ 8769.9101 ┆ 15900.0   ┆ 12070.0   ┆ 17889.70 │\n",
       "│           ┆           ┆           ┆           ┆   ┆ 08        ┆           ┆           ┆ 5882     │\n",
       "└───────────┴───────────┴───────────┴───────────┴───┴───────────┴───────────┴───────────┴──────────┘"
      ]
     },
     "execution_count": 5,
     "metadata": {},
     "output_type": "execute_result"
    }
   ],
   "source": [
    "main_lf.describe()"
   ]
  }
 ],
 "metadata": {
  "kernelspec": {
   "display_name": "wsu",
   "language": "python",
   "name": "python3"
  },
  "language_info": {
   "codemirror_mode": {
    "name": "ipython",
    "version": 3
   },
   "file_extension": ".py",
   "mimetype": "text/x-python",
   "name": "python",
   "nbconvert_exporter": "python",
   "pygments_lexer": "ipython3",
   "version": "3.12.0"
  }
 },
 "nbformat": 4,
 "nbformat_minor": 2
}
