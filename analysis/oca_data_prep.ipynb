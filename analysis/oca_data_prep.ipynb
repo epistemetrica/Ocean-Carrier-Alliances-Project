{
 "cells": [
  {
   "cell_type": "markdown",
   "metadata": {},
   "source": [
    "# Data Preparation for Ocean Carrier Alliances Project\n",
    "\n",
    "This notebook loads, cleans, and prepares the data used to analyse strategic alliances among containerized maritime freight carriers, which we call Ocean Carrier Alliances (OCAs). The primary data comes from S&P's [PIERS BOL database](https://www.spglobal.com/marketintelligence/en/mi/products/piers.html), which is processed via the seperate PIERS Data Project. To the PIERS data, we add data on alliance start and end dates as well as geographic scope from the [Federal Maritime Commission Agreement Library](https://www2.fmc.gov/FMC.Agreements.Web/Public), as well as [vessel capacity data](https://ndclibrary.sec.usace.army.mil/searchResults?series=Foreign%20Traffic%20Vessel%20Entrances%20Clearances) from the US Army Corp of Engineers. \n",
    "\n",
    "See the github repo and the README for more detail. "
   ]
  },
  {
   "cell_type": "code",
   "execution_count": 1,
   "metadata": {},
   "outputs": [],
   "source": [
    "#preliminaries \n",
    "import pandas as pd #v2.1.3\n",
    "import polars as pl #v1.1.0\n",
    "import plotly_express as px #v0.4.1 \n",
    "import datetime as dt\n",
    "from sklearn.cluster import HDBSCAN\n",
    "import time\n",
    "\n",
    "\n",
    "#display settings\n",
    "pd.set_option('display.max_columns', None)\n",
    "\n",
    "#enable string cache for polars categoricals\n",
    "pl.enable_string_cache()"
   ]
  },
  {
   "cell_type": "markdown",
   "metadata": {},
   "source": [
    "## PIERS BOL Data\n",
    "\n",
    "Our primary dataset for this study comes from the [PIERS Data Project](https://github.com/epistemetrica/PIERS-Data-Project). The initial codeblock loads the relevant columns from this database into seperate Polars LazyFrames for the import and export data, and subsequent blocks address the various issues in the data. Although the PIERS Data Project includes data from Q12005 through Q12024, we limit the data here to the beginning of 2007 through the end of 2023, as the pre-2007 has outstanding structural issues and we prefer to look at entire years. "
   ]
  },
  {
   "cell_type": "code",
   "execution_count": 2,
   "metadata": {},
   "outputs": [
    {
     "name": "stderr",
     "output_type": "stream",
     "text": [
      "/var/folders/dc/sgfd2dls28n4y4v4_jw03ly40000gp/T/ipykernel_11458/306290628.py:133: DeprecationWarning: The argument `dtypes` for `read_csv` is deprecated. It has been renamed to `schema_overrides`.\n",
      "  pl.read_csv('../data/misc/exportAlliances.csv',\n"
     ]
    }
   ],
   "source": [
    "#load PIERS bol data lazyframes\n",
    "imports_lf = (\n",
    "    pl.scan_parquet('../data/piers_raw/imports/*.parquet', parallel='columns')\n",
    "    #drop unused columns \n",
    "    .select(\n",
    "        #'weight',\n",
    "        #'weight_unit',\n",
    "        #'qty',\n",
    "        #'qty_type',\n",
    "        'teus',\n",
    "        #'value_est',\n",
    "        'date',\n",
    "        #'container_piece_count',\n",
    "        #'commod_short_desc_qty',\n",
    "        'origin_territory',\n",
    "        'origin_region',\n",
    "        'arrival_port_code',\n",
    "        'arrival_port_name',\n",
    "        'departure_port_code',\n",
    "        'departure_port_name',\n",
    "        #'dest_final',\n",
    "        'coast_region',\n",
    "        #'clearing_district',\n",
    "        #'place_receipt',\n",
    "        #'shipper_name',\n",
    "        #'shipper_address',\n",
    "        #'consignee_name',\n",
    "        #'consignee_address',\n",
    "        #'notify_party1_name',\n",
    "        #'notify_party1_address',\n",
    "        #'notify_party2_name',\n",
    "        #'notify_party2_address',\n",
    "        #'commod_desc_raw',\n",
    "        #'container_id_marks',\n",
    "        #'marks_desc',\n",
    "        'hs_code',\n",
    "        #'joc_code',\n",
    "        #'commod_short_desc',\n",
    "        #'container_ids',\n",
    "        'carrier_name',\n",
    "        'carrier_scac',\n",
    "        'vessel_name',\n",
    "        'voyage_number',\n",
    "        #'precarrier',\n",
    "        'vessel_id',\n",
    "        #'inbond_code',\n",
    "        #'transport_mode',\n",
    "        #'bol_number',\n",
    "        'direction',\n",
    "        'bol_id',\n",
    "        'year',\n",
    "        'month',\n",
    "        'lane_id'\n",
    "    )\n",
    "    #get lane name \n",
    "    .with_columns(\n",
    "            #find most commonly used departure port name for a given lane_id\n",
    "            pl.col('departure_port_name').drop_nulls().mode().first().over('lane_id').alias('best_departure_port_name'),\n",
    "            #find most commonly used arrival port name for a given lane_id\n",
    "            pl.col('arrival_port_name').drop_nulls().mode().first().over('lane_id').alias('best_arrival_port_name')\n",
    "        )\n",
    "        .with_columns(\n",
    "            (pl.col('best_departure_port_name').cast(pl.Utf8)+' — '+pl.col('best_arrival_port_name').cast(pl.Utf8))\n",
    "            .str.to_titlecase()\n",
    "            .cast(pl.Categorical)\n",
    "            .alias('lane_name')\n",
    "        )\n",
    "        .drop('best_departure_port_name', 'best_arrival_port_name')\n",
    "    #filter dates\n",
    "    .filter(pl.col('year').is_in(range(2007, 2024)))\n",
    ")\n",
    "\n",
    "exports_lf = (\n",
    "    pl.scan_parquet('../data/piers_raw/exports/piers_exports_raw.parquet', parallel='columns') \n",
    "    #drop unused columns\n",
    "    .select(\n",
    "        #'shipper',\n",
    "        #'shipper_address',\n",
    "        #'weight',\n",
    "        #'weight_unit',\n",
    "        #'qty',\n",
    "        #'quantity_type',\n",
    "        'teus',\n",
    "        'carrier_name',\n",
    "        'carrier_scac',\n",
    "        'vessel_name',\n",
    "        'voyage_number',\n",
    "        #'bol_number',\n",
    "        'vessel_id',\n",
    "        #'value_est',\n",
    "        'departure_port_code',\n",
    "        'departure_port_name',\n",
    "        #'container_ids',\n",
    "        #'container_piece_count',\n",
    "        'coast_region',\n",
    "        #'commod_desc_raw',\n",
    "        #'commod_short_desc',\n",
    "        'hs_code',\n",
    "        #'joc_code',\n",
    "        #'commod_short_desc_qty',\n",
    "        'date',\n",
    "        #'origin',\n",
    "        'dest_territory',\n",
    "        'dest_region',\n",
    "        'arrival_port_code',\n",
    "        'arrival_port_name',\n",
    "        'direction',\n",
    "        'bol_id',\n",
    "        'year',\n",
    "        'month',\n",
    "        'lane_id'\n",
    "    )\n",
    "    #get lane name \n",
    "    .with_columns(\n",
    "            #find most commonly used departure port name for a given lane_id\n",
    "            pl.col('departure_port_name').drop_nulls().mode().first().over('lane_id').alias('best_departure_port_name'),\n",
    "            #find most commonly used arrival port name for a given lane_id\n",
    "            pl.col('arrival_port_name').drop_nulls().mode().first().over('lane_id').alias('best_arrival_port_name')\n",
    "        )\n",
    "        .with_columns(\n",
    "            (pl.col('best_departure_port_name').cast(pl.Utf8)+' — '+pl.col('best_arrival_port_name').cast(pl.Utf8))\n",
    "            .str.to_titlecase()\n",
    "            .cast(pl.Categorical)\n",
    "            .alias('lane_name')\n",
    "        )\n",
    "        .drop('best_departure_port_name', 'best_arrival_port_name')\n",
    "    #filter dates\n",
    "    .filter(pl.col('year').is_in(range(2007, 2024)))\n",
    ")\n",
    "\n",
    "#load alliance membership data from csv\n",
    "alliances_df = (\n",
    "    pl.read_csv('../data/misc/exportAlliances.csv', \n",
    "                dtypes={'unified_carrier_scac':pl.Categorical, 'date':pl.Datetime})\n",
    "    .drop('unified_carrier_name')\n",
    ")"
   ]
  },
  {
   "cell_type": "code",
   "execution_count": 3,
   "metadata": {},
   "outputs": [],
   "source": [
    "#create main lazyframe\n",
    "main_lf = pl.concat([imports_lf, exports_lf], how='diagonal')"
   ]
  },
  {
   "cell_type": "code",
   "execution_count": 4,
   "metadata": {},
   "outputs": [],
   "source": [
    "#notebook functions\n",
    "\n",
    "#fill nulls in volume cols with mean\n",
    "def fill_volume(lf):\n",
    "    '''ad hod function to fill volume columns with their means'''\n",
    "    return (\n",
    "        lf\n",
    "        .with_columns([\n",
    "            pl.col('teus').replace(0,None).fill_null(strategy='mean'),\n",
    "            #pl.col('weight').replace(0,None).fill_null(strategy='mean'),\n",
    "            #pl.col('qty').replace(0,None).fill_null(strategy='mean')\n",
    "            ])\n",
    "        )\n",
    "\n",
    "#plotly graph inspecting nulls over time by group\n",
    "def nulls_over_time_plotly(data_lf, group_var, time_var, value_var, title=False):\n",
    "    '''\n",
    "    Plots proportion of null values over time by group.\n",
    "    INPUTS:\n",
    "        data_lf - polars lazyframe containing the relevant data\n",
    "        group_var - str - the name of the column by which to group\n",
    "        time_var - str - the name of the time column (e.g., year, month) over which values will be counted\n",
    "        value_var - str - the name of the column containing the variable in question\n",
    "        title (default=False) - str - the title of the graph\n",
    "    OUTPUT:\n",
    "        a plotly express figure\n",
    "    DEPENDS ON:\n",
    "        polars\n",
    "        plotly express \n",
    "    '''\n",
    "    df = (\n",
    "        #select relevant columns\n",
    "        data_lf.select([group_var, time_var, value_var])\n",
    "        #group by, creating null count and non-null count cols\n",
    "        .group_by(group_var, time_var)\n",
    "        .agg([pl.col(value_var).null_count().alias('null_count'),\n",
    "                pl.col(value_var).count().alias('count')])\n",
    "        #compute percent null and fill new column\n",
    "        .with_columns((pl.col('null_count')/(pl.col('count')+pl.col('null_count'))).alias('null_percent'))\n",
    "        #cast group col to string to allow sensible ordering of legend\n",
    "        .cast({group_var:pl.Utf8})\n",
    "        #sort by date (to allow proper visualization of lines) and group (for legend ordering) \n",
    "        .sort(time_var, group_var)\n",
    "    ).collect()\n",
    "    #plot\n",
    "    fig = px.line(\n",
    "        data_frame=df,\n",
    "        x=time_var, y='null_percent',\n",
    "        color=group_var,\n",
    "        title= 'Count of nulls over time by source frame.' if not title else title\n",
    "    )\n",
    "    fig.show()\n",
    "    del df\n",
    "\n",
    "#fill nulls over groups given a single unique value per group\n",
    "def fill_nulls_by_group(data_lf, group_vars, val_var):\n",
    "    '''Fills null values by group if and only if the val_var for that group contains exactly one non-null unique value.\n",
    "    INPUTS:\n",
    "        data_lf - polars lazyframe containing the relevant data\n",
    "        group_vars - iterable - the names of the columns by which groups will be created\n",
    "        val_var - string - the name of the column in which nulls will be filled\n",
    "    OUTPUT:\n",
    "        filled_lf - the resultant lazyframe \n",
    "    DEPENDS ON:\n",
    "        polars - current version written in polars 0.20.1\n",
    "    '''\n",
    "    filled_lf = (\n",
    "        data_lf.with_columns(\n",
    "            #if the group contains exactly one unique value: \n",
    "            pl.when(pl.col(val_var).drop_nulls().unique(maintain_order=True).len().over(group_vars)==1)\n",
    "            #then fill the group with that value\n",
    "            .then(pl.col(val_var).fill_null(pl.col(val_var).drop_nulls().unique(maintain_order=True).first().over(group_vars)))\n",
    "            #otherwise do nothing\n",
    "            .otherwise(pl.col(val_var))\n",
    "            )\n",
    "        )\n",
    "    return filled_lf\n",
    "\n",
    "#assign primary carrier\n",
    "def add_primary_carrier(lf):\n",
    "    '''ad hoc function to find primary carrier for each vessel and indicate cargo sharing'''\n",
    "    lf = (\n",
    "        #sum teus over vessel, month, and carrier\n",
    "        lf.with_columns(\n",
    "            pl.col('teus').sum()\n",
    "            .over('vessel_id', 'month', 'unified_carrier_scac')\n",
    "            .alias('sum_teus')\n",
    "            )\n",
    "        #select carrier that moved the most cargo on that vessel during that month\n",
    "        .with_columns(\n",
    "            pl.col('unified_carrier_scac')\n",
    "            .sort_by('sum_teus', descending=True)\n",
    "            .drop_nulls().first()\n",
    "            .over('vessel_id', 'month')\n",
    "            .alias('vessel_owner')\n",
    "            )\n",
    "        #add bool col if bol is from primary carrier\n",
    "        .with_columns(\n",
    "            (pl.col('unified_carrier_scac')==pl.col('vessel_owner'))\n",
    "            .alias('primary_cargo')\n",
    "            )\n",
    "        #set related columns to missing when vessel_id is missing\n",
    "        .with_columns(\n",
    "            pl.when(pl.col('vessel_id').is_null()).then(pl.lit(None)).otherwise(pl.col('vessel_owner')).alias('vessel_owner'),\n",
    "            pl.when(pl.col('vessel_id').is_null()).then(pl.lit(None)).otherwise(pl.col('primary_cargo')).alias('primary_cargo')\n",
    "        )\n",
    "        #add shared teu column for convenience \n",
    "        .with_columns(\n",
    "            (pl.col('teus')*(1-pl.col('primary_cargo')))\n",
    "            .alias('shared_teus')\n",
    "        )\n",
    "        #drop ad hoc sum_teus col\n",
    "        .drop('sum_teus')\n",
    "    )\n",
    "    return lf\n",
    "\n",
    "#plot proportion of shared cargo over time\n",
    "def sharing_over_time_plotly(data_lf, group_var, include_missing_vessels=True, limit=10, title=False):\n",
    "    '''\n",
    "    Plots proportion of shared cargo over time (months) by group_var.\n",
    "    INPUTS:\n",
    "        data_lf - polars lazyframe containing the relevant data\n",
    "        group_var - str - the name of the column by which to group\n",
    "        include_missing_vessels - bool - default=True, when False, drops missing vessel_ids\n",
    "        title (default=False) - str - the title of the graph\n",
    "    OUTPUT:\n",
    "        a plotly express figure\n",
    "    DEPENDS ON:\n",
    "        polars\n",
    "        plotly express \n",
    "    '''\n",
    "    if not include_missing_vessels:\n",
    "        df = data_lf.drop_nulls('vessel_id')\n",
    "    else:\n",
    "        df = data_lf\n",
    "    \n",
    "    df = (\n",
    "        #select relevant columns\n",
    "        df.select([group_var, 'month', 'primary_cargo', 'teus'])\n",
    "        #sum teus over each group-month-shared \n",
    "        .group_by(group_var, 'month')\n",
    "        .agg(\n",
    "            (pl.col('teus')*pl.col('primary_cargo')).sum().alias('total_primary'),\n",
    "            pl.col('teus').sum().alias('total_teus')\n",
    "        )\n",
    "        #create proportion shared\n",
    "        .with_columns((1-(pl.col('total_primary')/pl.col('total_teus'))).alias('prop_shared'))\n",
    "        #cast group col to string to allow sensible ordering of legend\n",
    "        .cast({group_var:pl.Utf8})\n",
    "        #sort by date (to allow proper visualization of lines) and group (for legend ordering) \n",
    "        .sort('month')\n",
    "    ).collect()\n",
    "\n",
    "    #limit categories\n",
    "    top_groups = (\n",
    "        data_lf.group_by(group_var)\n",
    "        .agg(pl.col('teus').sum())\n",
    "        .sort('teus', descending=True)\n",
    "        .select(group_var)\n",
    "        .limit(limit)\n",
    "        .collect()\n",
    "        .to_series()\n",
    "        .cast(pl.Utf8)\n",
    "    )\n",
    "    \n",
    "    #plot\n",
    "    fig = px.line(\n",
    "        data_frame=df.filter(pl.col(group_var).is_in(top_groups)).with_columns(pl.col('month').str.to_datetime('%Y%m')),\n",
    "        x='month', y='prop_shared',\n",
    "        color=group_var,\n",
    "        title= 'Proportion of shared cargo over time.' if not title else title,\n",
    "        labels={\n",
    "            'prop_shared':'Proportion of cargo from non-primary carrier',\n",
    "            'month':'Month'\n",
    "        }\n",
    "    )\n",
    "    fig.show()\n",
    "\n",
    "def cluster_dates(lf, direction, samples=None):\n",
    "    '''\n",
    "    Finds arrival/departure date using the following algorithm:\n",
    "        1. Create 1-D dataframe of dates for each vessel-lane pair, \n",
    "            with one date occurance per TEU processed on that date\n",
    "        2. Find clusers of dates using SciKitLearn's HDBSCAN\n",
    "        3. Assign mode date of each cluster as the arrival/departure date\n",
    "        4. Assign any bols with dates occuring between the modes as arriving/departing\n",
    "            on the date of the preceeding mode.\n",
    "        5. Join imputed arrival/departure dates into main lazyframe. \n",
    "    INPUTS\n",
    "        lf - a polars LazyFrame containing the relevant data\n",
    "        direction - 'import' or 'export' - indicating the source data\n",
    "        samples - int - number of random samples \n",
    "    OUTPUTS\n",
    "        lf - the original lazyframe with imputed dates \n",
    "    '''\n",
    "    #create vessel_port_pair columns in main lf\n",
    "    lf = (\n",
    "        lf.with_columns(\n",
    "            (pl.col('vessel_id').cast(pl.Utf8)+'_'+pl.col('lane_id').cast(pl.Utf8))\n",
    "            .cast(pl.Categorical)\n",
    "            .alias('vessel_lane_pair')\n",
    "        )\n",
    "    )\n",
    "    #collect relevant columns from lf\n",
    "    begin_collect = time.time()\n",
    "    df = (\n",
    "        lf.group_by('date', 'vessel_lane_pair')\n",
    "        #get sum of TEUs on each date \n",
    "        .agg(pl.col('teus').sum().alias('sum_teus'))\n",
    "        #drop missing vessel-port pairs\n",
    "        .drop_nulls(subset='vessel_lane_pair')\n",
    "        #sort by date\n",
    "        .sort('date')\n",
    "        .collect()\n",
    "    )\n",
    "    print('clustering data collected; time = {:.2f} minutes'.format((time.time() - begin_collect)/60))\n",
    "    #initialize variables\n",
    "    samples=samples \n",
    "    if samples:\n",
    "        pairs = df.select('vessel_lane_pair').unique().sample(samples).to_series()\n",
    "    else:\n",
    "        pairs = df.select('vessel_lane_pair').unique().to_series()\n",
    "    pairs_df = pl.DataFrame()\n",
    "    #loop through vessel-port pairs\n",
    "    print('Looping through vessel-lane pairs')\n",
    "    for i in range(len(pairs)):\n",
    "        if i%1000 == 0:\n",
    "            begin_block = time.time()\n",
    "        pair = pairs[i]\n",
    "        #make single-column dataframe of dates where each date corresponds to a single TEU that arrived on that day \n",
    "        pair_1d = (\n",
    "            df.filter(pl.col('vessel_lane_pair')==pair)\n",
    "            .select('date', pl.col('sum_teus').ceil())\n",
    "            #explode dates by each teu \n",
    "            .select(pl.exclude('sum_teus').repeat_by('sum_teus').explode())\n",
    "        )\n",
    "        #find minimum number of occurances of a single date (needed for HDBSCAN param)\n",
    "        min_sample = pair_1d.group_by('date').agg(pl.col('date').count().alias('count')).min().row(0)[1]\n",
    "        #skip empty pairs\n",
    "        if min_sample == 0:\n",
    "            continue\n",
    "        #skip vessel_port pairs with less than 2 dates\n",
    "        if len(pair_1d) < 2:\n",
    "            continue\n",
    "        #instantiate clusterer\n",
    "        clusterer = HDBSCAN(min_cluster_size=50, min_samples=min_sample) #we need to find a dynamic way of seleting these parameters\n",
    "        #get clusters\n",
    "        clusterer.fit(pair_1d)\n",
    "        #add back to pair_1d\n",
    "        pair_df = (\n",
    "            pair_1d\n",
    "            #add cluster column\n",
    "            .with_columns(\n",
    "                pl.Series(name='cluster', values=clusterer.labels_)\n",
    "            )\n",
    "            #add imputed date column\n",
    "            .with_columns(\n",
    "                    #when date matches the mode of each cluster\n",
    "                    pl.when(pl.col('date') == pl.col('date').mode().first().over('cluster'))\n",
    "                    #fill with that date, otherwise fill with null\n",
    "                    .then(pl.col('date'))\n",
    "                    .otherwise(pl.lit(None))\n",
    "                    #forward fill the arrival date to the mode of next cluster\n",
    "                    .forward_fill()\n",
    "                    #backward fill the first part of first cluster\n",
    "                    .backward_fill()\n",
    "                    #name column\n",
    "                    .alias('date_imputed')\n",
    "                )\n",
    "            #groupby date to simplify\n",
    "            .group_by('date')\n",
    "            .agg(pl.col('date_imputed').first())\n",
    "            #add pair label\n",
    "            .with_columns(pl.lit(pair).alias('vessel_lane_pair').cast(pl.Categorical))\n",
    "        )\n",
    "        #init or concat pairs_df\n",
    "        if i == 0:\n",
    "            pairs_df = pair_df   \n",
    "        else:\n",
    "            pairs_df = pl.concat([pairs_df,pair_df], how='vertical')\n",
    "        #print status update\n",
    "        if (i != 0) and ((i+1)%1000 == 0):\n",
    "            print('{:,} pairs of {:,} clustered. The previous 1000 pairs took {:.2f} minutes.'.format(i+1, len(pairs), (time.time()-begin_block)/60))\n",
    "    #rename imputed dates based on direction\n",
    "    if direction=='import':\n",
    "        pairs_df = pairs_df.rename({'date_imputed': 'date_arrival'})\n",
    "    elif direction=='export':\n",
    "        pairs_df = pairs_df.rename({'date_imputed': 'date_departure'})\n",
    "    else:\n",
    "        raise Exception('direction must equal \"import\" or \"export\"')\n",
    "    #join imputed dates to main lf\n",
    "    pairs_lf = pairs_df.lazy()\n",
    "    lf = (\n",
    "        lf.join(pairs_lf, on=['date', 'vessel_lane_pair'], how='left')\n",
    "    )\n",
    "    print('Total time to cluster dates: {:.2f} hours'.format((time.time()-begin_collect)/3600))\n",
    "    return lf\n",
    "\n",
    "def add_alliance_data(lf):\n",
    "    '''ad hoc function to add alliance info into main lazyframe'''\n",
    "    lf = (\n",
    "        lf\n",
    "         #join alliance data into main lf\n",
    "        .join(alliances_df.lazy(), on=['unified_carrier_scac', 'date'], how='left')\n",
    "        #create related columns\n",
    "        .with_columns(\n",
    "            #create boolean for alliance membership\n",
    "            pl.col('alliance').is_not_null().alias('alliance_member'),\n",
    "            #set missing alliance_member cells to \"Non-alliance Carriers\"\n",
    "            pl.col('alliance').replace({None:'Non-alliance Carriers'})\n",
    "        )\n",
    "        #get primary carrier alliance\n",
    "        .with_columns(\n",
    "            pl.when(pl.col('unified_carrier_scac')==pl.col('vessel_owner'))\n",
    "            .then(pl.col('alliance'))\n",
    "            .otherwise(pl.lit(None))\n",
    "            .alias('pc_alliance')\n",
    "        )\n",
    "        #fill nulls in primary carrier alliance over month and vessel\n",
    "        .with_columns(\n",
    "            pl.col('pc_alliance')\n",
    "            .fill_null(strategy='forward')\n",
    "            .over('vessel_id', 'month')\n",
    "        )\n",
    "        .with_columns(\n",
    "            pl.col('pc_alliance')\n",
    "            .fill_null(strategy='backward')\n",
    "            .over('vessel_id', 'month')\n",
    "        )\n",
    "        #get cargo source column\n",
    "        .with_columns(\n",
    "            pl.when((pl.col('primary_cargo')==True)&(pl.col('alliance_member')==True))\n",
    "            .then(pl.lit('ally'))\n",
    "            .otherwise(\n",
    "                pl.when((pl.col('alliance_member')==True)&(pl.col('alliance')==pl.col('pc_alliance')))\n",
    "                .then(pl.lit('ally'))\n",
    "                .otherwise(pl.lit('non-ally'))\n",
    "            )\n",
    "            .alias('cargo_source')\n",
    "        )\n",
    "    )\n",
    "    return lf \n"
   ]
  },
  {
   "cell_type": "markdown",
   "metadata": {},
   "source": [
    "### Carrier names and Standard Carrier Alpha Codes (SCAC)\n",
    "\n",
    "Carrier names are often long strings of inconsistent nature (e.g. \"Maersk\", \"MAERSK LINE\", \"A.P. Moller Maersk\", etc.), and SCAC codes can change over time for the same carrier. To address these issues, we simply carrier names to the most commonly used name string for a given SCAC, and we simplify SCAC codes to the most recent SCAC used for a given carrier name. \n",
    "\n",
    "As carrier alliances apply only to containerized freight, we also drop instances of bulk cargo, which are coded in this data as \"BULK\" under the carrier_scac column."
   ]
  },
  {
   "cell_type": "code",
   "execution_count": 5,
   "metadata": {},
   "outputs": [],
   "source": [
    "#drop bulk carriers\n",
    "main_lf = main_lf.filter(pl.col('carrier_scac')!='BULK')\n"
   ]
  },
  {
   "cell_type": "code",
   "execution_count": 6,
   "metadata": {},
   "outputs": [],
   "source": [
    "#unify carrier names and scacs\n",
    "\n",
    "main_lf = (\n",
    "    main_lf\n",
    "    #get most commonly used form of carrier name\n",
    "    .with_columns(\n",
    "        pl.col('carrier_name').drop_nulls().mode().first().over('carrier_scac')\n",
    "        .alias('unified_carrier_name')\n",
    "    )\n",
    "    #get most commonly used form of SCAC\n",
    "    .with_columns(\n",
    "        pl.col('carrier_scac').drop_nulls().mode().first().over('unified_carrier_name')\n",
    "        .alias('unified_carrier_scac')\n",
    "    )\n",
    ")"
   ]
  },
  {
   "cell_type": "markdown",
   "metadata": {},
   "source": [
    "### Tanker Transfer Ports\n",
    "\n",
    "Some BOLs list offshore tanker transfer ports as their origin or destination. Since these are not relevant to containerized carrier alliances, we drop them from the database. "
   ]
  },
  {
   "cell_type": "code",
   "execution_count": 7,
   "metadata": {},
   "outputs": [],
   "source": [
    "main_lf = (\n",
    "    main_lf\n",
    "    .filter((pl.col('departure_port_code').cast(pl.Utf8).str.starts_with('999') == False))\n",
    "    .filter(pl.col('arrival_port_code').cast(pl.Utf8).str.starts_with('999') == False)\n",
    ")"
   ]
  },
  {
   "cell_type": "markdown",
   "metadata": {},
   "source": [
    "### Missing Data"
   ]
  },
  {
   "cell_type": "code",
   "execution_count": 8,
   "metadata": {},
   "outputs": [
    {
     "data": {
      "application/vnd.plotly.v1+json": {
       "config": {
        "plotlyServerURL": "https://plot.ly"
       },
       "data": [
        {
         "hovertemplate": "direction=export<br>month=%{x}<br>null_percent=%{y}<extra></extra>",
         "legendgroup": "export",
         "line": {
          "color": "#636efa",
          "dash": "solid"
         },
         "marker": {
          "symbol": "circle"
         },
         "mode": "lines",
         "name": "export",
         "orientation": "v",
         "showlegend": true,
         "type": "scatter",
         "x": [
          "200701",
          "200702",
          "200703",
          "200704",
          "200705",
          "200706",
          "200707",
          "200708",
          "200709",
          "200710",
          "200711",
          "200712",
          "200801",
          "200802",
          "200803",
          "200804",
          "200805",
          "200806",
          "200807",
          "200808",
          "200809",
          "200810",
          "200811",
          "200812",
          "200901",
          "200902",
          "200903",
          "200904",
          "200905",
          "200906",
          "200907",
          "200908",
          "200909",
          "200910",
          "200911",
          "200912",
          "201001",
          "201002",
          "201003",
          "201004",
          "201005",
          "201006",
          "201007",
          "201008",
          "201009",
          "201010",
          "201011",
          "201012",
          "201101",
          "201102",
          "201103",
          "201104",
          "201105",
          "201106",
          "201107",
          "201108",
          "201109",
          "201110",
          "201111",
          "201112",
          "201201",
          "201202",
          "201203",
          "201204",
          "201205",
          "201206",
          "201207",
          "201208",
          "201209",
          "201210",
          "201211",
          "201212",
          "201301",
          "201302",
          "201303",
          "201304",
          "201305",
          "201306",
          "201307",
          "201308",
          "201309",
          "201310",
          "201311",
          "201312",
          "201401",
          "201402",
          "201403",
          "201404",
          "201405",
          "201406",
          "201407",
          "201408",
          "201409",
          "201410",
          "201411",
          "201412",
          "201501",
          "201502",
          "201503",
          "201504",
          "201505",
          "201506",
          "201507",
          "201508",
          "201509",
          "201510",
          "201511",
          "201512",
          "201601",
          "201602",
          "201603",
          "201604",
          "201605",
          "201606",
          "201607",
          "201608",
          "201609",
          "201610",
          "201611",
          "201612",
          "201701",
          "201702",
          "201703",
          "201704",
          "201705",
          "201706",
          "201707",
          "201708",
          "201709",
          "201710",
          "201711",
          "201712",
          "201801",
          "201802",
          "201803",
          "201804",
          "201805",
          "201806",
          "201807",
          "201808",
          "201809",
          "201810",
          "201811",
          "201812",
          "201901",
          "201902",
          "201903",
          "201904",
          "201905",
          "201906",
          "201907",
          "201908",
          "201909",
          "201910",
          "201911",
          "201912",
          "202001",
          "202002",
          "202003",
          "202004",
          "202005",
          "202006",
          "202007",
          "202008",
          "202009",
          "202010",
          "202011",
          "202012",
          "202101",
          "202102",
          "202103",
          "202104",
          "202105",
          "202106",
          "202107",
          "202108",
          "202109",
          "202110",
          "202111",
          "202112",
          "202201",
          "202202",
          "202203",
          "202204",
          "202205",
          "202206",
          "202207",
          "202208",
          "202209",
          "202210",
          "202211",
          "202212",
          "202301",
          "202302",
          "202303",
          "202304",
          "202305",
          "202306",
          "202307",
          "202308",
          "202309",
          "202310",
          "202311",
          "202312"
         ],
         "xaxis": "x",
         "y": [
          1,
          1,
          1,
          1,
          1,
          1,
          1,
          1,
          1,
          1,
          1,
          1,
          1,
          1,
          1,
          1,
          1,
          1,
          1,
          1,
          1,
          1,
          1,
          1,
          1,
          1,
          1,
          1,
          1,
          1,
          1,
          1,
          1,
          1,
          1,
          1,
          1,
          1,
          1,
          1,
          1,
          0.999933740147791,
          1,
          1,
          1,
          1,
          1,
          1,
          1,
          1,
          1,
          1,
          1,
          1,
          1,
          1,
          0.9998214296523629,
          1,
          1,
          1,
          1,
          1,
          1,
          1,
          0.9998024216616633,
          0.9999127381271194,
          1,
          0.9999911114798201,
          0.9984132537044904,
          1,
          0.9999969132753852,
          0.9999757768075044,
          0.99383689079539,
          0.9993882823465117,
          0.9989088016169088,
          0.9924637031147535,
          0.9828546642384126,
          0.8410312565319257,
          0.7807345460761008,
          0.779716838170561,
          0.7701469292926714,
          0.7771724869656487,
          0.7730096536225226,
          0.755943139363472,
          0.725740963616405,
          0.7303348557667709,
          0.7368377305493057,
          0.7521062164057023,
          0.7481012974121078,
          0.7208647858158904,
          0.7124039872906583,
          0.7130058625334992,
          0.7120280195476355,
          0.7015606727784596,
          0.5628941998763546,
          0.1215715104623785,
          0.10555307703368864,
          0.10006448249368895,
          0.09871569555225092,
          0.0885139539466703,
          0.10184676684349513,
          0.09697557696758709,
          0.09285825073826157,
          0.09656758293601944,
          0.09477133939026049,
          0.0920968199711243,
          0.10235857718613785,
          0.10208757114384927,
          0.08746888884791947,
          0.09508015478164732,
          0.08981699023123532,
          0.09240950030651221,
          0.10267189835575485,
          0.09705549009346275,
          0.10042905924318012,
          0.09742232400689549,
          0.0980233440308291,
          0.08036215565906778,
          0.09285331309151591,
          0.09630819628839014,
          0.09355618662344448,
          0.08673817665552461,
          0.10590620850266874,
          0.10535439198059045,
          0.10820385350700758,
          0.10824009754994392,
          0.12436943330889579,
          0.10976327275565402,
          0.10782845881697806,
          0.1007473300405989,
          0.0975037177136422,
          0.0982657926102503,
          0.11363838476430228,
          0.1083200568202181,
          0.09722821354410878,
          0.12251352758024928,
          0.13852876787302457,
          0.11104086221006325,
          0.11403970429844316,
          0.12309119761361764,
          0.10232744125677239,
          0.10360400528131032,
          0.1214480906638906,
          0.12875592952718978,
          0.11622094012466938,
          0.12338123527264279,
          0.11716829509574078,
          0.12495546393851478,
          0.13723074271928312,
          0.12699886027473378,
          0.1363733075136987,
          0.13432976150950934,
          0.11794560897883524,
          0.10984546665348355,
          0.1171202861827396,
          0.1315663536473668,
          0.12858943785187843,
          0.10881674901475476,
          0.11351144946360706,
          0.1020538937548665,
          0.09395291819104717,
          0.10923006357064606,
          0.12268849319766777,
          0.10675535742492585,
          0.09579253770838846,
          0.12863648523573926,
          0.10857401285010293,
          0.12323655258726321,
          0.10375338343910134,
          0.1298511514728999,
          0.1217310095878269,
          0.10914876412860741,
          0.13444878326307896,
          0.12579405771817442,
          0.12600222372209344,
          0.11227243142136759,
          0.12014473389716704,
          0.09439989817996691,
          0.10502705733723373,
          0.11560275841722904,
          0.09487487373015419,
          0.09110687174883347,
          0.09307456317543683,
          0.09719396668549764,
          0.100559027461714,
          0.1099782984489674,
          0.078409761857902,
          0.07543569564792722,
          0.06838670246436601,
          0.07153246703206728,
          0.07446437992903228,
          0.07796300358265701,
          0.06458490092801605,
          0.05418730127075924,
          0.08785092042348093,
          0.07802283092477609,
          0.07591443321616871,
          0.09932267294566481,
          0.07707485731537256,
          0.06411824865407252,
          0.07305481027213492,
          0.07402003696138508,
          0.060611090780821456,
          0.07124110647456394
         ],
         "yaxis": "y"
        },
        {
         "hovertemplate": "direction=import<br>month=%{x}<br>null_percent=%{y}<extra></extra>",
         "legendgroup": "import",
         "line": {
          "color": "#EF553B",
          "dash": "solid"
         },
         "marker": {
          "symbol": "circle"
         },
         "mode": "lines",
         "name": "import",
         "orientation": "v",
         "showlegend": true,
         "type": "scatter",
         "x": [
          "200701",
          "200702",
          "200703",
          "200704",
          "200705",
          "200706",
          "200707",
          "200708",
          "200709",
          "200710",
          "200711",
          "200712",
          "200801",
          "200802",
          "200803",
          "200804",
          "200805",
          "200806",
          "200807",
          "200808",
          "200809",
          "200810",
          "200811",
          "200812",
          "200901",
          "200902",
          "200903",
          "200904",
          "200905",
          "200906",
          "200907",
          "200908",
          "200909",
          "200910",
          "200911",
          "200912",
          "201001",
          "201002",
          "201003",
          "201004",
          "201005",
          "201006",
          "201007",
          "201008",
          "201009",
          "201010",
          "201011",
          "201012",
          "201101",
          "201102",
          "201103",
          "201104",
          "201105",
          "201106",
          "201107",
          "201108",
          "201109",
          "201110",
          "201111",
          "201112",
          "201201",
          "201202",
          "201203",
          "201204",
          "201205",
          "201206",
          "201207",
          "201208",
          "201209",
          "201210",
          "201211",
          "201212",
          "201301",
          "201302",
          "201303",
          "201304",
          "201305",
          "201306",
          "201307",
          "201308",
          "201309",
          "201310",
          "201311",
          "201312",
          "201401",
          "201402",
          "201403",
          "201404",
          "201405",
          "201406",
          "201407",
          "201408",
          "201409",
          "201410",
          "201411",
          "201412",
          "201501",
          "201502",
          "201503",
          "201504",
          "201505",
          "201506",
          "201507",
          "201508",
          "201509",
          "201510",
          "201511",
          "201512",
          "201601",
          "201602",
          "201603",
          "201604",
          "201605",
          "201606",
          "201607",
          "201608",
          "201609",
          "201610",
          "201611",
          "201612",
          "201701",
          "201702",
          "201703",
          "201704",
          "201705",
          "201706",
          "201707",
          "201708",
          "201709",
          "201710",
          "201711",
          "201712",
          "201801",
          "201802",
          "201803",
          "201804",
          "201805",
          "201806",
          "201807",
          "201808",
          "201809",
          "201810",
          "201811",
          "201812",
          "201901",
          "201902",
          "201903",
          "201904",
          "201905",
          "201906",
          "201907",
          "201908",
          "201909",
          "201910",
          "201911",
          "201912",
          "202001",
          "202002",
          "202003",
          "202004",
          "202005",
          "202006",
          "202007",
          "202008",
          "202009",
          "202010",
          "202011",
          "202012",
          "202101",
          "202102",
          "202103",
          "202104",
          "202105",
          "202106",
          "202107",
          "202108",
          "202109",
          "202110",
          "202111",
          "202112",
          "202201",
          "202202",
          "202203",
          "202204",
          "202205",
          "202206",
          "202207",
          "202208",
          "202209",
          "202210",
          "202211",
          "202212",
          "202301",
          "202302",
          "202303",
          "202304",
          "202305",
          "202306",
          "202307",
          "202308",
          "202309",
          "202310",
          "202311",
          "202312"
         ],
         "xaxis": "x",
         "y": [
          1,
          1,
          1,
          1,
          1,
          1,
          1,
          1,
          1,
          1,
          1,
          1,
          1,
          1,
          1,
          1,
          1,
          1,
          1,
          1,
          1,
          1,
          1,
          1,
          1,
          1,
          1,
          1,
          1,
          1,
          1,
          1,
          1,
          1,
          1,
          1,
          1,
          1,
          1,
          0.9988532110091743,
          1,
          1,
          1,
          1,
          1,
          1,
          1,
          1,
          1,
          1,
          1,
          1,
          1,
          1,
          1,
          1,
          1,
          1,
          1,
          1,
          0.9999987172185193,
          1,
          1,
          0.9999881924783464,
          0.9999936287633302,
          1,
          1,
          1,
          1,
          1,
          1,
          1,
          1,
          0.9999757769233123,
          0.9999898945569197,
          0.9996878480585243,
          0.9983902357898318,
          0.9956227559128773,
          0.8423607027894322,
          0.8084567494587078,
          0.8058290858147784,
          0.790728919026266,
          0.810692573409079,
          0.8165545904964671,
          0.7896397173716223,
          0.7884905218618958,
          0.791285435136507,
          0.8036293527591813,
          0.813434314011069,
          0.8187265864856491,
          0.807947476329995,
          0.8093649472402731,
          0.7944426599569938,
          0.7931265134157862,
          0.8076256927949327,
          0.5705223297469496,
          0.041218678739325526,
          0.04053323800919636,
          0.03611538461538462,
          0.03992893492727875,
          0.03883043447140505,
          0.025374343606241717,
          0.02693858033973703,
          0.02488928141719786,
          0.021500958191302978,
          0.022518508677087722,
          0.023362046932876412,
          0.02704576720650013,
          0.023367988670941132,
          0.021092954702252583,
          0.026895055967017398,
          0.02340342636323554,
          0.02258451177835016,
          0.02451404608459665,
          0.025443386972773787,
          0.02439862649037833,
          0.02215604554402343,
          0.022586738799964232,
          0.02159961187926673,
          0.024241435600286274,
          0.02403338697773468,
          0.025553398754404655,
          0.02750542189943007,
          0.025370226208100654,
          0.02482678859948203,
          0.02523383150817162,
          0.027583511211036353,
          0.02288166637380834,
          0.022249727275792424,
          0.02315154860211858,
          0.026014285539369828,
          0.04755556195333582,
          0.025667791085986415,
          0.023892013903344972,
          0.032448402420818756,
          0.06416454289785553,
          0.05777289702614202,
          0.03887327637697745,
          0.020648990513257116,
          0.0213985633738139,
          0.02086209355174412,
          0.019135736599832948,
          0.018817039274668653,
          0.02155586372792246,
          0.019888125572445986,
          0.020151142330367973,
          0.02555869179807782,
          0.022463804062054494,
          0.020521553346775228,
          0.021764605627674925,
          0.019905617893196233,
          0.019673253516899362,
          0.018630422750636182,
          0.017953186059088265,
          0.019258660664892402,
          0.018943236815407386,
          0.018238728087887877,
          0.035416822990920686,
          0.02459370824096963,
          0.20506598307565008,
          0.2068605677618251,
          0.0647985164293335,
          0.02822916584015044,
          0.09187133389166159,
          0.0835628024074584,
          0.04460119217078704,
          0.07090434718169272,
          0.1079334704939591,
          0.09694442334429498,
          0.0839908396311694,
          0.03552463012590987,
          0.033599321159902745,
          0.0470700521785929,
          0.04732313448854286,
          0.05685346531305873,
          0.02896784422130981,
          0.03337309856573651,
          0.08336623044163062,
          0.08148924739770967,
          0.14681909270389415,
          0.12914308948090558,
          0.09206864838956082,
          0.09154064138325493,
          0.08084868036741533,
          0.0828765950321385,
          0.07751064726659593,
          0.06956163642139694,
          0.04665317406239134,
          0.08175455790518552,
          0.061988716183558515,
          0.09904995751764151,
          0.09689721480813046,
          0.14931429790019912,
          0.06490218588686228,
          0.100838616636282,
          0.1048998513237725,
          0.058931117538745255,
          0.05834024434311442,
          0.07214564025263202,
          0.054288587642879985,
          0.04047512856687753,
          0.07597296230258721,
          0.04367186577042963,
          0.0544810978562559
         ],
         "yaxis": "y"
        }
       ],
       "layout": {
        "legend": {
         "title": {
          "text": "direction"
         },
         "tracegroupgap": 0
        },
        "template": {
         "data": {
          "bar": [
           {
            "error_x": {
             "color": "#2a3f5f"
            },
            "error_y": {
             "color": "#2a3f5f"
            },
            "marker": {
             "line": {
              "color": "#E5ECF6",
              "width": 0.5
             },
             "pattern": {
              "fillmode": "overlay",
              "size": 10,
              "solidity": 0.2
             }
            },
            "type": "bar"
           }
          ],
          "barpolar": [
           {
            "marker": {
             "line": {
              "color": "#E5ECF6",
              "width": 0.5
             },
             "pattern": {
              "fillmode": "overlay",
              "size": 10,
              "solidity": 0.2
             }
            },
            "type": "barpolar"
           }
          ],
          "carpet": [
           {
            "aaxis": {
             "endlinecolor": "#2a3f5f",
             "gridcolor": "white",
             "linecolor": "white",
             "minorgridcolor": "white",
             "startlinecolor": "#2a3f5f"
            },
            "baxis": {
             "endlinecolor": "#2a3f5f",
             "gridcolor": "white",
             "linecolor": "white",
             "minorgridcolor": "white",
             "startlinecolor": "#2a3f5f"
            },
            "type": "carpet"
           }
          ],
          "choropleth": [
           {
            "colorbar": {
             "outlinewidth": 0,
             "ticks": ""
            },
            "type": "choropleth"
           }
          ],
          "contour": [
           {
            "colorbar": {
             "outlinewidth": 0,
             "ticks": ""
            },
            "colorscale": [
             [
              0,
              "#0d0887"
             ],
             [
              0.1111111111111111,
              "#46039f"
             ],
             [
              0.2222222222222222,
              "#7201a8"
             ],
             [
              0.3333333333333333,
              "#9c179e"
             ],
             [
              0.4444444444444444,
              "#bd3786"
             ],
             [
              0.5555555555555556,
              "#d8576b"
             ],
             [
              0.6666666666666666,
              "#ed7953"
             ],
             [
              0.7777777777777778,
              "#fb9f3a"
             ],
             [
              0.8888888888888888,
              "#fdca26"
             ],
             [
              1,
              "#f0f921"
             ]
            ],
            "type": "contour"
           }
          ],
          "contourcarpet": [
           {
            "colorbar": {
             "outlinewidth": 0,
             "ticks": ""
            },
            "type": "contourcarpet"
           }
          ],
          "heatmap": [
           {
            "colorbar": {
             "outlinewidth": 0,
             "ticks": ""
            },
            "colorscale": [
             [
              0,
              "#0d0887"
             ],
             [
              0.1111111111111111,
              "#46039f"
             ],
             [
              0.2222222222222222,
              "#7201a8"
             ],
             [
              0.3333333333333333,
              "#9c179e"
             ],
             [
              0.4444444444444444,
              "#bd3786"
             ],
             [
              0.5555555555555556,
              "#d8576b"
             ],
             [
              0.6666666666666666,
              "#ed7953"
             ],
             [
              0.7777777777777778,
              "#fb9f3a"
             ],
             [
              0.8888888888888888,
              "#fdca26"
             ],
             [
              1,
              "#f0f921"
             ]
            ],
            "type": "heatmap"
           }
          ],
          "heatmapgl": [
           {
            "colorbar": {
             "outlinewidth": 0,
             "ticks": ""
            },
            "colorscale": [
             [
              0,
              "#0d0887"
             ],
             [
              0.1111111111111111,
              "#46039f"
             ],
             [
              0.2222222222222222,
              "#7201a8"
             ],
             [
              0.3333333333333333,
              "#9c179e"
             ],
             [
              0.4444444444444444,
              "#bd3786"
             ],
             [
              0.5555555555555556,
              "#d8576b"
             ],
             [
              0.6666666666666666,
              "#ed7953"
             ],
             [
              0.7777777777777778,
              "#fb9f3a"
             ],
             [
              0.8888888888888888,
              "#fdca26"
             ],
             [
              1,
              "#f0f921"
             ]
            ],
            "type": "heatmapgl"
           }
          ],
          "histogram": [
           {
            "marker": {
             "pattern": {
              "fillmode": "overlay",
              "size": 10,
              "solidity": 0.2
             }
            },
            "type": "histogram"
           }
          ],
          "histogram2d": [
           {
            "colorbar": {
             "outlinewidth": 0,
             "ticks": ""
            },
            "colorscale": [
             [
              0,
              "#0d0887"
             ],
             [
              0.1111111111111111,
              "#46039f"
             ],
             [
              0.2222222222222222,
              "#7201a8"
             ],
             [
              0.3333333333333333,
              "#9c179e"
             ],
             [
              0.4444444444444444,
              "#bd3786"
             ],
             [
              0.5555555555555556,
              "#d8576b"
             ],
             [
              0.6666666666666666,
              "#ed7953"
             ],
             [
              0.7777777777777778,
              "#fb9f3a"
             ],
             [
              0.8888888888888888,
              "#fdca26"
             ],
             [
              1,
              "#f0f921"
             ]
            ],
            "type": "histogram2d"
           }
          ],
          "histogram2dcontour": [
           {
            "colorbar": {
             "outlinewidth": 0,
             "ticks": ""
            },
            "colorscale": [
             [
              0,
              "#0d0887"
             ],
             [
              0.1111111111111111,
              "#46039f"
             ],
             [
              0.2222222222222222,
              "#7201a8"
             ],
             [
              0.3333333333333333,
              "#9c179e"
             ],
             [
              0.4444444444444444,
              "#bd3786"
             ],
             [
              0.5555555555555556,
              "#d8576b"
             ],
             [
              0.6666666666666666,
              "#ed7953"
             ],
             [
              0.7777777777777778,
              "#fb9f3a"
             ],
             [
              0.8888888888888888,
              "#fdca26"
             ],
             [
              1,
              "#f0f921"
             ]
            ],
            "type": "histogram2dcontour"
           }
          ],
          "mesh3d": [
           {
            "colorbar": {
             "outlinewidth": 0,
             "ticks": ""
            },
            "type": "mesh3d"
           }
          ],
          "parcoords": [
           {
            "line": {
             "colorbar": {
              "outlinewidth": 0,
              "ticks": ""
             }
            },
            "type": "parcoords"
           }
          ],
          "pie": [
           {
            "automargin": true,
            "type": "pie"
           }
          ],
          "scatter": [
           {
            "fillpattern": {
             "fillmode": "overlay",
             "size": 10,
             "solidity": 0.2
            },
            "type": "scatter"
           }
          ],
          "scatter3d": [
           {
            "line": {
             "colorbar": {
              "outlinewidth": 0,
              "ticks": ""
             }
            },
            "marker": {
             "colorbar": {
              "outlinewidth": 0,
              "ticks": ""
             }
            },
            "type": "scatter3d"
           }
          ],
          "scattercarpet": [
           {
            "marker": {
             "colorbar": {
              "outlinewidth": 0,
              "ticks": ""
             }
            },
            "type": "scattercarpet"
           }
          ],
          "scattergeo": [
           {
            "marker": {
             "colorbar": {
              "outlinewidth": 0,
              "ticks": ""
             }
            },
            "type": "scattergeo"
           }
          ],
          "scattergl": [
           {
            "marker": {
             "colorbar": {
              "outlinewidth": 0,
              "ticks": ""
             }
            },
            "type": "scattergl"
           }
          ],
          "scattermapbox": [
           {
            "marker": {
             "colorbar": {
              "outlinewidth": 0,
              "ticks": ""
             }
            },
            "type": "scattermapbox"
           }
          ],
          "scatterpolar": [
           {
            "marker": {
             "colorbar": {
              "outlinewidth": 0,
              "ticks": ""
             }
            },
            "type": "scatterpolar"
           }
          ],
          "scatterpolargl": [
           {
            "marker": {
             "colorbar": {
              "outlinewidth": 0,
              "ticks": ""
             }
            },
            "type": "scatterpolargl"
           }
          ],
          "scatterternary": [
           {
            "marker": {
             "colorbar": {
              "outlinewidth": 0,
              "ticks": ""
             }
            },
            "type": "scatterternary"
           }
          ],
          "surface": [
           {
            "colorbar": {
             "outlinewidth": 0,
             "ticks": ""
            },
            "colorscale": [
             [
              0,
              "#0d0887"
             ],
             [
              0.1111111111111111,
              "#46039f"
             ],
             [
              0.2222222222222222,
              "#7201a8"
             ],
             [
              0.3333333333333333,
              "#9c179e"
             ],
             [
              0.4444444444444444,
              "#bd3786"
             ],
             [
              0.5555555555555556,
              "#d8576b"
             ],
             [
              0.6666666666666666,
              "#ed7953"
             ],
             [
              0.7777777777777778,
              "#fb9f3a"
             ],
             [
              0.8888888888888888,
              "#fdca26"
             ],
             [
              1,
              "#f0f921"
             ]
            ],
            "type": "surface"
           }
          ],
          "table": [
           {
            "cells": {
             "fill": {
              "color": "#EBF0F8"
             },
             "line": {
              "color": "white"
             }
            },
            "header": {
             "fill": {
              "color": "#C8D4E3"
             },
             "line": {
              "color": "white"
             }
            },
            "type": "table"
           }
          ]
         },
         "layout": {
          "annotationdefaults": {
           "arrowcolor": "#2a3f5f",
           "arrowhead": 0,
           "arrowwidth": 1
          },
          "autotypenumbers": "strict",
          "coloraxis": {
           "colorbar": {
            "outlinewidth": 0,
            "ticks": ""
           }
          },
          "colorscale": {
           "diverging": [
            [
             0,
             "#8e0152"
            ],
            [
             0.1,
             "#c51b7d"
            ],
            [
             0.2,
             "#de77ae"
            ],
            [
             0.3,
             "#f1b6da"
            ],
            [
             0.4,
             "#fde0ef"
            ],
            [
             0.5,
             "#f7f7f7"
            ],
            [
             0.6,
             "#e6f5d0"
            ],
            [
             0.7,
             "#b8e186"
            ],
            [
             0.8,
             "#7fbc41"
            ],
            [
             0.9,
             "#4d9221"
            ],
            [
             1,
             "#276419"
            ]
           ],
           "sequential": [
            [
             0,
             "#0d0887"
            ],
            [
             0.1111111111111111,
             "#46039f"
            ],
            [
             0.2222222222222222,
             "#7201a8"
            ],
            [
             0.3333333333333333,
             "#9c179e"
            ],
            [
             0.4444444444444444,
             "#bd3786"
            ],
            [
             0.5555555555555556,
             "#d8576b"
            ],
            [
             0.6666666666666666,
             "#ed7953"
            ],
            [
             0.7777777777777778,
             "#fb9f3a"
            ],
            [
             0.8888888888888888,
             "#fdca26"
            ],
            [
             1,
             "#f0f921"
            ]
           ],
           "sequentialminus": [
            [
             0,
             "#0d0887"
            ],
            [
             0.1111111111111111,
             "#46039f"
            ],
            [
             0.2222222222222222,
             "#7201a8"
            ],
            [
             0.3333333333333333,
             "#9c179e"
            ],
            [
             0.4444444444444444,
             "#bd3786"
            ],
            [
             0.5555555555555556,
             "#d8576b"
            ],
            [
             0.6666666666666666,
             "#ed7953"
            ],
            [
             0.7777777777777778,
             "#fb9f3a"
            ],
            [
             0.8888888888888888,
             "#fdca26"
            ],
            [
             1,
             "#f0f921"
            ]
           ]
          },
          "colorway": [
           "#636efa",
           "#EF553B",
           "#00cc96",
           "#ab63fa",
           "#FFA15A",
           "#19d3f3",
           "#FF6692",
           "#B6E880",
           "#FF97FF",
           "#FECB52"
          ],
          "font": {
           "color": "#2a3f5f"
          },
          "geo": {
           "bgcolor": "white",
           "lakecolor": "white",
           "landcolor": "#E5ECF6",
           "showlakes": true,
           "showland": true,
           "subunitcolor": "white"
          },
          "hoverlabel": {
           "align": "left"
          },
          "hovermode": "closest",
          "mapbox": {
           "style": "light"
          },
          "paper_bgcolor": "white",
          "plot_bgcolor": "#E5ECF6",
          "polar": {
           "angularaxis": {
            "gridcolor": "white",
            "linecolor": "white",
            "ticks": ""
           },
           "bgcolor": "#E5ECF6",
           "radialaxis": {
            "gridcolor": "white",
            "linecolor": "white",
            "ticks": ""
           }
          },
          "scene": {
           "xaxis": {
            "backgroundcolor": "#E5ECF6",
            "gridcolor": "white",
            "gridwidth": 2,
            "linecolor": "white",
            "showbackground": true,
            "ticks": "",
            "zerolinecolor": "white"
           },
           "yaxis": {
            "backgroundcolor": "#E5ECF6",
            "gridcolor": "white",
            "gridwidth": 2,
            "linecolor": "white",
            "showbackground": true,
            "ticks": "",
            "zerolinecolor": "white"
           },
           "zaxis": {
            "backgroundcolor": "#E5ECF6",
            "gridcolor": "white",
            "gridwidth": 2,
            "linecolor": "white",
            "showbackground": true,
            "ticks": "",
            "zerolinecolor": "white"
           }
          },
          "shapedefaults": {
           "line": {
            "color": "#2a3f5f"
           }
          },
          "ternary": {
           "aaxis": {
            "gridcolor": "white",
            "linecolor": "white",
            "ticks": ""
           },
           "baxis": {
            "gridcolor": "white",
            "linecolor": "white",
            "ticks": ""
           },
           "bgcolor": "#E5ECF6",
           "caxis": {
            "gridcolor": "white",
            "linecolor": "white",
            "ticks": ""
           }
          },
          "title": {
           "x": 0.05
          },
          "xaxis": {
           "automargin": true,
           "gridcolor": "white",
           "linecolor": "white",
           "ticks": "",
           "title": {
            "standoff": 15
           },
           "zerolinecolor": "white",
           "zerolinewidth": 2
          },
          "yaxis": {
           "automargin": true,
           "gridcolor": "white",
           "linecolor": "white",
           "ticks": "",
           "title": {
            "standoff": 15
           },
           "zerolinecolor": "white",
           "zerolinewidth": 2
          }
         }
        },
        "title": {
         "text": "Missing volume data over time."
        },
        "xaxis": {
         "anchor": "y",
         "domain": [
          0,
          1
         ],
         "title": {
          "text": "month"
         }
        },
        "yaxis": {
         "anchor": "x",
         "domain": [
          0,
          1
         ],
         "title": {
          "text": "null_percent"
         }
        }
       }
      }
     },
     "metadata": {},
     "output_type": "display_data"
    }
   ],
   "source": [
    "nulls_over_time_plotly(main_lf, group_var='direction', time_var='month', value_var='teus', title='Missing volume data over time.')"
   ]
  },
  {
   "cell_type": "markdown",
   "metadata": {},
   "source": [
    "As can be seen above, the PIERS BOL data on TEUs is incomplete prior to 2015. Since each row corresponds to a unique bill of lading, and since we are not concerned with changes in volume at the BOL level, we fill this missing data with the average TEUs. "
   ]
  },
  {
   "cell_type": "code",
   "execution_count": 9,
   "metadata": {},
   "outputs": [],
   "source": [
    "#fill missing volumes with the mean value\n",
    "main_lf = fill_volume(main_lf)"
   ]
  },
  {
   "cell_type": "markdown",
   "metadata": {},
   "source": [
    "#### Missing Vessel info\n",
    "\n",
    "A substantial portion of BOLs do not include vessel names or IDs. Note there is perfect correlation between missing vessels names and missing vessel IDs. "
   ]
  },
  {
   "cell_type": "code",
   "execution_count": 10,
   "metadata": {},
   "outputs": [
    {
     "data": {
      "application/vnd.plotly.v1+json": {
       "config": {
        "plotlyServerURL": "https://plot.ly"
       },
       "data": [
        {
         "hovertemplate": "direction=export<br>month=%{x}<br>null_percent=%{y}<extra></extra>",
         "legendgroup": "export",
         "line": {
          "color": "#636efa",
          "dash": "solid"
         },
         "marker": {
          "symbol": "circle"
         },
         "mode": "lines",
         "name": "export",
         "orientation": "v",
         "showlegend": true,
         "type": "scatter",
         "x": [
          "200701",
          "200702",
          "200703",
          "200704",
          "200705",
          "200706",
          "200707",
          "200708",
          "200709",
          "200710",
          "200711",
          "200712",
          "200801",
          "200802",
          "200803",
          "200804",
          "200805",
          "200806",
          "200807",
          "200808",
          "200809",
          "200810",
          "200811",
          "200812",
          "200901",
          "200902",
          "200903",
          "200904",
          "200905",
          "200906",
          "200907",
          "200908",
          "200909",
          "200910",
          "200911",
          "200912",
          "201001",
          "201002",
          "201003",
          "201004",
          "201005",
          "201006",
          "201007",
          "201008",
          "201009",
          "201010",
          "201011",
          "201012",
          "201101",
          "201102",
          "201103",
          "201104",
          "201105",
          "201106",
          "201107",
          "201108",
          "201109",
          "201110",
          "201111",
          "201112",
          "201201",
          "201202",
          "201203",
          "201204",
          "201205",
          "201206",
          "201207",
          "201208",
          "201209",
          "201210",
          "201211",
          "201212",
          "201301",
          "201302",
          "201303",
          "201304",
          "201305",
          "201306",
          "201307",
          "201308",
          "201309",
          "201310",
          "201311",
          "201312",
          "201401",
          "201402",
          "201403",
          "201404",
          "201405",
          "201406",
          "201407",
          "201408",
          "201409",
          "201410",
          "201411",
          "201412",
          "201501",
          "201502",
          "201503",
          "201504",
          "201505",
          "201506",
          "201507",
          "201508",
          "201509",
          "201510",
          "201511",
          "201512",
          "201601",
          "201602",
          "201603",
          "201604",
          "201605",
          "201606",
          "201607",
          "201608",
          "201609",
          "201610",
          "201611",
          "201612",
          "201701",
          "201702",
          "201703",
          "201704",
          "201705",
          "201706",
          "201707",
          "201708",
          "201709",
          "201710",
          "201711",
          "201712",
          "201801",
          "201802",
          "201803",
          "201804",
          "201805",
          "201806",
          "201807",
          "201808",
          "201809",
          "201810",
          "201811",
          "201812",
          "201901",
          "201902",
          "201903",
          "201904",
          "201905",
          "201906",
          "201907",
          "201908",
          "201909",
          "201910",
          "201911",
          "201912",
          "202001",
          "202002",
          "202003",
          "202004",
          "202005",
          "202006",
          "202007",
          "202008",
          "202009",
          "202010",
          "202011",
          "202012",
          "202101",
          "202102",
          "202103",
          "202104",
          "202105",
          "202106",
          "202107",
          "202108",
          "202109",
          "202110",
          "202111",
          "202112",
          "202201",
          "202202",
          "202203",
          "202204",
          "202205",
          "202206",
          "202207",
          "202208",
          "202209",
          "202210",
          "202211",
          "202212",
          "202301",
          "202302",
          "202303",
          "202304",
          "202305",
          "202306",
          "202307",
          "202308",
          "202309",
          "202310",
          "202311",
          "202312"
         ],
         "xaxis": "x",
         "y": [
          0,
          0,
          0.000003913496082590422,
          0,
          0,
          0,
          0,
          0,
          0,
          0,
          0,
          0,
          0,
          0,
          0,
          0,
          0,
          0,
          0,
          0,
          0,
          0,
          0,
          0,
          0.00005260489895077138,
          0,
          0,
          0,
          0,
          0,
          0,
          0,
          0.000004141644232760406,
          0.000057769185146387115,
          0.0009449497023607794,
          0.0524605256370065,
          0.34648953512338626,
          0.2909504180813504,
          0.23674810731123022,
          0.25132222948232713,
          0.22952674641267315,
          0.2212290256015448,
          0.24159660569086555,
          0.24277038886438085,
          0.2352216867238079,
          0.23053377955478835,
          0.23529147700236128,
          0.2258081360346967,
          0.20295506665825902,
          0.2221784576121667,
          0.21260302894961225,
          0.22526113518525262,
          0.22888610763454317,
          0.2366073334187049,
          0.22210139754995914,
          0.23790925558946177,
          0.2361577714420615,
          0.1889837087625263,
          0.21168290549304697,
          0.19202523853493383,
          0.16154092610147547,
          0.20212381732462223,
          0.17587021764969946,
          0.16658168268287898,
          0.17161005703231438,
          0.18897912635820097,
          0.17946820565851967,
          0.16270436189313628,
          0.1763193732976836,
          0.16144596791509463,
          0.1728318846305808,
          0.14576911664072767,
          0.14527882577911003,
          0.1597235160412863,
          0.1373001709364955,
          0.13685276359200704,
          0.16431120076769273,
          0.02828967277196989,
          0.0005887510564283069,
          0.0012584970197289612,
          0.00041487419737799505,
          0.0005561703535532155,
          0.0005354995215619029,
          0.0007125556888419662,
          0.0012432053537183743,
          0.001101746079932872,
          0.001685320798521045,
          0.0014664641271325077,
          0.00233473176926639,
          0.0010046360728868079,
          0.0013528728653198852,
          0.001258103710256992,
          0.00161309272425323,
          0.0022089078178011983,
          0.0038759317451622925,
          0.06385273323768594,
          0.04684037622732921,
          0.009895318845351773,
          0.01051176903549487,
          0.008622493064714175,
          0.0073876516089831975,
          0.007831350131103776,
          0.00945218102690587,
          0.008841926352689758,
          0.009085390731508294,
          0.007450300480027642,
          0.006659170938050702,
          0.007866061216243057,
          0.030489850850832396,
          0.028310826818289506,
          0.03266971682947941,
          0.03092786746097864,
          0.03031888390632785,
          0.032591560420084695,
          0.08433933762392576,
          0.031201799586395476,
          0.027038952216794115,
          0.028102538791374896,
          0.02795298596928786,
          0.02545562007400584,
          0.03795895677333798,
          0.03738410606638443,
          0.03999804971505763,
          0.04134019542407784,
          0.044777037056555384,
          0.04140677287549241,
          0.03327457923224508,
          0.03424530057695887,
          0.03648634679702427,
          0.0468453248055534,
          0.08407374788848303,
          0.17318831942789034,
          0.18779885486000425,
          0.17360466290688847,
          0.17561256614642642,
          0.16503801889087702,
          0.1683342455132152,
          0.15491359877569952,
          0.13715668755507687,
          0.15354821180299627,
          0.1444940822487127,
          0.11319723507871626,
          0.14837576302465338,
          0.12375252194684175,
          0.12231520007424479,
          0.12395871361720487,
          0.115693900505468,
          0.1617860798651759,
          0.1289275662013901,
          0.10795502978755647,
          0.12661077209135957,
          0.12697260752933018,
          0.09507002018714371,
          0.11450705781768904,
          0.11773736771500969,
          0.13202273008186252,
          0.12128592613291757,
          0.1775786884588203,
          0.11609118679944196,
          0.14584769221025493,
          0.15631620280805256,
          0.10966599823351693,
          0.10868011889790785,
          0.10669919441178019,
          0.10038255597045401,
          0.11176128728733038,
          0.11251325556733828,
          0.12584773249985257,
          0.12594354490185183,
          0.11186933773968769,
          0.11593749038840626,
          0.14051529059993137,
          0.15675490846816714,
          0.11623207127541983,
          0.1340787041112774,
          0.0937636256785193,
          0.1244480918049687,
          0.10814560264732086,
          0.08509380552496638,
          0.07889884574252314,
          0.08018754645777346,
          0.07802437673531296,
          0.07139745985254015,
          0.09155773544980456,
          0.055934134574640054,
          0.05895078604444233,
          0.05872143994560842,
          0.03595448393263287,
          0.03159583524327156,
          0.03255854276439367,
          0.02695600897958902,
          0.022238063902902682,
          0.018404511632502604,
          0.016792043813681067,
          0.013499331732042093,
          0.007782020990164295,
          0.010647792179261864,
          0.008297070132037794,
          0.0356639687172041,
          0.03736950774752523,
          0.019098724196462795,
          0.014463933829754276,
          0.017806818653397064,
          0.01656382822237878
         ],
         "yaxis": "y"
        },
        {
         "hovertemplate": "direction=import<br>month=%{x}<br>null_percent=%{y}<extra></extra>",
         "legendgroup": "import",
         "line": {
          "color": "#EF553B",
          "dash": "solid"
         },
         "marker": {
          "symbol": "circle"
         },
         "mode": "lines",
         "name": "import",
         "orientation": "v",
         "showlegend": true,
         "type": "scatter",
         "x": [
          "200701",
          "200702",
          "200703",
          "200704",
          "200705",
          "200706",
          "200707",
          "200708",
          "200709",
          "200710",
          "200711",
          "200712",
          "200801",
          "200802",
          "200803",
          "200804",
          "200805",
          "200806",
          "200807",
          "200808",
          "200809",
          "200810",
          "200811",
          "200812",
          "200901",
          "200902",
          "200903",
          "200904",
          "200905",
          "200906",
          "200907",
          "200908",
          "200909",
          "200910",
          "200911",
          "200912",
          "201001",
          "201002",
          "201003",
          "201004",
          "201005",
          "201006",
          "201007",
          "201008",
          "201009",
          "201010",
          "201011",
          "201012",
          "201101",
          "201102",
          "201103",
          "201104",
          "201105",
          "201106",
          "201107",
          "201108",
          "201109",
          "201110",
          "201111",
          "201112",
          "201201",
          "201202",
          "201203",
          "201204",
          "201205",
          "201206",
          "201207",
          "201208",
          "201209",
          "201210",
          "201211",
          "201212",
          "201301",
          "201302",
          "201303",
          "201304",
          "201305",
          "201306",
          "201307",
          "201308",
          "201309",
          "201310",
          "201311",
          "201312",
          "201401",
          "201402",
          "201403",
          "201404",
          "201405",
          "201406",
          "201407",
          "201408",
          "201409",
          "201410",
          "201411",
          "201412",
          "201501",
          "201502",
          "201503",
          "201504",
          "201505",
          "201506",
          "201507",
          "201508",
          "201509",
          "201510",
          "201511",
          "201512",
          "201601",
          "201602",
          "201603",
          "201604",
          "201605",
          "201606",
          "201607",
          "201608",
          "201609",
          "201610",
          "201611",
          "201612",
          "201701",
          "201702",
          "201703",
          "201704",
          "201705",
          "201706",
          "201707",
          "201708",
          "201709",
          "201710",
          "201711",
          "201712",
          "201801",
          "201802",
          "201803",
          "201804",
          "201805",
          "201806",
          "201807",
          "201808",
          "201809",
          "201810",
          "201811",
          "201812",
          "201901",
          "201902",
          "201903",
          "201904",
          "201905",
          "201906",
          "201907",
          "201908",
          "201909",
          "201910",
          "201911",
          "201912",
          "202001",
          "202002",
          "202003",
          "202004",
          "202005",
          "202006",
          "202007",
          "202008",
          "202009",
          "202010",
          "202011",
          "202012",
          "202101",
          "202102",
          "202103",
          "202104",
          "202105",
          "202106",
          "202107",
          "202108",
          "202109",
          "202110",
          "202111",
          "202112",
          "202201",
          "202202",
          "202203",
          "202204",
          "202205",
          "202206",
          "202207",
          "202208",
          "202209",
          "202210",
          "202211",
          "202212",
          "202301",
          "202302",
          "202303",
          "202304",
          "202305",
          "202306",
          "202307",
          "202308",
          "202309",
          "202310",
          "202311",
          "202312"
         ],
         "xaxis": "x",
         "y": [
          0,
          0,
          0,
          0,
          0,
          0,
          0,
          0,
          0,
          0,
          0,
          0,
          0,
          0,
          0,
          0,
          0,
          0,
          0,
          0,
          0,
          0,
          0,
          0,
          0,
          0.0000034153588688331427,
          0,
          0,
          0,
          0,
          0.000023258458326011227,
          0.00003773793769718073,
          0.0001058708153167209,
          0.0000915361538279829,
          0.00026028583016046925,
          0.0015090819294298415,
          0.14870290937495717,
          0.3142548368987548,
          0.2418379685610641,
          0.20359288408699297,
          0.16487386331878667,
          0.18148089840470194,
          0.18708813165712448,
          0.18076059416165327,
          0.1949511942591775,
          0.2000462145768478,
          0.18495795349209418,
          0.19622522403277912,
          0.1777170354455262,
          0.18078978760787712,
          0.1854081973914013,
          0.17263073984797123,
          0.17677370097402847,
          0.1785384100400625,
          0.15605727824128446,
          0.16666040805350266,
          0.15197261423849745,
          0.16261059657474,
          0.1292135866618233,
          0.13580355671245645,
          0.10636567482002576,
          0.13274783476403085,
          0.12068293606277646,
          0.10627819045794817,
          0.1090067624306013,
          0.10850566288438014,
          0.09726008464236693,
          0.1009070783650168,
          0.09402411547509422,
          0.0965265347907929,
          0.09488624732877775,
          0.09571202754349685,
          0.09127146059902849,
          0.09679923914041225,
          0.09414808227563029,
          0.10201659870985295,
          0.1092252946262059,
          0.10899577625926717,
          0.02023171632411938,
          0.0026283306615344144,
          0.00018241974425467226,
          0.0001830500279180074,
          0.00011441544634236958,
          0.00019482280674723587,
          0.0031227173550749474,
          0.0046756291069478305,
          0.0038199859561273627,
          0.002547242808662967,
          0.004055927759976697,
          0.0033694335689941693,
          0.0030950979512617805,
          0.004099584463143664,
          0.00484934464698377,
          0.0028167178830095663,
          0.002284986144101346,
          0.004957624571737693,
          0.05477634596994764,
          0.05574088218578991,
          0.0017251131221719456,
          0.0023138305880935892,
          0.0006710328537685205,
          0.0008000461043517762,
          0.002594221744294984,
          0.00204797378593554,
          0.0008239678214268887,
          0.0009426139383166267,
          0.0008663275750147287,
          0.0009343507921696486,
          0.007952960823546538,
          0.0079967000043421,
          0.00829533932732144,
          0.007762873289047338,
          0.00847634036206589,
          0.010244540901804673,
          0.014555331689686559,
          0.20605422625864747,
          0.006741667769394445,
          0.006641777698292051,
          0.010048399579535872,
          0.006751346650691045,
          0.01601105793016032,
          0.03821550028681472,
          0.016718363847278962,
          0.019070418352240256,
          0.01947327426944377,
          0.01797645596866713,
          0.020659450415844004,
          0.02634732203396561,
          0.024294479061415426,
          0.03150487188740527,
          0.02042317877182652,
          0.08772648603518361,
          0.1860220887179509,
          0.1808661347328197,
          0.15586035662687706,
          0.15506639691675395,
          0.16433430748335243,
          0.13439213826071722,
          0.10943809292143031,
          0.13611826563462198,
          0.14993138001515,
          0.11193053659541743,
          0.1397147701797875,
          0.12192865396276925,
          0.14068253919425405,
          0.11889372600428563,
          0.09227862274890361,
          0.14088970941881607,
          0.10407415510210517,
          0.07844679474897132,
          0.11209047922843096,
          0.11201209213089476,
          0.08237850183614175,
          0.08778708751618058,
          0.1027236167368469,
          0.08069807795721279,
          0.10544942244198988,
          0.1037567844726245,
          0.083318789577467,
          0.07512456446075216,
          0.14392068304857417,
          0.06659688589272833,
          0.05669636835381771,
          0.06530028717588754,
          0.05106908747599515,
          0.0871838987981037,
          0.05863178052529839,
          0.1326740551978222,
          0.13259210641986036,
          0.1166521287560532,
          0.10421467964715897,
          0.12606680700380216,
          0.13265135365817765,
          0.11056727872101928,
          0.1196938362323309,
          0.08764909142648075,
          0.07791722948894605,
          0.10179075509516577,
          0.06981225508288402,
          0.058511863266225386,
          0.057991812655800716,
          0.06107762321972667,
          0.05528548162701825,
          0.06227358066478039,
          0.04545893922037988,
          0.05203876784032895,
          0.04009083385953697,
          0.034938620604703596,
          0.056185893005976685,
          0.02298772692983526,
          0.015583937135753559,
          0.034202808532830184,
          0.05906331697804893,
          0.052511895213011084,
          0.02586813964245871,
          0.041068806619324216,
          0.03967446109536878,
          0.023490828877736927,
          0.02436243660918885,
          0.03150549370068754,
          0.01464342602284622,
          0.008662670872227524,
          0.01627786983156681,
          0.010298526305475526
         ],
         "yaxis": "y"
        }
       ],
       "layout": {
        "legend": {
         "title": {
          "text": "direction"
         },
         "tracegroupgap": 0
        },
        "template": {
         "data": {
          "bar": [
           {
            "error_x": {
             "color": "#2a3f5f"
            },
            "error_y": {
             "color": "#2a3f5f"
            },
            "marker": {
             "line": {
              "color": "#E5ECF6",
              "width": 0.5
             },
             "pattern": {
              "fillmode": "overlay",
              "size": 10,
              "solidity": 0.2
             }
            },
            "type": "bar"
           }
          ],
          "barpolar": [
           {
            "marker": {
             "line": {
              "color": "#E5ECF6",
              "width": 0.5
             },
             "pattern": {
              "fillmode": "overlay",
              "size": 10,
              "solidity": 0.2
             }
            },
            "type": "barpolar"
           }
          ],
          "carpet": [
           {
            "aaxis": {
             "endlinecolor": "#2a3f5f",
             "gridcolor": "white",
             "linecolor": "white",
             "minorgridcolor": "white",
             "startlinecolor": "#2a3f5f"
            },
            "baxis": {
             "endlinecolor": "#2a3f5f",
             "gridcolor": "white",
             "linecolor": "white",
             "minorgridcolor": "white",
             "startlinecolor": "#2a3f5f"
            },
            "type": "carpet"
           }
          ],
          "choropleth": [
           {
            "colorbar": {
             "outlinewidth": 0,
             "ticks": ""
            },
            "type": "choropleth"
           }
          ],
          "contour": [
           {
            "colorbar": {
             "outlinewidth": 0,
             "ticks": ""
            },
            "colorscale": [
             [
              0,
              "#0d0887"
             ],
             [
              0.1111111111111111,
              "#46039f"
             ],
             [
              0.2222222222222222,
              "#7201a8"
             ],
             [
              0.3333333333333333,
              "#9c179e"
             ],
             [
              0.4444444444444444,
              "#bd3786"
             ],
             [
              0.5555555555555556,
              "#d8576b"
             ],
             [
              0.6666666666666666,
              "#ed7953"
             ],
             [
              0.7777777777777778,
              "#fb9f3a"
             ],
             [
              0.8888888888888888,
              "#fdca26"
             ],
             [
              1,
              "#f0f921"
             ]
            ],
            "type": "contour"
           }
          ],
          "contourcarpet": [
           {
            "colorbar": {
             "outlinewidth": 0,
             "ticks": ""
            },
            "type": "contourcarpet"
           }
          ],
          "heatmap": [
           {
            "colorbar": {
             "outlinewidth": 0,
             "ticks": ""
            },
            "colorscale": [
             [
              0,
              "#0d0887"
             ],
             [
              0.1111111111111111,
              "#46039f"
             ],
             [
              0.2222222222222222,
              "#7201a8"
             ],
             [
              0.3333333333333333,
              "#9c179e"
             ],
             [
              0.4444444444444444,
              "#bd3786"
             ],
             [
              0.5555555555555556,
              "#d8576b"
             ],
             [
              0.6666666666666666,
              "#ed7953"
             ],
             [
              0.7777777777777778,
              "#fb9f3a"
             ],
             [
              0.8888888888888888,
              "#fdca26"
             ],
             [
              1,
              "#f0f921"
             ]
            ],
            "type": "heatmap"
           }
          ],
          "heatmapgl": [
           {
            "colorbar": {
             "outlinewidth": 0,
             "ticks": ""
            },
            "colorscale": [
             [
              0,
              "#0d0887"
             ],
             [
              0.1111111111111111,
              "#46039f"
             ],
             [
              0.2222222222222222,
              "#7201a8"
             ],
             [
              0.3333333333333333,
              "#9c179e"
             ],
             [
              0.4444444444444444,
              "#bd3786"
             ],
             [
              0.5555555555555556,
              "#d8576b"
             ],
             [
              0.6666666666666666,
              "#ed7953"
             ],
             [
              0.7777777777777778,
              "#fb9f3a"
             ],
             [
              0.8888888888888888,
              "#fdca26"
             ],
             [
              1,
              "#f0f921"
             ]
            ],
            "type": "heatmapgl"
           }
          ],
          "histogram": [
           {
            "marker": {
             "pattern": {
              "fillmode": "overlay",
              "size": 10,
              "solidity": 0.2
             }
            },
            "type": "histogram"
           }
          ],
          "histogram2d": [
           {
            "colorbar": {
             "outlinewidth": 0,
             "ticks": ""
            },
            "colorscale": [
             [
              0,
              "#0d0887"
             ],
             [
              0.1111111111111111,
              "#46039f"
             ],
             [
              0.2222222222222222,
              "#7201a8"
             ],
             [
              0.3333333333333333,
              "#9c179e"
             ],
             [
              0.4444444444444444,
              "#bd3786"
             ],
             [
              0.5555555555555556,
              "#d8576b"
             ],
             [
              0.6666666666666666,
              "#ed7953"
             ],
             [
              0.7777777777777778,
              "#fb9f3a"
             ],
             [
              0.8888888888888888,
              "#fdca26"
             ],
             [
              1,
              "#f0f921"
             ]
            ],
            "type": "histogram2d"
           }
          ],
          "histogram2dcontour": [
           {
            "colorbar": {
             "outlinewidth": 0,
             "ticks": ""
            },
            "colorscale": [
             [
              0,
              "#0d0887"
             ],
             [
              0.1111111111111111,
              "#46039f"
             ],
             [
              0.2222222222222222,
              "#7201a8"
             ],
             [
              0.3333333333333333,
              "#9c179e"
             ],
             [
              0.4444444444444444,
              "#bd3786"
             ],
             [
              0.5555555555555556,
              "#d8576b"
             ],
             [
              0.6666666666666666,
              "#ed7953"
             ],
             [
              0.7777777777777778,
              "#fb9f3a"
             ],
             [
              0.8888888888888888,
              "#fdca26"
             ],
             [
              1,
              "#f0f921"
             ]
            ],
            "type": "histogram2dcontour"
           }
          ],
          "mesh3d": [
           {
            "colorbar": {
             "outlinewidth": 0,
             "ticks": ""
            },
            "type": "mesh3d"
           }
          ],
          "parcoords": [
           {
            "line": {
             "colorbar": {
              "outlinewidth": 0,
              "ticks": ""
             }
            },
            "type": "parcoords"
           }
          ],
          "pie": [
           {
            "automargin": true,
            "type": "pie"
           }
          ],
          "scatter": [
           {
            "fillpattern": {
             "fillmode": "overlay",
             "size": 10,
             "solidity": 0.2
            },
            "type": "scatter"
           }
          ],
          "scatter3d": [
           {
            "line": {
             "colorbar": {
              "outlinewidth": 0,
              "ticks": ""
             }
            },
            "marker": {
             "colorbar": {
              "outlinewidth": 0,
              "ticks": ""
             }
            },
            "type": "scatter3d"
           }
          ],
          "scattercarpet": [
           {
            "marker": {
             "colorbar": {
              "outlinewidth": 0,
              "ticks": ""
             }
            },
            "type": "scattercarpet"
           }
          ],
          "scattergeo": [
           {
            "marker": {
             "colorbar": {
              "outlinewidth": 0,
              "ticks": ""
             }
            },
            "type": "scattergeo"
           }
          ],
          "scattergl": [
           {
            "marker": {
             "colorbar": {
              "outlinewidth": 0,
              "ticks": ""
             }
            },
            "type": "scattergl"
           }
          ],
          "scattermapbox": [
           {
            "marker": {
             "colorbar": {
              "outlinewidth": 0,
              "ticks": ""
             }
            },
            "type": "scattermapbox"
           }
          ],
          "scatterpolar": [
           {
            "marker": {
             "colorbar": {
              "outlinewidth": 0,
              "ticks": ""
             }
            },
            "type": "scatterpolar"
           }
          ],
          "scatterpolargl": [
           {
            "marker": {
             "colorbar": {
              "outlinewidth": 0,
              "ticks": ""
             }
            },
            "type": "scatterpolargl"
           }
          ],
          "scatterternary": [
           {
            "marker": {
             "colorbar": {
              "outlinewidth": 0,
              "ticks": ""
             }
            },
            "type": "scatterternary"
           }
          ],
          "surface": [
           {
            "colorbar": {
             "outlinewidth": 0,
             "ticks": ""
            },
            "colorscale": [
             [
              0,
              "#0d0887"
             ],
             [
              0.1111111111111111,
              "#46039f"
             ],
             [
              0.2222222222222222,
              "#7201a8"
             ],
             [
              0.3333333333333333,
              "#9c179e"
             ],
             [
              0.4444444444444444,
              "#bd3786"
             ],
             [
              0.5555555555555556,
              "#d8576b"
             ],
             [
              0.6666666666666666,
              "#ed7953"
             ],
             [
              0.7777777777777778,
              "#fb9f3a"
             ],
             [
              0.8888888888888888,
              "#fdca26"
             ],
             [
              1,
              "#f0f921"
             ]
            ],
            "type": "surface"
           }
          ],
          "table": [
           {
            "cells": {
             "fill": {
              "color": "#EBF0F8"
             },
             "line": {
              "color": "white"
             }
            },
            "header": {
             "fill": {
              "color": "#C8D4E3"
             },
             "line": {
              "color": "white"
             }
            },
            "type": "table"
           }
          ]
         },
         "layout": {
          "annotationdefaults": {
           "arrowcolor": "#2a3f5f",
           "arrowhead": 0,
           "arrowwidth": 1
          },
          "autotypenumbers": "strict",
          "coloraxis": {
           "colorbar": {
            "outlinewidth": 0,
            "ticks": ""
           }
          },
          "colorscale": {
           "diverging": [
            [
             0,
             "#8e0152"
            ],
            [
             0.1,
             "#c51b7d"
            ],
            [
             0.2,
             "#de77ae"
            ],
            [
             0.3,
             "#f1b6da"
            ],
            [
             0.4,
             "#fde0ef"
            ],
            [
             0.5,
             "#f7f7f7"
            ],
            [
             0.6,
             "#e6f5d0"
            ],
            [
             0.7,
             "#b8e186"
            ],
            [
             0.8,
             "#7fbc41"
            ],
            [
             0.9,
             "#4d9221"
            ],
            [
             1,
             "#276419"
            ]
           ],
           "sequential": [
            [
             0,
             "#0d0887"
            ],
            [
             0.1111111111111111,
             "#46039f"
            ],
            [
             0.2222222222222222,
             "#7201a8"
            ],
            [
             0.3333333333333333,
             "#9c179e"
            ],
            [
             0.4444444444444444,
             "#bd3786"
            ],
            [
             0.5555555555555556,
             "#d8576b"
            ],
            [
             0.6666666666666666,
             "#ed7953"
            ],
            [
             0.7777777777777778,
             "#fb9f3a"
            ],
            [
             0.8888888888888888,
             "#fdca26"
            ],
            [
             1,
             "#f0f921"
            ]
           ],
           "sequentialminus": [
            [
             0,
             "#0d0887"
            ],
            [
             0.1111111111111111,
             "#46039f"
            ],
            [
             0.2222222222222222,
             "#7201a8"
            ],
            [
             0.3333333333333333,
             "#9c179e"
            ],
            [
             0.4444444444444444,
             "#bd3786"
            ],
            [
             0.5555555555555556,
             "#d8576b"
            ],
            [
             0.6666666666666666,
             "#ed7953"
            ],
            [
             0.7777777777777778,
             "#fb9f3a"
            ],
            [
             0.8888888888888888,
             "#fdca26"
            ],
            [
             1,
             "#f0f921"
            ]
           ]
          },
          "colorway": [
           "#636efa",
           "#EF553B",
           "#00cc96",
           "#ab63fa",
           "#FFA15A",
           "#19d3f3",
           "#FF6692",
           "#B6E880",
           "#FF97FF",
           "#FECB52"
          ],
          "font": {
           "color": "#2a3f5f"
          },
          "geo": {
           "bgcolor": "white",
           "lakecolor": "white",
           "landcolor": "#E5ECF6",
           "showlakes": true,
           "showland": true,
           "subunitcolor": "white"
          },
          "hoverlabel": {
           "align": "left"
          },
          "hovermode": "closest",
          "mapbox": {
           "style": "light"
          },
          "paper_bgcolor": "white",
          "plot_bgcolor": "#E5ECF6",
          "polar": {
           "angularaxis": {
            "gridcolor": "white",
            "linecolor": "white",
            "ticks": ""
           },
           "bgcolor": "#E5ECF6",
           "radialaxis": {
            "gridcolor": "white",
            "linecolor": "white",
            "ticks": ""
           }
          },
          "scene": {
           "xaxis": {
            "backgroundcolor": "#E5ECF6",
            "gridcolor": "white",
            "gridwidth": 2,
            "linecolor": "white",
            "showbackground": true,
            "ticks": "",
            "zerolinecolor": "white"
           },
           "yaxis": {
            "backgroundcolor": "#E5ECF6",
            "gridcolor": "white",
            "gridwidth": 2,
            "linecolor": "white",
            "showbackground": true,
            "ticks": "",
            "zerolinecolor": "white"
           },
           "zaxis": {
            "backgroundcolor": "#E5ECF6",
            "gridcolor": "white",
            "gridwidth": 2,
            "linecolor": "white",
            "showbackground": true,
            "ticks": "",
            "zerolinecolor": "white"
           }
          },
          "shapedefaults": {
           "line": {
            "color": "#2a3f5f"
           }
          },
          "ternary": {
           "aaxis": {
            "gridcolor": "white",
            "linecolor": "white",
            "ticks": ""
           },
           "baxis": {
            "gridcolor": "white",
            "linecolor": "white",
            "ticks": ""
           },
           "bgcolor": "#E5ECF6",
           "caxis": {
            "gridcolor": "white",
            "linecolor": "white",
            "ticks": ""
           }
          },
          "title": {
           "x": 0.05
          },
          "xaxis": {
           "automargin": true,
           "gridcolor": "white",
           "linecolor": "white",
           "ticks": "",
           "title": {
            "standoff": 15
           },
           "zerolinecolor": "white",
           "zerolinewidth": 2
          },
          "yaxis": {
           "automargin": true,
           "gridcolor": "white",
           "linecolor": "white",
           "ticks": "",
           "title": {
            "standoff": 15
           },
           "zerolinecolor": "white",
           "zerolinewidth": 2
          }
         }
        },
        "title": {
         "text": "Proportion of Missing Vessel Names over time."
        },
        "xaxis": {
         "anchor": "y",
         "domain": [
          0,
          1
         ],
         "title": {
          "text": "month"
         }
        },
        "yaxis": {
         "anchor": "x",
         "domain": [
          0,
          1
         ],
         "title": {
          "text": "null_percent"
         }
        }
       }
      }
     },
     "metadata": {},
     "output_type": "display_data"
    }
   ],
   "source": [
    "nulls_over_time_plotly(\n",
    "    data_lf=main_lf,\n",
    "    group_var='direction',\n",
    "    time_var='month',\n",
    "    value_var='vessel_name',\n",
    "    title='Proportion of Missing Vessel Names over time.')"
   ]
  },
  {
   "cell_type": "markdown",
   "metadata": {},
   "source": [
    "Since our analysis concerns the practice of carriers sharing cargo with other carriers on a single vessel, we drop missing vessels."
   ]
  },
  {
   "cell_type": "code",
   "execution_count": 11,
   "metadata": {},
   "outputs": [],
   "source": [
    "#drop missing vessels\n",
    "main_lf = main_lf.drop_nulls(subset='vessel_id')"
   ]
  },
  {
   "cell_type": "markdown",
   "metadata": {},
   "source": [
    "We also drop bols with missing port data for the same reason. "
   ]
  },
  {
   "cell_type": "code",
   "execution_count": 12,
   "metadata": {},
   "outputs": [],
   "source": [
    "#drop missing ports\n",
    "main_lf = main_lf.drop_nulls(subset=['arrival_port_code', 'departure_port_code'])"
   ]
  },
  {
   "cell_type": "markdown",
   "metadata": {},
   "source": [
    "## Establish Primary Carrier\n",
    "\n",
    "We define the primary carrier of a vessel as the carrier representing the mode of cargo on that vessel during any given month. Cargoes from the primary carrier are deemed \"primary cargo\" and cargo from other carriers are deemed \"shared cargo.\" "
   ]
  },
  {
   "cell_type": "code",
   "execution_count": 13,
   "metadata": {},
   "outputs": [],
   "source": [
    "#add primary carrier\n",
    "main_lf = add_primary_carrier(main_lf)"
   ]
  },
  {
   "cell_type": "code",
   "execution_count": 14,
   "metadata": {},
   "outputs": [
    {
     "data": {
      "application/vnd.plotly.v1+json": {
       "config": {
        "plotlyServerURL": "https://plot.ly"
       },
       "data": [
        {
         "hovertemplate": "direction=export<br>Month=%{x}<br>Proportion of cargo from non-primary carrier=%{y}<extra></extra>",
         "legendgroup": "export",
         "line": {
          "color": "#636efa",
          "dash": "solid"
         },
         "marker": {
          "symbol": "circle"
         },
         "mode": "lines",
         "name": "export",
         "orientation": "v",
         "showlegend": true,
         "type": "scatter",
         "x": [
          "2007-01-01T00:00:00",
          "2007-02-01T00:00:00",
          "2007-03-01T00:00:00",
          "2007-04-01T00:00:00",
          "2007-05-01T00:00:00",
          "2007-06-01T00:00:00",
          "2007-07-01T00:00:00",
          "2007-08-01T00:00:00",
          "2007-09-01T00:00:00",
          "2007-10-01T00:00:00",
          "2007-11-01T00:00:00",
          "2007-12-01T00:00:00",
          "2008-01-01T00:00:00",
          "2008-02-01T00:00:00",
          "2008-03-01T00:00:00",
          "2008-04-01T00:00:00",
          "2008-05-01T00:00:00",
          "2008-06-01T00:00:00",
          "2008-07-01T00:00:00",
          "2008-08-01T00:00:00",
          "2008-09-01T00:00:00",
          "2008-10-01T00:00:00",
          "2008-11-01T00:00:00",
          "2008-12-01T00:00:00",
          "2009-01-01T00:00:00",
          "2009-02-01T00:00:00",
          "2009-03-01T00:00:00",
          "2009-04-01T00:00:00",
          "2009-05-01T00:00:00",
          "2009-06-01T00:00:00",
          "2009-07-01T00:00:00",
          "2009-08-01T00:00:00",
          "2009-09-01T00:00:00",
          "2009-10-01T00:00:00",
          "2009-11-01T00:00:00",
          "2009-12-01T00:00:00",
          "2010-01-01T00:00:00",
          "2010-02-01T00:00:00",
          "2010-03-01T00:00:00",
          "2010-04-01T00:00:00",
          "2010-05-01T00:00:00",
          "2010-06-01T00:00:00",
          "2010-07-01T00:00:00",
          "2010-08-01T00:00:00",
          "2010-09-01T00:00:00",
          "2010-10-01T00:00:00",
          "2010-11-01T00:00:00",
          "2010-12-01T00:00:00",
          "2011-01-01T00:00:00",
          "2011-02-01T00:00:00",
          "2011-03-01T00:00:00",
          "2011-04-01T00:00:00",
          "2011-05-01T00:00:00",
          "2011-06-01T00:00:00",
          "2011-07-01T00:00:00",
          "2011-08-01T00:00:00",
          "2011-09-01T00:00:00",
          "2011-10-01T00:00:00",
          "2011-11-01T00:00:00",
          "2011-12-01T00:00:00",
          "2012-01-01T00:00:00",
          "2012-02-01T00:00:00",
          "2012-03-01T00:00:00",
          "2012-04-01T00:00:00",
          "2012-05-01T00:00:00",
          "2012-06-01T00:00:00",
          "2012-07-01T00:00:00",
          "2012-08-01T00:00:00",
          "2012-09-01T00:00:00",
          "2012-10-01T00:00:00",
          "2012-11-01T00:00:00",
          "2012-12-01T00:00:00",
          "2013-01-01T00:00:00",
          "2013-02-01T00:00:00",
          "2013-03-01T00:00:00",
          "2013-04-01T00:00:00",
          "2013-05-01T00:00:00",
          "2013-06-01T00:00:00",
          "2013-07-01T00:00:00",
          "2013-08-01T00:00:00",
          "2013-09-01T00:00:00",
          "2013-10-01T00:00:00",
          "2013-11-01T00:00:00",
          "2013-12-01T00:00:00",
          "2014-01-01T00:00:00",
          "2014-02-01T00:00:00",
          "2014-03-01T00:00:00",
          "2014-04-01T00:00:00",
          "2014-05-01T00:00:00",
          "2014-06-01T00:00:00",
          "2014-07-01T00:00:00",
          "2014-08-01T00:00:00",
          "2014-09-01T00:00:00",
          "2014-10-01T00:00:00",
          "2014-11-01T00:00:00",
          "2014-12-01T00:00:00",
          "2015-01-01T00:00:00",
          "2015-02-01T00:00:00",
          "2015-03-01T00:00:00",
          "2015-04-01T00:00:00",
          "2015-05-01T00:00:00",
          "2015-06-01T00:00:00",
          "2015-07-01T00:00:00",
          "2015-08-01T00:00:00",
          "2015-09-01T00:00:00",
          "2015-10-01T00:00:00",
          "2015-11-01T00:00:00",
          "2015-12-01T00:00:00",
          "2016-01-01T00:00:00",
          "2016-02-01T00:00:00",
          "2016-03-01T00:00:00",
          "2016-04-01T00:00:00",
          "2016-05-01T00:00:00",
          "2016-06-01T00:00:00",
          "2016-07-01T00:00:00",
          "2016-08-01T00:00:00",
          "2016-09-01T00:00:00",
          "2016-10-01T00:00:00",
          "2016-11-01T00:00:00",
          "2016-12-01T00:00:00",
          "2017-01-01T00:00:00",
          "2017-02-01T00:00:00",
          "2017-03-01T00:00:00",
          "2017-04-01T00:00:00",
          "2017-05-01T00:00:00",
          "2017-06-01T00:00:00",
          "2017-07-01T00:00:00",
          "2017-08-01T00:00:00",
          "2017-09-01T00:00:00",
          "2017-10-01T00:00:00",
          "2017-11-01T00:00:00",
          "2017-12-01T00:00:00",
          "2018-01-01T00:00:00",
          "2018-02-01T00:00:00",
          "2018-03-01T00:00:00",
          "2018-04-01T00:00:00",
          "2018-05-01T00:00:00",
          "2018-06-01T00:00:00",
          "2018-07-01T00:00:00",
          "2018-08-01T00:00:00",
          "2018-09-01T00:00:00",
          "2018-10-01T00:00:00",
          "2018-11-01T00:00:00",
          "2018-12-01T00:00:00",
          "2019-01-01T00:00:00",
          "2019-02-01T00:00:00",
          "2019-03-01T00:00:00",
          "2019-04-01T00:00:00",
          "2019-05-01T00:00:00",
          "2019-06-01T00:00:00",
          "2019-07-01T00:00:00",
          "2019-08-01T00:00:00",
          "2019-09-01T00:00:00",
          "2019-10-01T00:00:00",
          "2019-11-01T00:00:00",
          "2019-12-01T00:00:00",
          "2020-01-01T00:00:00",
          "2020-02-01T00:00:00",
          "2020-03-01T00:00:00",
          "2020-04-01T00:00:00",
          "2020-05-01T00:00:00",
          "2020-06-01T00:00:00",
          "2020-07-01T00:00:00",
          "2020-08-01T00:00:00",
          "2020-09-01T00:00:00",
          "2020-10-01T00:00:00",
          "2020-11-01T00:00:00",
          "2020-12-01T00:00:00",
          "2021-01-01T00:00:00",
          "2021-02-01T00:00:00",
          "2021-03-01T00:00:00",
          "2021-04-01T00:00:00",
          "2021-05-01T00:00:00",
          "2021-06-01T00:00:00",
          "2021-07-01T00:00:00",
          "2021-08-01T00:00:00",
          "2021-09-01T00:00:00",
          "2021-10-01T00:00:00",
          "2021-11-01T00:00:00",
          "2021-12-01T00:00:00",
          "2022-01-01T00:00:00",
          "2022-02-01T00:00:00",
          "2022-03-01T00:00:00",
          "2022-04-01T00:00:00",
          "2022-05-01T00:00:00",
          "2022-06-01T00:00:00",
          "2022-07-01T00:00:00",
          "2022-08-01T00:00:00",
          "2022-09-01T00:00:00",
          "2022-10-01T00:00:00",
          "2022-11-01T00:00:00",
          "2022-12-01T00:00:00",
          "2023-01-01T00:00:00",
          "2023-02-01T00:00:00",
          "2023-03-01T00:00:00",
          "2023-04-01T00:00:00",
          "2023-05-01T00:00:00",
          "2023-06-01T00:00:00",
          "2023-07-01T00:00:00",
          "2023-08-01T00:00:00",
          "2023-09-01T00:00:00",
          "2023-10-01T00:00:00",
          "2023-11-01T00:00:00",
          "2023-12-01T00:00:00"
         ],
         "xaxis": "x",
         "y": [
          0.24623063074671503,
          0.24438652428453733,
          0.2362724019963912,
          0.24464595875304862,
          0.2471894306181447,
          0.25107421646557304,
          0.23461784986733958,
          0.23587050651357433,
          0.23942921639518422,
          0.24746330484480294,
          0.24029347670380552,
          0.24594901101408306,
          0.2541429714319623,
          0.24135915393878749,
          0.24357493095889204,
          0.23949644088552757,
          0.24504748356863804,
          0.2424879903148025,
          0.2605959138657855,
          0.25588080422067006,
          0.25894946164644794,
          0.252856006470919,
          0.2452483876728092,
          0.23960178820973144,
          0.24571746278223472,
          0.2498390813172141,
          0.23822707914175567,
          0.24575109184994648,
          0.2436306918310963,
          0.2523064731387563,
          0.2524655303514066,
          0.26251072572691736,
          0.26306805170909886,
          0.2572911498371805,
          0.2619187402473713,
          0.2634287715085053,
          0.26696448540284934,
          0.27012727300166417,
          0.27148094048176763,
          0.2794121279488966,
          0.27607604538218633,
          0.2717805045736347,
          0.26881315534689987,
          0.269613433156759,
          0.26326293589624694,
          0.26181394087759946,
          0.2579190832885674,
          0.2507488623246258,
          0.26573534310486,
          0.25437546558661983,
          0.2491783892305709,
          0.2633731167363723,
          0.26754146442084836,
          0.26668290890526014,
          0.2697003893028248,
          0.2669649872179354,
          0.2835754006837544,
          0.2708814705604252,
          0.26274322230111713,
          0.2648079509051543,
          0.2780701685276352,
          0.27667597596046356,
          0.28590515277463224,
          0.3018166415665249,
          0.28983414039380373,
          0.2934155508315236,
          0.30365599188003856,
          0.2895729927828147,
          0.29027513976509545,
          0.27757638718716626,
          0.28680748400688216,
          0.2837005168243688,
          0.2923115993661929,
          0.2924003174869364,
          0.2886325694333304,
          0.29164624609632217,
          0.29308013492197604,
          0.2771228667553489,
          0.2887974420311228,
          0.2886916983869501,
          0.30259061208061655,
          0.2983259300974139,
          0.3045943027503558,
          0.3011885373677208,
          0.3074667154079612,
          0.31171535416668006,
          0.31885623076871006,
          0.305104716661856,
          0.30181446210658525,
          0.31410364023974024,
          0.31032765231687554,
          0.32101782253660494,
          0.3151450521186153,
          0.30824248888727057,
          0.3098514633489087,
          0.33477573089381085,
          0.32085718999057744,
          0.34404477917320075,
          0.35008712552350163,
          0.35285568126789846,
          0.35295293430810337,
          0.3464182306216632,
          0.35007930468943027,
          0.3488469918492775,
          0.35022308079389985,
          0.3569227470933155,
          0.34675098638368884,
          0.3467299506022896,
          0.34659446345452194,
          0.3442477632294043,
          0.34318686225507,
          0.34286080025758436,
          0.3460430183936263,
          0.33764957824974395,
          0.3380635779645632,
          0.34935225583088825,
          0.339862198370793,
          0.3558051990849188,
          0.3453606968072551,
          0.3406854255091579,
          0.353292165184111,
          0.3609036188629118,
          0.333663821290767,
          0.3390568695188493,
          0.3659515341329067,
          0.3721063104761233,
          0.37784503914052703,
          0.3686104519410136,
          0.365589023170967,
          0.37830081627661494,
          0.3749233175168587,
          0.3766891537364828,
          0.35307112216013137,
          0.3597285951728809,
          0.3718712891885688,
          0.34320776741428893,
          0.33059684923354704,
          0.32188014293875733,
          0.31641660451899845,
          0.3266512239252479,
          0.3417188747164921,
          0.33798904708222266,
          0.3339892368833133,
          0.3301545299173859,
          0.34892733574201995,
          0.3336832927839324,
          0.3341273048803708,
          0.3393328152754548,
          0.333913724258447,
          0.34004383454134823,
          0.3523875936018236,
          0.34951400040883074,
          0.33937724643250966,
          0.34182790969011356,
          0.3363061383810101,
          0.3274306115476855,
          0.3295457934209256,
          0.3460395546005618,
          0.32708917255309533,
          0.36703759946228354,
          0.37142157145060395,
          0.35821413298989035,
          0.3482851471582764,
          0.36062420222745506,
          0.3558692484274253,
          0.31711883744227953,
          0.33377303995402763,
          0.3185543946895354,
          0.3175703577915575,
          0.31605590537287476,
          0.3254322065157771,
          0.3118112052117139,
          0.3088641847921324,
          0.3079954885493682,
          0.29433312027915204,
          0.3021491522544585,
          0.29898735979692936,
          0.3047401825821834,
          0.30728883860745215,
          0.3084080999284239,
          0.31977840371416066,
          0.31754982484584804,
          0.2861075513783857,
          0.303302223889502,
          0.3072098359044908,
          0.3081594207648022,
          0.3191304013763173,
          0.316229879959795,
          0.31109764185374444,
          0.3190288704800013,
          0.3245166823947734,
          0.32868619683009614,
          0.3226327608724765,
          0.33219545586073607,
          0.32187989223598956,
          0.324788622948205,
          0.3120817667321215,
          0.30958169797284774,
          0.3080108729909323,
          0.305714086423892,
          0.30478929009703015,
          0.2998947984853997,
          0.2935590887974687,
          0.2886109344355803
         ],
         "yaxis": "y"
        },
        {
         "hovertemplate": "direction=import<br>Month=%{x}<br>Proportion of cargo from non-primary carrier=%{y}<extra></extra>",
         "legendgroup": "import",
         "line": {
          "color": "#EF553B",
          "dash": "solid"
         },
         "marker": {
          "symbol": "circle"
         },
         "mode": "lines",
         "name": "import",
         "orientation": "v",
         "showlegend": true,
         "type": "scatter",
         "x": [
          "2007-01-01T00:00:00",
          "2007-02-01T00:00:00",
          "2007-03-01T00:00:00",
          "2007-04-01T00:00:00",
          "2007-05-01T00:00:00",
          "2007-06-01T00:00:00",
          "2007-07-01T00:00:00",
          "2007-08-01T00:00:00",
          "2007-09-01T00:00:00",
          "2007-10-01T00:00:00",
          "2007-11-01T00:00:00",
          "2007-12-01T00:00:00",
          "2008-01-01T00:00:00",
          "2008-02-01T00:00:00",
          "2008-03-01T00:00:00",
          "2008-04-01T00:00:00",
          "2008-05-01T00:00:00",
          "2008-06-01T00:00:00",
          "2008-07-01T00:00:00",
          "2008-08-01T00:00:00",
          "2008-09-01T00:00:00",
          "2008-10-01T00:00:00",
          "2008-11-01T00:00:00",
          "2008-12-01T00:00:00",
          "2009-01-01T00:00:00",
          "2009-02-01T00:00:00",
          "2009-03-01T00:00:00",
          "2009-04-01T00:00:00",
          "2009-05-01T00:00:00",
          "2009-06-01T00:00:00",
          "2009-07-01T00:00:00",
          "2009-08-01T00:00:00",
          "2009-09-01T00:00:00",
          "2009-10-01T00:00:00",
          "2009-11-01T00:00:00",
          "2009-12-01T00:00:00",
          "2010-01-01T00:00:00",
          "2010-02-01T00:00:00",
          "2010-03-01T00:00:00",
          "2010-04-01T00:00:00",
          "2010-05-01T00:00:00",
          "2010-06-01T00:00:00",
          "2010-07-01T00:00:00",
          "2010-08-01T00:00:00",
          "2010-09-01T00:00:00",
          "2010-10-01T00:00:00",
          "2010-11-01T00:00:00",
          "2010-12-01T00:00:00",
          "2011-01-01T00:00:00",
          "2011-02-01T00:00:00",
          "2011-03-01T00:00:00",
          "2011-04-01T00:00:00",
          "2011-05-01T00:00:00",
          "2011-06-01T00:00:00",
          "2011-07-01T00:00:00",
          "2011-08-01T00:00:00",
          "2011-09-01T00:00:00",
          "2011-10-01T00:00:00",
          "2011-11-01T00:00:00",
          "2011-12-01T00:00:00",
          "2012-01-01T00:00:00",
          "2012-02-01T00:00:00",
          "2012-03-01T00:00:00",
          "2012-04-01T00:00:00",
          "2012-05-01T00:00:00",
          "2012-06-01T00:00:00",
          "2012-07-01T00:00:00",
          "2012-08-01T00:00:00",
          "2012-09-01T00:00:00",
          "2012-10-01T00:00:00",
          "2012-11-01T00:00:00",
          "2012-12-01T00:00:00",
          "2013-01-01T00:00:00",
          "2013-02-01T00:00:00",
          "2013-03-01T00:00:00",
          "2013-04-01T00:00:00",
          "2013-05-01T00:00:00",
          "2013-06-01T00:00:00",
          "2013-07-01T00:00:00",
          "2013-08-01T00:00:00",
          "2013-09-01T00:00:00",
          "2013-10-01T00:00:00",
          "2013-11-01T00:00:00",
          "2013-12-01T00:00:00",
          "2014-01-01T00:00:00",
          "2014-02-01T00:00:00",
          "2014-03-01T00:00:00",
          "2014-04-01T00:00:00",
          "2014-05-01T00:00:00",
          "2014-06-01T00:00:00",
          "2014-07-01T00:00:00",
          "2014-08-01T00:00:00",
          "2014-09-01T00:00:00",
          "2014-10-01T00:00:00",
          "2014-11-01T00:00:00",
          "2014-12-01T00:00:00",
          "2015-01-01T00:00:00",
          "2015-02-01T00:00:00",
          "2015-03-01T00:00:00",
          "2015-04-01T00:00:00",
          "2015-05-01T00:00:00",
          "2015-06-01T00:00:00",
          "2015-07-01T00:00:00",
          "2015-08-01T00:00:00",
          "2015-09-01T00:00:00",
          "2015-10-01T00:00:00",
          "2015-11-01T00:00:00",
          "2015-12-01T00:00:00",
          "2016-01-01T00:00:00",
          "2016-02-01T00:00:00",
          "2016-03-01T00:00:00",
          "2016-04-01T00:00:00",
          "2016-05-01T00:00:00",
          "2016-06-01T00:00:00",
          "2016-07-01T00:00:00",
          "2016-08-01T00:00:00",
          "2016-09-01T00:00:00",
          "2016-10-01T00:00:00",
          "2016-11-01T00:00:00",
          "2016-12-01T00:00:00",
          "2017-01-01T00:00:00",
          "2017-02-01T00:00:00",
          "2017-03-01T00:00:00",
          "2017-04-01T00:00:00",
          "2017-05-01T00:00:00",
          "2017-06-01T00:00:00",
          "2017-07-01T00:00:00",
          "2017-08-01T00:00:00",
          "2017-09-01T00:00:00",
          "2017-10-01T00:00:00",
          "2017-11-01T00:00:00",
          "2017-12-01T00:00:00",
          "2018-01-01T00:00:00",
          "2018-02-01T00:00:00",
          "2018-03-01T00:00:00",
          "2018-04-01T00:00:00",
          "2018-05-01T00:00:00",
          "2018-06-01T00:00:00",
          "2018-07-01T00:00:00",
          "2018-08-01T00:00:00",
          "2018-09-01T00:00:00",
          "2018-10-01T00:00:00",
          "2018-11-01T00:00:00",
          "2018-12-01T00:00:00",
          "2019-01-01T00:00:00",
          "2019-02-01T00:00:00",
          "2019-03-01T00:00:00",
          "2019-04-01T00:00:00",
          "2019-05-01T00:00:00",
          "2019-06-01T00:00:00",
          "2019-07-01T00:00:00",
          "2019-08-01T00:00:00",
          "2019-09-01T00:00:00",
          "2019-10-01T00:00:00",
          "2019-11-01T00:00:00",
          "2019-12-01T00:00:00",
          "2020-01-01T00:00:00",
          "2020-02-01T00:00:00",
          "2020-03-01T00:00:00",
          "2020-04-01T00:00:00",
          "2020-05-01T00:00:00",
          "2020-06-01T00:00:00",
          "2020-07-01T00:00:00",
          "2020-08-01T00:00:00",
          "2020-09-01T00:00:00",
          "2020-10-01T00:00:00",
          "2020-11-01T00:00:00",
          "2020-12-01T00:00:00",
          "2021-01-01T00:00:00",
          "2021-02-01T00:00:00",
          "2021-03-01T00:00:00",
          "2021-04-01T00:00:00",
          "2021-05-01T00:00:00",
          "2021-06-01T00:00:00",
          "2021-07-01T00:00:00",
          "2021-08-01T00:00:00",
          "2021-09-01T00:00:00",
          "2021-10-01T00:00:00",
          "2021-11-01T00:00:00",
          "2021-12-01T00:00:00",
          "2022-01-01T00:00:00",
          "2022-02-01T00:00:00",
          "2022-03-01T00:00:00",
          "2022-04-01T00:00:00",
          "2022-05-01T00:00:00",
          "2022-06-01T00:00:00",
          "2022-07-01T00:00:00",
          "2022-08-01T00:00:00",
          "2022-09-01T00:00:00",
          "2022-10-01T00:00:00",
          "2022-11-01T00:00:00",
          "2022-12-01T00:00:00",
          "2023-01-01T00:00:00",
          "2023-02-01T00:00:00",
          "2023-03-01T00:00:00",
          "2023-04-01T00:00:00",
          "2023-05-01T00:00:00",
          "2023-06-01T00:00:00",
          "2023-07-01T00:00:00",
          "2023-08-01T00:00:00",
          "2023-09-01T00:00:00",
          "2023-10-01T00:00:00",
          "2023-11-01T00:00:00",
          "2023-12-01T00:00:00"
         ],
         "xaxis": "x",
         "y": [
          0.3410266613653714,
          0.33542398653547056,
          0.3460278599309562,
          0.3376466667944238,
          0.33235543040993343,
          0.3206290564036557,
          0.320623649000893,
          0.3261432395028403,
          0.32440305854386886,
          0.3363898657143709,
          0.34018396436434206,
          0.33159037789679213,
          0.33002386010648566,
          0.3315783039448499,
          0.3401107404484426,
          0.33691947118210197,
          0.34746068059796553,
          0.3433725775148141,
          0.3572704629415244,
          0.35626139510047083,
          0.35044269074594736,
          0.347450256401031,
          0.34896293166810244,
          0.3578594959412804,
          0.35871293611333976,
          0.35668759301253095,
          0.36545316493727764,
          0.36999210423430295,
          0.3679686441049118,
          0.3666072875396593,
          0.3982030120485859,
          0.3943720131523333,
          0.3905996306347784,
          0.3923071919374739,
          0.39279685032553335,
          0.39627827065095633,
          0.37106596531194747,
          0.36742098955305547,
          0.3575612401922311,
          0.37475034027835374,
          0.36617966700876425,
          0.3611942786528729,
          0.352334105246216,
          0.3622269647930497,
          0.3542556590159395,
          0.35779049466218205,
          0.35959187681912097,
          0.35634740248659047,
          0.35475046683103917,
          0.352323538005489,
          0.33585323619338514,
          0.35048559812403723,
          0.35248994887592244,
          0.35214968565769744,
          0.36344933635728727,
          0.36751140352087985,
          0.363297090812127,
          0.36298309002504614,
          0.36957983880133705,
          0.3657520823212239,
          0.3681915469122181,
          0.35789122369791126,
          0.37347196875295074,
          0.3825873031081438,
          0.37585445948167884,
          0.3826904565868203,
          0.38801134009648075,
          0.38694167587666206,
          0.38444181708653324,
          0.3826540459037626,
          0.38569366577182207,
          0.3863094186966485,
          0.3919470004572133,
          0.3840558192992499,
          0.3789596863236524,
          0.39069357521072046,
          0.3990080396592839,
          0.40244947151504296,
          0.39251824357493303,
          0.39318196932520066,
          0.3878184096507886,
          0.39477278479559963,
          0.40196735906051984,
          0.40054407885689924,
          0.4042140657087453,
          0.39949925851750323,
          0.39883725308995566,
          0.4034050191482055,
          0.40231202392022003,
          0.43164890367236297,
          0.4405220608672009,
          0.43467638134720865,
          0.44168866011276153,
          0.43050643953497425,
          0.427717290853048,
          0.42938886313827707,
          0.4148599752897506,
          0.40200250627712575,
          0.41066284323448365,
          0.414991583063794,
          0.4214782688816061,
          0.4164269040850642,
          0.4151618534491349,
          0.4227578235108159,
          0.43142294266308057,
          0.43123663063852513,
          0.42621950511823836,
          0.4205928165788424,
          0.42731840565141255,
          0.4176003301662402,
          0.4066977441856532,
          0.41243554038289454,
          0.42462232517856646,
          0.41418392058188247,
          0.4275816941790065,
          0.4166949358832823,
          0.42864781209376823,
          0.4172403591499271,
          0.40568606300941734,
          0.41691140058983456,
          0.4166714438067033,
          0.4111173316480645,
          0.40155354038443636,
          0.41455947710466856,
          0.43512825273746225,
          0.43665777474375245,
          0.4337962639093187,
          0.4436209496264958,
          0.4356130927437387,
          0.42793036687852015,
          0.42812966683361375,
          0.43261691993899243,
          0.43275330277691804,
          0.4318722164040376,
          0.42100512323445316,
          0.4135392610027061,
          0.4055103382959756,
          0.4106546475451742,
          0.39742087531994963,
          0.39534066595849104,
          0.39024562237535,
          0.39678301771661206,
          0.4009973574724499,
          0.38214021382606556,
          0.41506820594552074,
          0.4063566638007611,
          0.3965907425088374,
          0.39847675891207446,
          0.40938326027936234,
          0.404798363951107,
          0.41488410888219873,
          0.4040365816126835,
          0.4043359454011721,
          0.4095382495903902,
          0.4096539253989828,
          0.40718363120719236,
          0.4181315662717854,
          0.40507924332378387,
          0.369411520222764,
          0.3460852404369805,
          0.3525767391319651,
          0.4034443449908147,
          0.42680853341952063,
          0.3869774006394697,
          0.3892310593466256,
          0.39130895977335,
          0.3623889676014037,
          0.3596654766253179,
          0.3575404098255318,
          0.3483615352887064,
          0.37964010670655945,
          0.36296685446283383,
          0.35503213352619667,
          0.34961619031377367,
          0.323609800827371,
          0.34903004948624916,
          0.3177259726068591,
          0.30843409908520103,
          0.29219665459179234,
          0.2727215286211221,
          0.41056575400892525,
          0.4297408296791657,
          0.4346485730223445,
          0.4493077327602655,
          0.44086745230434043,
          0.4534288225377703,
          0.44995631415797765,
          0.4574306610872585,
          0.45593447248999075,
          0.4472649085655557,
          0.4530363936101829,
          0.4541286093218625,
          0.438745758868034,
          0.47747729504547587,
          0.4597678326872109,
          0.48278163562013565,
          0.4997349434605616,
          0.5070201740462198,
          0.4961620516749998,
          0.4978409836811979,
          0.4979128210994912,
          0.491676795889192,
          0.48618999361534077,
          0.4873279323451861
         ],
         "yaxis": "y"
        }
       ],
       "layout": {
        "legend": {
         "title": {
          "text": "direction"
         },
         "tracegroupgap": 0
        },
        "template": {
         "data": {
          "bar": [
           {
            "error_x": {
             "color": "#2a3f5f"
            },
            "error_y": {
             "color": "#2a3f5f"
            },
            "marker": {
             "line": {
              "color": "#E5ECF6",
              "width": 0.5
             },
             "pattern": {
              "fillmode": "overlay",
              "size": 10,
              "solidity": 0.2
             }
            },
            "type": "bar"
           }
          ],
          "barpolar": [
           {
            "marker": {
             "line": {
              "color": "#E5ECF6",
              "width": 0.5
             },
             "pattern": {
              "fillmode": "overlay",
              "size": 10,
              "solidity": 0.2
             }
            },
            "type": "barpolar"
           }
          ],
          "carpet": [
           {
            "aaxis": {
             "endlinecolor": "#2a3f5f",
             "gridcolor": "white",
             "linecolor": "white",
             "minorgridcolor": "white",
             "startlinecolor": "#2a3f5f"
            },
            "baxis": {
             "endlinecolor": "#2a3f5f",
             "gridcolor": "white",
             "linecolor": "white",
             "minorgridcolor": "white",
             "startlinecolor": "#2a3f5f"
            },
            "type": "carpet"
           }
          ],
          "choropleth": [
           {
            "colorbar": {
             "outlinewidth": 0,
             "ticks": ""
            },
            "type": "choropleth"
           }
          ],
          "contour": [
           {
            "colorbar": {
             "outlinewidth": 0,
             "ticks": ""
            },
            "colorscale": [
             [
              0,
              "#0d0887"
             ],
             [
              0.1111111111111111,
              "#46039f"
             ],
             [
              0.2222222222222222,
              "#7201a8"
             ],
             [
              0.3333333333333333,
              "#9c179e"
             ],
             [
              0.4444444444444444,
              "#bd3786"
             ],
             [
              0.5555555555555556,
              "#d8576b"
             ],
             [
              0.6666666666666666,
              "#ed7953"
             ],
             [
              0.7777777777777778,
              "#fb9f3a"
             ],
             [
              0.8888888888888888,
              "#fdca26"
             ],
             [
              1,
              "#f0f921"
             ]
            ],
            "type": "contour"
           }
          ],
          "contourcarpet": [
           {
            "colorbar": {
             "outlinewidth": 0,
             "ticks": ""
            },
            "type": "contourcarpet"
           }
          ],
          "heatmap": [
           {
            "colorbar": {
             "outlinewidth": 0,
             "ticks": ""
            },
            "colorscale": [
             [
              0,
              "#0d0887"
             ],
             [
              0.1111111111111111,
              "#46039f"
             ],
             [
              0.2222222222222222,
              "#7201a8"
             ],
             [
              0.3333333333333333,
              "#9c179e"
             ],
             [
              0.4444444444444444,
              "#bd3786"
             ],
             [
              0.5555555555555556,
              "#d8576b"
             ],
             [
              0.6666666666666666,
              "#ed7953"
             ],
             [
              0.7777777777777778,
              "#fb9f3a"
             ],
             [
              0.8888888888888888,
              "#fdca26"
             ],
             [
              1,
              "#f0f921"
             ]
            ],
            "type": "heatmap"
           }
          ],
          "heatmapgl": [
           {
            "colorbar": {
             "outlinewidth": 0,
             "ticks": ""
            },
            "colorscale": [
             [
              0,
              "#0d0887"
             ],
             [
              0.1111111111111111,
              "#46039f"
             ],
             [
              0.2222222222222222,
              "#7201a8"
             ],
             [
              0.3333333333333333,
              "#9c179e"
             ],
             [
              0.4444444444444444,
              "#bd3786"
             ],
             [
              0.5555555555555556,
              "#d8576b"
             ],
             [
              0.6666666666666666,
              "#ed7953"
             ],
             [
              0.7777777777777778,
              "#fb9f3a"
             ],
             [
              0.8888888888888888,
              "#fdca26"
             ],
             [
              1,
              "#f0f921"
             ]
            ],
            "type": "heatmapgl"
           }
          ],
          "histogram": [
           {
            "marker": {
             "pattern": {
              "fillmode": "overlay",
              "size": 10,
              "solidity": 0.2
             }
            },
            "type": "histogram"
           }
          ],
          "histogram2d": [
           {
            "colorbar": {
             "outlinewidth": 0,
             "ticks": ""
            },
            "colorscale": [
             [
              0,
              "#0d0887"
             ],
             [
              0.1111111111111111,
              "#46039f"
             ],
             [
              0.2222222222222222,
              "#7201a8"
             ],
             [
              0.3333333333333333,
              "#9c179e"
             ],
             [
              0.4444444444444444,
              "#bd3786"
             ],
             [
              0.5555555555555556,
              "#d8576b"
             ],
             [
              0.6666666666666666,
              "#ed7953"
             ],
             [
              0.7777777777777778,
              "#fb9f3a"
             ],
             [
              0.8888888888888888,
              "#fdca26"
             ],
             [
              1,
              "#f0f921"
             ]
            ],
            "type": "histogram2d"
           }
          ],
          "histogram2dcontour": [
           {
            "colorbar": {
             "outlinewidth": 0,
             "ticks": ""
            },
            "colorscale": [
             [
              0,
              "#0d0887"
             ],
             [
              0.1111111111111111,
              "#46039f"
             ],
             [
              0.2222222222222222,
              "#7201a8"
             ],
             [
              0.3333333333333333,
              "#9c179e"
             ],
             [
              0.4444444444444444,
              "#bd3786"
             ],
             [
              0.5555555555555556,
              "#d8576b"
             ],
             [
              0.6666666666666666,
              "#ed7953"
             ],
             [
              0.7777777777777778,
              "#fb9f3a"
             ],
             [
              0.8888888888888888,
              "#fdca26"
             ],
             [
              1,
              "#f0f921"
             ]
            ],
            "type": "histogram2dcontour"
           }
          ],
          "mesh3d": [
           {
            "colorbar": {
             "outlinewidth": 0,
             "ticks": ""
            },
            "type": "mesh3d"
           }
          ],
          "parcoords": [
           {
            "line": {
             "colorbar": {
              "outlinewidth": 0,
              "ticks": ""
             }
            },
            "type": "parcoords"
           }
          ],
          "pie": [
           {
            "automargin": true,
            "type": "pie"
           }
          ],
          "scatter": [
           {
            "fillpattern": {
             "fillmode": "overlay",
             "size": 10,
             "solidity": 0.2
            },
            "type": "scatter"
           }
          ],
          "scatter3d": [
           {
            "line": {
             "colorbar": {
              "outlinewidth": 0,
              "ticks": ""
             }
            },
            "marker": {
             "colorbar": {
              "outlinewidth": 0,
              "ticks": ""
             }
            },
            "type": "scatter3d"
           }
          ],
          "scattercarpet": [
           {
            "marker": {
             "colorbar": {
              "outlinewidth": 0,
              "ticks": ""
             }
            },
            "type": "scattercarpet"
           }
          ],
          "scattergeo": [
           {
            "marker": {
             "colorbar": {
              "outlinewidth": 0,
              "ticks": ""
             }
            },
            "type": "scattergeo"
           }
          ],
          "scattergl": [
           {
            "marker": {
             "colorbar": {
              "outlinewidth": 0,
              "ticks": ""
             }
            },
            "type": "scattergl"
           }
          ],
          "scattermapbox": [
           {
            "marker": {
             "colorbar": {
              "outlinewidth": 0,
              "ticks": ""
             }
            },
            "type": "scattermapbox"
           }
          ],
          "scatterpolar": [
           {
            "marker": {
             "colorbar": {
              "outlinewidth": 0,
              "ticks": ""
             }
            },
            "type": "scatterpolar"
           }
          ],
          "scatterpolargl": [
           {
            "marker": {
             "colorbar": {
              "outlinewidth": 0,
              "ticks": ""
             }
            },
            "type": "scatterpolargl"
           }
          ],
          "scatterternary": [
           {
            "marker": {
             "colorbar": {
              "outlinewidth": 0,
              "ticks": ""
             }
            },
            "type": "scatterternary"
           }
          ],
          "surface": [
           {
            "colorbar": {
             "outlinewidth": 0,
             "ticks": ""
            },
            "colorscale": [
             [
              0,
              "#0d0887"
             ],
             [
              0.1111111111111111,
              "#46039f"
             ],
             [
              0.2222222222222222,
              "#7201a8"
             ],
             [
              0.3333333333333333,
              "#9c179e"
             ],
             [
              0.4444444444444444,
              "#bd3786"
             ],
             [
              0.5555555555555556,
              "#d8576b"
             ],
             [
              0.6666666666666666,
              "#ed7953"
             ],
             [
              0.7777777777777778,
              "#fb9f3a"
             ],
             [
              0.8888888888888888,
              "#fdca26"
             ],
             [
              1,
              "#f0f921"
             ]
            ],
            "type": "surface"
           }
          ],
          "table": [
           {
            "cells": {
             "fill": {
              "color": "#EBF0F8"
             },
             "line": {
              "color": "white"
             }
            },
            "header": {
             "fill": {
              "color": "#C8D4E3"
             },
             "line": {
              "color": "white"
             }
            },
            "type": "table"
           }
          ]
         },
         "layout": {
          "annotationdefaults": {
           "arrowcolor": "#2a3f5f",
           "arrowhead": 0,
           "arrowwidth": 1
          },
          "autotypenumbers": "strict",
          "coloraxis": {
           "colorbar": {
            "outlinewidth": 0,
            "ticks": ""
           }
          },
          "colorscale": {
           "diverging": [
            [
             0,
             "#8e0152"
            ],
            [
             0.1,
             "#c51b7d"
            ],
            [
             0.2,
             "#de77ae"
            ],
            [
             0.3,
             "#f1b6da"
            ],
            [
             0.4,
             "#fde0ef"
            ],
            [
             0.5,
             "#f7f7f7"
            ],
            [
             0.6,
             "#e6f5d0"
            ],
            [
             0.7,
             "#b8e186"
            ],
            [
             0.8,
             "#7fbc41"
            ],
            [
             0.9,
             "#4d9221"
            ],
            [
             1,
             "#276419"
            ]
           ],
           "sequential": [
            [
             0,
             "#0d0887"
            ],
            [
             0.1111111111111111,
             "#46039f"
            ],
            [
             0.2222222222222222,
             "#7201a8"
            ],
            [
             0.3333333333333333,
             "#9c179e"
            ],
            [
             0.4444444444444444,
             "#bd3786"
            ],
            [
             0.5555555555555556,
             "#d8576b"
            ],
            [
             0.6666666666666666,
             "#ed7953"
            ],
            [
             0.7777777777777778,
             "#fb9f3a"
            ],
            [
             0.8888888888888888,
             "#fdca26"
            ],
            [
             1,
             "#f0f921"
            ]
           ],
           "sequentialminus": [
            [
             0,
             "#0d0887"
            ],
            [
             0.1111111111111111,
             "#46039f"
            ],
            [
             0.2222222222222222,
             "#7201a8"
            ],
            [
             0.3333333333333333,
             "#9c179e"
            ],
            [
             0.4444444444444444,
             "#bd3786"
            ],
            [
             0.5555555555555556,
             "#d8576b"
            ],
            [
             0.6666666666666666,
             "#ed7953"
            ],
            [
             0.7777777777777778,
             "#fb9f3a"
            ],
            [
             0.8888888888888888,
             "#fdca26"
            ],
            [
             1,
             "#f0f921"
            ]
           ]
          },
          "colorway": [
           "#636efa",
           "#EF553B",
           "#00cc96",
           "#ab63fa",
           "#FFA15A",
           "#19d3f3",
           "#FF6692",
           "#B6E880",
           "#FF97FF",
           "#FECB52"
          ],
          "font": {
           "color": "#2a3f5f"
          },
          "geo": {
           "bgcolor": "white",
           "lakecolor": "white",
           "landcolor": "#E5ECF6",
           "showlakes": true,
           "showland": true,
           "subunitcolor": "white"
          },
          "hoverlabel": {
           "align": "left"
          },
          "hovermode": "closest",
          "mapbox": {
           "style": "light"
          },
          "paper_bgcolor": "white",
          "plot_bgcolor": "#E5ECF6",
          "polar": {
           "angularaxis": {
            "gridcolor": "white",
            "linecolor": "white",
            "ticks": ""
           },
           "bgcolor": "#E5ECF6",
           "radialaxis": {
            "gridcolor": "white",
            "linecolor": "white",
            "ticks": ""
           }
          },
          "scene": {
           "xaxis": {
            "backgroundcolor": "#E5ECF6",
            "gridcolor": "white",
            "gridwidth": 2,
            "linecolor": "white",
            "showbackground": true,
            "ticks": "",
            "zerolinecolor": "white"
           },
           "yaxis": {
            "backgroundcolor": "#E5ECF6",
            "gridcolor": "white",
            "gridwidth": 2,
            "linecolor": "white",
            "showbackground": true,
            "ticks": "",
            "zerolinecolor": "white"
           },
           "zaxis": {
            "backgroundcolor": "#E5ECF6",
            "gridcolor": "white",
            "gridwidth": 2,
            "linecolor": "white",
            "showbackground": true,
            "ticks": "",
            "zerolinecolor": "white"
           }
          },
          "shapedefaults": {
           "line": {
            "color": "#2a3f5f"
           }
          },
          "ternary": {
           "aaxis": {
            "gridcolor": "white",
            "linecolor": "white",
            "ticks": ""
           },
           "baxis": {
            "gridcolor": "white",
            "linecolor": "white",
            "ticks": ""
           },
           "bgcolor": "#E5ECF6",
           "caxis": {
            "gridcolor": "white",
            "linecolor": "white",
            "ticks": ""
           }
          },
          "title": {
           "x": 0.05
          },
          "xaxis": {
           "automargin": true,
           "gridcolor": "white",
           "linecolor": "white",
           "ticks": "",
           "title": {
            "standoff": 15
           },
           "zerolinecolor": "white",
           "zerolinewidth": 2
          },
          "yaxis": {
           "automargin": true,
           "gridcolor": "white",
           "linecolor": "white",
           "ticks": "",
           "title": {
            "standoff": 15
           },
           "zerolinecolor": "white",
           "zerolinewidth": 2
          }
         }
        },
        "title": {
         "text": "Proportion of shared cargo over time."
        },
        "xaxis": {
         "anchor": "y",
         "domain": [
          0,
          1
         ],
         "title": {
          "text": "Month"
         }
        },
        "yaxis": {
         "anchor": "x",
         "domain": [
          0,
          1
         ],
         "title": {
          "text": "Proportion of cargo from non-primary carrier"
         }
        }
       }
      }
     },
     "metadata": {},
     "output_type": "display_data"
    }
   ],
   "source": [
    "sharing_over_time_plotly(main_lf, group_var='direction')"
   ]
  },
  {
   "cell_type": "markdown",
   "metadata": {},
   "source": [
    "## Voyage Identification\n",
    "\n",
    "We define a 'voyage' as a single vessel's trip from the port of departure to the port of arrival, i.e., a single vessel on a single *lane*. Sadly, the voyage IDs listed on BOLs are not consistent with this conception of a voyage (for a given vessel, lane, and date, the \"voyage id\" is far from unique), and the date listed on each BOL does not necessarily correspond to the actual arrival date of the ship (i.e., the date data are noisy). We address this problem by emplying a Hierarchical Density-Based Spatial Clustering of Applications with Noise (HDBSCAN) algorithm to cluster the dates surrounding port visits together into a single date. This allows us to analyse the data with unique combinations of vessel, lane, and date, as is the case for the actual activity of ships. \n",
    "\n",
    "The problem of noise in the original date data is most problematic when routes are very short (e.g., between Florida and the Dominican Republic), which is a very small percentage of cargo volumes in the database. In other words, the HDBSCAN clustering successfully solves the problem for the majority of the data. If more accurate date data is required, future analyses may add route distances from the SeaRoute database as a parameter in the clustering algorithm. In recent years, [vessel entrances and clearances data](https://ndclibrary.sec.usace.army.mil/searchResults?series=Foreign%20Traffic%20Vessel%20Entrances%20Clearances) are available from the US Army Corp of Engineers, which could also be used if the need arises. \n",
    "\n",
    "### HDBSCAN Clustering \n",
    "\n"
   ]
  },
  {
   "cell_type": "code",
   "execution_count": 15,
   "metadata": {},
   "outputs": [
    {
     "name": "stdout",
     "output_type": "stream",
     "text": [
      "clustering data collected; time = 0.18 minutes\n",
      "Looping through vessel-lane pairs\n",
      "1,000 pairs of 743,158 clustered. The previous 1000 pairs took 0.82 minutes.\n",
      "2,000 pairs of 743,158 clustered. The previous 1000 pairs took 0.17 minutes.\n",
      "3,000 pairs of 743,158 clustered. The previous 1000 pairs took 0.67 minutes.\n",
      "4,000 pairs of 743,158 clustered. The previous 1000 pairs took 0.54 minutes.\n",
      "5,000 pairs of 743,158 clustered. The previous 1000 pairs took 0.44 minutes.\n",
      "6,000 pairs of 743,158 clustered. The previous 1000 pairs took 0.51 minutes.\n",
      "7,000 pairs of 743,158 clustered. The previous 1000 pairs took 0.28 minutes.\n",
      "8,000 pairs of 743,158 clustered. The previous 1000 pairs took 0.23 minutes.\n",
      "9,000 pairs of 743,158 clustered. The previous 1000 pairs took 0.41 minutes.\n",
      "10,000 pairs of 743,158 clustered. The previous 1000 pairs took 0.43 minutes.\n",
      "11,000 pairs of 743,158 clustered. The previous 1000 pairs took 0.69 minutes.\n",
      "12,000 pairs of 743,158 clustered. The previous 1000 pairs took 0.21 minutes.\n",
      "13,000 pairs of 743,158 clustered. The previous 1000 pairs took 0.33 minutes.\n",
      "14,000 pairs of 743,158 clustered. The previous 1000 pairs took 0.83 minutes.\n",
      "15,000 pairs of 743,158 clustered. The previous 1000 pairs took 0.40 minutes.\n",
      "16,000 pairs of 743,158 clustered. The previous 1000 pairs took 0.37 minutes.\n",
      "17,000 pairs of 743,158 clustered. The previous 1000 pairs took 0.79 minutes.\n",
      "18,000 pairs of 743,158 clustered. The previous 1000 pairs took 0.30 minutes.\n",
      "19,000 pairs of 743,158 clustered. The previous 1000 pairs took 0.21 minutes.\n",
      "20,000 pairs of 743,158 clustered. The previous 1000 pairs took 0.68 minutes.\n",
      "21,000 pairs of 743,158 clustered. The previous 1000 pairs took 0.48 minutes.\n",
      "22,000 pairs of 743,158 clustered. The previous 1000 pairs took 0.39 minutes.\n",
      "23,000 pairs of 743,158 clustered. The previous 1000 pairs took 0.25 minutes.\n",
      "24,000 pairs of 743,158 clustered. The previous 1000 pairs took 0.57 minutes.\n",
      "25,000 pairs of 743,158 clustered. The previous 1000 pairs took 0.33 minutes.\n",
      "26,000 pairs of 743,158 clustered. The previous 1000 pairs took 0.29 minutes.\n",
      "27,000 pairs of 743,158 clustered. The previous 1000 pairs took 0.32 minutes.\n",
      "28,000 pairs of 743,158 clustered. The previous 1000 pairs took 0.74 minutes.\n",
      "29,000 pairs of 743,158 clustered. The previous 1000 pairs took 0.44 minutes.\n",
      "30,000 pairs of 743,158 clustered. The previous 1000 pairs took 0.46 minutes.\n",
      "31,000 pairs of 743,158 clustered. The previous 1000 pairs took 0.50 minutes.\n",
      "32,000 pairs of 743,158 clustered. The previous 1000 pairs took 0.32 minutes.\n",
      "33,000 pairs of 743,158 clustered. The previous 1000 pairs took 0.48 minutes.\n",
      "34,000 pairs of 743,158 clustered. The previous 1000 pairs took 0.51 minutes.\n",
      "35,000 pairs of 743,158 clustered. The previous 1000 pairs took 0.48 minutes.\n",
      "37,000 pairs of 743,158 clustered. The previous 1000 pairs took 1.17 minutes.\n",
      "38,000 pairs of 743,158 clustered. The previous 1000 pairs took 0.84 minutes.\n",
      "39,000 pairs of 743,158 clustered. The previous 1000 pairs took 0.67 minutes.\n",
      "40,000 pairs of 743,158 clustered. The previous 1000 pairs took 0.98 minutes.\n",
      "41,000 pairs of 743,158 clustered. The previous 1000 pairs took 0.57 minutes.\n",
      "42,000 pairs of 743,158 clustered. The previous 1000 pairs took 0.53 minutes.\n",
      "43,000 pairs of 743,158 clustered. The previous 1000 pairs took 0.50 minutes.\n",
      "44,000 pairs of 743,158 clustered. The previous 1000 pairs took 0.56 minutes.\n",
      "45,000 pairs of 743,158 clustered. The previous 1000 pairs took 0.73 minutes.\n",
      "46,000 pairs of 743,158 clustered. The previous 1000 pairs took 0.45 minutes.\n",
      "47,000 pairs of 743,158 clustered. The previous 1000 pairs took 0.61 minutes.\n"
     ]
    }
   ],
   "source": [
    "#cluser imports\n",
    "imports_lf = cluster_dates(\n",
    "    main_lf.filter(pl.col('direction')=='import'), \n",
    "    direction='import'\n",
    "    );\n",
    "#cluster exports\n",
    "exports_lf = cluster_dates(\n",
    "    main_lf.filter(pl.col('direction')=='export'), \n",
    "    direction='export'\n",
    "    );\n",
    "#re-merge\n",
    "main_lf = pl.concat([imports_lf, exports_lf], how='diagonal')"
   ]
  },
  {
   "cell_type": "code",
   "execution_count": null,
   "metadata": {},
   "outputs": [],
   "source": [
    "main_lf.describe()"
   ]
  },
  {
   "cell_type": "code",
   "execution_count": null,
   "metadata": {},
   "outputs": [],
   "source": [
    "main_lf.limit(10).collect()"
   ]
  },
  {
   "cell_type": "markdown",
   "metadata": {},
   "source": [
    "## Add other data\n",
    "\n",
    "### Alliance Membership\n",
    "\n",
    "Data on which carriers are part of which alliances was collected from alliance agreements filed with the Federal Maritime Commission."
   ]
  },
  {
   "cell_type": "code",
   "execution_count": null,
   "metadata": {},
   "outputs": [],
   "source": [
    "main_lf = add_alliance_data(main_lf)"
   ]
  },
  {
   "cell_type": "markdown",
   "metadata": {},
   "source": [
    "## Drop Duplicate BOLs\n",
    "\n",
    "Conversations with S&P indicate that BOLs are unique, thus as a final preparation step, we drop duplicate BOLs from the database.  "
   ]
  },
  {
   "cell_type": "code",
   "execution_count": null,
   "metadata": {},
   "outputs": [],
   "source": [
    "main_lf = main_lf.unique(subset='bol_id')"
   ]
  },
  {
   "cell_type": "markdown",
   "metadata": {},
   "source": [
    "## Write to Parquet"
   ]
  },
  {
   "cell_type": "code",
   "execution_count": null,
   "metadata": {},
   "outputs": [],
   "source": [
    "#write to clean parquet\n",
    "\n",
    "#get years\n",
    "years = pl.arange(2007,2024, eager=True)\n",
    "\n",
    "start = time.time()\n",
    "\n",
    "for year in years:\n",
    "    print('Collecting {} dataframe...'.format(year))\n",
    "    df = (\n",
    "        main_lf\n",
    "        .filter(pl.col('year')==year)\n",
    "        .collect()\n",
    "    )\n",
    "    print('Writing {} data to parquet...'.format(year))\n",
    "    df.write_parquet(file='../data/main/main_'+str(year)+'.parquet')\n",
    "print('OCA data written to parquet')\n",
    "runtime = time.time() - start\n",
    "print('Total time to write data: {:.2f} hours'.format(runtime/3600))"
   ]
  },
  {
   "cell_type": "markdown",
   "metadata": {},
   "source": [
    "## Limitations\n",
    "\n",
    "- voyage identification\n",
    "    - Ideally, a voyage would be defined by a vessel visiting a set of departure ports (e.g. Hong Kong, Beijing, and Tokyo) to pick up cargo and then delivering them to a set of arrival ports (e.g. Seattle, San Francisco, and Los Angeles). This way, we could measure the relative volumnes from each carrier actually on the ship during the main transit rather than only the relative volumes related to the specific lane. \n",
    "- missing data\n",
    "    - volume data missing from the first half of the dataset is problematic, and our current method of filling with the mean links volumnes to the number of BOLs. "
   ]
  }
 ],
 "metadata": {
  "kernelspec": {
   "display_name": "wsu",
   "language": "python",
   "name": "python3"
  },
  "language_info": {
   "codemirror_mode": {
    "name": "ipython",
    "version": 3
   },
   "file_extension": ".py",
   "mimetype": "text/x-python",
   "name": "python",
   "nbconvert_exporter": "python",
   "pygments_lexer": "ipython3",
   "version": "3.12.0"
  }
 },
 "nbformat": 4,
 "nbformat_minor": 2
}
