{
 "cells": [
  {
   "cell_type": "markdown",
   "metadata": {},
   "source": [
    "# Ocean Carrier Alliances Project - Analysis and Modeling"
   ]
  },
  {
   "cell_type": "markdown",
   "metadata": {},
   "source": [
    "The initial model for the project inspects the effects of carrier alliances on frequency of service. We estimate this using the following equation:\n",
    "\n",
    "$$ S_{lct} = b X_{lct} + a_1 AM_{ct}PC_{lc} + a_2 AM_{ct} + a_3 PC_{lc} + \\epsilon_{lct} $$\n",
    "\n",
    "where:\n",
    "- $l$ is the lane, i.e. the departure port and arrival port pair\n",
    "- $c$ is the carrier\n",
    "- $t$ is the time period, which we aggregate to months (e.g., May 2019)\n",
    "- $S$ is the frequency of service, i.e. the number of voyages provided to that lane by the carrier in the given month. \n",
    "- $X$ are the correction variables\n",
    "- $AM$ is an indicator of whether or not the carrier is part of an alliance\n",
    "- $PC$ is an indicator of whether or not the lane was serviced by that carrier before the alliance took effect. \n",
    "\n",
    "Since our initial interest is the impact of alliances on domestic producers, we start by analysing the exports database. \n",
    "\n",
    "## Data Import and Transformation\n",
    "\n",
    "The data come from the PIERS database and are primarily processed in the [PIERS Data Project](https://github.com/epistemetrica/PIERS-Data-Project) with specific preparations for this analysis occuring in the 'oca_data_pred.ipynb' file in this repository. "
   ]
  },
  {
   "cell_type": "code",
   "execution_count": 68,
   "metadata": {},
   "outputs": [],
   "source": [
    "#preliminaries \n",
    "import pandas as pd #v2.1.3\n",
    "import numpy as np\n",
    "import polars as pl #v0.20.18\n",
    "import plotly_express as px #v0.4.1 \n",
    "import datetime as dt\n",
    "import statsmodels.api as sm\n",
    "import scipy\n",
    "import matplotlib.pyplot as plt\n",
    "import seaborn as sns\n",
    "\n",
    "#enable string cache for polars categoricals\n",
    "pl.enable_string_cache()\n",
    "\n",
    "#load data to lazyframe\n",
    "exports_lf = pl.scan_parquet('data/exports/exports.parquet')\n",
    "#ignore unused columns \n",
    "exports_lf = (\n",
    "    exports_lf.select(\n",
    "        'teus',\n",
    "        #'carrier_name',\n",
    "        #'carrier_scac',\n",
    "        #'vessel_name',\n",
    "        #'voyage_number',\n",
    "        'vessel_id',\n",
    "        'departure_port_code',\n",
    "        'departure_port_name',\n",
    "        #'coast_region', #note coast region was restricted to west coast in the data_prep nb\n",
    "        'hs_code',\n",
    "        #'date',\n",
    "        #'dest_territory',\n",
    "        #'dest_region',\n",
    "        'arrival_port_code',\n",
    "        'arrival_port_name',\n",
    "        #'direction',\n",
    "        'bol_id',\n",
    "        'year',\n",
    "        'month',\n",
    "        'lane_id',\n",
    "        'lane_name',\n",
    "        'unified_carrier_name',\n",
    "        'unified_carrier_scac',\n",
    "        'vessel_lane_pair',\n",
    "        'date_departure'\n",
    "    )\n",
    ")"
   ]
  },
  {
   "cell_type": "markdown",
   "metadata": {},
   "source": [
    "### Cargo Sharing identification\n",
    "\n",
    "NOTE: this step will be moved to oca_data_prep once established\n",
    "\n",
    "We define the primary carrier for a given vessel as the carrier representing the most cargo carried on that ship during any given month. "
   ]
  },
  {
   "cell_type": "code",
   "execution_count": 69,
   "metadata": {},
   "outputs": [],
   "source": [
    "#assign primary carrier\n",
    "def add_primary_carrier(lf):\n",
    "    '''ad hoc function to find primary carrier for each vessel and indicate cargo sharing'''\n",
    "    lf = (\n",
    "        #sum teus over vessel, month, and carrier\n",
    "        lf.with_columns(\n",
    "            pl.col('teus').sum()\n",
    "            .over('vessel_id', 'month', 'unified_carrier_scac')\n",
    "            .alias('sum_teus')\n",
    "            )\n",
    "        #select carrier that moved the most cargo on that vessel during that month\n",
    "        .with_columns(\n",
    "            pl.col('unified_carrier_scac')\n",
    "            .sort_by('sum_teus', descending=True)\n",
    "            .drop_nulls().first()\n",
    "            .over('vessel_id', 'month')\n",
    "            .alias('vessel_owner')\n",
    "            )\n",
    "        #add bool col if bol is from primary carrier\n",
    "        .with_columns(\n",
    "            (pl.col('unified_carrier_scac')==pl.col('vessel_owner'))\n",
    "            .alias('primary_cargo')\n",
    "            )\n",
    "        #set related columns to missing when vessel_id is missing\n",
    "        .with_columns(\n",
    "            pl.when(pl.col('vessel_id').is_null()).then(pl.lit(None)).otherwise(pl.col('vessel_owner')).alias('vessel_owner'),\n",
    "            pl.when(pl.col('vessel_id').is_null()).then(pl.lit(None)).otherwise(pl.col('primary_cargo')).alias('primary_cargo')\n",
    "        )\n",
    "        #drop ad hoc sum_teus col\n",
    "        .drop('sum_teus')\n",
    "    )\n",
    "    return lf\n",
    "\n",
    "exports_lf = add_primary_carrier(exports_lf)"
   ]
  },
  {
   "cell_type": "code",
   "execution_count": 70,
   "metadata": {},
   "outputs": [],
   "source": [
    "port_share_df = (\n",
    "    exports_lf\n",
    "    .group_by('departure_port_code')\n",
    "    .agg(\n",
    "        (pl.col('teus')*(1-pl.col('primary_cargo'))).sum().alias('sum_shared_teus'),\n",
    "        pl.col('teus').sum().alias('sum_teus')\n",
    "    )\n",
    "    .with_columns((pl.col('sum_shared_teus')/pl.col('sum_teus')).alias('prop_shared'))\n",
    "    .sort(by='sum_teus')\n",
    "    .collect()\n",
    "    .to_pandas()\n",
    ")"
   ]
  },
  {
   "cell_type": "code",
   "execution_count": 71,
   "metadata": {},
   "outputs": [
    {
     "name": "stderr",
     "output_type": "stream",
     "text": [
      "/Users/adamwilson/miniconda3/envs/wsu/lib/python3.12/site-packages/plotly/express/_core.py:2044: FutureWarning:\n",
      "\n",
      "The default of observed=False is deprecated and will be changed to True in a future version of pandas. Pass observed=False to retain current behavior or observed=True to adopt the future default and silence this warning.\n",
      "\n"
     ]
    },
    {
     "data": {
      "application/vnd.plotly.v1+json": {
       "config": {
        "plotlyServerURL": "https://plot.ly"
       },
       "data": [
        {
         "hovertemplate": "departure_port_code=3115<br>Port Size Rank (ascending)=%{x}<br>prop_shared=%{y}<extra></extra>",
         "legendgroup": "3115",
         "marker": {
          "color": "#636efa",
          "symbol": "circle"
         },
         "mode": "markers",
         "name": "3115",
         "orientation": "v",
         "showlegend": true,
         "type": "scatter",
         "x": [
          0
         ],
         "xaxis": "x",
         "y": [
          0
         ],
         "yaxis": "y"
        },
        {
         "hovertemplate": "departure_port_code=3202<br>Port Size Rank (ascending)=%{x}<br>prop_shared=%{y}<extra></extra>",
         "legendgroup": "3202",
         "marker": {
          "color": "#EF553B",
          "symbol": "circle"
         },
         "mode": "markers",
         "name": "3202",
         "orientation": "v",
         "showlegend": true,
         "type": "scatter",
         "x": [
          1
         ],
         "xaxis": "x",
         "y": [
          0
         ],
         "yaxis": "y"
        },
        {
         "hovertemplate": "departure_port_code=2815<br>Port Size Rank (ascending)=%{x}<br>prop_shared=%{y}<extra></extra>",
         "legendgroup": "2815",
         "marker": {
          "color": "#00cc96",
          "symbol": "circle"
         },
         "mode": "markers",
         "name": "2815",
         "orientation": "v",
         "showlegend": true,
         "type": "scatter",
         "x": [
          2
         ],
         "xaxis": "x",
         "y": [
          0
         ],
         "yaxis": "y"
        },
        {
         "hovertemplate": "departure_port_code=2827<br>Port Size Rank (ascending)=%{x}<br>prop_shared=%{y}<extra></extra>",
         "legendgroup": "2827",
         "marker": {
          "color": "#ab63fa",
          "symbol": "circle"
         },
         "mode": "markers",
         "name": "2827",
         "orientation": "v",
         "showlegend": true,
         "type": "scatter",
         "x": [
          3
         ],
         "xaxis": "x",
         "y": [
          0
         ],
         "yaxis": "y"
        },
        {
         "hovertemplate": "departure_port_code=2902<br>Port Size Rank (ascending)=%{x}<br>prop_shared=%{y}<extra></extra>",
         "legendgroup": "2902",
         "marker": {
          "color": "#FFA15A",
          "symbol": "circle"
         },
         "mode": "markers",
         "name": "2902",
         "orientation": "v",
         "showlegend": true,
         "type": "scatter",
         "x": [
          4
         ],
         "xaxis": "x",
         "y": [
          0
         ],
         "yaxis": "y"
        },
        {
         "hovertemplate": "departure_port_code=3102<br>Port Size Rank (ascending)=%{x}<br>prop_shared=%{y}<extra></extra>",
         "legendgroup": "3102",
         "marker": {
          "color": "#19d3f3",
          "symbol": "circle"
         },
         "mode": "markers",
         "name": "3102",
         "orientation": "v",
         "showlegend": true,
         "type": "scatter",
         "x": [
          5
         ],
         "xaxis": "x",
         "y": [
          0
         ],
         "yaxis": "y"
        },
        {
         "hovertemplate": "departure_port_code=3203<br>Port Size Rank (ascending)=%{x}<br>prop_shared=%{y}<extra></extra>",
         "legendgroup": "3203",
         "marker": {
          "color": "#FF6692",
          "symbol": "circle"
         },
         "mode": "markers",
         "name": "3203",
         "orientation": "v",
         "showlegend": true,
         "type": "scatter",
         "x": [
          6
         ],
         "xaxis": "x",
         "y": [
          0
         ],
         "yaxis": "y"
        },
        {
         "hovertemplate": "departure_port_code=2721<br>Port Size Rank (ascending)=%{x}<br>prop_shared=%{y}<extra></extra>",
         "legendgroup": "2721",
         "marker": {
          "color": "#B6E880",
          "symbol": "circle"
         },
         "mode": "markers",
         "name": "2721",
         "orientation": "v",
         "showlegend": true,
         "type": "scatter",
         "x": [
          7
         ],
         "xaxis": "x",
         "y": [
          0.35183477988100376
         ],
         "yaxis": "y"
        },
        {
         "hovertemplate": "departure_port_code=3125<br>Port Size Rank (ascending)=%{x}<br>prop_shared=%{y}<extra></extra>",
         "legendgroup": "3125",
         "marker": {
          "color": "#FF97FF",
          "symbol": "circle"
         },
         "mode": "markers",
         "name": "3125",
         "orientation": "v",
         "showlegend": true,
         "type": "scatter",
         "x": [
          8
         ],
         "xaxis": "x",
         "y": [
          0
         ],
         "yaxis": "y"
        },
        {
         "hovertemplate": "departure_port_code=3107<br>Port Size Rank (ascending)=%{x}<br>prop_shared=%{y}<extra></extra>",
         "legendgroup": "3107",
         "marker": {
          "color": "#FECB52",
          "symbol": "circle"
         },
         "mode": "markers",
         "name": "3107",
         "orientation": "v",
         "showlegend": true,
         "type": "scatter",
         "x": [
          9
         ],
         "xaxis": "x",
         "y": [
          0
         ],
         "yaxis": "y"
        },
        {
         "hovertemplate": "departure_port_code=2711<br>Port Size Rank (ascending)=%{x}<br>prop_shared=%{y}<extra></extra>",
         "legendgroup": "2711",
         "marker": {
          "color": "#636efa",
          "symbol": "circle"
         },
         "mode": "markers",
         "name": "2711",
         "orientation": "v",
         "showlegend": true,
         "type": "scatter",
         "x": [
          10
         ],
         "xaxis": "x",
         "y": [
          0
         ],
         "yaxis": "y"
        },
        {
         "hovertemplate": "departure_port_code=2821<br>Port Size Rank (ascending)=%{x}<br>prop_shared=%{y}<extra></extra>",
         "legendgroup": "2821",
         "marker": {
          "color": "#EF553B",
          "symbol": "circle"
         },
         "mode": "markers",
         "name": "2821",
         "orientation": "v",
         "showlegend": true,
         "type": "scatter",
         "x": [
          11
         ],
         "xaxis": "x",
         "y": [
          0.6603616871211697
         ],
         "yaxis": "y"
        },
        {
         "hovertemplate": "departure_port_code=3098<br>Port Size Rank (ascending)=%{x}<br>prop_shared=%{y}<extra></extra>",
         "legendgroup": "3098",
         "marker": {
          "color": "#00cc96",
          "symbol": "circle"
         },
         "mode": "markers",
         "name": "3098",
         "orientation": "v",
         "showlegend": true,
         "type": "scatter",
         "x": [
          12
         ],
         "xaxis": "x",
         "y": [
          0
         ],
         "yaxis": "y"
        },
        {
         "hovertemplate": "departure_port_code=2820<br>Port Size Rank (ascending)=%{x}<br>prop_shared=%{y}<extra></extra>",
         "legendgroup": "2820",
         "marker": {
          "color": "#ab63fa",
          "symbol": "circle"
         },
         "mode": "markers",
         "name": "2820",
         "orientation": "v",
         "showlegend": true,
         "type": "scatter",
         "x": [
          13
         ],
         "xaxis": "x",
         "y": [
          0
         ],
         "yaxis": "y"
        },
        {
         "hovertemplate": "departure_port_code=3008<br>Port Size Rank (ascending)=%{x}<br>prop_shared=%{y}<extra></extra>",
         "legendgroup": "3008",
         "marker": {
          "color": "#FFA15A",
          "symbol": "circle"
         },
         "mode": "markers",
         "name": "3008",
         "orientation": "v",
         "showlegend": true,
         "type": "scatter",
         "x": [
          14
         ],
         "xaxis": "x",
         "y": [
          0
         ],
         "yaxis": "y"
        },
        {
         "hovertemplate": "departure_port_code=2901<br>Port Size Rank (ascending)=%{x}<br>prop_shared=%{y}<extra></extra>",
         "legendgroup": "2901",
         "marker": {
          "color": "#19d3f3",
          "symbol": "circle"
         },
         "mode": "markers",
         "name": "2901",
         "orientation": "v",
         "showlegend": true,
         "type": "scatter",
         "x": [
          15
         ],
         "xaxis": "x",
         "y": [
          0
         ],
         "yaxis": "y"
        },
        {
         "hovertemplate": "departure_port_code=2802<br>Port Size Rank (ascending)=%{x}<br>prop_shared=%{y}<extra></extra>",
         "legendgroup": "2802",
         "marker": {
          "color": "#FF6692",
          "symbol": "circle"
         },
         "mode": "markers",
         "name": "2802",
         "orientation": "v",
         "showlegend": true,
         "type": "scatter",
         "x": [
          16
         ],
         "xaxis": "x",
         "y": [
          0
         ],
         "yaxis": "y"
        },
        {
         "hovertemplate": "departure_port_code=3007<br>Port Size Rank (ascending)=%{x}<br>prop_shared=%{y}<extra></extra>",
         "legendgroup": "3007",
         "marker": {
          "color": "#B6E880",
          "symbol": "circle"
         },
         "mode": "markers",
         "name": "3007",
         "orientation": "v",
         "showlegend": true,
         "type": "scatter",
         "x": [
          17
         ],
         "xaxis": "x",
         "y": [
          0.004081632653061224
         ],
         "yaxis": "y"
        },
        {
         "hovertemplate": "departure_port_code=2828<br>Port Size Rank (ascending)=%{x}<br>prop_shared=%{y}<extra></extra>",
         "legendgroup": "2828",
         "marker": {
          "color": "#FF97FF",
          "symbol": "circle"
         },
         "mode": "markers",
         "name": "2828",
         "orientation": "v",
         "showlegend": true,
         "type": "scatter",
         "x": [
          18
         ],
         "xaxis": "x",
         "y": [
          0.06925983824021718
         ],
         "yaxis": "y"
        },
        {
         "hovertemplate": "departure_port_code=2903<br>Port Size Rank (ascending)=%{x}<br>prop_shared=%{y}<extra></extra>",
         "legendgroup": "2903",
         "marker": {
          "color": "#FECB52",
          "symbol": "circle"
         },
         "mode": "markers",
         "name": "2903",
         "orientation": "v",
         "showlegend": true,
         "type": "scatter",
         "x": [
          19
         ],
         "xaxis": "x",
         "y": [
          0
         ],
         "yaxis": "y"
        },
        {
         "hovertemplate": "departure_port_code=2830<br>Port Size Rank (ascending)=%{x}<br>prop_shared=%{y}<extra></extra>",
         "legendgroup": "2830",
         "marker": {
          "color": "#636efa",
          "symbol": "circle"
         },
         "mode": "markers",
         "name": "2830",
         "orientation": "v",
         "showlegend": true,
         "type": "scatter",
         "x": [
          20
         ],
         "xaxis": "x",
         "y": [
          0.005755870696622216
         ],
         "yaxis": "y"
        },
        {
         "hovertemplate": "departure_port_code=2816<br>Port Size Rank (ascending)=%{x}<br>prop_shared=%{y}<extra></extra>",
         "legendgroup": "2816",
         "marker": {
          "color": "#EF553B",
          "symbol": "circle"
         },
         "mode": "markers",
         "name": "2816",
         "orientation": "v",
         "showlegend": true,
         "type": "scatter",
         "x": [
          21
         ],
         "xaxis": "x",
         "y": [
          0.016300321035245886
         ],
         "yaxis": "y"
        },
        {
         "hovertemplate": "departure_port_code=2810<br>Port Size Rank (ascending)=%{x}<br>prop_shared=%{y}<extra></extra>",
         "legendgroup": "2810",
         "marker": {
          "color": "#00cc96",
          "symbol": "circle"
         },
         "mode": "markers",
         "name": "2810",
         "orientation": "v",
         "showlegend": true,
         "type": "scatter",
         "x": [
          22
         ],
         "xaxis": "x",
         "y": [
          0
         ],
         "yaxis": "y"
        },
        {
         "hovertemplate": "departure_port_code=3026<br>Port Size Rank (ascending)=%{x}<br>prop_shared=%{y}<extra></extra>",
         "legendgroup": "3026",
         "marker": {
          "color": "#ab63fa",
          "symbol": "circle"
         },
         "mode": "markers",
         "name": "3026",
         "orientation": "v",
         "showlegend": true,
         "type": "scatter",
         "x": [
          23
         ],
         "xaxis": "x",
         "y": [
          0.0051085568326947614
         ],
         "yaxis": "y"
        },
        {
         "hovertemplate": "departure_port_code=3010<br>Port Size Rank (ascending)=%{x}<br>prop_shared=%{y}<extra></extra>",
         "legendgroup": "3010",
         "marker": {
          "color": "#FFA15A",
          "symbol": "circle"
         },
         "mode": "markers",
         "name": "3010",
         "orientation": "v",
         "showlegend": true,
         "type": "scatter",
         "x": [
          24
         ],
         "xaxis": "x",
         "y": [
          0.00913845374561821
         ],
         "yaxis": "y"
        },
        {
         "hovertemplate": "departure_port_code=2809<br>Port Size Rank (ascending)=%{x}<br>prop_shared=%{y}<extra></extra>",
         "legendgroup": "2809",
         "marker": {
          "color": "#19d3f3",
          "symbol": "circle"
         },
         "mode": "markers",
         "name": "2809",
         "orientation": "v",
         "showlegend": true,
         "type": "scatter",
         "x": [
          25
         ],
         "xaxis": "x",
         "y": [
          0.04446685382470092
         ],
         "yaxis": "y"
        },
        {
         "hovertemplate": "departure_port_code=2812<br>Port Size Rank (ascending)=%{x}<br>prop_shared=%{y}<extra></extra>",
         "legendgroup": "2812",
         "marker": {
          "color": "#FF6692",
          "symbol": "circle"
         },
         "mode": "markers",
         "name": "2812",
         "orientation": "v",
         "showlegend": true,
         "type": "scatter",
         "x": [
          26
         ],
         "xaxis": "x",
         "y": [
          0.006466784244562025
         ],
         "yaxis": "y"
        },
        {
         "hovertemplate": "departure_port_code=3005<br>Port Size Rank (ascending)=%{x}<br>prop_shared=%{y}<extra></extra>",
         "legendgroup": "3005",
         "marker": {
          "color": "#B6E880",
          "symbol": "circle"
         },
         "mode": "markers",
         "name": "3005",
         "orientation": "v",
         "showlegend": true,
         "type": "scatter",
         "x": [
          27
         ],
         "xaxis": "x",
         "y": [
          0.001996305207469308
         ],
         "yaxis": "y"
        },
        {
         "hovertemplate": "departure_port_code=3127<br>Port Size Rank (ascending)=%{x}<br>prop_shared=%{y}<extra></extra>",
         "legendgroup": "3127",
         "marker": {
          "color": "#FF97FF",
          "symbol": "circle"
         },
         "mode": "markers",
         "name": "3127",
         "orientation": "v",
         "showlegend": true,
         "type": "scatter",
         "x": [
          28
         ],
         "xaxis": "x",
         "y": [
          0.0013457472685315373
         ],
         "yaxis": "y"
        },
        {
         "hovertemplate": "departure_port_code=3006<br>Port Size Rank (ascending)=%{x}<br>prop_shared=%{y}<extra></extra>",
         "legendgroup": "3006",
         "marker": {
          "color": "#FECB52",
          "symbol": "circle"
         },
         "mode": "markers",
         "name": "3006",
         "orientation": "v",
         "showlegend": true,
         "type": "scatter",
         "x": [
          29
         ],
         "xaxis": "x",
         "y": [
          0.03322877910221392
         ],
         "yaxis": "y"
        },
        {
         "hovertemplate": "departure_port_code=2908<br>Port Size Rank (ascending)=%{x}<br>prop_shared=%{y}<extra></extra>",
         "legendgroup": "2908",
         "marker": {
          "color": "#636efa",
          "symbol": "circle"
         },
         "mode": "markers",
         "name": "2908",
         "orientation": "v",
         "showlegend": true,
         "type": "scatter",
         "x": [
          30
         ],
         "xaxis": "x",
         "y": [
          0.03266396751201999
         ],
         "yaxis": "y"
        },
        {
         "hovertemplate": "departure_port_code=2909<br>Port Size Rank (ascending)=%{x}<br>prop_shared=%{y}<extra></extra>",
         "legendgroup": "2909",
         "marker": {
          "color": "#EF553B",
          "symbol": "circle"
         },
         "mode": "markers",
         "name": "2909",
         "orientation": "v",
         "showlegend": true,
         "type": "scatter",
         "x": [
          31
         ],
         "xaxis": "x",
         "y": [
          0.00011969207046026472
         ],
         "yaxis": "y"
        },
        {
         "hovertemplate": "departure_port_code=3003<br>Port Size Rank (ascending)=%{x}<br>prop_shared=%{y}<extra></extra>",
         "legendgroup": "3003",
         "marker": {
          "color": "#00cc96",
          "symbol": "circle"
         },
         "mode": "markers",
         "name": "3003",
         "orientation": "v",
         "showlegend": true,
         "type": "scatter",
         "x": [
          32
         ],
         "xaxis": "x",
         "y": [
          0.006250888415295289
         ],
         "yaxis": "y"
        },
        {
         "hovertemplate": "departure_port_code=2905<br>Port Size Rank (ascending)=%{x}<br>prop_shared=%{y}<extra></extra>",
         "legendgroup": "2905",
         "marker": {
          "color": "#ab63fa",
          "symbol": "circle"
         },
         "mode": "markers",
         "name": "2905",
         "orientation": "v",
         "showlegend": true,
         "type": "scatter",
         "x": [
          33
         ],
         "xaxis": "x",
         "y": [
          0.0018732598446757438
         ],
         "yaxis": "y"
        },
        {
         "hovertemplate": "departure_port_code=0005<br>Port Size Rank (ascending)=%{x}<br>prop_shared=%{y}<extra></extra>",
         "legendgroup": "0005",
         "marker": {
          "color": "#FFA15A",
          "symbol": "circle"
         },
         "mode": "markers",
         "name": "0005",
         "orientation": "v",
         "showlegend": true,
         "type": "scatter",
         "x": [
          34
         ],
         "xaxis": "x",
         "y": [
          0.38298404553069
         ],
         "yaxis": "y"
        },
        {
         "hovertemplate": "departure_port_code=2501<br>Port Size Rank (ascending)=%{x}<br>prop_shared=%{y}<extra></extra>",
         "legendgroup": "2501",
         "marker": {
          "color": "#19d3f3",
          "symbol": "circle"
         },
         "mode": "markers",
         "name": "2501",
         "orientation": "v",
         "showlegend": true,
         "type": "scatter",
         "x": [
          35
         ],
         "xaxis": "x",
         "y": [
          0.0053384368067135165
         ],
         "yaxis": "y"
        },
        {
         "hovertemplate": "departure_port_code=2713<br>Port Size Rank (ascending)=%{x}<br>prop_shared=%{y}<extra></extra>",
         "legendgroup": "2713",
         "marker": {
          "color": "#FF6692",
          "symbol": "circle"
         },
         "mode": "markers",
         "name": "2713",
         "orientation": "v",
         "showlegend": true,
         "type": "scatter",
         "x": [
          36
         ],
         "xaxis": "x",
         "y": [
          0.10832646113754199
         ],
         "yaxis": "y"
        },
        {
         "hovertemplate": "departure_port_code=3126<br>Port Size Rank (ascending)=%{x}<br>prop_shared=%{y}<extra></extra>",
         "legendgroup": "3126",
         "marker": {
          "color": "#B6E880",
          "symbol": "circle"
         },
         "mode": "markers",
         "name": "3126",
         "orientation": "v",
         "showlegend": true,
         "type": "scatter",
         "x": [
          37
         ],
         "xaxis": "x",
         "y": [
          0.017375402506557253
         ],
         "yaxis": "y"
        },
        {
         "hovertemplate": "departure_port_code=2904<br>Port Size Rank (ascending)=%{x}<br>prop_shared=%{y}<extra></extra>",
         "legendgroup": "2904",
         "marker": {
          "color": "#FF97FF",
          "symbol": "circle"
         },
         "mode": "markers",
         "name": "2904",
         "orientation": "v",
         "showlegend": true,
         "type": "scatter",
         "x": [
          38
         ],
         "xaxis": "x",
         "y": [
          0.20541128411221435
         ],
         "yaxis": "y"
        },
        {
         "hovertemplate": "departure_port_code=3201<br>Port Size Rank (ascending)=%{x}<br>prop_shared=%{y}<extra></extra>",
         "legendgroup": "3201",
         "marker": {
          "color": "#FECB52",
          "symbol": "circle"
         },
         "mode": "markers",
         "name": "3201",
         "orientation": "v",
         "showlegend": true,
         "type": "scatter",
         "x": [
          39
         ],
         "xaxis": "x",
         "y": [
          0.0374767329096108
         ],
         "yaxis": "y"
        },
        {
         "hovertemplate": "departure_port_code=3001<br>Port Size Rank (ascending)=%{x}<br>prop_shared=%{y}<extra></extra>",
         "legendgroup": "3001",
         "marker": {
          "color": "#636efa",
          "symbol": "circle"
         },
         "mode": "markers",
         "name": "3001",
         "orientation": "v",
         "showlegend": true,
         "type": "scatter",
         "x": [
          40
         ],
         "xaxis": "x",
         "y": [
          0.39170881918999884
         ],
         "yaxis": "y"
        },
        {
         "hovertemplate": "departure_port_code=3002<br>Port Size Rank (ascending)=%{x}<br>prop_shared=%{y}<extra></extra>",
         "legendgroup": "3002",
         "marker": {
          "color": "#EF553B",
          "symbol": "circle"
         },
         "mode": "markers",
         "name": "3002",
         "orientation": "v",
         "showlegend": true,
         "type": "scatter",
         "x": [
          41
         ],
         "xaxis": "x",
         "y": [
          0.28953626838490926
         ],
         "yaxis": "y"
        },
        {
         "hovertemplate": "departure_port_code=2811<br>Port Size Rank (ascending)=%{x}<br>prop_shared=%{y}<extra></extra>",
         "legendgroup": "2811",
         "marker": {
          "color": "#00cc96",
          "symbol": "circle"
         },
         "mode": "markers",
         "name": "2811",
         "orientation": "v",
         "showlegend": true,
         "type": "scatter",
         "x": [
          42
         ],
         "xaxis": "x",
         "y": [
          0.37290555251028584
         ],
         "yaxis": "y"
        },
        {
         "hovertemplate": "departure_port_code=2709<br>Port Size Rank (ascending)=%{x}<br>prop_shared=%{y}<extra></extra>",
         "legendgroup": "2709",
         "marker": {
          "color": "#ab63fa",
          "symbol": "circle"
         },
         "mode": "markers",
         "name": "2709",
         "orientation": "v",
         "showlegend": true,
         "type": "scatter",
         "x": [
          43
         ],
         "xaxis": "x",
         "y": [
          0.3702051258329055
         ],
         "yaxis": "y"
        },
        {
         "hovertemplate": "departure_port_code=2704<br>Port Size Rank (ascending)=%{x}<br>prop_shared=%{y}<extra></extra>",
         "legendgroup": "2704",
         "marker": {
          "color": "#FFA15A",
          "symbol": "circle"
         },
         "mode": "markers",
         "name": "2704",
         "orientation": "v",
         "showlegend": true,
         "type": "scatter",
         "x": [
          44
         ],
         "xaxis": "x",
         "y": [
          0.37142428123327514
         ],
         "yaxis": "y"
        }
       ],
       "layout": {
        "legend": {
         "title": {
          "text": "departure_port_code"
         },
         "tracegroupgap": 0
        },
        "template": {
         "data": {
          "bar": [
           {
            "error_x": {
             "color": "#2a3f5f"
            },
            "error_y": {
             "color": "#2a3f5f"
            },
            "marker": {
             "line": {
              "color": "#E5ECF6",
              "width": 0.5
             },
             "pattern": {
              "fillmode": "overlay",
              "size": 10,
              "solidity": 0.2
             }
            },
            "type": "bar"
           }
          ],
          "barpolar": [
           {
            "marker": {
             "line": {
              "color": "#E5ECF6",
              "width": 0.5
             },
             "pattern": {
              "fillmode": "overlay",
              "size": 10,
              "solidity": 0.2
             }
            },
            "type": "barpolar"
           }
          ],
          "carpet": [
           {
            "aaxis": {
             "endlinecolor": "#2a3f5f",
             "gridcolor": "white",
             "linecolor": "white",
             "minorgridcolor": "white",
             "startlinecolor": "#2a3f5f"
            },
            "baxis": {
             "endlinecolor": "#2a3f5f",
             "gridcolor": "white",
             "linecolor": "white",
             "minorgridcolor": "white",
             "startlinecolor": "#2a3f5f"
            },
            "type": "carpet"
           }
          ],
          "choropleth": [
           {
            "colorbar": {
             "outlinewidth": 0,
             "ticks": ""
            },
            "type": "choropleth"
           }
          ],
          "contour": [
           {
            "colorbar": {
             "outlinewidth": 0,
             "ticks": ""
            },
            "colorscale": [
             [
              0,
              "#0d0887"
             ],
             [
              0.1111111111111111,
              "#46039f"
             ],
             [
              0.2222222222222222,
              "#7201a8"
             ],
             [
              0.3333333333333333,
              "#9c179e"
             ],
             [
              0.4444444444444444,
              "#bd3786"
             ],
             [
              0.5555555555555556,
              "#d8576b"
             ],
             [
              0.6666666666666666,
              "#ed7953"
             ],
             [
              0.7777777777777778,
              "#fb9f3a"
             ],
             [
              0.8888888888888888,
              "#fdca26"
             ],
             [
              1,
              "#f0f921"
             ]
            ],
            "type": "contour"
           }
          ],
          "contourcarpet": [
           {
            "colorbar": {
             "outlinewidth": 0,
             "ticks": ""
            },
            "type": "contourcarpet"
           }
          ],
          "heatmap": [
           {
            "colorbar": {
             "outlinewidth": 0,
             "ticks": ""
            },
            "colorscale": [
             [
              0,
              "#0d0887"
             ],
             [
              0.1111111111111111,
              "#46039f"
             ],
             [
              0.2222222222222222,
              "#7201a8"
             ],
             [
              0.3333333333333333,
              "#9c179e"
             ],
             [
              0.4444444444444444,
              "#bd3786"
             ],
             [
              0.5555555555555556,
              "#d8576b"
             ],
             [
              0.6666666666666666,
              "#ed7953"
             ],
             [
              0.7777777777777778,
              "#fb9f3a"
             ],
             [
              0.8888888888888888,
              "#fdca26"
             ],
             [
              1,
              "#f0f921"
             ]
            ],
            "type": "heatmap"
           }
          ],
          "heatmapgl": [
           {
            "colorbar": {
             "outlinewidth": 0,
             "ticks": ""
            },
            "colorscale": [
             [
              0,
              "#0d0887"
             ],
             [
              0.1111111111111111,
              "#46039f"
             ],
             [
              0.2222222222222222,
              "#7201a8"
             ],
             [
              0.3333333333333333,
              "#9c179e"
             ],
             [
              0.4444444444444444,
              "#bd3786"
             ],
             [
              0.5555555555555556,
              "#d8576b"
             ],
             [
              0.6666666666666666,
              "#ed7953"
             ],
             [
              0.7777777777777778,
              "#fb9f3a"
             ],
             [
              0.8888888888888888,
              "#fdca26"
             ],
             [
              1,
              "#f0f921"
             ]
            ],
            "type": "heatmapgl"
           }
          ],
          "histogram": [
           {
            "marker": {
             "pattern": {
              "fillmode": "overlay",
              "size": 10,
              "solidity": 0.2
             }
            },
            "type": "histogram"
           }
          ],
          "histogram2d": [
           {
            "colorbar": {
             "outlinewidth": 0,
             "ticks": ""
            },
            "colorscale": [
             [
              0,
              "#0d0887"
             ],
             [
              0.1111111111111111,
              "#46039f"
             ],
             [
              0.2222222222222222,
              "#7201a8"
             ],
             [
              0.3333333333333333,
              "#9c179e"
             ],
             [
              0.4444444444444444,
              "#bd3786"
             ],
             [
              0.5555555555555556,
              "#d8576b"
             ],
             [
              0.6666666666666666,
              "#ed7953"
             ],
             [
              0.7777777777777778,
              "#fb9f3a"
             ],
             [
              0.8888888888888888,
              "#fdca26"
             ],
             [
              1,
              "#f0f921"
             ]
            ],
            "type": "histogram2d"
           }
          ],
          "histogram2dcontour": [
           {
            "colorbar": {
             "outlinewidth": 0,
             "ticks": ""
            },
            "colorscale": [
             [
              0,
              "#0d0887"
             ],
             [
              0.1111111111111111,
              "#46039f"
             ],
             [
              0.2222222222222222,
              "#7201a8"
             ],
             [
              0.3333333333333333,
              "#9c179e"
             ],
             [
              0.4444444444444444,
              "#bd3786"
             ],
             [
              0.5555555555555556,
              "#d8576b"
             ],
             [
              0.6666666666666666,
              "#ed7953"
             ],
             [
              0.7777777777777778,
              "#fb9f3a"
             ],
             [
              0.8888888888888888,
              "#fdca26"
             ],
             [
              1,
              "#f0f921"
             ]
            ],
            "type": "histogram2dcontour"
           }
          ],
          "mesh3d": [
           {
            "colorbar": {
             "outlinewidth": 0,
             "ticks": ""
            },
            "type": "mesh3d"
           }
          ],
          "parcoords": [
           {
            "line": {
             "colorbar": {
              "outlinewidth": 0,
              "ticks": ""
             }
            },
            "type": "parcoords"
           }
          ],
          "pie": [
           {
            "automargin": true,
            "type": "pie"
           }
          ],
          "scatter": [
           {
            "fillpattern": {
             "fillmode": "overlay",
             "size": 10,
             "solidity": 0.2
            },
            "type": "scatter"
           }
          ],
          "scatter3d": [
           {
            "line": {
             "colorbar": {
              "outlinewidth": 0,
              "ticks": ""
             }
            },
            "marker": {
             "colorbar": {
              "outlinewidth": 0,
              "ticks": ""
             }
            },
            "type": "scatter3d"
           }
          ],
          "scattercarpet": [
           {
            "marker": {
             "colorbar": {
              "outlinewidth": 0,
              "ticks": ""
             }
            },
            "type": "scattercarpet"
           }
          ],
          "scattergeo": [
           {
            "marker": {
             "colorbar": {
              "outlinewidth": 0,
              "ticks": ""
             }
            },
            "type": "scattergeo"
           }
          ],
          "scattergl": [
           {
            "marker": {
             "colorbar": {
              "outlinewidth": 0,
              "ticks": ""
             }
            },
            "type": "scattergl"
           }
          ],
          "scattermapbox": [
           {
            "marker": {
             "colorbar": {
              "outlinewidth": 0,
              "ticks": ""
             }
            },
            "type": "scattermapbox"
           }
          ],
          "scatterpolar": [
           {
            "marker": {
             "colorbar": {
              "outlinewidth": 0,
              "ticks": ""
             }
            },
            "type": "scatterpolar"
           }
          ],
          "scatterpolargl": [
           {
            "marker": {
             "colorbar": {
              "outlinewidth": 0,
              "ticks": ""
             }
            },
            "type": "scatterpolargl"
           }
          ],
          "scatterternary": [
           {
            "marker": {
             "colorbar": {
              "outlinewidth": 0,
              "ticks": ""
             }
            },
            "type": "scatterternary"
           }
          ],
          "surface": [
           {
            "colorbar": {
             "outlinewidth": 0,
             "ticks": ""
            },
            "colorscale": [
             [
              0,
              "#0d0887"
             ],
             [
              0.1111111111111111,
              "#46039f"
             ],
             [
              0.2222222222222222,
              "#7201a8"
             ],
             [
              0.3333333333333333,
              "#9c179e"
             ],
             [
              0.4444444444444444,
              "#bd3786"
             ],
             [
              0.5555555555555556,
              "#d8576b"
             ],
             [
              0.6666666666666666,
              "#ed7953"
             ],
             [
              0.7777777777777778,
              "#fb9f3a"
             ],
             [
              0.8888888888888888,
              "#fdca26"
             ],
             [
              1,
              "#f0f921"
             ]
            ],
            "type": "surface"
           }
          ],
          "table": [
           {
            "cells": {
             "fill": {
              "color": "#EBF0F8"
             },
             "line": {
              "color": "white"
             }
            },
            "header": {
             "fill": {
              "color": "#C8D4E3"
             },
             "line": {
              "color": "white"
             }
            },
            "type": "table"
           }
          ]
         },
         "layout": {
          "annotationdefaults": {
           "arrowcolor": "#2a3f5f",
           "arrowhead": 0,
           "arrowwidth": 1
          },
          "autotypenumbers": "strict",
          "coloraxis": {
           "colorbar": {
            "outlinewidth": 0,
            "ticks": ""
           }
          },
          "colorscale": {
           "diverging": [
            [
             0,
             "#8e0152"
            ],
            [
             0.1,
             "#c51b7d"
            ],
            [
             0.2,
             "#de77ae"
            ],
            [
             0.3,
             "#f1b6da"
            ],
            [
             0.4,
             "#fde0ef"
            ],
            [
             0.5,
             "#f7f7f7"
            ],
            [
             0.6,
             "#e6f5d0"
            ],
            [
             0.7,
             "#b8e186"
            ],
            [
             0.8,
             "#7fbc41"
            ],
            [
             0.9,
             "#4d9221"
            ],
            [
             1,
             "#276419"
            ]
           ],
           "sequential": [
            [
             0,
             "#0d0887"
            ],
            [
             0.1111111111111111,
             "#46039f"
            ],
            [
             0.2222222222222222,
             "#7201a8"
            ],
            [
             0.3333333333333333,
             "#9c179e"
            ],
            [
             0.4444444444444444,
             "#bd3786"
            ],
            [
             0.5555555555555556,
             "#d8576b"
            ],
            [
             0.6666666666666666,
             "#ed7953"
            ],
            [
             0.7777777777777778,
             "#fb9f3a"
            ],
            [
             0.8888888888888888,
             "#fdca26"
            ],
            [
             1,
             "#f0f921"
            ]
           ],
           "sequentialminus": [
            [
             0,
             "#0d0887"
            ],
            [
             0.1111111111111111,
             "#46039f"
            ],
            [
             0.2222222222222222,
             "#7201a8"
            ],
            [
             0.3333333333333333,
             "#9c179e"
            ],
            [
             0.4444444444444444,
             "#bd3786"
            ],
            [
             0.5555555555555556,
             "#d8576b"
            ],
            [
             0.6666666666666666,
             "#ed7953"
            ],
            [
             0.7777777777777778,
             "#fb9f3a"
            ],
            [
             0.8888888888888888,
             "#fdca26"
            ],
            [
             1,
             "#f0f921"
            ]
           ]
          },
          "colorway": [
           "#636efa",
           "#EF553B",
           "#00cc96",
           "#ab63fa",
           "#FFA15A",
           "#19d3f3",
           "#FF6692",
           "#B6E880",
           "#FF97FF",
           "#FECB52"
          ],
          "font": {
           "color": "#2a3f5f"
          },
          "geo": {
           "bgcolor": "white",
           "lakecolor": "white",
           "landcolor": "#E5ECF6",
           "showlakes": true,
           "showland": true,
           "subunitcolor": "white"
          },
          "hoverlabel": {
           "align": "left"
          },
          "hovermode": "closest",
          "mapbox": {
           "style": "light"
          },
          "paper_bgcolor": "white",
          "plot_bgcolor": "#E5ECF6",
          "polar": {
           "angularaxis": {
            "gridcolor": "white",
            "linecolor": "white",
            "ticks": ""
           },
           "bgcolor": "#E5ECF6",
           "radialaxis": {
            "gridcolor": "white",
            "linecolor": "white",
            "ticks": ""
           }
          },
          "scene": {
           "xaxis": {
            "backgroundcolor": "#E5ECF6",
            "gridcolor": "white",
            "gridwidth": 2,
            "linecolor": "white",
            "showbackground": true,
            "ticks": "",
            "zerolinecolor": "white"
           },
           "yaxis": {
            "backgroundcolor": "#E5ECF6",
            "gridcolor": "white",
            "gridwidth": 2,
            "linecolor": "white",
            "showbackground": true,
            "ticks": "",
            "zerolinecolor": "white"
           },
           "zaxis": {
            "backgroundcolor": "#E5ECF6",
            "gridcolor": "white",
            "gridwidth": 2,
            "linecolor": "white",
            "showbackground": true,
            "ticks": "",
            "zerolinecolor": "white"
           }
          },
          "shapedefaults": {
           "line": {
            "color": "#2a3f5f"
           }
          },
          "ternary": {
           "aaxis": {
            "gridcolor": "white",
            "linecolor": "white",
            "ticks": ""
           },
           "baxis": {
            "gridcolor": "white",
            "linecolor": "white",
            "ticks": ""
           },
           "bgcolor": "#E5ECF6",
           "caxis": {
            "gridcolor": "white",
            "linecolor": "white",
            "ticks": ""
           }
          },
          "title": {
           "x": 0.05
          },
          "xaxis": {
           "automargin": true,
           "gridcolor": "white",
           "linecolor": "white",
           "ticks": "",
           "title": {
            "standoff": 15
           },
           "zerolinecolor": "white",
           "zerolinewidth": 2
          },
          "yaxis": {
           "automargin": true,
           "gridcolor": "white",
           "linecolor": "white",
           "ticks": "",
           "title": {
            "standoff": 15
           },
           "zerolinecolor": "white",
           "zerolinewidth": 2
          }
         }
        },
        "title": {
         "text": "Average % Shared Cargo by Port Size"
        },
        "xaxis": {
         "anchor": "y",
         "domain": [
          0,
          1
         ],
         "title": {
          "text": "Port Size Rank (ascending)"
         }
        },
        "yaxis": {
         "anchor": "x",
         "domain": [
          0,
          1
         ],
         "title": {
          "text": "prop_shared"
         }
        }
       }
      }
     },
     "metadata": {},
     "output_type": "display_data"
    }
   ],
   "source": [
    "px.scatter(port_share_df, x=port_share_df.index, y=port_share_df.prop_shared,\n",
    "           color=port_share_df.departure_port_code,\n",
    "           labels={'index':'Port Size Rank (ascending)'},\n",
    "           title='Average % Shared Cargo by Port Size'\n",
    "           )"
   ]
  },
  {
   "cell_type": "code",
   "execution_count": 72,
   "metadata": {},
   "outputs": [
    {
     "data": {
      "text/plain": [
       "PearsonRResult(statistic=0.5545477796136669, pvalue=7.72422227465227e-05)"
      ]
     },
     "execution_count": 72,
     "metadata": {},
     "output_type": "execute_result"
    }
   ],
   "source": [
    "scipy.stats.pearsonr(port_share_df.sum_teus, port_share_df.prop_shared)"
   ]
  },
  {
   "cell_type": "markdown",
   "metadata": {},
   "source": [
    "### Alliance Membership\n",
    "\n",
    "Data on which carriers are part of which alliances was collected, where available, from alliance agreements filed with the Federal Maritime Commission. Where primary sources were not available, alliance membership was determined from industry reports and various media sources. "
   ]
  },
  {
   "cell_type": "code",
   "execution_count": 73,
   "metadata": {},
   "outputs": [],
   "source": [
    "#load alliance membership data from csv\n",
    "alliances_df = pl.read_csv('data/misc/alliance_memberships.csv', dtypes={'scac':pl.Categorical, 'year':pl.Int32}).drop('carrier')\n",
    "#alliances_df.head()"
   ]
  },
  {
   "cell_type": "markdown",
   "metadata": {},
   "source": [
    "Since we are initially concerned with analysis based on whether or not a carrier was a member of an alliance, we unify the above into a single boolean column."
   ]
  },
  {
   "cell_type": "code",
   "execution_count": 74,
   "metadata": {},
   "outputs": [],
   "source": [
    "alliances_df = (\n",
    "    alliances_df.with_columns(\n",
    "        #set new 'alliance_member' column to 1 if the carrier is a member of any alliance\n",
    "        pl.when((pl.col('2m') + pl.col('ocean') + pl.col('the'))>0)\n",
    "        .then(pl.lit(1))\n",
    "        .otherwise(pl.lit(0))\n",
    "        .alias('alliance_member')\n",
    "    )\n",
    "    #drop individual alliance columns\n",
    "    .drop('2m', 'ocean', 'the')\n",
    ")"
   ]
  },
  {
   "cell_type": "markdown",
   "metadata": {},
   "source": [
    "### Visualizing volumes associated with alliances"
   ]
  },
  {
   "cell_type": "code",
   "execution_count": 75,
   "metadata": {},
   "outputs": [],
   "source": [
    "port_alliance_df = (\n",
    "    exports_lf.rename({'unified_carrier_scac':'scac'})\n",
    "    .join(alliances_df.lazy(), on=['scac', 'year'], how='left')\n",
    "    .group_by('departure_port_code', 'month')\n",
    "    .agg(\n",
    "        pl.col('teus').sum().alias('total_teus'),\n",
    "        (pl.col('teus')*pl.col('alliance_member')).sum().alias('alliance_teus')\n",
    "    )\n",
    "    .with_columns(\n",
    "        (pl.col('alliance_teus')/pl.col('total_teus')).alias('prop_alliance_teus')\n",
    "    )\n",
    "    .sort(by='month')\n",
    "    .cast({'departure_port_code':pl.Utf8})\n",
    "    .collect()\n",
    ")"
   ]
  },
  {
   "cell_type": "code",
   "execution_count": 76,
   "metadata": {},
   "outputs": [
    {
     "data": {
      "application/vnd.plotly.v1+json": {
       "config": {
        "plotlyServerURL": "https://plot.ly"
       },
       "data": [
        {
         "hovertemplate": "departure_port_code=2501<br>month=%{x}<br>prop_alliance_teus=%{y}<extra></extra>",
         "legendgroup": "2501",
         "line": {
          "color": "#636efa",
          "dash": "solid"
         },
         "marker": {
          "symbol": "circle"
         },
         "mode": "lines",
         "name": "2501",
         "showlegend": true,
         "type": "scattergl",
         "x": [
          "200501",
          "200502",
          "200503",
          "200504",
          "200505",
          "200506",
          "200507",
          "200508",
          "200509",
          "200510",
          "200511",
          "200512",
          "200601",
          "200602",
          "200603",
          "200604",
          "200605",
          "200606",
          "200607",
          "200608",
          "200609",
          "200610",
          "200611",
          "200612",
          "200701",
          "200702",
          "200703",
          "200704",
          "200705",
          "200706",
          "200707",
          "200708",
          "200709",
          "200710",
          "200711",
          "200712",
          "200801",
          "200802",
          "200803",
          "200804",
          "200805",
          "200806",
          "200807",
          "200808",
          "200809",
          "200810",
          "200811",
          "200812",
          "200901",
          "200902",
          "200903",
          "200904",
          "200905",
          "200906",
          "200907",
          "200908",
          "200909",
          "200910",
          "200911",
          "200912",
          "201001",
          "201002",
          "201003",
          "201004",
          "201005",
          "201006",
          "201007",
          "201008",
          "201009",
          "201010",
          "201011",
          "201012",
          "201101",
          "201102",
          "201103",
          "201104",
          "201105",
          "201106",
          "201107",
          "201108",
          "201109",
          "201110",
          "201111",
          "201112",
          "201201",
          "201202",
          "201203",
          "201204",
          "201205",
          "201206",
          "201207",
          "201208",
          "201209",
          "201210",
          "201211",
          "201212",
          "201301",
          "201302",
          "201303",
          "201304",
          "201305",
          "201306",
          "201307",
          "201308",
          "201309",
          "201310",
          "201311",
          "201312",
          "201401",
          "201402",
          "201403",
          "201404",
          "201405",
          "201406",
          "201407",
          "201408",
          "201409",
          "201410",
          "201411",
          "201412",
          "201501",
          "201502",
          "201503",
          "201504",
          "201505",
          "201506",
          "201507",
          "201508",
          "201509",
          "201510",
          "201511",
          "201512",
          "201601",
          "201602",
          "201603",
          "201604",
          "201605",
          "201606",
          "201607",
          "201608",
          "201609",
          "201610",
          "201611",
          "201612",
          "201701",
          "201702",
          "201703",
          "201704",
          "201705",
          "201706",
          "201707",
          "201708",
          "201709",
          "201710",
          "201711",
          "201712",
          "201801",
          "201802",
          "201803",
          "201804",
          "201805",
          "201806",
          "201807",
          "201808",
          "201809",
          "201810",
          "201811",
          "201812",
          "201901",
          "201902",
          "201903",
          "201904",
          "201905",
          "201906",
          "201907",
          "201908",
          "201909",
          "201910",
          "201911",
          "201912",
          "202001",
          "202002",
          "202003",
          "202004",
          "202005",
          "202006",
          "202007",
          "202008",
          "202009",
          "202010",
          "202011",
          "202012",
          "202101",
          "202102",
          "202103",
          "202104",
          "202105",
          "202106",
          "202107",
          "202108",
          "202109",
          "202110",
          "202111",
          "202112",
          "202201",
          "202202",
          "202203",
          "202204",
          "202205",
          "202206",
          "202207",
          "202208",
          "202209",
          "202210",
          "202211",
          "202212",
          "202301",
          "202302",
          "202303",
          "202304",
          "202305",
          "202306",
          "202307"
         ],
         "xaxis": "x",
         "y": [
          0,
          0,
          0,
          0,
          0,
          0,
          0,
          0,
          0,
          0,
          0,
          0,
          0,
          0,
          0,
          0,
          0,
          0,
          0,
          0,
          0,
          0,
          0,
          0,
          0,
          0,
          0,
          0,
          0,
          0,
          0,
          0,
          0,
          0,
          0,
          0,
          0,
          0,
          0,
          0,
          0,
          0,
          0,
          0,
          0,
          0,
          0,
          0,
          0,
          0,
          0,
          0,
          0,
          0,
          0,
          0,
          0,
          0,
          0,
          0,
          0,
          0,
          0,
          0,
          0,
          0,
          0,
          0,
          0,
          0,
          0,
          0,
          0,
          0,
          0,
          0,
          0,
          0,
          0,
          0,
          0,
          0,
          0,
          0,
          0,
          0,
          0,
          0,
          0,
          0,
          0,
          0,
          0,
          0,
          0,
          0,
          0,
          0,
          0,
          0,
          0,
          0,
          0,
          0,
          0,
          0,
          0,
          0,
          0,
          0,
          0,
          0,
          0,
          0,
          0,
          0,
          0,
          0,
          0,
          0,
          0,
          0,
          0,
          0,
          0,
          0,
          0,
          0,
          0,
          0,
          0,
          0,
          0,
          0,
          0,
          0,
          0,
          0,
          0,
          0,
          0,
          0,
          0,
          0,
          0,
          0,
          0,
          0,
          0,
          0,
          0,
          0,
          0,
          0,
          0,
          0,
          0,
          0,
          0,
          0,
          0,
          0,
          0,
          0,
          0,
          0,
          0,
          0,
          0,
          0,
          0,
          0,
          0,
          0,
          0,
          0,
          0,
          0,
          0,
          0,
          0,
          0,
          0,
          0,
          0,
          0,
          0,
          0,
          0,
          0,
          0,
          0,
          0,
          0,
          0,
          0,
          0,
          0,
          0,
          0,
          0,
          0,
          0,
          0,
          0,
          0,
          0,
          0,
          0,
          0,
          0,
          0,
          0,
          0,
          0,
          0,
          0,
          0,
          0,
          0,
          0,
          0,
          0
         ],
         "yaxis": "y"
        },
        {
         "hovertemplate": "departure_port_code=3002<br>month=%{x}<br>prop_alliance_teus=%{y}<extra></extra>",
         "legendgroup": "3002",
         "line": {
          "color": "#EF553B",
          "dash": "solid"
         },
         "marker": {
          "symbol": "circle"
         },
         "mode": "lines",
         "name": "3002",
         "showlegend": true,
         "type": "scattergl",
         "x": [
          "200501",
          "200502",
          "200503",
          "200504",
          "200505",
          "200506",
          "200507",
          "200508",
          "200509",
          "200510",
          "200511",
          "200512",
          "200601",
          "200602",
          "200603",
          "200604",
          "200605",
          "200606",
          "200607",
          "200608",
          "200609",
          "200610",
          "200611",
          "200612",
          "200701",
          "200702",
          "200703",
          "200704",
          "200705",
          "200706",
          "200707",
          "200708",
          "200709",
          "200710",
          "200711",
          "200712",
          "200801",
          "200802",
          "200803",
          "200804",
          "200805",
          "200806",
          "200807",
          "200808",
          "200809",
          "200810",
          "200811",
          "200812",
          "200901",
          "200902",
          "200903",
          "200904",
          "200905",
          "200906",
          "200907",
          "200908",
          "200909",
          "200910",
          "200911",
          "200912",
          "201001",
          "201002",
          "201003",
          "201004",
          "201005",
          "201006",
          "201007",
          "201008",
          "201009",
          "201010",
          "201011",
          "201012",
          "201101",
          "201102",
          "201103",
          "201104",
          "201105",
          "201106",
          "201107",
          "201108",
          "201109",
          "201110",
          "201111",
          "201112",
          "201201",
          "201202",
          "201203",
          "201204",
          "201205",
          "201206",
          "201207",
          "201208",
          "201209",
          "201210",
          "201211",
          "201212",
          "201301",
          "201302",
          "201303",
          "201304",
          "201305",
          "201306",
          "201307",
          "201308",
          "201309",
          "201310",
          "201311",
          "201312",
          "201401",
          "201402",
          "201403",
          "201404",
          "201405",
          "201406",
          "201407",
          "201408",
          "201409",
          "201410",
          "201411",
          "201412",
          "201501",
          "201502",
          "201503",
          "201504",
          "201505",
          "201506",
          "201507",
          "201508",
          "201509",
          "201510",
          "201511",
          "201512",
          "201601",
          "201602",
          "201603",
          "201604",
          "201605",
          "201606",
          "201607",
          "201608",
          "201609",
          "201610",
          "201611",
          "201612",
          "201701",
          "201702",
          "201703",
          "201704",
          "201705",
          "201706",
          "201707",
          "201708",
          "201709",
          "201710",
          "201711",
          "201712",
          "201801",
          "201802",
          "201803",
          "201804",
          "201805",
          "201806",
          "201807",
          "201808",
          "201809",
          "201810",
          "201811",
          "201812",
          "201901",
          "201902",
          "201903",
          "201904",
          "201905",
          "201906",
          "201907",
          "201908",
          "201909",
          "201910",
          "201911",
          "201912",
          "202001",
          "202002",
          "202003",
          "202004",
          "202005",
          "202006",
          "202007",
          "202008",
          "202009",
          "202010",
          "202011",
          "202012",
          "202101",
          "202102",
          "202103",
          "202104",
          "202105",
          "202106",
          "202107",
          "202108",
          "202109",
          "202110",
          "202111",
          "202112",
          "202201",
          "202202",
          "202203",
          "202204",
          "202205",
          "202206",
          "202207",
          "202208",
          "202209",
          "202210",
          "202211",
          "202212",
          "202301",
          "202302",
          "202303",
          "202304",
          "202305",
          "202306",
          "202307",
          "202308",
          "202309",
          "202310",
          "202311"
         ],
         "xaxis": "x",
         "y": [
          0,
          0,
          0,
          0,
          0,
          0,
          0,
          0,
          0,
          0,
          0,
          0,
          0,
          0,
          0,
          0,
          0,
          0,
          0,
          0,
          0,
          0,
          0,
          0,
          0,
          0,
          0,
          0,
          0,
          0,
          0,
          0,
          0,
          0,
          0,
          0,
          0,
          0,
          0,
          0,
          0,
          0,
          0,
          0,
          0,
          0,
          0,
          0,
          0,
          0,
          0,
          0,
          0,
          0,
          0,
          0,
          0,
          0,
          0,
          0,
          0,
          0,
          0,
          0,
          0,
          0,
          0,
          0,
          0,
          0,
          0,
          0,
          0,
          0,
          0,
          0,
          0,
          0,
          0,
          0,
          0,
          0,
          0,
          0,
          0,
          0,
          0,
          0,
          0,
          0,
          0,
          0,
          0,
          0,
          0,
          0,
          0,
          0,
          0,
          0,
          0,
          0,
          0,
          0,
          0,
          0,
          0,
          0,
          0,
          0,
          0,
          0,
          0,
          0,
          0,
          0,
          0,
          0,
          0,
          0,
          0,
          0,
          0,
          0,
          0,
          0,
          0,
          0,
          0,
          0,
          0,
          0,
          0,
          0,
          0,
          0,
          0,
          0,
          0,
          0,
          0,
          0,
          0,
          0,
          0.542893354472482,
          0.5132987470166067,
          0.5622537670656125,
          0.5160907162625554,
          0.45902464796468945,
          0.45218599641580715,
          0.44240059088062883,
          0.4160559959071923,
          0.40745679182527844,
          0.44054681246096594,
          0.4500125183158146,
          0.378346348245376,
          0.4526515359975248,
          0.40524420088749624,
          0.4828829795318568,
          0.46841878536284787,
          0.4114915180810162,
          0.5044637352440562,
          0.42444300262689544,
          0.40995504032585617,
          0.36603699849474475,
          0.3606284051352368,
          0.41170057526199666,
          0.4436756806216472,
          0.48825772767742237,
          0.34880480169567857,
          0.45156794730990024,
          0.49054759198787395,
          0.403072218904269,
          0.5112269916258193,
          0.4680222600677954,
          0.4462273789795941,
          0.42026153231101115,
          0.43784792142723716,
          0.48714113906735984,
          0.4489652033239604,
          0.4259400190545408,
          0.4491535705475736,
          0.4408517229979602,
          0.5179125642548277,
          0.5256776991007026,
          0.5414970917516777,
          0.5197824842928621,
          0.4850832478091613,
          0.568021740997498,
          0.5657661455842918,
          0.5064882069844974,
          0.443625850919105,
          0.3610447741431256,
          0.3363130745102662,
          0.510811794852297,
          0.4839730811783302,
          0.41900369305429536,
          0.4726063314765791,
          0.4762569558666285,
          0.4466242164101519,
          0.4997194492147795,
          0.5110887198630686,
          0.4924457296543514,
          0.4926845304278422,
          0.48012742289725385,
          0.5132930417377974,
          0.5041885832074112,
          0.5054207198229461,
          0.49394515176609594,
          0.5477735855352425,
          0.49103399242919243,
          0.45866152070746985,
          0.4728349330677453,
          0.3857931512479763,
          0.42032638928422383,
          0.4369865739561615,
          0.4124576364893071,
          0.4698192977680753,
          0.5012988561426216,
          0.4755040503970825,
          0.46825997265465696,
          0.4157214172777028,
          0.4374750747850717,
          0.49659165652347725,
          0.516712451061117,
          0.5364579079855268,
          0.4547213506930778
         ],
         "yaxis": "y"
        },
        {
         "hovertemplate": "departure_port_code=3001<br>month=%{x}<br>prop_alliance_teus=%{y}<extra></extra>",
         "legendgroup": "3001",
         "line": {
          "color": "#00cc96",
          "dash": "solid"
         },
         "marker": {
          "symbol": "circle"
         },
         "mode": "lines",
         "name": "3001",
         "showlegend": true,
         "type": "scattergl",
         "x": [
          "200501",
          "200502",
          "200503",
          "200504",
          "200505",
          "200506",
          "200507",
          "200508",
          "200509",
          "200510",
          "200511",
          "200512",
          "200601",
          "200602",
          "200603",
          "200604",
          "200605",
          "200606",
          "200607",
          "200608",
          "200609",
          "200610",
          "200611",
          "200612",
          "200701",
          "200702",
          "200703",
          "200704",
          "200705",
          "200706",
          "200707",
          "200708",
          "200709",
          "200710",
          "200711",
          "200712",
          "200801",
          "200802",
          "200803",
          "200804",
          "200805",
          "200806",
          "200807",
          "200808",
          "200809",
          "200810",
          "200811",
          "200812",
          "200901",
          "200902",
          "200903",
          "200904",
          "200905",
          "200906",
          "200907",
          "200908",
          "200909",
          "200910",
          "200911",
          "200912",
          "201001",
          "201002",
          "201003",
          "201004",
          "201005",
          "201006",
          "201007",
          "201008",
          "201009",
          "201010",
          "201011",
          "201012",
          "201101",
          "201102",
          "201103",
          "201104",
          "201105",
          "201106",
          "201107",
          "201108",
          "201109",
          "201110",
          "201111",
          "201112",
          "201201",
          "201202",
          "201203",
          "201204",
          "201205",
          "201206",
          "201207",
          "201208",
          "201209",
          "201210",
          "201211",
          "201212",
          "201301",
          "201302",
          "201303",
          "201304",
          "201305",
          "201306",
          "201307",
          "201308",
          "201309",
          "201310",
          "201311",
          "201312",
          "201401",
          "201402",
          "201403",
          "201404",
          "201405",
          "201406",
          "201407",
          "201408",
          "201409",
          "201410",
          "201411",
          "201412",
          "201501",
          "201502",
          "201503",
          "201504",
          "201505",
          "201506",
          "201507",
          "201508",
          "201509",
          "201510",
          "201511",
          "201512",
          "201601",
          "201602",
          "201603",
          "201604",
          "201605",
          "201606",
          "201607",
          "201608",
          "201609",
          "201610",
          "201611",
          "201612",
          "201701",
          "201702",
          "201703",
          "201704",
          "201705",
          "201706",
          "201707",
          "201708",
          "201709",
          "201710",
          "201711",
          "201712",
          "201801",
          "201802",
          "201803",
          "201804",
          "201805",
          "201806",
          "201807",
          "201808",
          "201809",
          "201810",
          "201811",
          "201812",
          "201901",
          "201902",
          "201903",
          "201904",
          "201905",
          "201906",
          "201907",
          "201908",
          "201909",
          "201910",
          "201911",
          "201912",
          "202001",
          "202002",
          "202003",
          "202004",
          "202005",
          "202006",
          "202007",
          "202008",
          "202009",
          "202010",
          "202011",
          "202012",
          "202101",
          "202102",
          "202103",
          "202104",
          "202105",
          "202106",
          "202107",
          "202108",
          "202109",
          "202110",
          "202111",
          "202112",
          "202201",
          "202202",
          "202203",
          "202204",
          "202205",
          "202206",
          "202207",
          "202208",
          "202209",
          "202210",
          "202211",
          "202212",
          "202301",
          "202302",
          "202303",
          "202304",
          "202305",
          "202306",
          "202307",
          "202308",
          "202309",
          "202310",
          "202311"
         ],
         "xaxis": "x",
         "y": [
          0,
          0,
          0,
          0,
          0,
          0,
          0,
          0,
          0,
          0,
          0,
          0,
          0,
          0,
          0,
          0,
          0,
          0,
          0,
          0,
          0,
          0,
          0,
          0,
          0,
          0,
          0,
          0,
          0,
          0,
          0,
          0,
          0,
          0,
          0,
          0,
          0,
          0,
          0,
          0,
          0,
          0,
          0,
          0,
          0,
          0,
          0,
          0,
          0,
          0,
          0,
          0,
          0,
          0,
          0,
          0,
          0,
          0,
          0,
          0,
          0,
          0,
          0,
          0,
          0,
          0,
          0,
          0,
          0,
          0,
          0,
          0,
          0,
          0,
          0,
          0,
          0,
          0,
          0,
          0,
          0,
          0,
          0,
          0,
          0,
          0,
          0,
          0,
          0,
          0,
          0,
          0,
          0,
          0,
          0,
          0,
          0,
          0,
          0,
          0,
          0,
          0,
          0,
          0,
          0,
          0,
          0,
          0,
          0,
          0,
          0,
          0,
          0,
          0,
          0,
          0,
          0,
          0,
          0,
          0,
          0.18500333073686595,
          0.1761390760143364,
          0.2562205006303768,
          0.23360200694715105,
          0.2038904600621738,
          0.22193099012033732,
          0.2719811462420659,
          0.23645609007151125,
          0.2696577872226224,
          0.30074406409390236,
          0.22641881325240823,
          0.2375488314319352,
          0.2816672979762279,
          0.273802917700688,
          0.27969058001050134,
          0.3156882455223249,
          0.26593245776516267,
          0.27920718561448815,
          0.14741848995451465,
          0.1919768767417695,
          0.339805147384636,
          0.31291387619966105,
          0.2933618038890226,
          0.39772142899603297,
          0.4464266610525845,
          0.3477193564784315,
          0.4605260905453624,
          0.4279574788561877,
          0.4460587759355698,
          0.43204783358478094,
          0.5058655014771193,
          0.46301750613961057,
          0.4766975850447687,
          0.49660052514755637,
          0.426854277171488,
          0.5013236000816518,
          0.4300218682510778,
          0.4680286579769895,
          0.49209213929991963,
          0.4155905105368883,
          0.42663147168873033,
          0.5166742719888201,
          0.4206689099567108,
          0.44431790078609157,
          0.46440095748988985,
          0.4331878046767035,
          0.5017553185188851,
          0.4366788874009052,
          0.49882634775005247,
          0.43847985416726526,
          0.4879812014779602,
          0.5218530534732209,
          0.4683938857780039,
          0.5019324792483392,
          0.4638546083646215,
          0.4759983390786694,
          0.4752411894581219,
          0.5242700433591402,
          0.4902399576168034,
          0.45440482922103903,
          0.5098409053310389,
          0.4384883589395838,
          0.43905389325372396,
          0.48684837497760614,
          0.4744919766925888,
          0.46304554509532103,
          0.4806890832614944,
          0.5179368769029283,
          0.4543669126367551,
          0.4781716737692554,
          0.4160041301958735,
          0.4765374006628678,
          0.41633026895576863,
          0.4548450724755705,
          0.3830063757186928,
          0.42462759140697626,
          0.43087085679433584,
          0.402670259125753,
          0.4540030541085888,
          0.3599611413032759,
          0.4456113502728681,
          0.4084440935937598,
          0.4315914352963327,
          0.45900318880161495,
          0.39620846759063744,
          0.3986706446298939,
          0.5255261630285835,
          0.5255676081652259,
          0.452749320910248,
          0.45725422630903095,
          0.39216957984610135,
          0.2774758267261612,
          0.44901758029330163,
          0.46257134089567326,
          0.44046990149848814,
          0.468983383194637,
          0.5050733039673139,
          0.48006562826828697,
          0.5477648148788226,
          0.4569491954481195,
          0.4546410663344186,
          0.45230076226719457,
          0.5136750029458079,
          0.45645544134325056,
          0.48321227296474256,
          0.6248056946770687,
          0.47637657165450986
         ],
         "yaxis": "y"
        },
        {
         "hovertemplate": "departure_port_code=2709<br>month=%{x}<br>prop_alliance_teus=%{y}<extra></extra>",
         "legendgroup": "2709",
         "line": {
          "color": "#ab63fa",
          "dash": "solid"
         },
         "marker": {
          "symbol": "circle"
         },
         "mode": "lines",
         "name": "2709",
         "showlegend": true,
         "type": "scattergl",
         "x": [
          "200501",
          "200502",
          "200503",
          "200504",
          "200505",
          "200506",
          "200507",
          "200508",
          "200509",
          "200510",
          "200511",
          "200512",
          "200601",
          "200602",
          "200603",
          "200604",
          "200605",
          "200606",
          "200607",
          "200608",
          "200609",
          "200610",
          "200611",
          "200612",
          "200701",
          "200702",
          "200703",
          "200704",
          "200705",
          "200706",
          "200707",
          "200708",
          "200709",
          "200710",
          "200711",
          "200712",
          "200801",
          "200802",
          "200803",
          "200804",
          "200805",
          "200806",
          "200807",
          "200808",
          "200809",
          "200810",
          "200811",
          "200812",
          "200901",
          "200902",
          "200903",
          "200904",
          "200905",
          "200906",
          "200907",
          "200908",
          "200909",
          "200910",
          "200911",
          "200912",
          "201001",
          "201002",
          "201003",
          "201004",
          "201005",
          "201006",
          "201007",
          "201008",
          "201009",
          "201010",
          "201011",
          "201012",
          "201101",
          "201102",
          "201103",
          "201104",
          "201105",
          "201106",
          "201107",
          "201108",
          "201109",
          "201110",
          "201111",
          "201112",
          "201201",
          "201202",
          "201203",
          "201204",
          "201205",
          "201206",
          "201207",
          "201208",
          "201209",
          "201210",
          "201211",
          "201212",
          "201301",
          "201302",
          "201303",
          "201304",
          "201305",
          "201306",
          "201307",
          "201308",
          "201309",
          "201310",
          "201311",
          "201312",
          "201401",
          "201402",
          "201403",
          "201404",
          "201405",
          "201406",
          "201407",
          "201408",
          "201409",
          "201410",
          "201411",
          "201412",
          "201501",
          "201502",
          "201503",
          "201504",
          "201505",
          "201506",
          "201507",
          "201508",
          "201509",
          "201510",
          "201511",
          "201512",
          "201601",
          "201602",
          "201603",
          "201604",
          "201605",
          "201606",
          "201607",
          "201608",
          "201609",
          "201610",
          "201611",
          "201612",
          "201701",
          "201702",
          "201703",
          "201704",
          "201705",
          "201706",
          "201707",
          "201708",
          "201709",
          "201710",
          "201711",
          "201712",
          "201801",
          "201802",
          "201803",
          "201804",
          "201805",
          "201806",
          "201807",
          "201808",
          "201809",
          "201810",
          "201811",
          "201812",
          "201901",
          "201902",
          "201903",
          "201904",
          "201905",
          "201906",
          "201907",
          "201908",
          "201909",
          "201910",
          "201911",
          "201912",
          "202001",
          "202002",
          "202003",
          "202004",
          "202005",
          "202006",
          "202007",
          "202008",
          "202009",
          "202010",
          "202011",
          "202012",
          "202101",
          "202102",
          "202103",
          "202104",
          "202105",
          "202106",
          "202107",
          "202108",
          "202109",
          "202110",
          "202111",
          "202112",
          "202201",
          "202202",
          "202203",
          "202204",
          "202205",
          "202206",
          "202207",
          "202208",
          "202209",
          "202210",
          "202211",
          "202212",
          "202301",
          "202302",
          "202303",
          "202304",
          "202305",
          "202306",
          "202307",
          "202308",
          "202309",
          "202310",
          "202311"
         ],
         "xaxis": "x",
         "y": [
          0,
          0,
          0,
          0,
          0,
          0,
          0,
          0,
          0,
          0,
          0,
          0,
          0,
          0,
          0,
          0,
          0,
          0,
          0,
          0,
          0,
          0,
          0,
          0,
          0,
          0,
          0,
          0,
          0,
          0,
          0,
          0,
          0,
          0,
          0,
          0,
          0,
          0,
          0,
          0,
          0,
          0,
          0,
          0,
          0,
          0,
          0,
          0,
          0,
          0,
          0,
          0,
          0,
          0,
          0,
          0,
          0,
          0,
          0,
          0,
          0,
          0,
          0,
          0,
          0,
          0,
          0,
          0,
          0,
          0,
          0,
          0,
          0,
          0,
          0,
          0,
          0,
          0,
          0,
          0,
          0,
          0,
          0,
          0,
          0,
          0,
          0,
          0,
          0,
          0,
          0,
          0,
          0,
          0,
          0,
          0,
          0,
          0,
          0,
          0,
          0,
          0,
          0,
          0,
          0,
          0,
          0,
          0,
          0,
          0,
          0,
          0,
          0,
          0,
          0,
          0,
          0,
          0,
          0,
          0,
          0.20733752499112293,
          0.1411710235823414,
          0.12846838695419843,
          0.22208644609422806,
          0.16555025799478174,
          0.2225761453285244,
          0.1891166695400906,
          0.23656151530614172,
          0.22891352863790987,
          0.24695202125521076,
          0.23112453084253815,
          0.2917239365737554,
          0.22195583116623074,
          0.27747102333431056,
          0.2451267825708239,
          0.3066483426750808,
          0.24849014860780835,
          0.30760146516348585,
          0.2928092501161835,
          0.2643245721021835,
          0.2659986416861675,
          0.3232788361738574,
          0.3031692512577591,
          0.2512717622481322,
          0.42913499909308295,
          0.401481026532842,
          0.46379358665530024,
          0.4609536687544949,
          0.508681443396331,
          0.46686604470995535,
          0.4332975061082664,
          0.3940723104853812,
          0.4832858505685963,
          0.4487860560168344,
          0.4866109185884405,
          0.4951117368740111,
          0.534048303678627,
          0.4381096482902594,
          0.5349843698222494,
          0.5001065092687719,
          0.5169338624561355,
          0.520547720213099,
          0.5328513013016356,
          0.49726960001529885,
          0.5066649162090734,
          0.49880470279488714,
          0.5147189644569528,
          0.45198873360551406,
          0.4764133917380378,
          0.4473964062109035,
          0.4792401862268908,
          0.5323725957254135,
          0.47864180950244156,
          0.4797783479176097,
          0.5147841911306854,
          0.4795740409173616,
          0.5095762822844757,
          0.5224172752819607,
          0.5645707160723951,
          0.4697003026326155,
          0.573475848348559,
          0.5355195920688011,
          0.5083555400218974,
          0.566752186648083,
          0.4558058424083226,
          0.5040192434262779,
          0.49828027819804754,
          0.4883339034325973,
          0.5315777880582039,
          0.584080658776347,
          0.515871755323519,
          0.5884794158987531,
          0.6312417436146301,
          0.581106094480898,
          0.5591329840778902,
          0.5084516497733009,
          0.5183067460692367,
          0.5100783064389697,
          0.48873338953411605,
          0.48687794496086484,
          0.487288831196166,
          0.43933499894463884,
          0.4969817467732092,
          0.49603589411034466,
          0.4941597462889182,
          0.4881659492720722,
          0.5025296380131365,
          0.42419096453197835,
          0.48300121827444026,
          0.4592630579469908,
          0.45064968513344483,
          0.46460441081810433,
          0.38468589783582136,
          0.43977519399815646,
          0.4310811820438749,
          0.38969980201111154,
          0.444734585572868,
          0.5021341642691525,
          0.49382685763067624,
          0.5310931595183607,
          0.4438019707952299,
          0.42715776916531467,
          0.44950955762242073,
          0.4458463474841181,
          0.4787215679797287,
          0.4882219317148473,
          0.5880312495031862
         ],
         "yaxis": "y"
        },
        {
         "hovertemplate": "departure_port_code=2811<br>month=%{x}<br>prop_alliance_teus=%{y}<extra></extra>",
         "legendgroup": "2811",
         "line": {
          "color": "#FFA15A",
          "dash": "solid"
         },
         "marker": {
          "symbol": "circle"
         },
         "mode": "lines",
         "name": "2811",
         "showlegend": true,
         "type": "scattergl",
         "x": [
          "200501",
          "200502",
          "200503",
          "200504",
          "200505",
          "200506",
          "200507",
          "200508",
          "200509",
          "200510",
          "200511",
          "200512",
          "200601",
          "200602",
          "200603",
          "200604",
          "200605",
          "200606",
          "200607",
          "200608",
          "200609",
          "200610",
          "200611",
          "200612",
          "200701",
          "200702",
          "200703",
          "200704",
          "200705",
          "200706",
          "200707",
          "200708",
          "200709",
          "200710",
          "200711",
          "200712",
          "200801",
          "200802",
          "200803",
          "200804",
          "200805",
          "200806",
          "200807",
          "200808",
          "200809",
          "200810",
          "200811",
          "200812",
          "200901",
          "200902",
          "200903",
          "200904",
          "200905",
          "200906",
          "200907",
          "200908",
          "200909",
          "200910",
          "200911",
          "200912",
          "201001",
          "201002",
          "201003",
          "201004",
          "201005",
          "201006",
          "201007",
          "201008",
          "201009",
          "201010",
          "201011",
          "201012",
          "201101",
          "201102",
          "201103",
          "201104",
          "201105",
          "201106",
          "201107",
          "201108",
          "201109",
          "201110",
          "201111",
          "201112",
          "201201",
          "201202",
          "201203",
          "201204",
          "201205",
          "201206",
          "201207",
          "201208",
          "201209",
          "201210",
          "201211",
          "201212",
          "201301",
          "201302",
          "201303",
          "201304",
          "201305",
          "201306",
          "201307",
          "201308",
          "201309",
          "201310",
          "201311",
          "201312",
          "201401",
          "201402",
          "201403",
          "201404",
          "201405",
          "201406",
          "201407",
          "201408",
          "201409",
          "201410",
          "201411",
          "201412",
          "201501",
          "201502",
          "201503",
          "201504",
          "201505",
          "201506",
          "201507",
          "201508",
          "201509",
          "201510",
          "201511",
          "201512",
          "201601",
          "201602",
          "201603",
          "201604",
          "201605",
          "201606",
          "201607",
          "201608",
          "201609",
          "201610",
          "201611",
          "201612",
          "201701",
          "201702",
          "201703",
          "201704",
          "201705",
          "201706",
          "201707",
          "201708",
          "201709",
          "201710",
          "201711",
          "201712",
          "201801",
          "201802",
          "201803",
          "201804",
          "201805",
          "201806",
          "201807",
          "201808",
          "201809",
          "201810",
          "201811",
          "201812",
          "201901",
          "201902",
          "201903",
          "201904",
          "201905",
          "201906",
          "201907",
          "201908",
          "201909",
          "201910",
          "201911",
          "201912",
          "202001",
          "202002",
          "202003",
          "202004",
          "202005",
          "202006",
          "202007",
          "202008",
          "202009",
          "202010",
          "202011",
          "202012",
          "202101",
          "202102",
          "202103",
          "202104",
          "202105",
          "202106",
          "202107",
          "202108",
          "202109",
          "202110",
          "202111",
          "202112",
          "202201",
          "202202",
          "202203",
          "202204",
          "202205",
          "202206",
          "202207",
          "202208",
          "202209",
          "202210",
          "202211",
          "202212",
          "202301",
          "202302",
          "202303",
          "202304",
          "202305",
          "202306",
          "202307",
          "202308",
          "202309",
          "202310",
          "202311"
         ],
         "xaxis": "x",
         "y": [
          0,
          0,
          0,
          0,
          0,
          0,
          0,
          0,
          0,
          0,
          0,
          0,
          0,
          0,
          0,
          0,
          0,
          0,
          0,
          0,
          0,
          0,
          0,
          0,
          0,
          0,
          0,
          0,
          0,
          0,
          0,
          0,
          0,
          0,
          0,
          0,
          0,
          0,
          0,
          0,
          0,
          0,
          0,
          0,
          0,
          0,
          0,
          0,
          0,
          0,
          0,
          0,
          0,
          0,
          0,
          0,
          0,
          0,
          0,
          0,
          0,
          0,
          0,
          0,
          0,
          0,
          0,
          0,
          0,
          0,
          0,
          0,
          0,
          0,
          0,
          0,
          0,
          0,
          0,
          0,
          0,
          0,
          0,
          0,
          0,
          0,
          0,
          0,
          0,
          0,
          0,
          0,
          0,
          0,
          0,
          0,
          0,
          0,
          0,
          0,
          0,
          0,
          0,
          0,
          0,
          0,
          0,
          0,
          0,
          0,
          0,
          0,
          0,
          0,
          0,
          0,
          0,
          0,
          0,
          0,
          0.13665966821932674,
          0.10277660191020732,
          0.07886271773776006,
          0.10869857675933689,
          0.09312804046875038,
          0.1177149544762256,
          0.08619608102292096,
          0.11780578098412624,
          0.11294114990722628,
          0.12551309730582091,
          0.13436904822573847,
          0.12972890768066564,
          0.11933486031410782,
          0.12767298652885614,
          0.0998431020056809,
          0.11987305690380178,
          0.15279894406626096,
          0.14358638329980672,
          0.12674410493303914,
          0.16918665519891435,
          0.1349475327966728,
          0.19078836925421172,
          0.16664616933075985,
          0.15393601870645807,
          0.50748846816161,
          0.4594673603066344,
          0.4687963293961114,
          0.4583571658417171,
          0.46769808890204595,
          0.44000998031447935,
          0.4223699305274136,
          0.44448949956114575,
          0.42885798293946675,
          0.4281926456066742,
          0.4698477901094742,
          0.4797116294797823,
          0.4786061802391557,
          0.46707478233357647,
          0.4613253432196037,
          0.47026353375486574,
          0.5160568291278531,
          0.5046032526194353,
          0.4551610679935956,
          0.4794314761471064,
          0.40472571758441095,
          0.45411425833747804,
          0.4528752749635986,
          0.4269817275999814,
          0.44452805515078325,
          0.44560632844735104,
          0.41748736561048805,
          0.4603832561414854,
          0.4602325299229548,
          0.4228442995083787,
          0.4155487243489766,
          0.4025615518244401,
          0.410699179459925,
          0.44116351717855984,
          0.4453090246927414,
          0.3935202580186009,
          0.43816596462429697,
          0.44781605622210346,
          0.4725267512468838,
          0.41678395116463585,
          0.4590265897835623,
          0.4246479951982667,
          0.39235450302313424,
          0.4349046979941544,
          0.4208900087240585,
          0.486908758080655,
          0.4446533710480846,
          0.3844569751392158,
          0.39914266945996185,
          0.3890313026045612,
          0.4402803421532332,
          0.5114451855758352,
          0.47994829419197,
          0.43720386627607777,
          0.4768742706497776,
          0.48363442756337316,
          0.4202133763905425,
          0.4490177371180533,
          0.5047681362475663,
          0.42060512030656155,
          0.390649720399106,
          0.4534835232278764,
          0.5692258288702522,
          0.4667079486970239,
          0.4919309367109899,
          0.5054503205095283,
          0.3826132880912212,
          0.46030100070633523,
          0.4406176606801721,
          0.4559471163318109,
          0.4503099361958702,
          0.4125873947845168,
          0.45355722281239447,
          0.4251631617360573,
          0.4609519828892962,
          0.48594651751790385,
          0.3795805609971097,
          0.4283549045258293,
          0.3769810173975087,
          0.43746425047581233,
          0.47072663942172466,
          0.5091634714176169,
          0.4141561257701523
         ],
         "yaxis": "y"
        },
        {
         "hovertemplate": "departure_port_code=2704<br>month=%{x}<br>prop_alliance_teus=%{y}<extra></extra>",
         "legendgroup": "2704",
         "line": {
          "color": "#19d3f3",
          "dash": "solid"
         },
         "marker": {
          "symbol": "circle"
         },
         "mode": "lines",
         "name": "2704",
         "showlegend": true,
         "type": "scattergl",
         "x": [
          "200501",
          "200502",
          "200503",
          "200504",
          "200505",
          "200506",
          "200507",
          "200508",
          "200509",
          "200510",
          "200511",
          "200512",
          "200601",
          "200602",
          "200603",
          "200604",
          "200605",
          "200606",
          "200607",
          "200608",
          "200609",
          "200610",
          "200611",
          "200612",
          "200701",
          "200702",
          "200703",
          "200704",
          "200705",
          "200706",
          "200707",
          "200708",
          "200709",
          "200710",
          "200711",
          "200712",
          "200801",
          "200802",
          "200803",
          "200804",
          "200805",
          "200806",
          "200807",
          "200808",
          "200809",
          "200810",
          "200811",
          "200812",
          "200901",
          "200902",
          "200903",
          "200904",
          "200905",
          "200906",
          "200907",
          "200908",
          "200909",
          "200910",
          "200911",
          "200912",
          "201001",
          "201002",
          "201003",
          "201004",
          "201005",
          "201006",
          "201007",
          "201008",
          "201009",
          "201010",
          "201011",
          "201012",
          "201101",
          "201102",
          "201103",
          "201104",
          "201105",
          "201106",
          "201107",
          "201108",
          "201109",
          "201110",
          "201111",
          "201112",
          "201201",
          "201202",
          "201203",
          "201204",
          "201205",
          "201206",
          "201207",
          "201208",
          "201209",
          "201210",
          "201211",
          "201212",
          "201301",
          "201302",
          "201303",
          "201304",
          "201305",
          "201306",
          "201307",
          "201308",
          "201309",
          "201310",
          "201311",
          "201312",
          "201401",
          "201402",
          "201403",
          "201404",
          "201405",
          "201406",
          "201407",
          "201408",
          "201409",
          "201410",
          "201411",
          "201412",
          "201501",
          "201502",
          "201503",
          "201504",
          "201505",
          "201506",
          "201507",
          "201508",
          "201509",
          "201510",
          "201511",
          "201512",
          "201601",
          "201602",
          "201603",
          "201604",
          "201605",
          "201606",
          "201607",
          "201608",
          "201609",
          "201610",
          "201611",
          "201612",
          "201701",
          "201702",
          "201703",
          "201704",
          "201705",
          "201706",
          "201707",
          "201708",
          "201709",
          "201710",
          "201711",
          "201712",
          "201801",
          "201802",
          "201803",
          "201804",
          "201805",
          "201806",
          "201807",
          "201808",
          "201809",
          "201810",
          "201811",
          "201812",
          "201901",
          "201902",
          "201903",
          "201904",
          "201905",
          "201906",
          "201907",
          "201908",
          "201909",
          "201910",
          "201911",
          "201912",
          "202001",
          "202002",
          "202003",
          "202004",
          "202005",
          "202006",
          "202007",
          "202008",
          "202009",
          "202010",
          "202011",
          "202012",
          "202101",
          "202102",
          "202103",
          "202104",
          "202105",
          "202106",
          "202107",
          "202108",
          "202109",
          "202110",
          "202111",
          "202112",
          "202201",
          "202202",
          "202203",
          "202204",
          "202205",
          "202206",
          "202207",
          "202208",
          "202209",
          "202210",
          "202211",
          "202212",
          "202301",
          "202302",
          "202303",
          "202304",
          "202305",
          "202306",
          "202307",
          "202308",
          "202309",
          "202310",
          "202311"
         ],
         "xaxis": "x",
         "y": [
          0,
          0,
          0,
          0,
          0,
          0,
          0,
          0,
          0,
          0,
          0,
          0,
          0,
          0,
          0,
          0,
          0,
          0,
          0,
          0,
          0,
          0,
          0,
          0,
          0,
          0,
          0,
          0,
          0,
          0,
          0,
          0,
          0,
          0,
          0,
          0,
          0,
          0,
          0,
          0,
          0,
          0,
          0,
          0,
          0,
          0,
          0,
          0,
          0,
          0,
          0,
          0,
          0,
          0,
          0,
          0,
          0,
          0,
          0,
          0,
          0,
          0,
          0,
          0,
          0,
          0,
          0,
          0,
          0,
          0,
          0,
          0,
          0,
          0,
          0,
          0,
          0,
          0,
          0,
          0,
          0,
          0,
          0,
          0,
          0,
          0,
          0,
          0,
          0,
          0,
          0,
          0,
          0,
          0,
          0,
          0,
          0,
          0,
          0,
          0,
          0,
          0,
          0,
          0,
          0,
          0,
          0,
          0,
          0,
          0,
          0,
          0,
          0,
          0,
          0,
          0,
          0,
          0,
          0,
          0,
          0.13787639793818604,
          0.09128445241044333,
          0.1887072142030134,
          0.10262393752834408,
          0.07283537636358889,
          0.06855394454813442,
          0.05910747764906378,
          0.06960534103191679,
          0.073493345590974,
          0.10556000064635625,
          0.07112617207164897,
          0.07979313092162489,
          0.12610536478679515,
          0.10604626380957476,
          0.08979464654620525,
          0.12014900794576053,
          0.12837721923144446,
          0.13931910772482548,
          0.08227921942590388,
          0.1108813586289795,
          0.13172757613074434,
          0.09647916963159302,
          0.09255900134464488,
          0.10194479525993586,
          0.43141290057642595,
          0.4437488446562204,
          0.4057850000806226,
          0.4279318741081834,
          0.42852110412552546,
          0.44048790675355903,
          0.39229351369028853,
          0.35491923125481656,
          0.3802822289270171,
          0.429716217250063,
          0.45056552119214516,
          0.5242322987535318,
          0.5024176779973073,
          0.44924406146856627,
          0.42428518840441454,
          0.5791366977314932,
          0.4839199658077871,
          0.5024629690775534,
          0.49102344433524414,
          0.4856257063874305,
          0.4906668897416545,
          0.4788175384469976,
          0.4801009836867913,
          0.43891541760717745,
          0.4846517039473193,
          0.394980538508178,
          0.3744614190392256,
          0.39300489601591726,
          0.444981760768298,
          0.44697673238940205,
          0.433471039349583,
          0.4273859309654049,
          0.41954654743937075,
          0.3726040988525116,
          0.3636142111561102,
          0.3958229714965256,
          0.37648181164947553,
          0.41249448875654543,
          0.40764764906706735,
          0.40775010805743056,
          0.4574729902694591,
          0.4152477872254659,
          0.3994967142138649,
          0.37963356453141417,
          0.33578474165153377,
          0.38370450689716484,
          0.3644522366724571,
          0.2616783177077639,
          0.32625358311303854,
          0.2923524562282426,
          0.35179382085409205,
          0.32912697337253605,
          0.2816959400032407,
          0.300137925120717,
          0.3068374373407738,
          0.3516903878296606,
          0.3202272944311227,
          0.3443602278666767,
          0.3428882876783037,
          0.33978855359509147,
          0.379399393985388,
          0.3286652134001329,
          0.3663147107284644,
          0.3621433651707676,
          0.3949463574710241,
          0.3585228245778585,
          0.32844911225034706,
          0.35580985280654287,
          0.31180599702468476,
          0.32683164117628705,
          0.31707079652978587,
          0.3897831193216203,
          0.31689269828183214,
          0.35920459446272385,
          0.390623198820186,
          0.35721750744144054,
          0.3612403608894543,
          0.35089895345425476,
          0.3741553199948089,
          0.39001543304931896,
          0.3716963714192556,
          0.3946440041920195,
          0.3058731033469654
         ],
         "yaxis": "y"
        },
        {
         "hovertemplate": "departure_port_code=2904<br>month=%{x}<br>prop_alliance_teus=%{y}<extra></extra>",
         "legendgroup": "2904",
         "line": {
          "color": "#FF6692",
          "dash": "solid"
         },
         "marker": {
          "symbol": "circle"
         },
         "mode": "lines",
         "name": "2904",
         "showlegend": true,
         "type": "scattergl",
         "x": [
          "200501",
          "200502",
          "200503",
          "200504",
          "200505",
          "200506",
          "200507",
          "200508",
          "200509",
          "200510",
          "200511",
          "200512",
          "200601",
          "200602",
          "200603",
          "200604",
          "200605",
          "200606",
          "200607",
          "200608",
          "200609",
          "200610",
          "200611",
          "200612",
          "200701",
          "200702",
          "200703",
          "200704",
          "200705",
          "200706",
          "200707",
          "200708",
          "200709",
          "200710",
          "200711",
          "200712",
          "200801",
          "200802",
          "200803",
          "200804",
          "200805",
          "200806",
          "200807",
          "200808",
          "200809",
          "200810",
          "200811",
          "200812",
          "200901",
          "200902",
          "200903",
          "200904",
          "200905",
          "200906",
          "200907",
          "200908",
          "200909",
          "200910",
          "200911",
          "200912",
          "201001",
          "201002",
          "201003",
          "201004",
          "201005",
          "201006",
          "201007",
          "201008",
          "201009",
          "201010",
          "201011",
          "201012",
          "201101",
          "201102",
          "201103",
          "201104",
          "201105",
          "201106",
          "201107",
          "201108",
          "201109",
          "201110",
          "201111",
          "201112",
          "201201",
          "201202",
          "201203",
          "201204",
          "201205",
          "201206",
          "201207",
          "201208",
          "201209",
          "201210",
          "201211",
          "201212",
          "201301",
          "201302",
          "201303",
          "201304",
          "201305",
          "201306",
          "201307",
          "201308",
          "201309",
          "201310",
          "201311",
          "201312",
          "201401",
          "201402",
          "201403",
          "201404",
          "201405",
          "201406",
          "201407",
          "201408",
          "201409",
          "201410",
          "201411",
          "201412",
          "201501",
          "201502",
          "201503",
          "201504",
          "201505",
          "201506",
          "201507",
          "201508",
          "201509",
          "201510",
          "201511",
          "201512",
          "201601",
          "201602",
          "201603",
          "201604",
          "201605",
          "201606",
          "201607",
          "201608",
          "201609",
          "201610",
          "201611",
          "201612",
          "201701",
          "201702",
          "201703",
          "201704",
          "201705",
          "201706",
          "201707",
          "201708",
          "201709",
          "201710",
          "201711",
          "201712",
          "201801",
          "201802",
          "201803",
          "201804",
          "201805",
          "201806",
          "201807",
          "201808",
          "201809",
          "201810",
          "201811",
          "201812",
          "201901",
          "201902",
          "201903",
          "201904",
          "201905",
          "201906",
          "201907",
          "201908",
          "201909",
          "201910",
          "201911",
          "201912",
          "202001",
          "202002",
          "202003",
          "202004",
          "202005",
          "202006",
          "202007",
          "202008",
          "202009",
          "202010",
          "202011",
          "202012",
          "202101",
          "202102",
          "202103",
          "202104",
          "202105",
          "202106",
          "202107",
          "202108",
          "202109",
          "202110",
          "202111",
          "202112",
          "202201",
          "202202",
          "202203",
          "202204",
          "202205",
          "202206",
          "202207",
          "202208",
          "202209",
          "202210",
          "202211",
          "202212",
          "202301",
          "202302",
          "202303",
          "202304",
          "202305",
          "202306",
          "202307",
          "202308",
          "202309",
          "202310",
          "202311"
         ],
         "xaxis": "x",
         "y": [
          0,
          0,
          0,
          0,
          0,
          0,
          0,
          0,
          0,
          0,
          0,
          0,
          0,
          0,
          0,
          0,
          0,
          0,
          0,
          0,
          0,
          0,
          0,
          0,
          0,
          0,
          0,
          0,
          0,
          0,
          0,
          0,
          0,
          0,
          0,
          0,
          0,
          0,
          0,
          0,
          0,
          0,
          0,
          0,
          0,
          0,
          0,
          0,
          0,
          0,
          0,
          0,
          0,
          0,
          0,
          0,
          0,
          0,
          0,
          0,
          0,
          0,
          0,
          0,
          0,
          0,
          0,
          0,
          0,
          0,
          0,
          0,
          0,
          0,
          0,
          0,
          0,
          0,
          0,
          0,
          0,
          0,
          0,
          0,
          0,
          0,
          0,
          0,
          0,
          0,
          0,
          0,
          0,
          0,
          0,
          0,
          0,
          0,
          0,
          0,
          0,
          0,
          0,
          0,
          0,
          0,
          0,
          0,
          0,
          0,
          0,
          0,
          0,
          0,
          0,
          0,
          0,
          0,
          0,
          0,
          0,
          0,
          0,
          0,
          0,
          0,
          0,
          0,
          0,
          0,
          0,
          0,
          0,
          0,
          0,
          0,
          0,
          0,
          0,
          0,
          0,
          0,
          0,
          0,
          0,
          0,
          0,
          0,
          0,
          0,
          0,
          0,
          0,
          0,
          0,
          0,
          0,
          0,
          0,
          0,
          0,
          0,
          0,
          0,
          0,
          0,
          0,
          0,
          0,
          0,
          0,
          0,
          0,
          0,
          0,
          0,
          0,
          0,
          0,
          0,
          0,
          0,
          0,
          0,
          0.0020693869581429685,
          0.01542959541312703,
          0.027528211741715533,
          0.07765550449348257,
          0.10425303260686701,
          0.10682610343045135,
          0.11830950423154434,
          0.0879317602024573,
          0.05689257926854987,
          0.08904973434434961,
          0.06839095378370132,
          0.14685483098733723,
          0.1377087027816804,
          0.16917392667891298,
          0.0951194992921749,
          0.0478851471782171,
          0.09294113853580943,
          0.13631149762130115,
          0.14037212911974717,
          0.20413053389920194,
          0.11687657981831466,
          0.17905316159451753,
          0.20741717846864952,
          0.1439249771912075,
          0.22835019603418527,
          0.08015353825782075,
          0.04304982059597795,
          0.010355432063748468,
          0.01489462658557891,
          0.08314988330457958,
          0.04920662747724709,
          0.05988210482346257,
          0.06682560484901225,
          0.4595236492636421,
          0.2567761568177011,
          0.22785655717121758,
          0.3160582799510731,
          0.2219625929882402,
          0.3666934014671673,
          0.38497801660219044,
          0.289743372605771,
          0.21670119920191025,
          0.30910756979513637
         ],
         "yaxis": "y"
        },
        {
         "hovertemplate": "departure_port_code=3201<br>month=%{x}<br>prop_alliance_teus=%{y}<extra></extra>",
         "legendgroup": "3201",
         "line": {
          "color": "#B6E880",
          "dash": "solid"
         },
         "marker": {
          "symbol": "circle"
         },
         "mode": "lines",
         "name": "3201",
         "showlegend": true,
         "type": "scattergl",
         "x": [
          "200501",
          "200502",
          "200503",
          "200504",
          "200505",
          "200506",
          "200507",
          "200508",
          "200509",
          "200510",
          "200511",
          "200512",
          "200601",
          "200602",
          "200603",
          "200604",
          "200605",
          "200606",
          "200607",
          "200608",
          "200609",
          "200610",
          "200611",
          "200612",
          "200701",
          "200702",
          "200703",
          "200704",
          "200705",
          "200706",
          "200707",
          "200708",
          "200709",
          "200710",
          "200711",
          "200712",
          "200801",
          "200802",
          "200803",
          "200804",
          "200805",
          "200806",
          "200807",
          "200808",
          "200809",
          "200810",
          "200811",
          "200812",
          "200901",
          "200902",
          "200903",
          "200904",
          "200905",
          "200906",
          "200907",
          "200908",
          "200909",
          "200910",
          "200911",
          "200912",
          "201001",
          "201002",
          "201003",
          "201004",
          "201005",
          "201006",
          "201007",
          "201008",
          "201009",
          "201010",
          "201011",
          "201012",
          "201101",
          "201102",
          "201103",
          "201104",
          "201105",
          "201106",
          "201107",
          "201108",
          "201109",
          "201110",
          "201111",
          "201112",
          "201201",
          "201202",
          "201203",
          "201204",
          "201205",
          "201206",
          "201207",
          "201208",
          "201209",
          "201210",
          "201211",
          "201212",
          "201301",
          "201302",
          "201303",
          "201304",
          "201305",
          "201306",
          "201307",
          "201308",
          "201309",
          "201310",
          "201311",
          "201312",
          "201401",
          "201402",
          "201403",
          "201404",
          "201405",
          "201406",
          "201407",
          "201408",
          "201409",
          "201410",
          "201411",
          "201412",
          "201501",
          "201502",
          "201503",
          "201504",
          "201505",
          "201506",
          "201507",
          "201508",
          "201509",
          "201510",
          "201511",
          "201512",
          "201601",
          "201602",
          "201603",
          "201604",
          "201605",
          "201606",
          "201607",
          "201608",
          "201609",
          "201610",
          "201611",
          "201612",
          "201701",
          "201702",
          "201703",
          "201704",
          "201705",
          "201706",
          "201707",
          "201708",
          "201709",
          "201710",
          "201711",
          "201712",
          "201801",
          "201802",
          "201803",
          "201804",
          "201805",
          "201806",
          "201807",
          "201808",
          "201809",
          "201810",
          "201811",
          "201812",
          "201901",
          "201902",
          "201903",
          "201904",
          "201905",
          "201906",
          "201907",
          "201908",
          "201909",
          "201910",
          "201911",
          "201912",
          "202001",
          "202002",
          "202003",
          "202004",
          "202005",
          "202006",
          "202007",
          "202008",
          "202009",
          "202010",
          "202011",
          "202012",
          "202101",
          "202102",
          "202103",
          "202104",
          "202105",
          "202106",
          "202107",
          "202108",
          "202109",
          "202110",
          "202111",
          "202112",
          "202201",
          "202202",
          "202203",
          "202204",
          "202205",
          "202206",
          "202207",
          "202208",
          "202209",
          "202210",
          "202211",
          "202212",
          "202301",
          "202302",
          "202303",
          "202304",
          "202305",
          "202306",
          "202307",
          "202308",
          "202309",
          "202310",
          "202311"
         ],
         "xaxis": "x",
         "y": [
          0,
          0,
          0,
          0,
          0,
          0,
          0,
          0,
          0,
          0,
          0,
          0,
          0,
          0,
          0,
          0,
          0,
          0,
          0,
          0,
          0,
          0,
          0,
          0,
          0,
          0,
          0,
          0,
          0,
          0,
          0,
          0,
          0,
          0,
          0,
          0,
          0,
          0,
          0,
          0,
          0,
          0,
          0,
          0,
          0,
          0,
          0,
          0,
          0,
          0,
          0,
          0,
          0,
          0,
          0,
          0,
          0,
          0,
          0,
          0,
          0,
          0,
          0,
          0,
          0,
          0,
          0,
          0,
          0,
          0,
          0,
          0,
          0,
          0,
          0,
          0,
          0,
          0,
          0,
          0,
          0,
          0,
          0,
          0,
          0,
          0,
          0,
          0,
          0,
          0,
          0,
          0,
          0,
          0,
          0,
          0,
          0,
          0,
          0,
          0,
          0,
          0,
          0,
          0,
          0,
          0,
          0,
          0,
          0,
          0,
          0,
          0,
          0,
          0,
          0,
          0,
          0,
          0,
          0,
          0,
          0.0007497941581375739,
          0,
          0,
          0.0009323929493679303,
          0.0006939812960498902,
          0.0015892688463430323,
          0,
          0.0008045926562678718,
          0,
          0,
          0,
          0.0006107984497267624,
          0,
          0.0006738657318117559,
          0.0005289297961632854,
          0.0010799164804768603,
          0.00048791946345441077,
          0.0025607895202791236,
          0.001642013095097997,
          0.0015964724949312401,
          0.004968306191890234,
          0,
          0,
          0.0029508772108341364,
          0.0005668445819861937,
          0.0003732797457006921,
          0,
          0,
          0,
          0,
          0.0013576764101924902,
          0.002556350802508376,
          0,
          0,
          0.0015055916719877076,
          0.0022720477569643733,
          0,
          0.0015589544334637941,
          0,
          0.0011058804056468304,
          0,
          0,
          0,
          0.0006058038369223725,
          0,
          0.0023839139821397936,
          0.0026495646878901507,
          0.0022455250696563835,
          0.006445818130479879,
          0.005377672439436352,
          0.0031827466215306253,
          0.0050730379135020785,
          0.005703226135693951,
          0.003737327935302414,
          0,
          0.009506312248010776,
          0,
          0.0005261459873539692,
          0,
          0.003925480957949179,
          0,
          0,
          0,
          0,
          0,
          0,
          0,
          0.0006051604299634613,
          0,
          0,
          0,
          0,
          0.0020083604648761405,
          0.00045966868102750294,
          0,
          0,
          0,
          0,
          0,
          0,
          0,
          0,
          0,
          0,
          0,
          0,
          0,
          0,
          0,
          0,
          0,
          0,
          0,
          0,
          0,
          0,
          0,
          0,
          0,
          0,
          0,
          0,
          0,
          0,
          0,
          0,
          0
         ],
         "yaxis": "y"
        },
        {
         "hovertemplate": "departure_port_code=2713<br>month=%{x}<br>prop_alliance_teus=%{y}<extra></extra>",
         "legendgroup": "2713",
         "line": {
          "color": "#FF97FF",
          "dash": "solid"
         },
         "marker": {
          "symbol": "circle"
         },
         "mode": "lines",
         "name": "2713",
         "showlegend": true,
         "type": "scattergl",
         "x": [
          "200501",
          "200502",
          "200503",
          "200504",
          "200505",
          "200506",
          "200507",
          "200508",
          "200509",
          "200510",
          "200511",
          "200512",
          "200601",
          "200602",
          "200603",
          "200604",
          "200605",
          "200606",
          "200607",
          "200608",
          "200609",
          "200610",
          "200611",
          "200612",
          "200701",
          "200702",
          "200703",
          "200704",
          "200705",
          "200706",
          "200707",
          "200708",
          "200709",
          "200710",
          "200711",
          "200712",
          "200801",
          "200802",
          "200803",
          "200804",
          "200805",
          "200806",
          "200807",
          "200808",
          "200809",
          "200810",
          "200811",
          "200812",
          "200901",
          "200902",
          "200903",
          "200904",
          "200905",
          "200906",
          "200907",
          "200908",
          "200909",
          "200910",
          "200911",
          "200912",
          "201001",
          "201002",
          "201003",
          "201004",
          "201005",
          "201006",
          "201007",
          "201008",
          "201009",
          "201010",
          "201011",
          "201012",
          "201101",
          "201102",
          "201103",
          "201104",
          "201105",
          "201106",
          "201107",
          "201108",
          "201109",
          "201110",
          "201111",
          "201112",
          "201201",
          "201202",
          "201203",
          "201204",
          "201205",
          "201206",
          "201207",
          "201208",
          "201209",
          "201210",
          "201211",
          "201212",
          "201301",
          "201302",
          "201303",
          "201304",
          "201305",
          "201306",
          "201307",
          "201308",
          "201309",
          "201310",
          "201311",
          "201312",
          "201401",
          "201402",
          "201403",
          "201404",
          "201405",
          "201406",
          "201407",
          "201408",
          "201409",
          "201410",
          "201411",
          "201412",
          "201501",
          "201502",
          "201503",
          "201504",
          "201505",
          "201506",
          "201507",
          "201508",
          "201509",
          "201510",
          "201511",
          "201512",
          "201601",
          "201602",
          "201603",
          "201604",
          "201605",
          "201606",
          "201607",
          "201608",
          "201609",
          "201610",
          "201611",
          "201612",
          "201701",
          "201702",
          "201703",
          "201704",
          "201705",
          "201706",
          "201707",
          "201708",
          "201709",
          "201710",
          "201711",
          "201712",
          "201801",
          "201802",
          "201803",
          "201804",
          "201805",
          "201806",
          "201807",
          "201808",
          "201809",
          "201810",
          "201811",
          "201812",
          "201901",
          "201902",
          "201903",
          "201904",
          "201905",
          "201906",
          "201907",
          "201908",
          "201909",
          "201910",
          "201911",
          "201912",
          "202001",
          "202002",
          "202003",
          "202004",
          "202005",
          "202006",
          "202007",
          "202008",
          "202009",
          "202010",
          "202011",
          "202012",
          "202101",
          "202102",
          "202103",
          "202104",
          "202105",
          "202106",
          "202107",
          "202108",
          "202109",
          "202110",
          "202111",
          "202112",
          "202201",
          "202202",
          "202203",
          "202204",
          "202205",
          "202206",
          "202207",
          "202208",
          "202209",
          "202210",
          "202211",
          "202212",
          "202301",
          "202302",
          "202303",
          "202304",
          "202305",
          "202306",
          "202307",
          "202308",
          "202309",
          "202310",
          "202311"
         ],
         "xaxis": "x",
         "y": [
          0,
          0,
          0,
          0,
          0,
          0,
          0,
          0,
          0,
          0,
          0,
          0,
          0,
          0,
          0,
          0,
          0,
          0,
          0,
          0,
          0,
          0,
          0,
          0,
          0,
          0,
          0,
          0,
          0,
          0,
          0,
          0,
          0,
          0,
          0,
          0,
          0,
          0,
          0,
          0,
          0,
          0,
          0,
          0,
          0,
          0,
          0,
          0,
          0,
          0,
          0,
          0,
          0,
          0,
          0,
          0,
          0,
          0,
          0,
          0,
          0,
          0,
          0,
          0,
          0,
          0,
          0,
          0,
          0,
          0,
          0,
          0,
          0,
          0,
          0,
          0,
          0,
          0,
          0,
          0,
          0,
          0,
          0,
          0,
          0,
          0,
          0,
          0,
          0,
          0,
          0,
          0,
          0,
          0,
          0,
          0,
          0,
          0,
          0,
          0,
          0,
          0,
          0,
          0,
          0,
          0,
          0,
          0,
          0,
          0,
          0,
          0,
          0,
          0,
          0,
          0,
          0,
          0,
          0,
          0,
          0,
          0,
          0,
          0,
          0,
          0,
          0,
          0,
          0,
          0,
          0,
          0,
          0,
          0,
          0,
          0,
          0,
          0,
          0,
          0,
          0,
          0,
          0,
          0,
          0,
          0,
          0,
          0,
          0.03441102618578828,
          0,
          0.26894037894247286,
          0,
          0,
          0,
          0,
          0.032933337555077026,
          0.033304613663856605,
          0.07585772011578903,
          0.05051629288705317,
          0,
          0,
          0,
          0,
          0.10951476792630872,
          0.04524523941714746,
          0.09469369462379423,
          0.08104014292726157,
          0,
          0,
          0,
          0.045177382200032666,
          0.06066279067563183,
          0.0970830921034993,
          0,
          0.0833164686112843,
          0.02980550557480983,
          0,
          0,
          0.03248594113799265,
          0.10307620308525109,
          0,
          0.029646021079668714,
          0,
          0,
          0,
          0.45261315400533797,
          0,
          0,
          0,
          0,
          0,
          0,
          0,
          0,
          0,
          0,
          0,
          0,
          0,
          0,
          0,
          0,
          0,
          0,
          0,
          0,
          0,
          0,
          0,
          0,
          0,
          0,
          0,
          0,
          0,
          0,
          0,
          0,
          0,
          0,
          0,
          0,
          0,
          0,
          0.008640020650900934,
          0.07365090626368971,
          0
         ],
         "yaxis": "y"
        },
        {
         "hovertemplate": "departure_port_code=3126<br>month=%{x}<br>prop_alliance_teus=%{y}<extra></extra>",
         "legendgroup": "3126",
         "line": {
          "color": "#FECB52",
          "dash": "solid"
         },
         "marker": {
          "symbol": "circle"
         },
         "mode": "lines",
         "name": "3126",
         "showlegend": true,
         "type": "scattergl",
         "x": [
          "200501",
          "200502",
          "200503",
          "200504",
          "200505",
          "200506",
          "200507",
          "200508",
          "200509",
          "200510",
          "200511",
          "200512",
          "200601",
          "200602",
          "200603",
          "200604",
          "200605",
          "200606",
          "200607",
          "200608",
          "200609",
          "200610",
          "200611",
          "200612",
          "200701",
          "200702",
          "200703",
          "200704",
          "200705",
          "200706",
          "200707",
          "200708",
          "200709",
          "200710",
          "200711",
          "200712",
          "200801",
          "200802",
          "200803",
          "200804",
          "200805",
          "200806",
          "200807",
          "200808",
          "200809",
          "200810",
          "200811",
          "200812",
          "200901",
          "200902",
          "200903",
          "200904",
          "200905",
          "200906",
          "200907",
          "200908",
          "200909",
          "200910",
          "200911",
          "200912",
          "201001",
          "201002",
          "201003",
          "201004",
          "201005",
          "201006",
          "201007",
          "201008",
          "201009",
          "201010",
          "201011",
          "201012",
          "201101",
          "201102",
          "201103",
          "201104",
          "201105",
          "201106",
          "201107",
          "201108",
          "201109",
          "201110",
          "201111",
          "201112",
          "201201",
          "201202",
          "201203",
          "201204",
          "201205",
          "201206",
          "201207",
          "201208",
          "201209",
          "201210",
          "201211",
          "201212",
          "201301",
          "201302",
          "201303",
          "201304",
          "201305",
          "201306",
          "201307",
          "201308",
          "201309",
          "201310",
          "201311",
          "201312",
          "201401",
          "201402",
          "201403",
          "201404",
          "201405",
          "201406",
          "201407",
          "201408",
          "201409",
          "201410",
          "201411",
          "201412",
          "201501",
          "201502",
          "201503",
          "201504",
          "201505",
          "201506",
          "201507",
          "201508",
          "201509",
          "201510",
          "201511",
          "201512",
          "201601",
          "201602",
          "201603",
          "201604",
          "201605",
          "201606",
          "201607",
          "201608",
          "201609",
          "201610",
          "201611",
          "201612",
          "201701",
          "201702",
          "201703",
          "201704",
          "201705",
          "201706",
          "201707",
          "201708",
          "201709",
          "201710",
          "201711",
          "201712",
          "201801",
          "201802",
          "201803",
          "201804",
          "201805",
          "201806",
          "201807",
          "201808",
          "201809",
          "201810",
          "201902",
          "201903",
          "201904",
          "201905",
          "201906",
          "201907",
          "201908",
          "201909",
          "201910",
          "201911",
          "201912",
          "202001",
          "202002",
          "202003",
          "202004",
          "202005",
          "202006",
          "202007",
          "202008",
          "202009",
          "202010",
          "202011",
          "202012",
          "202101",
          "202102",
          "202103",
          "202104",
          "202105",
          "202106",
          "202107",
          "202108",
          "202109",
          "202110",
          "202111",
          "202112",
          "202201",
          "202202",
          "202203",
          "202204",
          "202205",
          "202206",
          "202207",
          "202208",
          "202209",
          "202210",
          "202211",
          "202212",
          "202301",
          "202302",
          "202303",
          "202304",
          "202305",
          "202306",
          "202307",
          "202308",
          "202309",
          "202310",
          "202311"
         ],
         "xaxis": "x",
         "y": [
          0,
          0,
          0,
          0,
          0,
          0,
          0,
          0,
          0,
          0,
          0,
          0,
          0,
          0,
          0,
          0,
          0,
          0,
          0,
          0,
          0,
          0,
          0,
          0,
          0,
          0,
          0,
          0,
          0,
          0,
          0,
          0,
          0,
          0,
          0,
          0,
          0,
          0,
          0,
          0,
          0,
          0,
          0,
          0,
          0,
          0,
          0,
          0,
          0,
          0,
          0,
          0,
          0,
          0,
          0,
          0,
          0,
          0,
          0,
          0,
          0,
          0,
          0,
          0,
          0,
          0,
          0,
          0,
          0,
          0,
          0,
          0,
          0,
          0,
          0,
          0,
          0,
          0,
          0,
          0,
          0,
          0,
          0,
          0,
          0,
          0,
          0,
          0,
          0,
          0,
          0,
          0,
          0,
          0,
          0,
          0,
          0,
          0,
          0,
          0,
          0,
          0,
          0,
          0,
          0,
          0,
          0,
          0,
          0,
          0,
          0,
          0,
          0,
          0,
          0,
          0,
          0,
          0,
          0,
          0,
          0.4593452598713042,
          0.6673100597570975,
          0.43804084833362833,
          0.4042586893180853,
          0.17944728346239236,
          0.05130465392722697,
          0.48885824040885345,
          0.2712831994271023,
          0.4289931400390461,
          0.3455300936687545,
          0.38497556128607613,
          0.17281079041932337,
          0.1664291361982175,
          0.386691101261231,
          0.38677351631837426,
          0.35646883354900144,
          0.21241927463699062,
          0.16228475642164625,
          0,
          0,
          0.5969644115661552,
          0.6370449783076989,
          0,
          0.28531310159441386,
          0.6256287083744235,
          0.6406718351942084,
          0.472866492659032,
          0.559604567158475,
          0.31576383910584443,
          0.20652292614817172,
          0.28152224114157476,
          0.5069694850515224,
          0.34071152821844664,
          0.3586082521609237,
          0.424901274137307,
          0.8948762337073563,
          0,
          0.8925756947324761,
          0.680568563067999,
          0.5167902500934483,
          0.7754114230396902,
          0.9550927518929283,
          0.7886790137763204,
          0.8433247517469658,
          0.7270896804748423,
          0.5933786078098472,
          0.6459663377829368,
          0.7814885496183206,
          0.7944369063772049,
          0.844851904090268,
          1,
          0.32558022751371957,
          0.38619222705258943,
          0.3095023710907017,
          0.38095238095238093,
          0.35497586046291324,
          0.2708988882381739,
          0,
          0.38125470859203187,
          0.44055470996110263,
          0.29271325602792914,
          0.7873150200371639,
          0.26751209102939144,
          0.2471580364868188,
          0.3414437021743225,
          0.26955881004281446,
          0.3847158101978164,
          0.357346830773745,
          0.5110091441674129,
          0,
          0.2987552383537553,
          0.18696966563451337,
          0.3976785743255313,
          0.5641293334250284,
          0.28271733657051457,
          0.18206724922313092,
          0.3465389939019342,
          0.20463668092982706,
          0.2676893965531393,
          0.1803592017954804,
          0.21686839343835268,
          0,
          0.16947778369247415,
          0.15439927787186283,
          0.4831308980447826,
          0.28714282351921483,
          0.05747142495855404,
          0.11659783011216784,
          0.3114384287409863,
          0.11430777823672024,
          0.4969020056995899,
          0.38926937299209696,
          0.24206492843979477,
          0,
          0.3653025975644731,
          0.4592384269866965,
          0.23399402040823736,
          0.5731539625494251,
          0.24542005770816022,
          0.42938436059041823,
          0.3295320075138932,
          0.3340112451033129,
          0.27745666752818066,
          0
         ],
         "yaxis": "y"
        }
       ],
       "layout": {
        "legend": {
         "title": {
          "text": "departure_port_code"
         },
         "tracegroupgap": 0
        },
        "template": {
         "data": {
          "bar": [
           {
            "error_x": {
             "color": "#2a3f5f"
            },
            "error_y": {
             "color": "#2a3f5f"
            },
            "marker": {
             "line": {
              "color": "#E5ECF6",
              "width": 0.5
             },
             "pattern": {
              "fillmode": "overlay",
              "size": 10,
              "solidity": 0.2
             }
            },
            "type": "bar"
           }
          ],
          "barpolar": [
           {
            "marker": {
             "line": {
              "color": "#E5ECF6",
              "width": 0.5
             },
             "pattern": {
              "fillmode": "overlay",
              "size": 10,
              "solidity": 0.2
             }
            },
            "type": "barpolar"
           }
          ],
          "carpet": [
           {
            "aaxis": {
             "endlinecolor": "#2a3f5f",
             "gridcolor": "white",
             "linecolor": "white",
             "minorgridcolor": "white",
             "startlinecolor": "#2a3f5f"
            },
            "baxis": {
             "endlinecolor": "#2a3f5f",
             "gridcolor": "white",
             "linecolor": "white",
             "minorgridcolor": "white",
             "startlinecolor": "#2a3f5f"
            },
            "type": "carpet"
           }
          ],
          "choropleth": [
           {
            "colorbar": {
             "outlinewidth": 0,
             "ticks": ""
            },
            "type": "choropleth"
           }
          ],
          "contour": [
           {
            "colorbar": {
             "outlinewidth": 0,
             "ticks": ""
            },
            "colorscale": [
             [
              0,
              "#0d0887"
             ],
             [
              0.1111111111111111,
              "#46039f"
             ],
             [
              0.2222222222222222,
              "#7201a8"
             ],
             [
              0.3333333333333333,
              "#9c179e"
             ],
             [
              0.4444444444444444,
              "#bd3786"
             ],
             [
              0.5555555555555556,
              "#d8576b"
             ],
             [
              0.6666666666666666,
              "#ed7953"
             ],
             [
              0.7777777777777778,
              "#fb9f3a"
             ],
             [
              0.8888888888888888,
              "#fdca26"
             ],
             [
              1,
              "#f0f921"
             ]
            ],
            "type": "contour"
           }
          ],
          "contourcarpet": [
           {
            "colorbar": {
             "outlinewidth": 0,
             "ticks": ""
            },
            "type": "contourcarpet"
           }
          ],
          "heatmap": [
           {
            "colorbar": {
             "outlinewidth": 0,
             "ticks": ""
            },
            "colorscale": [
             [
              0,
              "#0d0887"
             ],
             [
              0.1111111111111111,
              "#46039f"
             ],
             [
              0.2222222222222222,
              "#7201a8"
             ],
             [
              0.3333333333333333,
              "#9c179e"
             ],
             [
              0.4444444444444444,
              "#bd3786"
             ],
             [
              0.5555555555555556,
              "#d8576b"
             ],
             [
              0.6666666666666666,
              "#ed7953"
             ],
             [
              0.7777777777777778,
              "#fb9f3a"
             ],
             [
              0.8888888888888888,
              "#fdca26"
             ],
             [
              1,
              "#f0f921"
             ]
            ],
            "type": "heatmap"
           }
          ],
          "heatmapgl": [
           {
            "colorbar": {
             "outlinewidth": 0,
             "ticks": ""
            },
            "colorscale": [
             [
              0,
              "#0d0887"
             ],
             [
              0.1111111111111111,
              "#46039f"
             ],
             [
              0.2222222222222222,
              "#7201a8"
             ],
             [
              0.3333333333333333,
              "#9c179e"
             ],
             [
              0.4444444444444444,
              "#bd3786"
             ],
             [
              0.5555555555555556,
              "#d8576b"
             ],
             [
              0.6666666666666666,
              "#ed7953"
             ],
             [
              0.7777777777777778,
              "#fb9f3a"
             ],
             [
              0.8888888888888888,
              "#fdca26"
             ],
             [
              1,
              "#f0f921"
             ]
            ],
            "type": "heatmapgl"
           }
          ],
          "histogram": [
           {
            "marker": {
             "pattern": {
              "fillmode": "overlay",
              "size": 10,
              "solidity": 0.2
             }
            },
            "type": "histogram"
           }
          ],
          "histogram2d": [
           {
            "colorbar": {
             "outlinewidth": 0,
             "ticks": ""
            },
            "colorscale": [
             [
              0,
              "#0d0887"
             ],
             [
              0.1111111111111111,
              "#46039f"
             ],
             [
              0.2222222222222222,
              "#7201a8"
             ],
             [
              0.3333333333333333,
              "#9c179e"
             ],
             [
              0.4444444444444444,
              "#bd3786"
             ],
             [
              0.5555555555555556,
              "#d8576b"
             ],
             [
              0.6666666666666666,
              "#ed7953"
             ],
             [
              0.7777777777777778,
              "#fb9f3a"
             ],
             [
              0.8888888888888888,
              "#fdca26"
             ],
             [
              1,
              "#f0f921"
             ]
            ],
            "type": "histogram2d"
           }
          ],
          "histogram2dcontour": [
           {
            "colorbar": {
             "outlinewidth": 0,
             "ticks": ""
            },
            "colorscale": [
             [
              0,
              "#0d0887"
             ],
             [
              0.1111111111111111,
              "#46039f"
             ],
             [
              0.2222222222222222,
              "#7201a8"
             ],
             [
              0.3333333333333333,
              "#9c179e"
             ],
             [
              0.4444444444444444,
              "#bd3786"
             ],
             [
              0.5555555555555556,
              "#d8576b"
             ],
             [
              0.6666666666666666,
              "#ed7953"
             ],
             [
              0.7777777777777778,
              "#fb9f3a"
             ],
             [
              0.8888888888888888,
              "#fdca26"
             ],
             [
              1,
              "#f0f921"
             ]
            ],
            "type": "histogram2dcontour"
           }
          ],
          "mesh3d": [
           {
            "colorbar": {
             "outlinewidth": 0,
             "ticks": ""
            },
            "type": "mesh3d"
           }
          ],
          "parcoords": [
           {
            "line": {
             "colorbar": {
              "outlinewidth": 0,
              "ticks": ""
             }
            },
            "type": "parcoords"
           }
          ],
          "pie": [
           {
            "automargin": true,
            "type": "pie"
           }
          ],
          "scatter": [
           {
            "fillpattern": {
             "fillmode": "overlay",
             "size": 10,
             "solidity": 0.2
            },
            "type": "scatter"
           }
          ],
          "scatter3d": [
           {
            "line": {
             "colorbar": {
              "outlinewidth": 0,
              "ticks": ""
             }
            },
            "marker": {
             "colorbar": {
              "outlinewidth": 0,
              "ticks": ""
             }
            },
            "type": "scatter3d"
           }
          ],
          "scattercarpet": [
           {
            "marker": {
             "colorbar": {
              "outlinewidth": 0,
              "ticks": ""
             }
            },
            "type": "scattercarpet"
           }
          ],
          "scattergeo": [
           {
            "marker": {
             "colorbar": {
              "outlinewidth": 0,
              "ticks": ""
             }
            },
            "type": "scattergeo"
           }
          ],
          "scattergl": [
           {
            "marker": {
             "colorbar": {
              "outlinewidth": 0,
              "ticks": ""
             }
            },
            "type": "scattergl"
           }
          ],
          "scattermapbox": [
           {
            "marker": {
             "colorbar": {
              "outlinewidth": 0,
              "ticks": ""
             }
            },
            "type": "scattermapbox"
           }
          ],
          "scatterpolar": [
           {
            "marker": {
             "colorbar": {
              "outlinewidth": 0,
              "ticks": ""
             }
            },
            "type": "scatterpolar"
           }
          ],
          "scatterpolargl": [
           {
            "marker": {
             "colorbar": {
              "outlinewidth": 0,
              "ticks": ""
             }
            },
            "type": "scatterpolargl"
           }
          ],
          "scatterternary": [
           {
            "marker": {
             "colorbar": {
              "outlinewidth": 0,
              "ticks": ""
             }
            },
            "type": "scatterternary"
           }
          ],
          "surface": [
           {
            "colorbar": {
             "outlinewidth": 0,
             "ticks": ""
            },
            "colorscale": [
             [
              0,
              "#0d0887"
             ],
             [
              0.1111111111111111,
              "#46039f"
             ],
             [
              0.2222222222222222,
              "#7201a8"
             ],
             [
              0.3333333333333333,
              "#9c179e"
             ],
             [
              0.4444444444444444,
              "#bd3786"
             ],
             [
              0.5555555555555556,
              "#d8576b"
             ],
             [
              0.6666666666666666,
              "#ed7953"
             ],
             [
              0.7777777777777778,
              "#fb9f3a"
             ],
             [
              0.8888888888888888,
              "#fdca26"
             ],
             [
              1,
              "#f0f921"
             ]
            ],
            "type": "surface"
           }
          ],
          "table": [
           {
            "cells": {
             "fill": {
              "color": "#EBF0F8"
             },
             "line": {
              "color": "white"
             }
            },
            "header": {
             "fill": {
              "color": "#C8D4E3"
             },
             "line": {
              "color": "white"
             }
            },
            "type": "table"
           }
          ]
         },
         "layout": {
          "annotationdefaults": {
           "arrowcolor": "#2a3f5f",
           "arrowhead": 0,
           "arrowwidth": 1
          },
          "autotypenumbers": "strict",
          "coloraxis": {
           "colorbar": {
            "outlinewidth": 0,
            "ticks": ""
           }
          },
          "colorscale": {
           "diverging": [
            [
             0,
             "#8e0152"
            ],
            [
             0.1,
             "#c51b7d"
            ],
            [
             0.2,
             "#de77ae"
            ],
            [
             0.3,
             "#f1b6da"
            ],
            [
             0.4,
             "#fde0ef"
            ],
            [
             0.5,
             "#f7f7f7"
            ],
            [
             0.6,
             "#e6f5d0"
            ],
            [
             0.7,
             "#b8e186"
            ],
            [
             0.8,
             "#7fbc41"
            ],
            [
             0.9,
             "#4d9221"
            ],
            [
             1,
             "#276419"
            ]
           ],
           "sequential": [
            [
             0,
             "#0d0887"
            ],
            [
             0.1111111111111111,
             "#46039f"
            ],
            [
             0.2222222222222222,
             "#7201a8"
            ],
            [
             0.3333333333333333,
             "#9c179e"
            ],
            [
             0.4444444444444444,
             "#bd3786"
            ],
            [
             0.5555555555555556,
             "#d8576b"
            ],
            [
             0.6666666666666666,
             "#ed7953"
            ],
            [
             0.7777777777777778,
             "#fb9f3a"
            ],
            [
             0.8888888888888888,
             "#fdca26"
            ],
            [
             1,
             "#f0f921"
            ]
           ],
           "sequentialminus": [
            [
             0,
             "#0d0887"
            ],
            [
             0.1111111111111111,
             "#46039f"
            ],
            [
             0.2222222222222222,
             "#7201a8"
            ],
            [
             0.3333333333333333,
             "#9c179e"
            ],
            [
             0.4444444444444444,
             "#bd3786"
            ],
            [
             0.5555555555555556,
             "#d8576b"
            ],
            [
             0.6666666666666666,
             "#ed7953"
            ],
            [
             0.7777777777777778,
             "#fb9f3a"
            ],
            [
             0.8888888888888888,
             "#fdca26"
            ],
            [
             1,
             "#f0f921"
            ]
           ]
          },
          "colorway": [
           "#636efa",
           "#EF553B",
           "#00cc96",
           "#ab63fa",
           "#FFA15A",
           "#19d3f3",
           "#FF6692",
           "#B6E880",
           "#FF97FF",
           "#FECB52"
          ],
          "font": {
           "color": "#2a3f5f"
          },
          "geo": {
           "bgcolor": "white",
           "lakecolor": "white",
           "landcolor": "#E5ECF6",
           "showlakes": true,
           "showland": true,
           "subunitcolor": "white"
          },
          "hoverlabel": {
           "align": "left"
          },
          "hovermode": "closest",
          "mapbox": {
           "style": "light"
          },
          "paper_bgcolor": "white",
          "plot_bgcolor": "#E5ECF6",
          "polar": {
           "angularaxis": {
            "gridcolor": "white",
            "linecolor": "white",
            "ticks": ""
           },
           "bgcolor": "#E5ECF6",
           "radialaxis": {
            "gridcolor": "white",
            "linecolor": "white",
            "ticks": ""
           }
          },
          "scene": {
           "xaxis": {
            "backgroundcolor": "#E5ECF6",
            "gridcolor": "white",
            "gridwidth": 2,
            "linecolor": "white",
            "showbackground": true,
            "ticks": "",
            "zerolinecolor": "white"
           },
           "yaxis": {
            "backgroundcolor": "#E5ECF6",
            "gridcolor": "white",
            "gridwidth": 2,
            "linecolor": "white",
            "showbackground": true,
            "ticks": "",
            "zerolinecolor": "white"
           },
           "zaxis": {
            "backgroundcolor": "#E5ECF6",
            "gridcolor": "white",
            "gridwidth": 2,
            "linecolor": "white",
            "showbackground": true,
            "ticks": "",
            "zerolinecolor": "white"
           }
          },
          "shapedefaults": {
           "line": {
            "color": "#2a3f5f"
           }
          },
          "ternary": {
           "aaxis": {
            "gridcolor": "white",
            "linecolor": "white",
            "ticks": ""
           },
           "baxis": {
            "gridcolor": "white",
            "linecolor": "white",
            "ticks": ""
           },
           "bgcolor": "#E5ECF6",
           "caxis": {
            "gridcolor": "white",
            "linecolor": "white",
            "ticks": ""
           }
          },
          "title": {
           "x": 0.05
          },
          "xaxis": {
           "automargin": true,
           "gridcolor": "white",
           "linecolor": "white",
           "ticks": "",
           "title": {
            "standoff": 15
           },
           "zerolinecolor": "white",
           "zerolinewidth": 2
          },
          "yaxis": {
           "automargin": true,
           "gridcolor": "white",
           "linecolor": "white",
           "ticks": "",
           "title": {
            "standoff": 15
           },
           "zerolinecolor": "white",
           "zerolinewidth": 2
          }
         }
        },
        "title": {
         "text": "Proportion of volumes traded by alliance members over time"
        },
        "xaxis": {
         "anchor": "y",
         "domain": [
          0,
          1
         ],
         "title": {
          "text": "month"
         }
        },
        "yaxis": {
         "anchor": "x",
         "domain": [
          0,
          1
         ],
         "title": {
          "text": "prop_alliance_teus"
         }
        }
       }
      }
     },
     "metadata": {},
     "output_type": "display_data"
    }
   ],
   "source": [
    "fig = px.line(\n",
    "        data_frame=port_alliance_df.filter(\n",
    "            pl.col('departure_port_code').is_in(\n",
    "                port_alliance_df.group_by('departure_port_code').agg(pl.col('total_teus').sum()).sort(by='total_teus', descending=True).limit(10).to_series()\n",
    "                )),\n",
    "        x='month', y='prop_alliance_teus',\n",
    "        color='departure_port_code',\n",
    "        title= 'Proportion of volumes traded by alliance members over time'\n",
    "    )\n",
    "fig.show()"
   ]
  },
  {
   "cell_type": "markdown",
   "metadata": {},
   "source": [
    "#### Sharing between Alliance Members\n",
    "\n",
    "One potential effect of alliances is that shared capacity formerly available to all carriers becomes utilized mostly by alliance members, reducing the capacity for smaller carriers to move cargo on ships owned by major carriers. "
   ]
  },
  {
   "cell_type": "code",
   "execution_count": 77,
   "metadata": {},
   "outputs": [],
   "source": [
    "share_df = (\n",
    "    exports_lf.rename({'unified_carrier_scac':'scac'})\n",
    "    #join alliance membership\n",
    "    .join(alliances_df.lazy(), on=['scac', 'year'], how='left')\n",
    "    #get shared cargo col\n",
    "    .with_columns(\n",
    "        (pl.col('teus')*(1-pl.col('primary_cargo'))).alias('shared_teus')\n",
    "    )\n",
    "    .collect()\n",
    ")"
   ]
  },
  {
   "cell_type": "code",
   "execution_count": 157,
   "metadata": {},
   "outputs": [],
   "source": [
    "def sharing_by_carrier(lf, scac, carrier_name=None):\n",
    "    '''\n",
    "    ad hoc function to inspect sharing by scac over time for a given carrier\n",
    "    inputs:\n",
    "        scac - str - the SCAC for the carrier of interest\n",
    "        carrier_name - str - the string name of the carrier of interest for plot title\n",
    "    '''\n",
    "    df = (\n",
    "        #rename scac\n",
    "        lf.rename({'unified_carrier_scac':'scac'})\n",
    "        #join alliance membership\n",
    "        .join(alliances_df.lazy(), on=['scac', 'year'], how='left')\n",
    "        #get shared cargo col\n",
    "        .with_columns((pl.col('teus')*(1-pl.col('primary_cargo'))).alias('shared_teus'))\n",
    "        #only maersk vessels but not maersk cargo\n",
    "        .filter((pl.col('vessel_owner')==scac)&(pl.col('scac')!=scac))\n",
    "        #get percentages of other carriers\n",
    "        .group_by('scac','month')\n",
    "        .agg(pl.col('shared_teus').sum())\n",
    "        .with_columns(pl.col('shared_teus').sum().over('month').alias('total_shared'))\n",
    "        .with_columns((pl.col('shared_teus')/pl.col('total_shared')).alias('prop_shared'))\n",
    "        #sort for plotting\n",
    "        .sort(by=['month', 'scac'])\n",
    "        #collect to dataframe and set dtypes\n",
    "        .collect()\n",
    "        #.with_columns(pl.col('month').str.to_datetime('%Y%m')) \n",
    "        .cast({'scac':pl.Utf8})\n",
    "    )\n",
    "    #plot\n",
    "    fig = px.bar(df, x='month', y='prop_shared', color='scac', \n",
    "                color_discrete_sequence=px.colors.qualitative.Set3,\n",
    "                title=str('Proportion of shared cargo on '+carrier_name+' ships by Carrier') if carrier_name else str('Proportion of shared cargo on '+scac+' ships by Carrier'),\n",
    "                labels={\n",
    "                    'prop_shared':'Percentage of Shared Cargo',\n",
    "                    'month':'Time'\n",
    "                })\n",
    "    fig.show()"
   ]
  },
  {
   "cell_type": "code",
   "execution_count": 158,
   "metadata": {},
   "outputs": [
    {
     "data": {
      "application/vnd.plotly.v1+json": {
       "config": {
        "plotlyServerURL": "https://plot.ly"
       },
       "data": [
        {
         "alignmentgroup": "True",
         "hovertemplate": "scac=CMDU<br>Time=%{x}<br>Percentage of Shared Cargo=%{y}<extra></extra>",
         "legendgroup": "CMDU",
         "marker": {
          "color": "rgb(141,211,199)",
          "pattern": {
           "shape": ""
          }
         },
         "name": "CMDU",
         "offsetgroup": "CMDU",
         "orientation": "v",
         "showlegend": true,
         "textposition": "auto",
         "type": "bar",
         "x": [
          "200501",
          "200502",
          "200503",
          "200505",
          "200506",
          "200507",
          "200509",
          "200512",
          "200601",
          "200604",
          "200608",
          "200703",
          "200704",
          "200705",
          "200706",
          "200707",
          "200708",
          "200709",
          "200712",
          "200801",
          "200802",
          "200804",
          "200805",
          "200806",
          "200807",
          "200808",
          "200809",
          "200810",
          "200811",
          "200812",
          "200901",
          "200902",
          "200903",
          "200904",
          "200905",
          "200906",
          "200907",
          "200908",
          "200909",
          "200910",
          "200911",
          "200912",
          "201001",
          "201002",
          "201003",
          "201004",
          "201005",
          "201006",
          "201007",
          "201008",
          "201009",
          "201010",
          "201011",
          "201012",
          "201101",
          "201102",
          "201103",
          "201104",
          "201105",
          "201106",
          "201107",
          "201108",
          "201109",
          "201110",
          "201111",
          "201112",
          "201201",
          "201202",
          "201203",
          "201204",
          "201205",
          "201206",
          "201207",
          "201208",
          "201209",
          "201210",
          "201211",
          "201212",
          "201301",
          "201302",
          "201304",
          "201305",
          "201306",
          "201307",
          "201308",
          "201310",
          "201311",
          "201401",
          "201402",
          "201403",
          "201404",
          "201405",
          "201406",
          "201407",
          "201408",
          "201409",
          "201410",
          "201411",
          "201412",
          "201501",
          "201502",
          "201804"
         ],
         "xaxis": "x",
         "y": [
          0.7432432432432434,
          0.7662337662337664,
          0.8370786516853932,
          0.7301587301587305,
          0.891891891891892,
          0.9264705882352942,
          0.967741935483871,
          1,
          0.9894736842105264,
          0.9615384615384616,
          0.9638554216867471,
          0.957983193277311,
          0.5,
          1,
          0.9491525423728814,
          0.9736842105263158,
          1,
          0.9782608695652174,
          1,
          1,
          0.6538461538461539,
          0.7017543859649125,
          0.3371924746743847,
          0.3037542662116039,
          0.3978365384615391,
          0.3731513083048923,
          0.24872448979591838,
          0.2994129158512723,
          0.3812949640287776,
          0.3426791277258569,
          0.427852348993289,
          0.41273100616016434,
          0.5315852205005966,
          0.4620611551528879,
          0.5028142589118183,
          0.55155155155155,
          0.5758818703855582,
          0.5631229235880404,
          0.625263157894732,
          0.8320209973753282,
          0.798690671031097,
          0.687376725838262,
          0.7812781278127785,
          0.6999232540291592,
          0.6714285714285669,
          0.628532360984496,
          0.737089201877929,
          0.8080959520239878,
          0.8076923076923038,
          0.8038674033149162,
          0.5234474017743989,
          0.5594965675057156,
          0.5253472222222182,
          0.5282317979197574,
          0.550651230101298,
          0.5029013539651827,
          0.5725413826679607,
          0.3979107312440661,
          0.6059584035975203,
          0.6122542295381728,
          0.4561294337274402,
          0.551707317073165,
          0.5197537198563328,
          0.6286701208980966,
          0.4762757385854955,
          0.5578684429641914,
          0.4675066312997325,
          0.3024691358024685,
          0.272606382978723,
          0.543859649122802,
          0.5435779816513724,
          0.4828188701223049,
          0.4273827534039339,
          0.42475305055200396,
          0.5300794551645858,
          0.4815465729349734,
          0.4244031830238726,
          0.5342146189735583,
          0.7514863258026143,
          0.4501466275659815,
          0.45705024311183157,
          0.9351457395808469,
          0.4205913092223999,
          0.4610154988642709,
          0.22534423218203503,
          0.46447591450979,
          0.3013862305054995,
          0.4033118135719073,
          0.373231761747822,
          0.37285730053188865,
          0.29298572643471704,
          0.2673606216778455,
          0.28779551618612476,
          0.30138665627777883,
          0.27815351896439544,
          0.394812608419381,
          0.3245644780014162,
          0.398565078487634,
          0.38556731397660876,
          0.5879102368827515,
          0.7053640137603151,
          0.00038764830944340014
         ],
         "yaxis": "y"
        },
        {
         "alignmentgroup": "True",
         "hovertemplate": "scac=ANLC<br>Time=%{x}<br>Percentage of Shared Cargo=%{y}<extra></extra>",
         "legendgroup": "ANLC",
         "marker": {
          "color": "rgb(255,255,179)",
          "pattern": {
           "shape": ""
          }
         },
         "name": "ANLC",
         "offsetgroup": "ANLC",
         "orientation": "v",
         "showlegend": true,
         "textposition": "auto",
         "type": "bar",
         "x": [
          "200501",
          "200502",
          "200505",
          "200506",
          "200507",
          "200509",
          "200601",
          "200604",
          "200608",
          "200703",
          "200704",
          "200706",
          "200707",
          "200709",
          "200802",
          "200804",
          "200805",
          "200806",
          "200807",
          "200808",
          "200809",
          "200810",
          "200811",
          "200812",
          "200901",
          "200902",
          "200903",
          "200904",
          "200905",
          "200906",
          "200907",
          "200908",
          "200909",
          "200910",
          "200911",
          "200912",
          "201001",
          "201002",
          "201003",
          "201004",
          "201005",
          "201006",
          "201007",
          "201008",
          "201009",
          "201010",
          "201011",
          "201012",
          "201101",
          "201102",
          "201103",
          "201104",
          "201105",
          "201106",
          "201107",
          "201108",
          "201109",
          "201110",
          "201111",
          "201112",
          "201201",
          "201202",
          "201203",
          "201204",
          "201205",
          "201206",
          "201207",
          "201208",
          "201209",
          "201210",
          "201211",
          "201212",
          "201301",
          "201302",
          "201304",
          "201305",
          "201306",
          "201307",
          "201308",
          "201309",
          "201310",
          "201311",
          "201401",
          "201402",
          "201403",
          "201404",
          "201405",
          "201406",
          "201407",
          "201408",
          "201409",
          "201410",
          "201411",
          "201412",
          "201501",
          "201502",
          "202203"
         ],
         "xaxis": "x",
         "y": [
          0.013513513513513502,
          0.012987012987012977,
          0.04761904761904759,
          0.08108108108108102,
          0.07352941176470584,
          0.03225806451612901,
          0.010526315789473698,
          0.03846153846153842,
          0.03614457831325298,
          0.042016806722689155,
          0.5,
          0.05084745762711859,
          0.026315789473684188,
          0.021739130434782587,
          0.3461538461538461,
          0.16140350877192966,
          0.06801736613603454,
          0.12627986348122883,
          0.11778846153846104,
          0.18430034129692785,
          0.16709183673469344,
          0.13111545988258266,
          0.13669064748201393,
          0.10591900311526457,
          0.08557046979865758,
          0.09856262833675554,
          0.11084624553039274,
          0.022650056625141454,
          0.0272045028142589,
          0.052052052052052114,
          0.05578342904019717,
          0.03156146179401983,
          0.08491228070175515,
          0.12598425196850382,
          0.15057283142389485,
          0.08284023668639112,
          0.08550855085508659,
          0.07904834996162788,
          0.12255639097744514,
          0.13673655423883585,
          0.1296948356807539,
          0.1424287856071965,
          0.10998650472334909,
          0.08149171270718271,
          0.1736375158428384,
          0.1327231121281483,
          0.1524305555555569,
          0.16716196136701728,
          0.16642547033285243,
          0.12282398452611189,
          0.09591041869523063,
          0.08641975308641954,
          0.13209668353007503,
          0.1710105166895323,
          0.15805849408836523,
          0.15658536585366054,
          0.12775782452539983,
          0.11917098445595936,
          0.07251566696508491,
          0.1315570358034999,
          0.1438992042440332,
          0.08641975308641973,
          0.12367021276595683,
          0.15721997300944818,
          0.09633027522935915,
          0.08852649970879549,
          0.10514372163388856,
          0.1307379430563644,
          0.08853575482406317,
          0.04481546572934989,
          0.12201591511936337,
          0.09097978227060684,
          0.07372175980975078,
          0.09481915933529017,
          0.08265802269043739,
          0.06485426041915299,
          0.08597200352757475,
          0.08018088083842755,
          0.09829298655594285,
          0.21241083823549242,
          0.1033852750208555,
          0.11659520014732057,
          0.14708904532283704,
          0.13519173760677705,
          0.10207647962962774,
          0.12002270686722578,
          0.14801842613178468,
          0.1444365200193462,
          0.08646721063957,
          0.18901819045516047,
          0.26019141704384796,
          0.13628988967394712,
          0.09446240748487258,
          0.05539430009126141,
          0.1229541809554632,
          0.08523120502133907,
          0.05469357391315703
         ],
         "yaxis": "y"
        },
        {
         "alignmentgroup": "True",
         "hovertemplate": "scac=NCLL<br>Time=%{x}<br>Percentage of Shared Cargo=%{y}<extra></extra>",
         "legendgroup": "NCLL",
         "marker": {
          "color": "rgb(190,186,218)",
          "pattern": {
           "shape": ""
          }
         },
         "name": "NCLL",
         "offsetgroup": "NCLL",
         "orientation": "v",
         "showlegend": true,
         "textposition": "auto",
         "type": "bar",
         "x": [
          "200501",
          "200502",
          "200503",
          "200505"
         ],
         "xaxis": "x",
         "y": [
          0.24324324324324306,
          0.22077922077922066,
          0.16292134831460678,
          0.22222222222222207
         ],
         "yaxis": "y"
        },
        {
         "alignmentgroup": "True",
         "hovertemplate": "scac=LLTR<br>Time=%{x}<br>Percentage of Shared Cargo=%{y}<extra></extra>",
         "legendgroup": "LLTR",
         "marker": {
          "color": "rgb(251,128,114)",
          "pattern": {
           "shape": ""
          }
         },
         "name": "LLTR",
         "offsetgroup": "LLTR",
         "orientation": "v",
         "showlegend": true,
         "textposition": "auto",
         "type": "bar",
         "x": [
          "200506"
         ],
         "xaxis": "x",
         "y": [
          0.027027027027027008
         ],
         "yaxis": "y"
        },
        {
         "alignmentgroup": "True",
         "hovertemplate": "scac=MLSL<br>Time=%{x}<br>Percentage of Shared Cargo=%{y}<extra></extra>",
         "legendgroup": "MLSL",
         "marker": {
          "color": "rgb(128,177,211)",
          "pattern": {
           "shape": ""
          }
         },
         "name": "MLSL",
         "offsetgroup": "MLSL",
         "orientation": "v",
         "showlegend": true,
         "textposition": "auto",
         "type": "bar",
         "x": [
          "200804",
          "200805",
          "200806",
          "200807",
          "200808",
          "200809",
          "200810",
          "200811",
          "200812",
          "200901",
          "200902",
          "200903",
          "200904",
          "200905",
          "200906",
          "200907",
          "200908",
          "200909",
          "200912",
          "201001",
          "201002",
          "201003",
          "201004",
          "201005",
          "201007",
          "201008",
          "201009",
          "201010",
          "201011",
          "201012",
          "201101",
          "201102",
          "201103",
          "201104",
          "201105",
          "201106",
          "201107",
          "201108",
          "201109",
          "201110",
          "201111",
          "201112",
          "201201",
          "201202",
          "201203",
          "201204",
          "201205",
          "201206",
          "201207",
          "201208",
          "201209",
          "201210",
          "201211",
          "201212",
          "201301",
          "201302",
          "201304",
          "201306",
          "201307",
          "201308",
          "201309",
          "201310",
          "201311",
          "201401",
          "201402",
          "201403",
          "201404",
          "201405",
          "201406",
          "201407",
          "201408",
          "201409",
          "201410",
          "201411",
          "201412",
          "201501",
          "201502",
          "201503",
          "201504",
          "201505",
          "201506",
          "201507",
          "201508",
          "201509",
          "201510",
          "201511",
          "201512",
          "201601",
          "201602",
          "201603",
          "201604",
          "201605",
          "201606",
          "201607",
          "201608",
          "201609",
          "201610",
          "201611",
          "201612",
          "201701",
          "201702",
          "201703",
          "201704",
          "201705",
          "201706",
          "201707",
          "201708",
          "201709",
          "201710",
          "201711",
          "201712",
          "201801",
          "201802",
          "201803",
          "201804",
          "201805",
          "201806",
          "201807",
          "201808",
          "201809",
          "201810",
          "201811",
          "201812",
          "201901",
          "201902",
          "201903",
          "201904",
          "201905",
          "201906",
          "201907",
          "201908",
          "201909",
          "201910",
          "201911",
          "201912",
          "202001",
          "202002",
          "202003",
          "202004",
          "202005",
          "202006",
          "202007",
          "202008",
          "202009",
          "202010",
          "202011",
          "202012",
          "202101",
          "202102",
          "202103",
          "202104",
          "202105",
          "202106",
          "202107",
          "202108",
          "202109",
          "202110",
          "202111",
          "202112",
          "202201",
          "202202",
          "202203",
          "202204",
          "202205",
          "202206",
          "202207",
          "202208",
          "202209",
          "202210",
          "202211",
          "202212",
          "202301",
          "202303",
          "202305",
          "202306",
          "202307",
          "202308",
          "202309",
          "202310"
         ],
         "xaxis": "x",
         "y": [
          0.10526315789473671,
          0.5643994211287995,
          0.4539249146757679,
          0.34495192307692346,
          0.3583617747440276,
          0.3520408163265312,
          0.3923679060665369,
          0.3280575539568349,
          0.3909657320872279,
          0.35570469798657717,
          0.4188911704312116,
          0.3420738974970202,
          0.4869762174405437,
          0.4315196998123843,
          0.3303303303303319,
          0.3109105824446298,
          0.3671096345514947,
          0.22175438596491553,
          0.1252465483234723,
          0.0873087308730884,
          0.18802762854950414,
          0.16992481203007764,
          0.1923427529626293,
          0.0856807511737105,
          0.05398110661268658,
          0.08011049723756945,
          0.2889733840304181,
          0.292334096109843,
          0.3138888888888916,
          0.29494799405646444,
          0.2742402315484834,
          0.37330754352031076,
          0.32570593962999245,
          0.5052231718898371,
          0.24789207419899242,
          0.20484682213077673,
          0.379589296826385,
          0.274634146341467,
          0.3386351975372,
          0.23229706390328403,
          0.3894359892569398,
          0.28059950041632165,
          0.382625994694961,
          0.5987654320987662,
          0.5997340425531924,
          0.2834008097166025,
          0.3474770642201856,
          0.41991846243447906,
          0.4636913767019658,
          0.44218477629285174,
          0.3802497162315553,
          0.4736379613356767,
          0.45358090185676403,
          0.37480559875583486,
          0.17241379310344934,
          0.4550342130987282,
          0.46029173419773106,
          0.49343668725002543,
          0.45880362029730154,
          0.6763627812620221,
          0.7875891617645077,
          0.42885538468619305,
          0.5820185693471798,
          0.4488575659665003,
          0.4902269501889195,
          0.5250662198384836,
          0.5869915666980572,
          0.5846209521903697,
          0.5677679637945291,
          0.6121461330826512,
          0.532828290580444,
          0.3440609708695365,
          0.5391456323246366,
          0.5069725140274934,
          0.55903838593213,
          0.2891355821617854,
          0.20940478121834577,
          1,
          1,
          1,
          1,
          0.9993221712883361,
          0.9990498534794147,
          0.9977447582239067,
          0.9990006292017483,
          0.9977332908389893,
          0.9992974470318594,
          0.9997890862689889,
          0.9986493975477012,
          0.9997352946607557,
          0.9998659366038173,
          0.9993224011855072,
          0.9966776982524573,
          1,
          0.9971570453753439,
          1,
          0.999593720531503,
          0.9986161598913038,
          0.9994467184920272,
          1,
          1,
          0.9981478766543563,
          0.9970281995289487,
          0.9053921900789516,
          0.7751834087702472,
          0.7049925884131629,
          0.7988413982981195,
          0.7462187830866743,
          0.8763525940248418,
          0.8333572908361132,
          0.7324656435341949,
          0.7874250296707355,
          0.6594532673342294,
          0.727553979813725,
          0.828920883557582,
          0.6543827412740898,
          0.6935254747999082,
          0.8032902500157683,
          0.8121628108071711,
          0.6830716018215238,
          0.6784234396419424,
          0.6324639880892693,
          0.7394281078132674,
          0.6441336361194816,
          0.6558277358405423,
          0.706912588763886,
          0.6017602888682427,
          0.5539959123467518,
          0.660357083217236,
          0.7156360788131259,
          0.6312778161544759,
          0.6303398199337366,
          0.67808146562759,
          0.6916587348529853,
          0.5344593033083542,
          0.6253066338984542,
          0.6512282964430043,
          0.7560622050694105,
          0.5821992724919957,
          0.7631123245608767,
          0.7448206648841599,
          0.6602394745765513,
          0.6652289540722994,
          0.719635934439679,
          0.76403399627101,
          0.7784398573757608,
          0.6953404074017996,
          0.8306874042080078,
          0.7725280497487652,
          0.7935264452271625,
          0.7478586409981944,
          0.7809555988064733,
          0.7467175070662528,
          0.8261780521299092,
          0.7352180255312718,
          0.6860519366930304,
          0.7120649610767021,
          0.8866147482529624,
          0.9673018235362288,
          0.8500506487649954,
          0.9648089007502773,
          0.7281962580520703,
          0.8925683120221328,
          0.8952205656997505,
          0.8906707688034016,
          0.9067861783724503,
          0.9248967330078859,
          0.9894784831573213,
          1,
          0.97989047886893,
          0.9567206201093498,
          0.9679765260488619,
          0.9772915281179543,
          0.9945977177753466,
          0.9960347750230478,
          0.9922802277332818,
          0.997508525514256,
          0.9992409895977624,
          1
         ],
         "yaxis": "y"
        },
        {
         "alignmentgroup": "True",
         "hovertemplate": "scac=WHLC<br>Time=%{x}<br>Percentage of Shared Cargo=%{y}<extra></extra>",
         "legendgroup": "WHLC",
         "marker": {
          "color": "rgb(253,180,98)",
          "pattern": {
           "shape": ""
          }
         },
         "name": "WHLC",
         "offsetgroup": "WHLC",
         "orientation": "v",
         "showlegend": true,
         "textposition": "auto",
         "type": "bar",
         "x": [
          "200804",
          "200805",
          "200806",
          "200807",
          "200808",
          "200809",
          "200810",
          "200811",
          "200812",
          "200901",
          "200902"
         ],
         "xaxis": "x",
         "y": [
          0.028070175438596433,
          0.005788712011577402,
          0.07508532423208197,
          0.11418269230769183,
          0.05460750853242307,
          0.22193877551020394,
          0.16438356164383527,
          0.12230215827338094,
          0.14174454828660388,
          0.09731543624161057,
          0.059548254620123114
         ],
         "yaxis": "y"
        },
        {
         "alignmentgroup": "True",
         "hovertemplate": "scac=SAFM<br>Time=%{x}<br>Percentage of Shared Cargo=%{y}<extra></extra>",
         "legendgroup": "SAFM",
         "marker": {
          "color": "rgb(179,222,105)",
          "pattern": {
           "shape": ""
          }
         },
         "name": "SAFM",
         "offsetgroup": "SAFM",
         "orientation": "v",
         "showlegend": true,
         "textposition": "auto",
         "type": "bar",
         "x": [
          "200804",
          "200805",
          "200806",
          "200807",
          "200808",
          "200809",
          "200810",
          "200811",
          "200812",
          "200901",
          "200902",
          "200903",
          "200904",
          "200905",
          "200906",
          "200907",
          "200908",
          "200909",
          "200912",
          "201001",
          "201002",
          "201003",
          "201004",
          "201005",
          "201010",
          "201011",
          "201012",
          "201101",
          "201102",
          "201103",
          "201104",
          "201106",
          "201107",
          "201108",
          "201109",
          "201110",
          "201111",
          "201112",
          "201208",
          "201301",
          "201310",
          "201401",
          "201402",
          "201409",
          "201507",
          "201508",
          "201509",
          "201510",
          "201511",
          "201512",
          "201601",
          "201602",
          "201603",
          "201604",
          "201605",
          "201606",
          "201608",
          "201610",
          "201611",
          "201612",
          "201703",
          "201704",
          "201705",
          "201706",
          "201707",
          "201709",
          "201710",
          "201711",
          "201712",
          "201801",
          "201802",
          "201803",
          "201804",
          "201806",
          "201807",
          "201808",
          "201809",
          "201810",
          "201811",
          "201812",
          "201901",
          "201902",
          "201903",
          "201904",
          "201905",
          "201906",
          "201907",
          "201908",
          "201909",
          "201910",
          "201911",
          "201912",
          "202001",
          "202002",
          "202003",
          "202004",
          "202005",
          "202006",
          "202007",
          "202008",
          "202009",
          "202010",
          "202011",
          "202012",
          "202101"
         ],
         "xaxis": "x",
         "y": [
          0.003508771929824554,
          0.02460202604920396,
          0.010238907849829355,
          0.019230769230769176,
          0.019340159271899818,
          0.01020408163265304,
          0.01272015655577295,
          0.03165467625899276,
          0.018691588785046686,
          0.010067114093959705,
          0.010266940451745357,
          0.008343265792610216,
          0.028312570781426825,
          0.034709193245778605,
          0.05305305305305312,
          0.04019688269073035,
          0.03820598006644506,
          0.016140350877193156,
          0.038461538461538804,
          0.016201620162016428,
          0.006907137375287884,
          0.0037593984962406447,
          0.006836827711941763,
          0.004107981220657352,
          0.0005720823798627065,
          0.0017361111111111214,
          0.0022288261515602185,
          0.0007235890014471823,
          0.0009671179883945826,
          0.0014605647517040164,
          0.008547008547008536,
          0.0004572473708276242,
          0.0031113876789048162,
          0.0009756097560975699,
          0.0015392508978963784,
          0.003454231433506069,
          0.05371530886302593,
          0.012905911740216715,
          0.0005810575246949513,
          0.0023781212841855076,
          0.0032834257831613964,
          0.0007415751387554224,
          0.0013495504564814376,
          0.0009350036672345748,
          0.0006778287116638759,
          0.0009501465205853139,
          0.0022552417760932308,
          0.0009993707982517037,
          0.0022667091610106545,
          0.0007025529681405458,
          0.00021091373101117313,
          0.0013506024522987744,
          0.00026470533924431787,
          0.00013406339618270223,
          0.0006775988144928365,
          0.0033223017475426143,
          0.002842954624656147,
          0.0004062794684969899,
          0.0013838401086961852,
          0.0005532815079728359,
          0.001852123345643611,
          0.0009906001570171104,
          0.0001344115656841893,
          0.0007627218465631176,
          0.00030831719049099815,
          0.0003518427990792673,
          0.0013531449497514773,
          0.0008490292766046906,
          0.0009171823778246217,
          0.00042444498449387754,
          0.0006394246653807234,
          0.0015813527266897113,
          0.0006011651662767379,
          0.0006560590704675988,
          0.0003454262142668821,
          0.0015244641499661724,
          0.00387358084191599,
          0.004750408371085426,
          0.004693172789101505,
          0.004920813931105841,
          0.00798372156324026,
          0.00474889270381497,
          0.004980275677214016,
          0.00589083444162971,
          0.005855835926300915,
          0.013432656334823217,
          0.004504714783590004,
          0.012470540575656016,
          0.008847709093485341,
          0.004319072223988921,
          0.0025922360198720167,
          0.0005344940454213066,
          0.003540049712832097,
          0.008836272900438015,
          0.014096458025293048,
          0.007033831759803918,
          0.007329311393561253,
          0.010534484277191261,
          0.004448714603460977,
          0.0029292672639325184,
          0.0018792318465393045,
          0.009850781246118831,
          0.010811635873324997,
          0.0033933244825521828,
          0.004190653281479403
         ],
         "yaxis": "y"
        },
        {
         "alignmentgroup": "True",
         "hovertemplate": "scac=MOLU<br>Time=%{x}<br>Percentage of Shared Cargo=%{y}<extra></extra>",
         "legendgroup": "MOLU",
         "marker": {
          "color": "rgb(252,205,229)",
          "pattern": {
           "shape": ""
          }
         },
         "name": "MOLU",
         "offsetgroup": "MOLU",
         "orientation": "v",
         "showlegend": true,
         "textposition": "auto",
         "type": "bar",
         "x": [
          "200806"
         ],
         "xaxis": "x",
         "y": [
          0.030716723549488067
         ],
         "yaxis": "y"
        },
        {
         "alignmentgroup": "True",
         "hovertemplate": "scac=NYKS<br>Time=%{x}<br>Percentage of Shared Cargo=%{y}<extra></extra>",
         "legendgroup": "NYKS",
         "marker": {
          "color": "rgb(217,217,217)",
          "pattern": {
           "shape": ""
          }
         },
         "name": "NYKS",
         "offsetgroup": "NYKS",
         "orientation": "v",
         "showlegend": true,
         "textposition": "auto",
         "type": "bar",
         "x": [
          "200807"
         ],
         "xaxis": "x",
         "y": [
          0.006009615384615367
         ],
         "yaxis": "y"
        },
        {
         "alignmentgroup": "True",
         "hovertemplate": "scac=MDLV<br>Time=%{x}<br>Percentage of Shared Cargo=%{y}<extra></extra>",
         "legendgroup": "MDLV",
         "marker": {
          "color": "rgb(188,128,189)",
          "pattern": {
           "shape": ""
          }
         },
         "name": "MDLV",
         "offsetgroup": "MDLV",
         "orientation": "v",
         "showlegend": true,
         "textposition": "auto",
         "type": "bar",
         "x": [
          "200808",
          "200903",
          "200905",
          "200906",
          "200907",
          "200909",
          "200910",
          "200911",
          "200912",
          "201001",
          "201002",
          "201003",
          "201004",
          "201005",
          "201006",
          "201007",
          "201008",
          "201009",
          "201010",
          "201011",
          "201012",
          "201101",
          "201103",
          "201104",
          "201105",
          "201106",
          "201107",
          "201108",
          "201109",
          "201110",
          "201111",
          "201112",
          "201201",
          "201202",
          "201203",
          "201204",
          "201205",
          "201206",
          "201207",
          "201208"
         ],
         "xaxis": "x",
         "y": [
          0.010238907849829315,
          0.0071513706793801856,
          0.0037523452157598456,
          0.013013013013013015,
          0.017227235438884422,
          0.05192982456140403,
          0.04199475065616791,
          0.05073649754500814,
          0.04635108481262369,
          0.02970297029703014,
          0.026093630084420914,
          0.03233082706766958,
          0.035551504102097155,
          0.04342723004694913,
          0.04947526236881573,
          0.0283400809716605,
          0.034530386740331646,
          0.013941698352344692,
          0.014874141876430377,
          0.006597222222222261,
          0.00742942050520073,
          0.007959479015919006,
          0.00438169425511205,
          0.0018993352326685635,
          0.00730747611017434,
          0.011431184270690611,
          0.0031113876789048162,
          0.016097560975609916,
          0.012314007183171032,
          0.016407599309153833,
          0.008057296329453883,
          0.017069109075770496,
          0.00596816976127325,
          0.012345679012345668,
          0.0039893617021276445,
          0.015519568151147205,
          0.012614678899082734,
          0.008736167734420602,
          0.003782148260211819,
          0.0017431725740848537
         ],
         "yaxis": "y"
        },
        {
         "alignmentgroup": "True",
         "hovertemplate": "scac=CGMA<br>Time=%{x}<br>Percentage of Shared Cargo=%{y}<extra></extra>",
         "legendgroup": "CGMA",
         "marker": {
          "color": "rgb(204,235,197)",
          "pattern": {
           "shape": ""
          }
         },
         "name": "CGMA",
         "offsetgroup": "CGMA",
         "orientation": "v",
         "showlegend": true,
         "textposition": "auto",
         "type": "bar",
         "x": [
          "200901",
          "200912"
         ],
         "xaxis": "x",
         "y": [
          0.02348993288590598,
          0.019723865877712195
         ],
         "yaxis": "y"
        },
        {
         "alignmentgroup": "True",
         "hovertemplate": "scac=SILJ<br>Time=%{x}<br>Percentage of Shared Cargo=%{y}<extra></extra>",
         "legendgroup": "SILJ",
         "marker": {
          "color": "rgb(255,237,111)",
          "pattern": {
           "shape": ""
          }
         },
         "name": "SILJ",
         "offsetgroup": "SILJ",
         "orientation": "v",
         "showlegend": true,
         "textposition": "auto",
         "type": "bar",
         "x": [
          "201105"
         ],
         "xaxis": "x",
         "y": [
          0.006745362563237853
         ],
         "yaxis": "y"
        },
        {
         "alignmentgroup": "True",
         "hovertemplate": "scac=CSAV<br>Time=%{x}<br>Percentage of Shared Cargo=%{y}<extra></extra>",
         "legendgroup": "CSAV",
         "marker": {
          "color": "rgb(141,211,199)",
          "pattern": {
           "shape": ""
          }
         },
         "name": "CSAV",
         "offsetgroup": "CSAV",
         "orientation": "v",
         "showlegend": true,
         "textposition": "auto",
         "type": "bar",
         "x": [
          "201209"
         ],
         "xaxis": "x",
         "y": [
          0.0011350737797956824
         ],
         "yaxis": "y"
        },
        {
         "alignmentgroup": "True",
         "hovertemplate": "scac=SUDU<br>Time=%{x}<br>Percentage of Shared Cargo=%{y}<extra></extra>",
         "legendgroup": "SUDU",
         "marker": {
          "color": "rgb(255,255,179)",
          "pattern": {
           "shape": ""
          }
         },
         "name": "SUDU",
         "offsetgroup": "SUDU",
         "orientation": "v",
         "showlegend": true,
         "textposition": "auto",
         "type": "bar",
         "x": [
          "201704",
          "201705",
          "201706",
          "201707",
          "201708",
          "201709",
          "201710",
          "201711",
          "201712",
          "201801",
          "201802",
          "201803",
          "201804",
          "201805",
          "201806",
          "201807",
          "201808",
          "201809",
          "201810",
          "201811",
          "201812",
          "201901",
          "201902",
          "201903",
          "201904",
          "201905",
          "201906",
          "201907",
          "201908",
          "201909",
          "201910",
          "201911",
          "201912",
          "202001",
          "202002",
          "202003",
          "202004",
          "202005",
          "202006",
          "202007",
          "202008",
          "202009",
          "202010",
          "202011",
          "202012",
          "202101",
          "202102",
          "202103",
          "202104",
          "202105",
          "202106",
          "202107",
          "202108",
          "202109",
          "202110",
          "202111",
          "202112",
          "202201",
          "202202",
          "202203",
          "202204",
          "202205",
          "202206",
          "202207",
          "202208",
          "202209",
          "202211",
          "202212",
          "202301",
          "202303",
          "202305",
          "202306",
          "202307",
          "202308",
          "202309"
         ],
         "xaxis": "x",
         "y": [
          0.0019812003140342207,
          0.00940880959789325,
          0.009495886989710815,
          0.009249515714729945,
          0.010782842994256888,
          0.012578380067083807,
          0.006968696491220107,
          0.00617475837530684,
          0.04274069880662737,
          0.020612109559483928,
          0.03548806892863014,
          0.031627054533794226,
          0.01786319351222307,
          0.016795113451585526,
          0.024142973793207637,
          0.007369092571026818,
          0.005335624524881603,
          0.010778659734027104,
          0.007457036396471308,
          0.02670638801417285,
          0.00825993767007052,
          0.01940230007810714,
          0.02600584099708198,
          0.02758306528918532,
          0.04285293289891416,
          0.05582563583073538,
          0.02763509240230106,
          0.020634499976444533,
          0.019398618673242694,
          0.024388440780379834,
          0.01652962365306043,
          0.043314190103245505,
          0.03233020857242128,
          0.03298039041554848,
          0.03150443682492532,
          0.03078380934839945,
          0.03337643347357213,
          0.02170392336418326,
          0.05839145741717479,
          0.04279519941606767,
          0.054391398713376546,
          0.0472814732589289,
          0.05144322107123013,
          0.06603339936981456,
          0.07501033066694299,
          0.08281991603345468,
          0.06851762880135556,
          0.08516500358065453,
          0.04549644320400627,
          0.05102749523867299,
          0.051581299181092166,
          0.07889001430745343,
          0.016655873714131134,
          0.0487766452840056,
          0.04702360142583341,
          0.019368389374495906,
          0.0026129698022953705,
          0.07837672108187964,
          0.00877758918365557,
          0.08169168933603917,
          0.005277706946714455,
          0.024175854101534777,
          0.09280242667659847,
          0.09321382162754964,
          0.07510326699211416,
          0.010521516842678623,
          0.02010952113107006,
          0.04327937989065018,
          0.03202347395113814,
          0.022708471882045708,
          0.0054022822246534066,
          0.00396522497695213,
          0.0077197722667181334,
          0.0024914744857440947,
          0.0007590104022375626
         ],
         "yaxis": "y"
        },
        {
         "alignmentgroup": "True",
         "hovertemplate": "scac=HDMU<br>Time=%{x}<br>Percentage of Shared Cargo=%{y}<extra></extra>",
         "legendgroup": "HDMU",
         "marker": {
          "color": "rgb(190,186,218)",
          "pattern": {
           "shape": ""
          }
         },
         "name": "HDMU",
         "offsetgroup": "HDMU",
         "orientation": "v",
         "showlegend": true,
         "textposition": "auto",
         "type": "bar",
         "x": [
          "201705",
          "201706",
          "201707",
          "201708",
          "201709",
          "201710",
          "201711",
          "201712",
          "201801",
          "201802",
          "201803",
          "201804",
          "201805",
          "201806",
          "201807",
          "201808",
          "201809",
          "201810",
          "201811",
          "201812",
          "201901",
          "201902",
          "201903",
          "201904",
          "201905",
          "201906",
          "201907",
          "201908",
          "201909",
          "201910",
          "201911",
          "201912",
          "202001",
          "202002",
          "202003",
          "202004"
         ],
         "xaxis": "x",
         "y": [
          0.08506458875747097,
          0.21455798239347892,
          0.2854495786816161,
          0.1903757587076236,
          0.24085099404716262,
          0.11532556453418663,
          0.15961892151197532,
          0.22387647528135313,
          0.1915384157852868,
          0.3044192390717597,
          0.23923761292579113,
          0.15222710945447487,
          0.32882214527432463,
          0.28167549233641653,
          0.18899523119893816,
          0.18097710051798105,
          0.30227615760253296,
          0.3093691155905009,
          0.3361364511074564,
          0.24739114058555617,
          0.3284803422391711,
          0.31341753045856063,
          0.26052407026971464,
          0.3494959437912133,
          0.38432261589621186,
          0.2985751680456398,
          0.2592247064268396,
          0.33685302459662536,
          0.33642403019239836,
          0.30106983849536056,
          0.26243483902389725,
          0.4326759940738031,
          0.33817292597316534,
          0.3084309938316324,
          0.19352600605330106,
          0.3538541790783614
         ],
         "yaxis": "y"
        },
        {
         "alignmentgroup": "True",
         "hovertemplate": "scac=ZIMU<br>Time=%{x}<br>Percentage of Shared Cargo=%{y}<extra></extra>",
         "legendgroup": "ZIMU",
         "marker": {
          "color": "rgb(251,128,114)",
          "pattern": {
           "shape": ""
          }
         },
         "name": "ZIMU",
         "offsetgroup": "ZIMU",
         "orientation": "v",
         "showlegend": true,
         "textposition": "auto",
         "type": "bar",
         "x": [
          "202003",
          "202004",
          "202107",
          "202112"
         ],
         "xaxis": "x",
         "y": [
          0.005531521503596006,
          0.023536283196266956,
          0.006794355299206516,
          0.01829078861606759
         ],
         "yaxis": "y"
        },
        {
         "alignmentgroup": "True",
         "hovertemplate": "scac=SMLM<br>Time=%{x}<br>Percentage of Shared Cargo=%{y}<extra></extra>",
         "legendgroup": "SMLM",
         "marker": {
          "color": "rgb(128,177,211)",
          "pattern": {
           "shape": ""
          }
         },
         "name": "SMLM",
         "offsetgroup": "SMLM",
         "orientation": "v",
         "showlegend": true,
         "textposition": "auto",
         "type": "bar",
         "x": [
          "202005",
          "202006",
          "202007",
          "202008",
          "202009",
          "202010",
          "202011",
          "202012",
          "202101",
          "202102",
          "202103",
          "202104",
          "202105",
          "202106",
          "202107",
          "202108",
          "202109",
          "202110",
          "202111",
          "202112",
          "202201",
          "202202",
          "202203",
          "202204",
          "202205",
          "202206"
         ],
         "xaxis": "x",
         "y": [
          0.20785444068137868,
          0.18625339342147398,
          0.29251661140392005,
          0.27745037995039146,
          0.23120336045485293,
          0.1746720014116411,
          0.14471510738109952,
          0.22625593744870529,
          0.08230202647705802,
          0.1589543214498793,
          0.12130855119218298,
          0.2066449157977994,
          0.16801690595485363,
          0.20170119375265508,
          0.08813757826343076,
          0.24812610075459715,
          0.265171418022964,
          0.24091143749746446,
          0.09401686237254171,
          0.011794418045408222,
          0.07157263015312504,
          0.026413510066067125,
          0.06175307133445002,
          0.10215398103115271,
          0.0806035801987148,
          0.01652680452000005
         ],
         "yaxis": "y"
        },
        {
         "alignmentgroup": "True",
         "hovertemplate": "scac=HAPL<br>Time=%{x}<br>Percentage of Shared Cargo=%{y}<extra></extra>",
         "legendgroup": "HAPL",
         "marker": {
          "color": "rgb(253,180,98)",
          "pattern": {
           "shape": ""
          }
         },
         "name": "HAPL",
         "offsetgroup": "HAPL",
         "orientation": "v",
         "showlegend": true,
         "textposition": "auto",
         "type": "bar",
         "x": [
          "202203"
         ],
         "xaxis": "x",
         "y": [
          0.07366540736428337
         ],
         "yaxis": "y"
        }
       ],
       "layout": {
        "barmode": "relative",
        "legend": {
         "title": {
          "text": "scac"
         },
         "tracegroupgap": 0
        },
        "template": {
         "data": {
          "bar": [
           {
            "error_x": {
             "color": "#2a3f5f"
            },
            "error_y": {
             "color": "#2a3f5f"
            },
            "marker": {
             "line": {
              "color": "#E5ECF6",
              "width": 0.5
             },
             "pattern": {
              "fillmode": "overlay",
              "size": 10,
              "solidity": 0.2
             }
            },
            "type": "bar"
           }
          ],
          "barpolar": [
           {
            "marker": {
             "line": {
              "color": "#E5ECF6",
              "width": 0.5
             },
             "pattern": {
              "fillmode": "overlay",
              "size": 10,
              "solidity": 0.2
             }
            },
            "type": "barpolar"
           }
          ],
          "carpet": [
           {
            "aaxis": {
             "endlinecolor": "#2a3f5f",
             "gridcolor": "white",
             "linecolor": "white",
             "minorgridcolor": "white",
             "startlinecolor": "#2a3f5f"
            },
            "baxis": {
             "endlinecolor": "#2a3f5f",
             "gridcolor": "white",
             "linecolor": "white",
             "minorgridcolor": "white",
             "startlinecolor": "#2a3f5f"
            },
            "type": "carpet"
           }
          ],
          "choropleth": [
           {
            "colorbar": {
             "outlinewidth": 0,
             "ticks": ""
            },
            "type": "choropleth"
           }
          ],
          "contour": [
           {
            "colorbar": {
             "outlinewidth": 0,
             "ticks": ""
            },
            "colorscale": [
             [
              0,
              "#0d0887"
             ],
             [
              0.1111111111111111,
              "#46039f"
             ],
             [
              0.2222222222222222,
              "#7201a8"
             ],
             [
              0.3333333333333333,
              "#9c179e"
             ],
             [
              0.4444444444444444,
              "#bd3786"
             ],
             [
              0.5555555555555556,
              "#d8576b"
             ],
             [
              0.6666666666666666,
              "#ed7953"
             ],
             [
              0.7777777777777778,
              "#fb9f3a"
             ],
             [
              0.8888888888888888,
              "#fdca26"
             ],
             [
              1,
              "#f0f921"
             ]
            ],
            "type": "contour"
           }
          ],
          "contourcarpet": [
           {
            "colorbar": {
             "outlinewidth": 0,
             "ticks": ""
            },
            "type": "contourcarpet"
           }
          ],
          "heatmap": [
           {
            "colorbar": {
             "outlinewidth": 0,
             "ticks": ""
            },
            "colorscale": [
             [
              0,
              "#0d0887"
             ],
             [
              0.1111111111111111,
              "#46039f"
             ],
             [
              0.2222222222222222,
              "#7201a8"
             ],
             [
              0.3333333333333333,
              "#9c179e"
             ],
             [
              0.4444444444444444,
              "#bd3786"
             ],
             [
              0.5555555555555556,
              "#d8576b"
             ],
             [
              0.6666666666666666,
              "#ed7953"
             ],
             [
              0.7777777777777778,
              "#fb9f3a"
             ],
             [
              0.8888888888888888,
              "#fdca26"
             ],
             [
              1,
              "#f0f921"
             ]
            ],
            "type": "heatmap"
           }
          ],
          "heatmapgl": [
           {
            "colorbar": {
             "outlinewidth": 0,
             "ticks": ""
            },
            "colorscale": [
             [
              0,
              "#0d0887"
             ],
             [
              0.1111111111111111,
              "#46039f"
             ],
             [
              0.2222222222222222,
              "#7201a8"
             ],
             [
              0.3333333333333333,
              "#9c179e"
             ],
             [
              0.4444444444444444,
              "#bd3786"
             ],
             [
              0.5555555555555556,
              "#d8576b"
             ],
             [
              0.6666666666666666,
              "#ed7953"
             ],
             [
              0.7777777777777778,
              "#fb9f3a"
             ],
             [
              0.8888888888888888,
              "#fdca26"
             ],
             [
              1,
              "#f0f921"
             ]
            ],
            "type": "heatmapgl"
           }
          ],
          "histogram": [
           {
            "marker": {
             "pattern": {
              "fillmode": "overlay",
              "size": 10,
              "solidity": 0.2
             }
            },
            "type": "histogram"
           }
          ],
          "histogram2d": [
           {
            "colorbar": {
             "outlinewidth": 0,
             "ticks": ""
            },
            "colorscale": [
             [
              0,
              "#0d0887"
             ],
             [
              0.1111111111111111,
              "#46039f"
             ],
             [
              0.2222222222222222,
              "#7201a8"
             ],
             [
              0.3333333333333333,
              "#9c179e"
             ],
             [
              0.4444444444444444,
              "#bd3786"
             ],
             [
              0.5555555555555556,
              "#d8576b"
             ],
             [
              0.6666666666666666,
              "#ed7953"
             ],
             [
              0.7777777777777778,
              "#fb9f3a"
             ],
             [
              0.8888888888888888,
              "#fdca26"
             ],
             [
              1,
              "#f0f921"
             ]
            ],
            "type": "histogram2d"
           }
          ],
          "histogram2dcontour": [
           {
            "colorbar": {
             "outlinewidth": 0,
             "ticks": ""
            },
            "colorscale": [
             [
              0,
              "#0d0887"
             ],
             [
              0.1111111111111111,
              "#46039f"
             ],
             [
              0.2222222222222222,
              "#7201a8"
             ],
             [
              0.3333333333333333,
              "#9c179e"
             ],
             [
              0.4444444444444444,
              "#bd3786"
             ],
             [
              0.5555555555555556,
              "#d8576b"
             ],
             [
              0.6666666666666666,
              "#ed7953"
             ],
             [
              0.7777777777777778,
              "#fb9f3a"
             ],
             [
              0.8888888888888888,
              "#fdca26"
             ],
             [
              1,
              "#f0f921"
             ]
            ],
            "type": "histogram2dcontour"
           }
          ],
          "mesh3d": [
           {
            "colorbar": {
             "outlinewidth": 0,
             "ticks": ""
            },
            "type": "mesh3d"
           }
          ],
          "parcoords": [
           {
            "line": {
             "colorbar": {
              "outlinewidth": 0,
              "ticks": ""
             }
            },
            "type": "parcoords"
           }
          ],
          "pie": [
           {
            "automargin": true,
            "type": "pie"
           }
          ],
          "scatter": [
           {
            "fillpattern": {
             "fillmode": "overlay",
             "size": 10,
             "solidity": 0.2
            },
            "type": "scatter"
           }
          ],
          "scatter3d": [
           {
            "line": {
             "colorbar": {
              "outlinewidth": 0,
              "ticks": ""
             }
            },
            "marker": {
             "colorbar": {
              "outlinewidth": 0,
              "ticks": ""
             }
            },
            "type": "scatter3d"
           }
          ],
          "scattercarpet": [
           {
            "marker": {
             "colorbar": {
              "outlinewidth": 0,
              "ticks": ""
             }
            },
            "type": "scattercarpet"
           }
          ],
          "scattergeo": [
           {
            "marker": {
             "colorbar": {
              "outlinewidth": 0,
              "ticks": ""
             }
            },
            "type": "scattergeo"
           }
          ],
          "scattergl": [
           {
            "marker": {
             "colorbar": {
              "outlinewidth": 0,
              "ticks": ""
             }
            },
            "type": "scattergl"
           }
          ],
          "scattermapbox": [
           {
            "marker": {
             "colorbar": {
              "outlinewidth": 0,
              "ticks": ""
             }
            },
            "type": "scattermapbox"
           }
          ],
          "scatterpolar": [
           {
            "marker": {
             "colorbar": {
              "outlinewidth": 0,
              "ticks": ""
             }
            },
            "type": "scatterpolar"
           }
          ],
          "scatterpolargl": [
           {
            "marker": {
             "colorbar": {
              "outlinewidth": 0,
              "ticks": ""
             }
            },
            "type": "scatterpolargl"
           }
          ],
          "scatterternary": [
           {
            "marker": {
             "colorbar": {
              "outlinewidth": 0,
              "ticks": ""
             }
            },
            "type": "scatterternary"
           }
          ],
          "surface": [
           {
            "colorbar": {
             "outlinewidth": 0,
             "ticks": ""
            },
            "colorscale": [
             [
              0,
              "#0d0887"
             ],
             [
              0.1111111111111111,
              "#46039f"
             ],
             [
              0.2222222222222222,
              "#7201a8"
             ],
             [
              0.3333333333333333,
              "#9c179e"
             ],
             [
              0.4444444444444444,
              "#bd3786"
             ],
             [
              0.5555555555555556,
              "#d8576b"
             ],
             [
              0.6666666666666666,
              "#ed7953"
             ],
             [
              0.7777777777777778,
              "#fb9f3a"
             ],
             [
              0.8888888888888888,
              "#fdca26"
             ],
             [
              1,
              "#f0f921"
             ]
            ],
            "type": "surface"
           }
          ],
          "table": [
           {
            "cells": {
             "fill": {
              "color": "#EBF0F8"
             },
             "line": {
              "color": "white"
             }
            },
            "header": {
             "fill": {
              "color": "#C8D4E3"
             },
             "line": {
              "color": "white"
             }
            },
            "type": "table"
           }
          ]
         },
         "layout": {
          "annotationdefaults": {
           "arrowcolor": "#2a3f5f",
           "arrowhead": 0,
           "arrowwidth": 1
          },
          "autotypenumbers": "strict",
          "coloraxis": {
           "colorbar": {
            "outlinewidth": 0,
            "ticks": ""
           }
          },
          "colorscale": {
           "diverging": [
            [
             0,
             "#8e0152"
            ],
            [
             0.1,
             "#c51b7d"
            ],
            [
             0.2,
             "#de77ae"
            ],
            [
             0.3,
             "#f1b6da"
            ],
            [
             0.4,
             "#fde0ef"
            ],
            [
             0.5,
             "#f7f7f7"
            ],
            [
             0.6,
             "#e6f5d0"
            ],
            [
             0.7,
             "#b8e186"
            ],
            [
             0.8,
             "#7fbc41"
            ],
            [
             0.9,
             "#4d9221"
            ],
            [
             1,
             "#276419"
            ]
           ],
           "sequential": [
            [
             0,
             "#0d0887"
            ],
            [
             0.1111111111111111,
             "#46039f"
            ],
            [
             0.2222222222222222,
             "#7201a8"
            ],
            [
             0.3333333333333333,
             "#9c179e"
            ],
            [
             0.4444444444444444,
             "#bd3786"
            ],
            [
             0.5555555555555556,
             "#d8576b"
            ],
            [
             0.6666666666666666,
             "#ed7953"
            ],
            [
             0.7777777777777778,
             "#fb9f3a"
            ],
            [
             0.8888888888888888,
             "#fdca26"
            ],
            [
             1,
             "#f0f921"
            ]
           ],
           "sequentialminus": [
            [
             0,
             "#0d0887"
            ],
            [
             0.1111111111111111,
             "#46039f"
            ],
            [
             0.2222222222222222,
             "#7201a8"
            ],
            [
             0.3333333333333333,
             "#9c179e"
            ],
            [
             0.4444444444444444,
             "#bd3786"
            ],
            [
             0.5555555555555556,
             "#d8576b"
            ],
            [
             0.6666666666666666,
             "#ed7953"
            ],
            [
             0.7777777777777778,
             "#fb9f3a"
            ],
            [
             0.8888888888888888,
             "#fdca26"
            ],
            [
             1,
             "#f0f921"
            ]
           ]
          },
          "colorway": [
           "#636efa",
           "#EF553B",
           "#00cc96",
           "#ab63fa",
           "#FFA15A",
           "#19d3f3",
           "#FF6692",
           "#B6E880",
           "#FF97FF",
           "#FECB52"
          ],
          "font": {
           "color": "#2a3f5f"
          },
          "geo": {
           "bgcolor": "white",
           "lakecolor": "white",
           "landcolor": "#E5ECF6",
           "showlakes": true,
           "showland": true,
           "subunitcolor": "white"
          },
          "hoverlabel": {
           "align": "left"
          },
          "hovermode": "closest",
          "mapbox": {
           "style": "light"
          },
          "paper_bgcolor": "white",
          "plot_bgcolor": "#E5ECF6",
          "polar": {
           "angularaxis": {
            "gridcolor": "white",
            "linecolor": "white",
            "ticks": ""
           },
           "bgcolor": "#E5ECF6",
           "radialaxis": {
            "gridcolor": "white",
            "linecolor": "white",
            "ticks": ""
           }
          },
          "scene": {
           "xaxis": {
            "backgroundcolor": "#E5ECF6",
            "gridcolor": "white",
            "gridwidth": 2,
            "linecolor": "white",
            "showbackground": true,
            "ticks": "",
            "zerolinecolor": "white"
           },
           "yaxis": {
            "backgroundcolor": "#E5ECF6",
            "gridcolor": "white",
            "gridwidth": 2,
            "linecolor": "white",
            "showbackground": true,
            "ticks": "",
            "zerolinecolor": "white"
           },
           "zaxis": {
            "backgroundcolor": "#E5ECF6",
            "gridcolor": "white",
            "gridwidth": 2,
            "linecolor": "white",
            "showbackground": true,
            "ticks": "",
            "zerolinecolor": "white"
           }
          },
          "shapedefaults": {
           "line": {
            "color": "#2a3f5f"
           }
          },
          "ternary": {
           "aaxis": {
            "gridcolor": "white",
            "linecolor": "white",
            "ticks": ""
           },
           "baxis": {
            "gridcolor": "white",
            "linecolor": "white",
            "ticks": ""
           },
           "bgcolor": "#E5ECF6",
           "caxis": {
            "gridcolor": "white",
            "linecolor": "white",
            "ticks": ""
           }
          },
          "title": {
           "x": 0.05
          },
          "xaxis": {
           "automargin": true,
           "gridcolor": "white",
           "linecolor": "white",
           "ticks": "",
           "title": {
            "standoff": 15
           },
           "zerolinecolor": "white",
           "zerolinewidth": 2
          },
          "yaxis": {
           "automargin": true,
           "gridcolor": "white",
           "linecolor": "white",
           "ticks": "",
           "title": {
            "standoff": 15
           },
           "zerolinecolor": "white",
           "zerolinewidth": 2
          }
         }
        },
        "title": {
         "text": "Proportion of shared cargo on Med Line ships by Carrier"
        },
        "xaxis": {
         "anchor": "y",
         "domain": [
          0,
          1
         ],
         "title": {
          "text": "Time"
         }
        },
        "yaxis": {
         "anchor": "x",
         "domain": [
          0,
          1
         ],
         "title": {
          "text": "Percentage of Shared Cargo"
         }
        }
       }
      }
     },
     "metadata": {},
     "output_type": "display_data"
    }
   ],
   "source": [
    "sharing_by_carrier(exports_lf, 'MSCU', 'Med Line')"
   ]
  },
  {
   "cell_type": "code",
   "execution_count": 152,
   "metadata": {},
   "outputs": [
    {
     "data": {
      "application/vnd.plotly.v1+json": {
       "config": {
        "plotlyServerURL": "https://plot.ly"
       },
       "data": [
        {
         "alignmentgroup": "True",
         "hovertemplate": "scac=SAFM<br>Time=%{x}<br>Percentage of Shared Cargo=%{y}<extra></extra>",
         "legendgroup": "SAFM",
         "marker": {
          "color": "rgb(141,211,199)",
          "pattern": {
           "shape": ""
          }
         },
         "name": "SAFM",
         "offsetgroup": "SAFM",
         "orientation": "v",
         "showlegend": true,
         "textposition": "auto",
         "type": "bar",
         "x": [
          "200501",
          "200502",
          "200503",
          "200504",
          "200505",
          "200506",
          "200507",
          "200508",
          "200509",
          "200510",
          "200511",
          "200512",
          "200601",
          "200602",
          "200603",
          "200604",
          "200605",
          "200606",
          "200607",
          "200608",
          "200609",
          "200610",
          "200611",
          "200612",
          "200701",
          "200702",
          "200703",
          "200704",
          "200705",
          "200706",
          "200707",
          "200708",
          "200709",
          "200710",
          "200711",
          "200712",
          "200801",
          "200802",
          "200803",
          "200804",
          "200805",
          "200806",
          "200807",
          "200808",
          "200809",
          "200810",
          "200811",
          "200812",
          "200901",
          "200902",
          "200903",
          "200904",
          "200905",
          "200906",
          "200907",
          "200908",
          "200909",
          "200910",
          "200911",
          "200912",
          "201001",
          "201002",
          "201003",
          "201004",
          "201005",
          "201006",
          "201007",
          "201008",
          "201009",
          "201010",
          "201011",
          "201012",
          "201101",
          "201102",
          "201103",
          "201104",
          "201105",
          "201106",
          "201107",
          "201108",
          "201109",
          "201110",
          "201111",
          "201112",
          "201201",
          "201202",
          "201203",
          "201204",
          "201205",
          "201206",
          "201207",
          "201208",
          "201209",
          "201210",
          "201211",
          "201212",
          "201301",
          "201302",
          "201303",
          "201304",
          "201305",
          "201306",
          "201307",
          "201308",
          "201309",
          "201310",
          "201311",
          "201312",
          "201401",
          "201402",
          "201403",
          "201404",
          "201405",
          "201406",
          "201407",
          "201408",
          "201409",
          "201410",
          "201411",
          "201412",
          "201501",
          "201502",
          "201503",
          "201504",
          "201505",
          "201506",
          "201507",
          "201508",
          "201509",
          "201510",
          "201511",
          "201512",
          "201601",
          "201602",
          "201603",
          "201604",
          "201605",
          "201606",
          "201607",
          "201608",
          "201609",
          "201610",
          "201611",
          "201612",
          "201701",
          "201702",
          "201703",
          "201704",
          "201705",
          "201706",
          "201707",
          "201708",
          "201709",
          "201710",
          "201711",
          "201712",
          "201801",
          "201802",
          "201803",
          "201804",
          "201805",
          "201806",
          "201807",
          "201808",
          "201809",
          "201810",
          "201811",
          "201812",
          "201901",
          "201902",
          "201903",
          "201904",
          "201905",
          "201906",
          "201907",
          "201908",
          "201909",
          "201910",
          "201911",
          "201912",
          "202001",
          "202002",
          "202003",
          "202004",
          "202005",
          "202006",
          "202007",
          "202008",
          "202009",
          "202010",
          "202011",
          "202012",
          "202101"
         ],
         "xaxis": "x",
         "y": [
          0.8647959183673475,
          0.835497835497836,
          0.7878787878787888,
          0.7952622673434864,
          0.79049295774648,
          0.8609865470852023,
          1,
          1,
          0.9979466119096511,
          1,
          0.9984802431610943,
          0.9969230769230769,
          0.9973890339425587,
          0.9538714991762766,
          0.9922822491730979,
          0.9488636363636359,
          0.9597701149425283,
          0.998422712933754,
          1,
          0.9985207100591716,
          1,
          0.6397578203834491,
          0.989071038251366,
          1,
          1,
          0.842672413793104,
          0.805807622504538,
          1,
          1,
          1,
          1,
          0.9930555555555555,
          1,
          1,
          1,
          1,
          0.8694158075601377,
          0.757455268389663,
          0.6824742268041246,
          0.6309719934102155,
          0.29173553719008366,
          0.25420726306465874,
          0.16666666666666685,
          0.17790262172284774,
          0.2065843621399179,
          0.21745350500715382,
          0.3154981549815501,
          0.24957410562180582,
          0.26528384279475986,
          0.21882352941176433,
          0.2281167108753343,
          0.2610985703536521,
          0.32637439109255656,
          0.28901734104046506,
          0.20590163934426378,
          0.15143769968051263,
          0.2020117351215438,
          0.20489977728285036,
          0.17285945072698142,
          0.18522930315664277,
          0.2362204724409443,
          0.37518910741301076,
          0.1751025991792078,
          0.1771844660194169,
          0.09121245828698528,
          0.08313155770782894,
          0.10312499999999976,
          0.02626262626262654,
          0.08932626797880397,
          0.07410179640718574,
          0.10339256865912755,
          0.14329268292682884,
          0.1452671040299902,
          0.12266928361138368,
          0.10996189439303349,
          0.06566265060240967,
          0.04791208791208862,
          0.04996915484269005,
          0.07966101694915248,
          0.11420982735723723,
          0.05692803437164395,
          0.07112485504445439,
          0.06535141800246723,
          0.08794326241134882,
          0.07986111111111194,
          0.06485234510712275,
          0.04356725146198873,
          0.03698475437605956,
          0.05078740157480408,
          0.041797283176594015,
          0.03273322422258649,
          0.06730769230769229,
          0.0428696412948389,
          0.06953339432753894,
          0.022590361445783507,
          0.06925675675675692,
          0.018318068276436405,
          0.028571428571428744,
          0.026276831976314394,
          0.01842414739317955,
          0.018029747927874307,
          0.014368782448701644,
          0.014986081301231484,
          0.009499834215270854,
          0.0119149178191734,
          0.016316349407618478,
          0.009256382230285019,
          0.015345188983403923,
          0.011500543674287688,
          0.02129864119778568,
          0.024079803387244986,
          0.0244614648510567,
          0.02064388065991914,
          0.033643137519769564,
          0.03272909700955563,
          0.014223527797399245,
          0.0093510529360481,
          0.011669633481273266,
          0.007874916722733742,
          0.017683014213212306,
          0.006074625206524432,
          0.013864765201219539,
          0.006134034546523791,
          0.015604127643119962,
          0.00959636344185003,
          0.015350215452632899,
          0.015326808618587734,
          0.02852480462270338,
          0.019995273632738474,
          0.008307081841817525,
          0.009701249224862764,
          0.0111758878729056,
          0.004957656323939979,
          0.00498140449383173,
          0.004589656976216229,
          0.0028794660031096655,
          0.0027613235464651943,
          0.0032237138041247945,
          0.00043849077782412183,
          0.006512525288815379,
          0.004100848540503752,
          0.0009821175779626157,
          0.0011079685990379158,
          0.0049365629807524986,
          0.011321942124208718,
          0.003136680945451915,
          0.004746467228498622,
          0.007018847525409577,
          0.004954269030342806,
          0.008760823786637475,
          0.005094198266623358,
          0.006966394308622457,
          0.012988042311481929,
          0.033699533602617,
          0.004254381919615953,
          0.005124980191927911,
          0.006768773958644644,
          0.008624079363293279,
          0.004972123566471415,
          0.006311366033156124,
          0.0014514548158578785,
          0.004752959912892097,
          0.0043789764551305675,
          0.006127570529937964,
          0.02431542957254043,
          0.011892680217957877,
          0.012527763710182766,
          0.01679148050406953,
          0.02738819546540355,
          0.017242604746760967,
          0.03182753333496509,
          0.025433931043665637,
          0.023272515942012722,
          0.029128095789006866,
          0.03581509095032944,
          0.036834060911359316,
          0.033512970923316655,
          0.026602244042999344,
          0.019114701381355077,
          0.019666806462048148,
          0.013095325861459497,
          0.01821085415794383,
          0.041313490446918975,
          0.016766041022216183,
          0.009885314910521316,
          0.16619618423307303,
          0.021446548985164935,
          0.04971231820402952,
          0.02084566638535284,
          0.024172382989829235,
          0.05177369539214111,
          0.016080929420169074,
          0.0019449627713321936
         ],
         "yaxis": "y"
        },
        {
         "alignmentgroup": "True",
         "hovertemplate": "scac=MEXI<br>Time=%{x}<br>Percentage of Shared Cargo=%{y}<extra></extra>",
         "legendgroup": "MEXI",
         "marker": {
          "color": "rgb(255,255,179)",
          "pattern": {
           "shape": ""
          }
         },
         "name": "MEXI",
         "offsetgroup": "MEXI",
         "orientation": "v",
         "showlegend": true,
         "textposition": "auto",
         "type": "bar",
         "x": [
          "200501",
          "200502",
          "200503",
          "200504",
          "200505",
          "200506"
         ],
         "xaxis": "x",
         "y": [
          0.04336734693877534,
          0.045454545454545275,
          0.023569023569023503,
          0.03891708967851091,
          0.028169014084506932,
          0.017937219730941624
         ],
         "yaxis": "y"
        },
        {
         "alignmentgroup": "True",
         "hovertemplate": "scac=LYKE<br>Time=%{x}<br>Percentage of Shared Cargo=%{y}<extra></extra>",
         "legendgroup": "LYKE",
         "marker": {
          "color": "rgb(190,186,218)",
          "pattern": {
           "shape": ""
          }
         },
         "name": "LYKE",
         "offsetgroup": "LYKE",
         "orientation": "v",
         "showlegend": true,
         "textposition": "auto",
         "type": "bar",
         "x": [
          "200501",
          "200502",
          "200503",
          "200504",
          "200505",
          "200506"
         ],
         "xaxis": "x",
         "y": [
          0.07908163265306097,
          0.11471861471861435,
          0.18686868686868602,
          0.15566835871404336,
          0.17605633802816806,
          0.12107623318385609
         ],
         "yaxis": "y"
        },
        {
         "alignmentgroup": "True",
         "hovertemplate": "scac=GWSS<br>Time=%{x}<br>Percentage of Shared Cargo=%{y}<extra></extra>",
         "legendgroup": "GWSS",
         "marker": {
          "color": "rgb(251,128,114)",
          "pattern": {
           "shape": ""
          }
         },
         "name": "GWSS",
         "offsetgroup": "GWSS",
         "orientation": "v",
         "showlegend": true,
         "textposition": "auto",
         "type": "bar",
         "x": [
          "200501",
          "200502",
          "200503",
          "200504",
          "200505",
          "200511"
         ],
         "xaxis": "x",
         "y": [
          0.012755102040816275,
          0.00432900432900431,
          0.0016835016835016789,
          0.008460236886632801,
          0.0052816901408450495,
          0.0015197568389057894
         ],
         "yaxis": "y"
        },
        {
         "alignmentgroup": "True",
         "hovertemplate": "scac=OOLU<br>Time=%{x}<br>Percentage of Shared Cargo=%{y}<extra></extra>",
         "legendgroup": "OOLU",
         "marker": {
          "color": "rgb(128,177,211)",
          "pattern": {
           "shape": ""
          }
         },
         "name": "OOLU",
         "offsetgroup": "OOLU",
         "orientation": "v",
         "showlegend": true,
         "textposition": "auto",
         "type": "bar",
         "x": [
          "200504"
         ],
         "xaxis": "x",
         "y": [
          0.0016920473773265603
         ],
         "yaxis": "y"
        },
        {
         "alignmentgroup": "True",
         "hovertemplate": "scac=PONL<br>Time=%{x}<br>Percentage of Shared Cargo=%{y}<extra></extra>",
         "legendgroup": "PONL",
         "marker": {
          "color": "rgb(253,180,98)",
          "pattern": {
           "shape": ""
          }
         },
         "name": "PONL",
         "offsetgroup": "PONL",
         "orientation": "v",
         "showlegend": true,
         "textposition": "auto",
         "type": "bar",
         "x": [
          "200509",
          "200601",
          "200602",
          "200603"
         ],
         "xaxis": "x",
         "y": [
          0.0020533880903490713,
          0.0026109660574412897,
          0.046128500823723474,
          0.0077177508269020145
         ],
         "yaxis": "y"
        },
        {
         "alignmentgroup": "True",
         "hovertemplate": "scac=HRZD<br>Time=%{x}<br>Percentage of Shared Cargo=%{y}<extra></extra>",
         "legendgroup": "HRZD",
         "marker": {
          "color": "rgb(179,222,105)",
          "pattern": {
           "shape": ""
          }
         },
         "name": "HRZD",
         "offsetgroup": "HRZD",
         "orientation": "v",
         "showlegend": true,
         "textposition": "auto",
         "type": "bar",
         "x": [
          "200512",
          "200910",
          "201002",
          "201007"
         ],
         "xaxis": "x",
         "y": [
          0.0030769230769231042,
          0.0016703786191536681,
          0.015128593040847156,
          0.023437499999999938
         ],
         "yaxis": "y"
        },
        {
         "alignmentgroup": "True",
         "hovertemplate": "scac=SUDU<br>Time=%{x}<br>Percentage of Shared Cargo=%{y}<extra></extra>",
         "legendgroup": "SUDU",
         "marker": {
          "color": "rgb(252,205,229)",
          "pattern": {
           "shape": ""
          }
         },
         "name": "SUDU",
         "offsetgroup": "SUDU",
         "orientation": "v",
         "showlegend": true,
         "textposition": "auto",
         "type": "bar",
         "x": [
          "200604",
          "200605",
          "200610",
          "200611",
          "200702",
          "200703",
          "200810",
          "200907",
          "201205",
          "201704",
          "201705",
          "201706",
          "201707",
          "201708",
          "201709",
          "201710",
          "201711",
          "201712",
          "201801",
          "201802",
          "201803",
          "201804",
          "201805",
          "201806",
          "201807",
          "201808",
          "201809",
          "201810",
          "201811",
          "201812",
          "201901",
          "201902",
          "201903",
          "201904",
          "201905",
          "201906",
          "201907",
          "201908",
          "201909",
          "201910",
          "201911",
          "201912",
          "202001",
          "202002",
          "202003",
          "202004",
          "202005",
          "202006",
          "202007",
          "202008",
          "202009",
          "202010",
          "202011",
          "202012",
          "202101",
          "202102",
          "202103",
          "202104",
          "202105",
          "202106",
          "202107",
          "202108",
          "202109",
          "202110",
          "202111",
          "202112",
          "202201",
          "202202",
          "202203",
          "202204",
          "202205",
          "202206",
          "202207",
          "202208",
          "202209",
          "202210",
          "202211",
          "202212",
          "202301",
          "202302",
          "202303",
          "202304",
          "202305",
          "202306",
          "202307",
          "202308",
          "202309",
          "202310"
         ],
         "xaxis": "x",
         "y": [
          0.02130681818181838,
          0.011494252873563328,
          0.17759838546922418,
          0.0018214936247723174,
          0.03232758620689641,
          0.06533575317604332,
          0.0007153075822603714,
          0.013114754098360697,
          0.001181102362204747,
          0.0016124379450265245,
          0.028363190198712564,
          0.04380411893318737,
          0.021509780495792444,
          0.01978455983648778,
          0.018183259236074698,
          0.02441995188595435,
          0.012862084873257532,
          0.0115312054318378,
          0.04133096262094852,
          0.027263218632346493,
          0.028519350268062457,
          0.027589685802082486,
          0.021408958533903708,
          0.025349119535424517,
          0.030742202052345204,
          0.023650272220813194,
          0.11752457626727875,
          0.023785360435915753,
          0.017327361495252786,
          0.06266820402411664,
          0.025572403500846407,
          0.03298585255902098,
          0.035049404628812265,
          0.033768213532550426,
          0.046103614300299176,
          0.025157294075775372,
          0.031956684447442235,
          0.04194051583892799,
          0.05070344348599922,
          0.07060881813210075,
          0.06960446965828566,
          0.04141971409361631,
          0.08122164489568168,
          0.07089255271508524,
          0.07193773743181883,
          0.023373822437833588,
          0.08449324856232282,
          0.1101169305656792,
          0.0724137417932365,
          0.06524176851572011,
          0.07967189919804579,
          0.05609537035354721,
          0.12764893863924445,
          0.10515529499101864,
          0.10425000454340558,
          0.13565921932325967,
          0.10356187535105432,
          0.1308177552576161,
          0.17577487013265208,
          0.15214531491835226,
          0.16116516097500755,
          0.054755821817827864,
          0.07224879044434615,
          0.07802645162268827,
          0.06826143150554316,
          0.059512625936453165,
          0.0508828326131495,
          0.05378882719353136,
          0.04289651270707707,
          0.06278209810297236,
          0.04424774885673122,
          0.14224028419699825,
          0.05648232762389597,
          0.03679809014515543,
          0.14452249055167973,
          0.034791053893941604,
          0.02456354938952465,
          0.04337736225177788,
          0.07952154302937958,
          0.029553559058992894,
          0.03493398786560412,
          0.021562715093215824,
          0.032310100028506185,
          0.013480129875862458,
          0.039987032504207765,
          0.01631024806965538,
          0.009754362446189576,
          0.0018939155386137434
         ],
         "yaxis": "y"
        },
        {
         "alignmentgroup": "True",
         "hovertemplate": "scac=FESP<br>Time=%{x}<br>Percentage of Shared Cargo=%{y}<extra></extra>",
         "legendgroup": "FESP",
         "marker": {
          "color": "rgb(217,217,217)",
          "pattern": {
           "shape": ""
          }
         },
         "name": "FESP",
         "offsetgroup": "FESP",
         "orientation": "v",
         "showlegend": true,
         "textposition": "auto",
         "type": "bar",
         "x": [
          "200604",
          "200605"
         ],
         "xaxis": "x",
         "y": [
          0.01278409090909103,
          0.012931034482758744
         ],
         "yaxis": "y"
        },
        {
         "alignmentgroup": "True",
         "hovertemplate": "scac=CPSP<br>Time=%{x}<br>Percentage of Shared Cargo=%{y}<extra></extra>",
         "legendgroup": "CPSP",
         "marker": {
          "color": "rgb(188,128,189)",
          "pattern": {
           "shape": ""
          }
         },
         "name": "CPSP",
         "offsetgroup": "CPSP",
         "orientation": "v",
         "showlegend": true,
         "textposition": "auto",
         "type": "bar",
         "x": [
          "200604",
          "200605"
         ],
         "xaxis": "x",
         "y": [
          0.017045454545454707,
          0.015804597701149576
         ],
         "yaxis": "y"
        },
        {
         "alignmentgroup": "True",
         "hovertemplate": "scac=MOLU<br>Time=%{x}<br>Percentage of Shared Cargo=%{y}<extra></extra>",
         "legendgroup": "MOLU",
         "marker": {
          "color": "rgb(204,235,197)",
          "pattern": {
           "shape": ""
          }
         },
         "name": "MOLU",
         "offsetgroup": "MOLU",
         "orientation": "v",
         "showlegend": true,
         "textposition": "auto",
         "type": "bar",
         "x": [
          "200606",
          "200608"
         ],
         "xaxis": "x",
         "y": [
          0.0015772870662460697,
          0.0014792899408284177
         ],
         "yaxis": "y"
        },
        {
         "alignmentgroup": "True",
         "hovertemplate": "scac=HAPL<br>Time=%{x}<br>Percentage of Shared Cargo=%{y}<extra></extra>",
         "legendgroup": "HAPL",
         "marker": {
          "color": "rgb(255,237,111)",
          "pattern": {
           "shape": ""
          }
         },
         "name": "HAPL",
         "offsetgroup": "HAPL",
         "orientation": "v",
         "showlegend": true,
         "textposition": "auto",
         "type": "bar",
         "x": [
          "200610",
          "200702",
          "200703",
          "200907",
          "202310"
         ],
         "xaxis": "x",
         "y": [
          0.12916246215943547,
          0.05387931034482738,
          0.039927404718693126,
          0.0072131147540983815,
          0.042376360176482504
         ],
         "yaxis": "y"
        },
        {
         "alignmentgroup": "True",
         "hovertemplate": "scac=FADP<br>Time=%{x}<br>Percentage of Shared Cargo=%{y}<extra></extra>",
         "legendgroup": "FADP",
         "marker": {
          "color": "rgb(141,211,199)",
          "pattern": {
           "shape": ""
          }
         },
         "name": "FADP",
         "offsetgroup": "FADP",
         "orientation": "v",
         "showlegend": true,
         "textposition": "auto",
         "type": "bar",
         "x": [
          "200610",
          "200611",
          "200702",
          "200703"
         ],
         "xaxis": "x",
         "y": [
          0.05348133198789135,
          0.009107468123861588,
          0.07112068965517215,
          0.08892921960072565
         ],
         "yaxis": "y"
        },
        {
         "alignmentgroup": "True",
         "hovertemplate": "scac=APLU<br>Time=%{x}<br>Percentage of Shared Cargo=%{y}<extra></extra>",
         "legendgroup": "APLU",
         "marker": {
          "color": "rgb(255,255,179)",
          "pattern": {
           "shape": ""
          }
         },
         "name": "APLU",
         "offsetgroup": "APLU",
         "orientation": "v",
         "showlegend": true,
         "textposition": "auto",
         "type": "bar",
         "x": [
          "200708",
          "201707",
          "201711",
          "202010"
         ],
         "xaxis": "x",
         "y": [
          0.006944444444444443,
          0.0011320440592496352,
          0.01525846631718485,
          0.021776921612458772
         ],
         "yaxis": "y"
        },
        {
         "alignmentgroup": "True",
         "hovertemplate": "scac=WHLC<br>Time=%{x}<br>Percentage of Shared Cargo=%{y}<extra></extra>",
         "legendgroup": "WHLC",
         "marker": {
          "color": "rgb(190,186,218)",
          "pattern": {
           "shape": ""
          }
         },
         "name": "WHLC",
         "offsetgroup": "WHLC",
         "orientation": "v",
         "showlegend": true,
         "textposition": "auto",
         "type": "bar",
         "x": [
          "200801",
          "200802",
          "200803",
          "200804",
          "200805",
          "200806",
          "200807",
          "200808",
          "200809",
          "200810",
          "200811",
          "200812",
          "200901",
          "200902",
          "200903"
         ],
         "xaxis": "x",
         "y": [
          0.13058419243986225,
          0.24254473161033682,
          0.3175257731958755,
          0.1598023064250405,
          0.06198347107438006,
          0.10008857395925581,
          0.06996855345911931,
          0.10237203495630506,
          0.10452674897119307,
          0.09012875536480672,
          0.11623616236162307,
          0.14480408858603028,
          0.09825327510916988,
          0.01882352941176464,
          0.0006631299734748059
         ],
         "yaxis": "y"
        },
        {
         "alignmentgroup": "True",
         "hovertemplate": "scac=MSCU<br>Time=%{x}<br>Percentage of Shared Cargo=%{y}<extra></extra>",
         "legendgroup": "MSCU",
         "marker": {
          "color": "rgb(251,128,114)",
          "pattern": {
           "shape": ""
          }
         },
         "name": "MSCU",
         "offsetgroup": "MSCU",
         "orientation": "v",
         "showlegend": true,
         "textposition": "auto",
         "type": "bar",
         "x": [
          "200804",
          "200805",
          "200806",
          "200807",
          "200808",
          "200809",
          "200810",
          "200811",
          "200812",
          "200901",
          "200902",
          "200903",
          "200904",
          "200905",
          "200906",
          "200907",
          "200908",
          "200909",
          "200910",
          "200911",
          "200912",
          "201001",
          "201002",
          "201003",
          "201004",
          "201005",
          "201006",
          "201007",
          "201008",
          "201009",
          "201010",
          "201011",
          "201012",
          "201101",
          "201102",
          "201103",
          "201104",
          "201105",
          "201106",
          "201107",
          "201108",
          "201109",
          "201110",
          "201111",
          "201112",
          "201201",
          "201202",
          "201203",
          "201204",
          "201205",
          "201206",
          "201207",
          "201208",
          "201209",
          "201210",
          "201211",
          "201212",
          "201301",
          "201302",
          "201303",
          "201304",
          "201305",
          "201306",
          "201307",
          "201308",
          "201309",
          "201310",
          "201311",
          "201312",
          "201401",
          "201402",
          "201403",
          "201404",
          "201405",
          "201406",
          "201407",
          "201408",
          "201409",
          "201410",
          "201411",
          "201412",
          "201501",
          "201502",
          "201503",
          "201504",
          "201505",
          "201506",
          "201507",
          "201508",
          "201509",
          "201510",
          "201511",
          "201512",
          "201601",
          "201602",
          "201603",
          "201604",
          "201605",
          "201606",
          "201607",
          "201608",
          "201609",
          "201610",
          "201611",
          "201612",
          "201701",
          "201702",
          "201703",
          "201704",
          "201705",
          "201706",
          "201707",
          "201708",
          "201709",
          "201710",
          "201711",
          "201712",
          "201801",
          "201802",
          "201803",
          "201804",
          "201805",
          "201806",
          "201807",
          "201808",
          "201809",
          "201810",
          "201811",
          "201812",
          "201901",
          "201902",
          "201903",
          "201904",
          "201905",
          "201906",
          "201907",
          "201908",
          "201909",
          "201910",
          "201911",
          "201912",
          "202001",
          "202002",
          "202003",
          "202004",
          "202005",
          "202006",
          "202007",
          "202008",
          "202009",
          "202010",
          "202011",
          "202012",
          "202101",
          "202102",
          "202103",
          "202104",
          "202105",
          "202106",
          "202107",
          "202108",
          "202109",
          "202110",
          "202111",
          "202112",
          "202201",
          "202202",
          "202203",
          "202204",
          "202205",
          "202206",
          "202207",
          "202208",
          "202209",
          "202210",
          "202211",
          "202212",
          "202301",
          "202302",
          "202303",
          "202304",
          "202305",
          "202306",
          "202307",
          "202308",
          "202309",
          "202310"
         ],
         "xaxis": "x",
         "y": [
          0.08731466227347595,
          0.20743801652892607,
          0.37909654561558964,
          0.42059748427672816,
          0.44943820224718695,
          0.407407407407407,
          0.3998569384835462,
          0.41512915129151357,
          0.3781942078364571,
          0.3908296943231447,
          0.46705882352941247,
          0.5576923076923025,
          0.5605718585402516,
          0.49965205288795705,
          0.5137283236994179,
          0.457704918032783,
          0.5188498402555862,
          0.5557418273260656,
          0.383073496659243,
          0.44049542272482217,
          0.389517569982131,
          0.35039370078740173,
          0.10892586989409951,
          0.4911080711354267,
          0.43689320388349573,
          0.5439377085650723,
          0.501210653753024,
          0.41562500000000047,
          0.542087542087539,
          0.4708554125662351,
          0.48577844311376955,
          0.43861066235864193,
          0.29878048780487837,
          0.2924086223055297,
          0.5397448478900871,
          0.4393032117582992,
          0.41867469879518,
          0.41890109890109756,
          0.42813078346699424,
          0.32966101694915434,
          0.44887118193891157,
          0.39795918367346866,
          0.3401623502126012,
          0.2909987669543787,
          0.3144208037825069,
          0.40798611111111066,
          0.41748697162709825,
          0.3789473684210531,
          0.42236024844720294,
          0.42755905511810877,
          0.3244514106583088,
          0.38297872340425476,
          0.4070512820512824,
          0.41338582677165336,
          0.2936870997255277,
          0.38955823293172737,
          0.27956081081081297,
          0.39175686927560405,
          0.3227799227799261,
          0.30162842339008306,
          0.35280282242258026,
          0.43350938032461217,
          0.3702949394835255,
          0.42080940228722563,
          0.48334151363159544,
          0.44235506096771526,
          0.4252582187582805,
          0.42662395816569726,
          0.43610252004273586,
          0.4099309340794566,
          0.36528687066113674,
          0.354682080951421,
          0.4188330046168975,
          0.4396901999932579,
          0.3944426418532405,
          0.4120497593291281,
          0.42430734297033085,
          0.3281891217982494,
          0.27937926154292425,
          0.3053869713287276,
          0.17572553728221235,
          0.23848789734773446,
          0.38413557340582866,
          0.9177212487183218,
          0.9835722171947892,
          0.99040363655815,
          0.9842248650884707,
          0.9841942286120814,
          0.9691932110074803,
          0.9790293471656645,
          0.991000661338031,
          0.9885348872797076,
          0.9888241121270944,
          0.9938525061583144,
          0.99390276089955,
          0.9943304237352623,
          0.9960407342457243,
          0.9965317776256397,
          0.9964602358229218,
          0.9995615092221759,
          0.9930734433863027,
          0.9953718995042886,
          0.9988869334116424,
          0.9986820991948591,
          0.9945149300213861,
          0.9879232617341773,
          0.9959210781955681,
          0.9952535327715014,
          0.9913687145295639,
          0.8967500382284855,
          0.836249029048479,
          0.8182950412038283,
          0.7166015399281068,
          0.8352070212881425,
          0.8535821715542665,
          0.909066448916629,
          0.9265769161121542,
          0.7889878232067242,
          0.9629999175703869,
          0.909257450464742,
          0.8651309801233655,
          0.9086935395078842,
          0.8756069337899389,
          0.763335789984138,
          0.6229281688353772,
          0.8541074225647575,
          0.5551362305813297,
          0.6898349454716116,
          0.6703311607926999,
          0.7985094952360168,
          0.7264052218370726,
          0.7999822292026804,
          0.7951716746493596,
          0.6353553753265473,
          0.6830807982681595,
          0.7616999870201543,
          0.7340831648267018,
          0.7105591945518159,
          0.6340887123912375,
          0.6929798643546955,
          0.7682429142627519,
          0.6882408815843439,
          0.6529921069430017,
          0.30864293104654145,
          0.7626220511898912,
          0.6091230071798028,
          0.3045866169755599,
          0.6750526620638704,
          0.831661662481605,
          0.8019414359202582,
          0.8280052131980851,
          0.5721975255744203,
          0.692095755296617,
          0.7737334199147453,
          0.7480036371916472,
          0.7642793064074734,
          0.8065989961203912,
          0.5849952666439182,
          0.7648440208300566,
          0.8130723405136469,
          0.8540388618935278,
          0.8339388713970315,
          0.8172982330520147,
          0.7789907146753337,
          0.7661271716584629,
          0.7283185141654165,
          0.7282895054183862,
          0.7594320351615284,
          0.8265779023510968,
          0.8579894346768833,
          0.7632480387163775,
          0.9435176723761041,
          0.9632019098548446,
          0.8554775094483202,
          0.9652089461060585,
          0.9754364506104755,
          0.9566226377482222,
          0.9204784569706205,
          0.9704464409410071,
          0.9650660121343959,
          0.9784372849067842,
          0.9676898999714938,
          0.9865198701241376,
          0.9600129674957922,
          0.9836897519303446,
          0.9902456375538105,
          0.7565529401406917
         ],
         "yaxis": "y"
        },
        {
         "alignmentgroup": "True",
         "hovertemplate": "scac=CMDU<br>Time=%{x}<br>Percentage of Shared Cargo=%{y}<extra></extra>",
         "legendgroup": "CMDU",
         "marker": {
          "color": "rgb(128,177,211)",
          "pattern": {
           "shape": ""
          }
         },
         "name": "CMDU",
         "offsetgroup": "CMDU",
         "orientation": "v",
         "showlegend": true,
         "textposition": "auto",
         "type": "bar",
         "x": [
          "200804",
          "200805",
          "200806",
          "200807",
          "200808",
          "200809",
          "200810",
          "200811",
          "200812",
          "200901",
          "200902",
          "200903",
          "200904",
          "200905",
          "200906",
          "200907",
          "200908",
          "200909",
          "200910",
          "200911",
          "200912",
          "201001",
          "201002",
          "201003",
          "201004",
          "201005",
          "201006",
          "201007",
          "201008",
          "201009",
          "201010",
          "201011",
          "201012",
          "201101",
          "201102",
          "201103",
          "201104",
          "201105",
          "201106",
          "201107",
          "201108",
          "201109",
          "201110",
          "201111",
          "201112",
          "201201",
          "201202",
          "201203",
          "201204",
          "201205",
          "201206",
          "201207",
          "201208",
          "201209",
          "201210",
          "201211",
          "201212",
          "201301",
          "201302",
          "201303",
          "201304",
          "201305",
          "201306",
          "201307",
          "201308",
          "201309",
          "201310",
          "201311",
          "201312",
          "201401",
          "201402",
          "201403",
          "201404",
          "201405",
          "201406",
          "201407",
          "201408",
          "201409",
          "201410",
          "201411",
          "201412",
          "201501",
          "201502",
          "201805",
          "201806",
          "202206",
          "202310"
         ],
         "xaxis": "x",
         "y": [
          0.12191103789126813,
          0.4388429752066103,
          0.2550930026572186,
          0.3427672955974856,
          0.26591760299625694,
          0.2716049382716055,
          0.29184549356223305,
          0.15313653136531324,
          0.22572402044293008,
          0.22925764192139722,
          0.264705882352941,
          0.20822281167108997,
          0.17757712565839137,
          0.17397355601948636,
          0.18569364161849852,
          0.27409836065573995,
          0.2594249201277985,
          0.19111483654652273,
          0.3691536748329624,
          0.3532579429186861,
          0.37879690291840296,
          0.37598425196850427,
          0.4326777609682304,
          0.2961696306429575,
          0.3470873786407769,
          0.2892102335928814,
          0.3414043583535134,
          0.35468750000000016,
          0.3764309764309787,
          0.34595003785011597,
          0.34431137724551164,
          0.3869143780290803,
          0.3607723577235779,
          0.4273664479850054,
          0.25907752698724357,
          0.36145890038105616,
          0.4343373493975912,
          0.4246153846153831,
          0.39543491671807496,
          0.47881355932203223,
          0.37317397078353276,
          0.4269602577873238,
          0.4712021646694978,
          0.5293875873407268,
          0.4851063829787194,
          0.4340277777777765,
          0.42327735958309115,
          0.4614035087719276,
          0.42461885940146604,
          0.42874015748031347,
          0.5083594566353148,
          0.46563011456628217,
          0.4214743589743587,
          0.48118985126858965,
          0.5233302836230541,
          0.49497991967871247,
          0.5363175675675649,
          0.507910074937551,
          0.5567567567567527,
          0.5799407846039927,
          0.5441003528028192,
          0.43736580730958163,
          0.5228666110116267,
          0.4514447060354114,
          0.40191361258321834,
          0.4273505396567835,
          0.4404585907022394,
          0.4346306125151112,
          0.40267217434150315,
          0.451812941824221,
          0.4845666453032623,
          0.45589026224698564,
          0.4343541440911921,
          0.4037029257395153,
          0.38789333128577685,
          0.38980894271857186,
          0.39415614627223666,
          0.449005696690916,
          0.5426021498937316,
          0.5138487091945018,
          0.6800046670681363,
          0.6008368272305554,
          0.21374741029501262,
          0.0005459644953037262,
          0.0008413294616553764,
          0.0012262093465258469,
          0.06802313309521028
         ],
         "yaxis": "y"
        },
        {
         "alignmentgroup": "True",
         "hovertemplate": "scac=ANLC<br>Time=%{x}<br>Percentage of Shared Cargo=%{y}<extra></extra>",
         "legendgroup": "ANLC",
         "marker": {
          "color": "rgb(253,180,98)",
          "pattern": {
           "shape": ""
          }
         },
         "name": "ANLC",
         "offsetgroup": "ANLC",
         "orientation": "v",
         "showlegend": true,
         "textposition": "auto",
         "type": "bar",
         "x": [
          "200806",
          "200808",
          "200809",
          "200812",
          "200901",
          "200902",
          "200903",
          "200904",
          "200906",
          "200907",
          "200908",
          "200909",
          "200910",
          "200911",
          "200912",
          "201001",
          "201002",
          "201003",
          "201004",
          "201005",
          "201006",
          "201007",
          "201008",
          "201009",
          "201010",
          "201011",
          "201012",
          "201101",
          "201102",
          "201103",
          "201104",
          "201105",
          "201106",
          "201107",
          "201108",
          "201109",
          "201110",
          "201111",
          "201112",
          "201201",
          "201202",
          "201203",
          "201204",
          "201205",
          "201206",
          "201207",
          "201208",
          "201209",
          "201210",
          "201211",
          "201212",
          "201301",
          "201302",
          "201303",
          "201304",
          "201305",
          "201306",
          "201307",
          "201308",
          "201309",
          "201310",
          "201311",
          "201312",
          "201401",
          "201402",
          "201403",
          "201404",
          "201405",
          "201406",
          "201407",
          "201408",
          "201409",
          "201410",
          "201411",
          "201412",
          "201501",
          "201502",
          "202310"
         ],
         "xaxis": "x",
         "y": [
          0.011514614703277224,
          0.00436953807740326,
          0.009876543209876519,
          0.0017035775127768244,
          0.01637554585152833,
          0.030588235294117555,
          0.005305039787798447,
          0.0007524454477050458,
          0.005057803468208113,
          0.03868852459016408,
          0.06773162939297156,
          0.047778709136630584,
          0.04120267260579052,
          0.0333871836295103,
          0.04586063132817179,
          0.025590551181102334,
          0.04236006051437207,
          0.031463748290013825,
          0.024271844660194098,
          0.04226918798665179,
          0.058111380145278564,
          0.08437499999999988,
          0.03703703703703744,
          0.07645722937168815,
          0.08383233532934142,
          0.0638126009693053,
          0.10670731707317024,
          0.12652296157450746,
          0.06771344455348387,
          0.08165487207403462,
          0.06987951807228912,
          0.10285714285714487,
          0.12091301665638617,
          0.10254237288135586,
          0.05843293492695869,
          0.11278195488721962,
          0.11403169694627223,
          0.11138512124948849,
          0.11111111111111291,
          0.07638888888888966,
          0.09090909090909194,
          0.10789473684210656,
          0.11123658949746221,
          0.08740157480315153,
          0.12068965517241566,
          0.11579378068740022,
          0.09535256410256401,
          0.058180227471567134,
          0.11344922232387925,
          0.09287148594377673,
          0.1148648648648652,
          0.08201498751040844,
          0.07027027027027055,
          0.09215396002960996,
          0.08467267738142105,
          0.11109506443793196,
          0.09246966705614619,
          0.11275981037613142,
          0.10524503956991528,
          0.11837948155632795,
          0.11796684113186164,
          0.12948904708890663,
          0.14588011663235712,
          0.12675558042203466,
          0.1288478428378153,
          0.1653478534143484,
          0.12235138644085368,
          0.1359629936073077,
          0.18402088934121308,
          0.1654122009427446,
          0.16731298296003316,
          0.21345412857478663,
          0.16634895508207084,
          0.17288940275403694,
          0.12525552736611917,
          0.11968758126791586,
          0.03876387923544147,
          0.08712011477623219
         ],
         "yaxis": "y"
        },
        {
         "alignmentgroup": "True",
         "hovertemplate": "scac=MDLV<br>Time=%{x}<br>Percentage of Shared Cargo=%{y}<extra></extra>",
         "legendgroup": "MDLV",
         "marker": {
          "color": "rgb(179,222,105)",
          "pattern": {
           "shape": ""
          }
         },
         "name": "MDLV",
         "offsetgroup": "MDLV",
         "orientation": "v",
         "showlegend": true,
         "textposition": "auto",
         "type": "bar",
         "x": [
          "200906",
          "200907",
          "200908",
          "200909",
          "200912",
          "201001",
          "201002",
          "201003",
          "201004",
          "201005",
          "201006",
          "201007",
          "201008",
          "201009",
          "201010",
          "201011",
          "201012",
          "201101",
          "201102",
          "201103",
          "201104",
          "201105",
          "201106",
          "201107",
          "201108",
          "201109",
          "201110",
          "201111",
          "201112",
          "201201",
          "201202",
          "201203",
          "201204",
          "201205",
          "201206",
          "201207",
          "201208",
          "201209"
         ],
         "xaxis": "x",
         "y": [
          0.006502890173410431,
          0.0032786885245901735,
          0.0025559105431310065,
          0.0033528918692372306,
          0.000595592614651582,
          0.01181102362204723,
          0.02571860816944017,
          0.006155950752394003,
          0.014563106796116455,
          0.0333704115684093,
          0.016142050040355165,
          0.018749999999999954,
          0.01818181818181837,
          0.01741105223315674,
          0.011976047904191652,
          0.007269789983844911,
          0.01829268292682922,
          0.008434864104967167,
          0.010794896957801775,
          0.00762112139357656,
          0.011445783132530111,
          0.005714285714285808,
          0.0055521283158544545,
          0.009322033898305089,
          0.005312084993359876,
          0.005370569280343777,
          0.0034789331271743926,
          0.002877106452938806,
          0.001418439716312075,
          0.0017361111111111294,
          0.0034742327735958673,
          0.008187134502924059,
          0.004799548277809259,
          0.004330708661417405,
          0.0047021943573668295,
          0.0028641571194763195,
          0.00881410256410257,
          0.004374453193350915
         ],
         "yaxis": "y"
        },
        {
         "alignmentgroup": "True",
         "hovertemplate": "scac=SILJ<br>Time=%{x}<br>Percentage of Shared Cargo=%{y}<extra></extra>",
         "legendgroup": "SILJ",
         "marker": {
          "color": "rgb(252,205,229)",
          "pattern": {
           "shape": ""
          }
         },
         "name": "SILJ",
         "offsetgroup": "SILJ",
         "orientation": "v",
         "showlegend": true,
         "textposition": "auto",
         "type": "bar",
         "x": [
          "201012",
          "201302"
         ],
         "xaxis": "x",
         "y": [
          0.031504065040650335,
          0.021621621621621748
         ],
         "yaxis": "y"
        },
        {
         "alignmentgroup": "True",
         "hovertemplate": "scac=USAI<br>Time=%{x}<br>Percentage of Shared Cargo=%{y}<extra></extra>",
         "legendgroup": "USAI",
         "marker": {
          "color": "rgb(217,217,217)",
          "pattern": {
           "shape": ""
          }
         },
         "name": "USAI",
         "offsetgroup": "USAI",
         "orientation": "v",
         "showlegend": true,
         "textposition": "auto",
         "type": "bar",
         "x": [
          "201012"
         ],
         "xaxis": "x",
         "y": [
          0.040650406504064956
         ],
         "yaxis": "y"
        },
        {
         "alignmentgroup": "True",
         "hovertemplate": "scac=SEAU<br>Time=%{x}<br>Percentage of Shared Cargo=%{y}<extra></extra>",
         "legendgroup": "SEAU",
         "marker": {
          "color": "rgb(188,128,189)",
          "pattern": {
           "shape": ""
          }
         },
         "name": "SEAU",
         "offsetgroup": "SEAU",
         "orientation": "v",
         "showlegend": true,
         "textposition": "auto",
         "type": "bar",
         "x": [
          "201412",
          "201501",
          "201502",
          "201503",
          "201504",
          "201506",
          "201507",
          "201508",
          "201509",
          "201510",
          "201511",
          "201601",
          "201602",
          "201603",
          "201604",
          "201605",
          "201606",
          "201608",
          "201609",
          "201610",
          "201611",
          "201612",
          "201701",
          "201702",
          "201705",
          "201706",
          "201707",
          "201708",
          "201709",
          "201710",
          "201711",
          "201712",
          "201801",
          "201802",
          "201803",
          "201805",
          "201806",
          "201808",
          "201809",
          "201810",
          "201811",
          "201902",
          "201903",
          "201904",
          "201905",
          "201906",
          "201907",
          "201908",
          "201909",
          "201910",
          "202003",
          "202206",
          "202310"
         ],
         "xaxis": "x",
         "y": [
          0.0013312540703197904,
          0.03491306894726991,
          0.3494883718624977,
          0.07614471673515447,
          0.0008236551620909132,
          0.0004249194588964124,
          0.0004789627693308667,
          0.0022819843698162704,
          0.0009753792015969988,
          0.0006922568201514603,
          0.0017638634954295932,
          0.001189837517745595,
          0.0011158346066183075,
          0.0010799192885214655,
          0.0010797997511661245,
          0.0007068988278950897,
          0.0003160503729534112,
          0.00041403132488194506,
          0.0005272519552076252,
          0.0001309490103950154,
          0.0002099322061030237,
          0.0005485069978613887,
          0.0007547961416139145,
          0.0009422408589800808,
          0.0006192836287928508,
          0.0006636987717149602,
          0.05018391219076438,
          0.0033438692681387796,
          0.0022538073422865698,
          0.003418793264033609,
          0.00019787822881934663,
          0.0002222681626716562,
          0.00022102119048635573,
          0.0011127844339733264,
          0.0004690682609878694,
          0.00048381827195262617,
          0.00037278116963859585,
          0.00032250371210199805,
          0.0040525715954234055,
          0.000575452268610865,
          0.00016269823000237359,
          0.00037483923362523837,
          0.0013835291300846946,
          0.0007184726283521367,
          0.00039237118553446103,
          0.00042639481484365037,
          0.0007262882828964145,
          0.0012015188064867463,
          0.0002864601326892611,
          0.0007082128197803486,
          0.000497752896950831,
          0.06383952410350191,
          0.044033536272769534
         ],
         "yaxis": "y"
        },
        {
         "alignmentgroup": "True",
         "hovertemplate": "scac=HDMU<br>Time=%{x}<br>Percentage of Shared Cargo=%{y}<extra></extra>",
         "legendgroup": "HDMU",
         "marker": {
          "color": "rgb(204,235,197)",
          "pattern": {
           "shape": ""
          }
         },
         "name": "HDMU",
         "offsetgroup": "HDMU",
         "orientation": "v",
         "showlegend": true,
         "textposition": "auto",
         "type": "bar",
         "x": [
          "201705",
          "201706",
          "201707",
          "201708",
          "201709",
          "201710",
          "201711",
          "201712",
          "201801",
          "201803",
          "201804",
          "201805",
          "201806",
          "201807",
          "201808",
          "201810",
          "201811",
          "201812",
          "201901",
          "201902",
          "201903",
          "201904",
          "201905",
          "201906",
          "201907",
          "201908",
          "201909",
          "201910",
          "201911",
          "201912",
          "202001",
          "202002",
          "202003",
          "202004"
         ],
         "xaxis": "x",
         "y": [
          0.06931321891366621,
          0.11052232945998117,
          0.10378502378374188,
          0.2533036366586441,
          0.1313678698220144,
          0.08487954969312858,
          0.05836073974449322,
          0.05654463010140831,
          0.16269141902319612,
          0.05678200743973628,
          0.10096796804139589,
          0.06741626437509773,
          0.09307687613045049,
          0.20154303150838626,
          0.3469714847017697,
          0.40861027649618586,
          0.2801472310929504,
          0.2502091546791139,
          0.1485299057977333,
          0.22299148162352034,
          0.13175730370345753,
          0.1390162325935846,
          0.27839653345315907,
          0.24163386723600855,
          0.15854448091428328,
          0.15890806836908059,
          0.14850528476639444,
          0.17574729283749171,
          0.10575703371608278,
          0.12620103464637916,
          0.1535300336422408,
          0.21297042458352547,
          0.5072382723713462,
          0.14906002394747983
         ],
         "yaxis": "y"
        },
        {
         "alignmentgroup": "True",
         "hovertemplate": "scac=ZIMU<br>Time=%{x}<br>Percentage of Shared Cargo=%{y}<extra></extra>",
         "legendgroup": "ZIMU",
         "marker": {
          "color": "rgb(255,237,111)",
          "pattern": {
           "shape": ""
          }
         },
         "name": "ZIMU",
         "offsetgroup": "ZIMU",
         "orientation": "v",
         "showlegend": true,
         "textposition": "auto",
         "type": "bar",
         "x": [
          "201904",
          "201905",
          "201906",
          "201907",
          "201908",
          "201909",
          "201910",
          "201911",
          "201912",
          "202001",
          "202002",
          "202003",
          "202004",
          "202005",
          "202006",
          "202007",
          "202008",
          "202009",
          "202010",
          "202011",
          "202012",
          "202101",
          "202102",
          "202103",
          "202104",
          "202105",
          "202106",
          "202107",
          "202108",
          "202109",
          "202110",
          "202111",
          "202112"
         ],
         "xaxis": "x",
         "y": [
          0.005891475552487521,
          0.016479589792447364,
          0.02057354981620613,
          0.011257468384894425,
          0.027032671247443685,
          0.05643264613978444,
          0.0922447197763904,
          0.11254393088958102,
          0.04446953053520441,
          0.06391211401627411,
          0.04493406160044378,
          0.07036981580642374,
          0.041304595827376014,
          0.04680718228916359,
          0.1385707903670213,
          0.11491952782941844,
          0.05338425079864534,
          0.0432737016018105,
          0.06995011184607969,
          0.2483798403941942,
          0.060175304004168914,
          0.06048834218843122,
          0.06625794433049828,
          0.04173968297107597,
          0.007053898567812633,
          0.06686286846930661,
          0.028675363092088197,
          0.012036706204894432,
          0.0037096434932541037,
          0.0455623002802183,
          0.023214481474518826,
          0.01769908469407651,
          0.01442730325732198
         ],
         "yaxis": "y"
        },
        {
         "alignmentgroup": "True",
         "hovertemplate": "scac=SMLM<br>Time=%{x}<br>Percentage of Shared Cargo=%{y}<extra></extra>",
         "legendgroup": "SMLM",
         "marker": {
          "color": "rgb(141,211,199)",
          "pattern": {
           "shape": ""
          }
         },
         "name": "SMLM",
         "offsetgroup": "SMLM",
         "orientation": "v",
         "showlegend": true,
         "textposition": "auto",
         "type": "bar",
         "x": [
          "202004",
          "202005",
          "202006",
          "202007",
          "202009",
          "202012",
          "202101",
          "202102",
          "202103",
          "202104",
          "202105",
          "202106",
          "202107",
          "202108",
          "202109",
          "202110",
          "202111",
          "202112",
          "202201",
          "202202",
          "202203",
          "202204",
          "202205",
          "202206"
         ],
         "xaxis": "x",
         "y": [
          0.006873465575203094,
          0.24969124705818926,
          0.2805294778586665,
          0.1161675193283097,
          0.05426729689453275,
          0.12649271628802639,
          0.05958327058208574,
          0.05007919915459493,
          0.09041913527039623,
          0.055529350054180006,
          0.17236699475412318,
          0.054335301159502976,
          0.013725792306451122,
          0.08749567279539013,
          0.04825003787840423,
          0.08146083385077822,
          0.13504876912504665,
          0.15993289914776204,
          0.22079865322143394,
          0.21792166738808244,
          0.19767145213139464,
          0.1106399995459308,
          0.09776281646638542,
          0.029445943636596448
         ],
         "yaxis": "y"
        }
       ],
       "layout": {
        "barmode": "relative",
        "legend": {
         "title": {
          "text": "scac"
         },
         "tracegroupgap": 0
        },
        "template": {
         "data": {
          "bar": [
           {
            "error_x": {
             "color": "#2a3f5f"
            },
            "error_y": {
             "color": "#2a3f5f"
            },
            "marker": {
             "line": {
              "color": "#E5ECF6",
              "width": 0.5
             },
             "pattern": {
              "fillmode": "overlay",
              "size": 10,
              "solidity": 0.2
             }
            },
            "type": "bar"
           }
          ],
          "barpolar": [
           {
            "marker": {
             "line": {
              "color": "#E5ECF6",
              "width": 0.5
             },
             "pattern": {
              "fillmode": "overlay",
              "size": 10,
              "solidity": 0.2
             }
            },
            "type": "barpolar"
           }
          ],
          "carpet": [
           {
            "aaxis": {
             "endlinecolor": "#2a3f5f",
             "gridcolor": "white",
             "linecolor": "white",
             "minorgridcolor": "white",
             "startlinecolor": "#2a3f5f"
            },
            "baxis": {
             "endlinecolor": "#2a3f5f",
             "gridcolor": "white",
             "linecolor": "white",
             "minorgridcolor": "white",
             "startlinecolor": "#2a3f5f"
            },
            "type": "carpet"
           }
          ],
          "choropleth": [
           {
            "colorbar": {
             "outlinewidth": 0,
             "ticks": ""
            },
            "type": "choropleth"
           }
          ],
          "contour": [
           {
            "colorbar": {
             "outlinewidth": 0,
             "ticks": ""
            },
            "colorscale": [
             [
              0,
              "#0d0887"
             ],
             [
              0.1111111111111111,
              "#46039f"
             ],
             [
              0.2222222222222222,
              "#7201a8"
             ],
             [
              0.3333333333333333,
              "#9c179e"
             ],
             [
              0.4444444444444444,
              "#bd3786"
             ],
             [
              0.5555555555555556,
              "#d8576b"
             ],
             [
              0.6666666666666666,
              "#ed7953"
             ],
             [
              0.7777777777777778,
              "#fb9f3a"
             ],
             [
              0.8888888888888888,
              "#fdca26"
             ],
             [
              1,
              "#f0f921"
             ]
            ],
            "type": "contour"
           }
          ],
          "contourcarpet": [
           {
            "colorbar": {
             "outlinewidth": 0,
             "ticks": ""
            },
            "type": "contourcarpet"
           }
          ],
          "heatmap": [
           {
            "colorbar": {
             "outlinewidth": 0,
             "ticks": ""
            },
            "colorscale": [
             [
              0,
              "#0d0887"
             ],
             [
              0.1111111111111111,
              "#46039f"
             ],
             [
              0.2222222222222222,
              "#7201a8"
             ],
             [
              0.3333333333333333,
              "#9c179e"
             ],
             [
              0.4444444444444444,
              "#bd3786"
             ],
             [
              0.5555555555555556,
              "#d8576b"
             ],
             [
              0.6666666666666666,
              "#ed7953"
             ],
             [
              0.7777777777777778,
              "#fb9f3a"
             ],
             [
              0.8888888888888888,
              "#fdca26"
             ],
             [
              1,
              "#f0f921"
             ]
            ],
            "type": "heatmap"
           }
          ],
          "heatmapgl": [
           {
            "colorbar": {
             "outlinewidth": 0,
             "ticks": ""
            },
            "colorscale": [
             [
              0,
              "#0d0887"
             ],
             [
              0.1111111111111111,
              "#46039f"
             ],
             [
              0.2222222222222222,
              "#7201a8"
             ],
             [
              0.3333333333333333,
              "#9c179e"
             ],
             [
              0.4444444444444444,
              "#bd3786"
             ],
             [
              0.5555555555555556,
              "#d8576b"
             ],
             [
              0.6666666666666666,
              "#ed7953"
             ],
             [
              0.7777777777777778,
              "#fb9f3a"
             ],
             [
              0.8888888888888888,
              "#fdca26"
             ],
             [
              1,
              "#f0f921"
             ]
            ],
            "type": "heatmapgl"
           }
          ],
          "histogram": [
           {
            "marker": {
             "pattern": {
              "fillmode": "overlay",
              "size": 10,
              "solidity": 0.2
             }
            },
            "type": "histogram"
           }
          ],
          "histogram2d": [
           {
            "colorbar": {
             "outlinewidth": 0,
             "ticks": ""
            },
            "colorscale": [
             [
              0,
              "#0d0887"
             ],
             [
              0.1111111111111111,
              "#46039f"
             ],
             [
              0.2222222222222222,
              "#7201a8"
             ],
             [
              0.3333333333333333,
              "#9c179e"
             ],
             [
              0.4444444444444444,
              "#bd3786"
             ],
             [
              0.5555555555555556,
              "#d8576b"
             ],
             [
              0.6666666666666666,
              "#ed7953"
             ],
             [
              0.7777777777777778,
              "#fb9f3a"
             ],
             [
              0.8888888888888888,
              "#fdca26"
             ],
             [
              1,
              "#f0f921"
             ]
            ],
            "type": "histogram2d"
           }
          ],
          "histogram2dcontour": [
           {
            "colorbar": {
             "outlinewidth": 0,
             "ticks": ""
            },
            "colorscale": [
             [
              0,
              "#0d0887"
             ],
             [
              0.1111111111111111,
              "#46039f"
             ],
             [
              0.2222222222222222,
              "#7201a8"
             ],
             [
              0.3333333333333333,
              "#9c179e"
             ],
             [
              0.4444444444444444,
              "#bd3786"
             ],
             [
              0.5555555555555556,
              "#d8576b"
             ],
             [
              0.6666666666666666,
              "#ed7953"
             ],
             [
              0.7777777777777778,
              "#fb9f3a"
             ],
             [
              0.8888888888888888,
              "#fdca26"
             ],
             [
              1,
              "#f0f921"
             ]
            ],
            "type": "histogram2dcontour"
           }
          ],
          "mesh3d": [
           {
            "colorbar": {
             "outlinewidth": 0,
             "ticks": ""
            },
            "type": "mesh3d"
           }
          ],
          "parcoords": [
           {
            "line": {
             "colorbar": {
              "outlinewidth": 0,
              "ticks": ""
             }
            },
            "type": "parcoords"
           }
          ],
          "pie": [
           {
            "automargin": true,
            "type": "pie"
           }
          ],
          "scatter": [
           {
            "fillpattern": {
             "fillmode": "overlay",
             "size": 10,
             "solidity": 0.2
            },
            "type": "scatter"
           }
          ],
          "scatter3d": [
           {
            "line": {
             "colorbar": {
              "outlinewidth": 0,
              "ticks": ""
             }
            },
            "marker": {
             "colorbar": {
              "outlinewidth": 0,
              "ticks": ""
             }
            },
            "type": "scatter3d"
           }
          ],
          "scattercarpet": [
           {
            "marker": {
             "colorbar": {
              "outlinewidth": 0,
              "ticks": ""
             }
            },
            "type": "scattercarpet"
           }
          ],
          "scattergeo": [
           {
            "marker": {
             "colorbar": {
              "outlinewidth": 0,
              "ticks": ""
             }
            },
            "type": "scattergeo"
           }
          ],
          "scattergl": [
           {
            "marker": {
             "colorbar": {
              "outlinewidth": 0,
              "ticks": ""
             }
            },
            "type": "scattergl"
           }
          ],
          "scattermapbox": [
           {
            "marker": {
             "colorbar": {
              "outlinewidth": 0,
              "ticks": ""
             }
            },
            "type": "scattermapbox"
           }
          ],
          "scatterpolar": [
           {
            "marker": {
             "colorbar": {
              "outlinewidth": 0,
              "ticks": ""
             }
            },
            "type": "scatterpolar"
           }
          ],
          "scatterpolargl": [
           {
            "marker": {
             "colorbar": {
              "outlinewidth": 0,
              "ticks": ""
             }
            },
            "type": "scatterpolargl"
           }
          ],
          "scatterternary": [
           {
            "marker": {
             "colorbar": {
              "outlinewidth": 0,
              "ticks": ""
             }
            },
            "type": "scatterternary"
           }
          ],
          "surface": [
           {
            "colorbar": {
             "outlinewidth": 0,
             "ticks": ""
            },
            "colorscale": [
             [
              0,
              "#0d0887"
             ],
             [
              0.1111111111111111,
              "#46039f"
             ],
             [
              0.2222222222222222,
              "#7201a8"
             ],
             [
              0.3333333333333333,
              "#9c179e"
             ],
             [
              0.4444444444444444,
              "#bd3786"
             ],
             [
              0.5555555555555556,
              "#d8576b"
             ],
             [
              0.6666666666666666,
              "#ed7953"
             ],
             [
              0.7777777777777778,
              "#fb9f3a"
             ],
             [
              0.8888888888888888,
              "#fdca26"
             ],
             [
              1,
              "#f0f921"
             ]
            ],
            "type": "surface"
           }
          ],
          "table": [
           {
            "cells": {
             "fill": {
              "color": "#EBF0F8"
             },
             "line": {
              "color": "white"
             }
            },
            "header": {
             "fill": {
              "color": "#C8D4E3"
             },
             "line": {
              "color": "white"
             }
            },
            "type": "table"
           }
          ]
         },
         "layout": {
          "annotationdefaults": {
           "arrowcolor": "#2a3f5f",
           "arrowhead": 0,
           "arrowwidth": 1
          },
          "autotypenumbers": "strict",
          "coloraxis": {
           "colorbar": {
            "outlinewidth": 0,
            "ticks": ""
           }
          },
          "colorscale": {
           "diverging": [
            [
             0,
             "#8e0152"
            ],
            [
             0.1,
             "#c51b7d"
            ],
            [
             0.2,
             "#de77ae"
            ],
            [
             0.3,
             "#f1b6da"
            ],
            [
             0.4,
             "#fde0ef"
            ],
            [
             0.5,
             "#f7f7f7"
            ],
            [
             0.6,
             "#e6f5d0"
            ],
            [
             0.7,
             "#b8e186"
            ],
            [
             0.8,
             "#7fbc41"
            ],
            [
             0.9,
             "#4d9221"
            ],
            [
             1,
             "#276419"
            ]
           ],
           "sequential": [
            [
             0,
             "#0d0887"
            ],
            [
             0.1111111111111111,
             "#46039f"
            ],
            [
             0.2222222222222222,
             "#7201a8"
            ],
            [
             0.3333333333333333,
             "#9c179e"
            ],
            [
             0.4444444444444444,
             "#bd3786"
            ],
            [
             0.5555555555555556,
             "#d8576b"
            ],
            [
             0.6666666666666666,
             "#ed7953"
            ],
            [
             0.7777777777777778,
             "#fb9f3a"
            ],
            [
             0.8888888888888888,
             "#fdca26"
            ],
            [
             1,
             "#f0f921"
            ]
           ],
           "sequentialminus": [
            [
             0,
             "#0d0887"
            ],
            [
             0.1111111111111111,
             "#46039f"
            ],
            [
             0.2222222222222222,
             "#7201a8"
            ],
            [
             0.3333333333333333,
             "#9c179e"
            ],
            [
             0.4444444444444444,
             "#bd3786"
            ],
            [
             0.5555555555555556,
             "#d8576b"
            ],
            [
             0.6666666666666666,
             "#ed7953"
            ],
            [
             0.7777777777777778,
             "#fb9f3a"
            ],
            [
             0.8888888888888888,
             "#fdca26"
            ],
            [
             1,
             "#f0f921"
            ]
           ]
          },
          "colorway": [
           "#636efa",
           "#EF553B",
           "#00cc96",
           "#ab63fa",
           "#FFA15A",
           "#19d3f3",
           "#FF6692",
           "#B6E880",
           "#FF97FF",
           "#FECB52"
          ],
          "font": {
           "color": "#2a3f5f"
          },
          "geo": {
           "bgcolor": "white",
           "lakecolor": "white",
           "landcolor": "#E5ECF6",
           "showlakes": true,
           "showland": true,
           "subunitcolor": "white"
          },
          "hoverlabel": {
           "align": "left"
          },
          "hovermode": "closest",
          "mapbox": {
           "style": "light"
          },
          "paper_bgcolor": "white",
          "plot_bgcolor": "#E5ECF6",
          "polar": {
           "angularaxis": {
            "gridcolor": "white",
            "linecolor": "white",
            "ticks": ""
           },
           "bgcolor": "#E5ECF6",
           "radialaxis": {
            "gridcolor": "white",
            "linecolor": "white",
            "ticks": ""
           }
          },
          "scene": {
           "xaxis": {
            "backgroundcolor": "#E5ECF6",
            "gridcolor": "white",
            "gridwidth": 2,
            "linecolor": "white",
            "showbackground": true,
            "ticks": "",
            "zerolinecolor": "white"
           },
           "yaxis": {
            "backgroundcolor": "#E5ECF6",
            "gridcolor": "white",
            "gridwidth": 2,
            "linecolor": "white",
            "showbackground": true,
            "ticks": "",
            "zerolinecolor": "white"
           },
           "zaxis": {
            "backgroundcolor": "#E5ECF6",
            "gridcolor": "white",
            "gridwidth": 2,
            "linecolor": "white",
            "showbackground": true,
            "ticks": "",
            "zerolinecolor": "white"
           }
          },
          "shapedefaults": {
           "line": {
            "color": "#2a3f5f"
           }
          },
          "ternary": {
           "aaxis": {
            "gridcolor": "white",
            "linecolor": "white",
            "ticks": ""
           },
           "baxis": {
            "gridcolor": "white",
            "linecolor": "white",
            "ticks": ""
           },
           "bgcolor": "#E5ECF6",
           "caxis": {
            "gridcolor": "white",
            "linecolor": "white",
            "ticks": ""
           }
          },
          "title": {
           "x": 0.05
          },
          "xaxis": {
           "automargin": true,
           "gridcolor": "white",
           "linecolor": "white",
           "ticks": "",
           "title": {
            "standoff": 15
           },
           "zerolinecolor": "white",
           "zerolinewidth": 2
          },
          "yaxis": {
           "automargin": true,
           "gridcolor": "white",
           "linecolor": "white",
           "ticks": "",
           "title": {
            "standoff": 15
           },
           "zerolinecolor": "white",
           "zerolinewidth": 2
          }
         }
        },
        "title": {
         "text": "Proportion of shared cargo on Maersk Line ships by Carrier"
        },
        "xaxis": {
         "anchor": "y",
         "domain": [
          0,
          1
         ],
         "title": {
          "text": "Time"
         }
        },
        "yaxis": {
         "anchor": "x",
         "domain": [
          0,
          1
         ],
         "title": {
          "text": "Percentage of Shared Cargo"
         }
        }
       }
      }
     },
     "metadata": {},
     "output_type": "display_data"
    }
   ],
   "source": [
    "sharing_by_carrier(exports_lf, 'MLSL', 'Maersk Line')"
   ]
  },
  {
   "cell_type": "code",
   "execution_count": 96,
   "metadata": {},
   "outputs": [
    {
     "data": {
      "application/vnd.plotly.v1+json": {
       "config": {
        "plotlyServerURL": "https://plot.ly"
       },
       "data": [
        {
         "alignmentgroup": "True",
         "hovertemplate": "scac=CMDU<br>Time=%{x}<br>Percentage of Shared Cargo=%{y}<extra></extra>",
         "legendgroup": "CMDU",
         "marker": {
          "color": "#636efa",
          "pattern": {
           "shape": ""
          }
         },
         "name": "CMDU",
         "offsetgroup": "CMDU",
         "orientation": "v",
         "showlegend": true,
         "textposition": "auto",
         "type": "bar",
         "x": [
          "200501",
          "200502",
          "200503",
          "200505",
          "200506",
          "200507",
          "200509",
          "200512",
          "200601",
          "200604",
          "200608",
          "200703",
          "200704",
          "200705",
          "200706",
          "200707",
          "200708",
          "200709",
          "200712",
          "200801",
          "200802",
          "200804",
          "200805",
          "200806",
          "200807",
          "200808",
          "200809",
          "200810",
          "200811",
          "200812",
          "200901",
          "200902",
          "200903",
          "200904",
          "200905",
          "200906",
          "200907",
          "200908",
          "200909",
          "200910",
          "200911",
          "200912",
          "201001",
          "201002",
          "201003",
          "201004",
          "201005",
          "201006",
          "201007",
          "201008",
          "201009",
          "201010",
          "201011",
          "201012",
          "201101",
          "201102",
          "201103",
          "201104",
          "201105",
          "201106",
          "201107",
          "201108",
          "201109",
          "201110",
          "201111",
          "201112",
          "201201",
          "201202",
          "201203",
          "201204",
          "201205",
          "201206",
          "201207",
          "201208",
          "201209",
          "201210",
          "201211",
          "201212",
          "201301",
          "201302",
          "201304",
          "201305",
          "201306",
          "201307",
          "201308",
          "201310",
          "201311",
          "201401",
          "201402",
          "201403",
          "201404",
          "201405",
          "201406",
          "201407",
          "201408",
          "201409",
          "201410",
          "201411",
          "201412",
          "201501",
          "201502",
          "201804"
         ],
         "xaxis": "x",
         "y": [
          0.7432432432432434,
          0.7662337662337665,
          0.8370786516853932,
          0.7301587301587305,
          0.891891891891892,
          0.9264705882352942,
          0.967741935483871,
          1,
          0.9894736842105264,
          0.9615384615384616,
          0.963855421686747,
          0.957983193277311,
          0.5,
          1,
          0.9491525423728814,
          0.9736842105263158,
          1,
          0.9782608695652174,
          1,
          1,
          0.6538461538461539,
          0.7017543859649125,
          0.3371924746743846,
          0.30375426621160384,
          0.39783653846153905,
          0.3731513083048923,
          0.24872448979591835,
          0.2994129158512722,
          0.38129496402877755,
          0.34267912772585696,
          0.427852348993289,
          0.41273100616016434,
          0.5315852205005968,
          0.462061155152888,
          0.5028142589118183,
          0.55155155155155,
          0.5758818703855627,
          0.5631229235880404,
          0.6252631578947321,
          0.8320209973753282,
          0.798690671031097,
          0.687376725838262,
          0.7812781278127785,
          0.6999232540291592,
          0.6714285714285714,
          0.628532360984496,
          0.7370892018779291,
          0.8080959520239878,
          0.8076923076923064,
          0.8038674033149162,
          0.5234474017743989,
          0.5594965675057156,
          0.5253472222222182,
          0.5282317979197574,
          0.550651230101298,
          0.5029013539651842,
          0.5725413826679607,
          0.3979107312440661,
          0.6059584035975244,
          0.6122542295381728,
          0.4561294337274402,
          0.551707317073165,
          0.5197537198563342,
          0.6286701208980966,
          0.4762757385854955,
          0.5578684429641925,
          0.4675066312997325,
          0.3024691358024684,
          0.2726063829787231,
          0.543859649122802,
          0.5435779816513725,
          0.4828188701223065,
          0.4273827534039339,
          0.42475305055200396,
          0.5300794551645855,
          0.4815465729349734,
          0.4244031830238726,
          0.534214618973562,
          0.7514863258026142,
          0.4501466275659815,
          0.45705024311183157,
          0.9351457395808469,
          0.4205913092223994,
          0.4610154988642709,
          0.22534423218203503,
          0.46447591450979,
          0.3013862305054995,
          0.4033118135719073,
          0.373231761747822,
          0.37285730053188865,
          0.29298572643471704,
          0.2673606216778445,
          0.28779551618612476,
          0.30138665627777883,
          0.27815351896439544,
          0.394812608419381,
          0.32456447800141575,
          0.398565078487634,
          0.38556731397660876,
          0.5879102368827515,
          0.7053640137603151,
          0.00038764830944340014
         ],
         "yaxis": "y"
        },
        {
         "alignmentgroup": "True",
         "hovertemplate": "scac=ANLC<br>Time=%{x}<br>Percentage of Shared Cargo=%{y}<extra></extra>",
         "legendgroup": "ANLC",
         "marker": {
          "color": "#EF553B",
          "pattern": {
           "shape": ""
          }
         },
         "name": "ANLC",
         "offsetgroup": "ANLC",
         "orientation": "v",
         "showlegend": true,
         "textposition": "auto",
         "type": "bar",
         "x": [
          "200501",
          "200502",
          "200505",
          "200506",
          "200507",
          "200509",
          "200601",
          "200604",
          "200608",
          "200703",
          "200704",
          "200706",
          "200707",
          "200709",
          "200802",
          "200804",
          "200805",
          "200806",
          "200807",
          "200808",
          "200809",
          "200810",
          "200811",
          "200812",
          "200901",
          "200902",
          "200903",
          "200904",
          "200905",
          "200906",
          "200907",
          "200908",
          "200909",
          "200910",
          "200911",
          "200912",
          "201001",
          "201002",
          "201003",
          "201004",
          "201005",
          "201006",
          "201007",
          "201008",
          "201009",
          "201010",
          "201011",
          "201012",
          "201101",
          "201102",
          "201103",
          "201104",
          "201105",
          "201106",
          "201107",
          "201108",
          "201109",
          "201110",
          "201111",
          "201112",
          "201201",
          "201202",
          "201203",
          "201204",
          "201205",
          "201206",
          "201207",
          "201208",
          "201209",
          "201210",
          "201211",
          "201212",
          "201301",
          "201302",
          "201304",
          "201305",
          "201306",
          "201307",
          "201308",
          "201309",
          "201310",
          "201311",
          "201401",
          "201402",
          "201403",
          "201404",
          "201405",
          "201406",
          "201407",
          "201408",
          "201409",
          "201410",
          "201411",
          "201412",
          "201501",
          "201502",
          "202203"
         ],
         "xaxis": "x",
         "y": [
          0.013513513513513502,
          0.012987012987012981,
          0.04761904761904759,
          0.08108108108108102,
          0.07352941176470584,
          0.03225806451612901,
          0.010526315789473698,
          0.03846153846153842,
          0.03614457831325303,
          0.042016806722689155,
          0.5,
          0.05084745762711859,
          0.026315789473684188,
          0.021739130434782587,
          0.3461538461538461,
          0.16140350877192966,
          0.06801736613603453,
          0.1262798634812288,
          0.11778846153846143,
          0.18430034129692785,
          0.1670918367346934,
          0.1311154598825827,
          0.13669064748201393,
          0.10591900311526459,
          0.08557046979865758,
          0.09856262833675554,
          0.1108462455303932,
          0.022650056625141458,
          0.0272045028142589,
          0.052052052052052114,
          0.05578342904019674,
          0.03156146179401983,
          0.08491228070175517,
          0.12598425196850382,
          0.15057283142389485,
          0.08284023668639112,
          0.08550855085508659,
          0.07904834996162788,
          0.12255639097744339,
          0.13673655423883585,
          0.1296948356807539,
          0.1424287856071965,
          0.10998650472334753,
          0.08149171270718271,
          0.17363751584283837,
          0.1327231121281483,
          0.1524305555555569,
          0.16716196136701728,
          0.1664254703328524,
          0.12282398452611187,
          0.09591041869523063,
          0.08641975308641954,
          0.13209668353007323,
          0.1710105166895323,
          0.15805849408836523,
          0.15658536585366054,
          0.12775782452539938,
          0.11917098445595936,
          0.07251566696508491,
          0.13155703580349803,
          0.1438992042440332,
          0.08641975308641972,
          0.12367021276595691,
          0.15721997300944818,
          0.09633027522935915,
          0.08852649970879402,
          0.10514372163388856,
          0.1307379430563644,
          0.08853575482406333,
          0.04481546572934989,
          0.12201591511936337,
          0.09097978227060614,
          0.07372175980975076,
          0.09481915933529017,
          0.08265802269043739,
          0.06485426041915299,
          0.08597200352757496,
          0.08018088083842755,
          0.09829298655594285,
          0.21241083823549242,
          0.1033852750208555,
          0.11659520014732057,
          0.14708904532283704,
          0.13519173760677705,
          0.10207647962962774,
          0.12002270686722578,
          0.14801842613178406,
          0.1444365200193462,
          0.08646721063957,
          0.18901819045516047,
          0.26019141704384796,
          0.13628988967394695,
          0.09446240748487258,
          0.05539430009126141,
          0.1229541809554632,
          0.08523120502133907,
          0.05469357391315703
         ],
         "yaxis": "y"
        },
        {
         "alignmentgroup": "True",
         "hovertemplate": "scac=NCLL<br>Time=%{x}<br>Percentage of Shared Cargo=%{y}<extra></extra>",
         "legendgroup": "NCLL",
         "marker": {
          "color": "#00cc96",
          "pattern": {
           "shape": ""
          }
         },
         "name": "NCLL",
         "offsetgroup": "NCLL",
         "orientation": "v",
         "showlegend": true,
         "textposition": "auto",
         "type": "bar",
         "x": [
          "200501",
          "200502",
          "200503",
          "200505"
         ],
         "xaxis": "x",
         "y": [
          0.24324324324324306,
          0.2207792207792207,
          0.16292134831460678,
          0.22222222222222207
         ],
         "yaxis": "y"
        },
        {
         "alignmentgroup": "True",
         "hovertemplate": "scac=LLTR<br>Time=%{x}<br>Percentage of Shared Cargo=%{y}<extra></extra>",
         "legendgroup": "LLTR",
         "marker": {
          "color": "#ab63fa",
          "pattern": {
           "shape": ""
          }
         },
         "name": "LLTR",
         "offsetgroup": "LLTR",
         "orientation": "v",
         "showlegend": true,
         "textposition": "auto",
         "type": "bar",
         "x": [
          "200506"
         ],
         "xaxis": "x",
         "y": [
          0.027027027027027008
         ],
         "yaxis": "y"
        },
        {
         "alignmentgroup": "True",
         "hovertemplate": "scac=SAFM<br>Time=%{x}<br>Percentage of Shared Cargo=%{y}<extra></extra>",
         "legendgroup": "SAFM",
         "marker": {
          "color": "#FFA15A",
          "pattern": {
           "shape": ""
          }
         },
         "name": "SAFM",
         "offsetgroup": "SAFM",
         "orientation": "v",
         "showlegend": true,
         "textposition": "auto",
         "type": "bar",
         "x": [
          "200804",
          "200805",
          "200806",
          "200807",
          "200808",
          "200809",
          "200810",
          "200811",
          "200812",
          "200901",
          "200902",
          "200903",
          "200904",
          "200905",
          "200906",
          "200907",
          "200908",
          "200909",
          "200912",
          "201001",
          "201002",
          "201003",
          "201004",
          "201005",
          "201010",
          "201011",
          "201012",
          "201101",
          "201102",
          "201103",
          "201104",
          "201106",
          "201107",
          "201108",
          "201109",
          "201110",
          "201111",
          "201112",
          "201208",
          "201301",
          "201310",
          "201401",
          "201402",
          "201409",
          "201507",
          "201508",
          "201509",
          "201510",
          "201511",
          "201512",
          "201601",
          "201602",
          "201603",
          "201604",
          "201605",
          "201606",
          "201608",
          "201610",
          "201611",
          "201612",
          "201703",
          "201704",
          "201705",
          "201706",
          "201707",
          "201709",
          "201710",
          "201711",
          "201712",
          "201801",
          "201802",
          "201803",
          "201804",
          "201806",
          "201807",
          "201808",
          "201809",
          "201810",
          "201811",
          "201812",
          "201901",
          "201902",
          "201903",
          "201904",
          "201905",
          "201906",
          "201907",
          "201908",
          "201909",
          "201910",
          "201911",
          "201912",
          "202001",
          "202002",
          "202003",
          "202004",
          "202005",
          "202006",
          "202007",
          "202008",
          "202009",
          "202010",
          "202011",
          "202012",
          "202101"
         ],
         "xaxis": "x",
         "y": [
          0.003508771929824554,
          0.024602026049203956,
          0.010238907849829353,
          0.01923076923076921,
          0.019340159271899818,
          0.010204081632653038,
          0.012720156555772962,
          0.03165467625899275,
          0.01869158878504669,
          0.010067114093959705,
          0.010266940451745357,
          0.008343265792610233,
          0.028312570781426828,
          0.034709193245778605,
          0.05305305305305312,
          0.04019688269072999,
          0.03820598006644506,
          0.01614035087719316,
          0.038461538461538804,
          0.016201620162016428,
          0.006907137375287884,
          0.003759398496240598,
          0.006836827711941763,
          0.004107981220657352,
          0.0005720823798627065,
          0.0017361111111111214,
          0.0022288261515602185,
          0.0007235890014471822,
          0.0009671179883945815,
          0.0014605647517040164,
          0.008547008547008536,
          0.0004572473708276242,
          0.0031113876789048162,
          0.0009756097560975699,
          0.0015392508978963736,
          0.003454231433506069,
          0.05371530886302593,
          0.012905911740216575,
          0.0005810575246949513,
          0.0023781212841855076,
          0.0032834257831613964,
          0.0007415751387554224,
          0.0013495504564814376,
          0.0009350036672345748,
          0.0006778287116638759,
          0.0009501465205853139,
          0.0022552417760932308,
          0.0009993707982517037,
          0.0022667091610106545,
          0.0007025529681405458,
          0.00021091373101117313,
          0.0013506024522987744,
          0.00026470533924431787,
          0.00013406339618270223,
          0.0006775988144928365,
          0.0033223017475426143,
          0.002842954624656147,
          0.0004062794684969899,
          0.0013838401086961852,
          0.0005532815079728359,
          0.001852123345643611,
          0.0009906001570171104,
          0.00013441156568418927,
          0.0007627218465631176,
          0.00030831719049099815,
          0.0003518427990792673,
          0.0013531449497514773,
          0.0008490292766046906,
          0.0009171823778246217,
          0.00042444498449387754,
          0.0006394246653807234,
          0.0015813527266897113,
          0.0006011651662767379,
          0.0006560590704675988,
          0.0003454262142668821,
          0.0015244641499661724,
          0.00387358084191599,
          0.004750408371085425,
          0.004693172789101505,
          0.004920813931105841,
          0.00798372156324026,
          0.004748892703814971,
          0.004980275677214016,
          0.00589083444162971,
          0.005855835926300913,
          0.013432656334823217,
          0.004504714783590004,
          0.012470540575656016,
          0.008847709093485341,
          0.004319072223988921,
          0.0025922360198720167,
          0.0005344940454213064,
          0.003540049712832097,
          0.008836272900438015,
          0.014096458025293048,
          0.007033831759803918,
          0.007329311393561253,
          0.010534484277191261,
          0.004448714603460977,
          0.0029292672639325184,
          0.0018792318465393045,
          0.009850781246118831,
          0.010811635873324997,
          0.003393324482552182,
          0.004190653281479403
         ],
         "yaxis": "y"
        },
        {
         "alignmentgroup": "True",
         "hovertemplate": "scac=MLSL<br>Time=%{x}<br>Percentage of Shared Cargo=%{y}<extra></extra>",
         "legendgroup": "MLSL",
         "marker": {
          "color": "#19d3f3",
          "pattern": {
           "shape": ""
          }
         },
         "name": "MLSL",
         "offsetgroup": "MLSL",
         "orientation": "v",
         "showlegend": true,
         "textposition": "auto",
         "type": "bar",
         "x": [
          "200804",
          "200805",
          "200806",
          "200807",
          "200808",
          "200809",
          "200810",
          "200811",
          "200812",
          "200901",
          "200902",
          "200903",
          "200904",
          "200905",
          "200906",
          "200907",
          "200908",
          "200909",
          "200912",
          "201001",
          "201002",
          "201003",
          "201004",
          "201005",
          "201007",
          "201008",
          "201009",
          "201010",
          "201011",
          "201012",
          "201101",
          "201102",
          "201103",
          "201104",
          "201105",
          "201106",
          "201107",
          "201108",
          "201109",
          "201110",
          "201111",
          "201112",
          "201201",
          "201202",
          "201203",
          "201204",
          "201205",
          "201206",
          "201207",
          "201208",
          "201209",
          "201210",
          "201211",
          "201212",
          "201301",
          "201302",
          "201304",
          "201306",
          "201307",
          "201308",
          "201309",
          "201310",
          "201311",
          "201401",
          "201402",
          "201403",
          "201404",
          "201405",
          "201406",
          "201407",
          "201408",
          "201409",
          "201410",
          "201411",
          "201412",
          "201501",
          "201502",
          "201503",
          "201504",
          "201505",
          "201506",
          "201507",
          "201508",
          "201509",
          "201510",
          "201511",
          "201512",
          "201601",
          "201602",
          "201603",
          "201604",
          "201605",
          "201606",
          "201607",
          "201608",
          "201609",
          "201610",
          "201611",
          "201612",
          "201701",
          "201702",
          "201703",
          "201704",
          "201705",
          "201706",
          "201707",
          "201708",
          "201709",
          "201710",
          "201711",
          "201712",
          "201801",
          "201802",
          "201803",
          "201804",
          "201805",
          "201806",
          "201807",
          "201808",
          "201809",
          "201810",
          "201811",
          "201812",
          "201901",
          "201902",
          "201903",
          "201904",
          "201905",
          "201906",
          "201907",
          "201908",
          "201909",
          "201910",
          "201911",
          "201912",
          "202001",
          "202002",
          "202003",
          "202004",
          "202005",
          "202006",
          "202007",
          "202008",
          "202009",
          "202010",
          "202011",
          "202012",
          "202101",
          "202102",
          "202103",
          "202104",
          "202105",
          "202106",
          "202107",
          "202108",
          "202109",
          "202110",
          "202111",
          "202112",
          "202201",
          "202202",
          "202203",
          "202204",
          "202205",
          "202206",
          "202207",
          "202208",
          "202209",
          "202210",
          "202211",
          "202212",
          "202301",
          "202303",
          "202305",
          "202306",
          "202307",
          "202308",
          "202309",
          "202310"
         ],
         "xaxis": "x",
         "y": [
          0.10526315789473671,
          0.5643994211287994,
          0.4539249146757678,
          0.34495192307692274,
          0.3583617747440276,
          0.35204081632653117,
          0.392367906066537,
          0.32805755395683484,
          0.39096573208722796,
          0.35570469798657717,
          0.4188911704312116,
          0.34207389749701966,
          0.48697621744054376,
          0.4315196998123843,
          0.3303303303303319,
          0.3109105824446263,
          0.3671096345514947,
          0.2217543859649156,
          0.1252465483234723,
          0.0873087308730884,
          0.18802762854950414,
          0.16992481203007553,
          0.1923427529626293,
          0.0856807511737105,
          0.05398110661268591,
          0.08011049723756945,
          0.28897338403041806,
          0.292334096109843,
          0.3138888888888916,
          0.29494799405646444,
          0.2742402315484834,
          0.37330754352030926,
          0.32570593962999245,
          0.5052231718898371,
          0.2478920741989902,
          0.20484682213077673,
          0.379589296826385,
          0.274634146341467,
          0.33863519753719895,
          0.23229706390328403,
          0.3894359892569398,
          0.28059950041632276,
          0.382625994694961,
          0.5987654320987661,
          0.5997340425531925,
          0.2834008097166025,
          0.34747706422018565,
          0.41991846243447906,
          0.4636913767019658,
          0.44218477629285174,
          0.38024971623155546,
          0.4736379613356767,
          0.45358090185676403,
          0.3748055987558319,
          0.17241379310344931,
          0.4550342130987282,
          0.46029173419773106,
          0.49343668725002554,
          0.45880362029730154,
          0.6763627812620221,
          0.7875891617645077,
          0.42885538468619305,
          0.5820185693471798,
          0.4488575659665003,
          0.4902269501889195,
          0.5250662198384836,
          0.5869915666980572,
          0.5846209521903715,
          0.5677679637945291,
          0.6121461330826512,
          0.532828290580444,
          0.3440609708695365,
          0.5391456323246373,
          0.5069725140274934,
          0.55903838593213,
          0.2891355821617854,
          0.20940478121834577,
          1,
          1,
          1,
          1,
          0.9993221712883361,
          0.9990498534794147,
          0.9977447582239067,
          0.9990006292017483,
          0.9977332908389893,
          0.9992974470318594,
          0.9997890862689889,
          0.9986493975477012,
          0.9997352946607557,
          0.9998659366038173,
          0.9993224011855072,
          0.9966776982524573,
          1,
          0.9971570453753439,
          1,
          0.999593720531503,
          0.9986161598913038,
          0.9994467184920272,
          1,
          1,
          0.9981478766543563,
          0.9970281995289487,
          0.9053921900789517,
          0.7751834087702472,
          0.7049925884131629,
          0.7988413982981196,
          0.7462187830866743,
          0.8763525940248418,
          0.8333572908361132,
          0.7324656435341949,
          0.7874250296707355,
          0.6594532673342294,
          0.727553979813725,
          0.828920883557582,
          0.6543827412740898,
          0.6935254747999082,
          0.8032902500157683,
          0.8121628108071711,
          0.6830716018215238,
          0.6784234396419424,
          0.6324639880892693,
          0.7394281078132674,
          0.6441336361194816,
          0.6558277358405424,
          0.706912588763886,
          0.6017602888682427,
          0.5539959123467517,
          0.660357083217236,
          0.7156360788131259,
          0.6312778161544759,
          0.6303398199337366,
          0.67808146562759,
          0.6916587348529853,
          0.534459303308354,
          0.6253066338984542,
          0.6512282964430043,
          0.7560622050694105,
          0.5821992724919957,
          0.7631123245608767,
          0.7448206648841599,
          0.6602394745765513,
          0.6652289540722994,
          0.719635934439679,
          0.76403399627101,
          0.7784398573757608,
          0.6953404074017995,
          0.8306874042080078,
          0.7725280497487651,
          0.7935264452271625,
          0.7478586409981944,
          0.7809555988064734,
          0.7467175070662528,
          0.8261780521299092,
          0.7352180255312718,
          0.6860519366930304,
          0.7120649610767021,
          0.8866147482529624,
          0.9673018235362288,
          0.8500506487649954,
          0.9648089007502773,
          0.7281962580520703,
          0.8925683120221328,
          0.8952205656997505,
          0.8906707688034016,
          0.9067861783724503,
          0.9248967330078859,
          0.9894784831573213,
          1,
          0.97989047886893,
          0.9567206201093498,
          0.9679765260488619,
          0.9772915281179543,
          0.9945977177753466,
          0.9960347750230478,
          0.9922802277332818,
          0.997508525514256,
          0.9992409895977624,
          1
         ],
         "yaxis": "y"
        },
        {
         "alignmentgroup": "True",
         "hovertemplate": "scac=WHLC<br>Time=%{x}<br>Percentage of Shared Cargo=%{y}<extra></extra>",
         "legendgroup": "WHLC",
         "marker": {
          "color": "#FF6692",
          "pattern": {
           "shape": ""
          }
         },
         "name": "WHLC",
         "offsetgroup": "WHLC",
         "orientation": "v",
         "showlegend": true,
         "textposition": "auto",
         "type": "bar",
         "x": [
          "200804",
          "200805",
          "200806",
          "200807",
          "200808",
          "200809",
          "200810",
          "200811",
          "200812",
          "200901",
          "200902"
         ],
         "xaxis": "x",
         "y": [
          0.028070175438596433,
          0.005788712011577401,
          0.07508532423208196,
          0.11418269230769229,
          0.05460750853242307,
          0.2219387755102039,
          0.16438356164383508,
          0.12230215827338092,
          0.1417445482866039,
          0.09731543624161057,
          0.059548254620123114
         ],
         "yaxis": "y"
        },
        {
         "alignmentgroup": "True",
         "hovertemplate": "scac=MOLU<br>Time=%{x}<br>Percentage of Shared Cargo=%{y}<extra></extra>",
         "legendgroup": "MOLU",
         "marker": {
          "color": "#B6E880",
          "pattern": {
           "shape": ""
          }
         },
         "name": "MOLU",
         "offsetgroup": "MOLU",
         "orientation": "v",
         "showlegend": true,
         "textposition": "auto",
         "type": "bar",
         "x": [
          "200806"
         ],
         "xaxis": "x",
         "y": [
          0.03071672354948806
         ],
         "yaxis": "y"
        },
        {
         "alignmentgroup": "True",
         "hovertemplate": "scac=NYKS<br>Time=%{x}<br>Percentage of Shared Cargo=%{y}<extra></extra>",
         "legendgroup": "NYKS",
         "marker": {
          "color": "#FF97FF",
          "pattern": {
           "shape": ""
          }
         },
         "name": "NYKS",
         "offsetgroup": "NYKS",
         "orientation": "v",
         "showlegend": true,
         "textposition": "auto",
         "type": "bar",
         "x": [
          "200807"
         ],
         "xaxis": "x",
         "y": [
          0.006009615384615378
         ],
         "yaxis": "y"
        },
        {
         "alignmentgroup": "True",
         "hovertemplate": "scac=MDLV<br>Time=%{x}<br>Percentage of Shared Cargo=%{y}<extra></extra>",
         "legendgroup": "MDLV",
         "marker": {
          "color": "#FECB52",
          "pattern": {
           "shape": ""
          }
         },
         "name": "MDLV",
         "offsetgroup": "MDLV",
         "orientation": "v",
         "showlegend": true,
         "textposition": "auto",
         "type": "bar",
         "x": [
          "200808",
          "200903",
          "200905",
          "200906",
          "200907",
          "200909",
          "200910",
          "200911",
          "200912",
          "201001",
          "201002",
          "201003",
          "201004",
          "201005",
          "201006",
          "201007",
          "201008",
          "201009",
          "201010",
          "201011",
          "201012",
          "201101",
          "201103",
          "201104",
          "201105",
          "201106",
          "201107",
          "201108",
          "201109",
          "201110",
          "201111",
          "201112",
          "201201",
          "201202",
          "201203",
          "201204",
          "201205",
          "201206",
          "201207",
          "201208"
         ],
         "xaxis": "x",
         "y": [
          0.010238907849829315,
          0.007151370679380201,
          0.0037523452157598456,
          0.013013013013013015,
          0.017227235438884273,
          0.05192982456140404,
          0.04199475065616791,
          0.05073649754500814,
          0.04635108481262369,
          0.02970297029703014,
          0.026093630084420914,
          0.03233082706766916,
          0.035551504102097155,
          0.043427230046949136,
          0.04947526236881573,
          0.02834008097166013,
          0.034530386740331646,
          0.01394169835234469,
          0.014874141876430377,
          0.006597222222222261,
          0.00742942050520073,
          0.007959479015919004,
          0.00438169425511205,
          0.0018993352326685635,
          0.007307476110174275,
          0.011431184270690611,
          0.0031113876789048162,
          0.016097560975609916,
          0.012314007183170989,
          0.016407599309153833,
          0.008057296329453883,
          0.017069109075770306,
          0.00596816976127325,
          0.012345679012345666,
          0.003989361702127645,
          0.015519568151147205,
          0.012614678899082736,
          0.008736167734420467,
          0.003782148260211819,
          0.0017431725740848537
         ],
         "yaxis": "y"
        },
        {
         "alignmentgroup": "True",
         "hovertemplate": "scac=CGMA<br>Time=%{x}<br>Percentage of Shared Cargo=%{y}<extra></extra>",
         "legendgroup": "CGMA",
         "marker": {
          "color": "#636efa",
          "pattern": {
           "shape": ""
          }
         },
         "name": "CGMA",
         "offsetgroup": "CGMA",
         "orientation": "v",
         "showlegend": true,
         "textposition": "auto",
         "type": "bar",
         "x": [
          "200901",
          "200912"
         ],
         "xaxis": "x",
         "y": [
          0.02348993288590598,
          0.019723865877712195
         ],
         "yaxis": "y"
        },
        {
         "alignmentgroup": "True",
         "hovertemplate": "scac=SILJ<br>Time=%{x}<br>Percentage of Shared Cargo=%{y}<extra></extra>",
         "legendgroup": "SILJ",
         "marker": {
          "color": "#EF553B",
          "pattern": {
           "shape": ""
          }
         },
         "name": "SILJ",
         "offsetgroup": "SILJ",
         "orientation": "v",
         "showlegend": true,
         "textposition": "auto",
         "type": "bar",
         "x": [
          "201105"
         ],
         "xaxis": "x",
         "y": [
          0.006745362563237793
         ],
         "yaxis": "y"
        },
        {
         "alignmentgroup": "True",
         "hovertemplate": "scac=CSAV<br>Time=%{x}<br>Percentage of Shared Cargo=%{y}<extra></extra>",
         "legendgroup": "CSAV",
         "marker": {
          "color": "#00cc96",
          "pattern": {
           "shape": ""
          }
         },
         "name": "CSAV",
         "offsetgroup": "CSAV",
         "orientation": "v",
         "showlegend": true,
         "textposition": "auto",
         "type": "bar",
         "x": [
          "201209"
         ],
         "xaxis": "x",
         "y": [
          0.0011350737797956828
         ],
         "yaxis": "y"
        },
        {
         "alignmentgroup": "True",
         "hovertemplate": "scac=SUDU<br>Time=%{x}<br>Percentage of Shared Cargo=%{y}<extra></extra>",
         "legendgroup": "SUDU",
         "marker": {
          "color": "#ab63fa",
          "pattern": {
           "shape": ""
          }
         },
         "name": "SUDU",
         "offsetgroup": "SUDU",
         "orientation": "v",
         "showlegend": true,
         "textposition": "auto",
         "type": "bar",
         "x": [
          "201704",
          "201705",
          "201706",
          "201707",
          "201708",
          "201709",
          "201710",
          "201711",
          "201712",
          "201801",
          "201802",
          "201803",
          "201804",
          "201805",
          "201806",
          "201807",
          "201808",
          "201809",
          "201810",
          "201811",
          "201812",
          "201901",
          "201902",
          "201903",
          "201904",
          "201905",
          "201906",
          "201907",
          "201908",
          "201909",
          "201910",
          "201911",
          "201912",
          "202001",
          "202002",
          "202003",
          "202004",
          "202005",
          "202006",
          "202007",
          "202008",
          "202009",
          "202010",
          "202011",
          "202012",
          "202101",
          "202102",
          "202103",
          "202104",
          "202105",
          "202106",
          "202107",
          "202108",
          "202109",
          "202110",
          "202111",
          "202112",
          "202201",
          "202202",
          "202203",
          "202204",
          "202205",
          "202206",
          "202207",
          "202208",
          "202209",
          "202211",
          "202212",
          "202301",
          "202303",
          "202305",
          "202306",
          "202307",
          "202308",
          "202309"
         ],
         "xaxis": "x",
         "y": [
          0.0019812003140342207,
          0.00940880959789325,
          0.009495886989710815,
          0.009249515714729945,
          0.01078284299425689,
          0.012578380067083807,
          0.006968696491220107,
          0.00617475837530684,
          0.04274069880662737,
          0.020612109559483928,
          0.03548806892863014,
          0.031627054533794226,
          0.01786319351222307,
          0.016795113451585526,
          0.024142973793207637,
          0.007369092571026818,
          0.005335624524881603,
          0.010778659734027104,
          0.0074570363964713065,
          0.02670638801417285,
          0.00825993767007052,
          0.01940230007810714,
          0.026005840997081982,
          0.02758306528918532,
          0.04285293289891416,
          0.05582563583073537,
          0.02763509240230106,
          0.020634499976444533,
          0.019398618673242694,
          0.024388440780379834,
          0.01652962365306043,
          0.043314190103245505,
          0.03233020857242127,
          0.03298039041554848,
          0.03150443682492532,
          0.03078380934839945,
          0.03337643347357213,
          0.02170392336418326,
          0.05839145741717479,
          0.04279519941606767,
          0.054391398713376546,
          0.0472814732589289,
          0.05144322107123013,
          0.06603339936981456,
          0.07501033066694297,
          0.08281991603345468,
          0.06851762880135555,
          0.08516500358065453,
          0.04549644320400627,
          0.051027495238673,
          0.051581299181092166,
          0.07889001430745343,
          0.016655873714131134,
          0.0487766452840056,
          0.04702360142583341,
          0.019368389374495906,
          0.0026129698022953705,
          0.07837672108187964,
          0.00877758918365557,
          0.08169168933603917,
          0.005277706946714455,
          0.024175854101534777,
          0.09280242667659847,
          0.09321382162754964,
          0.07510326699211416,
          0.010521516842678623,
          0.02010952113107006,
          0.04327937989065018,
          0.03202347395113814,
          0.022708471882045708,
          0.0054022822246534066,
          0.00396522497695213,
          0.007719772266718133,
          0.0024914744857440947,
          0.0007590104022375626
         ],
         "yaxis": "y"
        },
        {
         "alignmentgroup": "True",
         "hovertemplate": "scac=HDMU<br>Time=%{x}<br>Percentage of Shared Cargo=%{y}<extra></extra>",
         "legendgroup": "HDMU",
         "marker": {
          "color": "#FFA15A",
          "pattern": {
           "shape": ""
          }
         },
         "name": "HDMU",
         "offsetgroup": "HDMU",
         "orientation": "v",
         "showlegend": true,
         "textposition": "auto",
         "type": "bar",
         "x": [
          "201705",
          "201706",
          "201707",
          "201708",
          "201709",
          "201710",
          "201711",
          "201712",
          "201801",
          "201802",
          "201803",
          "201804",
          "201805",
          "201806",
          "201807",
          "201808",
          "201809",
          "201810",
          "201811",
          "201812",
          "201901",
          "201902",
          "201903",
          "201904",
          "201905",
          "201906",
          "201907",
          "201908",
          "201909",
          "201910",
          "201911",
          "201912",
          "202001",
          "202002",
          "202003",
          "202004"
         ],
         "xaxis": "x",
         "y": [
          0.08506458875747094,
          0.21455798239347892,
          0.2854495786816161,
          0.1903757587076236,
          0.24085099404716262,
          0.11532556453418663,
          0.15961892151197532,
          0.22387647528135313,
          0.1915384157852868,
          0.3044192390717597,
          0.23923761292579107,
          0.15222710945447487,
          0.32882214527432463,
          0.28167549233641653,
          0.18899523119893816,
          0.18097710051798105,
          0.30227615760253296,
          0.30936911559050084,
          0.3361364511074564,
          0.24739114058555617,
          0.3284803422391711,
          0.31341753045856063,
          0.26052407026971464,
          0.3494959437912133,
          0.384322615896212,
          0.2985751680456398,
          0.2592247064268396,
          0.33685302459662536,
          0.3364240301923984,
          0.30106983849536056,
          0.26243483902389725,
          0.43267599407380347,
          0.33817292597316534,
          0.3084309938316324,
          0.19352600605330106,
          0.3538541790783613
         ],
         "yaxis": "y"
        },
        {
         "alignmentgroup": "True",
         "hovertemplate": "scac=ZIMU<br>Time=%{x}<br>Percentage of Shared Cargo=%{y}<extra></extra>",
         "legendgroup": "ZIMU",
         "marker": {
          "color": "#19d3f3",
          "pattern": {
           "shape": ""
          }
         },
         "name": "ZIMU",
         "offsetgroup": "ZIMU",
         "orientation": "v",
         "showlegend": true,
         "textposition": "auto",
         "type": "bar",
         "x": [
          "202003",
          "202004",
          "202107",
          "202112"
         ],
         "xaxis": "x",
         "y": [
          0.005531521503596006,
          0.023536283196266956,
          0.006794355299206516,
          0.01829078861606759
         ],
         "yaxis": "y"
        },
        {
         "alignmentgroup": "True",
         "hovertemplate": "scac=SMLM<br>Time=%{x}<br>Percentage of Shared Cargo=%{y}<extra></extra>",
         "legendgroup": "SMLM",
         "marker": {
          "color": "#FF6692",
          "pattern": {
           "shape": ""
          }
         },
         "name": "SMLM",
         "offsetgroup": "SMLM",
         "orientation": "v",
         "showlegend": true,
         "textposition": "auto",
         "type": "bar",
         "x": [
          "202005",
          "202006",
          "202007",
          "202008",
          "202009",
          "202010",
          "202011",
          "202012",
          "202101",
          "202102",
          "202103",
          "202104",
          "202105",
          "202106",
          "202107",
          "202108",
          "202109",
          "202110",
          "202111",
          "202112",
          "202201",
          "202202",
          "202203",
          "202204",
          "202205",
          "202206"
         ],
         "xaxis": "x",
         "y": [
          0.20785444068137868,
          0.18625339342147398,
          0.29251661140392005,
          0.27745037995039157,
          0.23120336045485293,
          0.1746720014116411,
          0.1447151073810995,
          0.22625593744870526,
          0.08230202647705802,
          0.15895432144987928,
          0.12130855119218298,
          0.2066449157977994,
          0.16801690595485363,
          0.20170119375265508,
          0.08813757826343076,
          0.24812610075459715,
          0.265171418022964,
          0.24091143749746446,
          0.09401686237254171,
          0.011794418045408222,
          0.07157263015312504,
          0.026413510066067125,
          0.061753071334450016,
          0.10215398103115271,
          0.0806035801987148,
          0.01652680452000005
         ],
         "yaxis": "y"
        },
        {
         "alignmentgroup": "True",
         "hovertemplate": "scac=HAPL<br>Time=%{x}<br>Percentage of Shared Cargo=%{y}<extra></extra>",
         "legendgroup": "HAPL",
         "marker": {
          "color": "#B6E880",
          "pattern": {
           "shape": ""
          }
         },
         "name": "HAPL",
         "offsetgroup": "HAPL",
         "orientation": "v",
         "showlegend": true,
         "textposition": "auto",
         "type": "bar",
         "x": [
          "202203"
         ],
         "xaxis": "x",
         "y": [
          0.07366540736428337
         ],
         "yaxis": "y"
        }
       ],
       "layout": {
        "barmode": "relative",
        "legend": {
         "title": {
          "text": "scac"
         },
         "tracegroupgap": 0
        },
        "template": {
         "data": {
          "bar": [
           {
            "error_x": {
             "color": "#2a3f5f"
            },
            "error_y": {
             "color": "#2a3f5f"
            },
            "marker": {
             "line": {
              "color": "#E5ECF6",
              "width": 0.5
             },
             "pattern": {
              "fillmode": "overlay",
              "size": 10,
              "solidity": 0.2
             }
            },
            "type": "bar"
           }
          ],
          "barpolar": [
           {
            "marker": {
             "line": {
              "color": "#E5ECF6",
              "width": 0.5
             },
             "pattern": {
              "fillmode": "overlay",
              "size": 10,
              "solidity": 0.2
             }
            },
            "type": "barpolar"
           }
          ],
          "carpet": [
           {
            "aaxis": {
             "endlinecolor": "#2a3f5f",
             "gridcolor": "white",
             "linecolor": "white",
             "minorgridcolor": "white",
             "startlinecolor": "#2a3f5f"
            },
            "baxis": {
             "endlinecolor": "#2a3f5f",
             "gridcolor": "white",
             "linecolor": "white",
             "minorgridcolor": "white",
             "startlinecolor": "#2a3f5f"
            },
            "type": "carpet"
           }
          ],
          "choropleth": [
           {
            "colorbar": {
             "outlinewidth": 0,
             "ticks": ""
            },
            "type": "choropleth"
           }
          ],
          "contour": [
           {
            "colorbar": {
             "outlinewidth": 0,
             "ticks": ""
            },
            "colorscale": [
             [
              0,
              "#0d0887"
             ],
             [
              0.1111111111111111,
              "#46039f"
             ],
             [
              0.2222222222222222,
              "#7201a8"
             ],
             [
              0.3333333333333333,
              "#9c179e"
             ],
             [
              0.4444444444444444,
              "#bd3786"
             ],
             [
              0.5555555555555556,
              "#d8576b"
             ],
             [
              0.6666666666666666,
              "#ed7953"
             ],
             [
              0.7777777777777778,
              "#fb9f3a"
             ],
             [
              0.8888888888888888,
              "#fdca26"
             ],
             [
              1,
              "#f0f921"
             ]
            ],
            "type": "contour"
           }
          ],
          "contourcarpet": [
           {
            "colorbar": {
             "outlinewidth": 0,
             "ticks": ""
            },
            "type": "contourcarpet"
           }
          ],
          "heatmap": [
           {
            "colorbar": {
             "outlinewidth": 0,
             "ticks": ""
            },
            "colorscale": [
             [
              0,
              "#0d0887"
             ],
             [
              0.1111111111111111,
              "#46039f"
             ],
             [
              0.2222222222222222,
              "#7201a8"
             ],
             [
              0.3333333333333333,
              "#9c179e"
             ],
             [
              0.4444444444444444,
              "#bd3786"
             ],
             [
              0.5555555555555556,
              "#d8576b"
             ],
             [
              0.6666666666666666,
              "#ed7953"
             ],
             [
              0.7777777777777778,
              "#fb9f3a"
             ],
             [
              0.8888888888888888,
              "#fdca26"
             ],
             [
              1,
              "#f0f921"
             ]
            ],
            "type": "heatmap"
           }
          ],
          "heatmapgl": [
           {
            "colorbar": {
             "outlinewidth": 0,
             "ticks": ""
            },
            "colorscale": [
             [
              0,
              "#0d0887"
             ],
             [
              0.1111111111111111,
              "#46039f"
             ],
             [
              0.2222222222222222,
              "#7201a8"
             ],
             [
              0.3333333333333333,
              "#9c179e"
             ],
             [
              0.4444444444444444,
              "#bd3786"
             ],
             [
              0.5555555555555556,
              "#d8576b"
             ],
             [
              0.6666666666666666,
              "#ed7953"
             ],
             [
              0.7777777777777778,
              "#fb9f3a"
             ],
             [
              0.8888888888888888,
              "#fdca26"
             ],
             [
              1,
              "#f0f921"
             ]
            ],
            "type": "heatmapgl"
           }
          ],
          "histogram": [
           {
            "marker": {
             "pattern": {
              "fillmode": "overlay",
              "size": 10,
              "solidity": 0.2
             }
            },
            "type": "histogram"
           }
          ],
          "histogram2d": [
           {
            "colorbar": {
             "outlinewidth": 0,
             "ticks": ""
            },
            "colorscale": [
             [
              0,
              "#0d0887"
             ],
             [
              0.1111111111111111,
              "#46039f"
             ],
             [
              0.2222222222222222,
              "#7201a8"
             ],
             [
              0.3333333333333333,
              "#9c179e"
             ],
             [
              0.4444444444444444,
              "#bd3786"
             ],
             [
              0.5555555555555556,
              "#d8576b"
             ],
             [
              0.6666666666666666,
              "#ed7953"
             ],
             [
              0.7777777777777778,
              "#fb9f3a"
             ],
             [
              0.8888888888888888,
              "#fdca26"
             ],
             [
              1,
              "#f0f921"
             ]
            ],
            "type": "histogram2d"
           }
          ],
          "histogram2dcontour": [
           {
            "colorbar": {
             "outlinewidth": 0,
             "ticks": ""
            },
            "colorscale": [
             [
              0,
              "#0d0887"
             ],
             [
              0.1111111111111111,
              "#46039f"
             ],
             [
              0.2222222222222222,
              "#7201a8"
             ],
             [
              0.3333333333333333,
              "#9c179e"
             ],
             [
              0.4444444444444444,
              "#bd3786"
             ],
             [
              0.5555555555555556,
              "#d8576b"
             ],
             [
              0.6666666666666666,
              "#ed7953"
             ],
             [
              0.7777777777777778,
              "#fb9f3a"
             ],
             [
              0.8888888888888888,
              "#fdca26"
             ],
             [
              1,
              "#f0f921"
             ]
            ],
            "type": "histogram2dcontour"
           }
          ],
          "mesh3d": [
           {
            "colorbar": {
             "outlinewidth": 0,
             "ticks": ""
            },
            "type": "mesh3d"
           }
          ],
          "parcoords": [
           {
            "line": {
             "colorbar": {
              "outlinewidth": 0,
              "ticks": ""
             }
            },
            "type": "parcoords"
           }
          ],
          "pie": [
           {
            "automargin": true,
            "type": "pie"
           }
          ],
          "scatter": [
           {
            "fillpattern": {
             "fillmode": "overlay",
             "size": 10,
             "solidity": 0.2
            },
            "type": "scatter"
           }
          ],
          "scatter3d": [
           {
            "line": {
             "colorbar": {
              "outlinewidth": 0,
              "ticks": ""
             }
            },
            "marker": {
             "colorbar": {
              "outlinewidth": 0,
              "ticks": ""
             }
            },
            "type": "scatter3d"
           }
          ],
          "scattercarpet": [
           {
            "marker": {
             "colorbar": {
              "outlinewidth": 0,
              "ticks": ""
             }
            },
            "type": "scattercarpet"
           }
          ],
          "scattergeo": [
           {
            "marker": {
             "colorbar": {
              "outlinewidth": 0,
              "ticks": ""
             }
            },
            "type": "scattergeo"
           }
          ],
          "scattergl": [
           {
            "marker": {
             "colorbar": {
              "outlinewidth": 0,
              "ticks": ""
             }
            },
            "type": "scattergl"
           }
          ],
          "scattermapbox": [
           {
            "marker": {
             "colorbar": {
              "outlinewidth": 0,
              "ticks": ""
             }
            },
            "type": "scattermapbox"
           }
          ],
          "scatterpolar": [
           {
            "marker": {
             "colorbar": {
              "outlinewidth": 0,
              "ticks": ""
             }
            },
            "type": "scatterpolar"
           }
          ],
          "scatterpolargl": [
           {
            "marker": {
             "colorbar": {
              "outlinewidth": 0,
              "ticks": ""
             }
            },
            "type": "scatterpolargl"
           }
          ],
          "scatterternary": [
           {
            "marker": {
             "colorbar": {
              "outlinewidth": 0,
              "ticks": ""
             }
            },
            "type": "scatterternary"
           }
          ],
          "surface": [
           {
            "colorbar": {
             "outlinewidth": 0,
             "ticks": ""
            },
            "colorscale": [
             [
              0,
              "#0d0887"
             ],
             [
              0.1111111111111111,
              "#46039f"
             ],
             [
              0.2222222222222222,
              "#7201a8"
             ],
             [
              0.3333333333333333,
              "#9c179e"
             ],
             [
              0.4444444444444444,
              "#bd3786"
             ],
             [
              0.5555555555555556,
              "#d8576b"
             ],
             [
              0.6666666666666666,
              "#ed7953"
             ],
             [
              0.7777777777777778,
              "#fb9f3a"
             ],
             [
              0.8888888888888888,
              "#fdca26"
             ],
             [
              1,
              "#f0f921"
             ]
            ],
            "type": "surface"
           }
          ],
          "table": [
           {
            "cells": {
             "fill": {
              "color": "#EBF0F8"
             },
             "line": {
              "color": "white"
             }
            },
            "header": {
             "fill": {
              "color": "#C8D4E3"
             },
             "line": {
              "color": "white"
             }
            },
            "type": "table"
           }
          ]
         },
         "layout": {
          "annotationdefaults": {
           "arrowcolor": "#2a3f5f",
           "arrowhead": 0,
           "arrowwidth": 1
          },
          "autotypenumbers": "strict",
          "coloraxis": {
           "colorbar": {
            "outlinewidth": 0,
            "ticks": ""
           }
          },
          "colorscale": {
           "diverging": [
            [
             0,
             "#8e0152"
            ],
            [
             0.1,
             "#c51b7d"
            ],
            [
             0.2,
             "#de77ae"
            ],
            [
             0.3,
             "#f1b6da"
            ],
            [
             0.4,
             "#fde0ef"
            ],
            [
             0.5,
             "#f7f7f7"
            ],
            [
             0.6,
             "#e6f5d0"
            ],
            [
             0.7,
             "#b8e186"
            ],
            [
             0.8,
             "#7fbc41"
            ],
            [
             0.9,
             "#4d9221"
            ],
            [
             1,
             "#276419"
            ]
           ],
           "sequential": [
            [
             0,
             "#0d0887"
            ],
            [
             0.1111111111111111,
             "#46039f"
            ],
            [
             0.2222222222222222,
             "#7201a8"
            ],
            [
             0.3333333333333333,
             "#9c179e"
            ],
            [
             0.4444444444444444,
             "#bd3786"
            ],
            [
             0.5555555555555556,
             "#d8576b"
            ],
            [
             0.6666666666666666,
             "#ed7953"
            ],
            [
             0.7777777777777778,
             "#fb9f3a"
            ],
            [
             0.8888888888888888,
             "#fdca26"
            ],
            [
             1,
             "#f0f921"
            ]
           ],
           "sequentialminus": [
            [
             0,
             "#0d0887"
            ],
            [
             0.1111111111111111,
             "#46039f"
            ],
            [
             0.2222222222222222,
             "#7201a8"
            ],
            [
             0.3333333333333333,
             "#9c179e"
            ],
            [
             0.4444444444444444,
             "#bd3786"
            ],
            [
             0.5555555555555556,
             "#d8576b"
            ],
            [
             0.6666666666666666,
             "#ed7953"
            ],
            [
             0.7777777777777778,
             "#fb9f3a"
            ],
            [
             0.8888888888888888,
             "#fdca26"
            ],
            [
             1,
             "#f0f921"
            ]
           ]
          },
          "colorway": [
           "#636efa",
           "#EF553B",
           "#00cc96",
           "#ab63fa",
           "#FFA15A",
           "#19d3f3",
           "#FF6692",
           "#B6E880",
           "#FF97FF",
           "#FECB52"
          ],
          "font": {
           "color": "#2a3f5f"
          },
          "geo": {
           "bgcolor": "white",
           "lakecolor": "white",
           "landcolor": "#E5ECF6",
           "showlakes": true,
           "showland": true,
           "subunitcolor": "white"
          },
          "hoverlabel": {
           "align": "left"
          },
          "hovermode": "closest",
          "mapbox": {
           "style": "light"
          },
          "paper_bgcolor": "white",
          "plot_bgcolor": "#E5ECF6",
          "polar": {
           "angularaxis": {
            "gridcolor": "white",
            "linecolor": "white",
            "ticks": ""
           },
           "bgcolor": "#E5ECF6",
           "radialaxis": {
            "gridcolor": "white",
            "linecolor": "white",
            "ticks": ""
           }
          },
          "scene": {
           "xaxis": {
            "backgroundcolor": "#E5ECF6",
            "gridcolor": "white",
            "gridwidth": 2,
            "linecolor": "white",
            "showbackground": true,
            "ticks": "",
            "zerolinecolor": "white"
           },
           "yaxis": {
            "backgroundcolor": "#E5ECF6",
            "gridcolor": "white",
            "gridwidth": 2,
            "linecolor": "white",
            "showbackground": true,
            "ticks": "",
            "zerolinecolor": "white"
           },
           "zaxis": {
            "backgroundcolor": "#E5ECF6",
            "gridcolor": "white",
            "gridwidth": 2,
            "linecolor": "white",
            "showbackground": true,
            "ticks": "",
            "zerolinecolor": "white"
           }
          },
          "shapedefaults": {
           "line": {
            "color": "#2a3f5f"
           }
          },
          "ternary": {
           "aaxis": {
            "gridcolor": "white",
            "linecolor": "white",
            "ticks": ""
           },
           "baxis": {
            "gridcolor": "white",
            "linecolor": "white",
            "ticks": ""
           },
           "bgcolor": "#E5ECF6",
           "caxis": {
            "gridcolor": "white",
            "linecolor": "white",
            "ticks": ""
           }
          },
          "title": {
           "x": 0.05
          },
          "xaxis": {
           "automargin": true,
           "gridcolor": "white",
           "linecolor": "white",
           "ticks": "",
           "title": {
            "standoff": 15
           },
           "zerolinecolor": "white",
           "zerolinewidth": 2
          },
          "yaxis": {
           "automargin": true,
           "gridcolor": "white",
           "linecolor": "white",
           "ticks": "",
           "title": {
            "standoff": 15
           },
           "zerolinecolor": "white",
           "zerolinewidth": 2
          }
         }
        },
        "title": {
         "text": "Proportion of shared cargo on Mediterranean ships by Carrier"
        },
        "xaxis": {
         "anchor": "y",
         "domain": [
          0,
          1
         ],
         "title": {
          "text": "Time"
         }
        },
        "yaxis": {
         "anchor": "x",
         "domain": [
          0,
          1
         ],
         "title": {
          "text": "Percentage of Shared Cargo"
         }
        }
       }
      }
     },
     "metadata": {},
     "output_type": "display_data"
    }
   ],
   "source": [
    "#get shared cargo percents from other carriers\n",
    "df = (\n",
    "    share_df\n",
    "    #only maersk vessels but not maersk cargo\n",
    "    .filter((pl.col('vessel_owner')=='MSCU')&(pl.col('scac')!='MSCU'))\n",
    "    #get percentages of other carriers\n",
    "    .group_by('scac','month')\n",
    "    .agg(pl.col('shared_teus').sum())\n",
    "    .with_columns(pl.col('shared_teus').sum().over('month').alias('total_shared'))\n",
    "    .with_columns((pl.col('shared_teus')/pl.col('total_shared')).alias('prop_shared'))\n",
    "    .sort(by=['month'])\n",
    ")\n",
    "#plot\n",
    "px.bar(df.cast({'scac':pl.Utf8}), x='month', y='prop_shared', color='scac', \n",
    "       title='Proportion of shared cargo on Mediterranean ships by Carrier',\n",
    "       labels={\n",
    "           'prop_shared':'Percentage of Shared Cargo',\n",
    "           'month':'Time'\n",
    "       })"
   ]
  },
  {
   "cell_type": "markdown",
   "metadata": {},
   "source": [
    "## Regression"
   ]
  },
  {
   "cell_type": "code",
   "execution_count": 10,
   "metadata": {},
   "outputs": [
    {
     "data": {
      "text/html": [
       "<div><style>\n",
       ".dataframe > thead > tr,\n",
       ".dataframe > tbody > tr {\n",
       "  text-align: right;\n",
       "  white-space: pre-wrap;\n",
       "}\n",
       "</style>\n",
       "<small>shape: (9, 6)</small><table border=\"1\" class=\"dataframe\"><thead><tr><th>statistic</th><th>lane_id</th><th>scac</th><th>year</th><th>month</th><th>service_freq</th></tr><tr><td>str</td><td>str</td><td>str</td><td>f64</td><td>str</td><td>f64</td></tr></thead><tbody><tr><td>&quot;count&quot;</td><td>&quot;710650&quot;</td><td>&quot;710650&quot;</td><td>710650.0</td><td>&quot;710650&quot;</td><td>710650.0</td></tr><tr><td>&quot;null_count&quot;</td><td>&quot;0&quot;</td><td>&quot;0&quot;</td><td>0.0</td><td>&quot;0&quot;</td><td>0.0</td></tr><tr><td>&quot;mean&quot;</td><td>null</td><td>null</td><td>2015.350219</td><td>&quot;2015-10-22 17:…</td><td>2.678755</td></tr><tr><td>&quot;std&quot;</td><td>null</td><td>null</td><td>4.94651</td><td>null</td><td>1.940277</td></tr><tr><td>&quot;min&quot;</td><td>null</td><td>null</td><td>2005.0</td><td>&quot;2005-01-01 00:…</td><td>1.0</td></tr><tr><td>&quot;25%&quot;</td><td>null</td><td>null</td><td>2011.0</td><td>&quot;2011-12-01 00:…</td><td>1.0</td></tr><tr><td>&quot;50%&quot;</td><td>null</td><td>null</td><td>2016.0</td><td>&quot;2016-06-01 00:…</td><td>2.0</td></tr><tr><td>&quot;75%&quot;</td><td>null</td><td>null</td><td>2019.0</td><td>&quot;2019-12-01 00:…</td><td>4.0</td></tr><tr><td>&quot;max&quot;</td><td>null</td><td>null</td><td>2023.0</td><td>&quot;2023-11-01 00:…</td><td>25.0</td></tr></tbody></table></div>"
      ],
      "text/plain": [
       "shape: (9, 6)\n",
       "┌────────────┬─────────┬────────┬─────────────┬────────────────────────────┬──────────────┐\n",
       "│ statistic  ┆ lane_id ┆ scac   ┆ year        ┆ month                      ┆ service_freq │\n",
       "│ ---        ┆ ---     ┆ ---    ┆ ---         ┆ ---                        ┆ ---          │\n",
       "│ str        ┆ str     ┆ str    ┆ f64         ┆ str                        ┆ f64          │\n",
       "╞════════════╪═════════╪════════╪═════════════╪════════════════════════════╪══════════════╡\n",
       "│ count      ┆ 710650  ┆ 710650 ┆ 710650.0    ┆ 710650                     ┆ 710650.0     │\n",
       "│ null_count ┆ 0       ┆ 0      ┆ 0.0         ┆ 0                          ┆ 0.0          │\n",
       "│ mean       ┆ null    ┆ null   ┆ 2015.350219 ┆ 2015-10-22 17:34:58.683740 ┆ 2.678755     │\n",
       "│ std        ┆ null    ┆ null   ┆ 4.94651     ┆ null                       ┆ 1.940277     │\n",
       "│ min        ┆ null    ┆ null   ┆ 2005.0      ┆ 2005-01-01 00:00:00        ┆ 1.0          │\n",
       "│ 25%        ┆ null    ┆ null   ┆ 2011.0      ┆ 2011-12-01 00:00:00        ┆ 1.0          │\n",
       "│ 50%        ┆ null    ┆ null   ┆ 2016.0      ┆ 2016-06-01 00:00:00        ┆ 2.0          │\n",
       "│ 75%        ┆ null    ┆ null   ┆ 2019.0      ┆ 2019-12-01 00:00:00        ┆ 4.0          │\n",
       "│ max        ┆ null    ┆ null   ┆ 2023.0      ┆ 2023-11-01 00:00:00        ┆ 25.0         │\n",
       "└────────────┴─────────┴────────┴─────────────┴────────────────────────────┴──────────────┘"
      ]
     },
     "metadata": {},
     "output_type": "display_data"
    },
    {
     "data": {
      "text/html": [
       "<div><style>\n",
       ".dataframe > thead > tr,\n",
       ".dataframe > tbody > tr {\n",
       "  text-align: right;\n",
       "  white-space: pre-wrap;\n",
       "}\n",
       "</style>\n",
       "<small>shape: (5, 5)</small><table border=\"1\" class=\"dataframe\"><thead><tr><th>lane_id</th><th>scac</th><th>year</th><th>month</th><th>service_freq</th></tr><tr><td>cat</td><td>cat</td><td>i32</td><td>datetime[μs]</td><td>i16</td></tr></thead><tbody><tr><td>&quot;2704_55707&quot;</td><td>&quot;COSU&quot;</td><td>2017</td><td>2017-09-01 00:00:00</td><td>1</td></tr><tr><td>&quot;2811_53827&quot;</td><td>&quot;OOLU&quot;</td><td>2012</td><td>2012-04-01 00:00:00</td><td>1</td></tr><tr><td>&quot;2713_21951&quot;</td><td>&quot;SUDU&quot;</td><td>2016</td><td>2016-08-01 00:00:00</td><td>2</td></tr><tr><td>&quot;2709_58886&quot;</td><td>&quot;NYKS&quot;</td><td>2012</td><td>2012-08-01 00:00:00</td><td>4</td></tr><tr><td>&quot;2709_48931&quot;</td><td>&quot;HAPL&quot;</td><td>2020</td><td>2020-04-01 00:00:00</td><td>1</td></tr></tbody></table></div>"
      ],
      "text/plain": [
       "shape: (5, 5)\n",
       "┌────────────┬──────┬──────┬─────────────────────┬──────────────┐\n",
       "│ lane_id    ┆ scac ┆ year ┆ month               ┆ service_freq │\n",
       "│ ---        ┆ ---  ┆ ---  ┆ ---                 ┆ ---          │\n",
       "│ cat        ┆ cat  ┆ i32  ┆ datetime[μs]        ┆ i16          │\n",
       "╞════════════╪══════╪══════╪═════════════════════╪══════════════╡\n",
       "│ 2704_55707 ┆ COSU ┆ 2017 ┆ 2017-09-01 00:00:00 ┆ 1            │\n",
       "│ 2811_53827 ┆ OOLU ┆ 2012 ┆ 2012-04-01 00:00:00 ┆ 1            │\n",
       "│ 2713_21951 ┆ SUDU ┆ 2016 ┆ 2016-08-01 00:00:00 ┆ 2            │\n",
       "│ 2709_58886 ┆ NYKS ┆ 2012 ┆ 2012-08-01 00:00:00 ┆ 4            │\n",
       "│ 2709_48931 ┆ HAPL ┆ 2020 ┆ 2020-04-01 00:00:00 ┆ 1            │\n",
       "└────────────┴──────┴──────┴─────────────────────┴──────────────┘"
      ]
     },
     "execution_count": 10,
     "metadata": {},
     "output_type": "execute_result"
    }
   ],
   "source": [
    "#collect data into regular dataframe for analysis\n",
    "df = (\n",
    "    exports_lf\n",
    "    #aggregate by lane, carrier, and month, counting unique departure dates to determine service frequency\n",
    "    .group_by('lane_id', 'unified_carrier_scac', 'year', 'month')\n",
    "    .agg(pl.col('date_departure').unique().count().alias('service_freq'))\n",
    "    #rename carrier code column\n",
    "    .rename({'unified_carrier_scac':'scac'})\n",
    "    #cast data types\n",
    "    .cast({'service_freq':pl.Int16})\n",
    "    .with_columns(pl.col('month').str.to_datetime('%Y%m'))\n",
    "    .collect()\n",
    ")\n",
    "\n",
    "#display\n",
    "display(df.describe())\n",
    "df.head()"
   ]
  },
  {
   "cell_type": "code",
   "execution_count": 11,
   "metadata": {},
   "outputs": [],
   "source": [
    "\n",
    "#join alliance membership data into main df\n",
    "df = (\n",
    "    df.join(alliances_df, on=['scac', 'year'], how='left')\n",
    "    #set missing alliance membership values to null \n",
    "    .with_columns(pl.col('alliance_member').fill_null(0))\n",
    ")"
   ]
  },
  {
   "cell_type": "code",
   "execution_count": 12,
   "metadata": {},
   "outputs": [
    {
     "data": {
      "text/html": [
       "<div><style>\n",
       ".dataframe > thead > tr,\n",
       ".dataframe > tbody > tr {\n",
       "  text-align: right;\n",
       "  white-space: pre-wrap;\n",
       "}\n",
       "</style>\n",
       "<small>shape: (5, 6)</small><table border=\"1\" class=\"dataframe\"><thead><tr><th>lane_id</th><th>scac</th><th>year</th><th>month</th><th>service_freq</th><th>alliance_member</th></tr><tr><td>cat</td><td>cat</td><td>i32</td><td>datetime[μs]</td><td>i16</td><td>i32</td></tr></thead><tbody><tr><td>&quot;2704_55707&quot;</td><td>&quot;COSU&quot;</td><td>2017</td><td>2017-09-01 00:00:00</td><td>1</td><td>0</td></tr><tr><td>&quot;2811_53827&quot;</td><td>&quot;OOLU&quot;</td><td>2012</td><td>2012-04-01 00:00:00</td><td>1</td><td>0</td></tr><tr><td>&quot;2713_21951&quot;</td><td>&quot;SUDU&quot;</td><td>2016</td><td>2016-08-01 00:00:00</td><td>2</td><td>0</td></tr><tr><td>&quot;2709_58886&quot;</td><td>&quot;NYKS&quot;</td><td>2012</td><td>2012-08-01 00:00:00</td><td>4</td><td>0</td></tr><tr><td>&quot;2709_48931&quot;</td><td>&quot;HAPL&quot;</td><td>2020</td><td>2020-04-01 00:00:00</td><td>1</td><td>1</td></tr></tbody></table></div>"
      ],
      "text/plain": [
       "shape: (5, 6)\n",
       "┌────────────┬──────┬──────┬─────────────────────┬──────────────┬─────────────────┐\n",
       "│ lane_id    ┆ scac ┆ year ┆ month               ┆ service_freq ┆ alliance_member │\n",
       "│ ---        ┆ ---  ┆ ---  ┆ ---                 ┆ ---          ┆ ---             │\n",
       "│ cat        ┆ cat  ┆ i32  ┆ datetime[μs]        ┆ i16          ┆ i32             │\n",
       "╞════════════╪══════╪══════╪═════════════════════╪══════════════╪═════════════════╡\n",
       "│ 2704_55707 ┆ COSU ┆ 2017 ┆ 2017-09-01 00:00:00 ┆ 1            ┆ 0               │\n",
       "│ 2811_53827 ┆ OOLU ┆ 2012 ┆ 2012-04-01 00:00:00 ┆ 1            ┆ 0               │\n",
       "│ 2713_21951 ┆ SUDU ┆ 2016 ┆ 2016-08-01 00:00:00 ┆ 2            ┆ 0               │\n",
       "│ 2709_58886 ┆ NYKS ┆ 2012 ┆ 2012-08-01 00:00:00 ┆ 4            ┆ 0               │\n",
       "│ 2709_48931 ┆ HAPL ┆ 2020 ┆ 2020-04-01 00:00:00 ┆ 1            ┆ 1               │\n",
       "└────────────┴──────┴──────┴─────────────────────┴──────────────┴─────────────────┘"
      ]
     },
     "execution_count": 12,
     "metadata": {},
     "output_type": "execute_result"
    }
   ],
   "source": [
    "df.head()"
   ]
  },
  {
   "cell_type": "markdown",
   "metadata": {},
   "source": [
    "### Identifying whether a lane was serviced by that carrier before the alliance took effect"
   ]
  },
  {
   "cell_type": "code",
   "execution_count": 13,
   "metadata": {},
   "outputs": [
    {
     "data": {
      "text/html": [
       "<div><style>\n",
       ".dataframe > thead > tr,\n",
       ".dataframe > tbody > tr {\n",
       "  text-align: right;\n",
       "  white-space: pre-wrap;\n",
       "}\n",
       "</style>\n",
       "<small>shape: (5, 7)</small><table border=\"1\" class=\"dataframe\"><thead><tr><th>lane_id</th><th>scac</th><th>year</th><th>month</th><th>service_freq</th><th>alliance_member</th><th>service_prior</th></tr><tr><td>cat</td><td>cat</td><td>i32</td><td>datetime[μs]</td><td>i16</td><td>i32</td><td>i32</td></tr></thead><tbody><tr><td>&quot;2704_55707&quot;</td><td>&quot;COSU&quot;</td><td>2017</td><td>2017-09-01 00:00:00</td><td>1</td><td>0</td><td>1</td></tr><tr><td>&quot;2811_53827&quot;</td><td>&quot;OOLU&quot;</td><td>2012</td><td>2012-04-01 00:00:00</td><td>1</td><td>0</td><td>1</td></tr><tr><td>&quot;2713_21951&quot;</td><td>&quot;SUDU&quot;</td><td>2016</td><td>2016-08-01 00:00:00</td><td>2</td><td>0</td><td>1</td></tr><tr><td>&quot;2709_58886&quot;</td><td>&quot;NYKS&quot;</td><td>2012</td><td>2012-08-01 00:00:00</td><td>4</td><td>0</td><td>1</td></tr><tr><td>&quot;2709_48931&quot;</td><td>&quot;HAPL&quot;</td><td>2020</td><td>2020-04-01 00:00:00</td><td>1</td><td>1</td><td>0</td></tr></tbody></table></div>"
      ],
      "text/plain": [
       "shape: (5, 7)\n",
       "┌────────────┬──────┬──────┬─────────────────────┬──────────────┬─────────────────┬───────────────┐\n",
       "│ lane_id    ┆ scac ┆ year ┆ month               ┆ service_freq ┆ alliance_member ┆ service_prior │\n",
       "│ ---        ┆ ---  ┆ ---  ┆ ---                 ┆ ---          ┆ ---             ┆ ---           │\n",
       "│ cat        ┆ cat  ┆ i32  ┆ datetime[μs]        ┆ i16          ┆ i32             ┆ i32           │\n",
       "╞════════════╪══════╪══════╪═════════════════════╪══════════════╪═════════════════╪═══════════════╡\n",
       "│ 2704_55707 ┆ COSU ┆ 2017 ┆ 2017-09-01 00:00:00 ┆ 1            ┆ 0               ┆ 1             │\n",
       "│ 2811_53827 ┆ OOLU ┆ 2012 ┆ 2012-04-01 00:00:00 ┆ 1            ┆ 0               ┆ 1             │\n",
       "│ 2713_21951 ┆ SUDU ┆ 2016 ┆ 2016-08-01 00:00:00 ┆ 2            ┆ 0               ┆ 1             │\n",
       "│ 2709_58886 ┆ NYKS ┆ 2012 ┆ 2012-08-01 00:00:00 ┆ 4            ┆ 0               ┆ 1             │\n",
       "│ 2709_48931 ┆ HAPL ┆ 2020 ┆ 2020-04-01 00:00:00 ┆ 1            ┆ 1               ┆ 0             │\n",
       "└────────────┴──────┴──────┴─────────────────────┴──────────────┴─────────────────┴───────────────┘"
      ]
     },
     "execution_count": 13,
     "metadata": {},
     "output_type": "execute_result"
    }
   ],
   "source": [
    "df= (\n",
    "    #get total voyages prior to joining an alliance for each lane and carrier\n",
    "    df.with_columns(\n",
    "        pl.when(pl.col('alliance_member')==0)\n",
    "        .then(pl.col('service_freq').sum().over('lane_id', 'scac'))\n",
    "        .otherwise(pl.lit(0))\n",
    "        .alias('service_prior')\n",
    "    )\n",
    "    #simplify to 1 if any service prior to alliance, 0 otherwise\n",
    "    .with_columns(\n",
    "        pl.when(pl.col('service_prior').sum()>0)\n",
    "        .then(pl.lit(1))\n",
    "        .otherwise(pl.lit(0))\n",
    "        .over('lane_id', 'scac')\n",
    "        .alias('service_prior')\n",
    "    )\n",
    ")\n",
    "df.head()"
   ]
  },
  {
   "cell_type": "markdown",
   "metadata": {},
   "source": [
    "## Simple OLS Regression\n",
    "\n",
    "Leaving out any correction variables for the moment, we estimate a simple OLS regression model on the equation above. "
   ]
  },
  {
   "cell_type": "code",
   "execution_count": 14,
   "metadata": {},
   "outputs": [
    {
     "data": {
      "text/html": [
       "<table class=\"simpletable\">\n",
       "<caption>OLS Regression Results</caption>\n",
       "<tr>\n",
       "  <th>Dep. Variable:</th>      <td>service_freq</td>   <th>  R-squared:         </th>  <td>   0.010</td>  \n",
       "</tr>\n",
       "<tr>\n",
       "  <th>Model:</th>                   <td>OLS</td>       <th>  Adj. R-squared:    </th>  <td>   0.010</td>  \n",
       "</tr>\n",
       "<tr>\n",
       "  <th>Method:</th>             <td>Least Squares</td>  <th>  F-statistic:       </th>  <td>   2377.</td>  \n",
       "</tr>\n",
       "<tr>\n",
       "  <th>Date:</th>             <td>Tue, 23 Apr 2024</td> <th>  Prob (F-statistic):</th>   <td>  0.00</td>   \n",
       "</tr>\n",
       "<tr>\n",
       "  <th>Time:</th>                 <td>16:56:14</td>     <th>  Log-Likelihood:    </th> <td>-1.4759e+06</td>\n",
       "</tr>\n",
       "<tr>\n",
       "  <th>No. Observations:</th>      <td>710650</td>      <th>  AIC:               </th>  <td>2.952e+06</td> \n",
       "</tr>\n",
       "<tr>\n",
       "  <th>Df Residuals:</th>          <td>710646</td>      <th>  BIC:               </th>  <td>2.952e+06</td> \n",
       "</tr>\n",
       "<tr>\n",
       "  <th>Df Model:</th>              <td>     3</td>      <th>                     </th>      <td> </td>     \n",
       "</tr>\n",
       "<tr>\n",
       "  <th>Covariance Type:</th>      <td>nonrobust</td>    <th>                     </th>      <td> </td>     \n",
       "</tr>\n",
       "</table>\n",
       "<table class=\"simpletable\">\n",
       "<tr>\n",
       "         <td></td>            <th>coef</th>     <th>std err</th>      <th>t</th>      <th>P>|t|</th>  <th>[0.025</th>    <th>0.975]</th>  \n",
       "</tr>\n",
       "<tr>\n",
       "  <th>const</th>           <td>-1.462e+09</td> <td>  1.4e+09</td> <td>   -1.045</td> <td> 0.296</td> <td> -4.2e+09</td> <td> 1.28e+09</td>\n",
       "</tr>\n",
       "<tr>\n",
       "  <th>alliance_member</th> <td> 1.462e+09</td> <td>  1.4e+09</td> <td>    1.045</td> <td> 0.296</td> <td>-1.28e+09</td> <td>  4.2e+09</td>\n",
       "</tr>\n",
       "<tr>\n",
       "  <th>service_prior</th>   <td> 1.462e+09</td> <td>  1.4e+09</td> <td>    1.045</td> <td> 0.296</td> <td>-1.28e+09</td> <td>  4.2e+09</td>\n",
       "</tr>\n",
       "<tr>\n",
       "  <th>alliance*prior</th>  <td>-1.462e+09</td> <td>  1.4e+09</td> <td>   -1.045</td> <td> 0.296</td> <td> -4.2e+09</td> <td> 1.28e+09</td>\n",
       "</tr>\n",
       "</table>\n",
       "<table class=\"simpletable\">\n",
       "<tr>\n",
       "  <th>Omnibus:</th>       <td>253470.958</td> <th>  Durbin-Watson:     </th>  <td>   1.996</td>  \n",
       "</tr>\n",
       "<tr>\n",
       "  <th>Prob(Omnibus):</th>   <td> 0.000</td>   <th>  Jarque-Bera (JB):  </th> <td>1050462.971</td>\n",
       "</tr>\n",
       "<tr>\n",
       "  <th>Skew:</th>            <td> 1.739</td>   <th>  Prob(JB):          </th>  <td>    0.00</td>  \n",
       "</tr>\n",
       "<tr>\n",
       "  <th>Kurtosis:</th>        <td> 7.835</td>   <th>  Cond. No.          </th>  <td>1.73e+12</td>  \n",
       "</tr>\n",
       "</table><br/><br/>Notes:<br/>[1] Standard Errors assume that the covariance matrix of the errors is correctly specified.<br/>[2] The smallest eigenvalue is 4.76e-19. This might indicate that there are<br/>strong multicollinearity problems or that the design matrix is singular."
      ],
      "text/latex": [
       "\\begin{center}\n",
       "\\begin{tabular}{lclc}\n",
       "\\toprule\n",
       "\\textbf{Dep. Variable:}    &  service\\_freq   & \\textbf{  R-squared:         } &      0.010   \\\\\n",
       "\\textbf{Model:}            &       OLS        & \\textbf{  Adj. R-squared:    } &      0.010   \\\\\n",
       "\\textbf{Method:}           &  Least Squares   & \\textbf{  F-statistic:       } &      2377.   \\\\\n",
       "\\textbf{Date:}             & Tue, 23 Apr 2024 & \\textbf{  Prob (F-statistic):} &      0.00    \\\\\n",
       "\\textbf{Time:}             &     16:56:14     & \\textbf{  Log-Likelihood:    } & -1.4759e+06  \\\\\n",
       "\\textbf{No. Observations:} &      710650      & \\textbf{  AIC:               } &  2.952e+06   \\\\\n",
       "\\textbf{Df Residuals:}     &      710646      & \\textbf{  BIC:               } &  2.952e+06   \\\\\n",
       "\\textbf{Df Model:}         &           3      & \\textbf{                     } &              \\\\\n",
       "\\textbf{Covariance Type:}  &    nonrobust     & \\textbf{                     } &              \\\\\n",
       "\\bottomrule\n",
       "\\end{tabular}\n",
       "\\begin{tabular}{lcccccc}\n",
       "                          & \\textbf{coef} & \\textbf{std err} & \\textbf{t} & \\textbf{P$> |$t$|$} & \\textbf{[0.025} & \\textbf{0.975]}  \\\\\n",
       "\\midrule\n",
       "\\textbf{const}            &   -1.462e+09  &      1.4e+09     &    -1.045  &         0.296        &     -4.2e+09    &     1.28e+09     \\\\\n",
       "\\textbf{alliance\\_member} &    1.462e+09  &      1.4e+09     &     1.045  &         0.296        &    -1.28e+09    &      4.2e+09     \\\\\n",
       "\\textbf{service\\_prior}   &    1.462e+09  &      1.4e+09     &     1.045  &         0.296        &    -1.28e+09    &      4.2e+09     \\\\\n",
       "\\textbf{alliance*prior}   &   -1.462e+09  &      1.4e+09     &    -1.045  &         0.296        &     -4.2e+09    &     1.28e+09     \\\\\n",
       "\\bottomrule\n",
       "\\end{tabular}\n",
       "\\begin{tabular}{lclc}\n",
       "\\textbf{Omnibus:}       & 253470.958 & \\textbf{  Durbin-Watson:     } &      1.996   \\\\\n",
       "\\textbf{Prob(Omnibus):} &    0.000   & \\textbf{  Jarque-Bera (JB):  } & 1050462.971  \\\\\n",
       "\\textbf{Skew:}          &    1.739   & \\textbf{  Prob(JB):          } &       0.00   \\\\\n",
       "\\textbf{Kurtosis:}      &    7.835   & \\textbf{  Cond. No.          } &   1.73e+12   \\\\\n",
       "\\bottomrule\n",
       "\\end{tabular}\n",
       "%\\caption{OLS Regression Results}\n",
       "\\end{center}\n",
       "\n",
       "Notes: \\newline\n",
       " [1] Standard Errors assume that the covariance matrix of the errors is correctly specified. \\newline\n",
       " [2] The smallest eigenvalue is 4.76e-19. This might indicate that there are \\newline\n",
       " strong multicollinearity problems or that the design matrix is singular."
      ],
      "text/plain": [
       "<class 'statsmodels.iolib.summary.Summary'>\n",
       "\"\"\"\n",
       "                            OLS Regression Results                            \n",
       "==============================================================================\n",
       "Dep. Variable:           service_freq   R-squared:                       0.010\n",
       "Model:                            OLS   Adj. R-squared:                  0.010\n",
       "Method:                 Least Squares   F-statistic:                     2377.\n",
       "Date:                Tue, 23 Apr 2024   Prob (F-statistic):               0.00\n",
       "Time:                        16:56:14   Log-Likelihood:            -1.4759e+06\n",
       "No. Observations:              710650   AIC:                         2.952e+06\n",
       "Df Residuals:                  710646   BIC:                         2.952e+06\n",
       "Df Model:                           3                                         \n",
       "Covariance Type:            nonrobust                                         \n",
       "===================================================================================\n",
       "                      coef    std err          t      P>|t|      [0.025      0.975]\n",
       "-----------------------------------------------------------------------------------\n",
       "const           -1.462e+09    1.4e+09     -1.045      0.296    -4.2e+09    1.28e+09\n",
       "alliance_member  1.462e+09    1.4e+09      1.045      0.296   -1.28e+09     4.2e+09\n",
       "service_prior    1.462e+09    1.4e+09      1.045      0.296   -1.28e+09     4.2e+09\n",
       "alliance*prior  -1.462e+09    1.4e+09     -1.045      0.296    -4.2e+09    1.28e+09\n",
       "==============================================================================\n",
       "Omnibus:                   253470.958   Durbin-Watson:                   1.996\n",
       "Prob(Omnibus):                  0.000   Jarque-Bera (JB):          1050462.971\n",
       "Skew:                           1.739   Prob(JB):                         0.00\n",
       "Kurtosis:                       7.835   Cond. No.                     1.73e+12\n",
       "==============================================================================\n",
       "\n",
       "Notes:\n",
       "[1] Standard Errors assume that the covariance matrix of the errors is correctly specified.\n",
       "[2] The smallest eigenvalue is 4.76e-19. This might indicate that there are\n",
       "strong multicollinearity problems or that the design matrix is singular.\n",
       "\"\"\""
      ]
     },
     "execution_count": 14,
     "metadata": {},
     "output_type": "execute_result"
    }
   ],
   "source": [
    "#set dependent and independent variables\n",
    "Y = df.select('service_freq').to_pandas()\n",
    "X = (\n",
    "    df.select('alliance_member', 'service_prior')\n",
    "    .with_columns((pl.col('alliance_member')*pl.col('service_prior')).alias('alliance*prior'))\n",
    "    .to_pandas()\n",
    ")\n",
    "#add intercept\n",
    "X = sm.add_constant(X)\n",
    "#instantiate model\n",
    "model = sm.OLS(Y,X)\n",
    "#run regression\n",
    "results = model.fit()\n",
    "\n",
    "#display\n",
    "results.summary()\n"
   ]
  },
  {
   "cell_type": "code",
   "execution_count": 15,
   "metadata": {},
   "outputs": [
    {
     "data": {
      "image/png": "[encoded data removed]",
      "text/plain": [
       "<Figure size 640x480 with 1 Axes>"
      ]
     },
     "metadata": {},
     "output_type": "display_data"
    }
   ],
   "source": [
    "#obtain moments for residuals\n",
    "mu, std = scipy.stats.norm.fit(results.resid)\n",
    "\n",
    "#plot resid distribution\n",
    "fig, ax = plt.subplots()\n",
    "sns.histplot(x=results.resid, ax=ax, stat='density', linewidth=0, kde=True)\n",
    "ax.set(title='Distribution of model_OLS residuals', xlabel='residual')\n",
    "\n",
    "#add corresponding normal curve\n",
    "xmin, xmax = plt.xlim()\n",
    "x = np.linspace(xmin, xmax, 100)\n",
    "p = scipy.stats.norm.pdf(x,mu,std)\n",
    "sns.lineplot(x=x, y=p, color='red', ax=ax)\n",
    "plt.show()"
   ]
  },
  {
   "cell_type": "code",
   "execution_count": 16,
   "metadata": {},
   "outputs": [
    {
     "data": {
      "image/png": "[encoded data removed]",
      "text/plain": [
       "<Figure size 640x480 with 1 Axes>"
      ]
     },
     "metadata": {},
     "output_type": "display_data"
    }
   ],
   "source": [
    "sm.qqplot(results.resid, line='45', fit=True);"
   ]
  },
  {
   "cell_type": "markdown",
   "metadata": {},
   "source": [
    "### Limitations\n",
    "\n",
    "1. It's broke. \n",
    "2. The simplistic method of identifying when a carrier had previously serviced that lane results in a uninteresting alliance*prior interaction term. We need to decide on a better means of identification. \n",
    "3. Complete alliance membership data only goes back to 2017; we need to update that table. "
   ]
  }
 ],
 "metadata": {
  "kernelspec": {
   "display_name": "wsu",
   "language": "python",
   "name": "python3"
  },
  "language_info": {
   "codemirror_mode": {
    "name": "ipython",
    "version": 3
   },
   "file_extension": ".py",
   "mimetype": "text/x-python",
   "name": "python",
   "nbconvert_exporter": "python",
   "pygments_lexer": "ipython3",
   "version": "3.12.0"
  }
 },
 "nbformat": 4,
 "nbformat_minor": 2
}
