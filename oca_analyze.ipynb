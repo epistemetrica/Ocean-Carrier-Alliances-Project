{
 "cells": [
  {
   "cell_type": "markdown",
   "metadata": {},
   "source": [
    "# Ocean Carrier Alliances Project - Analysis and Modeling"
   ]
  },
  {
   "cell_type": "markdown",
   "metadata": {},
   "source": [
    "The initial model for the project inspects the effects of carrier alliances on frequency of service. We estimate this using the following equation:\n",
    "\n",
    "$$ S_{lct} = b X_{lct} + a_1 AM_{ct}PC_{lc} + a_2 AM_{ct} + a_3 PC_{lc} + \\epsilon_{lct} $$\n",
    "\n",
    "where:\n",
    "- $l$ is the lane, i.e. the departure port and arrival port pair\n",
    "- $c$ is the carrier\n",
    "- $t$ is the time period, which we aggregate to months (e.g., May 2019)\n",
    "- $S$ is the frequency of service, i.e. the number of voyages provided to that lane by the carrier in the given month. \n",
    "- $X$ are the correction variables\n",
    "- $AM$ is an indicator of whether or not the carrier is part of an alliance\n",
    "- $PC$ is an indicator of whether or not the lane was serviced by that carrier before the alliance took effect. \n",
    "\n",
    "Since our initial interest is the impact of alliances on domestic producers, we start by analysing the exports database. \n",
    "\n",
    "## Data Import and Transformation\n",
    "\n",
    "The data come from the PIERS database and are primarily processed in the [PIERS Data Project](https://github.com/epistemetrica/PIERS-Data-Project) with specific preparations for this analysis occuring in the 'oca_data_pred.ipynb' file in this repository. "
   ]
  },
  {
   "cell_type": "code",
   "execution_count": 54,
   "metadata": {},
   "outputs": [],
   "source": [
    "#preliminaries \n",
    "import pandas as pd #v2.1.3\n",
    "import numpy as np\n",
    "import polars as pl #v0.20.18\n",
    "import plotly_express as px #v0.4.1 \n",
    "import datetime as dt\n",
    "import statsmodels.api as sm\n",
    "import scipy\n",
    "import matplotlib.pyplot as plt\n",
    "import seaborn as sns\n",
    "\n",
    "#enable string cache for polars categoricals\n",
    "pl.enable_string_cache()\n",
    "\n",
    "#load data to lazyframe\n",
    "exports_lf = pl.scan_parquet('data/exports/exports.parquet')\n",
    "#ignore unused columns \n",
    "exports_lf = (\n",
    "    exports_lf.select(\n",
    "        'teus',\n",
    "        #'carrier_name',\n",
    "        #'carrier_scac',\n",
    "        #'vessel_name',\n",
    "        #'voyage_number',\n",
    "        'vessel_id',\n",
    "        'departure_port_code',\n",
    "        'departure_port_name',\n",
    "        #'coast_region', #note coast region was restricted to west coast in the data_prep nb\n",
    "        'hs_code',\n",
    "        #'date',\n",
    "        #'dest_territory',\n",
    "        #'dest_region',\n",
    "        'arrival_port_code',\n",
    "        'arrival_port_name',\n",
    "        #'direction',\n",
    "        'bol_id',\n",
    "        'year',\n",
    "        'month',\n",
    "        'lane_id',\n",
    "        'lane_name',\n",
    "        'unified_carrier_name',\n",
    "        'unified_carrier_scac',\n",
    "        'vessel_lane_pair',\n",
    "        'date_departure'\n",
    "    )\n",
    ")"
   ]
  },
  {
   "cell_type": "code",
   "execution_count": 55,
   "metadata": {},
   "outputs": [
    {
     "data": {
      "text/html": [
       "<div><style>\n",
       ".dataframe > thead > tr,\n",
       ".dataframe > tbody > tr {\n",
       "  text-align: right;\n",
       "  white-space: pre-wrap;\n",
       "}\n",
       "</style>\n",
       "<small>shape: (9, 6)</small><table border=\"1\" class=\"dataframe\"><thead><tr><th>statistic</th><th>lane_id</th><th>scac</th><th>year</th><th>month</th><th>service_freq</th></tr><tr><td>str</td><td>str</td><td>str</td><td>f64</td><td>str</td><td>f64</td></tr></thead><tbody><tr><td>&quot;count&quot;</td><td>&quot;710650&quot;</td><td>&quot;710650&quot;</td><td>710650.0</td><td>&quot;710650&quot;</td><td>710650.0</td></tr><tr><td>&quot;null_count&quot;</td><td>&quot;0&quot;</td><td>&quot;0&quot;</td><td>0.0</td><td>&quot;0&quot;</td><td>0.0</td></tr><tr><td>&quot;mean&quot;</td><td>null</td><td>null</td><td>2015.350219</td><td>&quot;2015-10-22 17:…</td><td>2.678755</td></tr><tr><td>&quot;std&quot;</td><td>null</td><td>null</td><td>4.94651</td><td>null</td><td>1.940277</td></tr><tr><td>&quot;min&quot;</td><td>null</td><td>null</td><td>2005.0</td><td>&quot;2005-01-01 00:…</td><td>1.0</td></tr><tr><td>&quot;25%&quot;</td><td>null</td><td>null</td><td>2011.0</td><td>&quot;2011-12-01 00:…</td><td>1.0</td></tr><tr><td>&quot;50%&quot;</td><td>null</td><td>null</td><td>2016.0</td><td>&quot;2016-06-01 00:…</td><td>2.0</td></tr><tr><td>&quot;75%&quot;</td><td>null</td><td>null</td><td>2019.0</td><td>&quot;2019-12-01 00:…</td><td>4.0</td></tr><tr><td>&quot;max&quot;</td><td>null</td><td>null</td><td>2023.0</td><td>&quot;2023-11-01 00:…</td><td>25.0</td></tr></tbody></table></div>"
      ],
      "text/plain": [
       "shape: (9, 6)\n",
       "┌────────────┬─────────┬────────┬─────────────┬────────────────────────────┬──────────────┐\n",
       "│ statistic  ┆ lane_id ┆ scac   ┆ year        ┆ month                      ┆ service_freq │\n",
       "│ ---        ┆ ---     ┆ ---    ┆ ---         ┆ ---                        ┆ ---          │\n",
       "│ str        ┆ str     ┆ str    ┆ f64         ┆ str                        ┆ f64          │\n",
       "╞════════════╪═════════╪════════╪═════════════╪════════════════════════════╪══════════════╡\n",
       "│ count      ┆ 710650  ┆ 710650 ┆ 710650.0    ┆ 710650                     ┆ 710650.0     │\n",
       "│ null_count ┆ 0       ┆ 0      ┆ 0.0         ┆ 0                          ┆ 0.0          │\n",
       "│ mean       ┆ null    ┆ null   ┆ 2015.350219 ┆ 2015-10-22 17:34:58.683740 ┆ 2.678755     │\n",
       "│ std        ┆ null    ┆ null   ┆ 4.94651     ┆ null                       ┆ 1.940277     │\n",
       "│ min        ┆ null    ┆ null   ┆ 2005.0      ┆ 2005-01-01 00:00:00        ┆ 1.0          │\n",
       "│ 25%        ┆ null    ┆ null   ┆ 2011.0      ┆ 2011-12-01 00:00:00        ┆ 1.0          │\n",
       "│ 50%        ┆ null    ┆ null   ┆ 2016.0      ┆ 2016-06-01 00:00:00        ┆ 2.0          │\n",
       "│ 75%        ┆ null    ┆ null   ┆ 2019.0      ┆ 2019-12-01 00:00:00        ┆ 4.0          │\n",
       "│ max        ┆ null    ┆ null   ┆ 2023.0      ┆ 2023-11-01 00:00:00        ┆ 25.0         │\n",
       "└────────────┴─────────┴────────┴─────────────┴────────────────────────────┴──────────────┘"
      ]
     },
     "metadata": {},
     "output_type": "display_data"
    },
    {
     "data": {
      "text/html": [
       "<div><style>\n",
       ".dataframe > thead > tr,\n",
       ".dataframe > tbody > tr {\n",
       "  text-align: right;\n",
       "  white-space: pre-wrap;\n",
       "}\n",
       "</style>\n",
       "<small>shape: (5, 5)</small><table border=\"1\" class=\"dataframe\"><thead><tr><th>lane_id</th><th>scac</th><th>year</th><th>month</th><th>service_freq</th></tr><tr><td>cat</td><td>cat</td><td>i32</td><td>datetime[μs]</td><td>i16</td></tr></thead><tbody><tr><td>&quot;2709_57035&quot;</td><td>&quot;ONEY&quot;</td><td>2023</td><td>2023-02-01 00:00:00</td><td>4</td></tr><tr><td>&quot;3001_53551&quot;</td><td>&quot;MSCU&quot;</td><td>2020</td><td>2020-08-01 00:00:00</td><td>5</td></tr><tr><td>&quot;2709_54600&quot;</td><td>&quot;MLSL&quot;</td><td>2021</td><td>2021-03-01 00:00:00</td><td>1</td></tr><tr><td>&quot;2713_76283&quot;</td><td>&quot;MLSL&quot;</td><td>2017</td><td>2017-07-01 00:00:00</td><td>1</td></tr><tr><td>&quot;3001_50500&quot;</td><td>&quot;MSCU&quot;</td><td>2020</td><td>2020-05-01 00:00:00</td><td>1</td></tr></tbody></table></div>"
      ],
      "text/plain": [
       "shape: (5, 5)\n",
       "┌────────────┬──────┬──────┬─────────────────────┬──────────────┐\n",
       "│ lane_id    ┆ scac ┆ year ┆ month               ┆ service_freq │\n",
       "│ ---        ┆ ---  ┆ ---  ┆ ---                 ┆ ---          │\n",
       "│ cat        ┆ cat  ┆ i32  ┆ datetime[μs]        ┆ i16          │\n",
       "╞════════════╪══════╪══════╪═════════════════════╪══════════════╡\n",
       "│ 2709_57035 ┆ ONEY ┆ 2023 ┆ 2023-02-01 00:00:00 ┆ 4            │\n",
       "│ 3001_53551 ┆ MSCU ┆ 2020 ┆ 2020-08-01 00:00:00 ┆ 5            │\n",
       "│ 2709_54600 ┆ MLSL ┆ 2021 ┆ 2021-03-01 00:00:00 ┆ 1            │\n",
       "│ 2713_76283 ┆ MLSL ┆ 2017 ┆ 2017-07-01 00:00:00 ┆ 1            │\n",
       "│ 3001_50500 ┆ MSCU ┆ 2020 ┆ 2020-05-01 00:00:00 ┆ 1            │\n",
       "└────────────┴──────┴──────┴─────────────────────┴──────────────┘"
      ]
     },
     "execution_count": 55,
     "metadata": {},
     "output_type": "execute_result"
    }
   ],
   "source": [
    "#collect data into regular dataframe for analysis\n",
    "df = (\n",
    "    exports_lf\n",
    "    #aggregate by lane, carrier, and month, counting unique departure dates to determine service frequency\n",
    "    .group_by('lane_id', 'unified_carrier_scac', 'year', 'month')\n",
    "    .agg(pl.col('date_departure').unique().count().alias('service_freq'))\n",
    "    #rename carrier code column\n",
    "    .rename({'unified_carrier_scac':'scac'})\n",
    "    #cast data types\n",
    "    .cast({'service_freq':pl.Int16})\n",
    "    .with_columns(pl.col('month').str.to_datetime('%Y%m'))\n",
    "    .collect()\n",
    ")\n",
    "\n",
    "#display\n",
    "display(df.describe())\n",
    "df.head()"
   ]
  },
  {
   "cell_type": "markdown",
   "metadata": {},
   "source": [
    "### Alliance Membership\n",
    "\n",
    "Data on which carriers are part of which alliances was collected, where available, from alliance agreements filed with the Federal Maritime Commission. Where primary sources were not available, alliance membership was determined from industry reports and various media sources. "
   ]
  },
  {
   "cell_type": "code",
   "execution_count": 56,
   "metadata": {},
   "outputs": [
    {
     "data": {
      "text/html": [
       "<div><style>\n",
       ".dataframe > thead > tr,\n",
       ".dataframe > tbody > tr {\n",
       "  text-align: right;\n",
       "  white-space: pre-wrap;\n",
       "}\n",
       "</style>\n",
       "<small>shape: (5, 5)</small><table border=\"1\" class=\"dataframe\"><thead><tr><th>scac</th><th>year</th><th>2m</th><th>ocean</th><th>the</th></tr><tr><td>cat</td><td>i32</td><td>i64</td><td>i64</td><td>i64</td></tr></thead><tbody><tr><td>&quot;MLSL&quot;</td><td>2023</td><td>1</td><td>0</td><td>0</td></tr><tr><td>&quot;MLSL&quot;</td><td>2022</td><td>1</td><td>0</td><td>0</td></tr><tr><td>&quot;MLSL&quot;</td><td>2021</td><td>1</td><td>0</td><td>0</td></tr><tr><td>&quot;MLSL&quot;</td><td>2020</td><td>1</td><td>0</td><td>0</td></tr><tr><td>&quot;MLSL&quot;</td><td>2019</td><td>1</td><td>0</td><td>0</td></tr></tbody></table></div>"
      ],
      "text/plain": [
       "shape: (5, 5)\n",
       "┌──────┬──────┬─────┬───────┬─────┐\n",
       "│ scac ┆ year ┆ 2m  ┆ ocean ┆ the │\n",
       "│ ---  ┆ ---  ┆ --- ┆ ---   ┆ --- │\n",
       "│ cat  ┆ i32  ┆ i64 ┆ i64   ┆ i64 │\n",
       "╞══════╪══════╪═════╪═══════╪═════╡\n",
       "│ MLSL ┆ 2023 ┆ 1   ┆ 0     ┆ 0   │\n",
       "│ MLSL ┆ 2022 ┆ 1   ┆ 0     ┆ 0   │\n",
       "│ MLSL ┆ 2021 ┆ 1   ┆ 0     ┆ 0   │\n",
       "│ MLSL ┆ 2020 ┆ 1   ┆ 0     ┆ 0   │\n",
       "│ MLSL ┆ 2019 ┆ 1   ┆ 0     ┆ 0   │\n",
       "└──────┴──────┴─────┴───────┴─────┘"
      ]
     },
     "execution_count": 56,
     "metadata": {},
     "output_type": "execute_result"
    }
   ],
   "source": [
    "#load alliance membership data from csv\n",
    "alliances_df = pl.read_csv('data/misc/alliance_memberships.csv', dtypes={'scac':pl.Categorical, 'year':pl.Int32}).drop('carrier')\n",
    "alliances_df.head()"
   ]
  },
  {
   "cell_type": "markdown",
   "metadata": {},
   "source": [
    "Since we are initially concerned with analysis based on whether or not a carrier was a member of an alliance, we unify the above into a single boolean column."
   ]
  },
  {
   "cell_type": "code",
   "execution_count": 57,
   "metadata": {},
   "outputs": [],
   "source": [
    "alliances_df = (\n",
    "    alliances_df.with_columns(\n",
    "        #set new 'alliance_member' column to 1 if the carrier is a member of any alliance\n",
    "        pl.when((pl.col('2m') + pl.col('ocean') + pl.col('the'))>0)\n",
    "        .then(pl.lit(1))\n",
    "        .otherwise(pl.lit(0))\n",
    "        .alias('alliance_member')\n",
    "    )\n",
    "    #drop individual alliance columns\n",
    "    .drop('2m', 'ocean', 'the')\n",
    ")\n",
    "\n",
    "#join alliance membership data into main df\n",
    "df = (\n",
    "    df.join(alliances_df, on=['scac', 'year'], how='left')\n",
    "    #set missing alliance membership values to null \n",
    "    .with_columns(pl.col('alliance_member').fill_null(0))\n",
    ")"
   ]
  },
  {
   "cell_type": "code",
   "execution_count": 58,
   "metadata": {},
   "outputs": [
    {
     "data": {
      "text/html": [
       "<div><style>\n",
       ".dataframe > thead > tr,\n",
       ".dataframe > tbody > tr {\n",
       "  text-align: right;\n",
       "  white-space: pre-wrap;\n",
       "}\n",
       "</style>\n",
       "<small>shape: (5, 6)</small><table border=\"1\" class=\"dataframe\"><thead><tr><th>lane_id</th><th>scac</th><th>year</th><th>month</th><th>service_freq</th><th>alliance_member</th></tr><tr><td>cat</td><td>cat</td><td>i32</td><td>datetime[μs]</td><td>i16</td><td>i32</td></tr></thead><tbody><tr><td>&quot;2709_57035&quot;</td><td>&quot;ONEY&quot;</td><td>2023</td><td>2023-02-01 00:00:00</td><td>4</td><td>0</td></tr><tr><td>&quot;3001_53551&quot;</td><td>&quot;MSCU&quot;</td><td>2020</td><td>2020-08-01 00:00:00</td><td>5</td><td>1</td></tr><tr><td>&quot;2709_54600&quot;</td><td>&quot;MLSL&quot;</td><td>2021</td><td>2021-03-01 00:00:00</td><td>1</td><td>1</td></tr><tr><td>&quot;2713_76283&quot;</td><td>&quot;MLSL&quot;</td><td>2017</td><td>2017-07-01 00:00:00</td><td>1</td><td>1</td></tr><tr><td>&quot;3001_50500&quot;</td><td>&quot;MSCU&quot;</td><td>2020</td><td>2020-05-01 00:00:00</td><td>1</td><td>1</td></tr></tbody></table></div>"
      ],
      "text/plain": [
       "shape: (5, 6)\n",
       "┌────────────┬──────┬──────┬─────────────────────┬──────────────┬─────────────────┐\n",
       "│ lane_id    ┆ scac ┆ year ┆ month               ┆ service_freq ┆ alliance_member │\n",
       "│ ---        ┆ ---  ┆ ---  ┆ ---                 ┆ ---          ┆ ---             │\n",
       "│ cat        ┆ cat  ┆ i32  ┆ datetime[μs]        ┆ i16          ┆ i32             │\n",
       "╞════════════╪══════╪══════╪═════════════════════╪══════════════╪═════════════════╡\n",
       "│ 2709_57035 ┆ ONEY ┆ 2023 ┆ 2023-02-01 00:00:00 ┆ 4            ┆ 0               │\n",
       "│ 3001_53551 ┆ MSCU ┆ 2020 ┆ 2020-08-01 00:00:00 ┆ 5            ┆ 1               │\n",
       "│ 2709_54600 ┆ MLSL ┆ 2021 ┆ 2021-03-01 00:00:00 ┆ 1            ┆ 1               │\n",
       "│ 2713_76283 ┆ MLSL ┆ 2017 ┆ 2017-07-01 00:00:00 ┆ 1            ┆ 1               │\n",
       "│ 3001_50500 ┆ MSCU ┆ 2020 ┆ 2020-05-01 00:00:00 ┆ 1            ┆ 1               │\n",
       "└────────────┴──────┴──────┴─────────────────────┴──────────────┴─────────────────┘"
      ]
     },
     "execution_count": 58,
     "metadata": {},
     "output_type": "execute_result"
    }
   ],
   "source": [
    "df.head()"
   ]
  },
  {
   "cell_type": "markdown",
   "metadata": {},
   "source": [
    "### Identifying whether a lane was serviced by that carrier before the alliance took effect"
   ]
  },
  {
   "cell_type": "code",
   "execution_count": 59,
   "metadata": {},
   "outputs": [
    {
     "data": {
      "text/html": [
       "<div><style>\n",
       ".dataframe > thead > tr,\n",
       ".dataframe > tbody > tr {\n",
       "  text-align: right;\n",
       "  white-space: pre-wrap;\n",
       "}\n",
       "</style>\n",
       "<small>shape: (5, 7)</small><table border=\"1\" class=\"dataframe\"><thead><tr><th>lane_id</th><th>scac</th><th>year</th><th>month</th><th>service_freq</th><th>alliance_member</th><th>service_prior</th></tr><tr><td>cat</td><td>cat</td><td>i32</td><td>datetime[μs]</td><td>i16</td><td>i32</td><td>i32</td></tr></thead><tbody><tr><td>&quot;2709_57035&quot;</td><td>&quot;ONEY&quot;</td><td>2023</td><td>2023-02-01 00:00:00</td><td>4</td><td>0</td><td>1</td></tr><tr><td>&quot;3001_53551&quot;</td><td>&quot;MSCU&quot;</td><td>2020</td><td>2020-08-01 00:00:00</td><td>5</td><td>1</td><td>1</td></tr><tr><td>&quot;2709_54600&quot;</td><td>&quot;MLSL&quot;</td><td>2021</td><td>2021-03-01 00:00:00</td><td>1</td><td>1</td><td>0</td></tr><tr><td>&quot;2713_76283&quot;</td><td>&quot;MLSL&quot;</td><td>2017</td><td>2017-07-01 00:00:00</td><td>1</td><td>1</td><td>0</td></tr><tr><td>&quot;3001_50500&quot;</td><td>&quot;MSCU&quot;</td><td>2020</td><td>2020-05-01 00:00:00</td><td>1</td><td>1</td><td>1</td></tr></tbody></table></div>"
      ],
      "text/plain": [
       "shape: (5, 7)\n",
       "┌────────────┬──────┬──────┬─────────────────────┬──────────────┬─────────────────┬───────────────┐\n",
       "│ lane_id    ┆ scac ┆ year ┆ month               ┆ service_freq ┆ alliance_member ┆ service_prior │\n",
       "│ ---        ┆ ---  ┆ ---  ┆ ---                 ┆ ---          ┆ ---             ┆ ---           │\n",
       "│ cat        ┆ cat  ┆ i32  ┆ datetime[μs]        ┆ i16          ┆ i32             ┆ i32           │\n",
       "╞════════════╪══════╪══════╪═════════════════════╪══════════════╪═════════════════╪═══════════════╡\n",
       "│ 2709_57035 ┆ ONEY ┆ 2023 ┆ 2023-02-01 00:00:00 ┆ 4            ┆ 0               ┆ 1             │\n",
       "│ 3001_53551 ┆ MSCU ┆ 2020 ┆ 2020-08-01 00:00:00 ┆ 5            ┆ 1               ┆ 1             │\n",
       "│ 2709_54600 ┆ MLSL ┆ 2021 ┆ 2021-03-01 00:00:00 ┆ 1            ┆ 1               ┆ 0             │\n",
       "│ 2713_76283 ┆ MLSL ┆ 2017 ┆ 2017-07-01 00:00:00 ┆ 1            ┆ 1               ┆ 0             │\n",
       "│ 3001_50500 ┆ MSCU ┆ 2020 ┆ 2020-05-01 00:00:00 ┆ 1            ┆ 1               ┆ 1             │\n",
       "└────────────┴──────┴──────┴─────────────────────┴──────────────┴─────────────────┴───────────────┘"
      ]
     },
     "execution_count": 59,
     "metadata": {},
     "output_type": "execute_result"
    }
   ],
   "source": [
    "df= (\n",
    "    #get total voyages prior to joining an alliance for each lane and carrier\n",
    "    df.with_columns(\n",
    "        pl.when(pl.col('alliance_member')==0)\n",
    "        .then(pl.col('service_freq').sum().over('lane_id', 'scac'))\n",
    "        .otherwise(pl.lit(0))\n",
    "        .alias('service_prior')\n",
    "    )\n",
    "    #simplify to 1 if any service prior to alliance, 0 otherwise\n",
    "    .with_columns(\n",
    "        pl.when(pl.col('service_prior').sum()>0)\n",
    "        .then(pl.lit(1))\n",
    "        .otherwise(pl.lit(0))\n",
    "        .over('lane_id', 'scac')\n",
    "        .alias('service_prior')\n",
    "    )\n",
    ")\n",
    "df.head()"
   ]
  },
  {
   "cell_type": "markdown",
   "metadata": {},
   "source": [
    "## Simple OLS Regression\n",
    "\n",
    "Leaving out any correction variables for the moment, we estimate a simple OLS regression model on the equation above. "
   ]
  },
  {
   "cell_type": "code",
   "execution_count": 60,
   "metadata": {},
   "outputs": [
    {
     "data": {
      "text/html": [
       "<table class=\"simpletable\">\n",
       "<caption>OLS Regression Results</caption>\n",
       "<tr>\n",
       "  <th>Dep. Variable:</th>      <td>service_freq</td>   <th>  R-squared:         </th>  <td>   0.010</td>  \n",
       "</tr>\n",
       "<tr>\n",
       "  <th>Model:</th>                   <td>OLS</td>       <th>  Adj. R-squared:    </th>  <td>   0.010</td>  \n",
       "</tr>\n",
       "<tr>\n",
       "  <th>Method:</th>             <td>Least Squares</td>  <th>  F-statistic:       </th>  <td>   2377.</td>  \n",
       "</tr>\n",
       "<tr>\n",
       "  <th>Date:</th>             <td>Fri, 19 Apr 2024</td> <th>  Prob (F-statistic):</th>   <td>  0.00</td>   \n",
       "</tr>\n",
       "<tr>\n",
       "  <th>Time:</th>                 <td>15:59:23</td>     <th>  Log-Likelihood:    </th> <td>-1.4759e+06</td>\n",
       "</tr>\n",
       "<tr>\n",
       "  <th>No. Observations:</th>      <td>710650</td>      <th>  AIC:               </th>  <td>2.952e+06</td> \n",
       "</tr>\n",
       "<tr>\n",
       "  <th>Df Residuals:</th>          <td>710646</td>      <th>  BIC:               </th>  <td>2.952e+06</td> \n",
       "</tr>\n",
       "<tr>\n",
       "  <th>Df Model:</th>              <td>     3</td>      <th>                     </th>      <td> </td>     \n",
       "</tr>\n",
       "<tr>\n",
       "  <th>Covariance Type:</th>      <td>nonrobust</td>    <th>                     </th>      <td> </td>     \n",
       "</tr>\n",
       "</table>\n",
       "<table class=\"simpletable\">\n",
       "<tr>\n",
       "         <td></td>            <th>coef</th>     <th>std err</th>      <th>t</th>      <th>P>|t|</th>  <th>[0.025</th>    <th>0.975]</th>  \n",
       "</tr>\n",
       "<tr>\n",
       "  <th>const</th>           <td>  2.16e+08</td> <td> 1.33e+09</td> <td>    0.162</td> <td> 0.871</td> <td>-2.39e+09</td> <td> 2.82e+09</td>\n",
       "</tr>\n",
       "<tr>\n",
       "  <th>alliance_member</th> <td> -2.16e+08</td> <td> 1.33e+09</td> <td>   -0.162</td> <td> 0.871</td> <td>-2.82e+09</td> <td> 2.39e+09</td>\n",
       "</tr>\n",
       "<tr>\n",
       "  <th>service_prior</th>   <td> -2.16e+08</td> <td> 1.33e+09</td> <td>   -0.162</td> <td> 0.871</td> <td>-2.82e+09</td> <td> 2.39e+09</td>\n",
       "</tr>\n",
       "<tr>\n",
       "  <th>alliance*prior</th>  <td>  2.16e+08</td> <td> 1.33e+09</td> <td>    0.162</td> <td> 0.871</td> <td>-2.39e+09</td> <td> 2.82e+09</td>\n",
       "</tr>\n",
       "</table>\n",
       "<table class=\"simpletable\">\n",
       "<tr>\n",
       "  <th>Omnibus:</th>       <td>253425.653</td> <th>  Durbin-Watson:     </th>  <td>   1.995</td>  \n",
       "</tr>\n",
       "<tr>\n",
       "  <th>Prob(Omnibus):</th>   <td> 0.000</td>   <th>  Jarque-Bera (JB):  </th> <td>1050075.348</td>\n",
       "</tr>\n",
       "<tr>\n",
       "  <th>Skew:</th>            <td> 1.739</td>   <th>  Prob(JB):          </th>  <td>    0.00</td>  \n",
       "</tr>\n",
       "<tr>\n",
       "  <th>Kurtosis:</th>        <td> 7.834</td>   <th>  Cond. No.          </th>  <td>1.64e+12</td>  \n",
       "</tr>\n",
       "</table><br/><br/>Notes:<br/>[1] Standard Errors assume that the covariance matrix of the errors is correctly specified.<br/>[2] The smallest eigenvalue is 5.26e-19. This might indicate that there are<br/>strong multicollinearity problems or that the design matrix is singular."
      ],
      "text/latex": [
       "\\begin{center}\n",
       "\\begin{tabular}{lclc}\n",
       "\\toprule\n",
       "\\textbf{Dep. Variable:}    &  service\\_freq   & \\textbf{  R-squared:         } &      0.010   \\\\\n",
       "\\textbf{Model:}            &       OLS        & \\textbf{  Adj. R-squared:    } &      0.010   \\\\\n",
       "\\textbf{Method:}           &  Least Squares   & \\textbf{  F-statistic:       } &      2377.   \\\\\n",
       "\\textbf{Date:}             & Fri, 19 Apr 2024 & \\textbf{  Prob (F-statistic):} &      0.00    \\\\\n",
       "\\textbf{Time:}             &     15:59:23     & \\textbf{  Log-Likelihood:    } & -1.4759e+06  \\\\\n",
       "\\textbf{No. Observations:} &      710650      & \\textbf{  AIC:               } &  2.952e+06   \\\\\n",
       "\\textbf{Df Residuals:}     &      710646      & \\textbf{  BIC:               } &  2.952e+06   \\\\\n",
       "\\textbf{Df Model:}         &           3      & \\textbf{                     } &              \\\\\n",
       "\\textbf{Covariance Type:}  &    nonrobust     & \\textbf{                     } &              \\\\\n",
       "\\bottomrule\n",
       "\\end{tabular}\n",
       "\\begin{tabular}{lcccccc}\n",
       "                          & \\textbf{coef} & \\textbf{std err} & \\textbf{t} & \\textbf{P$> |$t$|$} & \\textbf{[0.025} & \\textbf{0.975]}  \\\\\n",
       "\\midrule\n",
       "\\textbf{const}            &     2.16e+08  &     1.33e+09     &     0.162  &         0.871        &    -2.39e+09    &     2.82e+09     \\\\\n",
       "\\textbf{alliance\\_member} &    -2.16e+08  &     1.33e+09     &    -0.162  &         0.871        &    -2.82e+09    &     2.39e+09     \\\\\n",
       "\\textbf{service\\_prior}   &    -2.16e+08  &     1.33e+09     &    -0.162  &         0.871        &    -2.82e+09    &     2.39e+09     \\\\\n",
       "\\textbf{alliance*prior}   &     2.16e+08  &     1.33e+09     &     0.162  &         0.871        &    -2.39e+09    &     2.82e+09     \\\\\n",
       "\\bottomrule\n",
       "\\end{tabular}\n",
       "\\begin{tabular}{lclc}\n",
       "\\textbf{Omnibus:}       & 253425.653 & \\textbf{  Durbin-Watson:     } &      1.995   \\\\\n",
       "\\textbf{Prob(Omnibus):} &    0.000   & \\textbf{  Jarque-Bera (JB):  } & 1050075.348  \\\\\n",
       "\\textbf{Skew:}          &    1.739   & \\textbf{  Prob(JB):          } &       0.00   \\\\\n",
       "\\textbf{Kurtosis:}      &    7.834   & \\textbf{  Cond. No.          } &   1.64e+12   \\\\\n",
       "\\bottomrule\n",
       "\\end{tabular}\n",
       "%\\caption{OLS Regression Results}\n",
       "\\end{center}\n",
       "\n",
       "Notes: \\newline\n",
       " [1] Standard Errors assume that the covariance matrix of the errors is correctly specified. \\newline\n",
       " [2] The smallest eigenvalue is 5.26e-19. This might indicate that there are \\newline\n",
       " strong multicollinearity problems or that the design matrix is singular."
      ],
      "text/plain": [
       "<class 'statsmodels.iolib.summary.Summary'>\n",
       "\"\"\"\n",
       "                            OLS Regression Results                            \n",
       "==============================================================================\n",
       "Dep. Variable:           service_freq   R-squared:                       0.010\n",
       "Model:                            OLS   Adj. R-squared:                  0.010\n",
       "Method:                 Least Squares   F-statistic:                     2377.\n",
       "Date:                Fri, 19 Apr 2024   Prob (F-statistic):               0.00\n",
       "Time:                        15:59:23   Log-Likelihood:            -1.4759e+06\n",
       "No. Observations:              710650   AIC:                         2.952e+06\n",
       "Df Residuals:                  710646   BIC:                         2.952e+06\n",
       "Df Model:                           3                                         \n",
       "Covariance Type:            nonrobust                                         \n",
       "===================================================================================\n",
       "                      coef    std err          t      P>|t|      [0.025      0.975]\n",
       "-----------------------------------------------------------------------------------\n",
       "const             2.16e+08   1.33e+09      0.162      0.871   -2.39e+09    2.82e+09\n",
       "alliance_member  -2.16e+08   1.33e+09     -0.162      0.871   -2.82e+09    2.39e+09\n",
       "service_prior    -2.16e+08   1.33e+09     -0.162      0.871   -2.82e+09    2.39e+09\n",
       "alliance*prior    2.16e+08   1.33e+09      0.162      0.871   -2.39e+09    2.82e+09\n",
       "==============================================================================\n",
       "Omnibus:                   253425.653   Durbin-Watson:                   1.995\n",
       "Prob(Omnibus):                  0.000   Jarque-Bera (JB):          1050075.348\n",
       "Skew:                           1.739   Prob(JB):                         0.00\n",
       "Kurtosis:                       7.834   Cond. No.                     1.64e+12\n",
       "==============================================================================\n",
       "\n",
       "Notes:\n",
       "[1] Standard Errors assume that the covariance matrix of the errors is correctly specified.\n",
       "[2] The smallest eigenvalue is 5.26e-19. This might indicate that there are\n",
       "strong multicollinearity problems or that the design matrix is singular.\n",
       "\"\"\""
      ]
     },
     "execution_count": 60,
     "metadata": {},
     "output_type": "execute_result"
    }
   ],
   "source": [
    "#set dependent and independent variables\n",
    "Y = df.select('service_freq').to_pandas()\n",
    "X = (\n",
    "    df.select('alliance_member', 'service_prior')\n",
    "    .with_columns((pl.col('alliance_member')*pl.col('service_prior')).alias('alliance*prior'))\n",
    "    .to_pandas()\n",
    ")\n",
    "#add intercept\n",
    "X = sm.add_constant(X)\n",
    "#instantiate model\n",
    "model = sm.OLS(Y,X)\n",
    "#run regression\n",
    "results = model.fit()\n",
    "\n",
    "#display\n",
    "results.summary()\n"
   ]
  },
  {
   "cell_type": "code",
   "execution_count": 61,
   "metadata": {},
   "outputs": [
    {
     "data": {
      "image/png": "[encoded data removed]",
      "text/plain": [
       "<Figure size 640x480 with 1 Axes>"
      ]
     },
     "metadata": {},
     "output_type": "display_data"
    }
   ],
   "source": [
    "#obtain moments for residuals\n",
    "mu, std = scipy.stats.norm.fit(results.resid)\n",
    "\n",
    "#plot resid distribution\n",
    "fig, ax = plt.subplots()\n",
    "sns.histplot(x=results.resid, ax=ax, stat='density', linewidth=0, kde=True)\n",
    "ax.set(title='Distribution of model_OLS residuals', xlabel='residual')\n",
    "\n",
    "#add corresponding normal curve\n",
    "xmin, xmax = plt.xlim()\n",
    "x = np.linspace(xmin, xmax, 100)\n",
    "p = scipy.stats.norm.pdf(x,mu,std)\n",
    "sns.lineplot(x=x, y=p, color='red', ax=ax)\n",
    "plt.show()"
   ]
  },
  {
   "cell_type": "code",
   "execution_count": 63,
   "metadata": {},
   "outputs": [
    {
     "data": {
      "image/png": "[encoded data removed]",
      "text/plain": [
       "<Figure size 640x480 with 1 Axes>"
      ]
     },
     "metadata": {},
     "output_type": "display_data"
    }
   ],
   "source": [
    "sm.qqplot(results.resid, line='45', fit=True);"
   ]
  },
  {
   "cell_type": "markdown",
   "metadata": {},
   "source": [
    "### Limitations\n",
    "\n",
    "The simplistic method of identifying when a carrier had previously serviced that lane results in the alliance*prior interaction term being uniformly zero. We need to decide on a better means of identification. "
   ]
  }
 ],
 "metadata": {
  "kernelspec": {
   "display_name": "wsu",
   "language": "python",
   "name": "python3"
  },
  "language_info": {
   "codemirror_mode": {
    "name": "ipython",
    "version": 3
   },
   "file_extension": ".py",
   "mimetype": "text/x-python",
   "name": "python",
   "nbconvert_exporter": "python",
   "pygments_lexer": "ipython3",
   "version": "3.12.0"
  }
 },
 "nbformat": 4,
 "nbformat_minor": 2
}
