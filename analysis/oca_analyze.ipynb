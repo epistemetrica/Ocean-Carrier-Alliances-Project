{
 "cells": [
  {
   "cell_type": "markdown",
   "metadata": {},
   "source": [
    "# Ocean Carrier Alliances: Analysis and Modeling \n",
    "\n",
    "This notebook analyzes the data processed in the \"oca_data_prep\" notebook; see the [repo](https://github.com/epistemetrica/Ocean-Carrier-Alliances-Project/blob/main/analysis/oca_data_prep.ipynb) for full details. "
   ]
  },
  {
   "cell_type": "code",
   "execution_count": null,
   "metadata": {},
   "outputs": [],
   "source": [
    "#preliminaries\n",
    "\n",
    "#preliminaries \n",
    "import pandas as pd #v2.1.3\n",
    "import numpy as np\n",
    "import polars as pl #v0.20.18\n",
    "import plotly_express as px #v0.4.1 \n",
    "import plotly.graph_objects as go\n",
    "from datetime import datetime\n",
    "import statsmodels.api as sm\n",
    "import scipy\n",
    "import matplotlib.pyplot as plt\n",
    "import seaborn as sns\n",
    "\n",
    "#enable string cache for polars categoricals\n",
    "pl.enable_string_cache()"
   ]
  }
 ],
 "metadata": {
  "kernelspec": {
   "display_name": "wsu",
   "language": "python",
   "name": "python3"
  },
  "language_info": {
   "name": "python",
   "version": "3.12.0"
  }
 },
 "nbformat": 4,
 "nbformat_minor": 2
}
