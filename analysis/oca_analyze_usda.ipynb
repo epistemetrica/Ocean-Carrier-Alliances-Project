{
 "cells": [
  {
   "cell_type": "markdown",
   "metadata": {},
   "source": [
    "# Ocean Carrier Alliances - Data Analysis for USDA Report\n",
    "\n",
    "This notebook analyses data on maritime container shipping to inspect the impacts of strategic alliances between ocean freight carriers (Ocean Carrier Alliances, OCAs) on the containerized agricultural export market in the US. Data are pre-processed in the oca_data_prep notebook; see the [project repo](https://github.com/epistemetrica/Ocean-Carrier-Alliances-Project) for full details.\n",
    "\n",
    "Section 1 presents data summaries and aggregations, Section 2 gives general context for the maritime freight economy and vessel sharing behavior, and Section 3 presents the analytical models and results."
   ]
  },
  {
   "cell_type": "code",
   "execution_count": 1,
   "metadata": {},
   "outputs": [],
   "source": [
    "#preliminaries\n",
    "import numpy as np\n",
    "import pandas as pd\n",
    "import polars as pl\n",
    "import plotly_express as px\n",
    "import statsmodels.api as sm\n",
    "from datetime import datetime\n",
    "from datetime import date\n",
    "\n",
    "#enable string cache for polars categoricals\n",
    "pl.enable_string_cache()\n",
    "#display settings\n",
    "pd.set_option('display.max_columns', None)"
   ]
  },
  {
   "cell_type": "code",
   "execution_count": 2,
   "metadata": {},
   "outputs": [],
   "source": [
    "#load data\n",
    "main_lf = (\n",
    "    #load parquet files to polars lazyframe \n",
    "    pl.scan_parquet('../data/main/*.parquet')\n",
    "    #choose only exports\n",
    "    .filter(pl.col('direction')=='export')\n",
    "    #drop unneeded columns\n",
    "    .drop('origin_territory', 'origin_region', 'direction', 'carrier_name', \n",
    "          'carrier_scac', 'vessel_name', 'voyage_number')\n",
    "    #rename cols for consistency/sanity\n",
    "    .rename({'unified_carrier_name':'carrier_name',\n",
    "             'unified_carrier_scac':'scac',\n",
    "             'arrival_port_name':'dest_port_name',\n",
    "             'arrival_port_code':'dest_port_code',\n",
    "             'departure_port_name':'origin_port_name',\n",
    "             'departure_port_code':'origin_port_code',\n",
    "             'pc_alliance':'owner_alliance'})\n",
    "    #reorder columns for sanity\n",
    "    .select('bol_id', 'date', 'month', 'year', 'teus', 'hs_code', 'lane_id', \n",
    "            'lane_name', 'origin_port_name', 'origin_port_code', 'coast_region', \n",
    "            'dest_port_name', 'dest_port_code', 'dest_territory', 'dest_region',  \n",
    "            'drewery_lane', 'dist', 'rate_40', 'rate_20', 'scac', 'carrier_name', \n",
    "            'alliance', 'alliance_member', 'vessel_id', 'vessel_capacity', \n",
    "            'vessel_owner', 'owner_alliance', 'primary_cargo', 'shared_teus', \n",
    "            'cargo_source')\n",
    "    #set 0 capacities to missing\n",
    "    .with_columns(\n",
    "        pl.col('vessel_capacity').replace(0, None)\n",
    "    )\n",
    ")"
   ]
  },
  {
   "cell_type": "markdown",
   "metadata": {},
   "source": [
    "## 1. Exports Data Summary\n",
    "\n",
    "The main dataset holds a unique bill of lading (BOL) on each row and includes data from various sources in the columns described below.  \n",
    "\n",
    "### Column Definitions\n",
    "\n",
    "- bol_id - unique identifier of each BOL\n",
    "- date, month, year - departure date of the export\n",
    "- teus - volume of the shipment in twenty-foot-equivalent (TEU) units\n",
    "- hs_code - list of commodity codes included in the shipment\n",
    "- lane_id - unique identifier of the lane (a combination of origin and destination port codes)\n",
    "- lane_name - name of the lane\n",
    "- origin_port_name - name of the US port of origin\n",
    "- origin_port_code - CBP code for the port of origin\n",
    "- coast_region - US coastal region of origin\n",
    "- dest_port_name - name of the foreign destination port\n",
    "- dest_port_code - CBP code for the foreign destination port\n",
    "- dest_territory - name of country or territory of destination\n",
    "- dest_region - global region of destination\n",
    "- drewery_lane - Drewery lane matched to the lane_id using summed haversine distances between the origin/destination port pairs\n",
    "- dist - summed haversine distance between the origin/destination port pairs \n",
    "- rate_40 - Drewery CFRI rate index for 40-ft equivalent containers when the cargo was carried\n",
    "- rate_20 - Drewery CFRI rate index for 20-ft equivalent containers (TEU) when the cargo was carried\n",
    "- scac - Standard Carrier Alpha Code (SCAC) for the firm who carried the cargo\n",
    "- carrier_name - name of the carrier\n",
    "- alliance - the alliance to which the carrier belonged when the cargo was sold (NOTE this needs to be updated when we input regional alliance data)\n",
    "- alliance_member - boolean for whether or not the carrier was a member of any alliance when that cargo was carried\n",
    "- vessel_id - International Maritime Organization (IMO) code uniquely identifying the vessel\n",
    "- vessel_capacity - metric of how many TEU can be carried by the vessel at any given time (computed from Net Register Tonnage)\n",
    "- vessel_owner - the carrier representing the most TEUs carried by that vessel during the month on which the BOL was carried\n",
    "- owner_alliance - the OCA to which the vessel_owner belonged at the time\n",
    "- primary_cargo - boolean indicating whether the cargo came from the vessel_owner or not\n",
    "- shared_teus - number of TEUs if the cargo did not come from the vessel_owner (identical to 'teus' when primary_cargo is 0). \n",
    "- cargo_source - indicator for whether the cargo came from a member of the vessel_owner's alliance or not. \n",
    "\n",
    "\n",
    "### Summary stats and head"
   ]
  },
  {
   "cell_type": "code",
   "execution_count": 3,
   "metadata": {},
   "outputs": [],
   "source": [
    "desc = main_lf.describe()\n",
    "desc.write_csv('../data/misc/usda_maindata_summarystat.csv')\n",
    "#display(desc)\n",
    "#main_lf.limit(5).collect()"
   ]
  },
  {
   "cell_type": "code",
   "execution_count": 4,
   "metadata": {},
   "outputs": [],
   "source": [
    "#main_lf.approx_n_unique().collect()"
   ]
  },
  {
   "cell_type": "markdown",
   "metadata": {},
   "source": [
    "## 2. Additional Data Preparation\n",
    "\n",
    "In order to accomplish our analyses, we must address some data preparation steps unique to this USDA report. Limiting by the top 500 lanes and grouping ports together allows us to analyse the relevant ports at more intuitive levels of aggregation (e.g., ports locaded in the same general metro area) and comparte substitute ports and lanes to eachother. We also impute missing vessel capacity data and expand bills of lading that contain multiple hs codes to individual rows per commodity. Finally, within each aggregation, we coerse the tables to include all possible combinations of the group variables since we want to observe when, for example, a given carrier chooses not to operate any vessels on a given lane that month. \n",
    "\n",
    "### Top 500 lanes\n",
    "\n",
    "Containerized frieght volumes are highly concentrated to common shipping lanes (e.g., LA to Tokyo) and while many ports around the world have small container terminals and thus appear in the PIERS database, these ports are visted much less frequentyly and constitute tiny percentages of volumnes on each ship. For these reasons, we suspect the impacts of alliance behavior may be different for small container ports; we drop all but the top 500 lanes in order to focus on the majority of volumes. "
   ]
  },
  {
   "cell_type": "code",
   "execution_count": 3,
   "metadata": {},
   "outputs": [],
   "source": [
    "#get top 500 lanes\n",
    "top_lanes = (\n",
    "    main_lf\n",
    "    .group_by('lane_id')\n",
    "    .agg(pl.col('teus').sum())\n",
    "    .sort(by='teus', descending=True)\n",
    "    .limit(500)\n",
    "    .collect()\n",
    "    .to_series()\n",
    ")\n",
    "\n",
    "#limit main lf to top lanes \n",
    "main_lf = main_lf.filter(pl.col('lane_id').is_in(top_lanes))"
   ]
  },
  {
   "cell_type": "markdown",
   "metadata": {},
   "source": [
    "### Port Groups\n",
    "\n",
    "An important aspect of our study is to compare activity on substitute lanes when an alliance is active on another. For example, if an alliance has a high share of the Seattle-Tokyo market, that may effect the Oakland-Tokyo market as shippers move to or from that lane. \n",
    "\n",
    "In order to analyse these effects, we must first identify which ports and lanes are substitutes for eachother. The PIERS database has done much of this work for us, grouping domestic ports into US coastal groups and foreign ports into individual countries as well as regions (e.g., Northern Europe, SE Asia). We add further detail to the 34 US ports represented in the top 500 lanes by manually grouping ports that share a Combined Statistical Area (using [2023 data obtained from BLS](https://www.bls.gov/bls/omb-bulletin-23-01-revised-delineations-of-metropolitan-statistical-areas.pdf)) or an inland waterway (e.g., the Puget Sound, Chesapeake Bay).  "
   ]
  },
  {
   "cell_type": "code",
   "execution_count": 4,
   "metadata": {},
   "outputs": [],
   "source": [
    "#create us port groups\n",
    "us_port_groups_df = (\n",
    "    #read excel file\n",
    "    pl.read_excel('../data/misc/usports.xlsx')\n",
    "    .with_columns(\n",
    "        #use port name unless port_region already filled\n",
    "        origin_port_group = (\n",
    "            pl.when(pl.col('port_region').is_null())\n",
    "            .then(pl.col('origin_port_name'))\n",
    "            .otherwise(pl.col('port_region'))\n",
    "        ).cast(pl.Categorical),\n",
    "        #cast as categories\n",
    "        origin_port_name = pl.col('origin_port_name').cast(pl.Categorical)\n",
    "    )\n",
    "    #drop port region \n",
    "    .drop('port_region')\n",
    ")\n",
    "\n",
    "main_lf = (\n",
    "    main_lf\n",
    "    #join with main lf\n",
    "    .join(\n",
    "        us_port_groups_df.select('origin_port_name', 'origin_port_group').lazy(),\n",
    "        on='origin_port_name',\n",
    "        how='left'\n",
    "    )\n",
    "    #make substitue lanes cols\n",
    "    .with_columns(\n",
    "        lane_group = (pl.col('origin_port_group').cast(pl.Utf8)+'_'+\n",
    "                      pl.col('dest_territory').cast(pl.Utf8)).cast(pl.Categorical),\n",
    "        lane_region = (pl.col('coast_region').cast(pl.Utf8)+'_'+\n",
    "                       pl.col('dest_region').cast(pl.Utf8)).cast(pl.Categorical)\n",
    "    )\n",
    ")"
   ]
  },
  {
   "cell_type": "markdown",
   "metadata": {},
   "source": [
    "\n",
    "#### Vessel Capacities\n",
    "\n",
    "Capacity data is rarely missing in the time periods from which data are published (2013-2022) and progressively more missing the further outside we move from that time period since not all vessels operating in 2008, for example, were still operating by the time capacity data became available. If left unaddressed, this would cause capacities to be under-estimated during time periods outside the 2013–22 window. When available, we fill missing capacities with the average of known capacities within a given lane, month, and carrier, making the tacit assumption that within such a short time frame, missing capacites are not likely to be systematically different than known capacities on the same lane and carrier. When this data is not available, we fill nulls with the mean over lane and month, and finally fill with the mean over the lane as a last resort. \n"
   ]
  },
  {
   "cell_type": "code",
   "execution_count": 5,
   "metadata": {},
   "outputs": [],
   "source": [
    "#aggregate vessel capacites\n",
    "main_lf = (\n",
    "    main_lf\n",
    "    #impute missing vessel capacities\n",
    "    .with_columns(\n",
    "        #fill with mean over lane, month, and carrier where available\n",
    "        pl.when(pl.col('vessel_capacity').is_null())\n",
    "        .then(pl.col('vessel_capacity').mean().over('lane_id', 'month', 'scac'))\n",
    "        .otherwise(pl.col('vessel_capacity'))\n",
    "    )\n",
    "    .with_columns(\n",
    "        #fill remaning nulls with mean over lane and month where available\n",
    "        pl.when(pl.col('vessel_capacity').is_null())\n",
    "        .then(pl.col('vessel_capacity').mean().over('lane_id', 'month'))\n",
    "        .otherwise(pl.col('vessel_capacity'))\n",
    "    )\n",
    "    .with_columns(\n",
    "        #fill remaining nulls with mean over lane\n",
    "        pl.when(pl.col('vessel_capacity').is_null())\n",
    "        .then(pl.col('vessel_capacity').mean().over('lane_id'))\n",
    "        .otherwise(pl.col('vessel_capacity'))\n",
    "    )\n",
    ")"
   ]
  },
  {
   "cell_type": "markdown",
   "metadata": {},
   "source": [
    "##### HS Codes\n",
    "\n",
    "A key aspect of our study is to compare the impacts of OCAs on different types of cargo; specifically on agricultural and non-agricultural cargoes. In order to aggregate data across the individual 2-digit HS codes, we must address the fact that this data lies in strings of 4–8 character codes separated by a space. Furthermore, since the PIERS data simply list the HS codes contained within each BOL and do not indicate how much each code contributes to the total volume, we assign equal volumes to each hs_code associated with the BOL. These issues are addressed in two steps:\n",
    "1. splitting the strings into an interable list and then exploding the table by hs_code to long form where each row corresponds to a unique pair of bol_id and hs_code. \n",
    "2. dropping all but the first two digits of the hs_code (note the first two digits of hs_codes describe the highest categorization level)\n",
    "\n",
    "Note that this results in a somewhat untidy table; if we needed to analyze unique hs_code-bol_id rows, we would then need to re-aggregate over bol_id and hs_code. However, since we are aggregating to lane_id, month, scac, and hs_code anyway, we can skip this step. "
   ]
  },
  {
   "cell_type": "code",
   "execution_count": 6,
   "metadata": {},
   "outputs": [],
   "source": [
    "def explode_hscodes(lf, hs_digits=2):\n",
    "    '''\n",
    "    Expands the dataset into long form where each row corresponds to only a single commodity (HS Code) within each BOL. \n",
    "        Assumes that the raw data are effectively grouped by BOL, resulting in hs_code column sometimes containing more than one code;\n",
    "        this function undoes that group aggregation. \n",
    "    INPUTS\n",
    "        lf - a polars lazyframe containing the relevant data\n",
    "        hs_digits - int - the number of HS codes to keep\n",
    "    OUTPUTS\n",
    "        lf - a polars lazyframe containing the long form data\n",
    "    '''\n",
    "    #instantiate index\n",
    "    index = pl.arange(0, lf.select(pl.len()).collect().item(), eager=True)\n",
    "    #explode hs_codes \n",
    "    lf = (\n",
    "        lf\n",
    "        #set nulls to 0 to prevent data loss in later steps\n",
    "        .with_columns(pl.col('hs_code').replace(None, 'missing'))\n",
    "        .with_columns(\n",
    "            #split hs codes into lists\n",
    "            pl.col('hs_code').str.split(by=' '),\n",
    "            #create pseudo-index col\n",
    "            pl.Series(name='index', values=index)\n",
    "            )\n",
    "        #explode hs_codes\n",
    "        .explode('hs_code')\n",
    "        #drop rows with empty strings (these result from more than one space between hs_codes in the raw data)\n",
    "        .with_columns(pl.col('hs_code').replace('', None))\n",
    "        .drop_nulls('hs_code')\n",
    "        #distribute total volumes evenly across HS Codes -- NOTE this step may change as better metadata is collected\n",
    "        .with_columns(\n",
    "            (pl.col('teus')/(pl.col('index').count().over('index'))),\n",
    "            #replace originally-null values\n",
    "            pl.col('hs_code').replace('missing', None)\n",
    "        )\n",
    "        .with_columns(\n",
    "            #drop all but first two hs_code digits\n",
    "            pl.col('hs_code').str.slice(0,hs_digits)\n",
    "            #cast to integers, replacing non-integers with null\n",
    "            .cast(pl.Int32, strict=False),\n",
    "            )\n",
    "        #drop index\n",
    "        .drop('index')\n",
    "    )\n",
    "    return lf "
   ]
  },
  {
   "cell_type": "code",
   "execution_count": 7,
   "metadata": {},
   "outputs": [],
   "source": [
    "#explode hs_codes and simplify to 2-digit\n",
    "main_lf = explode_hscodes(main_lf)"
   ]
  },
  {
   "cell_type": "markdown",
   "metadata": {},
   "source": [
    "##### Missing Months and other group variables\n",
    "\n",
    "Not all lanes are serviced every month, resulting in aggregated tables having fewer rows than they would otherwise. In order to account for months with no services as 0 teus, for example, we coerse the aggregated tables to include all combinations of the group variables. "
   ]
  },
  {
   "cell_type": "code",
   "execution_count": 8,
   "metadata": {},
   "outputs": [],
   "source": [
    "#define expansion function to account for missing combinations\n",
    "\n",
    "def expand(lf, group_vars=['lane_id']):\n",
    "    '''\n",
    "    insert doc string\n",
    "\n",
    "    NOTE automatically explands to all months, in addition to supplied group_vars\n",
    "    '''\n",
    "    #get lf of all months\n",
    "    months_lf = pl.LazyFrame(\n",
    "        pl.date_range(date(2007,1,1), date(2023,12,1), \n",
    "                      interval='1mo', eager=True)\n",
    "        #coerse to match main data month format\n",
    "        .dt.strftime('%Y%m'),\n",
    "        schema={'month':pl.Utf8}\n",
    "        )\n",
    "    #init expanded lf\n",
    "    allcombos_lf = months_lf\n",
    "    #get other groups\n",
    "    for var in group_vars:\n",
    "        #create lf from group var\n",
    "        var_lf = lf.select(var).unique()\n",
    "        #cross join to create combos\n",
    "        allcombos_lf = allcombos_lf.join(var_lf, how='cross')\n",
    "    #append groupvars to include month\n",
    "    group_vars.append('month')\n",
    "    #join to lf\n",
    "    expanded_lf = (\n",
    "        allcombos_lf.join(\n",
    "            lf, on=group_vars, how='left'\n",
    "            )\n",
    "    )\n",
    "    print('Note: A LazyFrame has been expanded to all combinations of months and the supplied group_vars; remember to fill nulls as appropriate.')\n",
    "    return expanded_lf"
   ]
  },
  {
   "cell_type": "markdown",
   "metadata": {},
   "source": [
    "#### Alliances and Individual carriers\n",
    "\n",
    "In our analysis of market concentration, we sometimes treat alliances as if they were a single carrier (and, equivalently, individual carriers as if they were their own alliance). "
   ]
  },
  {
   "cell_type": "code",
   "execution_count": 9,
   "metadata": {},
   "outputs": [],
   "source": [
    "main_lf = (\n",
    "    main_lf\n",
    "    .with_columns(\n",
    "        pl.when(pl.col('alliance')!='Non-alliance Carriers')\n",
    "        .then(pl.col('alliance'))\n",
    "        .otherwise(pl.col('scac'))\n",
    "        .alias('alliance_alt')\n",
    "    )\n",
    ")"
   ]
  },
  {
   "cell_type": "markdown",
   "metadata": {},
   "source": [
    "## 3. Panel Construction\n",
    "\n",
    "We analyze monthly panels at various levels of aggregation, inspecting lanes at the most aggregated level and the breakdown of different commodities on carried by specific carriers on invidual vessels on each lane at the most detailed level. Summary statistics are reported individually for each panel. \n"
   ]
  },
  {
   "cell_type": "code",
   "execution_count": 10,
   "metadata": {},
   "outputs": [],
   "source": [
    "def get_hhi(agg_lf, market_var, panel_vars, volume_var='teus', firm_var='scac', \n",
    "            time_var='month', name='hhi', source_lf=main_lf, \n",
    "            sub_group_var=None):\n",
    "    if sub_group_var:\n",
    "        hhi_lf = (\n",
    "            source_lf\n",
    "            #compute volumes for each firm on the given market\n",
    "            .with_columns(\n",
    "                ((pl.col(volume_var).sum()\n",
    "                .over([firm_var, time_var, sub_group_var])) - \n",
    "                (pl.col(volume_var).sum()\n",
    "                .over([market_var, firm_var, time_var]))).alias('volume')\n",
    "            )\n",
    "            #compute market share for each firm\n",
    "            .group_by(set([*panel_vars, firm_var, time_var]))\n",
    "            .agg(pl.col('volume').first())\n",
    "            .with_columns(\n",
    "                (((pl.col('volume'))/\n",
    "                (pl.col('volume').sum().over(*panel_vars, time_var)))\n",
    "                    *100).alias('ms')\n",
    "            )\n",
    "            #group by panel variables and compute hhi\n",
    "            .group_by(*panel_vars, time_var)\n",
    "            .agg(\n",
    "                (pl.col('ms')**2).sum().alias(name)\n",
    "            )\n",
    "        )\n",
    "    else:\n",
    "        hhi_lf = (\n",
    "            source_lf\n",
    "            .with_columns(\n",
    "                pl.col(volume_var).sum().over([market_var, firm_var, time_var]).alias('volume')\n",
    "            )\n",
    "            #compute market share for each firm\n",
    "            .group_by(set([*panel_vars, firm_var, time_var]))\n",
    "            .agg(pl.col('volume').first())\n",
    "            .with_columns(\n",
    "                (((pl.col('volume'))/(pl.col('volume').sum().over(*panel_vars, time_var)))\n",
    "                    *100).alias('ms')\n",
    "            )\n",
    "            #group by panel variables and compute hhi\n",
    "            .group_by(*panel_vars, time_var)\n",
    "            .agg(\n",
    "                (pl.col('ms')**2).sum().alias(name)\n",
    "            )\n",
    "        )\n",
    "    lf = agg_lf.join(hhi_lf.fill_nan(None), on=[*panel_vars, time_var], how='left')\n",
    "\n",
    "    return lf"
   ]
  },
  {
   "cell_type": "markdown",
   "metadata": {},
   "source": [
    "### 3.1 Lane Panel\n",
    "\n",
    "The highest aggregation level we utilize is by lane and month, enabling us to inspect broad lane-level characteristics of the market. "
   ]
  },
  {
   "cell_type": "code",
   "execution_count": 11,
   "metadata": {},
   "outputs": [
    {
     "name": "stdout",
     "output_type": "stream",
     "text": [
      "Note: A LazyFrame has been expanded to all combinations of months and the supplied group_vars; remember to fill nulls as appropriate.\n"
     ]
    }
   ],
   "source": [
    "#main aggregation\n",
    "lanepanel_lf = (\n",
    "    main_lf\n",
    "    .with_columns(\n",
    "        #number of foreign ports accessible from us port\n",
    "        num_foreign_ports = (pl.col('dest_port_code').n_unique()\n",
    "                             .over('month', 'origin_port_code')),\n",
    "        #number of foreign countries accessible from us port\n",
    "        num_foreign_countries = (pl.col('dest_territory').n_unique()\n",
    "                                 .over('month', 'origin_port_code')),\n",
    "        #number of foreign regions accessible from us port\n",
    "        num_foreign_regions = (pl.col('dest_region').n_unique()\n",
    "                                 .over('month', 'origin_port_code')),\n",
    "    )\n",
    "    #group\n",
    "    .group_by('lane_id', 'month')\n",
    "    .agg(\n",
    "        teus = pl.col('teus').sum(),\n",
    "        num_vessels = pl.col('vessel_id').unique().count(),\n",
    "        num_carriers = pl.col('scac').unique().count(),\n",
    "        num_alliances = pl.col('alliance').unique().count(),\n",
    "        num_foreign_ports = pl.col('num_foreign_ports').first(),\n",
    "        num_foreign_countries = pl.col('num_foreign_countries').first(),\n",
    "        num_foreign_regions = pl.col('num_foreign_regions').first()\n",
    "    )\n",
    ")\n",
    "\n",
    "#get carrier hhi (traditional HHI) \n",
    "#on lane\n",
    "lanepanel_lf = get_hhi(lanepanel_lf, market_var='lane_id', \n",
    "                       panel_vars=['lane_id'], name='hhi_lane')\n",
    "#on direct substitute lanes\n",
    "lanepanel_lf = get_hhi(lanepanel_lf, market_var='lane_id', \n",
    "                       panel_vars=['lane_id'], name='hhi_directsub_lanes',\n",
    "                       sub_group_var='lane_group')\n",
    "#on potential substitute lanes\n",
    "lanepanel_lf = get_hhi(lanepanel_lf, market_var='lane_id', \n",
    "                       panel_vars=['lane_id'], name='hhi_potentialsub_lanes',\n",
    "                       sub_group_var='lane_region')\n",
    "#at origin port\n",
    "lanepanel_lf = get_hhi(lanepanel_lf, market_var='origin_port_code', \n",
    "                       panel_vars=['lane_id'], name='hhi_origin_port')\n",
    "#at destination port\n",
    "lanepanel_lf = get_hhi(lanepanel_lf, market_var='dest_port_code', \n",
    "                       panel_vars=['lane_id'], name='hhi_dest_port')\n",
    "#on set of direct substitute origin ports\n",
    "lanepanel_lf = get_hhi(lanepanel_lf, market_var='origin_port_code', \n",
    "                       panel_vars=['lane_id'], name='hhi_directsub_origin_ports',\n",
    "                       sub_group_var='origin_port_group')\n",
    "#on set of potential substitute origin ports\n",
    "lanepanel_lf = get_hhi(lanepanel_lf, market_var='origin_port_code', \n",
    "                       panel_vars=['lane_id'], name='hhi_potentialsub_origin_ports',\n",
    "                       sub_group_var='coast_region')\n",
    "#on set of direct substitute destination ports\n",
    "lanepanel_lf = get_hhi(lanepanel_lf, market_var='dest_port_code', \n",
    "                       panel_vars=['lane_id'], name='hhi_directsub_dest_ports',\n",
    "                       sub_group_var='dest_territory')\n",
    "#on set of potential substitute destination ports\n",
    "lanepanel_lf = get_hhi(lanepanel_lf, market_var='dest_port_code', \n",
    "                       panel_vars=['lane_id'], name='hhi_potentialsub_dest_ports',\n",
    "                       sub_group_var='dest_region')\n",
    "\n",
    "#get alliance hhi (counts alliances as individual carriers, and carriers not in alliances as their own alliance) \n",
    "#on lane\n",
    "lanepanel_lf = get_hhi(lanepanel_lf, market_var='lane_id', firm_var='alliance_alt',\n",
    "                       panel_vars=['lane_id'], name='hhi_alliance_lane')\n",
    "#on direct substitute lanes\n",
    "lanepanel_lf = get_hhi(lanepanel_lf, market_var='lane_id', firm_var='alliance_alt',\n",
    "                       panel_vars=['lane_id'], name='hhi_alliance_directsub_lanes',\n",
    "                       sub_group_var='lane_group')\n",
    "#on potential substitute lanes\n",
    "lanepanel_lf = get_hhi(lanepanel_lf, market_var='lane_id', firm_var='alliance_alt',\n",
    "                       panel_vars=['lane_id'], name='hhi_alliance_potentialsub_lanes',\n",
    "                       sub_group_var='lane_region')\n",
    "#at origin port\n",
    "lanepanel_lf = get_hhi(lanepanel_lf, market_var='origin_port_code', firm_var='alliance_alt',\n",
    "                       panel_vars=['lane_id'], name='hhi_alliance_origin_port')\n",
    "#at destination port\n",
    "lanepanel_lf = get_hhi(lanepanel_lf, market_var='dest_port_code', firm_var='alliance_alt',\n",
    "                       panel_vars=['lane_id'], name='hhi_alliance_dest_port')\n",
    "#on set of direct substitute origin ports\n",
    "lanepanel_lf = get_hhi(lanepanel_lf, market_var='origin_port_code', firm_var='alliance_alt',\n",
    "                       panel_vars=['lane_id'], name='hhi_alliance_directsub_origin_ports',\n",
    "                       sub_group_var='origin_port_group')\n",
    "#on set of potential substitute origin ports\n",
    "lanepanel_lf = get_hhi(lanepanel_lf, market_var='origin_port_code', firm_var='alliance_alt',\n",
    "                       panel_vars=['lane_id'], name='hhi_alliance_potentialsub_origin_ports',\n",
    "                       sub_group_var='coast_region')\n",
    "#on set of direct substitute destination ports\n",
    "lanepanel_lf = get_hhi(lanepanel_lf, market_var='dest_port_code', firm_var='alliance_alt',\n",
    "                       panel_vars=['lane_id'], name='hhi_alliance_directsub_dest_ports',\n",
    "                       sub_group_var='dest_territory')\n",
    "#on set of potential substitute destination ports\n",
    "lanepanel_lf = get_hhi(lanepanel_lf, market_var='dest_port_code', firm_var='alliance_alt',\n",
    "                       panel_vars=['lane_id'], name='hhi_alliance_potentialsub_dest_ports',\n",
    "                       sub_group_var='dest_region')\n",
    "\n",
    "#aggregate vessel capacities\n",
    "lane_cap_lf = (\n",
    "    main_lf\n",
    "    #aggregate\n",
    "    .group_by('lane_id', 'month', 'vessel_id')\n",
    "    .agg(\n",
    "        #get vessel capacity\n",
    "        pl.col('vessel_capacity').first(),\n",
    "        #get number of turns\n",
    "        pl.col('date').n_unique().alias('turns')\n",
    "    )\n",
    "    #compute capacity contributed by vessel\n",
    "    .with_columns(\n",
    "        cap_from_vessel = (pl.col('vessel_capacity'))*(pl.col('turns'))\n",
    "    )\n",
    "    .group_by('lane_id', 'month')\n",
    "    .agg(\n",
    "        pl.col('cap_from_vessel').sum()\n",
    "        .alias('lane_capacity')\n",
    "    )\n",
    ")\n",
    "\n",
    "#merge vessel capacities into lane-month lf\n",
    "lanepanel_lf = (\n",
    "    lanepanel_lf\n",
    "    .join(\n",
    "        lane_cap_lf,\n",
    "        on=['lane_id', 'month'],\n",
    "        how='left'\n",
    "    )\n",
    ")\n",
    "\n",
    "#merge drewery lanes and rates into lane-month lf\n",
    "rates_lf = (\n",
    "    main_lf\n",
    "    .select('lane_id', 'month', 'drewery_lane', 'dist', 'rate_40', 'rate_20')\n",
    "    .unique(subset=['lane_id', 'month']) #NOTE this should be unique already?\n",
    ")\n",
    "#merge\n",
    "lanepanel_lf = (\n",
    "    lanepanel_lf\n",
    "    .join(\n",
    "        rates_lf, \n",
    "        on=['lane_id', 'month'],\n",
    "        how='left'\n",
    "    )\n",
    ")\n",
    "\n",
    "#coerse frame to include all possible months\n",
    "lanepanel_expanded_lf = (\n",
    "    expand(lanepanel_lf)\n",
    "    #fill nulls\n",
    "    .with_columns(\n",
    "        pl.col('teus').fill_null(0),\n",
    "        pl.col('num_vessels').fill_null(0),\n",
    "        pl.col('num_carriers').fill_null(0),\n",
    "        pl.col('num_alliances').fill_null(0),\n",
    "        pl.col('num_foreign_ports').fill_null(0),\n",
    "        pl.col('num_foreign_countries').fill_null(0),\n",
    "        pl.col('num_foreign_regions').fill_null(0),\n",
    "        pl.col('lane_capacity').fill_null(0)\n",
    "    )\n",
    ")\n"
   ]
  },
  {
   "cell_type": "code",
   "execution_count": 12,
   "metadata": {},
   "outputs": [
    {
     "data": {
      "text/html": [
       "<div><style>\n",
       ".dataframe > thead > tr,\n",
       ".dataframe > tbody > tr {\n",
       "  text-align: right;\n",
       "  white-space: pre-wrap;\n",
       "}\n",
       "</style>\n",
       "<small>shape: (9, 33)</small><table border=\"1\" class=\"dataframe\"><thead><tr><th>statistic</th><th>lane_id</th><th>month</th><th>teus</th><th>num_vessels</th><th>num_carriers</th><th>num_alliances</th><th>num_foreign_ports</th><th>num_foreign_countries</th><th>num_foreign_regions</th><th>hhi_lane</th><th>hhi_directsub_lanes</th><th>hhi_potentialsub_lanes</th><th>hhi_origin_port</th><th>hhi_dest_port</th><th>hhi_directsub_origin_ports</th><th>hhi_potentialsub_origin_ports</th><th>hhi_directsub_dest_ports</th><th>hhi_potentialsub_dest_ports</th><th>hhi_alliance_lane</th><th>hhi_alliance_directsub_lanes</th><th>hhi_alliance_potentialsub_lanes</th><th>hhi_alliance_origin_port</th><th>hhi_alliance_dest_port</th><th>hhi_alliance_directsub_origin_ports</th><th>hhi_alliance_potentialsub_origin_ports</th><th>hhi_alliance_directsub_dest_ports</th><th>hhi_alliance_potentialsub_dest_ports</th><th>lane_capacity</th><th>drewery_lane</th><th>dist</th><th>rate_40</th><th>rate_20</th></tr><tr><td>str</td><td>str</td><td>str</td><td>f64</td><td>f64</td><td>f64</td><td>f64</td><td>f64</td><td>f64</td><td>f64</td><td>f64</td><td>f64</td><td>f64</td><td>f64</td><td>f64</td><td>f64</td><td>f64</td><td>f64</td><td>f64</td><td>f64</td><td>f64</td><td>f64</td><td>f64</td><td>f64</td><td>f64</td><td>f64</td><td>f64</td><td>f64</td><td>f64</td><td>str</td><td>f64</td><td>f64</td><td>f64</td></tr></thead><tbody><tr><td>&quot;count&quot;</td><td>&quot;97065&quot;</td><td>&quot;97065&quot;</td><td>97065.0</td><td>97065.0</td><td>97065.0</td><td>97065.0</td><td>97065.0</td><td>97065.0</td><td>97065.0</td><td>97065.0</td><td>55269.0</td><td>94954.0</td><td>97065.0</td><td>97065.0</td><td>41368.0</td><td>91949.0</td><td>65997.0</td><td>94808.0</td><td>97065.0</td><td>55591.0</td><td>94991.0</td><td>97065.0</td><td>97065.0</td><td>42022.0</td><td>91973.0</td><td>66206.0</td><td>94864.0</td><td>97065.0</td><td>&quot;97065&quot;</td><td>97065.0</td><td>49738.0</td><td>49738.0</td></tr><tr><td>&quot;null_count&quot;</td><td>&quot;0&quot;</td><td>&quot;0&quot;</td><td>0.0</td><td>0.0</td><td>0.0</td><td>0.0</td><td>0.0</td><td>0.0</td><td>0.0</td><td>0.0</td><td>41796.0</td><td>2111.0</td><td>0.0</td><td>0.0</td><td>55697.0</td><td>5116.0</td><td>31068.0</td><td>2257.0</td><td>0.0</td><td>41474.0</td><td>2074.0</td><td>0.0</td><td>0.0</td><td>55043.0</td><td>5092.0</td><td>30859.0</td><td>2201.0</td><td>0.0</td><td>&quot;0&quot;</td><td>0.0</td><td>47327.0</td><td>47327.0</td></tr><tr><td>&quot;mean&quot;</td><td>null</td><td>null</td><td>1477.836509</td><td>13.233122</td><td>6.733333</td><td>2.873971</td><td>36.001164</td><td>22.334549</td><td>7.068459</td><td>4495.28239</td><td>4400.467419</td><td>3742.549042</td><td>3647.416118</td><td>4198.09248</td><td>5018.440642</td><td>3358.668995</td><td>4387.454157</td><td>3672.974994</td><td>5270.857912</td><td>5367.176201</td><td>4631.737862</td><td>4539.476244</td><td>5004.785168</td><td>5875.687239</td><td>4392.923499</td><td>5371.344215</td><td>4578.071516</td><td>38759.507421</td><td>null</td><td>1314.252251</td><td>1603.674253</td><td>1237.05718</td></tr><tr><td>&quot;std&quot;</td><td>null</td><td>null</td><td>2416.308639</td><td>8.968438</td><td>4.170768</td><td>1.218577</td><td>16.896547</td><td>11.606937</td><td>3.53123</td><td>2801.173542</td><td>2908.983136</td><td>2869.49764</td><td>2841.503327</td><td>2866.370587</td><td>3092.120619</td><td>2710.833747</td><td>2974.142904</td><td>2821.730063</td><td>2640.08253</td><td>2596.313772</td><td>2603.590846</td><td>2585.174803</td><td>2647.12428</td><td>2706.363468</td><td>2531.451255</td><td>2637.769729</td><td>2554.608892</td><td>34284.436255</td><td>null</td><td>1003.786978</td><td>760.79759</td><td>528.156237</td></tr><tr><td>&quot;min&quot;</td><td>null</td><td>&quot;200701&quot;</td><td>0.3</td><td>1.0</td><td>1.0</td><td>1.0</td><td>1.0</td><td>1.0</td><td>1.0</td><td>638.060924</td><td>696.393654</td><td>671.618778</td><td>683.402222</td><td>667.852364</td><td>832.515862</td><td>640.373898</td><td>693.324644</td><td>662.505129</td><td>934.034602</td><td>1176.698776</td><td>1042.844946</td><td>956.542718</td><td>986.279004</td><td>1483.19386</td><td>1045.607733</td><td>1130.744245</td><td>1029.23643</td><td>7.205882</td><td>null</td><td>5.93014</td><td>400.0</td><td>310.0</td></tr><tr><td>&quot;25%&quot;</td><td>null</td><td>null</td><td>367.0</td><td>6.0</td><td>3.0</td><td>2.0</td><td>27.0</td><td>15.0</td><td>4.0</td><td>2323.762649</td><td>2135.646687</td><td>1652.645277</td><td>1629.145867</td><td>2011.941845</td><td>2417.033909</td><td>1471.597653</td><td>2067.689918</td><td>1640.553877</td><td>3159.850062</td><td>3378.213633</td><td>2741.674629</td><td>2741.86181</td><td>2940.445712</td><td>3661.688876</td><td>2680.300999</td><td>3361.907069</td><td>2775.833662</td><td>12329.020764</td><td>null</td><td>552.798207</td><td>1050.0</td><td>840.0</td></tr><tr><td>&quot;50%&quot;</td><td>null</td><td>null</td><td>816.621577</td><td>12.0</td><td>6.0</td><td>3.0</td><td>39.0</td><td>20.0</td><td>7.0</td><td>3518.518519</td><td>3386.468708</td><td>2606.489526</td><td>2518.32829</td><td>3103.158845</td><td>3903.091648</td><td>2283.911322</td><td>3334.209844</td><td>2577.757375</td><td>4497.300131</td><td>4668.171139</td><td>3682.775888</td><td>3536.619875</td><td>4149.003781</td><td>4954.594159</td><td>3413.60176</td><td>4581.359281</td><td>3652.442625</td><td>29840.588235</td><td>null</td><td>1231.437882</td><td>1490.0</td><td>1170.0</td></tr><tr><td>&quot;75%&quot;</td><td>null</td><td>null</td><td>1697.215643</td><td>18.0</td><td>9.0</td><td>4.0</td><td>46.0</td><td>30.0</td><td>11.0</td><td>5982.468955</td><td>5884.725581</td><td>5000.993717</td><td>4512.110397</td><td>5588.492624</td><td>7858.014162</td><td>4083.612827</td><td>5925.485533</td><td>4818.655492</td><td>7155.563423</td><td>7024.793388</td><td>5716.882644</td><td>5352.907106</td><td>6557.383492</td><td>9092.970522</td><td>5108.905617</td><td>7166.446547</td><td>5494.924147</td><td>55931.372549</td><td>null</td><td>1780.936587</td><td>1980.0</td><td>1480.0</td></tr><tr><td>&quot;max&quot;</td><td>null</td><td>&quot;202312&quot;</td><td>48794.368538</td><td>72.0</td><td>23.0</td><td>7.0</td><td>65.0</td><td>44.0</td><td>11.0</td><td>10000.0</td><td>10000.0</td><td>10000.0</td><td>10000.0</td><td>10000.0</td><td>10000.0</td><td>10000.0</td><td>10000.0</td><td>10000.0</td><td>10000.0</td><td>10000.0</td><td>10000.0</td><td>10000.0</td><td>10000.0</td><td>10000.0</td><td>10000.0</td><td>10000.0</td><td>10000.0</td><td>282385.498673</td><td>null</td><td>6620.504391</td><td>8250.0</td><td>5070.0</td></tr></tbody></table></div>"
      ],
      "text/plain": [
       "shape: (9, 33)\n",
       "┌────────────┬─────────┬────────┬────────────┬───┬────────────┬────────────┬───────────┬───────────┐\n",
       "│ statistic  ┆ lane_id ┆ month  ┆ teus       ┆ … ┆ drewery_la ┆ dist       ┆ rate_40   ┆ rate_20   │\n",
       "│ ---        ┆ ---     ┆ ---    ┆ ---        ┆   ┆ ne         ┆ ---        ┆ ---       ┆ ---       │\n",
       "│ str        ┆ str     ┆ str    ┆ f64        ┆   ┆ ---        ┆ f64        ┆ f64       ┆ f64       │\n",
       "│            ┆         ┆        ┆            ┆   ┆ str        ┆            ┆           ┆           │\n",
       "╞════════════╪═════════╪════════╪════════════╪═══╪════════════╪════════════╪═══════════╪═══════════╡\n",
       "│ count      ┆ 97065   ┆ 97065  ┆ 97065.0    ┆ … ┆ 97065      ┆ 97065.0    ┆ 49738.0   ┆ 49738.0   │\n",
       "│ null_count ┆ 0       ┆ 0      ┆ 0.0        ┆ … ┆ 0          ┆ 0.0        ┆ 47327.0   ┆ 47327.0   │\n",
       "│ mean       ┆ null    ┆ null   ┆ 1477.83650 ┆ … ┆ null       ┆ 1314.25225 ┆ 1603.6742 ┆ 1237.0571 │\n",
       "│            ┆         ┆        ┆ 9          ┆   ┆            ┆ 1          ┆ 53        ┆ 8         │\n",
       "│ std        ┆ null    ┆ null   ┆ 2416.30863 ┆ … ┆ null       ┆ 1003.78697 ┆ 760.79759 ┆ 528.15623 │\n",
       "│            ┆         ┆        ┆ 9          ┆   ┆            ┆ 8          ┆           ┆ 7         │\n",
       "│ min        ┆ null    ┆ 200701 ┆ 0.3        ┆ … ┆ null       ┆ 5.93014    ┆ 400.0     ┆ 310.0     │\n",
       "│ 25%        ┆ null    ┆ null   ┆ 367.0      ┆ … ┆ null       ┆ 552.798207 ┆ 1050.0    ┆ 840.0     │\n",
       "│ 50%        ┆ null    ┆ null   ┆ 816.621577 ┆ … ┆ null       ┆ 1231.43788 ┆ 1490.0    ┆ 1170.0    │\n",
       "│            ┆         ┆        ┆            ┆   ┆            ┆ 2          ┆           ┆           │\n",
       "│ 75%        ┆ null    ┆ null   ┆ 1697.21564 ┆ … ┆ null       ┆ 1780.93658 ┆ 1980.0    ┆ 1480.0    │\n",
       "│            ┆         ┆        ┆ 3          ┆   ┆            ┆ 7          ┆           ┆           │\n",
       "│ max        ┆ null    ┆ 202312 ┆ 48794.3685 ┆ … ┆ null       ┆ 6620.50439 ┆ 8250.0    ┆ 5070.0    │\n",
       "│            ┆         ┆        ┆ 38         ┆   ┆            ┆ 1          ┆           ┆           │\n",
       "└────────────┴─────────┴────────┴────────────┴───┴────────────┴────────────┴───────────┴───────────┘"
      ]
     },
     "execution_count": 12,
     "metadata": {},
     "output_type": "execute_result"
    }
   ],
   "source": [
    "lanepanel_lf.describe()"
   ]
  },
  {
   "cell_type": "code",
   "execution_count": 17,
   "metadata": {},
   "outputs": [],
   "source": [
    "#%%script echo skipping\n",
    "#save\n",
    "lanepanel_lf.collect().write_parquet('../data/usda_aggregations/lane_month.parquet')\n",
    "lanepanel_lf.describe().write_csv('../data/usda_aggregations/lane_month_summary.csv')"
   ]
  },
  {
   "cell_type": "code",
   "execution_count": 28,
   "metadata": {},
   "outputs": [
    {
     "data": {
      "application/vnd.plotly.v1+json": {
       "config": {
        "plotlyServerURL": "https://plot.ly"
       },
       "data": [
        {
         "hovertemplate": "month=%{x}<br>hhi_lane=%{y}<extra></extra>",
         "legendgroup": "",
         "line": {
          "color": "#636efa",
          "dash": "solid"
         },
         "marker": {
          "symbol": "circle"
         },
         "mode": "lines",
         "name": "",
         "orientation": "v",
         "showlegend": false,
         "type": "scatter",
         "x": [
          "2007-01-01T00:00:00",
          "2007-02-01T00:00:00",
          "2007-03-01T00:00:00",
          "2007-04-01T00:00:00",
          "2007-05-01T00:00:00",
          "2007-06-01T00:00:00",
          "2007-07-01T00:00:00",
          "2007-08-01T00:00:00",
          "2007-09-01T00:00:00",
          "2007-10-01T00:00:00",
          "2007-11-01T00:00:00",
          "2007-12-01T00:00:00",
          "2008-01-01T00:00:00",
          "2008-02-01T00:00:00",
          "2008-03-01T00:00:00",
          "2008-04-01T00:00:00",
          "2008-05-01T00:00:00",
          "2008-06-01T00:00:00",
          "2008-07-01T00:00:00",
          "2008-08-01T00:00:00",
          "2008-09-01T00:00:00",
          "2008-10-01T00:00:00",
          "2008-11-01T00:00:00",
          "2008-12-01T00:00:00",
          "2009-01-01T00:00:00",
          "2009-02-01T00:00:00",
          "2009-03-01T00:00:00",
          "2009-04-01T00:00:00",
          "2009-05-01T00:00:00",
          "2009-06-01T00:00:00",
          "2009-07-01T00:00:00",
          "2009-08-01T00:00:00",
          "2009-09-01T00:00:00",
          "2009-10-01T00:00:00",
          "2009-11-01T00:00:00",
          "2009-12-01T00:00:00",
          "2010-01-01T00:00:00",
          "2010-02-01T00:00:00",
          "2010-03-01T00:00:00",
          "2010-04-01T00:00:00",
          "2010-05-01T00:00:00",
          "2010-06-01T00:00:00",
          "2010-07-01T00:00:00",
          "2010-08-01T00:00:00",
          "2010-09-01T00:00:00",
          "2010-10-01T00:00:00",
          "2010-11-01T00:00:00",
          "2010-12-01T00:00:00",
          "2011-01-01T00:00:00",
          "2011-02-01T00:00:00",
          "2011-03-01T00:00:00",
          "2011-04-01T00:00:00",
          "2011-05-01T00:00:00",
          "2011-06-01T00:00:00",
          "2011-07-01T00:00:00",
          "2011-08-01T00:00:00",
          "2011-09-01T00:00:00",
          "2011-10-01T00:00:00",
          "2011-11-01T00:00:00",
          "2011-12-01T00:00:00",
          "2012-01-01T00:00:00",
          "2012-02-01T00:00:00",
          "2012-03-01T00:00:00",
          "2012-04-01T00:00:00",
          "2012-05-01T00:00:00",
          "2012-06-01T00:00:00",
          "2012-07-01T00:00:00",
          "2012-08-01T00:00:00",
          "2012-09-01T00:00:00",
          "2012-10-01T00:00:00",
          "2012-11-01T00:00:00",
          "2012-12-01T00:00:00",
          "2013-01-01T00:00:00",
          "2013-02-01T00:00:00",
          "2013-03-01T00:00:00",
          "2013-04-01T00:00:00",
          "2013-05-01T00:00:00",
          "2013-06-01T00:00:00",
          "2013-07-01T00:00:00",
          "2013-08-01T00:00:00",
          "2013-09-01T00:00:00",
          "2013-10-01T00:00:00",
          "2013-11-01T00:00:00",
          "2013-12-01T00:00:00",
          "2014-01-01T00:00:00",
          "2014-02-01T00:00:00",
          "2014-03-01T00:00:00",
          "2014-04-01T00:00:00",
          "2014-05-01T00:00:00",
          "2014-06-01T00:00:00",
          "2014-07-01T00:00:00",
          "2014-08-01T00:00:00",
          "2014-09-01T00:00:00",
          "2014-10-01T00:00:00",
          "2014-11-01T00:00:00",
          "2014-12-01T00:00:00",
          "2015-01-01T00:00:00",
          "2015-02-01T00:00:00",
          "2015-03-01T00:00:00",
          "2015-04-01T00:00:00",
          "2015-05-01T00:00:00",
          "2015-06-01T00:00:00",
          "2015-07-01T00:00:00",
          "2015-08-01T00:00:00",
          "2015-09-01T00:00:00",
          "2015-10-01T00:00:00",
          "2015-11-01T00:00:00",
          "2015-12-01T00:00:00",
          "2016-01-01T00:00:00",
          "2016-02-01T00:00:00",
          "2016-03-01T00:00:00",
          "2016-04-01T00:00:00",
          "2016-05-01T00:00:00",
          "2016-06-01T00:00:00",
          "2016-07-01T00:00:00",
          "2016-08-01T00:00:00",
          "2016-09-01T00:00:00",
          "2016-10-01T00:00:00",
          "2016-11-01T00:00:00",
          "2016-12-01T00:00:00",
          "2017-01-01T00:00:00",
          "2017-02-01T00:00:00",
          "2017-03-01T00:00:00",
          "2017-04-01T00:00:00",
          "2017-05-01T00:00:00",
          "2017-06-01T00:00:00",
          "2017-07-01T00:00:00",
          "2017-08-01T00:00:00",
          "2017-09-01T00:00:00",
          "2017-10-01T00:00:00",
          "2017-11-01T00:00:00",
          "2017-12-01T00:00:00",
          "2018-01-01T00:00:00",
          "2018-02-01T00:00:00",
          "2018-03-01T00:00:00",
          "2018-04-01T00:00:00",
          "2018-05-01T00:00:00",
          "2018-06-01T00:00:00",
          "2018-07-01T00:00:00",
          "2018-08-01T00:00:00",
          "2018-09-01T00:00:00",
          "2018-10-01T00:00:00",
          "2018-11-01T00:00:00",
          "2018-12-01T00:00:00",
          "2019-01-01T00:00:00",
          "2019-02-01T00:00:00",
          "2019-03-01T00:00:00",
          "2019-04-01T00:00:00",
          "2019-05-01T00:00:00",
          "2019-06-01T00:00:00",
          "2019-07-01T00:00:00",
          "2019-08-01T00:00:00",
          "2019-09-01T00:00:00",
          "2019-10-01T00:00:00",
          "2019-11-01T00:00:00",
          "2019-12-01T00:00:00",
          "2020-01-01T00:00:00",
          "2020-02-01T00:00:00",
          "2020-03-01T00:00:00",
          "2020-04-01T00:00:00",
          "2020-05-01T00:00:00",
          "2020-06-01T00:00:00",
          "2020-07-01T00:00:00",
          "2020-08-01T00:00:00",
          "2020-09-01T00:00:00",
          "2020-10-01T00:00:00",
          "2020-11-01T00:00:00",
          "2020-12-01T00:00:00",
          "2021-01-01T00:00:00",
          "2021-02-01T00:00:00",
          "2021-03-01T00:00:00",
          "2021-04-01T00:00:00",
          "2021-05-01T00:00:00",
          "2021-06-01T00:00:00",
          "2021-07-01T00:00:00",
          "2021-08-01T00:00:00",
          "2021-09-01T00:00:00",
          "2021-10-01T00:00:00",
          "2021-11-01T00:00:00",
          "2021-12-01T00:00:00",
          "2022-01-01T00:00:00",
          "2022-02-01T00:00:00",
          "2022-03-01T00:00:00",
          "2022-04-01T00:00:00",
          "2022-05-01T00:00:00",
          "2022-06-01T00:00:00",
          "2022-07-01T00:00:00",
          "2022-08-01T00:00:00",
          "2022-09-01T00:00:00",
          "2022-10-01T00:00:00",
          "2022-11-01T00:00:00",
          "2022-12-01T00:00:00",
          "2023-01-01T00:00:00",
          "2023-02-01T00:00:00",
          "2023-03-01T00:00:00",
          "2023-04-01T00:00:00",
          "2023-05-01T00:00:00",
          "2023-06-01T00:00:00",
          "2023-07-01T00:00:00",
          "2023-08-01T00:00:00",
          "2023-09-01T00:00:00",
          "2023-10-01T00:00:00",
          "2023-11-01T00:00:00",
          "2023-12-01T00:00:00"
         ],
         "xaxis": "x",
         "y": [
          4984.52348374877,
          4867.948481163852,
          4819.344400060058,
          4896.570648579383,
          4829.127624294737,
          4806.766866600916,
          4888.078533759276,
          4867.8770466275955,
          4679.915559653032,
          4833.595524115572,
          4667.965107844745,
          4535.71623525462,
          4659.608598398723,
          4641.2462704241125,
          4755.791900498385,
          4794.152611677505,
          4942.158501637161,
          4841.736882492014,
          4605.6920976724205,
          4636.478586025408,
          4668.526890650484,
          4666.764138136596,
          4585.496096691697,
          4508.37545819978,
          4675.482609454632,
          4682.946296505076,
          4743.812470763024,
          4613.191554170088,
          4702.667925755074,
          4627.476180723256,
          4677.568805548339,
          4668.327478124083,
          4681.851039878308,
          4607.980051026747,
          4614.21118531185,
          4587.53928097993,
          4828.550181423737,
          4656.092251621077,
          4647.956715235999,
          4482.521570378913,
          4486.296279861817,
          4549.627327423771,
          4567.095582594572,
          4525.214363560001,
          4654.0242285041695,
          4586.439644150341,
          4585.716979248645,
          4391.936841775979,
          4508.672031079255,
          4543.355191263781,
          4446.104782245203,
          4415.420828414468,
          4471.716654842067,
          4468.554331676525,
          4446.874901668644,
          4420.223036961279,
          4457.304649387015,
          4470.407148743872,
          4503.678708489981,
          4433.90304242733,
          4432.006347947299,
          4470.645236550591,
          4480.29899038724,
          4437.721262086314,
          4470.994166557018,
          4406.903346179341,
          4376.740909111812,
          4528.496779255053,
          4497.453658045591,
          4511.852986530287,
          4487.031127777783,
          4549.760997491907,
          4627.56805694781,
          4536.01074998075,
          4556.634397190363,
          4745.2494541088645,
          4663.140157195634,
          4644.8092864372675,
          4672.191245600674,
          4719.995041714324,
          4608.9892925489785,
          4577.783323884143,
          4589.49717521577,
          4571.888890924104,
          4602.865428413404,
          4603.0746521356095,
          4498.582559704125,
          4571.224661374087,
          4571.9906001802,
          4510.64582800437,
          4606.264523624028,
          4525.365069481828,
          4537.1630216257545,
          4583.192521117897,
          4632.696553573649,
          4542.898886271119,
          4611.956013468574,
          4513.029195816169,
          4514.666397872498,
          4500.9656169177615,
          4503.3731757689075,
          4492.156324123772,
          4567.096814022255,
          4505.158705963153,
          4557.003942962224,
          4536.131685173192,
          4499.037446049993,
          4583.008127488274,
          4559.331427718825,
          4538.264134618802,
          4479.616513986122,
          4460.018284176516,
          4392.391964579753,
          4425.149506749489,
          4258.611198911837,
          4621.227116776463,
          4577.309807873442,
          4581.462015193323,
          4584.920783315208,
          4549.88788883014,
          4543.202448030035,
          4419.789235202183,
          4458.579108197112,
          4529.904469185414,
          4423.347252438688,
          4463.490980644403,
          4534.683808779704,
          4424.096451309633,
          4517.490254396775,
          4591.164079642353,
          4422.162487051061,
          4153.504018739844,
          4194.26392632211,
          4123.237279263861,
          4058.188930368323,
          4232.801554272491,
          4265.4562013702725,
          4255.9057179214215,
          4176.200214302637,
          4254.700166887541,
          4252.651973919797,
          4303.346769038398,
          4324.7750874019375,
          4339.827287589082,
          4326.898672591724,
          4335.309398017262,
          4298.962073420835,
          4216.005193435794,
          4217.661984310242,
          4201.828536808518,
          4263.656938257283,
          4134.812705772942,
          4219.565883423045,
          4098.846920270342,
          4191.082059117743,
          4084.113732374395,
          4268.40948830788,
          4160.783800986462,
          4291.7299338336215,
          4288.426335729054,
          4126.513115851569,
          4233.137510301432,
          4092.8901209271457,
          4117.628178185232,
          4180.606313515502,
          4406.482602710249,
          4380.585126504176,
          4482.86560038489,
          4459.1128661989615,
          4319.319431224878,
          4376.881948509799,
          4340.448774306738,
          4435.24650344763,
          4409.738189670008,
          4506.251856633263,
          4478.305033062433,
          4608.612973473442,
          4584.43901241867,
          4469.116172558943,
          4559.767407807463,
          4531.865681857158,
          4651.124012258883,
          4501.325192716689,
          4487.317864949588,
          4475.977845364399,
          4511.282866794392,
          4519.959580279759,
          4588.787456377405,
          4486.98001660287,
          4427.008598145043,
          4444.448509496848,
          4381.808130053614,
          4470.783122508146,
          4391.907199403607,
          4395.908802262553,
          4419.626763246945,
          4377.6327597920035,
          4378.299541427536,
          4381.9882003775,
          4487.284419195254,
          4467.950763460628,
          4482.638103095013,
          4483.6214628955395,
          4583.746629276324
         ],
         "yaxis": "y"
        }
       ],
       "layout": {
        "legend": {
         "tracegroupgap": 0
        },
        "margin": {
         "t": 60
        },
        "template": {
         "data": {
          "bar": [
           {
            "error_x": {
             "color": "#2a3f5f"
            },
            "error_y": {
             "color": "#2a3f5f"
            },
            "marker": {
             "line": {
              "color": "#E5ECF6",
              "width": 0.5
             },
             "pattern": {
              "fillmode": "overlay",
              "size": 10,
              "solidity": 0.2
             }
            },
            "type": "bar"
           }
          ],
          "barpolar": [
           {
            "marker": {
             "line": {
              "color": "#E5ECF6",
              "width": 0.5
             },
             "pattern": {
              "fillmode": "overlay",
              "size": 10,
              "solidity": 0.2
             }
            },
            "type": "barpolar"
           }
          ],
          "carpet": [
           {
            "aaxis": {
             "endlinecolor": "#2a3f5f",
             "gridcolor": "white",
             "linecolor": "white",
             "minorgridcolor": "white",
             "startlinecolor": "#2a3f5f"
            },
            "baxis": {
             "endlinecolor": "#2a3f5f",
             "gridcolor": "white",
             "linecolor": "white",
             "minorgridcolor": "white",
             "startlinecolor": "#2a3f5f"
            },
            "type": "carpet"
           }
          ],
          "choropleth": [
           {
            "colorbar": {
             "outlinewidth": 0,
             "ticks": ""
            },
            "type": "choropleth"
           }
          ],
          "contour": [
           {
            "colorbar": {
             "outlinewidth": 0,
             "ticks": ""
            },
            "colorscale": [
             [
              0,
              "#0d0887"
             ],
             [
              0.1111111111111111,
              "#46039f"
             ],
             [
              0.2222222222222222,
              "#7201a8"
             ],
             [
              0.3333333333333333,
              "#9c179e"
             ],
             [
              0.4444444444444444,
              "#bd3786"
             ],
             [
              0.5555555555555556,
              "#d8576b"
             ],
             [
              0.6666666666666666,
              "#ed7953"
             ],
             [
              0.7777777777777778,
              "#fb9f3a"
             ],
             [
              0.8888888888888888,
              "#fdca26"
             ],
             [
              1,
              "#f0f921"
             ]
            ],
            "type": "contour"
           }
          ],
          "contourcarpet": [
           {
            "colorbar": {
             "outlinewidth": 0,
             "ticks": ""
            },
            "type": "contourcarpet"
           }
          ],
          "heatmap": [
           {
            "colorbar": {
             "outlinewidth": 0,
             "ticks": ""
            },
            "colorscale": [
             [
              0,
              "#0d0887"
             ],
             [
              0.1111111111111111,
              "#46039f"
             ],
             [
              0.2222222222222222,
              "#7201a8"
             ],
             [
              0.3333333333333333,
              "#9c179e"
             ],
             [
              0.4444444444444444,
              "#bd3786"
             ],
             [
              0.5555555555555556,
              "#d8576b"
             ],
             [
              0.6666666666666666,
              "#ed7953"
             ],
             [
              0.7777777777777778,
              "#fb9f3a"
             ],
             [
              0.8888888888888888,
              "#fdca26"
             ],
             [
              1,
              "#f0f921"
             ]
            ],
            "type": "heatmap"
           }
          ],
          "heatmapgl": [
           {
            "colorbar": {
             "outlinewidth": 0,
             "ticks": ""
            },
            "colorscale": [
             [
              0,
              "#0d0887"
             ],
             [
              0.1111111111111111,
              "#46039f"
             ],
             [
              0.2222222222222222,
              "#7201a8"
             ],
             [
              0.3333333333333333,
              "#9c179e"
             ],
             [
              0.4444444444444444,
              "#bd3786"
             ],
             [
              0.5555555555555556,
              "#d8576b"
             ],
             [
              0.6666666666666666,
              "#ed7953"
             ],
             [
              0.7777777777777778,
              "#fb9f3a"
             ],
             [
              0.8888888888888888,
              "#fdca26"
             ],
             [
              1,
              "#f0f921"
             ]
            ],
            "type": "heatmapgl"
           }
          ],
          "histogram": [
           {
            "marker": {
             "pattern": {
              "fillmode": "overlay",
              "size": 10,
              "solidity": 0.2
             }
            },
            "type": "histogram"
           }
          ],
          "histogram2d": [
           {
            "colorbar": {
             "outlinewidth": 0,
             "ticks": ""
            },
            "colorscale": [
             [
              0,
              "#0d0887"
             ],
             [
              0.1111111111111111,
              "#46039f"
             ],
             [
              0.2222222222222222,
              "#7201a8"
             ],
             [
              0.3333333333333333,
              "#9c179e"
             ],
             [
              0.4444444444444444,
              "#bd3786"
             ],
             [
              0.5555555555555556,
              "#d8576b"
             ],
             [
              0.6666666666666666,
              "#ed7953"
             ],
             [
              0.7777777777777778,
              "#fb9f3a"
             ],
             [
              0.8888888888888888,
              "#fdca26"
             ],
             [
              1,
              "#f0f921"
             ]
            ],
            "type": "histogram2d"
           }
          ],
          "histogram2dcontour": [
           {
            "colorbar": {
             "outlinewidth": 0,
             "ticks": ""
            },
            "colorscale": [
             [
              0,
              "#0d0887"
             ],
             [
              0.1111111111111111,
              "#46039f"
             ],
             [
              0.2222222222222222,
              "#7201a8"
             ],
             [
              0.3333333333333333,
              "#9c179e"
             ],
             [
              0.4444444444444444,
              "#bd3786"
             ],
             [
              0.5555555555555556,
              "#d8576b"
             ],
             [
              0.6666666666666666,
              "#ed7953"
             ],
             [
              0.7777777777777778,
              "#fb9f3a"
             ],
             [
              0.8888888888888888,
              "#fdca26"
             ],
             [
              1,
              "#f0f921"
             ]
            ],
            "type": "histogram2dcontour"
           }
          ],
          "mesh3d": [
           {
            "colorbar": {
             "outlinewidth": 0,
             "ticks": ""
            },
            "type": "mesh3d"
           }
          ],
          "parcoords": [
           {
            "line": {
             "colorbar": {
              "outlinewidth": 0,
              "ticks": ""
             }
            },
            "type": "parcoords"
           }
          ],
          "pie": [
           {
            "automargin": true,
            "type": "pie"
           }
          ],
          "scatter": [
           {
            "fillpattern": {
             "fillmode": "overlay",
             "size": 10,
             "solidity": 0.2
            },
            "type": "scatter"
           }
          ],
          "scatter3d": [
           {
            "line": {
             "colorbar": {
              "outlinewidth": 0,
              "ticks": ""
             }
            },
            "marker": {
             "colorbar": {
              "outlinewidth": 0,
              "ticks": ""
             }
            },
            "type": "scatter3d"
           }
          ],
          "scattercarpet": [
           {
            "marker": {
             "colorbar": {
              "outlinewidth": 0,
              "ticks": ""
             }
            },
            "type": "scattercarpet"
           }
          ],
          "scattergeo": [
           {
            "marker": {
             "colorbar": {
              "outlinewidth": 0,
              "ticks": ""
             }
            },
            "type": "scattergeo"
           }
          ],
          "scattergl": [
           {
            "marker": {
             "colorbar": {
              "outlinewidth": 0,
              "ticks": ""
             }
            },
            "type": "scattergl"
           }
          ],
          "scattermapbox": [
           {
            "marker": {
             "colorbar": {
              "outlinewidth": 0,
              "ticks": ""
             }
            },
            "type": "scattermapbox"
           }
          ],
          "scatterpolar": [
           {
            "marker": {
             "colorbar": {
              "outlinewidth": 0,
              "ticks": ""
             }
            },
            "type": "scatterpolar"
           }
          ],
          "scatterpolargl": [
           {
            "marker": {
             "colorbar": {
              "outlinewidth": 0,
              "ticks": ""
             }
            },
            "type": "scatterpolargl"
           }
          ],
          "scatterternary": [
           {
            "marker": {
             "colorbar": {
              "outlinewidth": 0,
              "ticks": ""
             }
            },
            "type": "scatterternary"
           }
          ],
          "surface": [
           {
            "colorbar": {
             "outlinewidth": 0,
             "ticks": ""
            },
            "colorscale": [
             [
              0,
              "#0d0887"
             ],
             [
              0.1111111111111111,
              "#46039f"
             ],
             [
              0.2222222222222222,
              "#7201a8"
             ],
             [
              0.3333333333333333,
              "#9c179e"
             ],
             [
              0.4444444444444444,
              "#bd3786"
             ],
             [
              0.5555555555555556,
              "#d8576b"
             ],
             [
              0.6666666666666666,
              "#ed7953"
             ],
             [
              0.7777777777777778,
              "#fb9f3a"
             ],
             [
              0.8888888888888888,
              "#fdca26"
             ],
             [
              1,
              "#f0f921"
             ]
            ],
            "type": "surface"
           }
          ],
          "table": [
           {
            "cells": {
             "fill": {
              "color": "#EBF0F8"
             },
             "line": {
              "color": "white"
             }
            },
            "header": {
             "fill": {
              "color": "#C8D4E3"
             },
             "line": {
              "color": "white"
             }
            },
            "type": "table"
           }
          ]
         },
         "layout": {
          "annotationdefaults": {
           "arrowcolor": "#2a3f5f",
           "arrowhead": 0,
           "arrowwidth": 1
          },
          "autotypenumbers": "strict",
          "coloraxis": {
           "colorbar": {
            "outlinewidth": 0,
            "ticks": ""
           }
          },
          "colorscale": {
           "diverging": [
            [
             0,
             "#8e0152"
            ],
            [
             0.1,
             "#c51b7d"
            ],
            [
             0.2,
             "#de77ae"
            ],
            [
             0.3,
             "#f1b6da"
            ],
            [
             0.4,
             "#fde0ef"
            ],
            [
             0.5,
             "#f7f7f7"
            ],
            [
             0.6,
             "#e6f5d0"
            ],
            [
             0.7,
             "#b8e186"
            ],
            [
             0.8,
             "#7fbc41"
            ],
            [
             0.9,
             "#4d9221"
            ],
            [
             1,
             "#276419"
            ]
           ],
           "sequential": [
            [
             0,
             "#0d0887"
            ],
            [
             0.1111111111111111,
             "#46039f"
            ],
            [
             0.2222222222222222,
             "#7201a8"
            ],
            [
             0.3333333333333333,
             "#9c179e"
            ],
            [
             0.4444444444444444,
             "#bd3786"
            ],
            [
             0.5555555555555556,
             "#d8576b"
            ],
            [
             0.6666666666666666,
             "#ed7953"
            ],
            [
             0.7777777777777778,
             "#fb9f3a"
            ],
            [
             0.8888888888888888,
             "#fdca26"
            ],
            [
             1,
             "#f0f921"
            ]
           ],
           "sequentialminus": [
            [
             0,
             "#0d0887"
            ],
            [
             0.1111111111111111,
             "#46039f"
            ],
            [
             0.2222222222222222,
             "#7201a8"
            ],
            [
             0.3333333333333333,
             "#9c179e"
            ],
            [
             0.4444444444444444,
             "#bd3786"
            ],
            [
             0.5555555555555556,
             "#d8576b"
            ],
            [
             0.6666666666666666,
             "#ed7953"
            ],
            [
             0.7777777777777778,
             "#fb9f3a"
            ],
            [
             0.8888888888888888,
             "#fdca26"
            ],
            [
             1,
             "#f0f921"
            ]
           ]
          },
          "colorway": [
           "#636efa",
           "#EF553B",
           "#00cc96",
           "#ab63fa",
           "#FFA15A",
           "#19d3f3",
           "#FF6692",
           "#B6E880",
           "#FF97FF",
           "#FECB52"
          ],
          "font": {
           "color": "#2a3f5f"
          },
          "geo": {
           "bgcolor": "white",
           "lakecolor": "white",
           "landcolor": "#E5ECF6",
           "showlakes": true,
           "showland": true,
           "subunitcolor": "white"
          },
          "hoverlabel": {
           "align": "left"
          },
          "hovermode": "closest",
          "mapbox": {
           "style": "light"
          },
          "paper_bgcolor": "white",
          "plot_bgcolor": "#E5ECF6",
          "polar": {
           "angularaxis": {
            "gridcolor": "white",
            "linecolor": "white",
            "ticks": ""
           },
           "bgcolor": "#E5ECF6",
           "radialaxis": {
            "gridcolor": "white",
            "linecolor": "white",
            "ticks": ""
           }
          },
          "scene": {
           "xaxis": {
            "backgroundcolor": "#E5ECF6",
            "gridcolor": "white",
            "gridwidth": 2,
            "linecolor": "white",
            "showbackground": true,
            "ticks": "",
            "zerolinecolor": "white"
           },
           "yaxis": {
            "backgroundcolor": "#E5ECF6",
            "gridcolor": "white",
            "gridwidth": 2,
            "linecolor": "white",
            "showbackground": true,
            "ticks": "",
            "zerolinecolor": "white"
           },
           "zaxis": {
            "backgroundcolor": "#E5ECF6",
            "gridcolor": "white",
            "gridwidth": 2,
            "linecolor": "white",
            "showbackground": true,
            "ticks": "",
            "zerolinecolor": "white"
           }
          },
          "shapedefaults": {
           "line": {
            "color": "#2a3f5f"
           }
          },
          "ternary": {
           "aaxis": {
            "gridcolor": "white",
            "linecolor": "white",
            "ticks": ""
           },
           "baxis": {
            "gridcolor": "white",
            "linecolor": "white",
            "ticks": ""
           },
           "bgcolor": "#E5ECF6",
           "caxis": {
            "gridcolor": "white",
            "linecolor": "white",
            "ticks": ""
           }
          },
          "title": {
           "x": 0.05
          },
          "xaxis": {
           "automargin": true,
           "gridcolor": "white",
           "linecolor": "white",
           "ticks": "",
           "title": {
            "standoff": 15
           },
           "zerolinecolor": "white",
           "zerolinewidth": 2
          },
          "yaxis": {
           "automargin": true,
           "gridcolor": "white",
           "linecolor": "white",
           "ticks": "",
           "title": {
            "standoff": 15
           },
           "zerolinecolor": "white",
           "zerolinewidth": 2
          }
         }
        },
        "xaxis": {
         "anchor": "y",
         "domain": [
          0,
          1
         ],
         "title": {
          "text": "month"
         }
        },
        "yaxis": {
         "anchor": "x",
         "domain": [
          0,
          1
         ],
         "title": {
          "text": "hhi_lane"
         }
        }
       }
      }
     },
     "metadata": {},
     "output_type": "display_data"
    }
   ],
   "source": [
    "top10_lanes = (\n",
    "    main_lf\n",
    "    .group_by('lane_id')\n",
    "    .agg(pl.col('teus').sum())\n",
    "    .sort(by='teus', descending=True)\n",
    "    .limit(10)\n",
    "    .collect()\n",
    ")\n",
    "\n",
    "px.line(\n",
    "    lanepanel_lf.select('hhi_lane', 'month', 'lane_id')\n",
    "    #.filter(pl.col('lane_id').is_in(top10_lanes))\n",
    "    .with_columns(pl.col('month').str.to_date('%Y%m'))\n",
    "    .group_by('month')\n",
    "    .agg(pl.col('hhi_lane').mean()).collect()\n",
    "    .sort(by='month'),\n",
    "    x='month', y='hhi_lane'\n",
    ")"
   ]
  },
  {
   "cell_type": "code",
   "execution_count": null,
   "metadata": {},
   "outputs": [],
   "source": [
    "px.line(\n",
    "    lanepanel_lf.select('hhi_alliance_lane', 'month', 'lane_id')\n",
    "    .filter(pl.col('lane_id').is_in(top10_lanes))\n",
    "    .with_columns(pl.col('month').str.to_date('%Y%m').dt.year().alias('year'))\n",
    "    .group_by('year')\n",
    "    .agg(pl.col('hhi_lane').median()).collect()\n",
    "    .sort(by='year'),\n",
    "    x='year', y='hhi_lane'\n",
    ")"
   ]
  },
  {
   "cell_type": "markdown",
   "metadata": {},
   "source": [
    "### Aggregation 2: Lane-Month-Carrier\n",
    "\n",
    "The next level of aggregation is over carriers in addition to lane and month, allowing us to analyze the ports serviced, total volumes and capacities, etc of specific carriers within each lane. "
   ]
  },
  {
   "cell_type": "code",
   "execution_count": 13,
   "metadata": {},
   "outputs": [],
   "source": [
    "def get_leaveout_hhi(agg_lf, market_var, panel_vars, volume_var='teus', firm_var='scac', \n",
    "            time_var='month', name='leaveout_hhi', source_lf=main_lf,\n",
    "            sub_group_var=None, dropmarket=False):\n",
    "    if sub_group_var:\n",
    "        leaveout_hhi_lf = (\n",
    "            source_lf\n",
    "            #compute volumes for each firm on the given group, less the market\n",
    "            .with_columns(\n",
    "                ((pl.col(volume_var).sum()\n",
    "                .over([firm_var, time_var, sub_group_var])) - \n",
    "                (pl.col(volume_var).sum()\n",
    "                .over([market_var, firm_var, time_var]))).alias('volume')\n",
    "            )\n",
    "            #c\n",
    "            .group_by([market_var, firm_var, time_var])\n",
    "            .agg(pl.col('volume').first())\n",
    "            .with_columns(\n",
    "                leaveout_sum = (pl.col('volume').sum()\n",
    "                                .over([market_var, time_var]))-\n",
    "                                (pl.col('volume')),\n",
    "                leaveout_sumsq = ((pl.col('volume')**2).sum()\n",
    "                                  .over([market_var, time_var])*10000)-\n",
    "                                  ((pl.col('volume')**2)*10000)\n",
    "            )\n",
    "            .with_columns(\n",
    "                leaveout_hhi = (pl.col('leaveout_sumsq')/\n",
    "                                (pl.col('leaveout_sum')**2))\n",
    "            )\n",
    "        )\n",
    "    else:\n",
    "        leaveout_hhi_lf = (\n",
    "            source_lf\n",
    "            .group_by([market_var, firm_var, time_var])\n",
    "            .agg(volume = pl.col(volume_var).sum())\n",
    "            .with_columns(\n",
    "                leaveout_sum = (pl.col('volume').sum()\n",
    "                                .over([market_var, time_var]))-\n",
    "                                (pl.col('volume')),\n",
    "                leaveout_sumsq = ((pl.col('volume')**2).sum()\n",
    "                                  .over([market_var, time_var])*10000)-\n",
    "                                  ((pl.col('volume')**2)*10000)\n",
    "            )\n",
    "            .with_columns(\n",
    "                leaveout_hhi = (pl.col('leaveout_sumsq')/\n",
    "                                (pl.col('leaveout_sum')**2))\n",
    "            )\n",
    "        )\n",
    "    \n",
    "    lf = (\n",
    "        agg_lf\n",
    "        #get market var into agg_lf\n",
    "        .join(\n",
    "            source_lf.select(set([*panel_vars, market_var, time_var]))\n",
    "            .unique(),\n",
    "            on=set([*panel_vars, time_var]), how='left'\n",
    "        )\n",
    "        #merge in hhi\n",
    "        .join(\n",
    "            leaveout_hhi_lf.fill_nan(None)\n",
    "            .select([market_var, firm_var, time_var, 'leaveout_hhi']), \n",
    "            on=[market_var, firm_var, time_var], how='left'\n",
    "        )\n",
    "    )\n",
    "    if dropmarket:\n",
    "        lf = lf.drop(market_var)\n",
    "    return lf"
   ]
  },
  {
   "cell_type": "code",
   "execution_count": 14,
   "metadata": {},
   "outputs": [],
   "source": [
    "def get_alliance_ms(agg_lf, market_var, panel_vars, volume_var='teus', \n",
    "            time_var='month', name='ms_alliance', source_lf=main_lf,\n",
    "            sub_group_var=None):\n",
    "    '''\n",
    "    computes market share for each carrier's alliance on the lane that month\n",
    "    '''\n",
    "    if sub_group_var:\n",
    "        ms_lf = (\n",
    "            source_lf\n",
    "            #compute volumes for each alliance\n",
    "            .with_columns(\n",
    "                ((pl.col(volume_var).sum()\n",
    "                .over(['alliance_alt', time_var, sub_group_var])) - \n",
    "                (pl.col(volume_var).sum()\n",
    "                .over([market_var, 'alliance_alt', time_var]))).alias('volume')\n",
    "            )\n",
    "            #compute market share for each alliance\n",
    "            .group_by(set([*panel_vars, 'alliance_alt', time_var]))\n",
    "            .agg(\n",
    "                pl.col('volume').first()\n",
    "            )\n",
    "            .with_columns(\n",
    "                (((pl.col('volume'))/\n",
    "                (pl.col('volume').sum().over(*panel_vars, time_var)))\n",
    "                    *100).alias(name)\n",
    "            )\n",
    "        )\n",
    "    else:\n",
    "        ms_lf = (\n",
    "            source_lf\n",
    "            #compute volumes for each alliance\n",
    "            .group_by(set([*panel_vars, 'alliance_alt', time_var]))\n",
    "            .agg(\n",
    "                #get alliance volume\n",
    "                pl.col(volume_var).sum().alias('volume')\n",
    "            )\n",
    "            #compute market share\n",
    "            .with_columns(\n",
    "                (((pl.col('volume'))/(pl.col('volume').sum().over(*panel_vars, \n",
    "                                                                  time_var)))\n",
    "                    *100).alias(name)\n",
    "            )\n",
    "        )\n",
    "    lf = agg_lf.join(\n",
    "        ms_lf.drop('volume').fill_nan(None),\n",
    "        on=[*panel_vars, 'alliance_alt', time_var], how='left')\n",
    "\n",
    "    return lf"
   ]
  },
  {
   "cell_type": "code",
   "execution_count": 15,
   "metadata": {},
   "outputs": [],
   "source": [
    "#main aggregation\n",
    "lane_month_carrier_lf = (\n",
    "    main_lf\n",
    "    .with_columns(\n",
    "        #number of foreign ports serviced by carrier from us port\n",
    "        num_foreign_ports = (pl.col('dest_port_code').unique().count()\n",
    "                             .over('month', 'scac', 'origin_port_code')),\n",
    "        #number of foreign countries serviced by carrier from us port\n",
    "        num_foreign_countries = (pl.col('dest_territory').unique().count()\n",
    "                                 .over('month', 'scac', 'origin_port_code')),\n",
    "        #number of foreign regions serviced by carrier from us port\n",
    "        num_foreign_regions = (pl.col('dest_region').unique().count()\n",
    "                                 .over('month', 'scac', 'origin_port_code'))\n",
    "    )\n",
    "    #aggregate\n",
    "    .group_by('lane_id', 'month', 'scac')\n",
    "    .agg(\n",
    "        teus = pl.col('teus').sum(),\n",
    "        alliance = pl.col('alliance').first(),\n",
    "        num_foreign_ports = pl.col('num_foreign_ports').first(),\n",
    "        num_foreign_countries = pl.col('num_foreign_countries').first(),\n",
    "        num_foreign_regions = pl.col('num_foreign_regions').first()\n",
    "    )\n",
    "    #get market share of each carrier for the lane and month\n",
    "    .with_columns(\n",
    "        ms_carrier = ((pl.col('teus')/\n",
    "                      (pl.col('teus').sum().over('lane_id', 'month'))))\n",
    "    )\n",
    "    .with_columns(\n",
    "        #number of carriers active on the lane\n",
    "        num_carriers = pl.col('scac').unique().count().over('lane_id', 'month'),\n",
    "        #hhi\n",
    "        hhi_lane = (pl.col('ms_carrier')**2).sum().over('lane_id', 'month')\n",
    "    )\n",
    ")\n",
    "#get alliance_alt col \n",
    "lane_month_carrier_lf = lane_month_carrier_lf.join(\n",
    "    main_lf.select('lane_id', 'month', 'scac', 'alliance_alt').unique(),\n",
    "    on=['lane_id', 'month', 'scac'], how='left'\n",
    ")\n",
    "\n",
    "#get market shares of the carrier's alliance\n",
    "#on the lane\n",
    "lane_month_carrier_lf = get_alliance_ms(\n",
    "    lane_month_carrier_lf, market_var='lane_id', panel_vars=['lane_id'],\n",
    "    name='ms_alliance_lane')\n",
    "#on direct substitute lanes\n",
    "lane_month_carrier_lf = get_alliance_ms(\n",
    "    lane_month_carrier_lf, market_var='lane_id', panel_vars=['lane_id'],\n",
    "    name='ms_alliance_directsub_lanes', sub_group_var='lane_group')\n",
    "#on potential substitute lanes\n",
    "lane_month_carrier_lf = get_alliance_ms(\n",
    "    lane_month_carrier_lf, market_var='lane_id', panel_vars=['lane_id'],\n",
    "    name='ms_alliance_potentialsub_lanes', sub_group_var='lane_region')\n",
    "#at the origin port\n",
    "lane_month_carrier_lf = get_alliance_ms(\n",
    "    lane_month_carrier_lf, market_var='origin_port_code', panel_vars=['lane_id'],\n",
    "    name='ms_alliance_origin_port')\n",
    "#at the destination port\n",
    "lane_month_carrier_lf = get_alliance_ms(\n",
    "    lane_month_carrier_lf, market_var='dest_port_code', panel_vars=['lane_id'],\n",
    "    name='ms_alliance_dest_port')\n",
    "#at direct substitute origin ports\n",
    "lane_month_carrier_lf = get_alliance_ms(\n",
    "    lane_month_carrier_lf, market_var='origin_port_code', panel_vars=['lane_id'],\n",
    "    name='ms_alliance_directsub_origin_ports', sub_group_var='origin_port_group')\n",
    "#at potential substitute origin ports\n",
    "lane_month_carrier_lf = get_alliance_ms(\n",
    "    lane_month_carrier_lf, market_var='origin_port_code', panel_vars=['lane_id'],\n",
    "    name='ms_alliance_potentialsub_origin_ports', sub_group_var='coast_region')\n",
    "#at direct substitute dest ports\n",
    "lane_month_carrier_lf = get_alliance_ms(\n",
    "    lane_month_carrier_lf, market_var='dest_port_code', panel_vars=['lane_id'],\n",
    "    name='ms_alliance_directsub_dest_ports', sub_group_var='dest_territory')\n",
    "#at potential substitute dest ports\n",
    "lane_month_carrier_lf = get_alliance_ms(\n",
    "    lane_month_carrier_lf, market_var='dest_port_code', panel_vars=['lane_id'],\n",
    "    name='ms_alliance_potentialsub_dest_ports', sub_group_var='dest_region')\n",
    "\n",
    "#get HHI of alliances\n",
    "lane_month_carrier_lf = (\n",
    "    lane_month_carrier_lf\n",
    "    .join(\n",
    "        lanepanel_lf.select(\n",
    "            'lane_id', 'month', 'hhi_alliance_lane', \n",
    "            'hhi_alliance_directsub_lanes', 'hhi_alliance_potentialsub_lanes', \n",
    "            'hhi_alliance_origin_port', 'hhi_alliance_dest_port', \n",
    "            'hhi_alliance_directsub_origin_ports', \n",
    "            'hhi_alliance_potentialsub_origin_ports', \n",
    "            'hhi_alliance_directsub_dest_ports', \n",
    "            'hhi_alliance_potentialsub_dest_ports')\n",
    "        .unique(),\n",
    "        on=['lane_id', 'month'], how='left'\n",
    "    )\n",
    ")\n",
    "\n",
    "#get leaveout HHIs - Concentration on each market leaving out the carrier's alliance\n",
    "#on the lane\n",
    "leaveout_hhi_lane = get_leaveout_hhi(\n",
    "    agg_lf=lane_month_carrier_lf, market_var='lane_id',\n",
    "    panel_vars=['lane_id', 'alliance_alt'], firm_var='alliance_alt',\n",
    "    sub_group_var='origin_port_group', name='leaveout_hhi_lane'\n",
    ")\n",
    "#on direct substitute lanes\n",
    "leaveout_hhi_directsub_lanes = get_leaveout_hhi(\n",
    "    agg_lf=lane_month_carrier_lf, market_var='lane_id',\n",
    "    panel_vars=['lane_id', 'alliance_alt'], firm_var='alliance_alt',\n",
    "    sub_group_var='lane_group', name='leaveout_hhi_directsub_lanes'\n",
    ")\n",
    "#on potential substitute lanes\n",
    "leaveout_hhi_potentialsub_lanes = get_leaveout_hhi(\n",
    "    agg_lf=lane_month_carrier_lf, market_var='lane_id',\n",
    "    panel_vars=['lane_id', 'alliance_alt'], firm_var='alliance_alt',\n",
    "    sub_group_var='lane_region', name='leaveout_hhi_potentialsub_lanes'\n",
    ")\n",
    "#on the origin port\n",
    "leaveout_hhi_origin_port= get_leaveout_hhi(\n",
    "    agg_lf=lane_month_carrier_lf, market_var='origin_port_code',\n",
    "    panel_vars=['lane_id', 'alliance_alt'], firm_var='alliance_alt',\n",
    "    name='leaveout_hhi_origin_ports', dropmarket=True\n",
    ")\n",
    "#on direct substitutes for the origin port\n",
    "leaveout_hhi_directsub_origin_ports = get_leaveout_hhi(\n",
    "    agg_lf=lane_month_carrier_lf, market_var='origin_port_code',\n",
    "    panel_vars=['lane_id', 'alliance_alt'], firm_var='alliance_alt',\n",
    "    sub_group_var='origin_port_group', \n",
    "    name='leaveout_hhi_directsub_origin_ports', dropmarket=True\n",
    ")\n",
    "#on potential subsittues for the origon port\n",
    "leaveout_hhi_potentialsub_origin_ports = get_leaveout_hhi(\n",
    "    agg_lf=lane_month_carrier_lf, market_var='origin_port_code',\n",
    "    panel_vars=['lane_id', 'alliance_alt'], firm_var='alliance_alt',\n",
    "    sub_group_var='coast_region', \n",
    "    name='leaveout_hhi_potentialsub_origin_ports', dropmarket=True\n",
    ")\n",
    "#on the destination port\n",
    "leaveout_hhi_dest_port= get_leaveout_hhi(\n",
    "    agg_lf=lane_month_carrier_lf, market_var='dest_port_code',\n",
    "    panel_vars=['lane_id', 'alliance_alt'], firm_var='alliance_alt',\n",
    "    name='leaveout_hhi_dest_ports', dropmarket=True\n",
    ")\n",
    "#on direct substitutes for the destination port\n",
    "leaveout_hhi_directsub_dest_ports = get_leaveout_hhi(\n",
    "    agg_lf=lane_month_carrier_lf, market_var='dest_port_code',\n",
    "    panel_vars=['lane_id', 'alliance_alt'], firm_var='alliance_alt',\n",
    "    sub_group_var='origin_port_group', \n",
    "    name='leaveout_hhi_directsub_dest_ports', dropmarket=True\n",
    ")\n",
    "#on potential substitutes for the destination port\n",
    "leaveout_hhi_potentialsub_dest_ports = get_leaveout_hhi(\n",
    "    agg_lf=lane_month_carrier_lf, market_var='dest_port_code',\n",
    "    panel_vars=['lane_id', 'alliance_alt'], firm_var='alliance_alt',\n",
    "    sub_group_var='coast_region', \n",
    "    name='leaveout_hhi_potentialsub_dest_ports', dropmarket=True\n",
    ")\n",
    "\n",
    "#aggregate vessels and capacities\n",
    "lane_carrier_cap_lf = (\n",
    "    main_lf\n",
    "    #drop vessels not from the given carrier\n",
    "    .with_columns(\n",
    "        pl.when(pl.col('vessel_owner')==pl.col('scac'))\n",
    "        .then(pl.col('vessel_capacity'))\n",
    "        .otherwise(pl.lit(None))\n",
    "        .alias('vessel_capacity'),\n",
    "        pl.when(pl.col('vessel_owner')==pl.col('scac'))\n",
    "        .then(pl.col('vessel_id'))\n",
    "        .otherwise(pl.lit(None))\n",
    "        .alias('vessels')\n",
    "    )\n",
    "    #aggregate\n",
    "    .group_by('lane_id', 'month', 'scac', 'vessels')\n",
    "    .agg(\n",
    "        pl.col('vessel_capacity').drop_nulls().first()\n",
    "    )\n",
    "    .group_by('lane_id', 'month', 'scac')\n",
    "    .agg(\n",
    "        pl.col('vessel_capacity').sum().alias('carrier_lane_capacity'),\n",
    "        pl.col('vessels').unique().count().alias('num_vessels')\n",
    "    )\n",
    ")\n",
    "\n",
    "#merge vessel capacities into lane-month lf\n",
    "lane_month_carrier_lf = (\n",
    "    lane_month_carrier_lf\n",
    "    .join(\n",
    "        lane_carrier_cap_lf,\n",
    "        on=['lane_id', 'month', 'scac'],\n",
    "        how='left'\n",
    "    )\n",
    ")\n",
    "\n",
    "#merge\n",
    "lane_month_carrier_lf = (\n",
    "    lane_month_carrier_lf\n",
    "    .join(\n",
    "        rates_lf, \n",
    "        on=['lane_id', 'month'],\n",
    "        how='left'\n",
    "    )\n",
    ")\n",
    "\n",
    "#expand to include all combos?\n"
   ]
  },
  {
   "cell_type": "code",
   "execution_count": null,
   "metadata": {},
   "outputs": [],
   "source": [
    "#inspect\n",
    "#display(lane_month_carrier_lf.limit(5).collect())\n",
    "#lane_month_carrier_lf.describe()"
   ]
  },
  {
   "cell_type": "code",
   "execution_count": 18,
   "metadata": {},
   "outputs": [],
   "source": [
    "\n",
    "#save \n",
    "lane_month_carrier_lf.collect().write_parquet('../data/usda_aggregations/lane_month_carrier.parquet')\n",
    "lane_month_carrier_lf.describe().write_csv('../data/usda_aggregations/lane_month_carrier_summary.parquet')"
   ]
  },
  {
   "cell_type": "code",
   "execution_count": 16,
   "metadata": {},
   "outputs": [
    {
     "data": {
      "text/html": [
       "<div><style>\n",
       ".dataframe > thead > tr,\n",
       ".dataframe > tbody > tr {\n",
       "  text-align: right;\n",
       "  white-space: pre-wrap;\n",
       "}\n",
       "</style>\n",
       "<small>shape: (5, 36)</small><table border=\"1\" class=\"dataframe\"><thead><tr><th>lane_id</th><th>month</th><th>scac</th><th>teus</th><th>alliance</th><th>num_foreign_ports</th><th>num_foreign_countries</th><th>num_foreign_regions</th><th>ms_carrier</th><th>num_carriers</th><th>hhi_lane</th><th>alliance_alt</th><th>ms_alliance_lane</th><th>ms_alliance_directsub_lanes</th><th>ms_alliance_potentialsub_lanes</th><th>ms_alliance_origin_port</th><th>ms_alliance_dest_port</th><th>ms_alliance_directsub_origin_ports</th><th>ms_alliance_potentialsub_origin_ports</th><th>ms_alliance_directsub_dest_ports</th><th>ms_alliance_potentialsub_dest_ports</th><th>hhi_alliance_lane</th><th>hhi_alliance_directsub_lanes</th><th>hhi_alliance_potentialsub_lanes</th><th>hhi_alliance_origin_port</th><th>hhi_alliance_dest_port</th><th>hhi_alliance_directsub_origin_ports</th><th>hhi_alliance_potentialsub_origin_ports</th><th>hhi_alliance_directsub_dest_ports</th><th>hhi_alliance_potentialsub_dest_ports</th><th>carrier_lane_capacity</th><th>num_vessels</th><th>drewery_lane</th><th>dist</th><th>rate_40</th><th>rate_20</th></tr><tr><td>cat</td><td>str</td><td>cat</td><td>f64</td><td>str</td><td>u32</td><td>u32</td><td>u32</td><td>f64</td><td>u32</td><td>f64</td><td>str</td><td>f64</td><td>f64</td><td>f64</td><td>f64</td><td>f64</td><td>f64</td><td>f64</td><td>f64</td><td>f64</td><td>f64</td><td>f64</td><td>f64</td><td>f64</td><td>f64</td><td>f64</td><td>f64</td><td>f64</td><td>f64</td><td>f64</td><td>u32</td><td>cat</td><td>f64</td><td>f64</td><td>f64</td></tr></thead><tbody><tr><td>&quot;2811_57035&quot;</td><td>&quot;201709&quot;</td><td>&quot;WHLC&quot;</td><td>23.849473</td><td>&quot;Non-alliance Carriers&quot;</td><td>13</td><td>8</td><td>4</td><td>0.004052</td><td>15</td><td>0.297657</td><td>&quot;WHLC&quot;</td><td>0.405157</td><td>1.091438</td><td>0.490548</td><td>0.405157</td><td>0.405157</td><td>null</td><td>0.512786</td><td>0.347021</td><td>0.32754</td><td>4764.596769</td><td>4243.971276</td><td>3193.254844</td><td>3208.694646</td><td>3419.439849</td><td>null</td><td>3121.076243</td><td>3580.453062</td><td>3224.505345</td><td>0.0</td><td>1</td><td>&quot;US West Coast (Los Angeles) to…</td><td>570.016837</td><td>750.0</td><td>630.0</td></tr><tr><td>&quot;4601_79113&quot;</td><td>&quot;201810&quot;</td><td>&quot;SAFM&quot;</td><td>182.0</td><td>&quot;Non-alliance Carriers&quot;</td><td>14</td><td>11</td><td>3</td><td>0.217559</td><td>8</td><td>0.335407</td><td>&quot;SAFM&quot;</td><td>21.75594</td><td>null</td><td>5.358395</td><td>21.75594</td><td>21.75594</td><td>null</td><td>0.444074</td><td>null</td><td>6.922707</td><td>5657.590203</td><td>null</td><td>6206.777268</td><td>2993.031676</td><td>6086.266361</td><td>null</td><td>2551.275093</td><td>null</td><td>6086.596759</td><td>0.0</td><td>1</td><td>&quot;US East Coast (New York) to So…</td><td>5.93014</td><td>4800.0</td><td>3100.0</td></tr><tr><td>&quot;4909_30107&quot;</td><td>&quot;201711&quot;</td><td>&quot;HLCU&quot;</td><td>1.0</td><td>&quot;The Alliance&quot;</td><td>1</td><td>1</td><td>1</td><td>0.001968</td><td>3</td><td>0.972787</td><td>&quot;The Alliance&quot;</td><td>0.196754</td><td>null</td><td>null</td><td>0.196754</td><td>0.196754</td><td>null</td><td>null</td><td>null</td><td>26.414647</td><td>9727.874236</td><td>null</td><td>null</td><td>9727.874236</td><td>3987.894041</td><td>null</td><td>null</td><td>null</td><td>3902.422423</td><td>921.911765</td><td>1</td><td>&quot;US East Coast (New York) to Co…</td><td>2586.188256</td><td>1470.0</td><td>1200.0</td></tr><tr><td>&quot;2709_56549&quot;</td><td>&quot;201305&quot;</td><td>&quot;ZIMU&quot;</td><td>27.864734</td><td>&quot;Non-alliance Carriers&quot;</td><td>15</td><td>9</td><td>2</td><td>0.026154</td><td>8</td><td>0.375338</td><td>&quot;ZIMU&quot;</td><td>2.615442</td><td>0.0</td><td>2.754696</td><td>2.615442</td><td>2.615442</td><td>0.657098</td><td>1.141782</td><td>null</td><td>1.949728</td><td>4289.687784</td><td>10000.0</td><td>3649.601571</td><td>3498.736711</td><td>4029.333882</td><td>4822.155994</td><td>5100.543288</td><td>null</td><td>3265.311166</td><td>12557.205882</td><td>5</td><td>&quot;US West Coast (Los Angeles) to…</td><td>33.234866</td><td>null</td><td>null</td></tr><tr><td>&quot;4601_58309&quot;</td><td>&quot;201405&quot;</td><td>&quot;COSU&quot;</td><td>16.665788</td><td>&quot;CYKH&quot;</td><td>31</td><td>20</td><td>6</td><td>0.009081</td><td>13</td><td>0.375001</td><td>&quot;CYKH&quot;</td><td>16.335005</td><td>null</td><td>31.181088</td><td>16.335005</td><td>16.335005</td><td>null</td><td>15.190053</td><td>21.890751</td><td>31.912992</td><td>3996.760012</td><td>null</td><td>2203.361365</td><td>2383.348926</td><td>2304.312044</td><td>null</td><td>2409.297522</td><td>6087.982076</td><td>2175.419791</td><td>0.0</td><td>1</td><td>&quot;US East Coast (New York) to Ta…</td><td>5.93014</td><td>null</td><td>null</td></tr></tbody></table></div>"
      ],
      "text/plain": [
       "shape: (5, 36)\n",
       "┌────────────┬────────┬──────┬───────────┬───┬───────────────────┬─────────────┬─────────┬─────────┐\n",
       "│ lane_id    ┆ month  ┆ scac ┆ teus      ┆ … ┆ drewery_lane      ┆ dist        ┆ rate_40 ┆ rate_20 │\n",
       "│ ---        ┆ ---    ┆ ---  ┆ ---       ┆   ┆ ---               ┆ ---         ┆ ---     ┆ ---     │\n",
       "│ cat        ┆ str    ┆ cat  ┆ f64       ┆   ┆ cat               ┆ f64         ┆ f64     ┆ f64     │\n",
       "╞════════════╪════════╪══════╪═══════════╪═══╪═══════════════════╪═════════════╪═════════╪═════════╡\n",
       "│ 2811_57035 ┆ 201709 ┆ WHLC ┆ 23.849473 ┆ … ┆ US West Coast     ┆ 570.016837  ┆ 750.0   ┆ 630.0   │\n",
       "│            ┆        ┆      ┆           ┆   ┆ (Los Angeles) to… ┆             ┆         ┆         │\n",
       "│ 4601_79113 ┆ 201810 ┆ SAFM ┆ 182.0     ┆ … ┆ US East Coast     ┆ 5.93014     ┆ 4800.0  ┆ 3100.0  │\n",
       "│            ┆        ┆      ┆           ┆   ┆ (New York) to So… ┆             ┆         ┆         │\n",
       "│ 4909_30107 ┆ 201711 ┆ HLCU ┆ 1.0       ┆ … ┆ US East Coast     ┆ 2586.188256 ┆ 1470.0  ┆ 1200.0  │\n",
       "│            ┆        ┆      ┆           ┆   ┆ (New York) to Co… ┆             ┆         ┆         │\n",
       "│ 2709_56549 ┆ 201305 ┆ ZIMU ┆ 27.864734 ┆ … ┆ US West Coast     ┆ 33.234866   ┆ null    ┆ null    │\n",
       "│            ┆        ┆      ┆           ┆   ┆ (Los Angeles) to… ┆             ┆         ┆         │\n",
       "│ 4601_58309 ┆ 201405 ┆ COSU ┆ 16.665788 ┆ … ┆ US East Coast     ┆ 5.93014     ┆ null    ┆ null    │\n",
       "│            ┆        ┆      ┆           ┆   ┆ (New York) to Ta… ┆             ┆         ┆         │\n",
       "└────────────┴────────┴──────┴───────────┴───┴───────────────────┴─────────────┴─────────┴─────────┘"
      ]
     },
     "metadata": {},
     "output_type": "display_data"
    },
    {
     "data": {
      "text/html": [
       "<div><style>\n",
       ".dataframe > thead > tr,\n",
       ".dataframe > tbody > tr {\n",
       "  text-align: right;\n",
       "  white-space: pre-wrap;\n",
       "}\n",
       "</style>\n",
       "<small>shape: (9, 37)</small><table border=\"1\" class=\"dataframe\"><thead><tr><th>statistic</th><th>lane_id</th><th>month</th><th>scac</th><th>teus</th><th>alliance</th><th>num_foreign_ports</th><th>num_foreign_countries</th><th>num_foreign_regions</th><th>ms_carrier</th><th>num_carriers</th><th>hhi_lane</th><th>alliance_alt</th><th>ms_alliance_lane</th><th>ms_alliance_directsub_lanes</th><th>ms_alliance_potentialsub_lanes</th><th>ms_alliance_origin_port</th><th>ms_alliance_dest_port</th><th>ms_alliance_directsub_origin_ports</th><th>ms_alliance_potentialsub_origin_ports</th><th>ms_alliance_directsub_dest_ports</th><th>ms_alliance_potentialsub_dest_ports</th><th>hhi_alliance_lane</th><th>hhi_alliance_directsub_lanes</th><th>hhi_alliance_potentialsub_lanes</th><th>hhi_alliance_origin_port</th><th>hhi_alliance_dest_port</th><th>hhi_alliance_directsub_origin_ports</th><th>hhi_alliance_potentialsub_origin_ports</th><th>hhi_alliance_directsub_dest_ports</th><th>hhi_alliance_potentialsub_dest_ports</th><th>carrier_lane_capacity</th><th>num_vessels</th><th>drewery_lane</th><th>dist</th><th>rate_40</th><th>rate_20</th></tr><tr><td>str</td><td>str</td><td>str</td><td>str</td><td>f64</td><td>str</td><td>f64</td><td>f64</td><td>f64</td><td>f64</td><td>f64</td><td>f64</td><td>str</td><td>f64</td><td>f64</td><td>f64</td><td>f64</td><td>f64</td><td>f64</td><td>f64</td><td>f64</td><td>f64</td><td>f64</td><td>f64</td><td>f64</td><td>f64</td><td>f64</td><td>f64</td><td>f64</td><td>f64</td><td>f64</td><td>f64</td><td>f64</td><td>str</td><td>f64</td><td>f64</td><td>f64</td></tr></thead><tbody><tr><td>&quot;count&quot;</td><td>&quot;656021&quot;</td><td>&quot;656021&quot;</td><td>&quot;656021&quot;</td><td>656021.0</td><td>&quot;656021&quot;</td><td>656021.0</td><td>656021.0</td><td>656021.0</td><td>656021.0</td><td>656021.0</td><td>656021.0</td><td>&quot;656021&quot;</td><td>656021.0</td><td>406473.0</td><td>651562.0</td><td>656021.0</td><td>656021.0</td><td>287779.0</td><td>649886.0</td><td>468361.0</td><td>653418.0</td><td>656021.0</td><td>406473.0</td><td>651562.0</td><td>656021.0</td><td>656021.0</td><td>287779.0</td><td>649886.0</td><td>468361.0</td><td>653418.0</td><td>656021.0</td><td>656021.0</td><td>&quot;656021&quot;</td><td>656021.0</td><td>347581.0</td><td>347581.0</td></tr><tr><td>&quot;null_count&quot;</td><td>&quot;0&quot;</td><td>&quot;0&quot;</td><td>&quot;0&quot;</td><td>0.0</td><td>&quot;0&quot;</td><td>0.0</td><td>0.0</td><td>0.0</td><td>0.0</td><td>0.0</td><td>0.0</td><td>&quot;0&quot;</td><td>0.0</td><td>249548.0</td><td>4459.0</td><td>0.0</td><td>0.0</td><td>368242.0</td><td>6135.0</td><td>187660.0</td><td>2603.0</td><td>0.0</td><td>249548.0</td><td>4459.0</td><td>0.0</td><td>0.0</td><td>368242.0</td><td>6135.0</td><td>187660.0</td><td>2603.0</td><td>0.0</td><td>0.0</td><td>&quot;0&quot;</td><td>0.0</td><td>308440.0</td><td>308440.0</td></tr><tr><td>&quot;mean&quot;</td><td>null</td><td>null</td><td>null</td><td>219.987928</td><td>null</td><td>20.763018</td><td>13.557693</td><td>4.787254</td><td>0.148427</td><td>9.325052</td><td>0.315115</td><td>null</td><td>24.707075</td><td>24.019353</td><td>23.98328</td><td>24.707075</td><td>24.707075</td><td>24.505781</td><td>23.59969</td><td>24.369898</td><td>23.870514</td><td>4127.017666</td><td>4495.169432</td><td>3463.327203</td><td>3328.658221</td><td>3818.350882</td><td>4877.706675</td><td>3306.205231</td><td>4475.490331</td><td>3442.834285</td><td>4077.722002</td><td>2.192436</td><td>null</td><td>1120.578571</td><td>1485.144499</td><td>1156.263087</td></tr><tr><td>&quot;std&quot;</td><td>null</td><td>null</td><td>null</td><td>603.493696</td><td>null</td><td>12.719689</td><td>8.785234</td><td>2.949428</td><td>0.211302</td><td>4.192727</td><td>0.197033</td><td>null</td><td>26.430017</td><td>26.568773</td><td>22.631257</td><td>26.430017</td><td>26.430017</td><td>27.850209</td><td>21.188</td><td>26.55924</td><td>22.350546</td><td>2047.433045</td><td>2213.622522</td><td>1804.33392</td><td>1671.818931</td><td>1956.574276</td><td>2353.129862</td><td>1760.532231</td><td>2263.315487</td><td>1758.302368</td><td>6178.267234</td><td>1.698999</td><td>null</td><td>863.375037</td><td>734.992798</td><td>514.714981</td></tr><tr><td>&quot;min&quot;</td><td>null</td><td>&quot;200701&quot;</td><td>null</td><td>0.03</td><td>&quot;2M Alliance&quot;</td><td>1.0</td><td>1.0</td><td>1.0</td><td>0.000037</td><td>1.0</td><td>0.063806</td><td>&quot;2M Alliance&quot;</td><td>0.003659</td><td>0.0</td><td>0.0</td><td>0.003659</td><td>0.003659</td><td>0.0</td><td>0.0</td><td>0.0</td><td>0.0</td><td>934.034602</td><td>1176.698776</td><td>1042.844946</td><td>956.542718</td><td>986.279004</td><td>1483.19386</td><td>1045.607733</td><td>1130.744245</td><td>1029.23643</td><td>0.0</td><td>1.0</td><td>null</td><td>5.93014</td><td>400.0</td><td>310.0</td></tr><tr><td>&quot;25%&quot;</td><td>null</td><td>null</td><td>null</td><td>15.198946</td><td>null</td><td>11.0</td><td>7.0</td><td>2.0</td><td>0.018561</td><td>6.0</td><td>0.180195</td><td>null</td><td>4.014485</td><td>2.616055</td><td>6.896552</td><td>4.014485</td><td>4.014485</td><td>0.431034</td><td>6.640763</td><td>2.730055</td><td>7.10737</td><td>2660.958656</td><td>2924.613148</td><td>2285.325384</td><td>2344.214415</td><td>2466.368105</td><td>3288.354062</td><td>2277.455489</td><td>2929.284427</td><td>2323.03649</td><td>0.0</td><td>1.0</td><td>null</td><td>445.895706</td><td>950.0</td><td>770.0</td></tr><tr><td>&quot;50%&quot;</td><td>null</td><td>null</td><td>null</td><td>61.0</td><td>null</td><td>20.0</td><td>12.0</td><td>4.0</td><td>0.064003</td><td>9.0</td><td>0.258319</td><td>null</td><td>14.826247</td><td>13.842482</td><td>17.559285</td><td>14.826247</td><td>14.826247</td><td>14.274713</td><td>19.359373</td><td>14.247312</td><td>17.687964</td><td>3576.430176</td><td>3941.535548</td><td>3024.79084</td><td>2938.011826</td><td>3310.67036</td><td>4121.257431</td><td>2892.611539</td><td>3876.329385</td><td>3030.305953</td><td>882.794118</td><td>1.0</td><td>null</td><td>1149.382682</td><td>1370.0</td><td>1080.0</td></tr><tr><td>&quot;75%&quot;</td><td>null</td><td>null</td><td>null</td><td>202.0</td><td>null</td><td>29.0</td><td>19.0</td><td>7.0</td><td>0.18068</td><td>12.0</td><td>0.38004</td><td>null</td><td>36.9805</td><td>37.720706</td><td>34.743895</td><td>36.9805</td><td>36.9805</td><td>40.100675</td><td>34.295437</td><td>38.366964</td><td>34.913505</td><td>5024.789444</td><td>5415.552861</td><td>3953.525774</td><td>3720.535576</td><td>4569.876767</td><td>5544.271422</td><td>3664.763988</td><td>5305.961699</td><td>3903.317684</td><td>6454.632353</td><td>3.0</td><td>null</td><td>1544.956374</td><td>1810.0</td><td>1390.0</td></tr><tr><td>&quot;max&quot;</td><td>null</td><td>&quot;202312&quot;</td><td>null</td><td>25915.51</td><td>&quot;The Alliance&quot;</td><td>59.0</td><td>42.0</td><td>11.0</td><td>1.0</td><td>23.0</td><td>1.0</td><td>&quot;ZZZZ&quot;</td><td>100.0</td><td>100.0</td><td>100.0</td><td>100.0</td><td>100.0</td><td>100.0</td><td>100.0</td><td>100.0</td><td>100.0</td><td>10000.0</td><td>10000.0</td><td>10000.0</td><td>10000.0</td><td>10000.0</td><td>10000.0</td><td>10000.0</td><td>10000.0</td><td>10000.0</td><td>84876.489282</td><td>17.0</td><td>null</td><td>6620.504391</td><td>8250.0</td><td>5070.0</td></tr></tbody></table></div>"
      ],
      "text/plain": [
       "shape: (9, 37)\n",
       "┌────────────┬─────────┬────────┬────────┬───┬─────────────┬─────────────┬────────────┬────────────┐\n",
       "│ statistic  ┆ lane_id ┆ month  ┆ scac   ┆ … ┆ drewery_lan ┆ dist        ┆ rate_40    ┆ rate_20    │\n",
       "│ ---        ┆ ---     ┆ ---    ┆ ---    ┆   ┆ e           ┆ ---         ┆ ---        ┆ ---        │\n",
       "│ str        ┆ str     ┆ str    ┆ str    ┆   ┆ ---         ┆ f64         ┆ f64        ┆ f64        │\n",
       "│            ┆         ┆        ┆        ┆   ┆ str         ┆             ┆            ┆            │\n",
       "╞════════════╪═════════╪════════╪════════╪═══╪═════════════╪═════════════╪════════════╪════════════╡\n",
       "│ count      ┆ 656021  ┆ 656021 ┆ 656021 ┆ … ┆ 656021      ┆ 656021.0    ┆ 347581.0   ┆ 347581.0   │\n",
       "│ null_count ┆ 0       ┆ 0      ┆ 0      ┆ … ┆ 0           ┆ 0.0         ┆ 308440.0   ┆ 308440.0   │\n",
       "│ mean       ┆ null    ┆ null   ┆ null   ┆ … ┆ null        ┆ 1120.578571 ┆ 1485.14449 ┆ 1156.26308 │\n",
       "│            ┆         ┆        ┆        ┆   ┆             ┆             ┆ 9          ┆ 7          │\n",
       "│ std        ┆ null    ┆ null   ┆ null   ┆ … ┆ null        ┆ 863.375037  ┆ 734.992798 ┆ 514.714981 │\n",
       "│ min        ┆ null    ┆ 200701 ┆ null   ┆ … ┆ null        ┆ 5.93014     ┆ 400.0      ┆ 310.0      │\n",
       "│ 25%        ┆ null    ┆ null   ┆ null   ┆ … ┆ null        ┆ 445.895706  ┆ 950.0      ┆ 770.0      │\n",
       "│ 50%        ┆ null    ┆ null   ┆ null   ┆ … ┆ null        ┆ 1149.382682 ┆ 1370.0     ┆ 1080.0     │\n",
       "│ 75%        ┆ null    ┆ null   ┆ null   ┆ … ┆ null        ┆ 1544.956374 ┆ 1810.0     ┆ 1390.0     │\n",
       "│ max        ┆ null    ┆ 202312 ┆ null   ┆ … ┆ null        ┆ 6620.504391 ┆ 8250.0     ┆ 5070.0     │\n",
       "└────────────┴─────────┴────────┴────────┴───┴─────────────┴─────────────┴────────────┴────────────┘"
      ]
     },
     "execution_count": 16,
     "metadata": {},
     "output_type": "execute_result"
    }
   ],
   "source": [
    "\n",
    "display(lane_month_carrier_lf.limit(5).collect())\n",
    "lane_month_carrier_lf.describe()"
   ]
  },
  {
   "cell_type": "markdown",
   "metadata": {},
   "source": [
    "## 4. Visuals and Descriptive Analysis"
   ]
  },
  {
   "cell_type": "code",
   "execution_count": null,
   "metadata": {},
   "outputs": [],
   "source": [
    "#visualize port volumes\n",
    "df = (\n",
    "    main_lf\n",
    "    .group_by('origin_port_group', 'coast_region', 'month')\n",
    "    .agg(pl.col('teus').sum())\n",
    "    .group_by('origin_port_group', 'coast_region')\n",
    "    .agg(pl.col('teus').mean())\n",
    "    .sort('teus', descending=True)\n",
    "    .collect()\n",
    ")\n",
    "\n",
    "px.bar(\n",
    "    df.sort(by='teus'), x='origin_port_group', y='teus', \n",
    "    color='coast_region',\n",
    "    title='US Export Volumes (monthly average TEUs, all time)',\n",
    "    labels={\n",
    "        'origin_port_group':'US Ports (CSA groups)',\n",
    "        'teus':'Monthly Average Volume (TEUS)',\n",
    "        'coast_region':'Coastal Region'\n",
    "    },\n",
    "    width=1100,\n",
    "    height=500,\n",
    ")"
   ]
  },
  {
   "cell_type": "code",
   "execution_count": null,
   "metadata": {},
   "outputs": [],
   "source": [
    "df = (\n",
    "    main_lf\n",
    "    #group by alliance, scac, and year\n",
    "    .group_by('alliance', 'scac', 'year')\n",
    "    .agg(pl.col('teus').sum())\n",
    "    #get proportion \n",
    "    .with_columns((pl.col('teus')/pl.col('teus').sum().over('year')).alias('prop_volume'))\n",
    "    .collect()\n",
    ")\n",
    "\n",
    "#plot\n",
    "fig = px.bar(\n",
    "    df, x='year', y='prop_volume',\n",
    "    color='alliance',\n",
    "    text='scac', \n",
    "    barmode='stack',  \n",
    "    title='Percent of Export Volumes Over Time',\n",
    "    width=900,\n",
    "    height=500,\n",
    "    color_discrete_map={\n",
    "        'Non-alliance Carriers':'#636EFA',\n",
    "        'The Alliance':'#EF553B',\n",
    "        'Ocean Alliance':'#00CC96',\n",
    "        'CYKHE':'#ABC3FA',\n",
    "        'New World All (NWA)':'#FFA15A',\n",
    "        'Grand Alliance IV':'#19D3F3',\n",
    "        'G6 Alliance':'#FF6692',\n",
    "        'MSC/CMA CGM':'#B6E880',\n",
    "        '2M Alliance':'#FECB52',\n",
    "        'Ocean Three':'#FF97FF',\n",
    "        'CYKH':'#17BECF',\n",
    "    },\n",
    "    labels={\n",
    "        'alliance':'Alliance:',\n",
    "        'prop_volume':'Volume (Percent of Total)',\n",
    "        'year':'Time'\n",
    "    },\n",
    "    category_orders={\n",
    "        'alliance':[\n",
    "            'Non-alliance Carriers', 'The Alliance', 'CYKHE', 'Ocean Alliance',  \n",
    "            'CYKH', 'Ocean Three', '2M Alliance', 'G6 Alliance', 'MSC/CMA CGM', 'New World All (NWA)', 'Grand Alliance IV'\n",
    "        ]\n",
    "    }\n",
    "    )\n",
    "\n",
    "fig.show()"
   ]
  },
  {
   "cell_type": "markdown",
   "metadata": {},
   "source": [
    "NOTE we need to update masterAlliances.csv with new unified SCAC codes"
   ]
  },
  {
   "cell_type": "code",
   "execution_count": 29,
   "metadata": {},
   "outputs": [
    {
     "data": {
      "application/vnd.plotly.v1+json": {
       "config": {
        "plotlyServerURL": "https://plot.ly"
       },
       "data": [
        {
         "fillpattern": {
          "shape": ""
         },
         "hovertemplate": "Cargo Source=self<br>Time=%{x}<br>Share of Total Capacity=%{y}<extra></extra>",
         "legendgroup": "self",
         "line": {
          "color": "#636EFA"
         },
         "marker": {
          "symbol": "circle"
         },
         "mode": "lines",
         "name": "self",
         "orientation": "v",
         "showlegend": true,
         "stackgroup": "1",
         "type": "scatter",
         "x": [
          "2007-01-01T00:00:00",
          "2007-02-01T00:00:00",
          "2007-03-01T00:00:00",
          "2007-04-01T00:00:00",
          "2007-05-01T00:00:00",
          "2007-06-01T00:00:00",
          "2007-07-01T00:00:00",
          "2007-08-01T00:00:00",
          "2007-09-01T00:00:00",
          "2007-10-01T00:00:00",
          "2007-11-01T00:00:00",
          "2007-12-01T00:00:00",
          "2008-01-01T00:00:00",
          "2008-02-01T00:00:00",
          "2008-03-01T00:00:00",
          "2008-04-01T00:00:00",
          "2008-05-01T00:00:00",
          "2008-06-01T00:00:00",
          "2008-07-01T00:00:00",
          "2008-08-01T00:00:00",
          "2008-09-01T00:00:00",
          "2008-10-01T00:00:00",
          "2008-11-01T00:00:00",
          "2008-12-01T00:00:00",
          "2009-01-01T00:00:00",
          "2009-02-01T00:00:00",
          "2009-03-01T00:00:00",
          "2009-04-01T00:00:00",
          "2009-05-01T00:00:00",
          "2009-06-01T00:00:00",
          "2009-07-01T00:00:00",
          "2009-08-01T00:00:00",
          "2009-09-01T00:00:00",
          "2009-10-01T00:00:00",
          "2009-11-01T00:00:00",
          "2009-12-01T00:00:00",
          "2010-01-01T00:00:00",
          "2010-02-01T00:00:00",
          "2010-03-01T00:00:00",
          "2010-04-01T00:00:00",
          "2010-05-01T00:00:00",
          "2010-06-01T00:00:00",
          "2010-07-01T00:00:00",
          "2010-08-01T00:00:00",
          "2010-09-01T00:00:00",
          "2010-10-01T00:00:00",
          "2010-11-01T00:00:00",
          "2010-12-01T00:00:00",
          "2011-01-01T00:00:00",
          "2011-02-01T00:00:00",
          "2011-03-01T00:00:00",
          "2011-04-01T00:00:00",
          "2011-05-01T00:00:00",
          "2011-06-01T00:00:00",
          "2011-07-01T00:00:00",
          "2011-08-01T00:00:00",
          "2011-09-01T00:00:00",
          "2011-10-01T00:00:00",
          "2011-11-01T00:00:00",
          "2011-12-01T00:00:00",
          "2012-01-01T00:00:00",
          "2012-02-01T00:00:00",
          "2012-03-01T00:00:00",
          "2012-04-01T00:00:00",
          "2012-05-01T00:00:00",
          "2012-06-01T00:00:00",
          "2012-07-01T00:00:00",
          "2012-08-01T00:00:00",
          "2012-09-01T00:00:00",
          "2012-10-01T00:00:00",
          "2012-11-01T00:00:00",
          "2012-12-01T00:00:00",
          "2013-01-01T00:00:00",
          "2013-02-01T00:00:00",
          "2013-03-01T00:00:00",
          "2013-04-01T00:00:00",
          "2013-05-01T00:00:00",
          "2013-06-01T00:00:00",
          "2013-07-01T00:00:00",
          "2013-08-01T00:00:00",
          "2013-09-01T00:00:00",
          "2013-10-01T00:00:00",
          "2013-11-01T00:00:00",
          "2013-12-01T00:00:00",
          "2014-01-01T00:00:00",
          "2014-02-01T00:00:00",
          "2014-03-01T00:00:00",
          "2014-04-01T00:00:00",
          "2014-05-01T00:00:00",
          "2014-06-01T00:00:00",
          "2014-07-01T00:00:00",
          "2014-08-01T00:00:00",
          "2014-09-01T00:00:00",
          "2014-10-01T00:00:00",
          "2014-11-01T00:00:00",
          "2014-12-01T00:00:00",
          "2015-01-01T00:00:00",
          "2015-02-01T00:00:00",
          "2015-03-01T00:00:00",
          "2015-04-01T00:00:00",
          "2015-05-01T00:00:00",
          "2015-06-01T00:00:00",
          "2015-07-01T00:00:00",
          "2015-08-01T00:00:00",
          "2015-09-01T00:00:00",
          "2015-10-01T00:00:00",
          "2015-11-01T00:00:00",
          "2015-12-01T00:00:00",
          "2016-01-01T00:00:00",
          "2016-02-01T00:00:00",
          "2016-03-01T00:00:00",
          "2016-04-01T00:00:00",
          "2016-05-01T00:00:00",
          "2016-06-01T00:00:00",
          "2016-07-01T00:00:00",
          "2016-08-01T00:00:00",
          "2016-09-01T00:00:00",
          "2016-10-01T00:00:00",
          "2016-11-01T00:00:00",
          "2016-12-01T00:00:00",
          "2017-01-01T00:00:00",
          "2017-02-01T00:00:00",
          "2017-03-01T00:00:00",
          "2017-04-01T00:00:00",
          "2017-05-01T00:00:00",
          "2017-06-01T00:00:00",
          "2017-07-01T00:00:00",
          "2017-08-01T00:00:00",
          "2017-09-01T00:00:00",
          "2017-10-01T00:00:00",
          "2017-11-01T00:00:00",
          "2017-12-01T00:00:00",
          "2018-01-01T00:00:00",
          "2018-02-01T00:00:00",
          "2018-03-01T00:00:00",
          "2018-04-01T00:00:00",
          "2018-05-01T00:00:00",
          "2018-06-01T00:00:00",
          "2018-07-01T00:00:00",
          "2018-08-01T00:00:00",
          "2018-09-01T00:00:00",
          "2018-10-01T00:00:00",
          "2018-11-01T00:00:00",
          "2018-12-01T00:00:00",
          "2019-01-01T00:00:00",
          "2019-02-01T00:00:00",
          "2019-03-01T00:00:00",
          "2019-04-01T00:00:00",
          "2019-05-01T00:00:00",
          "2019-06-01T00:00:00",
          "2019-07-01T00:00:00",
          "2019-08-01T00:00:00",
          "2019-09-01T00:00:00",
          "2019-10-01T00:00:00",
          "2019-11-01T00:00:00",
          "2019-12-01T00:00:00",
          "2020-01-01T00:00:00",
          "2020-02-01T00:00:00",
          "2020-03-01T00:00:00",
          "2020-04-01T00:00:00",
          "2020-05-01T00:00:00",
          "2020-06-01T00:00:00",
          "2020-07-01T00:00:00",
          "2020-08-01T00:00:00",
          "2020-09-01T00:00:00",
          "2020-10-01T00:00:00",
          "2020-11-01T00:00:00",
          "2020-12-01T00:00:00",
          "2021-01-01T00:00:00",
          "2021-02-01T00:00:00",
          "2021-03-01T00:00:00",
          "2021-04-01T00:00:00",
          "2021-05-01T00:00:00",
          "2021-06-01T00:00:00",
          "2021-07-01T00:00:00",
          "2021-08-01T00:00:00",
          "2021-09-01T00:00:00",
          "2021-10-01T00:00:00",
          "2021-11-01T00:00:00",
          "2021-12-01T00:00:00",
          "2022-01-01T00:00:00",
          "2022-02-01T00:00:00",
          "2022-03-01T00:00:00",
          "2022-04-01T00:00:00",
          "2022-05-01T00:00:00",
          "2022-06-01T00:00:00",
          "2022-07-01T00:00:00",
          "2022-08-01T00:00:00",
          "2022-09-01T00:00:00",
          "2022-10-01T00:00:00",
          "2022-11-01T00:00:00",
          "2022-12-01T00:00:00",
          "2023-01-01T00:00:00",
          "2023-02-01T00:00:00",
          "2023-03-01T00:00:00",
          "2023-04-01T00:00:00",
          "2023-05-01T00:00:00",
          "2023-06-01T00:00:00",
          "2023-07-01T00:00:00",
          "2023-08-01T00:00:00",
          "2023-09-01T00:00:00",
          "2023-10-01T00:00:00",
          "2023-11-01T00:00:00",
          "2023-12-01T00:00:00"
         ],
         "xaxis": "x",
         "y": [
          0.7276435479236499,
          0.7342420391974355,
          0.7330304312233422,
          0.7222044067143164,
          0.7169650751546123,
          0.7202310585705485,
          0.7355278285936376,
          0.7339076689693592,
          0.7332176023459598,
          0.7292792722626981,
          0.7325838703944789,
          0.7264334250574417,
          0.724609966374923,
          0.7330070690591561,
          0.7323115793486998,
          0.7289603090148614,
          0.7287579957354321,
          0.732300391113929,
          0.7059122644887265,
          0.7212837471537474,
          0.7161534316270808,
          0.7307520315103222,
          0.7259509480495032,
          0.7339580227916227,
          0.726021061841695,
          0.7155525663539235,
          0.727150671568486,
          0.7244935379553631,
          0.7271317242943522,
          0.718467989508752,
          0.7145338797390516,
          0.7038920718566726,
          0.7055863434207952,
          0.7255621753817301,
          0.7204941250523352,
          0.7146391955296401,
          0.7130645324529341,
          0.7123071153020678,
          0.7056916407207721,
          0.688887030688084,
          0.6991360224633023,
          0.7019314976493278,
          0.7030310399715914,
          0.7026396956624148,
          0.7069736661949488,
          0.713050976717176,
          0.7114867254739018,
          0.7184147296238252,
          0.704352703612159,
          0.717438323945817,
          0.7275367647057808,
          0.7030052977694102,
          0.6937251332725546,
          0.7065352294409601,
          0.6988239813884916,
          0.7015099162721063,
          0.6887660752195143,
          0.6993464385228473,
          0.7129694997799083,
          0.7070699467043084,
          0.696856076056499,
          0.6936130672925445,
          0.6842770567510611,
          0.6734760393798845,
          0.6915227059806773,
          0.6856218283444043,
          0.6732248851358918,
          0.688841492789937,
          0.6885352942576626,
          0.6951203662251614,
          0.685842445959835,
          0.6956139587900751,
          0.6899691202909279,
          0.6913811227519733,
          0.6991348032430651,
          0.6936379443103774,
          0.6758254728159793,
          0.7034272914128656,
          0.6897321768435951,
          0.6914409656541763,
          0.6659708373596944,
          0.6829799788161971,
          0.6669354366934411,
          0.6742333274786575,
          0.668053268032178,
          0.6680217249639485,
          0.654521119130644,
          0.6710923391725921,
          0.6744435315133529,
          0.6581058243738346,
          0.6659503357212045,
          0.6490608707576125,
          0.6635204271056263,
          0.6647389433975484,
          0.6694663547153805,
          0.6334591144476998,
          0.658916013626826,
          0.6401290559613747,
          0.618729413133393,
          0.6214467441350271,
          0.612213639449084,
          0.6200171682093335,
          0.6183279353535595,
          0.6222435410555828,
          0.6199374639788493,
          0.6130516286478132,
          0.6148726790538852,
          0.6238224388789193,
          0.6161894041014293,
          0.616428343026511,
          0.6150517389696741,
          0.6253355485322658,
          0.6168062729834387,
          0.6397496301030821,
          0.6320111664671587,
          0.6270891142166211,
          0.6389135474443225,
          0.6151964009311026,
          0.6378253290904106,
          0.6347235705575257,
          0.631602180354956,
          0.6169188355399047,
          0.6461674566804031,
          0.6365065386547096,
          0.6071573125533408,
          0.6010152944577747,
          0.5890392409318127,
          0.601148258414792,
          0.6085455077068003,
          0.5948453119116299,
          0.5852936110591062,
          0.5847870999983008,
          0.6240670458826609,
          0.602833732148188,
          0.5965346738246526,
          0.6201154368528672,
          0.636497346774253,
          0.6674110074625099,
          0.653887165276849,
          0.6493408648779818,
          0.6347234292073338,
          0.6351203565607615,
          0.647746958373779,
          0.6422506636568834,
          0.6300107865102385,
          0.6435195679046682,
          0.6534085614160999,
          0.639251512022491,
          0.6483904441581764,
          0.6384911937739395,
          0.6307391632010205,
          0.6282580749227814,
          0.6399041301197723,
          0.6246055239135208,
          0.6417241539626468,
          0.6419596200074895,
          0.6526263472774981,
          0.6373783634392258,
          0.6676315044608179,
          0.612056210775633,
          0.5936421081632958,
          0.6089469505500096,
          0.6274149533203623,
          0.614091291301151,
          0.6093103944832787,
          0.6642320806024715,
          0.6445789339450081,
          0.6694630000732833,
          0.6735427639396852,
          0.6649111340357813,
          0.651128668145323,
          0.6704432646536415,
          0.6736476994949239,
          0.6828409209313893,
          0.6977019336207231,
          0.6945708145202973,
          0.678962490082982,
          0.6894586055961536,
          0.6741367012545226,
          0.6796591482506206,
          0.668078113533856,
          0.6636218456566059,
          0.7001254360904969,
          0.681876022845077,
          0.6676036040426253,
          0.6701477320440782,
          0.6520661421658143,
          0.6670564529351258,
          0.6627313168622206,
          0.6603477251736233,
          0.6626515419755238,
          0.6572189171131858,
          0.6569144582860528,
          0.6553464877114794,
          0.6677822114886781,
          0.6575210358104039,
          0.6838493459056284,
          0.6779754482623762,
          0.6804529333337938,
          0.685178131770858,
          0.6857157288987,
          0.6861986053178667,
          0.682028279362279,
          0.6976622276985772
         ],
         "yaxis": "y"
        },
        {
         "fillpattern": {
          "shape": ""
         },
         "hovertemplate": "Cargo Source=ally<br>Time=%{x}<br>Share of Total Capacity=%{y}<extra></extra>",
         "legendgroup": "ally",
         "line": {
          "color": "#EF553B"
         },
         "marker": {
          "symbol": "circle"
         },
         "mode": "lines",
         "name": "ally",
         "orientation": "v",
         "showlegend": true,
         "stackgroup": "1",
         "type": "scatter",
         "x": [
          "2007-01-01T00:00:00",
          "2007-02-01T00:00:00",
          "2007-03-01T00:00:00",
          "2007-04-01T00:00:00",
          "2007-05-01T00:00:00",
          "2007-06-01T00:00:00",
          "2007-07-01T00:00:00",
          "2007-08-01T00:00:00",
          "2007-09-01T00:00:00",
          "2007-10-01T00:00:00",
          "2007-11-01T00:00:00",
          "2007-12-01T00:00:00",
          "2008-01-01T00:00:00",
          "2008-02-01T00:00:00",
          "2008-03-01T00:00:00",
          "2008-04-01T00:00:00",
          "2008-05-01T00:00:00",
          "2008-06-01T00:00:00",
          "2008-07-01T00:00:00",
          "2008-08-01T00:00:00",
          "2008-09-01T00:00:00",
          "2008-10-01T00:00:00",
          "2008-11-01T00:00:00",
          "2008-12-01T00:00:00",
          "2009-01-01T00:00:00",
          "2009-02-01T00:00:00",
          "2009-03-01T00:00:00",
          "2009-04-01T00:00:00",
          "2009-05-01T00:00:00",
          "2009-06-01T00:00:00",
          "2009-07-01T00:00:00",
          "2009-08-01T00:00:00",
          "2009-09-01T00:00:00",
          "2009-10-01T00:00:00",
          "2009-11-01T00:00:00",
          "2009-12-01T00:00:00",
          "2010-01-01T00:00:00",
          "2010-02-01T00:00:00",
          "2010-03-01T00:00:00",
          "2010-04-01T00:00:00",
          "2010-05-01T00:00:00",
          "2010-06-01T00:00:00",
          "2010-07-01T00:00:00",
          "2010-08-01T00:00:00",
          "2010-09-01T00:00:00",
          "2010-10-01T00:00:00",
          "2010-11-01T00:00:00",
          "2010-12-01T00:00:00",
          "2011-01-01T00:00:00",
          "2011-02-01T00:00:00",
          "2011-03-01T00:00:00",
          "2011-04-01T00:00:00",
          "2011-05-01T00:00:00",
          "2011-06-01T00:00:00",
          "2011-07-01T00:00:00",
          "2011-08-01T00:00:00",
          "2011-09-01T00:00:00",
          "2011-10-01T00:00:00",
          "2011-11-01T00:00:00",
          "2011-12-01T00:00:00",
          "2012-01-01T00:00:00",
          "2012-02-01T00:00:00",
          "2012-03-01T00:00:00",
          "2012-04-01T00:00:00",
          "2012-05-01T00:00:00",
          "2012-06-01T00:00:00",
          "2012-07-01T00:00:00",
          "2012-08-01T00:00:00",
          "2012-09-01T00:00:00",
          "2012-10-01T00:00:00",
          "2012-11-01T00:00:00",
          "2012-12-01T00:00:00",
          "2013-01-01T00:00:00",
          "2013-02-01T00:00:00",
          "2013-03-01T00:00:00",
          "2013-04-01T00:00:00",
          "2013-05-01T00:00:00",
          "2013-06-01T00:00:00",
          "2013-07-01T00:00:00",
          "2013-08-01T00:00:00",
          "2013-09-01T00:00:00",
          "2013-10-01T00:00:00",
          "2013-11-01T00:00:00",
          "2013-12-01T00:00:00",
          "2014-01-01T00:00:00",
          "2014-02-01T00:00:00",
          "2014-03-01T00:00:00",
          "2014-04-01T00:00:00",
          "2014-05-01T00:00:00",
          "2014-06-01T00:00:00",
          "2014-07-01T00:00:00",
          "2014-08-01T00:00:00",
          "2014-09-01T00:00:00",
          "2014-10-01T00:00:00",
          "2014-11-01T00:00:00",
          "2014-12-01T00:00:00",
          "2015-01-01T00:00:00",
          "2015-02-01T00:00:00",
          "2015-03-01T00:00:00",
          "2015-04-01T00:00:00",
          "2015-05-01T00:00:00",
          "2015-06-01T00:00:00",
          "2015-07-01T00:00:00",
          "2015-08-01T00:00:00",
          "2015-09-01T00:00:00",
          "2015-10-01T00:00:00",
          "2015-11-01T00:00:00",
          "2015-12-01T00:00:00",
          "2016-01-01T00:00:00",
          "2016-02-01T00:00:00",
          "2016-03-01T00:00:00",
          "2016-04-01T00:00:00",
          "2016-05-01T00:00:00",
          "2016-06-01T00:00:00",
          "2016-07-01T00:00:00",
          "2016-08-01T00:00:00",
          "2016-09-01T00:00:00",
          "2016-10-01T00:00:00",
          "2016-11-01T00:00:00",
          "2016-12-01T00:00:00",
          "2017-01-01T00:00:00",
          "2017-02-01T00:00:00",
          "2017-03-01T00:00:00",
          "2017-04-01T00:00:00",
          "2017-05-01T00:00:00",
          "2017-06-01T00:00:00",
          "2017-07-01T00:00:00",
          "2017-08-01T00:00:00",
          "2017-09-01T00:00:00",
          "2017-10-01T00:00:00",
          "2017-11-01T00:00:00",
          "2017-12-01T00:00:00",
          "2018-01-01T00:00:00",
          "2018-02-01T00:00:00",
          "2018-03-01T00:00:00",
          "2018-04-01T00:00:00",
          "2018-05-01T00:00:00",
          "2018-06-01T00:00:00",
          "2018-07-01T00:00:00",
          "2018-08-01T00:00:00",
          "2018-09-01T00:00:00",
          "2018-10-01T00:00:00",
          "2018-11-01T00:00:00",
          "2018-12-01T00:00:00",
          "2019-01-01T00:00:00",
          "2019-02-01T00:00:00",
          "2019-03-01T00:00:00",
          "2019-04-01T00:00:00",
          "2019-05-01T00:00:00",
          "2019-06-01T00:00:00",
          "2019-07-01T00:00:00",
          "2019-08-01T00:00:00",
          "2019-09-01T00:00:00",
          "2019-10-01T00:00:00",
          "2019-11-01T00:00:00",
          "2019-12-01T00:00:00",
          "2020-01-01T00:00:00",
          "2020-02-01T00:00:00",
          "2020-03-01T00:00:00",
          "2020-04-01T00:00:00",
          "2020-05-01T00:00:00",
          "2020-06-01T00:00:00",
          "2020-07-01T00:00:00",
          "2020-08-01T00:00:00",
          "2020-09-01T00:00:00",
          "2020-10-01T00:00:00",
          "2020-11-01T00:00:00",
          "2020-12-01T00:00:00",
          "2021-01-01T00:00:00",
          "2021-02-01T00:00:00",
          "2021-03-01T00:00:00",
          "2021-04-01T00:00:00",
          "2021-05-01T00:00:00",
          "2021-06-01T00:00:00",
          "2021-07-01T00:00:00",
          "2021-08-01T00:00:00",
          "2021-09-01T00:00:00",
          "2021-10-01T00:00:00",
          "2021-11-01T00:00:00",
          "2021-12-01T00:00:00",
          "2022-01-01T00:00:00",
          "2022-02-01T00:00:00",
          "2022-03-01T00:00:00",
          "2022-04-01T00:00:00",
          "2022-05-01T00:00:00",
          "2022-06-01T00:00:00",
          "2022-07-01T00:00:00",
          "2022-08-01T00:00:00",
          "2022-09-01T00:00:00",
          "2022-10-01T00:00:00",
          "2022-11-01T00:00:00",
          "2022-12-01T00:00:00",
          "2023-01-01T00:00:00",
          "2023-02-01T00:00:00",
          "2023-03-01T00:00:00",
          "2023-04-01T00:00:00",
          "2023-05-01T00:00:00",
          "2023-06-01T00:00:00",
          "2023-07-01T00:00:00",
          "2023-08-01T00:00:00",
          "2023-09-01T00:00:00",
          "2023-10-01T00:00:00",
          "2023-11-01T00:00:00",
          "2023-12-01T00:00:00"
         ],
         "xaxis": "x",
         "y": [
          0.15859053333764736,
          0.15306816577470536,
          0.15622167160215308,
          0.1630799190723002,
          0.15996905393462413,
          0.1599032778076786,
          0.1484229425191569,
          0.14580984399669197,
          0.15098961230124883,
          0.15499722217900289,
          0.14909574496729255,
          0.14641994721182783,
          0.14501229728084067,
          0.14423352612591384,
          0.13869952805458968,
          0.14167717498821325,
          0.15078624733483684,
          0.14735682605620798,
          0.15596245086382796,
          0.14497235172942458,
          0.14940212932265984,
          0.1445387488877462,
          0.14354599015594,
          0.13802471510320183,
          0.14337051967131842,
          0.15105431628248883,
          0.1473412596435265,
          0.15351661906725364,
          0.15204984922021295,
          0.15536034636005647,
          0.16556612283826913,
          0.17588876293191263,
          0.1720430684385215,
          0.15256742880109567,
          0.15575954678981566,
          0.15900413487226148,
          0.14894080827118242,
          0.16436723103305678,
          0.17901793609032585,
          0.17537140786580518,
          0.17062476375619198,
          0.15940362659507568,
          0.1548848160594776,
          0.16761264528852166,
          0.16166537355671137,
          0.16041192098539345,
          0.16853878390984336,
          0.1592937555681981,
          0.1662441103882155,
          0.16120010453102585,
          0.15315257352945597,
          0.16616788215130704,
          0.16845143674429178,
          0.16481593867725197,
          0.16610462510409577,
          0.16630742068611873,
          0.1682135102026289,
          0.1663448950379629,
          0.15520222638310127,
          0.15711159957046777,
          0.12893121228290907,
          0.1280266475396176,
          0.12846138400605364,
          0.13983818553069366,
          0.13576361328342437,
          0.12774876811066868,
          0.14372780330316928,
          0.13155223782869105,
          0.1317643567554853,
          0.12990213775812975,
          0.13721270261142485,
          0.13132029865920067,
          0.13961302089560051,
          0.13415720232821485,
          0.12765443635225748,
          0.13950702654989658,
          0.14095226323418447,
          0.13364653987062014,
          0.1401326037650494,
          0.13803126657581394,
          0.14802311763170048,
          0.143112874597888,
          0.15100915109081417,
          0.14920098325178796,
          0.14850502003523292,
          0.16023902385518404,
          0.15671911238357764,
          0.15260914171555837,
          0.14691984921284157,
          0.15960129933890455,
          0.14969266681505938,
          0.16387681895610576,
          0.15464502606788347,
          0.16430663327609307,
          0.1609280161861882,
          0.17507847535535623,
          0.16304278262597136,
          0.1572398575789363,
          0.13011679262559533,
          0.1270016947594521,
          0.12401459081751247,
          0.1767963759757228,
          0.1848574754084508,
          0.1726501234194644,
          0.1766920803690358,
          0.18263776537557994,
          0.17688721457561646,
          0.1744631682579552,
          0.1845323419024048,
          0.18462285328106418,
          0.18453891733066954,
          0.18151789235584312,
          0.1862126031153246,
          0.17775177248152202,
          0.17079422022508822,
          0.16708560863716237,
          0.1659831070223378,
          0.17732823886406826,
          0.16789322392856976,
          0.16984750868758913,
          0.15770814017982562,
          0.16911889751185202,
          0.16648851514428925,
          0.1826047552811496,
          0.2718353957734837,
          0.260813768390875,
          0.26556250937545717,
          0.2559855290345782,
          0.26542463356030116,
          0.28719409816608277,
          0.29829627445877277,
          0.27244166968906214,
          0.24479107569471967,
          0.24855775634892413,
          0.25637925718112103,
          0.21001211097002448,
          0.17501698555986633,
          0.1601800154685996,
          0.17018815772778143,
          0.1417858741088672,
          0.15731240926427714,
          0.16422944977481738,
          0.1643085566040929,
          0.15076335820617545,
          0.1521865375365983,
          0.15263857932139333,
          0.1568649928870708,
          0.15584633740751574,
          0.15227443577104352,
          0.1589070898691445,
          0.15879179210149297,
          0.16136099181110444,
          0.16774019420502995,
          0.15584951607737618,
          0.1579989783780063,
          0.15948137539952295,
          0.15247414416912267,
          0.1528299074211005,
          0.1459220990350934,
          0.19912116943748542,
          0.18863534112195904,
          0.16665372973615852,
          0.1713720586241554,
          0.17076783014950905,
          0.18004280836513567,
          0.1566159654529452,
          0.18881427971027612,
          0.19381732669245835,
          0.183803744973455,
          0.1905644842716147,
          0.20356144507307006,
          0.1880889116982786,
          0.1920912370693299,
          0.18204592332775207,
          0.18061101923915648,
          0.17388177622837084,
          0.18002078290326884,
          0.1696581524321257,
          0.18834456460371518,
          0.16598255384440158,
          0.18803724476135147,
          0.1770966833755849,
          0.16410852033880055,
          0.16015349714677737,
          0.15150214835013798,
          0.17109667212581875,
          0.16607740830900455,
          0.170345431505319,
          0.15841527777344228,
          0.16525903998022837,
          0.1588882561606418,
          0.1805123084850613,
          0.18468342603148805,
          0.17413887352304713,
          0.16023104129411675,
          0.1647268798496089,
          0.15905767546788102,
          0.2518349373566296,
          0.25135265036409105,
          0.25458138116968965,
          0.25139709749561423,
          0.2586747531552435,
          0.2700655005549235,
          0.30162213912547114
         ],
         "yaxis": "y"
        },
        {
         "fillpattern": {
          "shape": ""
         },
         "hovertemplate": "Cargo Source=non-ally<br>Time=%{x}<br>Share of Total Capacity=%{y}<extra></extra>",
         "legendgroup": "non-ally",
         "line": {
          "color": "#00CC96"
         },
         "marker": {
          "symbol": "circle"
         },
         "mode": "lines",
         "name": "non-ally",
         "orientation": "v",
         "showlegend": true,
         "stackgroup": "1",
         "type": "scatter",
         "x": [
          "2007-01-01T00:00:00",
          "2007-02-01T00:00:00",
          "2007-03-01T00:00:00",
          "2007-04-01T00:00:00",
          "2007-05-01T00:00:00",
          "2007-06-01T00:00:00",
          "2007-07-01T00:00:00",
          "2007-08-01T00:00:00",
          "2007-09-01T00:00:00",
          "2007-10-01T00:00:00",
          "2007-11-01T00:00:00",
          "2007-12-01T00:00:00",
          "2008-01-01T00:00:00",
          "2008-02-01T00:00:00",
          "2008-03-01T00:00:00",
          "2008-04-01T00:00:00",
          "2008-05-01T00:00:00",
          "2008-06-01T00:00:00",
          "2008-07-01T00:00:00",
          "2008-08-01T00:00:00",
          "2008-09-01T00:00:00",
          "2008-10-01T00:00:00",
          "2008-11-01T00:00:00",
          "2008-12-01T00:00:00",
          "2009-01-01T00:00:00",
          "2009-02-01T00:00:00",
          "2009-03-01T00:00:00",
          "2009-04-01T00:00:00",
          "2009-05-01T00:00:00",
          "2009-06-01T00:00:00",
          "2009-07-01T00:00:00",
          "2009-08-01T00:00:00",
          "2009-09-01T00:00:00",
          "2009-10-01T00:00:00",
          "2009-11-01T00:00:00",
          "2009-12-01T00:00:00",
          "2010-01-01T00:00:00",
          "2010-02-01T00:00:00",
          "2010-03-01T00:00:00",
          "2010-04-01T00:00:00",
          "2010-05-01T00:00:00",
          "2010-06-01T00:00:00",
          "2010-07-01T00:00:00",
          "2010-08-01T00:00:00",
          "2010-09-01T00:00:00",
          "2010-10-01T00:00:00",
          "2010-11-01T00:00:00",
          "2010-12-01T00:00:00",
          "2011-01-01T00:00:00",
          "2011-02-01T00:00:00",
          "2011-03-01T00:00:00",
          "2011-04-01T00:00:00",
          "2011-05-01T00:00:00",
          "2011-06-01T00:00:00",
          "2011-07-01T00:00:00",
          "2011-08-01T00:00:00",
          "2011-09-01T00:00:00",
          "2011-10-01T00:00:00",
          "2011-11-01T00:00:00",
          "2011-12-01T00:00:00",
          "2012-01-01T00:00:00",
          "2012-02-01T00:00:00",
          "2012-03-01T00:00:00",
          "2012-04-01T00:00:00",
          "2012-05-01T00:00:00",
          "2012-06-01T00:00:00",
          "2012-07-01T00:00:00",
          "2012-08-01T00:00:00",
          "2012-09-01T00:00:00",
          "2012-10-01T00:00:00",
          "2012-11-01T00:00:00",
          "2012-12-01T00:00:00",
          "2013-01-01T00:00:00",
          "2013-02-01T00:00:00",
          "2013-03-01T00:00:00",
          "2013-04-01T00:00:00",
          "2013-05-01T00:00:00",
          "2013-06-01T00:00:00",
          "2013-07-01T00:00:00",
          "2013-08-01T00:00:00",
          "2013-09-01T00:00:00",
          "2013-10-01T00:00:00",
          "2013-11-01T00:00:00",
          "2013-12-01T00:00:00",
          "2014-01-01T00:00:00",
          "2014-02-01T00:00:00",
          "2014-03-01T00:00:00",
          "2014-04-01T00:00:00",
          "2014-05-01T00:00:00",
          "2014-06-01T00:00:00",
          "2014-07-01T00:00:00",
          "2014-08-01T00:00:00",
          "2014-09-01T00:00:00",
          "2014-10-01T00:00:00",
          "2014-11-01T00:00:00",
          "2014-12-01T00:00:00",
          "2015-01-01T00:00:00",
          "2015-02-01T00:00:00",
          "2015-03-01T00:00:00",
          "2015-04-01T00:00:00",
          "2015-05-01T00:00:00",
          "2015-06-01T00:00:00",
          "2015-07-01T00:00:00",
          "2015-08-01T00:00:00",
          "2015-09-01T00:00:00",
          "2015-10-01T00:00:00",
          "2015-11-01T00:00:00",
          "2015-12-01T00:00:00",
          "2016-01-01T00:00:00",
          "2016-02-01T00:00:00",
          "2016-03-01T00:00:00",
          "2016-04-01T00:00:00",
          "2016-05-01T00:00:00",
          "2016-06-01T00:00:00",
          "2016-07-01T00:00:00",
          "2016-08-01T00:00:00",
          "2016-09-01T00:00:00",
          "2016-10-01T00:00:00",
          "2016-11-01T00:00:00",
          "2016-12-01T00:00:00",
          "2017-01-01T00:00:00",
          "2017-02-01T00:00:00",
          "2017-03-01T00:00:00",
          "2017-04-01T00:00:00",
          "2017-05-01T00:00:00",
          "2017-06-01T00:00:00",
          "2017-07-01T00:00:00",
          "2017-08-01T00:00:00",
          "2017-09-01T00:00:00",
          "2017-10-01T00:00:00",
          "2017-11-01T00:00:00",
          "2017-12-01T00:00:00",
          "2018-01-01T00:00:00",
          "2018-02-01T00:00:00",
          "2018-03-01T00:00:00",
          "2018-04-01T00:00:00",
          "2018-05-01T00:00:00",
          "2018-06-01T00:00:00",
          "2018-07-01T00:00:00",
          "2018-08-01T00:00:00",
          "2018-09-01T00:00:00",
          "2018-10-01T00:00:00",
          "2018-11-01T00:00:00",
          "2018-12-01T00:00:00",
          "2019-01-01T00:00:00",
          "2019-02-01T00:00:00",
          "2019-03-01T00:00:00",
          "2019-04-01T00:00:00",
          "2019-05-01T00:00:00",
          "2019-06-01T00:00:00",
          "2019-07-01T00:00:00",
          "2019-08-01T00:00:00",
          "2019-09-01T00:00:00",
          "2019-10-01T00:00:00",
          "2019-11-01T00:00:00",
          "2019-12-01T00:00:00",
          "2020-01-01T00:00:00",
          "2020-02-01T00:00:00",
          "2020-03-01T00:00:00",
          "2020-04-01T00:00:00",
          "2020-05-01T00:00:00",
          "2020-06-01T00:00:00",
          "2020-07-01T00:00:00",
          "2020-08-01T00:00:00",
          "2020-09-01T00:00:00",
          "2020-10-01T00:00:00",
          "2020-11-01T00:00:00",
          "2020-12-01T00:00:00",
          "2021-01-01T00:00:00",
          "2021-02-01T00:00:00",
          "2021-03-01T00:00:00",
          "2021-04-01T00:00:00",
          "2021-05-01T00:00:00",
          "2021-06-01T00:00:00",
          "2021-07-01T00:00:00",
          "2021-08-01T00:00:00",
          "2021-09-01T00:00:00",
          "2021-10-01T00:00:00",
          "2021-11-01T00:00:00",
          "2021-12-01T00:00:00",
          "2022-01-01T00:00:00",
          "2022-02-01T00:00:00",
          "2022-03-01T00:00:00",
          "2022-04-01T00:00:00",
          "2022-05-01T00:00:00",
          "2022-06-01T00:00:00",
          "2022-07-01T00:00:00",
          "2022-08-01T00:00:00",
          "2022-09-01T00:00:00",
          "2022-10-01T00:00:00",
          "2022-11-01T00:00:00",
          "2022-12-01T00:00:00",
          "2023-01-01T00:00:00",
          "2023-02-01T00:00:00",
          "2023-03-01T00:00:00",
          "2023-04-01T00:00:00",
          "2023-05-01T00:00:00",
          "2023-06-01T00:00:00",
          "2023-07-01T00:00:00",
          "2023-08-01T00:00:00",
          "2023-09-01T00:00:00",
          "2023-10-01T00:00:00",
          "2023-11-01T00:00:00",
          "2023-12-01T00:00:00"
         ],
         "xaxis": "x",
         "y": [
          0.11376591873870258,
          0.11268979502785922,
          0.11074789717450463,
          0.11471567421338338,
          0.12306587091076354,
          0.11986566362177287,
          0.11604922888720554,
          0.12028248703394873,
          0.11579278535279137,
          0.115723505558299,
          0.11832038463822842,
          0.12714662773073046,
          0.13037773634423636,
          0.12275940481493008,
          0.1289888925967105,
          0.1293625159969253,
          0.12045575692973108,
          0.12034278282986298,
          0.13812528464744545,
          0.13374390111682802,
          0.13444443905025932,
          0.12470921960193161,
          0.13050306179455673,
          0.12801726210517542,
          0.13060841848698657,
          0.13339311736358758,
          0.12550806878798745,
          0.12198984297738329,
          0.12081842648543474,
          0.12617166413119146,
          0.11989999742267923,
          0.12021916521141479,
          0.1223705881406833,
          0.1218703958171743,
          0.1237463281578492,
          0.12635666959809838,
          0.13799465927588345,
          0.12332565366487543,
          0.11529042318890206,
          0.13574156144611088,
          0.1302392137805056,
          0.13866487575559644,
          0.14208414396893085,
          0.12974765904906355,
          0.13136096024833985,
          0.12653710229743056,
          0.11997449061625493,
          0.1222915148079766,
          0.12940318599962553,
          0.12136157152315714,
          0.1193106617647632,
          0.13082682007928267,
          0.13782342998315364,
          0.12864883188178786,
          0.13507139350741262,
          0.13218266304177495,
          0.14302041457785694,
          0.13430866643918987,
          0.13182827383699044,
          0.13581845372522372,
          0.17421271166059188,
          0.17836028516783795,
          0.1872615592428853,
          0.18668577508942186,
          0.1727136807358984,
          0.186629403544927,
          0.18304731156093887,
          0.17960626938137186,
          0.1797003489868521,
          0.1749774960167088,
          0.1769448514287401,
          0.17306574255072413,
          0.17041785881347166,
          0.1744616749198119,
          0.1732107604046774,
          0.16685502913972602,
          0.18322226394983615,
          0.16292616871651425,
          0.17013521939135545,
          0.1705277677700097,
          0.18600604500860515,
          0.1739071465859149,
          0.18205541221574467,
          0.17656568926955446,
          0.18344171193258904,
          0.17173925118086736,
          0.18875976848577836,
          0.17629851911184938,
          0.17863661927380556,
          0.18229287628726099,
          0.18435699746373607,
          0.18706231028628173,
          0.1818345468264902,
          0.17095442332635846,
          0.16960562909843138,
          0.19146241019694413,
          0.17804120374720264,
          0.20263108645968902,
          0.25115379424101164,
          0.25155156110552074,
          0.26377176973340344,
          0.2031864558149436,
          0.1968145892379898,
          0.2051063355249528,
          0.20337045565211498,
          0.204310605976607,
          0.20824010637049845,
          0.2017143928631255,
          0.19927825399616586,
          0.198948803692425,
          0.20040934369965638,
          0.1931465591118912,
          0.19698112390123682,
          0.1824985974153959,
          0.19719461330775315,
          0.2058252771462166,
          0.19510334553333963,
          0.20747536020482912,
          0.19428144698101973,
          0.19542892075488513,
          0.21068967946521824,
          0.2139622669482433,
          0.1873440281753077,
          0.1808887060641408,
          0.12100729167317545,
          0.13817093715135031,
          0.1453982496927301,
          0.14286621255062976,
          0.12602985873289854,
          0.11796058992228729,
          0.11641011448212112,
          0.14277123031263708,
          0.13114187842261946,
          0.14860851150288787,
          0.14708606899422622,
          0.1698724521771084,
          0.1884856676658807,
          0.17240897706889047,
          0.17592467699536962,
          0.2088732610131511,
          0.20796416152838898,
          0.20065019366442105,
          0.18794448502212802,
          0.20698597813694125,
          0.21780267595316322,
          0.20384185277393832,
          0.1897264456968293,
          0.20490215056999334,
          0.19933512007078025,
          0.202601716356916,
          0.21046904469748642,
          0.21038093326611418,
          0.1923556756751978,
          0.21954496000910304,
          0.20027686765934688,
          0.19855900459298748,
          0.19489950855337915,
          0.20979172913967364,
          0.1864463965040887,
          0.18882261978688156,
          0.2177225507147452,
          0.224399319713832,
          0.20121298805548224,
          0.2151408785493399,
          0.21064679715158555,
          0.17915195394458328,
          0.16660678634471582,
          0.13671967323425838,
          0.14265349108685985,
          0.1445243816926041,
          0.14530988678160692,
          0.14146782364807986,
          0.13426106343574618,
          0.1351131557408588,
          0.12168704714012044,
          0.13154740925133185,
          0.14101672701374898,
          0.1408832419717208,
          0.1375187341417623,
          0.15435829790497774,
          0.14388464170479248,
          0.15928147096780917,
          0.13576604357070257,
          0.15797048000814568,
          0.18089424760723657,
          0.15875559583010315,
          0.18185644952518124,
          0.16259811555955517,
          0.17885340536433716,
          0.1743932348461483,
          0.17846020186383446,
          0.16226877440175286,
          0.1584021156824591,
          0.1705146387654734,
          0.1719867472172051,
          0.17775208433998727,
          0.15709297862649055,
          0.07018961438099425,
          0.06819441630211517,
          0.060240487059452494,
          0.06288717360568563,
          0.055126641526889814,
          0.04790622008279735,
          0.0007156331759515872
         ],
         "yaxis": "y"
        }
       ],
       "layout": {
        "height": 500,
        "legend": {
         "title": {
          "text": "Cargo Source"
         },
         "tracegroupgap": 0
        },
        "template": {
         "data": {
          "bar": [
           {
            "error_x": {
             "color": "#2a3f5f"
            },
            "error_y": {
             "color": "#2a3f5f"
            },
            "marker": {
             "line": {
              "color": "#E5ECF6",
              "width": 0.5
             },
             "pattern": {
              "fillmode": "overlay",
              "size": 10,
              "solidity": 0.2
             }
            },
            "type": "bar"
           }
          ],
          "barpolar": [
           {
            "marker": {
             "line": {
              "color": "#E5ECF6",
              "width": 0.5
             },
             "pattern": {
              "fillmode": "overlay",
              "size": 10,
              "solidity": 0.2
             }
            },
            "type": "barpolar"
           }
          ],
          "carpet": [
           {
            "aaxis": {
             "endlinecolor": "#2a3f5f",
             "gridcolor": "white",
             "linecolor": "white",
             "minorgridcolor": "white",
             "startlinecolor": "#2a3f5f"
            },
            "baxis": {
             "endlinecolor": "#2a3f5f",
             "gridcolor": "white",
             "linecolor": "white",
             "minorgridcolor": "white",
             "startlinecolor": "#2a3f5f"
            },
            "type": "carpet"
           }
          ],
          "choropleth": [
           {
            "colorbar": {
             "outlinewidth": 0,
             "ticks": ""
            },
            "type": "choropleth"
           }
          ],
          "contour": [
           {
            "colorbar": {
             "outlinewidth": 0,
             "ticks": ""
            },
            "colorscale": [
             [
              0,
              "#0d0887"
             ],
             [
              0.1111111111111111,
              "#46039f"
             ],
             [
              0.2222222222222222,
              "#7201a8"
             ],
             [
              0.3333333333333333,
              "#9c179e"
             ],
             [
              0.4444444444444444,
              "#bd3786"
             ],
             [
              0.5555555555555556,
              "#d8576b"
             ],
             [
              0.6666666666666666,
              "#ed7953"
             ],
             [
              0.7777777777777778,
              "#fb9f3a"
             ],
             [
              0.8888888888888888,
              "#fdca26"
             ],
             [
              1,
              "#f0f921"
             ]
            ],
            "type": "contour"
           }
          ],
          "contourcarpet": [
           {
            "colorbar": {
             "outlinewidth": 0,
             "ticks": ""
            },
            "type": "contourcarpet"
           }
          ],
          "heatmap": [
           {
            "colorbar": {
             "outlinewidth": 0,
             "ticks": ""
            },
            "colorscale": [
             [
              0,
              "#0d0887"
             ],
             [
              0.1111111111111111,
              "#46039f"
             ],
             [
              0.2222222222222222,
              "#7201a8"
             ],
             [
              0.3333333333333333,
              "#9c179e"
             ],
             [
              0.4444444444444444,
              "#bd3786"
             ],
             [
              0.5555555555555556,
              "#d8576b"
             ],
             [
              0.6666666666666666,
              "#ed7953"
             ],
             [
              0.7777777777777778,
              "#fb9f3a"
             ],
             [
              0.8888888888888888,
              "#fdca26"
             ],
             [
              1,
              "#f0f921"
             ]
            ],
            "type": "heatmap"
           }
          ],
          "heatmapgl": [
           {
            "colorbar": {
             "outlinewidth": 0,
             "ticks": ""
            },
            "colorscale": [
             [
              0,
              "#0d0887"
             ],
             [
              0.1111111111111111,
              "#46039f"
             ],
             [
              0.2222222222222222,
              "#7201a8"
             ],
             [
              0.3333333333333333,
              "#9c179e"
             ],
             [
              0.4444444444444444,
              "#bd3786"
             ],
             [
              0.5555555555555556,
              "#d8576b"
             ],
             [
              0.6666666666666666,
              "#ed7953"
             ],
             [
              0.7777777777777778,
              "#fb9f3a"
             ],
             [
              0.8888888888888888,
              "#fdca26"
             ],
             [
              1,
              "#f0f921"
             ]
            ],
            "type": "heatmapgl"
           }
          ],
          "histogram": [
           {
            "marker": {
             "pattern": {
              "fillmode": "overlay",
              "size": 10,
              "solidity": 0.2
             }
            },
            "type": "histogram"
           }
          ],
          "histogram2d": [
           {
            "colorbar": {
             "outlinewidth": 0,
             "ticks": ""
            },
            "colorscale": [
             [
              0,
              "#0d0887"
             ],
             [
              0.1111111111111111,
              "#46039f"
             ],
             [
              0.2222222222222222,
              "#7201a8"
             ],
             [
              0.3333333333333333,
              "#9c179e"
             ],
             [
              0.4444444444444444,
              "#bd3786"
             ],
             [
              0.5555555555555556,
              "#d8576b"
             ],
             [
              0.6666666666666666,
              "#ed7953"
             ],
             [
              0.7777777777777778,
              "#fb9f3a"
             ],
             [
              0.8888888888888888,
              "#fdca26"
             ],
             [
              1,
              "#f0f921"
             ]
            ],
            "type": "histogram2d"
           }
          ],
          "histogram2dcontour": [
           {
            "colorbar": {
             "outlinewidth": 0,
             "ticks": ""
            },
            "colorscale": [
             [
              0,
              "#0d0887"
             ],
             [
              0.1111111111111111,
              "#46039f"
             ],
             [
              0.2222222222222222,
              "#7201a8"
             ],
             [
              0.3333333333333333,
              "#9c179e"
             ],
             [
              0.4444444444444444,
              "#bd3786"
             ],
             [
              0.5555555555555556,
              "#d8576b"
             ],
             [
              0.6666666666666666,
              "#ed7953"
             ],
             [
              0.7777777777777778,
              "#fb9f3a"
             ],
             [
              0.8888888888888888,
              "#fdca26"
             ],
             [
              1,
              "#f0f921"
             ]
            ],
            "type": "histogram2dcontour"
           }
          ],
          "mesh3d": [
           {
            "colorbar": {
             "outlinewidth": 0,
             "ticks": ""
            },
            "type": "mesh3d"
           }
          ],
          "parcoords": [
           {
            "line": {
             "colorbar": {
              "outlinewidth": 0,
              "ticks": ""
             }
            },
            "type": "parcoords"
           }
          ],
          "pie": [
           {
            "automargin": true,
            "type": "pie"
           }
          ],
          "scatter": [
           {
            "fillpattern": {
             "fillmode": "overlay",
             "size": 10,
             "solidity": 0.2
            },
            "type": "scatter"
           }
          ],
          "scatter3d": [
           {
            "line": {
             "colorbar": {
              "outlinewidth": 0,
              "ticks": ""
             }
            },
            "marker": {
             "colorbar": {
              "outlinewidth": 0,
              "ticks": ""
             }
            },
            "type": "scatter3d"
           }
          ],
          "scattercarpet": [
           {
            "marker": {
             "colorbar": {
              "outlinewidth": 0,
              "ticks": ""
             }
            },
            "type": "scattercarpet"
           }
          ],
          "scattergeo": [
           {
            "marker": {
             "colorbar": {
              "outlinewidth": 0,
              "ticks": ""
             }
            },
            "type": "scattergeo"
           }
          ],
          "scattergl": [
           {
            "marker": {
             "colorbar": {
              "outlinewidth": 0,
              "ticks": ""
             }
            },
            "type": "scattergl"
           }
          ],
          "scattermapbox": [
           {
            "marker": {
             "colorbar": {
              "outlinewidth": 0,
              "ticks": ""
             }
            },
            "type": "scattermapbox"
           }
          ],
          "scatterpolar": [
           {
            "marker": {
             "colorbar": {
              "outlinewidth": 0,
              "ticks": ""
             }
            },
            "type": "scatterpolar"
           }
          ],
          "scatterpolargl": [
           {
            "marker": {
             "colorbar": {
              "outlinewidth": 0,
              "ticks": ""
             }
            },
            "type": "scatterpolargl"
           }
          ],
          "scatterternary": [
           {
            "marker": {
             "colorbar": {
              "outlinewidth": 0,
              "ticks": ""
             }
            },
            "type": "scatterternary"
           }
          ],
          "surface": [
           {
            "colorbar": {
             "outlinewidth": 0,
             "ticks": ""
            },
            "colorscale": [
             [
              0,
              "#0d0887"
             ],
             [
              0.1111111111111111,
              "#46039f"
             ],
             [
              0.2222222222222222,
              "#7201a8"
             ],
             [
              0.3333333333333333,
              "#9c179e"
             ],
             [
              0.4444444444444444,
              "#bd3786"
             ],
             [
              0.5555555555555556,
              "#d8576b"
             ],
             [
              0.6666666666666666,
              "#ed7953"
             ],
             [
              0.7777777777777778,
              "#fb9f3a"
             ],
             [
              0.8888888888888888,
              "#fdca26"
             ],
             [
              1,
              "#f0f921"
             ]
            ],
            "type": "surface"
           }
          ],
          "table": [
           {
            "cells": {
             "fill": {
              "color": "#EBF0F8"
             },
             "line": {
              "color": "white"
             }
            },
            "header": {
             "fill": {
              "color": "#C8D4E3"
             },
             "line": {
              "color": "white"
             }
            },
            "type": "table"
           }
          ]
         },
         "layout": {
          "annotationdefaults": {
           "arrowcolor": "#2a3f5f",
           "arrowhead": 0,
           "arrowwidth": 1
          },
          "autotypenumbers": "strict",
          "coloraxis": {
           "colorbar": {
            "outlinewidth": 0,
            "ticks": ""
           }
          },
          "colorscale": {
           "diverging": [
            [
             0,
             "#8e0152"
            ],
            [
             0.1,
             "#c51b7d"
            ],
            [
             0.2,
             "#de77ae"
            ],
            [
             0.3,
             "#f1b6da"
            ],
            [
             0.4,
             "#fde0ef"
            ],
            [
             0.5,
             "#f7f7f7"
            ],
            [
             0.6,
             "#e6f5d0"
            ],
            [
             0.7,
             "#b8e186"
            ],
            [
             0.8,
             "#7fbc41"
            ],
            [
             0.9,
             "#4d9221"
            ],
            [
             1,
             "#276419"
            ]
           ],
           "sequential": [
            [
             0,
             "#0d0887"
            ],
            [
             0.1111111111111111,
             "#46039f"
            ],
            [
             0.2222222222222222,
             "#7201a8"
            ],
            [
             0.3333333333333333,
             "#9c179e"
            ],
            [
             0.4444444444444444,
             "#bd3786"
            ],
            [
             0.5555555555555556,
             "#d8576b"
            ],
            [
             0.6666666666666666,
             "#ed7953"
            ],
            [
             0.7777777777777778,
             "#fb9f3a"
            ],
            [
             0.8888888888888888,
             "#fdca26"
            ],
            [
             1,
             "#f0f921"
            ]
           ],
           "sequentialminus": [
            [
             0,
             "#0d0887"
            ],
            [
             0.1111111111111111,
             "#46039f"
            ],
            [
             0.2222222222222222,
             "#7201a8"
            ],
            [
             0.3333333333333333,
             "#9c179e"
            ],
            [
             0.4444444444444444,
             "#bd3786"
            ],
            [
             0.5555555555555556,
             "#d8576b"
            ],
            [
             0.6666666666666666,
             "#ed7953"
            ],
            [
             0.7777777777777778,
             "#fb9f3a"
            ],
            [
             0.8888888888888888,
             "#fdca26"
            ],
            [
             1,
             "#f0f921"
            ]
           ]
          },
          "colorway": [
           "#636efa",
           "#EF553B",
           "#00cc96",
           "#ab63fa",
           "#FFA15A",
           "#19d3f3",
           "#FF6692",
           "#B6E880",
           "#FF97FF",
           "#FECB52"
          ],
          "font": {
           "color": "#2a3f5f"
          },
          "geo": {
           "bgcolor": "white",
           "lakecolor": "white",
           "landcolor": "#E5ECF6",
           "showlakes": true,
           "showland": true,
           "subunitcolor": "white"
          },
          "hoverlabel": {
           "align": "left"
          },
          "hovermode": "closest",
          "mapbox": {
           "style": "light"
          },
          "paper_bgcolor": "white",
          "plot_bgcolor": "#E5ECF6",
          "polar": {
           "angularaxis": {
            "gridcolor": "white",
            "linecolor": "white",
            "ticks": ""
           },
           "bgcolor": "#E5ECF6",
           "radialaxis": {
            "gridcolor": "white",
            "linecolor": "white",
            "ticks": ""
           }
          },
          "scene": {
           "xaxis": {
            "backgroundcolor": "#E5ECF6",
            "gridcolor": "white",
            "gridwidth": 2,
            "linecolor": "white",
            "showbackground": true,
            "ticks": "",
            "zerolinecolor": "white"
           },
           "yaxis": {
            "backgroundcolor": "#E5ECF6",
            "gridcolor": "white",
            "gridwidth": 2,
            "linecolor": "white",
            "showbackground": true,
            "ticks": "",
            "zerolinecolor": "white"
           },
           "zaxis": {
            "backgroundcolor": "#E5ECF6",
            "gridcolor": "white",
            "gridwidth": 2,
            "linecolor": "white",
            "showbackground": true,
            "ticks": "",
            "zerolinecolor": "white"
           }
          },
          "shapedefaults": {
           "line": {
            "color": "#2a3f5f"
           }
          },
          "ternary": {
           "aaxis": {
            "gridcolor": "white",
            "linecolor": "white",
            "ticks": ""
           },
           "baxis": {
            "gridcolor": "white",
            "linecolor": "white",
            "ticks": ""
           },
           "bgcolor": "#E5ECF6",
           "caxis": {
            "gridcolor": "white",
            "linecolor": "white",
            "ticks": ""
           }
          },
          "title": {
           "x": 0.05
          },
          "xaxis": {
           "automargin": true,
           "gridcolor": "white",
           "linecolor": "white",
           "ticks": "",
           "title": {
            "standoff": 15
           },
           "zerolinecolor": "white",
           "zerolinewidth": 2
          },
          "yaxis": {
           "automargin": true,
           "gridcolor": "white",
           "linecolor": "white",
           "ticks": "",
           "title": {
            "standoff": 15
           },
           "zerolinecolor": "white",
           "zerolinewidth": 2
          }
         }
        },
        "title": {
         "text": "Cargo Source Over Time"
        },
        "width": 900,
        "xaxis": {
         "anchor": "y",
         "domain": [
          0,
          1
         ],
         "title": {
          "text": "Time"
         }
        },
        "yaxis": {
         "anchor": "x",
         "domain": [
          0,
          1
         ],
         "title": {
          "text": "Share of Total Capacity"
         }
        }
       }
      }
     },
     "metadata": {},
     "output_type": "display_data"
    }
   ],
   "source": [
    "df = (\n",
    "    main_lf\n",
    "    #get cargo source column\n",
    "    .with_columns(\n",
    "        pl.when(pl.col('primary_cargo')==1)\n",
    "        .then(pl.lit('self'))\n",
    "        .otherwise(\n",
    "            pl.when(pl.col('alliance')==pl.col('owner_alliance'))\n",
    "            .then(pl.lit('ally'))\n",
    "            .otherwise(pl.lit('non-ally'))\n",
    "        )\n",
    "        .alias('cargo_source')\n",
    "    )\n",
    "    #group by source and year\n",
    "    .group_by('cargo_source', 'month')\n",
    "    .agg(\n",
    "        pl.col('teus').sum()\n",
    "    )\n",
    "    .with_columns((pl.col('teus')/pl.col('teus').sum().over('month')).alias('prop_volume'))\n",
    "    .cast({'cargo_source':pl.Utf8})\n",
    "    .sort(by=['month'])\n",
    "    .collect()\n",
    ")\n",
    "\n",
    "px.area(\n",
    "    df.with_columns(pl.col('month').str.to_datetime('%Y%m')), x='month', y='prop_volume',\n",
    "    color='cargo_source',\n",
    "    color_discrete_map={\n",
    "        'self':'#636EFA',\n",
    "        'ally':'#EF553B',\n",
    "        'non-ally':'#00CC96'\n",
    "    },\n",
    "    labels={\n",
    "        'prop_volume':'Share of Total Capacity',\n",
    "        'cargo_source':'Cargo Source',\n",
    "        'month':'Time',\n",
    "        'self':'Self',\n",
    "        'ally':'Allies',\n",
    "        'non-ally':'Others'\n",
    "    },\n",
    "    category_orders={\n",
    "        'cargo_source':['self', 'ally', 'non-ally']\n",
    "    },\n",
    "    width=900,\n",
    "    height=500,\n",
    "    title='Cargo Source Over Time'\n",
    ")"
   ]
  },
  {
   "cell_type": "code",
   "execution_count": null,
   "metadata": {},
   "outputs": [],
   "source": [
    "px.scatter(\n",
    "    lane_month_lf.select('teus', 'hhi_lane', 'month')\n",
    "    .with_columns(pl.col('month').str.to_date('%Y%m').dt.year().alias('year'))\n",
    "    .collect(),\n",
    "    y='teus', x='hhi_lane',\n",
    "    animation_frame='year'\n",
    ")"
   ]
  },
  {
   "cell_type": "code",
   "execution_count": null,
   "metadata": {},
   "outputs": [],
   "source": [
    "def sharing_by_carrier_med(lf, scac, carrier_name=None):\n",
    "    '''\n",
    "    ad hoc function to inspect sharing by scac over time for a given carrier\n",
    "    inputs:\n",
    "        scac - str - the SCAC for the carrier of interest\n",
    "        carrier_name - str - the string name of the carrier of interest for plot title\n",
    "    '''\n",
    "    #get top sharing partners\n",
    "    top_partners = (\n",
    "        lf\n",
    "        #get shared cargo col\n",
    "        .with_columns((pl.col('teus')*(1-pl.col('primary_cargo'))).alias('shared_teus'))\n",
    "        #only maersk vessels but not maersk cargo\n",
    "        .filter((pl.col('vessel_owner')==scac)&(pl.col('scac')!=scac))\n",
    "        #group by carrier\n",
    "        .group_by('carrier_name')\n",
    "        .agg(pl.col('shared_teus').sum())\n",
    "        #filter to top 10\n",
    "        .sort(by='shared_teus', descending=True)\n",
    "        .limit(5)\n",
    "        #retail only carriers\n",
    "        .drop('shared_teus')\n",
    "        #collect\n",
    "        .collect()\n",
    "        #convert from dataframe to series\n",
    "        .to_series()\n",
    "    )\n",
    "\n",
    "    #make df for graphing\n",
    "    df = (\n",
    "        lf\n",
    "        #only maersk vessels but not maersk cargo\n",
    "        .filter((pl.col('vessel_owner')==scac)&(pl.col('scac')!=scac))\n",
    "        #create partners column\n",
    "        .with_columns(\n",
    "            pl.when(pl.col('carrier_name').is_in(top_partners))\n",
    "            .then(pl.col('carrier_name'))\n",
    "            .otherwise(pl.lit('Other Carriers'))\n",
    "            .alias('partner')\n",
    "        )\n",
    "        #get percentages of other carriers\n",
    "        .group_by('carrier_name', 'partner','month')\n",
    "        .agg(pl.col('teus').sum())\n",
    "        .with_columns(pl.col('teus').sum().over('month').alias('total_shared'))\n",
    "        .with_columns((pl.col('teus')/pl.col('total_shared')).alias('prop_shared'))\n",
    "        .with_columns(pl.col('month').str.to_datetime('%Y%m'))\n",
    "        #sort for plotting\n",
    "        .sort(by='month')\n",
    "        .cast({'partner':pl.Utf8})\n",
    "        .collect()\n",
    "    )\n",
    "    #plot\n",
    "    fig = px.bar(df, x='month', y='prop_shared', color='partner', \n",
    "                title=str('Proportion of shared cargo on '+carrier_name+' ships by Carrier') if carrier_name else str('Proportion of shared cargo on '+scac+' ships by Carrier'),\n",
    "                labels={\n",
    "                    'prop_shared':'Percentage of Shared Cargo',\n",
    "                    'month':'Time',\n",
    "                    'partner':'Carrier'\n",
    "                },\n",
    "                width=1100,\n",
    "                height=500,\n",
    "                category_orders={\n",
    "                    'partner':['Other Carriers', 'SAFMARINE', 'ANL CONTAINER LINE',  'CMA-CGM','HYUNDAI', 'MEDITERRANEAN SHIPPING COMPANY']\n",
    "                }\n",
    "    )\n",
    "    fig.add_vline(x=datetime.strptime(\"2015-01-01\", \"%Y-%m-%d\").timestamp() * 1000, \n",
    "                  line_width=4, line_dash='dash',\n",
    "                  annotation_text=\"2M Alliance begins\"\n",
    "                  )\n",
    "    fig.show()"
   ]
  },
  {
   "cell_type": "code",
   "execution_count": null,
   "metadata": {},
   "outputs": [],
   "source": [
    "sharing_by_carrier_med(main_lf, 'MSCU', 'Mediterranean')"
   ]
  },
  {
   "cell_type": "code",
   "execution_count": null,
   "metadata": {},
   "outputs": [],
   "source": [
    "def sharing_by_carrier_evergreen(lf, scac, carrier_name=None):\n",
    "    '''\n",
    "    ad hoc function to inspect sharing by scac over time for a given carrier\n",
    "    inputs:\n",
    "        scac - str - the SCAC for the carrier of interest\n",
    "        carrier_name - str - the string name of the carrier of interest for plot title\n",
    "    '''\n",
    "    #get top sharing partners\n",
    "    top_partners = (\n",
    "        lf\n",
    "        #get shared cargo col\n",
    "        .with_columns((pl.col('teus')*(1-pl.col('primary_cargo'))).alias('shared_teus'))\n",
    "        #only maersk vessels but not maersk cargo\n",
    "        .filter((pl.col('vessel_owner')==scac)&(pl.col('scac')!=scac))\n",
    "        #group by carrier\n",
    "        .group_by('carrier_name')\n",
    "        .agg(pl.col('shared_teus').sum())\n",
    "        #filter to top 10\n",
    "        .sort(by='shared_teus', descending=True)\n",
    "        .limit(5)\n",
    "        #retail only carriers\n",
    "        .drop('shared_teus')\n",
    "        #collect\n",
    "        .collect()\n",
    "        #convert from dataframe to series\n",
    "        .to_series()\n",
    "    )\n",
    "\n",
    "    #make df for graphing\n",
    "    df = (\n",
    "        lf\n",
    "        #only maersk vessels but not maersk cargo\n",
    "        .filter((pl.col('vessel_owner')==scac)&(pl.col('scac')!=scac))\n",
    "        #create partners column\n",
    "        .with_columns(\n",
    "            pl.when(pl.col('carrier_name').is_in(top_partners))\n",
    "            .then(pl.col('carrier_name'))\n",
    "            .otherwise(pl.lit('Other Carriers'))\n",
    "            .alias('partner')\n",
    "        )\n",
    "        #get percentages of other carriers\n",
    "        .group_by('carrier_name', 'partner','month')\n",
    "        .agg(pl.col('teus').sum())\n",
    "        .with_columns(pl.col('teus').sum().over('month').alias('total_shared'))\n",
    "        .with_columns((pl.col('teus')/pl.col('total_shared')).alias('prop_shared'))\n",
    "        .with_columns(pl.col('month').str.to_datetime('%Y%m'))\n",
    "        #sort for plotting\n",
    "        .sort(by='month')\n",
    "        .cast({'partner':pl.Utf8})\n",
    "        .collect()\n",
    "    )\n",
    "    #plot\n",
    "    fig = px.bar(df, x='month', y='prop_shared', color='partner', \n",
    "                title=str('Proportion of shared cargo on '+carrier_name+' ships by Carrier') if carrier_name else str('Proportion of shared cargo on '+scac+' ships by Carrier'),\n",
    "                labels={\n",
    "                    'prop_shared':'Percentage of Shared Cargo',\n",
    "                    'month':'Time',\n",
    "                    'partner':'Carrier'\n",
    "                },\n",
    "                width=1100,\n",
    "                height=500,\n",
    "                category_orders={\n",
    "                    'partner':['Other Carriers', 'SAFMARINE', 'ANL CONTAINER LINE',  'CMA-CGM','HYUNDAI', 'MEDITERRANEAN SHIPPING COMPANY']\n",
    "                }\n",
    "    )\n",
    "    fig.add_vline(x=datetime.strptime(\"2017-04-01\", \"%Y-%m-%d\").timestamp() * 1000, \n",
    "                  line_width=4, line_dash='dash',\n",
    "                  annotation_text=\"Joined Ocean Alliance\"\n",
    "                  )\n",
    "    fig.add_vline(x=datetime.strptime(\"2014-04-01\", \"%Y-%m-%d\").timestamp() * 1000, \n",
    "                  line_width=4, line_dash='dash',\n",
    "                  annotation_text=\"Joined CYKHE Alliance\",\n",
    "                  annotation_position=\"top left\"\n",
    "                  )\n",
    "    fig.show()\n",
    "\n",
    "sharing_by_carrier_evergreen(main_lf, 'EGLV', 'Evergreen')"
   ]
  },
  {
   "cell_type": "markdown",
   "metadata": {},
   "source": [
    "#### Visualizing Lane Concentration "
   ]
  },
  {
   "cell_type": "code",
   "execution_count": null,
   "metadata": {},
   "outputs": [],
   "source": [
    "#inspect concentration of volumes by lane\n",
    "\n",
    "#get avg vessel cap\n",
    "mean_vessel_cap = (\n",
    "    main_lf.select(pl.mean('vessel_capacity')).collect()[0,0]\n",
    ")\n",
    "\n",
    "#get top 200 lanes\n",
    "top_200lanes = (\n",
    "    main_lf\n",
    "    .group_by('lane_id')\n",
    "    .agg(pl.col('teus').sum())\n",
    "    .sort(by='teus', descending=True)\n",
    "    .limit(200)\n",
    "    .collect()\n",
    "    .to_series()\n",
    ")\n",
    "\n",
    "#construct lane sizes per month\n",
    "df = (\n",
    "    main_lf\n",
    "    .filter(pl.col('lane_id').is_in(top_200lanes))\n",
    "    .group_by('lane_id', 'month')\n",
    "    .agg(pl.col('teus').sum())\n",
    "    .group_by('lane_id')\n",
    "    .agg(pl.col('teus').mean().alias('avg_monthly_volume'))\n",
    "    .sort(by='avg_monthly_volume', descending=True)\n",
    "    .with_row_index()\n",
    "    .collect()\n",
    ")"
   ]
  },
  {
   "cell_type": "code",
   "execution_count": null,
   "metadata": {},
   "outputs": [],
   "source": [
    "fig = px.bar(\n",
    "    df, x='index', y='avg_monthly_volume', \n",
    "    labels={\n",
    "        'index':'Lane Rank by Average Monthly Volume',\n",
    "        'avg_monthly_volume':'Average Monthly Volume (TEU)'\n",
    "    }, \n",
    "    title='Average Monthly Volume Concentration Across Top 200 Lanes',\n",
    "    width=1100, height=500\n",
    "    )\n",
    "fig.add_hline(y=mean_vessel_cap, annotation_text=('Average Single-vessel Capacity ({} TEUs)').format(round(mean_vessel_cap)))\n",
    "fig.show()"
   ]
  },
  {
   "cell_type": "markdown",
   "metadata": {},
   "source": [
    "## Modeling\n",
    "\n",
    "### Alliance-level Fixed Effects Model\n",
    "\n",
    "$Y_{alt} = \\beta_0 + L_{lt} + A_{at} + AA_{alt} + \\beta_1 A_{at}*AA_{alt} + \\epsilon_{alt}$\n",
    "\n",
    "Where\n",
    "$Y_{alt}$ is the outcome variable of interest (rate, capacity utilization, frequency of service, etc)\n"
   ]
  },
  {
   "cell_type": "markdown",
   "metadata": {},
   "source": [
    "8/17 github test\n"
   ]
  }
 ],
 "metadata": {
  "kernelspec": {
   "display_name": "wsu",
   "language": "python",
   "name": "python3"
  },
  "language_info": {
   "codemirror_mode": {
    "name": "ipython",
    "version": 3
   },
   "file_extension": ".py",
   "mimetype": "text/x-python",
   "name": "python",
   "nbconvert_exporter": "python",
   "pygments_lexer": "ipython3",
   "version": "3.12.0"
  }
 },
 "nbformat": 4,
 "nbformat_minor": 2
}
